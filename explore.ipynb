{
 "cells": [
  {
   "cell_type": "markdown",
   "metadata": {},
   "source": [
    "# Censo Escolar 2023\n",
    "\n",
    "Análise dos dados de infraestrutura das escolas com o objetivo de entender o relacionamento entre a quantidade de matrículas na escola e sua infraestrutura"
   ]
  },
  {
   "cell_type": "markdown",
   "metadata": {},
   "source": [
    "Sugestão: Definir faixas de quantidade de alunos a partir de árvore de decisão e seguir com uma regressão logística multinomial para chegar na probabilidade da quantidade de alunos dentro de cada faixa"
   ]
  },
  {
   "cell_type": "markdown",
   "metadata": {},
   "source": [
    "## Setting Up"
   ]
  },
  {
   "cell_type": "code",
   "execution_count": 349,
   "metadata": {},
   "outputs": [],
   "source": [
    "import pandas as pd\n",
    "import numpy as np\n",
    "import seaborn as sns\n",
    "import matplotlib.pyplot as plt\n",
    "\n",
    "pd.set_option('display.max_columns', None)"
   ]
  },
  {
   "cell_type": "code",
   "execution_count": 350,
   "metadata": {},
   "outputs": [],
   "source": [
    "def basic_exploration(df: pd.DataFrame, col: str, type: str = 'binary'):\n",
    "    # BUG: prints e display não aparecem conforme estruturado na função\n",
    "    if(type in ['binary', 'category']):\n",
    "        print(\"\\nContagem de valores:\")\n",
    "        display(df[col].value_counts(dropna=False))\n",
    "\n",
    "    print(\"\\nQuantidade de valores ausentes\")\n",
    "    display(df[col].isna().value_counts(dropna=False))"
   ]
  },
  {
   "cell_type": "markdown",
   "metadata": {},
   "source": [
    "## Variáveis"
   ]
  },
  {
   "cell_type": "code",
   "execution_count": 351,
   "metadata": {},
   "outputs": [
    {
     "data": {
      "text/plain": [
       "130"
      ]
     },
     "execution_count": 351,
     "metadata": {},
     "output_type": "execute_result"
    }
   ],
   "source": [
    "cols = [\n",
    "'NO_ENTIDADE',\n",
    "'TP_DEPENDENCIA',\n",
    "'TP_CATEGORIA_ESCOLA_PRIVADA',\n",
    "'TP_LOCALIZACAO',\n",
    "'TP_LOCALIZACAO_DIFERENCIADA',\n",
    "'TP_SITUACAO_FUNCIONAMENTO',\n",
    "\n",
    "'IN_LOCAL_FUNC_PREDIO_ESCOLAR',\n",
    "'TP_OCUPACAO_PREDIO_ESCOLAR',\n",
    "'IN_LOCAL_FUNC_SOCIOEDUCATIVO',\n",
    "'IN_LOCAL_FUNC_UNID_PRISIONAL',\n",
    "'IN_LOCAL_FUNC_PRISIONAL_SOCIO',\n",
    "'IN_LOCAL_FUNC_GALPAO',\n",
    "'IN_LOCAL_FUNC_SALAS_OUTRA_ESC',\n",
    "'IN_LOCAL_FUNC_OUTROS',\n",
    "'IN_PREDIO_COMPARTILHADO',\n",
    "\n",
    "'IN_AGUA_POTAVEL',\n",
    "'IN_AGUA_REDE_PUBLICA',\n",
    "'IN_AGUA_POCO_ARTESIANO',\n",
    "'IN_AGUA_CACIMBA',\n",
    "'IN_AGUA_FONTE_RIO',\n",
    "'IN_AGUA_INEXISTENTE',\n",
    "\n",
    "'IN_ENERGIA_REDE_PUBLICA',\n",
    "'IN_ENERGIA_GERADOR_FOSSIL',\n",
    "'IN_ENERGIA_RENOVAVEL',\n",
    "'IN_ENERGIA_INEXISTENTE',\n",
    "\n",
    "'IN_ESGOTO_REDE_PUBLICA',\n",
    "'IN_ESGOTO_FOSSA_SEPTICA',\n",
    "'IN_ESGOTO_FOSSA_COMUM',\n",
    "'IN_ESGOTO_FOSSA',\n",
    "'IN_ESGOTO_INEXISTENTE',\n",
    "\n",
    "'IN_LIXO_SERVICO_COLETA',\n",
    "'IN_LIXO_QUEIMA',\n",
    "'IN_LIXO_ENTERRA',\n",
    "'IN_LIXO_DESTINO_FINAL_PUBLICO',\n",
    "'IN_LIXO_DESCARTA_OUTRA_AREA',\n",
    "\n",
    "'IN_ALMOXARIFADO',\n",
    "'IN_AREA_VERDE',\n",
    "'IN_AUDITORIO',\n",
    "'IN_BANHEIRO',\n",
    "'IN_BANHEIRO_EI',\n",
    "'IN_BANHEIRO_PNE',\n",
    "'IN_BANHEIRO_FUNCIONARIOS',\n",
    "'IN_BANHEIRO_CHUVEIRO',\n",
    "'IN_BIBLIOTECA',\n",
    "'IN_BIBLIOTECA_SALA_LEITURA',\n",
    "'IN_COZINHA',\n",
    "'IN_DESPENSA',\n",
    "'IN_DORMITORIO_ALUNO',\n",
    "'IN_DORMITORIO_PROFESSOR',\n",
    "'IN_LABORATORIO_CIENCIAS',\n",
    "'IN_LABORATORIO_INFORMATICA',\n",
    "'IN_LABORATORIO_EDUC_PROF',\n",
    "'IN_PATIO_COBERTO',\n",
    "'IN_PATIO_DESCOBERTO',\n",
    "'IN_PARQUE_INFANTIL',\n",
    "'IN_PISCINA',\n",
    "'IN_QUADRA_ESPORTES',\n",
    "'IN_QUADRA_ESPORTES_COBERTA',\n",
    "'IN_QUADRA_ESPORTES_DESCOBERTA',\n",
    "'IN_REFEITORIO',\n",
    "'IN_SALA_ATELIE_ARTES',\n",
    "'IN_SALA_MUSICA_CORAL',\n",
    "'IN_SALA_ESTUDIO_DANCA',\n",
    "'IN_SALA_MULTIUSO',\n",
    "'IN_SALA_ESTUDIO_GRAVACAO',\n",
    "'IN_SALA_OFICINAS_EDUC_PROF',\n",
    "'IN_SALA_DIRETORIA',\n",
    "'IN_SALA_LEITURA',\n",
    "'IN_SALA_PROFESSOR',\n",
    "'IN_SALA_REPOUSO_ALUNO',\n",
    "'IN_SECRETARIA',\n",
    "'IN_SALA_ATENDIMENTO_ESPECIAL',\n",
    "'IN_TERREIRAO',\n",
    "'IN_VIVEIRO',\n",
    "'IN_DEPENDENCIAS_OUTRAS',\n",
    "\n",
    "'IN_ACESSIBILIDADE_CORRIMAO',\n",
    "'IN_ACESSIBILIDADE_ELEVADOR',\n",
    "'IN_ACESSIBILIDADE_PISOS_TATEIS',\n",
    "'IN_ACESSIBILIDADE_VAO_LIVRE',\n",
    "'IN_ACESSIBILIDADE_RAMPAS',\n",
    "'IN_ACESSIBILIDADE_SINAL_SONORO',\n",
    "'IN_ACESSIBILIDADE_SINAL_TATIL',\n",
    "'IN_ACESSIBILIDADE_SINAL_VISUAL',\n",
    "'IN_ACESSIBILIDADE_INEXISTENTE',\n",
    "\n",
    "'QT_SALAS_UTILIZADAS_DENTRO',\n",
    "'QT_SALAS_UTILIZADAS_FORA',\n",
    "'QT_SALAS_UTILIZADAS',\n",
    "'QT_SALAS_UTILIZA_CLIMATIZADAS',\n",
    "'QT_SALAS_UTILIZADAS_ACESSIVEIS',\n",
    "\n",
    "'IN_EQUIP_PARABOLICA',\n",
    "'IN_COMPUTADOR',\n",
    "'IN_EQUIP_COPIADORA',\n",
    "'IN_EQUIP_IMPRESSORA',\n",
    "'IN_EQUIP_IMPRESSORA_MULT',\n",
    "'IN_EQUIP_SCANNER',\n",
    "\n",
    "'QT_EQUIP_DVD',\n",
    "'QT_EQUIP_SOM',\n",
    "'QT_EQUIP_TV',\n",
    "'QT_EQUIP_LOUSA_DIGITAL',\n",
    "'QT_EQUIP_MULTIMIDIA',\n",
    "'QT_DESKTOP_ALUNO',\n",
    "'QT_COMP_PORTATIL_ALUNO',\n",
    "'QT_TABLET_ALUNO',\n",
    "\n",
    "'IN_INTERNET',\n",
    "'IN_INTERNET_ALUNOS',\n",
    "'IN_INTERNET_ADMINISTRATIVO',\n",
    "'IN_INTERNET_APRENDIZAGEM',\n",
    "'IN_INTERNET_COMUNIDADE',\n",
    "'IN_ACESSO_INTERNET_COMPUTADOR',\n",
    "'IN_ACES_INTERNET_DISP_PESSOAIS',\n",
    "'TP_REDE_LOCAL',\n",
    "'IN_BANDA_LARGA',\n",
    "\n",
    "'IN_MATERIAL_PED_MULTIMIDIA',\n",
    "'IN_MATERIAL_PED_INFANTIL',\n",
    "'IN_MATERIAL_PED_CIENTIFICO',\n",
    "'IN_MATERIAL_PED_DIFUSAO',\n",
    "'IN_MATERIAL_PED_MUSICAL',\n",
    "'IN_MATERIAL_PED_JOGOS',\n",
    "'IN_MATERIAL_PED_ARTISTICAS',\n",
    "'IN_MATERIAL_PED_PROFISSIONAL',\n",
    "'IN_MATERIAL_PED_DESPORTIVA',\n",
    "'IN_MATERIAL_PED_INDIGENA',\n",
    "'IN_MATERIAL_PED_ETNICO',\n",
    "'IN_MATERIAL_PED_CAMPO',\n",
    "'IN_MATERIAL_PED_BIL_SURDOS',\n",
    "'IN_MATERIAL_PED_NENHUM',\n",
    "\n",
    "'CO_REGIAO',\n",
    "'CO_UF',\n",
    "\n",
    "'IN_EAD', # Utilizar no modelo final\n",
    "'QT_MAT_BAS'\n",
    "]\n",
    "\n",
    "len(cols)"
   ]
  },
  {
   "cell_type": "code",
   "execution_count": 352,
   "metadata": {},
   "outputs": [
    {
     "data": {
      "text/plain": [
       "47"
      ]
     },
     "execution_count": 352,
     "metadata": {},
     "output_type": "execute_result"
    }
   ],
   "source": [
    "cols_matriculas = [\n",
    "'QT_MAT_INF',\n",
    "'QT_MAT_INF_CRE',\n",
    "'QT_MAT_INF_PRE',\n",
    "'QT_MAT_FUND',\n",
    "'QT_MAT_FUND_AI',\n",
    "'QT_MAT_FUND_AI_1',\n",
    "'QT_MAT_FUND_AI_2',\n",
    "'QT_MAT_FUND_AI_3',\n",
    "'QT_MAT_FUND_AI_4',\n",
    "'QT_MAT_FUND_AI_5',\n",
    "'QT_MAT_FUND_AF',\n",
    "'QT_MAT_FUND_AF_6',\n",
    "'QT_MAT_FUND_AF_7',\n",
    "'QT_MAT_FUND_AF_8',\n",
    "'QT_MAT_FUND_AF_9',\n",
    "'QT_MAT_MED',\n",
    "'QT_MAT_MED_PROP',\n",
    "'QT_MAT_MED_PROP_1',\n",
    "'QT_MAT_MED_PROP_2',\n",
    "'QT_MAT_MED_PROP_3',\n",
    "'QT_MAT_MED_PROP_4',\n",
    "'QT_MAT_MED_PROP_NS',\n",
    "'QT_MAT_MED_CT',\n",
    "'QT_MAT_MED_CT_1',\n",
    "'QT_MAT_MED_CT_2',\n",
    "'QT_MAT_MED_CT_3',\n",
    "'QT_MAT_MED_CT_4',\n",
    "'QT_MAT_MED_CT_NS',\n",
    "'QT_MAT_MED_NM',\n",
    "'QT_MAT_MED_NM_1',\n",
    "'QT_MAT_MED_NM_2',\n",
    "'QT_MAT_MED_NM_3',\n",
    "'QT_MAT_MED_NM_4',\n",
    "'QT_MAT_PROF',\n",
    "'QT_MAT_PROF_TEC',\n",
    "'QT_MAT_PROF_TEC_CONC',\n",
    "'QT_MAT_PROF_TEC_SUBS',\n",
    "'QT_MAT_PROF_FIC_CONC',\n",
    "'QT_MAT_EJA',\n",
    "'QT_MAT_EJA_FUND',\n",
    "'QT_MAT_EJA_FUND_AI',\n",
    "'QT_MAT_EJA_FUND_AF',\n",
    "'QT_MAT_EJA_FUND_FIC',\n",
    "'QT_MAT_EJA_MED',\n",
    "'QT_MAT_EJA_MED_NPROF',\n",
    "'QT_MAT_EJA_MED_FIC',\n",
    "'QT_MAT_EJA_MED_TEC']\n",
    "\n",
    "len(cols_matriculas)"
   ]
  },
  {
   "cell_type": "markdown",
   "metadata": {},
   "source": [
    "## Região e UF"
   ]
  },
  {
   "cell_type": "code",
   "execution_count": 353,
   "metadata": {},
   "outputs": [
    {
     "name": "stderr",
     "output_type": "stream",
     "text": [
      "C:\\Users\\cinthia.nagahama.VERT\\AppData\\Local\\Temp\\ipykernel_27684\\3845896179.py:1: DtypeWarning: Columns (31) have mixed types. Specify dtype option on import or set low_memory=False.\n",
      "  df_localizacao = pd.read_csv('data\\\\dados\\\\microdados_ed_basica_2023.csv', sep=';', encoding='ANSI')\n"
     ]
    },
    {
     "data": {
      "text/html": [
       "<div>\n",
       "<style scoped>\n",
       "    .dataframe tbody tr th:only-of-type {\n",
       "        vertical-align: middle;\n",
       "    }\n",
       "\n",
       "    .dataframe tbody tr th {\n",
       "        vertical-align: top;\n",
       "    }\n",
       "\n",
       "    .dataframe thead th {\n",
       "        text-align: right;\n",
       "    }\n",
       "</style>\n",
       "<table border=\"1\" class=\"dataframe\">\n",
       "  <thead>\n",
       "    <tr style=\"text-align: right;\">\n",
       "      <th></th>\n",
       "      <th>CO_UF</th>\n",
       "      <th>SG_UF</th>\n",
       "      <th>CO_REGIAO</th>\n",
       "      <th>NO_REGIAO</th>\n",
       "    </tr>\n",
       "  </thead>\n",
       "  <tbody>\n",
       "    <tr>\n",
       "      <th>0</th>\n",
       "      <td>11</td>\n",
       "      <td>RO</td>\n",
       "      <td>1</td>\n",
       "      <td>Norte</td>\n",
       "    </tr>\n",
       "    <tr>\n",
       "      <th>1</th>\n",
       "      <td>12</td>\n",
       "      <td>AC</td>\n",
       "      <td>1</td>\n",
       "      <td>Norte</td>\n",
       "    </tr>\n",
       "    <tr>\n",
       "      <th>2</th>\n",
       "      <td>13</td>\n",
       "      <td>AM</td>\n",
       "      <td>1</td>\n",
       "      <td>Norte</td>\n",
       "    </tr>\n",
       "    <tr>\n",
       "      <th>3</th>\n",
       "      <td>14</td>\n",
       "      <td>RR</td>\n",
       "      <td>1</td>\n",
       "      <td>Norte</td>\n",
       "    </tr>\n",
       "    <tr>\n",
       "      <th>4</th>\n",
       "      <td>15</td>\n",
       "      <td>PA</td>\n",
       "      <td>1</td>\n",
       "      <td>Norte</td>\n",
       "    </tr>\n",
       "    <tr>\n",
       "      <th>5</th>\n",
       "      <td>16</td>\n",
       "      <td>AP</td>\n",
       "      <td>1</td>\n",
       "      <td>Norte</td>\n",
       "    </tr>\n",
       "    <tr>\n",
       "      <th>6</th>\n",
       "      <td>17</td>\n",
       "      <td>TO</td>\n",
       "      <td>1</td>\n",
       "      <td>Norte</td>\n",
       "    </tr>\n",
       "    <tr>\n",
       "      <th>7</th>\n",
       "      <td>21</td>\n",
       "      <td>MA</td>\n",
       "      <td>2</td>\n",
       "      <td>Nordeste</td>\n",
       "    </tr>\n",
       "    <tr>\n",
       "      <th>8</th>\n",
       "      <td>22</td>\n",
       "      <td>PI</td>\n",
       "      <td>2</td>\n",
       "      <td>Nordeste</td>\n",
       "    </tr>\n",
       "    <tr>\n",
       "      <th>9</th>\n",
       "      <td>23</td>\n",
       "      <td>CE</td>\n",
       "      <td>2</td>\n",
       "      <td>Nordeste</td>\n",
       "    </tr>\n",
       "    <tr>\n",
       "      <th>10</th>\n",
       "      <td>24</td>\n",
       "      <td>RN</td>\n",
       "      <td>2</td>\n",
       "      <td>Nordeste</td>\n",
       "    </tr>\n",
       "    <tr>\n",
       "      <th>11</th>\n",
       "      <td>25</td>\n",
       "      <td>PB</td>\n",
       "      <td>2</td>\n",
       "      <td>Nordeste</td>\n",
       "    </tr>\n",
       "    <tr>\n",
       "      <th>12</th>\n",
       "      <td>26</td>\n",
       "      <td>PE</td>\n",
       "      <td>2</td>\n",
       "      <td>Nordeste</td>\n",
       "    </tr>\n",
       "    <tr>\n",
       "      <th>13</th>\n",
       "      <td>27</td>\n",
       "      <td>AL</td>\n",
       "      <td>2</td>\n",
       "      <td>Nordeste</td>\n",
       "    </tr>\n",
       "    <tr>\n",
       "      <th>14</th>\n",
       "      <td>28</td>\n",
       "      <td>SE</td>\n",
       "      <td>2</td>\n",
       "      <td>Nordeste</td>\n",
       "    </tr>\n",
       "    <tr>\n",
       "      <th>15</th>\n",
       "      <td>29</td>\n",
       "      <td>BA</td>\n",
       "      <td>2</td>\n",
       "      <td>Nordeste</td>\n",
       "    </tr>\n",
       "    <tr>\n",
       "      <th>16</th>\n",
       "      <td>31</td>\n",
       "      <td>MG</td>\n",
       "      <td>3</td>\n",
       "      <td>Sudeste</td>\n",
       "    </tr>\n",
       "    <tr>\n",
       "      <th>17</th>\n",
       "      <td>32</td>\n",
       "      <td>ES</td>\n",
       "      <td>3</td>\n",
       "      <td>Sudeste</td>\n",
       "    </tr>\n",
       "    <tr>\n",
       "      <th>18</th>\n",
       "      <td>33</td>\n",
       "      <td>RJ</td>\n",
       "      <td>3</td>\n",
       "      <td>Sudeste</td>\n",
       "    </tr>\n",
       "    <tr>\n",
       "      <th>19</th>\n",
       "      <td>35</td>\n",
       "      <td>SP</td>\n",
       "      <td>3</td>\n",
       "      <td>Sudeste</td>\n",
       "    </tr>\n",
       "    <tr>\n",
       "      <th>20</th>\n",
       "      <td>41</td>\n",
       "      <td>PR</td>\n",
       "      <td>4</td>\n",
       "      <td>Sul</td>\n",
       "    </tr>\n",
       "    <tr>\n",
       "      <th>21</th>\n",
       "      <td>42</td>\n",
       "      <td>SC</td>\n",
       "      <td>4</td>\n",
       "      <td>Sul</td>\n",
       "    </tr>\n",
       "    <tr>\n",
       "      <th>22</th>\n",
       "      <td>43</td>\n",
       "      <td>RS</td>\n",
       "      <td>4</td>\n",
       "      <td>Sul</td>\n",
       "    </tr>\n",
       "    <tr>\n",
       "      <th>23</th>\n",
       "      <td>50</td>\n",
       "      <td>MS</td>\n",
       "      <td>5</td>\n",
       "      <td>Centro-Oeste</td>\n",
       "    </tr>\n",
       "    <tr>\n",
       "      <th>24</th>\n",
       "      <td>51</td>\n",
       "      <td>MT</td>\n",
       "      <td>5</td>\n",
       "      <td>Centro-Oeste</td>\n",
       "    </tr>\n",
       "    <tr>\n",
       "      <th>25</th>\n",
       "      <td>52</td>\n",
       "      <td>GO</td>\n",
       "      <td>5</td>\n",
       "      <td>Centro-Oeste</td>\n",
       "    </tr>\n",
       "    <tr>\n",
       "      <th>26</th>\n",
       "      <td>53</td>\n",
       "      <td>DF</td>\n",
       "      <td>5</td>\n",
       "      <td>Centro-Oeste</td>\n",
       "    </tr>\n",
       "  </tbody>\n",
       "</table>\n",
       "</div>"
      ],
      "text/plain": [
       "    CO_UF SG_UF  CO_REGIAO     NO_REGIAO\n",
       "0      11    RO          1         Norte\n",
       "1      12    AC          1         Norte\n",
       "2      13    AM          1         Norte\n",
       "3      14    RR          1         Norte\n",
       "4      15    PA          1         Norte\n",
       "5      16    AP          1         Norte\n",
       "6      17    TO          1         Norte\n",
       "7      21    MA          2      Nordeste\n",
       "8      22    PI          2      Nordeste\n",
       "9      23    CE          2      Nordeste\n",
       "10     24    RN          2      Nordeste\n",
       "11     25    PB          2      Nordeste\n",
       "12     26    PE          2      Nordeste\n",
       "13     27    AL          2      Nordeste\n",
       "14     28    SE          2      Nordeste\n",
       "15     29    BA          2      Nordeste\n",
       "16     31    MG          3       Sudeste\n",
       "17     32    ES          3       Sudeste\n",
       "18     33    RJ          3       Sudeste\n",
       "19     35    SP          3       Sudeste\n",
       "20     41    PR          4           Sul\n",
       "21     42    SC          4           Sul\n",
       "22     43    RS          4           Sul\n",
       "23     50    MS          5  Centro-Oeste\n",
       "24     51    MT          5  Centro-Oeste\n",
       "25     52    GO          5  Centro-Oeste\n",
       "26     53    DF          5  Centro-Oeste"
      ]
     },
     "execution_count": 353,
     "metadata": {},
     "output_type": "execute_result"
    }
   ],
   "source": [
    "df_localizacao = pd.read_csv('data\\\\dados\\\\microdados_ed_basica_2023.csv', sep=';', encoding='ANSI')\n",
    "df_localizacao = df_localizacao[['CO_UF', 'SG_UF', 'CO_REGIAO', 'NO_REGIAO']].groupby('CO_UF', as_index = False).max()\n",
    "df_localizacao"
   ]
  },
  {
   "cell_type": "markdown",
   "metadata": {},
   "source": [
    "## Tratamento dos Dados"
   ]
  },
  {
   "cell_type": "code",
   "execution_count": 354,
   "metadata": {},
   "outputs": [
    {
     "name": "stderr",
     "output_type": "stream",
     "text": [
      "C:\\Users\\cinthia.nagahama.VERT\\AppData\\Local\\Temp\\ipykernel_27684\\1212909949.py:1: DtypeWarning: Columns (31) have mixed types. Specify dtype option on import or set low_memory=False.\n",
      "  df = pd.read_csv('data\\\\dados\\\\microdados_ed_basica_2023.csv', sep=';', encoding='ANSI')\n"
     ]
    },
    {
     "data": {
      "text/plain": [
       "(217625, 177)"
      ]
     },
     "execution_count": 354,
     "metadata": {},
     "output_type": "execute_result"
    }
   ],
   "source": [
    "df = pd.read_csv('data\\\\dados\\\\microdados_ed_basica_2023.csv', sep=';', encoding='ANSI')\n",
    "df = df[cols + cols_matriculas]\n",
    "df.shape"
   ]
  },
  {
   "cell_type": "code",
   "execution_count": 355,
   "metadata": {},
   "outputs": [
    {
     "data": {
      "text/plain": [
       "(180230, 177)"
      ]
     },
     "execution_count": 355,
     "metadata": {},
     "output_type": "execute_result"
    }
   ],
   "source": [
    "# Mantendo apenas escolas em atividade\n",
    "df = df[df['TP_SITUACAO_FUNCIONAMENTO'] == 1]\n",
    "df.shape"
   ]
  },
  {
   "cell_type": "code",
   "execution_count": 356,
   "metadata": {},
   "outputs": [],
   "source": [
    "cols_remover = []"
   ]
  },
  {
   "cell_type": "markdown",
   "metadata": {},
   "source": [
    "### Localização da Escola"
   ]
  },
  {
   "cell_type": "markdown",
   "metadata": {},
   "source": [
    "#### Região"
   ]
  },
  {
   "cell_type": "code",
   "execution_count": 357,
   "metadata": {},
   "outputs": [
    {
     "name": "stdout",
     "output_type": "stream",
     "text": [
      "\n",
      "Contagem de valores:\n"
     ]
    },
    {
     "data": {
      "text/plain": [
       "CO_REGIAO\n",
       "3    60948\n",
       "2    60380\n",
       "4    26145\n",
       "1    22218\n",
       "5    10539\n",
       "Name: count, dtype: int64"
      ]
     },
     "metadata": {},
     "output_type": "display_data"
    },
    {
     "name": "stdout",
     "output_type": "stream",
     "text": [
      "\n",
      "Quantidade de valores ausentes\n"
     ]
    },
    {
     "data": {
      "text/plain": [
       "CO_REGIAO\n",
       "False    180230\n",
       "Name: count, dtype: int64"
      ]
     },
     "metadata": {},
     "output_type": "display_data"
    }
   ],
   "source": [
    "basic_exploration(df, 'CO_REGIAO', 'category')"
   ]
  },
  {
   "cell_type": "markdown",
   "metadata": {},
   "source": [
    "#### Estado"
   ]
  },
  {
   "cell_type": "code",
   "execution_count": 358,
   "metadata": {},
   "outputs": [
    {
     "name": "stdout",
     "output_type": "stream",
     "text": [
      "\n",
      "Contagem de valores:\n"
     ]
    },
    {
     "data": {
      "text/plain": [
       "CO_UF\n",
       "35    30580\n",
       "29    16037\n",
       "31    15752\n",
       "33    11538\n",
       "21    11436\n",
       "15    10646\n",
       "43     9976\n",
       "41     9536\n",
       "26     8016\n",
       "23     7648\n",
       "42     6633\n",
       "13     5460\n",
       "52     4678\n",
       "25     4676\n",
       "22     4188\n",
       "24     3439\n",
       "32     3078\n",
       "27     2895\n",
       "51     2735\n",
       "28     2045\n",
       "50     1820\n",
       "17     1585\n",
       "12     1520\n",
       "53     1306\n",
       "11     1236\n",
       "14      892\n",
       "16      879\n",
       "Name: count, dtype: int64"
      ]
     },
     "metadata": {},
     "output_type": "display_data"
    },
    {
     "name": "stdout",
     "output_type": "stream",
     "text": [
      "\n",
      "Quantidade de valores ausentes\n"
     ]
    },
    {
     "data": {
      "text/plain": [
       "CO_UF\n",
       "False    180230\n",
       "Name: count, dtype: int64"
      ]
     },
     "metadata": {},
     "output_type": "display_data"
    }
   ],
   "source": [
    "basic_exploration(df, 'CO_UF', 'category')"
   ]
  },
  {
   "cell_type": "markdown",
   "metadata": {},
   "source": [
    "### EAD"
   ]
  },
  {
   "cell_type": "code",
   "execution_count": 359,
   "metadata": {},
   "outputs": [
    {
     "name": "stdout",
     "output_type": "stream",
     "text": [
      "\n",
      "Contagem de valores:\n"
     ]
    },
    {
     "data": {
      "text/plain": [
       "IN_EAD\n",
       "0.0    175331\n",
       "1.0      3145\n",
       "NaN      1754\n",
       "Name: count, dtype: int64"
      ]
     },
     "metadata": {},
     "output_type": "display_data"
    },
    {
     "name": "stdout",
     "output_type": "stream",
     "text": [
      "\n",
      "Quantidade de valores ausentes\n"
     ]
    },
    {
     "data": {
      "text/plain": [
       "IN_EAD\n",
       "False    178476\n",
       "True       1754\n",
       "Name: count, dtype: int64"
      ]
     },
     "metadata": {},
     "output_type": "display_data"
    }
   ],
   "source": [
    "basic_exploration(df, 'IN_EAD')"
   ]
  },
  {
   "cell_type": "code",
   "execution_count": 360,
   "metadata": {},
   "outputs": [
    {
     "data": {
      "text/plain": [
       "(175331, 177)"
      ]
     },
     "execution_count": 360,
     "metadata": {},
     "output_type": "execute_result"
    }
   ],
   "source": [
    "df = df[df['IN_EAD'] == 0]\n",
    "df.shape"
   ]
  },
  {
   "cell_type": "code",
   "execution_count": 361,
   "metadata": {},
   "outputs": [
    {
     "data": {
      "text/plain": [
       "'IN_EAD'"
      ]
     },
     "execution_count": 361,
     "metadata": {},
     "output_type": "execute_result"
    }
   ],
   "source": [
    "cols_remover += ['IN_EAD']\n",
    "cols_remover[-1]"
   ]
  },
  {
   "cell_type": "markdown",
   "metadata": {},
   "source": [
    "### Quantidade de Matrículas"
   ]
  },
  {
   "cell_type": "markdown",
   "metadata": {},
   "source": [
    "#### Educação Infantil - OK"
   ]
  },
  {
   "cell_type": "code",
   "execution_count": 362,
   "metadata": {},
   "outputs": [],
   "source": [
    "temp = ['QT_MAT_INF', 'QT_MAT_INF_CRE', 'QT_MAT_INF_PRE']"
   ]
  },
  {
   "cell_type": "code",
   "execution_count": 363,
   "metadata": {},
   "outputs": [
    {
     "name": "stdout",
     "output_type": "stream",
     "text": [
      "\n",
      "Quantidade de valores ausentes\n"
     ]
    },
    {
     "data": {
      "text/plain": [
       "QT_MAT_INF\n",
       "False    175331\n",
       "Name: count, dtype: int64"
      ]
     },
     "metadata": {},
     "output_type": "display_data"
    }
   ],
   "source": [
    "basic_exploration(df, 'QT_MAT_INF', 'numeric')"
   ]
  },
  {
   "cell_type": "code",
   "execution_count": 364,
   "metadata": {},
   "outputs": [
    {
     "name": "stdout",
     "output_type": "stream",
     "text": [
      "\n",
      "Quantidade de valores ausentes\n"
     ]
    },
    {
     "data": {
      "text/plain": [
       "QT_MAT_INF_CRE\n",
       "False    175331\n",
       "Name: count, dtype: int64"
      ]
     },
     "metadata": {},
     "output_type": "display_data"
    }
   ],
   "source": [
    "basic_exploration(df, 'QT_MAT_INF_CRE', 'numeric')"
   ]
  },
  {
   "cell_type": "code",
   "execution_count": 365,
   "metadata": {},
   "outputs": [
    {
     "name": "stdout",
     "output_type": "stream",
     "text": [
      "\n",
      "Quantidade de valores ausentes\n"
     ]
    },
    {
     "data": {
      "text/plain": [
       "QT_MAT_INF_PRE\n",
       "False    175331\n",
       "Name: count, dtype: int64"
      ]
     },
     "metadata": {},
     "output_type": "display_data"
    }
   ],
   "source": [
    "basic_exploration(df, 'QT_MAT_INF_PRE', 'numeric')"
   ]
  },
  {
   "cell_type": "code",
   "execution_count": 366,
   "metadata": {},
   "outputs": [
    {
     "data": {
      "text/plain": [
       "QT_MAT_INF  QT_MAT_INF_CRE  QT_MAT_INF_PRE\n",
       "False       False           False             175331\n",
       "Name: count, dtype: int64"
      ]
     },
     "execution_count": 366,
     "metadata": {},
     "output_type": "execute_result"
    }
   ],
   "source": [
    "df[temp].isna().value_counts()"
   ]
  },
  {
   "cell_type": "code",
   "execution_count": 367,
   "metadata": {},
   "outputs": [
    {
     "data": {
      "text/html": [
       "<div>\n",
       "<style scoped>\n",
       "    .dataframe tbody tr th:only-of-type {\n",
       "        vertical-align: middle;\n",
       "    }\n",
       "\n",
       "    .dataframe tbody tr th {\n",
       "        vertical-align: top;\n",
       "    }\n",
       "\n",
       "    .dataframe thead th {\n",
       "        text-align: right;\n",
       "    }\n",
       "</style>\n",
       "<table border=\"1\" class=\"dataframe\">\n",
       "  <thead>\n",
       "    <tr style=\"text-align: right;\">\n",
       "      <th></th>\n",
       "      <th>NO_ENTIDADE</th>\n",
       "      <th>QT_MAT_INF</th>\n",
       "      <th>QT_MAT_INF_CRE</th>\n",
       "      <th>QT_MAT_INF_PRE</th>\n",
       "    </tr>\n",
       "  </thead>\n",
       "  <tbody>\n",
       "  </tbody>\n",
       "</table>\n",
       "</div>"
      ],
      "text/plain": [
       "Empty DataFrame\n",
       "Columns: [NO_ENTIDADE, QT_MAT_INF, QT_MAT_INF_CRE, QT_MAT_INF_PRE]\n",
       "Index: []"
      ]
     },
     "execution_count": 367,
     "metadata": {},
     "output_type": "execute_result"
    }
   ],
   "source": [
    "df[df['QT_MAT_INF'].isna()][['NO_ENTIDADE'] + temp]"
   ]
  },
  {
   "cell_type": "code",
   "execution_count": 368,
   "metadata": {},
   "outputs": [
    {
     "data": {
      "text/html": [
       "<div>\n",
       "<style scoped>\n",
       "    .dataframe tbody tr th:only-of-type {\n",
       "        vertical-align: middle;\n",
       "    }\n",
       "\n",
       "    .dataframe tbody tr th {\n",
       "        vertical-align: top;\n",
       "    }\n",
       "\n",
       "    .dataframe thead th {\n",
       "        text-align: right;\n",
       "    }\n",
       "</style>\n",
       "<table border=\"1\" class=\"dataframe\">\n",
       "  <thead>\n",
       "    <tr style=\"text-align: right;\">\n",
       "      <th></th>\n",
       "      <th>QT_MAT_INF</th>\n",
       "      <th>QT_MAT_INF_CRE</th>\n",
       "      <th>QT_MAT_INF_PRE</th>\n",
       "    </tr>\n",
       "  </thead>\n",
       "  <tbody>\n",
       "  </tbody>\n",
       "</table>\n",
       "</div>"
      ],
      "text/plain": [
       "Empty DataFrame\n",
       "Columns: [QT_MAT_INF, QT_MAT_INF_CRE, QT_MAT_INF_PRE]\n",
       "Index: []"
      ]
     },
     "execution_count": 368,
     "metadata": {},
     "output_type": "execute_result"
    }
   ],
   "source": [
    "df[(~df['QT_MAT_INF'].isna()) & (df['QT_MAT_INF'] != df[temp[1:]].sum(axis=1))][temp]"
   ]
  },
  {
   "cell_type": "markdown",
   "metadata": {},
   "source": [
    "#### Ensino Fundamental - OK"
   ]
  },
  {
   "cell_type": "code",
   "execution_count": 369,
   "metadata": {},
   "outputs": [],
   "source": [
    "temp = ['QT_MAT_FUND', \n",
    "        'QT_MAT_FUND_AI', 'QT_MAT_FUND_AI_1', 'QT_MAT_FUND_AI_2', 'QT_MAT_FUND_AI_3', 'QT_MAT_FUND_AI_4', 'QT_MAT_FUND_AI_5', \n",
    "        'QT_MAT_FUND_AF', 'QT_MAT_FUND_AF_6', 'QT_MAT_FUND_AF_7', 'QT_MAT_FUND_AF_8', 'QT_MAT_FUND_AF_9',]"
   ]
  },
  {
   "cell_type": "code",
   "execution_count": 370,
   "metadata": {},
   "outputs": [
    {
     "name": "stdout",
     "output_type": "stream",
     "text": [
      "\n",
      "Quantidade de valores ausentes\n"
     ]
    },
    {
     "data": {
      "text/plain": [
       "QT_MAT_FUND\n",
       "False    175331\n",
       "Name: count, dtype: int64"
      ]
     },
     "metadata": {},
     "output_type": "display_data"
    },
    {
     "name": "stdout",
     "output_type": "stream",
     "text": [
      "\n",
      "Quantidade de valores ausentes\n"
     ]
    },
    {
     "data": {
      "text/plain": [
       "QT_MAT_FUND_AI\n",
       "False    175331\n",
       "Name: count, dtype: int64"
      ]
     },
     "metadata": {},
     "output_type": "display_data"
    },
    {
     "name": "stdout",
     "output_type": "stream",
     "text": [
      "\n",
      "Quantidade de valores ausentes\n"
     ]
    },
    {
     "data": {
      "text/plain": [
       "QT_MAT_FUND_AI_1\n",
       "False    175331\n",
       "Name: count, dtype: int64"
      ]
     },
     "metadata": {},
     "output_type": "display_data"
    },
    {
     "name": "stdout",
     "output_type": "stream",
     "text": [
      "\n",
      "Quantidade de valores ausentes\n"
     ]
    },
    {
     "data": {
      "text/plain": [
       "QT_MAT_FUND_AI_2\n",
       "False    175331\n",
       "Name: count, dtype: int64"
      ]
     },
     "metadata": {},
     "output_type": "display_data"
    },
    {
     "name": "stdout",
     "output_type": "stream",
     "text": [
      "\n",
      "Quantidade de valores ausentes\n"
     ]
    },
    {
     "data": {
      "text/plain": [
       "QT_MAT_FUND_AI_3\n",
       "False    175331\n",
       "Name: count, dtype: int64"
      ]
     },
     "metadata": {},
     "output_type": "display_data"
    },
    {
     "name": "stdout",
     "output_type": "stream",
     "text": [
      "\n",
      "Quantidade de valores ausentes\n"
     ]
    },
    {
     "data": {
      "text/plain": [
       "QT_MAT_FUND_AI_4\n",
       "False    175331\n",
       "Name: count, dtype: int64"
      ]
     },
     "metadata": {},
     "output_type": "display_data"
    },
    {
     "name": "stdout",
     "output_type": "stream",
     "text": [
      "\n",
      "Quantidade de valores ausentes\n"
     ]
    },
    {
     "data": {
      "text/plain": [
       "QT_MAT_FUND_AI_5\n",
       "False    175331\n",
       "Name: count, dtype: int64"
      ]
     },
     "metadata": {},
     "output_type": "display_data"
    },
    {
     "name": "stdout",
     "output_type": "stream",
     "text": [
      "\n",
      "Quantidade de valores ausentes\n"
     ]
    },
    {
     "data": {
      "text/plain": [
       "QT_MAT_FUND_AF\n",
       "False    175331\n",
       "Name: count, dtype: int64"
      ]
     },
     "metadata": {},
     "output_type": "display_data"
    },
    {
     "name": "stdout",
     "output_type": "stream",
     "text": [
      "\n",
      "Quantidade de valores ausentes\n"
     ]
    },
    {
     "data": {
      "text/plain": [
       "QT_MAT_FUND_AF_6\n",
       "False    175331\n",
       "Name: count, dtype: int64"
      ]
     },
     "metadata": {},
     "output_type": "display_data"
    },
    {
     "name": "stdout",
     "output_type": "stream",
     "text": [
      "\n",
      "Quantidade de valores ausentes\n"
     ]
    },
    {
     "data": {
      "text/plain": [
       "QT_MAT_FUND_AF_7\n",
       "False    175331\n",
       "Name: count, dtype: int64"
      ]
     },
     "metadata": {},
     "output_type": "display_data"
    },
    {
     "name": "stdout",
     "output_type": "stream",
     "text": [
      "\n",
      "Quantidade de valores ausentes\n"
     ]
    },
    {
     "data": {
      "text/plain": [
       "QT_MAT_FUND_AF_8\n",
       "False    175331\n",
       "Name: count, dtype: int64"
      ]
     },
     "metadata": {},
     "output_type": "display_data"
    },
    {
     "name": "stdout",
     "output_type": "stream",
     "text": [
      "\n",
      "Quantidade de valores ausentes\n"
     ]
    },
    {
     "data": {
      "text/plain": [
       "QT_MAT_FUND_AF_9\n",
       "False    175331\n",
       "Name: count, dtype: int64"
      ]
     },
     "metadata": {},
     "output_type": "display_data"
    }
   ],
   "source": [
    "for t in temp:\n",
    "    basic_exploration(df, t, 'numeric')"
   ]
  },
  {
   "cell_type": "code",
   "execution_count": 371,
   "metadata": {},
   "outputs": [
    {
     "data": {
      "text/plain": [
       "QT_MAT_FUND  QT_MAT_FUND_AI  QT_MAT_FUND_AI_1  QT_MAT_FUND_AI_2  QT_MAT_FUND_AI_3  QT_MAT_FUND_AI_4  QT_MAT_FUND_AI_5  QT_MAT_FUND_AF  QT_MAT_FUND_AF_6  QT_MAT_FUND_AF_7  QT_MAT_FUND_AF_8  QT_MAT_FUND_AF_9\n",
       "False        False           False             False             False             False             False             False           False             False             False             False               175331\n",
       "Name: count, dtype: int64"
      ]
     },
     "execution_count": 371,
     "metadata": {},
     "output_type": "execute_result"
    }
   ],
   "source": [
    "df[temp].isna().value_counts()"
   ]
  },
  {
   "cell_type": "code",
   "execution_count": 372,
   "metadata": {},
   "outputs": [
    {
     "data": {
      "text/html": [
       "<div>\n",
       "<style scoped>\n",
       "    .dataframe tbody tr th:only-of-type {\n",
       "        vertical-align: middle;\n",
       "    }\n",
       "\n",
       "    .dataframe tbody tr th {\n",
       "        vertical-align: top;\n",
       "    }\n",
       "\n",
       "    .dataframe thead th {\n",
       "        text-align: right;\n",
       "    }\n",
       "</style>\n",
       "<table border=\"1\" class=\"dataframe\">\n",
       "  <thead>\n",
       "    <tr style=\"text-align: right;\">\n",
       "      <th></th>\n",
       "      <th>QT_MAT_FUND_AI</th>\n",
       "      <th>QT_MAT_FUND_AI_1</th>\n",
       "      <th>QT_MAT_FUND_AI_2</th>\n",
       "      <th>QT_MAT_FUND_AI_3</th>\n",
       "      <th>QT_MAT_FUND_AI_4</th>\n",
       "      <th>QT_MAT_FUND_AI_5</th>\n",
       "    </tr>\n",
       "  </thead>\n",
       "  <tbody>\n",
       "  </tbody>\n",
       "</table>\n",
       "</div>"
      ],
      "text/plain": [
       "Empty DataFrame\n",
       "Columns: [QT_MAT_FUND_AI, QT_MAT_FUND_AI_1, QT_MAT_FUND_AI_2, QT_MAT_FUND_AI_3, QT_MAT_FUND_AI_4, QT_MAT_FUND_AI_5]\n",
       "Index: []"
      ]
     },
     "execution_count": 372,
     "metadata": {},
     "output_type": "execute_result"
    }
   ],
   "source": [
    "# Anos Iniciais\n",
    "df[(~df['QT_MAT_FUND_AI'].isna()) & (df['QT_MAT_FUND_AI'] != df[temp[2:7]].sum(axis=1))][temp[1:7]]"
   ]
  },
  {
   "cell_type": "code",
   "execution_count": 373,
   "metadata": {},
   "outputs": [
    {
     "data": {
      "text/html": [
       "<div>\n",
       "<style scoped>\n",
       "    .dataframe tbody tr th:only-of-type {\n",
       "        vertical-align: middle;\n",
       "    }\n",
       "\n",
       "    .dataframe tbody tr th {\n",
       "        vertical-align: top;\n",
       "    }\n",
       "\n",
       "    .dataframe thead th {\n",
       "        text-align: right;\n",
       "    }\n",
       "</style>\n",
       "<table border=\"1\" class=\"dataframe\">\n",
       "  <thead>\n",
       "    <tr style=\"text-align: right;\">\n",
       "      <th></th>\n",
       "      <th>QT_MAT_FUND_AF</th>\n",
       "      <th>QT_MAT_FUND_AF_6</th>\n",
       "      <th>QT_MAT_FUND_AF_7</th>\n",
       "      <th>QT_MAT_FUND_AF_8</th>\n",
       "      <th>QT_MAT_FUND_AF_9</th>\n",
       "    </tr>\n",
       "  </thead>\n",
       "  <tbody>\n",
       "  </tbody>\n",
       "</table>\n",
       "</div>"
      ],
      "text/plain": [
       "Empty DataFrame\n",
       "Columns: [QT_MAT_FUND_AF, QT_MAT_FUND_AF_6, QT_MAT_FUND_AF_7, QT_MAT_FUND_AF_8, QT_MAT_FUND_AF_9]\n",
       "Index: []"
      ]
     },
     "execution_count": 373,
     "metadata": {},
     "output_type": "execute_result"
    }
   ],
   "source": [
    "# Anos Finais\n",
    "df[(~df['QT_MAT_FUND_AF'].isna()) & (df['QT_MAT_FUND_AF'] != df[temp[8:]].sum(axis=1))][temp[7:]]"
   ]
  },
  {
   "cell_type": "code",
   "execution_count": 374,
   "metadata": {},
   "outputs": [
    {
     "data": {
      "text/html": [
       "<div>\n",
       "<style scoped>\n",
       "    .dataframe tbody tr th:only-of-type {\n",
       "        vertical-align: middle;\n",
       "    }\n",
       "\n",
       "    .dataframe tbody tr th {\n",
       "        vertical-align: top;\n",
       "    }\n",
       "\n",
       "    .dataframe thead th {\n",
       "        text-align: right;\n",
       "    }\n",
       "</style>\n",
       "<table border=\"1\" class=\"dataframe\">\n",
       "  <thead>\n",
       "    <tr style=\"text-align: right;\">\n",
       "      <th></th>\n",
       "      <th>QT_MAT_FUND</th>\n",
       "      <th>QT_MAT_FUND_AI</th>\n",
       "      <th>QT_MAT_FUND_AF</th>\n",
       "    </tr>\n",
       "  </thead>\n",
       "  <tbody>\n",
       "  </tbody>\n",
       "</table>\n",
       "</div>"
      ],
      "text/plain": [
       "Empty DataFrame\n",
       "Columns: [QT_MAT_FUND, QT_MAT_FUND_AI, QT_MAT_FUND_AF]\n",
       "Index: []"
      ]
     },
     "execution_count": 374,
     "metadata": {},
     "output_type": "execute_result"
    }
   ],
   "source": [
    "# Ensino Fundamental\n",
    "df[(~df['QT_MAT_FUND'].isna()) & (df['QT_MAT_FUND'] != df[['QT_MAT_FUND_AI', 'QT_MAT_FUND_AF']].sum(axis=1))][['QT_MAT_FUND', 'QT_MAT_FUND_AI', 'QT_MAT_FUND_AF']]"
   ]
  },
  {
   "cell_type": "markdown",
   "metadata": {},
   "source": [
    "#### Ensino Médio - OK"
   ]
  },
  {
   "cell_type": "code",
   "execution_count": 375,
   "metadata": {},
   "outputs": [],
   "source": [
    "temp = ['QT_MAT_MED', \n",
    "        'QT_MAT_MED_PROP', 'QT_MAT_MED_PROP_1', 'QT_MAT_MED_PROP_2', 'QT_MAT_MED_PROP_3', 'QT_MAT_MED_PROP_4', 'QT_MAT_MED_PROP_NS', \n",
    "        'QT_MAT_MED_CT', 'QT_MAT_MED_CT_1', 'QT_MAT_MED_CT_2', 'QT_MAT_MED_CT_3', 'QT_MAT_MED_CT_4', 'QT_MAT_MED_CT_NS', \n",
    "        'QT_MAT_MED_NM', 'QT_MAT_MED_NM_1', 'QT_MAT_MED_NM_2', 'QT_MAT_MED_NM_3', 'QT_MAT_MED_NM_4',]"
   ]
  },
  {
   "cell_type": "code",
   "execution_count": 376,
   "metadata": {},
   "outputs": [
    {
     "name": "stdout",
     "output_type": "stream",
     "text": [
      "\n",
      "Quantidade de valores ausentes\n"
     ]
    },
    {
     "data": {
      "text/plain": [
       "QT_MAT_MED\n",
       "False    175331\n",
       "Name: count, dtype: int64"
      ]
     },
     "metadata": {},
     "output_type": "display_data"
    },
    {
     "name": "stdout",
     "output_type": "stream",
     "text": [
      "\n",
      "Quantidade de valores ausentes\n"
     ]
    },
    {
     "data": {
      "text/plain": [
       "QT_MAT_MED_PROP\n",
       "False    175331\n",
       "Name: count, dtype: int64"
      ]
     },
     "metadata": {},
     "output_type": "display_data"
    },
    {
     "name": "stdout",
     "output_type": "stream",
     "text": [
      "\n",
      "Quantidade de valores ausentes\n"
     ]
    },
    {
     "data": {
      "text/plain": [
       "QT_MAT_MED_PROP_1\n",
       "False    175331\n",
       "Name: count, dtype: int64"
      ]
     },
     "metadata": {},
     "output_type": "display_data"
    },
    {
     "name": "stdout",
     "output_type": "stream",
     "text": [
      "\n",
      "Quantidade de valores ausentes\n"
     ]
    },
    {
     "data": {
      "text/plain": [
       "QT_MAT_MED_PROP_2\n",
       "False    175331\n",
       "Name: count, dtype: int64"
      ]
     },
     "metadata": {},
     "output_type": "display_data"
    },
    {
     "name": "stdout",
     "output_type": "stream",
     "text": [
      "\n",
      "Quantidade de valores ausentes\n"
     ]
    },
    {
     "data": {
      "text/plain": [
       "QT_MAT_MED_PROP_3\n",
       "False    175331\n",
       "Name: count, dtype: int64"
      ]
     },
     "metadata": {},
     "output_type": "display_data"
    },
    {
     "name": "stdout",
     "output_type": "stream",
     "text": [
      "\n",
      "Quantidade de valores ausentes\n"
     ]
    },
    {
     "data": {
      "text/plain": [
       "QT_MAT_MED_PROP_4\n",
       "False    175331\n",
       "Name: count, dtype: int64"
      ]
     },
     "metadata": {},
     "output_type": "display_data"
    },
    {
     "name": "stdout",
     "output_type": "stream",
     "text": [
      "\n",
      "Quantidade de valores ausentes\n"
     ]
    },
    {
     "data": {
      "text/plain": [
       "QT_MAT_MED_PROP_NS\n",
       "False    175331\n",
       "Name: count, dtype: int64"
      ]
     },
     "metadata": {},
     "output_type": "display_data"
    },
    {
     "name": "stdout",
     "output_type": "stream",
     "text": [
      "\n",
      "Quantidade de valores ausentes\n"
     ]
    },
    {
     "data": {
      "text/plain": [
       "QT_MAT_MED_CT\n",
       "False    175331\n",
       "Name: count, dtype: int64"
      ]
     },
     "metadata": {},
     "output_type": "display_data"
    },
    {
     "name": "stdout",
     "output_type": "stream",
     "text": [
      "\n",
      "Quantidade de valores ausentes\n"
     ]
    },
    {
     "data": {
      "text/plain": [
       "QT_MAT_MED_CT_1\n",
       "False    175331\n",
       "Name: count, dtype: int64"
      ]
     },
     "metadata": {},
     "output_type": "display_data"
    },
    {
     "name": "stdout",
     "output_type": "stream",
     "text": [
      "\n",
      "Quantidade de valores ausentes\n"
     ]
    },
    {
     "data": {
      "text/plain": [
       "QT_MAT_MED_CT_2\n",
       "False    175331\n",
       "Name: count, dtype: int64"
      ]
     },
     "metadata": {},
     "output_type": "display_data"
    },
    {
     "name": "stdout",
     "output_type": "stream",
     "text": [
      "\n",
      "Quantidade de valores ausentes\n"
     ]
    },
    {
     "data": {
      "text/plain": [
       "QT_MAT_MED_CT_3\n",
       "False    175331\n",
       "Name: count, dtype: int64"
      ]
     },
     "metadata": {},
     "output_type": "display_data"
    },
    {
     "name": "stdout",
     "output_type": "stream",
     "text": [
      "\n",
      "Quantidade de valores ausentes\n"
     ]
    },
    {
     "data": {
      "text/plain": [
       "QT_MAT_MED_CT_4\n",
       "False    175331\n",
       "Name: count, dtype: int64"
      ]
     },
     "metadata": {},
     "output_type": "display_data"
    },
    {
     "name": "stdout",
     "output_type": "stream",
     "text": [
      "\n",
      "Quantidade de valores ausentes\n"
     ]
    },
    {
     "data": {
      "text/plain": [
       "QT_MAT_MED_CT_NS\n",
       "False    175331\n",
       "Name: count, dtype: int64"
      ]
     },
     "metadata": {},
     "output_type": "display_data"
    },
    {
     "name": "stdout",
     "output_type": "stream",
     "text": [
      "\n",
      "Quantidade de valores ausentes\n"
     ]
    },
    {
     "data": {
      "text/plain": [
       "QT_MAT_MED_NM\n",
       "False    175331\n",
       "Name: count, dtype: int64"
      ]
     },
     "metadata": {},
     "output_type": "display_data"
    },
    {
     "name": "stdout",
     "output_type": "stream",
     "text": [
      "\n",
      "Quantidade de valores ausentes\n"
     ]
    },
    {
     "data": {
      "text/plain": [
       "QT_MAT_MED_NM_1\n",
       "False    175331\n",
       "Name: count, dtype: int64"
      ]
     },
     "metadata": {},
     "output_type": "display_data"
    },
    {
     "name": "stdout",
     "output_type": "stream",
     "text": [
      "\n",
      "Quantidade de valores ausentes\n"
     ]
    },
    {
     "data": {
      "text/plain": [
       "QT_MAT_MED_NM_2\n",
       "False    175331\n",
       "Name: count, dtype: int64"
      ]
     },
     "metadata": {},
     "output_type": "display_data"
    },
    {
     "name": "stdout",
     "output_type": "stream",
     "text": [
      "\n",
      "Quantidade de valores ausentes\n"
     ]
    },
    {
     "data": {
      "text/plain": [
       "QT_MAT_MED_NM_3\n",
       "False    175331\n",
       "Name: count, dtype: int64"
      ]
     },
     "metadata": {},
     "output_type": "display_data"
    },
    {
     "name": "stdout",
     "output_type": "stream",
     "text": [
      "\n",
      "Quantidade de valores ausentes\n"
     ]
    },
    {
     "data": {
      "text/plain": [
       "QT_MAT_MED_NM_4\n",
       "False    175331\n",
       "Name: count, dtype: int64"
      ]
     },
     "metadata": {},
     "output_type": "display_data"
    }
   ],
   "source": [
    "for t in temp:\n",
    "    basic_exploration(df, t, 'numeric')"
   ]
  },
  {
   "cell_type": "code",
   "execution_count": 377,
   "metadata": {},
   "outputs": [
    {
     "data": {
      "text/plain": [
       "QT_MAT_MED  QT_MAT_MED_PROP  QT_MAT_MED_PROP_1  QT_MAT_MED_PROP_2  QT_MAT_MED_PROP_3  QT_MAT_MED_PROP_4  QT_MAT_MED_PROP_NS  QT_MAT_MED_CT  QT_MAT_MED_CT_1  QT_MAT_MED_CT_2  QT_MAT_MED_CT_3  QT_MAT_MED_CT_4  QT_MAT_MED_CT_NS  QT_MAT_MED_NM  QT_MAT_MED_NM_1  QT_MAT_MED_NM_2  QT_MAT_MED_NM_3  QT_MAT_MED_NM_4\n",
       "False       False            False              False              False              False              False               False          False            False            False            False            False             False          False            False            False            False              175331\n",
       "Name: count, dtype: int64"
      ]
     },
     "execution_count": 377,
     "metadata": {},
     "output_type": "execute_result"
    }
   ],
   "source": [
    "df[temp].isna().value_counts()"
   ]
  },
  {
   "cell_type": "code",
   "execution_count": 378,
   "metadata": {},
   "outputs": [
    {
     "data": {
      "text/html": [
       "<div>\n",
       "<style scoped>\n",
       "    .dataframe tbody tr th:only-of-type {\n",
       "        vertical-align: middle;\n",
       "    }\n",
       "\n",
       "    .dataframe tbody tr th {\n",
       "        vertical-align: top;\n",
       "    }\n",
       "\n",
       "    .dataframe thead th {\n",
       "        text-align: right;\n",
       "    }\n",
       "</style>\n",
       "<table border=\"1\" class=\"dataframe\">\n",
       "  <thead>\n",
       "    <tr style=\"text-align: right;\">\n",
       "      <th></th>\n",
       "      <th>QT_MAT_MED_PROP</th>\n",
       "      <th>QT_MAT_MED_PROP_1</th>\n",
       "      <th>QT_MAT_MED_PROP_2</th>\n",
       "      <th>QT_MAT_MED_PROP_3</th>\n",
       "      <th>QT_MAT_MED_PROP_4</th>\n",
       "      <th>QT_MAT_MED_PROP_NS</th>\n",
       "    </tr>\n",
       "  </thead>\n",
       "  <tbody>\n",
       "  </tbody>\n",
       "</table>\n",
       "</div>"
      ],
      "text/plain": [
       "Empty DataFrame\n",
       "Columns: [QT_MAT_MED_PROP, QT_MAT_MED_PROP_1, QT_MAT_MED_PROP_2, QT_MAT_MED_PROP_3, QT_MAT_MED_PROP_4, QT_MAT_MED_PROP_NS]\n",
       "Index: []"
      ]
     },
     "execution_count": 378,
     "metadata": {},
     "output_type": "execute_result"
    }
   ],
   "source": [
    "# Ensino Médio Propedêutico\n",
    "df[(~df['QT_MAT_MED_PROP'].isna()) & (df['QT_MAT_MED_PROP'] != df[temp[2:7]].sum(axis=1))][temp[1:7]]"
   ]
  },
  {
   "cell_type": "code",
   "execution_count": 379,
   "metadata": {},
   "outputs": [
    {
     "data": {
      "text/html": [
       "<div>\n",
       "<style scoped>\n",
       "    .dataframe tbody tr th:only-of-type {\n",
       "        vertical-align: middle;\n",
       "    }\n",
       "\n",
       "    .dataframe tbody tr th {\n",
       "        vertical-align: top;\n",
       "    }\n",
       "\n",
       "    .dataframe thead th {\n",
       "        text-align: right;\n",
       "    }\n",
       "</style>\n",
       "<table border=\"1\" class=\"dataframe\">\n",
       "  <thead>\n",
       "    <tr style=\"text-align: right;\">\n",
       "      <th></th>\n",
       "      <th>QT_MAT_MED_CT</th>\n",
       "      <th>QT_MAT_MED_CT_1</th>\n",
       "      <th>QT_MAT_MED_CT_2</th>\n",
       "      <th>QT_MAT_MED_CT_3</th>\n",
       "      <th>QT_MAT_MED_CT_4</th>\n",
       "      <th>QT_MAT_MED_CT_NS</th>\n",
       "    </tr>\n",
       "  </thead>\n",
       "  <tbody>\n",
       "  </tbody>\n",
       "</table>\n",
       "</div>"
      ],
      "text/plain": [
       "Empty DataFrame\n",
       "Columns: [QT_MAT_MED_CT, QT_MAT_MED_CT_1, QT_MAT_MED_CT_2, QT_MAT_MED_CT_3, QT_MAT_MED_CT_4, QT_MAT_MED_CT_NS]\n",
       "Index: []"
      ]
     },
     "execution_count": 379,
     "metadata": {},
     "output_type": "execute_result"
    }
   ],
   "source": [
    "# Ensino Médio Técnico Integrado\n",
    "df[(~df['QT_MAT_MED_CT'].isna()) & (df['QT_MAT_MED_CT'] != df[temp[8:13]].sum(axis=1))][temp[7:13]]"
   ]
  },
  {
   "cell_type": "code",
   "execution_count": 380,
   "metadata": {},
   "outputs": [
    {
     "data": {
      "text/html": [
       "<div>\n",
       "<style scoped>\n",
       "    .dataframe tbody tr th:only-of-type {\n",
       "        vertical-align: middle;\n",
       "    }\n",
       "\n",
       "    .dataframe tbody tr th {\n",
       "        vertical-align: top;\n",
       "    }\n",
       "\n",
       "    .dataframe thead th {\n",
       "        text-align: right;\n",
       "    }\n",
       "</style>\n",
       "<table border=\"1\" class=\"dataframe\">\n",
       "  <thead>\n",
       "    <tr style=\"text-align: right;\">\n",
       "      <th></th>\n",
       "      <th>QT_MAT_MED_NM</th>\n",
       "      <th>QT_MAT_MED_NM_1</th>\n",
       "      <th>QT_MAT_MED_NM_2</th>\n",
       "      <th>QT_MAT_MED_NM_3</th>\n",
       "      <th>QT_MAT_MED_NM_4</th>\n",
       "    </tr>\n",
       "  </thead>\n",
       "  <tbody>\n",
       "  </tbody>\n",
       "</table>\n",
       "</div>"
      ],
      "text/plain": [
       "Empty DataFrame\n",
       "Columns: [QT_MAT_MED_NM, QT_MAT_MED_NM_1, QT_MAT_MED_NM_2, QT_MAT_MED_NM_3, QT_MAT_MED_NM_4]\n",
       "Index: []"
      ]
     },
     "execution_count": 380,
     "metadata": {},
     "output_type": "execute_result"
    }
   ],
   "source": [
    "# Ensino Médio Normal\n",
    "df[(~df['QT_MAT_MED_NM'].isna()) & (df['QT_MAT_MED_NM'] != df[temp[14:]].sum(axis=1))][temp[13:]]"
   ]
  },
  {
   "cell_type": "code",
   "execution_count": 381,
   "metadata": {},
   "outputs": [
    {
     "data": {
      "text/html": [
       "<div>\n",
       "<style scoped>\n",
       "    .dataframe tbody tr th:only-of-type {\n",
       "        vertical-align: middle;\n",
       "    }\n",
       "\n",
       "    .dataframe tbody tr th {\n",
       "        vertical-align: top;\n",
       "    }\n",
       "\n",
       "    .dataframe thead th {\n",
       "        text-align: right;\n",
       "    }\n",
       "</style>\n",
       "<table border=\"1\" class=\"dataframe\">\n",
       "  <thead>\n",
       "    <tr style=\"text-align: right;\">\n",
       "      <th></th>\n",
       "      <th>QT_MAT_MED</th>\n",
       "      <th>QT_MAT_MED_PROP</th>\n",
       "      <th>QT_MAT_MED_CT</th>\n",
       "      <th>QT_MAT_MED_NM</th>\n",
       "    </tr>\n",
       "  </thead>\n",
       "  <tbody>\n",
       "  </tbody>\n",
       "</table>\n",
       "</div>"
      ],
      "text/plain": [
       "Empty DataFrame\n",
       "Columns: [QT_MAT_MED, QT_MAT_MED_PROP, QT_MAT_MED_CT, QT_MAT_MED_NM]\n",
       "Index: []"
      ]
     },
     "execution_count": 381,
     "metadata": {},
     "output_type": "execute_result"
    }
   ],
   "source": [
    "# Ensino Médio\n",
    "df[(\n",
    "    ~df['QT_MAT_MED'].isna()) & \n",
    "    (df['QT_MAT_MED'] != df[['QT_MAT_MED_PROP', 'QT_MAT_MED_CT', 'QT_MAT_MED_NM']].sum(axis=1))\n",
    "][['QT_MAT_MED', 'QT_MAT_MED_PROP', 'QT_MAT_MED_CT', 'QT_MAT_MED_NM']]"
   ]
  },
  {
   "cell_type": "markdown",
   "metadata": {},
   "source": [
    "#### Educação Profissional Técnica - NO\n",
    "\n",
    "O valor da possível coluna agregada não confere com os valores das colunas granulares"
   ]
  },
  {
   "cell_type": "code",
   "execution_count": 382,
   "metadata": {},
   "outputs": [],
   "source": [
    "temp = ['QT_MAT_PROF', \n",
    "        'QT_MAT_PROF_TEC', 'QT_MAT_PROF_TEC_CONC', 'QT_MAT_PROF_TEC_SUBS', 'QT_MAT_PROF_FIC_CONC',]"
   ]
  },
  {
   "cell_type": "code",
   "execution_count": 383,
   "metadata": {},
   "outputs": [
    {
     "name": "stdout",
     "output_type": "stream",
     "text": [
      "\n",
      "Quantidade de valores ausentes\n"
     ]
    },
    {
     "data": {
      "text/plain": [
       "QT_MAT_PROF\n",
       "False    175331\n",
       "Name: count, dtype: int64"
      ]
     },
     "metadata": {},
     "output_type": "display_data"
    },
    {
     "name": "stdout",
     "output_type": "stream",
     "text": [
      "\n",
      "Quantidade de valores ausentes\n"
     ]
    },
    {
     "data": {
      "text/plain": [
       "QT_MAT_PROF_TEC\n",
       "False    175331\n",
       "Name: count, dtype: int64"
      ]
     },
     "metadata": {},
     "output_type": "display_data"
    },
    {
     "name": "stdout",
     "output_type": "stream",
     "text": [
      "\n",
      "Quantidade de valores ausentes\n"
     ]
    },
    {
     "data": {
      "text/plain": [
       "QT_MAT_PROF_TEC_CONC\n",
       "False    175331\n",
       "Name: count, dtype: int64"
      ]
     },
     "metadata": {},
     "output_type": "display_data"
    },
    {
     "name": "stdout",
     "output_type": "stream",
     "text": [
      "\n",
      "Quantidade de valores ausentes\n"
     ]
    },
    {
     "data": {
      "text/plain": [
       "QT_MAT_PROF_TEC_SUBS\n",
       "False    175331\n",
       "Name: count, dtype: int64"
      ]
     },
     "metadata": {},
     "output_type": "display_data"
    },
    {
     "name": "stdout",
     "output_type": "stream",
     "text": [
      "\n",
      "Quantidade de valores ausentes\n"
     ]
    },
    {
     "data": {
      "text/plain": [
       "QT_MAT_PROF_FIC_CONC\n",
       "False    175331\n",
       "Name: count, dtype: int64"
      ]
     },
     "metadata": {},
     "output_type": "display_data"
    }
   ],
   "source": [
    "for t in temp:\n",
    "    basic_exploration(df, t, 'numeric')"
   ]
  },
  {
   "cell_type": "code",
   "execution_count": 384,
   "metadata": {},
   "outputs": [
    {
     "data": {
      "text/plain": [
       "QT_MAT_PROF  QT_MAT_PROF_TEC  QT_MAT_PROF_TEC_CONC  QT_MAT_PROF_TEC_SUBS  QT_MAT_PROF_FIC_CONC\n",
       "False        False            False                 False                 False                   175331\n",
       "Name: count, dtype: int64"
      ]
     },
     "execution_count": 384,
     "metadata": {},
     "output_type": "execute_result"
    }
   ],
   "source": [
    "df[temp].isna().value_counts()"
   ]
  },
  {
   "cell_type": "code",
   "execution_count": 385,
   "metadata": {},
   "outputs": [
    {
     "data": {
      "text/html": [
       "<div>\n",
       "<style scoped>\n",
       "    .dataframe tbody tr th:only-of-type {\n",
       "        vertical-align: middle;\n",
       "    }\n",
       "\n",
       "    .dataframe tbody tr th {\n",
       "        vertical-align: top;\n",
       "    }\n",
       "\n",
       "    .dataframe thead th {\n",
       "        text-align: right;\n",
       "    }\n",
       "</style>\n",
       "<table border=\"1\" class=\"dataframe\">\n",
       "  <thead>\n",
       "    <tr style=\"text-align: right;\">\n",
       "      <th></th>\n",
       "      <th>QT_MAT_PROF_TEC</th>\n",
       "      <th>QT_MAT_PROF_TEC_CONC</th>\n",
       "      <th>QT_MAT_PROF_TEC_SUBS</th>\n",
       "      <th>QT_MAT_PROF_FIC_CONC</th>\n",
       "    </tr>\n",
       "  </thead>\n",
       "  <tbody>\n",
       "    <tr>\n",
       "      <th>38</th>\n",
       "      <td>72.0</td>\n",
       "      <td>0.0</td>\n",
       "      <td>0.0</td>\n",
       "      <td>0.0</td>\n",
       "    </tr>\n",
       "    <tr>\n",
       "      <th>375</th>\n",
       "      <td>197.0</td>\n",
       "      <td>0.0</td>\n",
       "      <td>0.0</td>\n",
       "      <td>0.0</td>\n",
       "    </tr>\n",
       "    <tr>\n",
       "      <th>565</th>\n",
       "      <td>220.0</td>\n",
       "      <td>0.0</td>\n",
       "      <td>0.0</td>\n",
       "      <td>0.0</td>\n",
       "    </tr>\n",
       "    <tr>\n",
       "      <th>666</th>\n",
       "      <td>579.0</td>\n",
       "      <td>0.0</td>\n",
       "      <td>0.0</td>\n",
       "      <td>0.0</td>\n",
       "    </tr>\n",
       "    <tr>\n",
       "      <th>1060</th>\n",
       "      <td>109.0</td>\n",
       "      <td>0.0</td>\n",
       "      <td>0.0</td>\n",
       "      <td>0.0</td>\n",
       "    </tr>\n",
       "    <tr>\n",
       "      <th>...</th>\n",
       "      <td>...</td>\n",
       "      <td>...</td>\n",
       "      <td>...</td>\n",
       "      <td>...</td>\n",
       "    </tr>\n",
       "    <tr>\n",
       "      <th>217437</th>\n",
       "      <td>0.0</td>\n",
       "      <td>0.0</td>\n",
       "      <td>0.0</td>\n",
       "      <td>17.0</td>\n",
       "    </tr>\n",
       "    <tr>\n",
       "      <th>217452</th>\n",
       "      <td>42.0</td>\n",
       "      <td>0.0</td>\n",
       "      <td>0.0</td>\n",
       "      <td>0.0</td>\n",
       "    </tr>\n",
       "    <tr>\n",
       "      <th>217462</th>\n",
       "      <td>548.0</td>\n",
       "      <td>173.0</td>\n",
       "      <td>375.0</td>\n",
       "      <td>33.0</td>\n",
       "    </tr>\n",
       "    <tr>\n",
       "      <th>217561</th>\n",
       "      <td>479.0</td>\n",
       "      <td>298.0</td>\n",
       "      <td>181.0</td>\n",
       "      <td>79.0</td>\n",
       "    </tr>\n",
       "    <tr>\n",
       "      <th>217570</th>\n",
       "      <td>561.0</td>\n",
       "      <td>511.0</td>\n",
       "      <td>39.0</td>\n",
       "      <td>101.0</td>\n",
       "    </tr>\n",
       "  </tbody>\n",
       "</table>\n",
       "<p>4412 rows × 4 columns</p>\n",
       "</div>"
      ],
      "text/plain": [
       "        QT_MAT_PROF_TEC  QT_MAT_PROF_TEC_CONC  QT_MAT_PROF_TEC_SUBS  \\\n",
       "38                 72.0                   0.0                   0.0   \n",
       "375               197.0                   0.0                   0.0   \n",
       "565               220.0                   0.0                   0.0   \n",
       "666               579.0                   0.0                   0.0   \n",
       "1060              109.0                   0.0                   0.0   \n",
       "...                 ...                   ...                   ...   \n",
       "217437              0.0                   0.0                   0.0   \n",
       "217452             42.0                   0.0                   0.0   \n",
       "217462            548.0                 173.0                 375.0   \n",
       "217561            479.0                 298.0                 181.0   \n",
       "217570            561.0                 511.0                  39.0   \n",
       "\n",
       "        QT_MAT_PROF_FIC_CONC  \n",
       "38                       0.0  \n",
       "375                      0.0  \n",
       "565                      0.0  \n",
       "666                      0.0  \n",
       "1060                     0.0  \n",
       "...                      ...  \n",
       "217437                  17.0  \n",
       "217452                   0.0  \n",
       "217462                  33.0  \n",
       "217561                  79.0  \n",
       "217570                 101.0  \n",
       "\n",
       "[4412 rows x 4 columns]"
      ]
     },
     "execution_count": 385,
     "metadata": {},
     "output_type": "execute_result"
    }
   ],
   "source": [
    "# Educação Profissional Técnica\n",
    "df[(~df['QT_MAT_PROF_TEC'].isna()) & (df['QT_MAT_PROF_TEC'] != df[temp[2:]].sum(axis=1))][temp[1:]]"
   ]
  },
  {
   "cell_type": "code",
   "execution_count": 386,
   "metadata": {},
   "outputs": [
    {
     "data": {
      "text/html": [
       "<div>\n",
       "<style scoped>\n",
       "    .dataframe tbody tr th:only-of-type {\n",
       "        vertical-align: middle;\n",
       "    }\n",
       "\n",
       "    .dataframe tbody tr th {\n",
       "        vertical-align: top;\n",
       "    }\n",
       "\n",
       "    .dataframe thead th {\n",
       "        text-align: right;\n",
       "    }\n",
       "</style>\n",
       "<table border=\"1\" class=\"dataframe\">\n",
       "  <thead>\n",
       "    <tr style=\"text-align: right;\">\n",
       "      <th></th>\n",
       "      <th>QT_MAT_PROF</th>\n",
       "      <th>QT_MAT_PROF_TEC</th>\n",
       "    </tr>\n",
       "  </thead>\n",
       "  <tbody>\n",
       "    <tr>\n",
       "      <th>140</th>\n",
       "      <td>112.0</td>\n",
       "      <td>0.0</td>\n",
       "    </tr>\n",
       "    <tr>\n",
       "      <th>1128</th>\n",
       "      <td>691.0</td>\n",
       "      <td>532.0</td>\n",
       "    </tr>\n",
       "    <tr>\n",
       "      <th>1229</th>\n",
       "      <td>1104.0</td>\n",
       "      <td>999.0</td>\n",
       "    </tr>\n",
       "    <tr>\n",
       "      <th>2853</th>\n",
       "      <td>156.0</td>\n",
       "      <td>131.0</td>\n",
       "    </tr>\n",
       "    <tr>\n",
       "      <th>3610</th>\n",
       "      <td>78.0</td>\n",
       "      <td>0.0</td>\n",
       "    </tr>\n",
       "    <tr>\n",
       "      <th>...</th>\n",
       "      <td>...</td>\n",
       "      <td>...</td>\n",
       "    </tr>\n",
       "    <tr>\n",
       "      <th>217427</th>\n",
       "      <td>223.0</td>\n",
       "      <td>47.0</td>\n",
       "    </tr>\n",
       "    <tr>\n",
       "      <th>217437</th>\n",
       "      <td>17.0</td>\n",
       "      <td>0.0</td>\n",
       "    </tr>\n",
       "    <tr>\n",
       "      <th>217462</th>\n",
       "      <td>581.0</td>\n",
       "      <td>548.0</td>\n",
       "    </tr>\n",
       "    <tr>\n",
       "      <th>217561</th>\n",
       "      <td>558.0</td>\n",
       "      <td>479.0</td>\n",
       "    </tr>\n",
       "    <tr>\n",
       "      <th>217570</th>\n",
       "      <td>662.0</td>\n",
       "      <td>561.0</td>\n",
       "    </tr>\n",
       "  </tbody>\n",
       "</table>\n",
       "<p>1508 rows × 2 columns</p>\n",
       "</div>"
      ],
      "text/plain": [
       "        QT_MAT_PROF  QT_MAT_PROF_TEC\n",
       "140           112.0              0.0\n",
       "1128          691.0            532.0\n",
       "1229         1104.0            999.0\n",
       "2853          156.0            131.0\n",
       "3610           78.0              0.0\n",
       "...             ...              ...\n",
       "217427        223.0             47.0\n",
       "217437         17.0              0.0\n",
       "217462        581.0            548.0\n",
       "217561        558.0            479.0\n",
       "217570        662.0            561.0\n",
       "\n",
       "[1508 rows x 2 columns]"
      ]
     },
     "execution_count": 386,
     "metadata": {},
     "output_type": "execute_result"
    }
   ],
   "source": [
    "# Ensino Profissional\n",
    "df[(~df['QT_MAT_PROF'].isna()) & (df['QT_MAT_PROF'] != df[['QT_MAT_PROF_TEC']].sum(axis=1))][['QT_MAT_PROF', 'QT_MAT_PROF_TEC']]"
   ]
  },
  {
   "cell_type": "markdown",
   "metadata": {},
   "source": [
    "#### Educação de Jovens e Adultos - EJA - OK"
   ]
  },
  {
   "cell_type": "code",
   "execution_count": 387,
   "metadata": {},
   "outputs": [],
   "source": [
    "temp = ['QT_MAT_EJA', \n",
    "        'QT_MAT_EJA_FUND', 'QT_MAT_EJA_FUND_AI', 'QT_MAT_EJA_FUND_AF', 'QT_MAT_EJA_FUND_FIC', \n",
    "        'QT_MAT_EJA_MED', 'QT_MAT_EJA_MED_NPROF', 'QT_MAT_EJA_MED_FIC', 'QT_MAT_EJA_MED_TEC',]"
   ]
  },
  {
   "cell_type": "code",
   "execution_count": 388,
   "metadata": {},
   "outputs": [
    {
     "name": "stdout",
     "output_type": "stream",
     "text": [
      "\n",
      "Quantidade de valores ausentes\n"
     ]
    },
    {
     "data": {
      "text/plain": [
       "QT_MAT_EJA\n",
       "False    175331\n",
       "Name: count, dtype: int64"
      ]
     },
     "metadata": {},
     "output_type": "display_data"
    },
    {
     "name": "stdout",
     "output_type": "stream",
     "text": [
      "\n",
      "Quantidade de valores ausentes\n"
     ]
    },
    {
     "data": {
      "text/plain": [
       "QT_MAT_EJA_FUND\n",
       "False    175331\n",
       "Name: count, dtype: int64"
      ]
     },
     "metadata": {},
     "output_type": "display_data"
    },
    {
     "name": "stdout",
     "output_type": "stream",
     "text": [
      "\n",
      "Quantidade de valores ausentes\n"
     ]
    },
    {
     "data": {
      "text/plain": [
       "QT_MAT_EJA_FUND_AI\n",
       "False    175331\n",
       "Name: count, dtype: int64"
      ]
     },
     "metadata": {},
     "output_type": "display_data"
    },
    {
     "name": "stdout",
     "output_type": "stream",
     "text": [
      "\n",
      "Quantidade de valores ausentes\n"
     ]
    },
    {
     "data": {
      "text/plain": [
       "QT_MAT_EJA_FUND_AF\n",
       "False    175331\n",
       "Name: count, dtype: int64"
      ]
     },
     "metadata": {},
     "output_type": "display_data"
    },
    {
     "name": "stdout",
     "output_type": "stream",
     "text": [
      "\n",
      "Quantidade de valores ausentes\n"
     ]
    },
    {
     "data": {
      "text/plain": [
       "QT_MAT_EJA_FUND_FIC\n",
       "False    175331\n",
       "Name: count, dtype: int64"
      ]
     },
     "metadata": {},
     "output_type": "display_data"
    },
    {
     "name": "stdout",
     "output_type": "stream",
     "text": [
      "\n",
      "Quantidade de valores ausentes\n"
     ]
    },
    {
     "data": {
      "text/plain": [
       "QT_MAT_EJA_MED\n",
       "False    175331\n",
       "Name: count, dtype: int64"
      ]
     },
     "metadata": {},
     "output_type": "display_data"
    },
    {
     "name": "stdout",
     "output_type": "stream",
     "text": [
      "\n",
      "Quantidade de valores ausentes\n"
     ]
    },
    {
     "data": {
      "text/plain": [
       "QT_MAT_EJA_MED_NPROF\n",
       "False    175331\n",
       "Name: count, dtype: int64"
      ]
     },
     "metadata": {},
     "output_type": "display_data"
    },
    {
     "name": "stdout",
     "output_type": "stream",
     "text": [
      "\n",
      "Quantidade de valores ausentes\n"
     ]
    },
    {
     "data": {
      "text/plain": [
       "QT_MAT_EJA_MED_FIC\n",
       "False    175331\n",
       "Name: count, dtype: int64"
      ]
     },
     "metadata": {},
     "output_type": "display_data"
    },
    {
     "name": "stdout",
     "output_type": "stream",
     "text": [
      "\n",
      "Quantidade de valores ausentes\n"
     ]
    },
    {
     "data": {
      "text/plain": [
       "QT_MAT_EJA_MED_TEC\n",
       "False    175331\n",
       "Name: count, dtype: int64"
      ]
     },
     "metadata": {},
     "output_type": "display_data"
    }
   ],
   "source": [
    "for t in temp:\n",
    "    basic_exploration(df, t, 'numeric')"
   ]
  },
  {
   "cell_type": "code",
   "execution_count": 389,
   "metadata": {},
   "outputs": [
    {
     "data": {
      "text/plain": [
       "QT_MAT_EJA  QT_MAT_EJA_FUND  QT_MAT_EJA_FUND_AI  QT_MAT_EJA_FUND_AF  QT_MAT_EJA_FUND_FIC  QT_MAT_EJA_MED  QT_MAT_EJA_MED_NPROF  QT_MAT_EJA_MED_FIC  QT_MAT_EJA_MED_TEC\n",
       "False       False            False               False               False                False           False                 False               False                 175331\n",
       "Name: count, dtype: int64"
      ]
     },
     "execution_count": 389,
     "metadata": {},
     "output_type": "execute_result"
    }
   ],
   "source": [
    "df[temp].isna().value_counts()"
   ]
  },
  {
   "cell_type": "code",
   "execution_count": 390,
   "metadata": {},
   "outputs": [
    {
     "data": {
      "text/html": [
       "<div>\n",
       "<style scoped>\n",
       "    .dataframe tbody tr th:only-of-type {\n",
       "        vertical-align: middle;\n",
       "    }\n",
       "\n",
       "    .dataframe tbody tr th {\n",
       "        vertical-align: top;\n",
       "    }\n",
       "\n",
       "    .dataframe thead th {\n",
       "        text-align: right;\n",
       "    }\n",
       "</style>\n",
       "<table border=\"1\" class=\"dataframe\">\n",
       "  <thead>\n",
       "    <tr style=\"text-align: right;\">\n",
       "      <th></th>\n",
       "      <th>QT_MAT_EJA_FUND</th>\n",
       "      <th>QT_MAT_EJA_FUND_AI</th>\n",
       "      <th>QT_MAT_EJA_FUND_AF</th>\n",
       "      <th>QT_MAT_EJA_FUND_FIC</th>\n",
       "    </tr>\n",
       "  </thead>\n",
       "  <tbody>\n",
       "  </tbody>\n",
       "</table>\n",
       "</div>"
      ],
      "text/plain": [
       "Empty DataFrame\n",
       "Columns: [QT_MAT_EJA_FUND, QT_MAT_EJA_FUND_AI, QT_MAT_EJA_FUND_AF, QT_MAT_EJA_FUND_FIC]\n",
       "Index: []"
      ]
     },
     "execution_count": 390,
     "metadata": {},
     "output_type": "execute_result"
    }
   ],
   "source": [
    "# EJA - Ensino Fundamental\n",
    "df[(~df['QT_MAT_EJA_FUND'].isna()) & (df['QT_MAT_EJA_FUND'] != df[temp[2:5]].sum(axis=1))][temp[1:5]]"
   ]
  },
  {
   "cell_type": "code",
   "execution_count": 391,
   "metadata": {},
   "outputs": [
    {
     "data": {
      "text/html": [
       "<div>\n",
       "<style scoped>\n",
       "    .dataframe tbody tr th:only-of-type {\n",
       "        vertical-align: middle;\n",
       "    }\n",
       "\n",
       "    .dataframe tbody tr th {\n",
       "        vertical-align: top;\n",
       "    }\n",
       "\n",
       "    .dataframe thead th {\n",
       "        text-align: right;\n",
       "    }\n",
       "</style>\n",
       "<table border=\"1\" class=\"dataframe\">\n",
       "  <thead>\n",
       "    <tr style=\"text-align: right;\">\n",
       "      <th></th>\n",
       "      <th>QT_MAT_EJA_MED</th>\n",
       "      <th>QT_MAT_EJA_MED_NPROF</th>\n",
       "      <th>QT_MAT_EJA_MED_FIC</th>\n",
       "      <th>QT_MAT_EJA_MED_TEC</th>\n",
       "    </tr>\n",
       "  </thead>\n",
       "  <tbody>\n",
       "  </tbody>\n",
       "</table>\n",
       "</div>"
      ],
      "text/plain": [
       "Empty DataFrame\n",
       "Columns: [QT_MAT_EJA_MED, QT_MAT_EJA_MED_NPROF, QT_MAT_EJA_MED_FIC, QT_MAT_EJA_MED_TEC]\n",
       "Index: []"
      ]
     },
     "execution_count": 391,
     "metadata": {},
     "output_type": "execute_result"
    }
   ],
   "source": [
    "# EJA - Ensino Médio\n",
    "df[(~df['QT_MAT_EJA_MED'].isna()) & (df['QT_MAT_EJA_MED'] != df[temp[6:]].sum(axis=1))][temp[5:]]"
   ]
  },
  {
   "cell_type": "code",
   "execution_count": 392,
   "metadata": {},
   "outputs": [
    {
     "data": {
      "text/html": [
       "<div>\n",
       "<style scoped>\n",
       "    .dataframe tbody tr th:only-of-type {\n",
       "        vertical-align: middle;\n",
       "    }\n",
       "\n",
       "    .dataframe tbody tr th {\n",
       "        vertical-align: top;\n",
       "    }\n",
       "\n",
       "    .dataframe thead th {\n",
       "        text-align: right;\n",
       "    }\n",
       "</style>\n",
       "<table border=\"1\" class=\"dataframe\">\n",
       "  <thead>\n",
       "    <tr style=\"text-align: right;\">\n",
       "      <th></th>\n",
       "      <th>QT_MAT_EJA</th>\n",
       "      <th>QT_MAT_EJA_FUND</th>\n",
       "      <th>QT_MAT_EJA_MED</th>\n",
       "    </tr>\n",
       "  </thead>\n",
       "  <tbody>\n",
       "  </tbody>\n",
       "</table>\n",
       "</div>"
      ],
      "text/plain": [
       "Empty DataFrame\n",
       "Columns: [QT_MAT_EJA, QT_MAT_EJA_FUND, QT_MAT_EJA_MED]\n",
       "Index: []"
      ]
     },
     "execution_count": 392,
     "metadata": {},
     "output_type": "execute_result"
    }
   ],
   "source": [
    "# EJA\n",
    "df[(~df['QT_MAT_EJA'].isna()) & (df['QT_MAT_EJA'] != df[['QT_MAT_EJA_FUND', 'QT_MAT_EJA_MED']].sum(axis=1))][['QT_MAT_EJA', 'QT_MAT_EJA_FUND', 'QT_MAT_EJA_MED']]"
   ]
  },
  {
   "cell_type": "markdown",
   "metadata": {},
   "source": [
    "#### Geral"
   ]
  },
  {
   "cell_type": "code",
   "execution_count": 393,
   "metadata": {},
   "outputs": [
    {
     "name": "stdout",
     "output_type": "stream",
     "text": [
      "\n",
      "Quantidade de valores ausentes\n"
     ]
    },
    {
     "data": {
      "text/plain": [
       "QT_MAT_BAS\n",
       "False    175331\n",
       "Name: count, dtype: int64"
      ]
     },
     "metadata": {},
     "output_type": "display_data"
    }
   ],
   "source": [
    "basic_exploration(df, 'QT_MAT_BAS', 'numeric')"
   ]
  },
  {
   "cell_type": "code",
   "execution_count": 394,
   "metadata": {},
   "outputs": [
    {
     "data": {
      "text/html": [
       "<div>\n",
       "<style scoped>\n",
       "    .dataframe tbody tr th:only-of-type {\n",
       "        vertical-align: middle;\n",
       "    }\n",
       "\n",
       "    .dataframe tbody tr th {\n",
       "        vertical-align: top;\n",
       "    }\n",
       "\n",
       "    .dataframe thead th {\n",
       "        text-align: right;\n",
       "    }\n",
       "</style>\n",
       "<table border=\"1\" class=\"dataframe\">\n",
       "  <thead>\n",
       "    <tr style=\"text-align: right;\">\n",
       "      <th></th>\n",
       "      <th>QT_MAT_BAS</th>\n",
       "    </tr>\n",
       "  </thead>\n",
       "  <tbody>\n",
       "    <tr>\n",
       "      <th>count</th>\n",
       "      <td>175331.000000</td>\n",
       "    </tr>\n",
       "    <tr>\n",
       "      <th>mean</th>\n",
       "      <td>253.845139</td>\n",
       "    </tr>\n",
       "    <tr>\n",
       "      <th>std</th>\n",
       "      <td>277.078432</td>\n",
       "    </tr>\n",
       "    <tr>\n",
       "      <th>min</th>\n",
       "      <td>1.000000</td>\n",
       "    </tr>\n",
       "    <tr>\n",
       "      <th>25%</th>\n",
       "      <td>68.000000</td>\n",
       "    </tr>\n",
       "    <tr>\n",
       "      <th>50%</th>\n",
       "      <td>160.000000</td>\n",
       "    </tr>\n",
       "    <tr>\n",
       "      <th>75%</th>\n",
       "      <td>341.000000</td>\n",
       "    </tr>\n",
       "    <tr>\n",
       "      <th>max</th>\n",
       "      <td>4965.000000</td>\n",
       "    </tr>\n",
       "  </tbody>\n",
       "</table>\n",
       "</div>"
      ],
      "text/plain": [
       "          QT_MAT_BAS\n",
       "count  175331.000000\n",
       "mean      253.845139\n",
       "std       277.078432\n",
       "min         1.000000\n",
       "25%        68.000000\n",
       "50%       160.000000\n",
       "75%       341.000000\n",
       "max      4965.000000"
      ]
     },
     "execution_count": 394,
     "metadata": {},
     "output_type": "execute_result"
    }
   ],
   "source": [
    "df[['QT_MAT_BAS']].describe()"
   ]
  },
  {
   "cell_type": "code",
   "execution_count": 395,
   "metadata": {},
   "outputs": [
    {
     "data": {
      "text/html": [
       "<div>\n",
       "<style scoped>\n",
       "    .dataframe tbody tr th:only-of-type {\n",
       "        vertical-align: middle;\n",
       "    }\n",
       "\n",
       "    .dataframe tbody tr th {\n",
       "        vertical-align: top;\n",
       "    }\n",
       "\n",
       "    .dataframe thead th {\n",
       "        text-align: right;\n",
       "    }\n",
       "</style>\n",
       "<table border=\"1\" class=\"dataframe\">\n",
       "  <thead>\n",
       "    <tr style=\"text-align: right;\">\n",
       "      <th></th>\n",
       "      <th>QT_MAT_BAS</th>\n",
       "    </tr>\n",
       "  </thead>\n",
       "  <tbody>\n",
       "    <tr>\n",
       "      <th>0.0</th>\n",
       "      <td>1.0</td>\n",
       "    </tr>\n",
       "    <tr>\n",
       "      <th>0.1</th>\n",
       "      <td>27.0</td>\n",
       "    </tr>\n",
       "    <tr>\n",
       "      <th>0.2</th>\n",
       "      <td>53.0</td>\n",
       "    </tr>\n",
       "    <tr>\n",
       "      <th>0.3</th>\n",
       "      <td>84.0</td>\n",
       "    </tr>\n",
       "    <tr>\n",
       "      <th>0.4</th>\n",
       "      <td>119.0</td>\n",
       "    </tr>\n",
       "    <tr>\n",
       "      <th>0.5</th>\n",
       "      <td>160.0</td>\n",
       "    </tr>\n",
       "    <tr>\n",
       "      <th>0.6</th>\n",
       "      <td>216.0</td>\n",
       "    </tr>\n",
       "    <tr>\n",
       "      <th>0.7</th>\n",
       "      <td>292.0</td>\n",
       "    </tr>\n",
       "    <tr>\n",
       "      <th>0.8</th>\n",
       "      <td>405.0</td>\n",
       "    </tr>\n",
       "    <tr>\n",
       "      <th>0.9</th>\n",
       "      <td>604.0</td>\n",
       "    </tr>\n",
       "    <tr>\n",
       "      <th>1.0</th>\n",
       "      <td>4965.0</td>\n",
       "    </tr>\n",
       "  </tbody>\n",
       "</table>\n",
       "</div>"
      ],
      "text/plain": [
       "     QT_MAT_BAS\n",
       "0.0         1.0\n",
       "0.1        27.0\n",
       "0.2        53.0\n",
       "0.3        84.0\n",
       "0.4       119.0\n",
       "0.5       160.0\n",
       "0.6       216.0\n",
       "0.7       292.0\n",
       "0.8       405.0\n",
       "0.9       604.0\n",
       "1.0      4965.0"
      ]
     },
     "execution_count": 395,
     "metadata": {},
     "output_type": "execute_result"
    }
   ],
   "source": [
    "df[['QT_MAT_BAS']].quantile([0.1 * i for i in range(11)])"
   ]
  },
  {
   "cell_type": "code",
   "execution_count": 396,
   "metadata": {},
   "outputs": [
    {
     "data": {
      "text/plain": [
       "<Axes: ylabel='Count'>"
      ]
     },
     "execution_count": 396,
     "metadata": {},
     "output_type": "execute_result"
    },
    {
     "data": {
      "image/png": "[encoded data removed]",
      "text/plain": [
       "<Figure size 640x480 with 1 Axes>"
      ]
     },
     "metadata": {},
     "output_type": "display_data"
    }
   ],
   "source": [
    "sns.histplot(df[['QT_MAT_BAS']])"
   ]
  },
  {
   "cell_type": "code",
   "execution_count": 397,
   "metadata": {},
   "outputs": [
    {
     "data": {
      "text/plain": [
       "(0, 177)"
      ]
     },
     "execution_count": 397,
     "metadata": {},
     "output_type": "execute_result"
    }
   ],
   "source": [
    "df[df['QT_MAT_BAS'] == 0].shape"
   ]
  },
  {
   "cell_type": "code",
   "execution_count": 398,
   "metadata": {},
   "outputs": [
    {
     "data": {
      "text/plain": [
       "(170391, 6)"
      ]
     },
     "metadata": {},
     "output_type": "display_data"
    },
    {
     "data": {
      "text/plain": [
       "(4940, 6)"
      ]
     },
     "metadata": {},
     "output_type": "display_data"
    },
    {
     "data": {
      "text/plain": [
       "(0, 6)"
      ]
     },
     "metadata": {},
     "output_type": "display_data"
    }
   ],
   "source": [
    "temp = ['QT_MAT_INF', 'QT_MAT_FUND', 'QT_MAT_MED', 'QT_MAT_PROF', 'QT_MAT_EJA']\n",
    "\n",
    "# A grande maioria dos alunos se encontra em apenas uma categoria de ensino de cada vez\n",
    "display(df[(~df['QT_MAT_BAS'].isna()) & (df['QT_MAT_BAS'] == df[temp].sum(axis = 1))][['QT_MAT_BAS'] + temp].shape)\n",
    "\n",
    "# Porém, é possível assumir que um mesmo aluno possa estar em duas categorias de ensino ao mesmo tempo\n",
    "df_teste = df[(~df['QT_MAT_BAS'].isna()) & (df['QT_MAT_BAS'] < df[temp].sum(axis = 1))][['QT_MAT_BAS'] + temp]\n",
    "display(df_teste.shape)\n",
    "\n",
    "# O valor de QT_MAT_BAS não supera o valor do somatório das categorias de ensino, reforçando a teoria\n",
    "display(df[(~df['QT_MAT_BAS'].isna()) & (df['QT_MAT_BAS'] > df[temp].sum(axis = 1))][['QT_MAT_BAS'] + temp].shape)"
   ]
  },
  {
   "cell_type": "code",
   "execution_count": 399,
   "metadata": {},
   "outputs": [
    {
     "data": {
      "text/html": [
       "<div>\n",
       "<style scoped>\n",
       "    .dataframe tbody tr th:only-of-type {\n",
       "        vertical-align: middle;\n",
       "    }\n",
       "\n",
       "    .dataframe tbody tr th {\n",
       "        vertical-align: top;\n",
       "    }\n",
       "\n",
       "    .dataframe thead th {\n",
       "        text-align: right;\n",
       "    }\n",
       "</style>\n",
       "<table border=\"1\" class=\"dataframe\">\n",
       "  <thead>\n",
       "    <tr style=\"text-align: right;\">\n",
       "      <th></th>\n",
       "      <th>QT_MAT_BAS</th>\n",
       "      <th>QT_MAT_INF</th>\n",
       "      <th>QT_MAT_FUND</th>\n",
       "      <th>QT_MAT_MED</th>\n",
       "      <th>QT_MAT_PROF</th>\n",
       "      <th>QT_MAT_EJA</th>\n",
       "    </tr>\n",
       "  </thead>\n",
       "  <tbody>\n",
       "    <tr>\n",
       "      <th>38</th>\n",
       "      <td>1013.0</td>\n",
       "      <td>53.0</td>\n",
       "      <td>706.0</td>\n",
       "      <td>254.0</td>\n",
       "      <td>72.0</td>\n",
       "      <td>0.0</td>\n",
       "    </tr>\n",
       "    <tr>\n",
       "      <th>140</th>\n",
       "      <td>127.0</td>\n",
       "      <td>0.0</td>\n",
       "      <td>15.0</td>\n",
       "      <td>0.0</td>\n",
       "      <td>112.0</td>\n",
       "      <td>112.0</td>\n",
       "    </tr>\n",
       "    <tr>\n",
       "      <th>375</th>\n",
       "      <td>197.0</td>\n",
       "      <td>0.0</td>\n",
       "      <td>0.0</td>\n",
       "      <td>197.0</td>\n",
       "      <td>197.0</td>\n",
       "      <td>0.0</td>\n",
       "    </tr>\n",
       "    <tr>\n",
       "      <th>565</th>\n",
       "      <td>220.0</td>\n",
       "      <td>0.0</td>\n",
       "      <td>0.0</td>\n",
       "      <td>220.0</td>\n",
       "      <td>220.0</td>\n",
       "      <td>0.0</td>\n",
       "    </tr>\n",
       "    <tr>\n",
       "      <th>666</th>\n",
       "      <td>579.0</td>\n",
       "      <td>0.0</td>\n",
       "      <td>0.0</td>\n",
       "      <td>579.0</td>\n",
       "      <td>579.0</td>\n",
       "      <td>0.0</td>\n",
       "    </tr>\n",
       "    <tr>\n",
       "      <th>...</th>\n",
       "      <td>...</td>\n",
       "      <td>...</td>\n",
       "      <td>...</td>\n",
       "      <td>...</td>\n",
       "      <td>...</td>\n",
       "      <td>...</td>\n",
       "    </tr>\n",
       "    <tr>\n",
       "      <th>217217</th>\n",
       "      <td>352.0</td>\n",
       "      <td>0.0</td>\n",
       "      <td>0.0</td>\n",
       "      <td>281.0</td>\n",
       "      <td>352.0</td>\n",
       "      <td>13.0</td>\n",
       "    </tr>\n",
       "    <tr>\n",
       "      <th>217310</th>\n",
       "      <td>369.0</td>\n",
       "      <td>0.0</td>\n",
       "      <td>0.0</td>\n",
       "      <td>272.0</td>\n",
       "      <td>369.0</td>\n",
       "      <td>11.0</td>\n",
       "    </tr>\n",
       "    <tr>\n",
       "      <th>217428</th>\n",
       "      <td>272.0</td>\n",
       "      <td>0.0</td>\n",
       "      <td>0.0</td>\n",
       "      <td>272.0</td>\n",
       "      <td>272.0</td>\n",
       "      <td>0.0</td>\n",
       "    </tr>\n",
       "    <tr>\n",
       "      <th>217452</th>\n",
       "      <td>42.0</td>\n",
       "      <td>0.0</td>\n",
       "      <td>0.0</td>\n",
       "      <td>0.0</td>\n",
       "      <td>42.0</td>\n",
       "      <td>42.0</td>\n",
       "    </tr>\n",
       "    <tr>\n",
       "      <th>217570</th>\n",
       "      <td>662.0</td>\n",
       "      <td>0.0</td>\n",
       "      <td>0.0</td>\n",
       "      <td>11.0</td>\n",
       "      <td>662.0</td>\n",
       "      <td>0.0</td>\n",
       "    </tr>\n",
       "  </tbody>\n",
       "</table>\n",
       "<p>4940 rows × 6 columns</p>\n",
       "</div>"
      ],
      "text/plain": [
       "        QT_MAT_BAS  QT_MAT_INF  QT_MAT_FUND  QT_MAT_MED  QT_MAT_PROF  \\\n",
       "38          1013.0        53.0        706.0       254.0         72.0   \n",
       "140          127.0         0.0         15.0         0.0        112.0   \n",
       "375          197.0         0.0          0.0       197.0        197.0   \n",
       "565          220.0         0.0          0.0       220.0        220.0   \n",
       "666          579.0         0.0          0.0       579.0        579.0   \n",
       "...            ...         ...          ...         ...          ...   \n",
       "217217       352.0         0.0          0.0       281.0        352.0   \n",
       "217310       369.0         0.0          0.0       272.0        369.0   \n",
       "217428       272.0         0.0          0.0       272.0        272.0   \n",
       "217452        42.0         0.0          0.0         0.0         42.0   \n",
       "217570       662.0         0.0          0.0        11.0        662.0   \n",
       "\n",
       "        QT_MAT_EJA  \n",
       "38             0.0  \n",
       "140          112.0  \n",
       "375            0.0  \n",
       "565            0.0  \n",
       "666            0.0  \n",
       "...            ...  \n",
       "217217        13.0  \n",
       "217310        11.0  \n",
       "217428         0.0  \n",
       "217452        42.0  \n",
       "217570         0.0  \n",
       "\n",
       "[4940 rows x 6 columns]"
      ]
     },
     "execution_count": 399,
     "metadata": {},
     "output_type": "execute_result"
    }
   ],
   "source": [
    "df_teste"
   ]
  },
  {
   "cell_type": "code",
   "execution_count": 400,
   "metadata": {},
   "outputs": [
    {
     "data": {
      "text/plain": [
       "(175331, 177)"
      ]
     },
     "execution_count": 400,
     "metadata": {},
     "output_type": "execute_result"
    }
   ],
   "source": [
    "df.shape"
   ]
  },
  {
   "cell_type": "code",
   "execution_count": 401,
   "metadata": {},
   "outputs": [
    {
     "data": {
      "text/plain": [
       "48"
      ]
     },
     "execution_count": 401,
     "metadata": {},
     "output_type": "execute_result"
    }
   ],
   "source": [
    "cols_remover += cols_matriculas\n",
    "len(cols_remover)"
   ]
  },
  {
   "cell_type": "code",
   "execution_count": 402,
   "metadata": {},
   "outputs": [
    {
     "data": {
      "text/plain": [
       "QT_MAT_BAS\n",
       "False    175331\n",
       "Name: count, dtype: int64"
      ]
     },
     "execution_count": 402,
     "metadata": {},
     "output_type": "execute_result"
    }
   ],
   "source": [
    "# Removendo escolas com valor ausente na quantidade de matrículas\n",
    "df = df.dropna(subset=['QT_MAT_BAS'], ignore_index=True)\n",
    "df['QT_MAT_BAS'].isna().value_counts()"
   ]
  },
  {
   "cell_type": "code",
   "execution_count": 403,
   "metadata": {},
   "outputs": [
    {
     "data": {
      "text/html": [
       "<div>\n",
       "<style scoped>\n",
       "    .dataframe tbody tr th:only-of-type {\n",
       "        vertical-align: middle;\n",
       "    }\n",
       "\n",
       "    .dataframe tbody tr th {\n",
       "        vertical-align: top;\n",
       "    }\n",
       "\n",
       "    .dataframe thead th {\n",
       "        text-align: right;\n",
       "    }\n",
       "</style>\n",
       "<table border=\"1\" class=\"dataframe\">\n",
       "  <thead>\n",
       "    <tr style=\"text-align: right;\">\n",
       "      <th></th>\n",
       "      <th>NO_ENTIDADE</th>\n",
       "      <th>CO_UF</th>\n",
       "      <th>QT_MAT_BAS</th>\n",
       "    </tr>\n",
       "  </thead>\n",
       "  <tbody>\n",
       "    <tr>\n",
       "      <th>149132</th>\n",
       "      <td>INSTITUTO ESTADUAL DE EDUCACAO</td>\n",
       "      <td>42</td>\n",
       "      <td>4965.0</td>\n",
       "    </tr>\n",
       "    <tr>\n",
       "      <th>10718</th>\n",
       "      <td>ESCOLA TECNICA ESTADUAL VILHENA ALVES</td>\n",
       "      <td>15</td>\n",
       "      <td>4836.0</td>\n",
       "    </tr>\n",
       "    <tr>\n",
       "      <th>132131</th>\n",
       "      <td>PROZ UNIDADE JABAQUARA</td>\n",
       "      <td>35</td>\n",
       "      <td>4527.0</td>\n",
       "    </tr>\n",
       "    <tr>\n",
       "      <th>122574</th>\n",
       "      <td>AGOSTINIANO MENDEL COLEGIO</td>\n",
       "      <td>35</td>\n",
       "      <td>4405.0</td>\n",
       "    </tr>\n",
       "    <tr>\n",
       "      <th>121116</th>\n",
       "      <td>DANTE ALIGHIERI COLEGIO</td>\n",
       "      <td>35</td>\n",
       "      <td>4331.0</td>\n",
       "    </tr>\n",
       "    <tr>\n",
       "      <th>7206</th>\n",
       "      <td>ESCOLA ESTADUAL TEN CORONEL CANDIDO JOSE MARIANO</td>\n",
       "      <td>13</td>\n",
       "      <td>4188.0</td>\n",
       "    </tr>\n",
       "    <tr>\n",
       "      <th>82259</th>\n",
       "      <td>ESCOLA SANDOVAL SOARES DE AZEVEDO - ESSA</td>\n",
       "      <td>31</td>\n",
       "      <td>3577.0</td>\n",
       "    </tr>\n",
       "    <tr>\n",
       "      <th>117558</th>\n",
       "      <td>LAURO GOMES ETEC</td>\n",
       "      <td>35</td>\n",
       "      <td>3566.0</td>\n",
       "    </tr>\n",
       "    <tr>\n",
       "      <th>81793</th>\n",
       "      <td>COLEGIO SANTO AGOSTINHO</td>\n",
       "      <td>31</td>\n",
       "      <td>3512.0</td>\n",
       "    </tr>\n",
       "    <tr>\n",
       "      <th>34165</th>\n",
       "      <td>INSTITUTO DOM BARRETO CENTRO</td>\n",
       "      <td>22</td>\n",
       "      <td>3460.0</td>\n",
       "    </tr>\n",
       "  </tbody>\n",
       "</table>\n",
       "</div>"
      ],
      "text/plain": [
       "                                             NO_ENTIDADE  CO_UF  QT_MAT_BAS\n",
       "149132                    INSTITUTO ESTADUAL DE EDUCACAO     42      4965.0\n",
       "10718              ESCOLA TECNICA ESTADUAL VILHENA ALVES     15      4836.0\n",
       "132131                            PROZ UNIDADE JABAQUARA     35      4527.0\n",
       "122574                        AGOSTINIANO MENDEL COLEGIO     35      4405.0\n",
       "121116                           DANTE ALIGHIERI COLEGIO     35      4331.0\n",
       "7206    ESCOLA ESTADUAL TEN CORONEL CANDIDO JOSE MARIANO     13      4188.0\n",
       "82259           ESCOLA SANDOVAL SOARES DE AZEVEDO - ESSA     31      3577.0\n",
       "117558                                  LAURO GOMES ETEC     35      3566.0\n",
       "81793                            COLEGIO SANTO AGOSTINHO     31      3512.0\n",
       "34165                       INSTITUTO DOM BARRETO CENTRO     22      3460.0"
      ]
     },
     "execution_count": 403,
     "metadata": {},
     "output_type": "execute_result"
    }
   ],
   "source": [
    "df[['NO_ENTIDADE', 'CO_UF', 'QT_MAT_BAS']].sort_values(by='QT_MAT_BAS', ascending=False).head(10)"
   ]
  },
  {
   "cell_type": "code",
   "execution_count": 404,
   "metadata": {},
   "outputs": [
    {
     "data": {
      "text/plain": [
       "(55, 177)"
      ]
     },
     "execution_count": 404,
     "metadata": {},
     "output_type": "execute_result"
    }
   ],
   "source": [
    "df[df['QT_MAT_BAS'] == 1].shape"
   ]
  },
  {
   "cell_type": "markdown",
   "metadata": {},
   "source": [
    "### Tipo de Escola"
   ]
  },
  {
   "cell_type": "markdown",
   "metadata": {},
   "source": [
    "#### TP_DEPENDENCIA"
   ]
  },
  {
   "cell_type": "markdown",
   "metadata": {},
   "source": [
    "- 1 - Federal\n",
    "- 2 - Estadual\n",
    "- 3 - Municipal\n",
    "- 4 - Privada"
   ]
  },
  {
   "cell_type": "code",
   "execution_count": 405,
   "metadata": {},
   "outputs": [
    {
     "name": "stdout",
     "output_type": "stream",
     "text": [
      "\n",
      "Contagem de valores:\n"
     ]
    },
    {
     "data": {
      "text/plain": [
       "TP_DEPENDENCIA\n",
       "3    106441\n",
       "4     40729\n",
       "2     27569\n",
       "1       592\n",
       "Name: count, dtype: int64"
      ]
     },
     "metadata": {},
     "output_type": "display_data"
    },
    {
     "name": "stdout",
     "output_type": "stream",
     "text": [
      "\n",
      "Quantidade de valores ausentes\n"
     ]
    },
    {
     "data": {
      "text/plain": [
       "TP_DEPENDENCIA\n",
       "False    175331\n",
       "Name: count, dtype: int64"
      ]
     },
     "metadata": {},
     "output_type": "display_data"
    }
   ],
   "source": [
    "basic_exploration(df, 'TP_DEPENDENCIA', 'category')"
   ]
  },
  {
   "cell_type": "markdown",
   "metadata": {},
   "source": [
    "#### TP_CATEGORIA_ESCOLA_PRIVADA"
   ]
  },
  {
   "cell_type": "markdown",
   "metadata": {},
   "source": [
    "- 1 - Particular\n",
    "- 2 - Comunitária\n",
    "- 3 - Confessional\n",
    "- 4 - Filantrópica\n",
    "\n",
    "\\* Não aplicável para escolas públicas"
   ]
  },
  {
   "cell_type": "code",
   "execution_count": 406,
   "metadata": {},
   "outputs": [
    {
     "name": "stdout",
     "output_type": "stream",
     "text": [
      "\n",
      "Contagem de valores:\n"
     ]
    },
    {
     "data": {
      "text/plain": [
       "TP_CATEGORIA_ESCOLA_PRIVADA\n",
       "NaN    134602\n",
       "1.0     30477\n",
       "4.0      7650\n",
       "2.0      2195\n",
       "3.0       407\n",
       "Name: count, dtype: int64"
      ]
     },
     "metadata": {},
     "output_type": "display_data"
    },
    {
     "name": "stdout",
     "output_type": "stream",
     "text": [
      "\n",
      "Quantidade de valores ausentes\n"
     ]
    },
    {
     "data": {
      "text/plain": [
       "TP_CATEGORIA_ESCOLA_PRIVADA\n",
       "True     134602\n",
       "False     40729\n",
       "Name: count, dtype: int64"
      ]
     },
     "metadata": {},
     "output_type": "display_data"
    }
   ],
   "source": [
    "basic_exploration(df, 'TP_CATEGORIA_ESCOLA_PRIVADA', 'category')"
   ]
  },
  {
   "cell_type": "code",
   "execution_count": 407,
   "metadata": {},
   "outputs": [
    {
     "data": {
      "text/html": [
       "<div>\n",
       "<style scoped>\n",
       "    .dataframe tbody tr th:only-of-type {\n",
       "        vertical-align: middle;\n",
       "    }\n",
       "\n",
       "    .dataframe tbody tr th {\n",
       "        vertical-align: top;\n",
       "    }\n",
       "\n",
       "    .dataframe thead th {\n",
       "        text-align: right;\n",
       "    }\n",
       "</style>\n",
       "<table border=\"1\" class=\"dataframe\">\n",
       "  <thead>\n",
       "    <tr style=\"text-align: right;\">\n",
       "      <th></th>\n",
       "      <th>NO_ENTIDADE</th>\n",
       "      <th>TP_DEPENDENCIA</th>\n",
       "      <th>TP_CATEGORIA_ESCOLA_PRIVADA</th>\n",
       "      <th>TP_LOCALIZACAO</th>\n",
       "      <th>TP_LOCALIZACAO_DIFERENCIADA</th>\n",
       "      <th>TP_SITUACAO_FUNCIONAMENTO</th>\n",
       "      <th>IN_LOCAL_FUNC_PREDIO_ESCOLAR</th>\n",
       "      <th>TP_OCUPACAO_PREDIO_ESCOLAR</th>\n",
       "      <th>IN_LOCAL_FUNC_SOCIOEDUCATIVO</th>\n",
       "      <th>IN_LOCAL_FUNC_UNID_PRISIONAL</th>\n",
       "      <th>IN_LOCAL_FUNC_PRISIONAL_SOCIO</th>\n",
       "      <th>IN_LOCAL_FUNC_GALPAO</th>\n",
       "      <th>IN_LOCAL_FUNC_SALAS_OUTRA_ESC</th>\n",
       "      <th>IN_LOCAL_FUNC_OUTROS</th>\n",
       "      <th>IN_PREDIO_COMPARTILHADO</th>\n",
       "      <th>IN_AGUA_POTAVEL</th>\n",
       "      <th>IN_AGUA_REDE_PUBLICA</th>\n",
       "      <th>IN_AGUA_POCO_ARTESIANO</th>\n",
       "      <th>IN_AGUA_CACIMBA</th>\n",
       "      <th>IN_AGUA_FONTE_RIO</th>\n",
       "      <th>IN_AGUA_INEXISTENTE</th>\n",
       "      <th>IN_ENERGIA_REDE_PUBLICA</th>\n",
       "      <th>IN_ENERGIA_GERADOR_FOSSIL</th>\n",
       "      <th>IN_ENERGIA_RENOVAVEL</th>\n",
       "      <th>IN_ENERGIA_INEXISTENTE</th>\n",
       "      <th>IN_ESGOTO_REDE_PUBLICA</th>\n",
       "      <th>IN_ESGOTO_FOSSA_SEPTICA</th>\n",
       "      <th>IN_ESGOTO_FOSSA_COMUM</th>\n",
       "      <th>IN_ESGOTO_FOSSA</th>\n",
       "      <th>IN_ESGOTO_INEXISTENTE</th>\n",
       "      <th>IN_LIXO_SERVICO_COLETA</th>\n",
       "      <th>IN_LIXO_QUEIMA</th>\n",
       "      <th>IN_LIXO_ENTERRA</th>\n",
       "      <th>IN_LIXO_DESTINO_FINAL_PUBLICO</th>\n",
       "      <th>IN_LIXO_DESCARTA_OUTRA_AREA</th>\n",
       "      <th>IN_ALMOXARIFADO</th>\n",
       "      <th>IN_AREA_VERDE</th>\n",
       "      <th>IN_AUDITORIO</th>\n",
       "      <th>IN_BANHEIRO</th>\n",
       "      <th>IN_BANHEIRO_EI</th>\n",
       "      <th>IN_BANHEIRO_PNE</th>\n",
       "      <th>IN_BANHEIRO_FUNCIONARIOS</th>\n",
       "      <th>IN_BANHEIRO_CHUVEIRO</th>\n",
       "      <th>IN_BIBLIOTECA</th>\n",
       "      <th>IN_BIBLIOTECA_SALA_LEITURA</th>\n",
       "      <th>IN_COZINHA</th>\n",
       "      <th>IN_DESPENSA</th>\n",
       "      <th>IN_DORMITORIO_ALUNO</th>\n",
       "      <th>IN_DORMITORIO_PROFESSOR</th>\n",
       "      <th>IN_LABORATORIO_CIENCIAS</th>\n",
       "      <th>IN_LABORATORIO_INFORMATICA</th>\n",
       "      <th>IN_LABORATORIO_EDUC_PROF</th>\n",
       "      <th>IN_PATIO_COBERTO</th>\n",
       "      <th>IN_PATIO_DESCOBERTO</th>\n",
       "      <th>IN_PARQUE_INFANTIL</th>\n",
       "      <th>IN_PISCINA</th>\n",
       "      <th>IN_QUADRA_ESPORTES</th>\n",
       "      <th>IN_QUADRA_ESPORTES_COBERTA</th>\n",
       "      <th>IN_QUADRA_ESPORTES_DESCOBERTA</th>\n",
       "      <th>IN_REFEITORIO</th>\n",
       "      <th>IN_SALA_ATELIE_ARTES</th>\n",
       "      <th>IN_SALA_MUSICA_CORAL</th>\n",
       "      <th>IN_SALA_ESTUDIO_DANCA</th>\n",
       "      <th>IN_SALA_MULTIUSO</th>\n",
       "      <th>IN_SALA_ESTUDIO_GRAVACAO</th>\n",
       "      <th>IN_SALA_OFICINAS_EDUC_PROF</th>\n",
       "      <th>IN_SALA_DIRETORIA</th>\n",
       "      <th>IN_SALA_LEITURA</th>\n",
       "      <th>IN_SALA_PROFESSOR</th>\n",
       "      <th>IN_SALA_REPOUSO_ALUNO</th>\n",
       "      <th>IN_SECRETARIA</th>\n",
       "      <th>IN_SALA_ATENDIMENTO_ESPECIAL</th>\n",
       "      <th>IN_TERREIRAO</th>\n",
       "      <th>IN_VIVEIRO</th>\n",
       "      <th>IN_DEPENDENCIAS_OUTRAS</th>\n",
       "      <th>IN_ACESSIBILIDADE_CORRIMAO</th>\n",
       "      <th>IN_ACESSIBILIDADE_ELEVADOR</th>\n",
       "      <th>IN_ACESSIBILIDADE_PISOS_TATEIS</th>\n",
       "      <th>IN_ACESSIBILIDADE_VAO_LIVRE</th>\n",
       "      <th>IN_ACESSIBILIDADE_RAMPAS</th>\n",
       "      <th>IN_ACESSIBILIDADE_SINAL_SONORO</th>\n",
       "      <th>IN_ACESSIBILIDADE_SINAL_TATIL</th>\n",
       "      <th>IN_ACESSIBILIDADE_SINAL_VISUAL</th>\n",
       "      <th>IN_ACESSIBILIDADE_INEXISTENTE</th>\n",
       "      <th>QT_SALAS_UTILIZADAS_DENTRO</th>\n",
       "      <th>QT_SALAS_UTILIZADAS_FORA</th>\n",
       "      <th>QT_SALAS_UTILIZADAS</th>\n",
       "      <th>QT_SALAS_UTILIZA_CLIMATIZADAS</th>\n",
       "      <th>QT_SALAS_UTILIZADAS_ACESSIVEIS</th>\n",
       "      <th>IN_EQUIP_PARABOLICA</th>\n",
       "      <th>IN_COMPUTADOR</th>\n",
       "      <th>IN_EQUIP_COPIADORA</th>\n",
       "      <th>IN_EQUIP_IMPRESSORA</th>\n",
       "      <th>IN_EQUIP_IMPRESSORA_MULT</th>\n",
       "      <th>IN_EQUIP_SCANNER</th>\n",
       "      <th>QT_EQUIP_DVD</th>\n",
       "      <th>QT_EQUIP_SOM</th>\n",
       "      <th>QT_EQUIP_TV</th>\n",
       "      <th>QT_EQUIP_LOUSA_DIGITAL</th>\n",
       "      <th>QT_EQUIP_MULTIMIDIA</th>\n",
       "      <th>QT_DESKTOP_ALUNO</th>\n",
       "      <th>QT_COMP_PORTATIL_ALUNO</th>\n",
       "      <th>QT_TABLET_ALUNO</th>\n",
       "      <th>IN_INTERNET</th>\n",
       "      <th>IN_INTERNET_ALUNOS</th>\n",
       "      <th>IN_INTERNET_ADMINISTRATIVO</th>\n",
       "      <th>IN_INTERNET_APRENDIZAGEM</th>\n",
       "      <th>IN_INTERNET_COMUNIDADE</th>\n",
       "      <th>IN_ACESSO_INTERNET_COMPUTADOR</th>\n",
       "      <th>IN_ACES_INTERNET_DISP_PESSOAIS</th>\n",
       "      <th>TP_REDE_LOCAL</th>\n",
       "      <th>IN_BANDA_LARGA</th>\n",
       "      <th>IN_MATERIAL_PED_MULTIMIDIA</th>\n",
       "      <th>IN_MATERIAL_PED_INFANTIL</th>\n",
       "      <th>IN_MATERIAL_PED_CIENTIFICO</th>\n",
       "      <th>IN_MATERIAL_PED_DIFUSAO</th>\n",
       "      <th>IN_MATERIAL_PED_MUSICAL</th>\n",
       "      <th>IN_MATERIAL_PED_JOGOS</th>\n",
       "      <th>IN_MATERIAL_PED_ARTISTICAS</th>\n",
       "      <th>IN_MATERIAL_PED_PROFISSIONAL</th>\n",
       "      <th>IN_MATERIAL_PED_DESPORTIVA</th>\n",
       "      <th>IN_MATERIAL_PED_INDIGENA</th>\n",
       "      <th>IN_MATERIAL_PED_ETNICO</th>\n",
       "      <th>IN_MATERIAL_PED_CAMPO</th>\n",
       "      <th>IN_MATERIAL_PED_BIL_SURDOS</th>\n",
       "      <th>IN_MATERIAL_PED_NENHUM</th>\n",
       "      <th>CO_REGIAO</th>\n",
       "      <th>CO_UF</th>\n",
       "      <th>IN_EAD</th>\n",
       "      <th>QT_MAT_BAS</th>\n",
       "      <th>QT_MAT_INF</th>\n",
       "      <th>QT_MAT_INF_CRE</th>\n",
       "      <th>QT_MAT_INF_PRE</th>\n",
       "      <th>QT_MAT_FUND</th>\n",
       "      <th>QT_MAT_FUND_AI</th>\n",
       "      <th>QT_MAT_FUND_AI_1</th>\n",
       "      <th>QT_MAT_FUND_AI_2</th>\n",
       "      <th>QT_MAT_FUND_AI_3</th>\n",
       "      <th>QT_MAT_FUND_AI_4</th>\n",
       "      <th>QT_MAT_FUND_AI_5</th>\n",
       "      <th>QT_MAT_FUND_AF</th>\n",
       "      <th>QT_MAT_FUND_AF_6</th>\n",
       "      <th>QT_MAT_FUND_AF_7</th>\n",
       "      <th>QT_MAT_FUND_AF_8</th>\n",
       "      <th>QT_MAT_FUND_AF_9</th>\n",
       "      <th>QT_MAT_MED</th>\n",
       "      <th>QT_MAT_MED_PROP</th>\n",
       "      <th>QT_MAT_MED_PROP_1</th>\n",
       "      <th>QT_MAT_MED_PROP_2</th>\n",
       "      <th>QT_MAT_MED_PROP_3</th>\n",
       "      <th>QT_MAT_MED_PROP_4</th>\n",
       "      <th>QT_MAT_MED_PROP_NS</th>\n",
       "      <th>QT_MAT_MED_CT</th>\n",
       "      <th>QT_MAT_MED_CT_1</th>\n",
       "      <th>QT_MAT_MED_CT_2</th>\n",
       "      <th>QT_MAT_MED_CT_3</th>\n",
       "      <th>QT_MAT_MED_CT_4</th>\n",
       "      <th>QT_MAT_MED_CT_NS</th>\n",
       "      <th>QT_MAT_MED_NM</th>\n",
       "      <th>QT_MAT_MED_NM_1</th>\n",
       "      <th>QT_MAT_MED_NM_2</th>\n",
       "      <th>QT_MAT_MED_NM_3</th>\n",
       "      <th>QT_MAT_MED_NM_4</th>\n",
       "      <th>QT_MAT_PROF</th>\n",
       "      <th>QT_MAT_PROF_TEC</th>\n",
       "      <th>QT_MAT_PROF_TEC_CONC</th>\n",
       "      <th>QT_MAT_PROF_TEC_SUBS</th>\n",
       "      <th>QT_MAT_PROF_FIC_CONC</th>\n",
       "      <th>QT_MAT_EJA</th>\n",
       "      <th>QT_MAT_EJA_FUND</th>\n",
       "      <th>QT_MAT_EJA_FUND_AI</th>\n",
       "      <th>QT_MAT_EJA_FUND_AF</th>\n",
       "      <th>QT_MAT_EJA_FUND_FIC</th>\n",
       "      <th>QT_MAT_EJA_MED</th>\n",
       "      <th>QT_MAT_EJA_MED_NPROF</th>\n",
       "      <th>QT_MAT_EJA_MED_FIC</th>\n",
       "      <th>QT_MAT_EJA_MED_TEC</th>\n",
       "    </tr>\n",
       "  </thead>\n",
       "  <tbody>\n",
       "  </tbody>\n",
       "</table>\n",
       "</div>"
      ],
      "text/plain": [
       "Empty DataFrame\n",
       "Columns: [NO_ENTIDADE, TP_DEPENDENCIA, TP_CATEGORIA_ESCOLA_PRIVADA, TP_LOCALIZACAO, TP_LOCALIZACAO_DIFERENCIADA, TP_SITUACAO_FUNCIONAMENTO, IN_LOCAL_FUNC_PREDIO_ESCOLAR, TP_OCUPACAO_PREDIO_ESCOLAR, IN_LOCAL_FUNC_SOCIOEDUCATIVO, IN_LOCAL_FUNC_UNID_PRISIONAL, IN_LOCAL_FUNC_PRISIONAL_SOCIO, IN_LOCAL_FUNC_GALPAO, IN_LOCAL_FUNC_SALAS_OUTRA_ESC, IN_LOCAL_FUNC_OUTROS, IN_PREDIO_COMPARTILHADO, IN_AGUA_POTAVEL, IN_AGUA_REDE_PUBLICA, IN_AGUA_POCO_ARTESIANO, IN_AGUA_CACIMBA, IN_AGUA_FONTE_RIO, IN_AGUA_INEXISTENTE, IN_ENERGIA_REDE_PUBLICA, IN_ENERGIA_GERADOR_FOSSIL, IN_ENERGIA_RENOVAVEL, IN_ENERGIA_INEXISTENTE, IN_ESGOTO_REDE_PUBLICA, IN_ESGOTO_FOSSA_SEPTICA, IN_ESGOTO_FOSSA_COMUM, IN_ESGOTO_FOSSA, IN_ESGOTO_INEXISTENTE, IN_LIXO_SERVICO_COLETA, IN_LIXO_QUEIMA, IN_LIXO_ENTERRA, IN_LIXO_DESTINO_FINAL_PUBLICO, IN_LIXO_DESCARTA_OUTRA_AREA, IN_ALMOXARIFADO, IN_AREA_VERDE, IN_AUDITORIO, IN_BANHEIRO, IN_BANHEIRO_EI, IN_BANHEIRO_PNE, IN_BANHEIRO_FUNCIONARIOS, IN_BANHEIRO_CHUVEIRO, IN_BIBLIOTECA, IN_BIBLIOTECA_SALA_LEITURA, IN_COZINHA, IN_DESPENSA, IN_DORMITORIO_ALUNO, IN_DORMITORIO_PROFESSOR, IN_LABORATORIO_CIENCIAS, IN_LABORATORIO_INFORMATICA, IN_LABORATORIO_EDUC_PROF, IN_PATIO_COBERTO, IN_PATIO_DESCOBERTO, IN_PARQUE_INFANTIL, IN_PISCINA, IN_QUADRA_ESPORTES, IN_QUADRA_ESPORTES_COBERTA, IN_QUADRA_ESPORTES_DESCOBERTA, IN_REFEITORIO, IN_SALA_ATELIE_ARTES, IN_SALA_MUSICA_CORAL, IN_SALA_ESTUDIO_DANCA, IN_SALA_MULTIUSO, IN_SALA_ESTUDIO_GRAVACAO, IN_SALA_OFICINAS_EDUC_PROF, IN_SALA_DIRETORIA, IN_SALA_LEITURA, IN_SALA_PROFESSOR, IN_SALA_REPOUSO_ALUNO, IN_SECRETARIA, IN_SALA_ATENDIMENTO_ESPECIAL, IN_TERREIRAO, IN_VIVEIRO, IN_DEPENDENCIAS_OUTRAS, IN_ACESSIBILIDADE_CORRIMAO, IN_ACESSIBILIDADE_ELEVADOR, IN_ACESSIBILIDADE_PISOS_TATEIS, IN_ACESSIBILIDADE_VAO_LIVRE, IN_ACESSIBILIDADE_RAMPAS, IN_ACESSIBILIDADE_SINAL_SONORO, IN_ACESSIBILIDADE_SINAL_TATIL, IN_ACESSIBILIDADE_SINAL_VISUAL, IN_ACESSIBILIDADE_INEXISTENTE, QT_SALAS_UTILIZADAS_DENTRO, QT_SALAS_UTILIZADAS_FORA, QT_SALAS_UTILIZADAS, QT_SALAS_UTILIZA_CLIMATIZADAS, QT_SALAS_UTILIZADAS_ACESSIVEIS, IN_EQUIP_PARABOLICA, IN_COMPUTADOR, IN_EQUIP_COPIADORA, IN_EQUIP_IMPRESSORA, IN_EQUIP_IMPRESSORA_MULT, IN_EQUIP_SCANNER, QT_EQUIP_DVD, QT_EQUIP_SOM, QT_EQUIP_TV, QT_EQUIP_LOUSA_DIGITAL, QT_EQUIP_MULTIMIDIA, ...]\n",
       "Index: []"
      ]
     },
     "execution_count": 407,
     "metadata": {},
     "output_type": "execute_result"
    }
   ],
   "source": [
    "df[(df['TP_DEPENDENCIA'] == 4) & (df['TP_CATEGORIA_ESCOLA_PRIVADA'].isna())]"
   ]
  },
  {
   "cell_type": "code",
   "execution_count": 408,
   "metadata": {},
   "outputs": [
    {
     "data": {
      "text/plain": [
       "TP_CATEGORIA_ESCOLA_PRIVADA\n",
       "-1.0    134602\n",
       " 1.0     30477\n",
       " 4.0      7650\n",
       " 2.0      2195\n",
       " 3.0       407\n",
       "Name: count, dtype: int64"
      ]
     },
     "execution_count": 408,
     "metadata": {},
     "output_type": "execute_result"
    }
   ],
   "source": [
    "df.loc[(df['TP_DEPENDENCIA'] < 4) & (df['TP_CATEGORIA_ESCOLA_PRIVADA'].isna()), 'TP_CATEGORIA_ESCOLA_PRIVADA'] = -1\n",
    "df['TP_CATEGORIA_ESCOLA_PRIVADA'].value_counts(dropna=False)"
   ]
  },
  {
   "cell_type": "markdown",
   "metadata": {},
   "source": [
    "### Local da Escola"
   ]
  },
  {
   "cell_type": "markdown",
   "metadata": {},
   "source": [
    "#### TP_LOCALIZACAO"
   ]
  },
  {
   "cell_type": "markdown",
   "metadata": {},
   "source": [
    "- 1 - Urbana\n",
    "- 2 - Rural"
   ]
  },
  {
   "cell_type": "code",
   "execution_count": 409,
   "metadata": {},
   "outputs": [
    {
     "name": "stdout",
     "output_type": "stream",
     "text": [
      "\n",
      "Contagem de valores:\n"
     ]
    },
    {
     "data": {
      "text/plain": [
       "TP_LOCALIZACAO\n",
       "1    123673\n",
       "2     51658\n",
       "Name: count, dtype: int64"
      ]
     },
     "metadata": {},
     "output_type": "display_data"
    },
    {
     "name": "stdout",
     "output_type": "stream",
     "text": [
      "\n",
      "Quantidade de valores ausentes\n"
     ]
    },
    {
     "data": {
      "text/plain": [
       "TP_LOCALIZACAO\n",
       "False    175331\n",
       "Name: count, dtype: int64"
      ]
     },
     "metadata": {},
     "output_type": "display_data"
    }
   ],
   "source": [
    "basic_exploration(df, 'TP_LOCALIZACAO', 'category')"
   ]
  },
  {
   "cell_type": "markdown",
   "metadata": {},
   "source": [
    "#### TP_LOCALIZACAO_DIFERENCIADA"
   ]
  },
  {
   "cell_type": "markdown",
   "metadata": {},
   "source": [
    "- 0 - A escola não está em área de localização diferenciada\n",
    "- 1 - Área de assentamento\n",
    "- 2 - Terra indígena\n",
    "- 3 - Área onde se localiza comunidade remanescente de quilombos\n",
    "- 8 - Área onde se localizam povos e comunidades tradicionais"
   ]
  },
  {
   "cell_type": "code",
   "execution_count": 410,
   "metadata": {},
   "outputs": [
    {
     "name": "stdout",
     "output_type": "stream",
     "text": [
      "\n",
      "Contagem de valores:\n"
     ]
    },
    {
     "data": {
      "text/plain": [
       "TP_LOCALIZACAO_DIFERENCIADA\n",
       "0.0    163847\n",
       "1.0      4539\n",
       "2.0      3587\n",
       "3.0      2592\n",
       "8.0       766\n",
       "Name: count, dtype: int64"
      ]
     },
     "metadata": {},
     "output_type": "display_data"
    },
    {
     "name": "stdout",
     "output_type": "stream",
     "text": [
      "\n",
      "Quantidade de valores ausentes\n"
     ]
    },
    {
     "data": {
      "text/plain": [
       "TP_LOCALIZACAO_DIFERENCIADA\n",
       "False    175331\n",
       "Name: count, dtype: int64"
      ]
     },
     "metadata": {},
     "output_type": "display_data"
    }
   ],
   "source": [
    "basic_exploration(df, 'TP_LOCALIZACAO_DIFERENCIADA', 'category')"
   ]
  },
  {
   "cell_type": "markdown",
   "metadata": {},
   "source": [
    "#### IN_LOCAL_FUNC_PREDIO_ESCOLAR"
   ]
  },
  {
   "cell_type": "markdown",
   "metadata": {},
   "source": [
    "- 1 - Sim\n",
    "- 0 - Não\n"
   ]
  },
  {
   "cell_type": "code",
   "execution_count": 411,
   "metadata": {},
   "outputs": [
    {
     "name": "stdout",
     "output_type": "stream",
     "text": [
      "\n",
      "Contagem de valores:\n"
     ]
    },
    {
     "data": {
      "text/plain": [
       "IN_LOCAL_FUNC_PREDIO_ESCOLAR\n",
       "1.0    171361\n",
       "0.0      3970\n",
       "Name: count, dtype: int64"
      ]
     },
     "metadata": {},
     "output_type": "display_data"
    },
    {
     "name": "stdout",
     "output_type": "stream",
     "text": [
      "\n",
      "Quantidade de valores ausentes\n"
     ]
    },
    {
     "data": {
      "text/plain": [
       "IN_LOCAL_FUNC_PREDIO_ESCOLAR\n",
       "False    175331\n",
       "Name: count, dtype: int64"
      ]
     },
     "metadata": {},
     "output_type": "display_data"
    }
   ],
   "source": [
    "basic_exploration(df, 'IN_LOCAL_FUNC_PREDIO_ESCOLAR', 'binary')"
   ]
  },
  {
   "cell_type": "markdown",
   "metadata": {},
   "source": [
    "#### TP_OCUPACAO_PREDIO_ESCOLAR"
   ]
  },
  {
   "cell_type": "markdown",
   "metadata": {},
   "source": [
    "- 1 - Próprio\n",
    "- 2 - Alugado\n",
    "- 3 - Cedido\n",
    "\n",
    "\\* Não aplicável para escolas que não ocupam prédio escolar"
   ]
  },
  {
   "cell_type": "code",
   "execution_count": 412,
   "metadata": {},
   "outputs": [
    {
     "name": "stdout",
     "output_type": "stream",
     "text": [
      "\n",
      "Contagem de valores:\n"
     ]
    },
    {
     "data": {
      "text/plain": [
       "TP_OCUPACAO_PREDIO_ESCOLAR\n",
       "1.0    139366\n",
       "2.0     21118\n",
       "3.0     10877\n",
       "NaN      3970\n",
       "Name: count, dtype: int64"
      ]
     },
     "metadata": {},
     "output_type": "display_data"
    },
    {
     "name": "stdout",
     "output_type": "stream",
     "text": [
      "\n",
      "Quantidade de valores ausentes\n"
     ]
    },
    {
     "data": {
      "text/plain": [
       "TP_OCUPACAO_PREDIO_ESCOLAR\n",
       "False    171361\n",
       "True       3970\n",
       "Name: count, dtype: int64"
      ]
     },
     "metadata": {},
     "output_type": "display_data"
    }
   ],
   "source": [
    "basic_exploration(df, 'TP_OCUPACAO_PREDIO_ESCOLAR', 'category')"
   ]
  },
  {
   "cell_type": "code",
   "execution_count": 413,
   "metadata": {},
   "outputs": [
    {
     "data": {
      "text/html": [
       "<div>\n",
       "<style scoped>\n",
       "    .dataframe tbody tr th:only-of-type {\n",
       "        vertical-align: middle;\n",
       "    }\n",
       "\n",
       "    .dataframe tbody tr th {\n",
       "        vertical-align: top;\n",
       "    }\n",
       "\n",
       "    .dataframe thead th {\n",
       "        text-align: right;\n",
       "    }\n",
       "</style>\n",
       "<table border=\"1\" class=\"dataframe\">\n",
       "  <thead>\n",
       "    <tr style=\"text-align: right;\">\n",
       "      <th></th>\n",
       "      <th>NO_ENTIDADE</th>\n",
       "      <th>TP_DEPENDENCIA</th>\n",
       "      <th>TP_CATEGORIA_ESCOLA_PRIVADA</th>\n",
       "      <th>TP_LOCALIZACAO</th>\n",
       "      <th>TP_LOCALIZACAO_DIFERENCIADA</th>\n",
       "      <th>TP_SITUACAO_FUNCIONAMENTO</th>\n",
       "      <th>IN_LOCAL_FUNC_PREDIO_ESCOLAR</th>\n",
       "      <th>TP_OCUPACAO_PREDIO_ESCOLAR</th>\n",
       "      <th>IN_LOCAL_FUNC_SOCIOEDUCATIVO</th>\n",
       "      <th>IN_LOCAL_FUNC_UNID_PRISIONAL</th>\n",
       "      <th>IN_LOCAL_FUNC_PRISIONAL_SOCIO</th>\n",
       "      <th>IN_LOCAL_FUNC_GALPAO</th>\n",
       "      <th>IN_LOCAL_FUNC_SALAS_OUTRA_ESC</th>\n",
       "      <th>IN_LOCAL_FUNC_OUTROS</th>\n",
       "      <th>IN_PREDIO_COMPARTILHADO</th>\n",
       "      <th>IN_AGUA_POTAVEL</th>\n",
       "      <th>IN_AGUA_REDE_PUBLICA</th>\n",
       "      <th>IN_AGUA_POCO_ARTESIANO</th>\n",
       "      <th>IN_AGUA_CACIMBA</th>\n",
       "      <th>IN_AGUA_FONTE_RIO</th>\n",
       "      <th>IN_AGUA_INEXISTENTE</th>\n",
       "      <th>IN_ENERGIA_REDE_PUBLICA</th>\n",
       "      <th>IN_ENERGIA_GERADOR_FOSSIL</th>\n",
       "      <th>IN_ENERGIA_RENOVAVEL</th>\n",
       "      <th>IN_ENERGIA_INEXISTENTE</th>\n",
       "      <th>IN_ESGOTO_REDE_PUBLICA</th>\n",
       "      <th>IN_ESGOTO_FOSSA_SEPTICA</th>\n",
       "      <th>IN_ESGOTO_FOSSA_COMUM</th>\n",
       "      <th>IN_ESGOTO_FOSSA</th>\n",
       "      <th>IN_ESGOTO_INEXISTENTE</th>\n",
       "      <th>IN_LIXO_SERVICO_COLETA</th>\n",
       "      <th>IN_LIXO_QUEIMA</th>\n",
       "      <th>IN_LIXO_ENTERRA</th>\n",
       "      <th>IN_LIXO_DESTINO_FINAL_PUBLICO</th>\n",
       "      <th>IN_LIXO_DESCARTA_OUTRA_AREA</th>\n",
       "      <th>IN_ALMOXARIFADO</th>\n",
       "      <th>IN_AREA_VERDE</th>\n",
       "      <th>IN_AUDITORIO</th>\n",
       "      <th>IN_BANHEIRO</th>\n",
       "      <th>IN_BANHEIRO_EI</th>\n",
       "      <th>IN_BANHEIRO_PNE</th>\n",
       "      <th>IN_BANHEIRO_FUNCIONARIOS</th>\n",
       "      <th>IN_BANHEIRO_CHUVEIRO</th>\n",
       "      <th>IN_BIBLIOTECA</th>\n",
       "      <th>IN_BIBLIOTECA_SALA_LEITURA</th>\n",
       "      <th>IN_COZINHA</th>\n",
       "      <th>IN_DESPENSA</th>\n",
       "      <th>IN_DORMITORIO_ALUNO</th>\n",
       "      <th>IN_DORMITORIO_PROFESSOR</th>\n",
       "      <th>IN_LABORATORIO_CIENCIAS</th>\n",
       "      <th>IN_LABORATORIO_INFORMATICA</th>\n",
       "      <th>IN_LABORATORIO_EDUC_PROF</th>\n",
       "      <th>IN_PATIO_COBERTO</th>\n",
       "      <th>IN_PATIO_DESCOBERTO</th>\n",
       "      <th>IN_PARQUE_INFANTIL</th>\n",
       "      <th>IN_PISCINA</th>\n",
       "      <th>IN_QUADRA_ESPORTES</th>\n",
       "      <th>IN_QUADRA_ESPORTES_COBERTA</th>\n",
       "      <th>IN_QUADRA_ESPORTES_DESCOBERTA</th>\n",
       "      <th>IN_REFEITORIO</th>\n",
       "      <th>IN_SALA_ATELIE_ARTES</th>\n",
       "      <th>IN_SALA_MUSICA_CORAL</th>\n",
       "      <th>IN_SALA_ESTUDIO_DANCA</th>\n",
       "      <th>IN_SALA_MULTIUSO</th>\n",
       "      <th>IN_SALA_ESTUDIO_GRAVACAO</th>\n",
       "      <th>IN_SALA_OFICINAS_EDUC_PROF</th>\n",
       "      <th>IN_SALA_DIRETORIA</th>\n",
       "      <th>IN_SALA_LEITURA</th>\n",
       "      <th>IN_SALA_PROFESSOR</th>\n",
       "      <th>IN_SALA_REPOUSO_ALUNO</th>\n",
       "      <th>IN_SECRETARIA</th>\n",
       "      <th>IN_SALA_ATENDIMENTO_ESPECIAL</th>\n",
       "      <th>IN_TERREIRAO</th>\n",
       "      <th>IN_VIVEIRO</th>\n",
       "      <th>IN_DEPENDENCIAS_OUTRAS</th>\n",
       "      <th>IN_ACESSIBILIDADE_CORRIMAO</th>\n",
       "      <th>IN_ACESSIBILIDADE_ELEVADOR</th>\n",
       "      <th>IN_ACESSIBILIDADE_PISOS_TATEIS</th>\n",
       "      <th>IN_ACESSIBILIDADE_VAO_LIVRE</th>\n",
       "      <th>IN_ACESSIBILIDADE_RAMPAS</th>\n",
       "      <th>IN_ACESSIBILIDADE_SINAL_SONORO</th>\n",
       "      <th>IN_ACESSIBILIDADE_SINAL_TATIL</th>\n",
       "      <th>IN_ACESSIBILIDADE_SINAL_VISUAL</th>\n",
       "      <th>IN_ACESSIBILIDADE_INEXISTENTE</th>\n",
       "      <th>QT_SALAS_UTILIZADAS_DENTRO</th>\n",
       "      <th>QT_SALAS_UTILIZADAS_FORA</th>\n",
       "      <th>QT_SALAS_UTILIZADAS</th>\n",
       "      <th>QT_SALAS_UTILIZA_CLIMATIZADAS</th>\n",
       "      <th>QT_SALAS_UTILIZADAS_ACESSIVEIS</th>\n",
       "      <th>IN_EQUIP_PARABOLICA</th>\n",
       "      <th>IN_COMPUTADOR</th>\n",
       "      <th>IN_EQUIP_COPIADORA</th>\n",
       "      <th>IN_EQUIP_IMPRESSORA</th>\n",
       "      <th>IN_EQUIP_IMPRESSORA_MULT</th>\n",
       "      <th>IN_EQUIP_SCANNER</th>\n",
       "      <th>QT_EQUIP_DVD</th>\n",
       "      <th>QT_EQUIP_SOM</th>\n",
       "      <th>QT_EQUIP_TV</th>\n",
       "      <th>QT_EQUIP_LOUSA_DIGITAL</th>\n",
       "      <th>QT_EQUIP_MULTIMIDIA</th>\n",
       "      <th>QT_DESKTOP_ALUNO</th>\n",
       "      <th>QT_COMP_PORTATIL_ALUNO</th>\n",
       "      <th>QT_TABLET_ALUNO</th>\n",
       "      <th>IN_INTERNET</th>\n",
       "      <th>IN_INTERNET_ALUNOS</th>\n",
       "      <th>IN_INTERNET_ADMINISTRATIVO</th>\n",
       "      <th>IN_INTERNET_APRENDIZAGEM</th>\n",
       "      <th>IN_INTERNET_COMUNIDADE</th>\n",
       "      <th>IN_ACESSO_INTERNET_COMPUTADOR</th>\n",
       "      <th>IN_ACES_INTERNET_DISP_PESSOAIS</th>\n",
       "      <th>TP_REDE_LOCAL</th>\n",
       "      <th>IN_BANDA_LARGA</th>\n",
       "      <th>IN_MATERIAL_PED_MULTIMIDIA</th>\n",
       "      <th>IN_MATERIAL_PED_INFANTIL</th>\n",
       "      <th>IN_MATERIAL_PED_CIENTIFICO</th>\n",
       "      <th>IN_MATERIAL_PED_DIFUSAO</th>\n",
       "      <th>IN_MATERIAL_PED_MUSICAL</th>\n",
       "      <th>IN_MATERIAL_PED_JOGOS</th>\n",
       "      <th>IN_MATERIAL_PED_ARTISTICAS</th>\n",
       "      <th>IN_MATERIAL_PED_PROFISSIONAL</th>\n",
       "      <th>IN_MATERIAL_PED_DESPORTIVA</th>\n",
       "      <th>IN_MATERIAL_PED_INDIGENA</th>\n",
       "      <th>IN_MATERIAL_PED_ETNICO</th>\n",
       "      <th>IN_MATERIAL_PED_CAMPO</th>\n",
       "      <th>IN_MATERIAL_PED_BIL_SURDOS</th>\n",
       "      <th>IN_MATERIAL_PED_NENHUM</th>\n",
       "      <th>CO_REGIAO</th>\n",
       "      <th>CO_UF</th>\n",
       "      <th>IN_EAD</th>\n",
       "      <th>QT_MAT_BAS</th>\n",
       "      <th>QT_MAT_INF</th>\n",
       "      <th>QT_MAT_INF_CRE</th>\n",
       "      <th>QT_MAT_INF_PRE</th>\n",
       "      <th>QT_MAT_FUND</th>\n",
       "      <th>QT_MAT_FUND_AI</th>\n",
       "      <th>QT_MAT_FUND_AI_1</th>\n",
       "      <th>QT_MAT_FUND_AI_2</th>\n",
       "      <th>QT_MAT_FUND_AI_3</th>\n",
       "      <th>QT_MAT_FUND_AI_4</th>\n",
       "      <th>QT_MAT_FUND_AI_5</th>\n",
       "      <th>QT_MAT_FUND_AF</th>\n",
       "      <th>QT_MAT_FUND_AF_6</th>\n",
       "      <th>QT_MAT_FUND_AF_7</th>\n",
       "      <th>QT_MAT_FUND_AF_8</th>\n",
       "      <th>QT_MAT_FUND_AF_9</th>\n",
       "      <th>QT_MAT_MED</th>\n",
       "      <th>QT_MAT_MED_PROP</th>\n",
       "      <th>QT_MAT_MED_PROP_1</th>\n",
       "      <th>QT_MAT_MED_PROP_2</th>\n",
       "      <th>QT_MAT_MED_PROP_3</th>\n",
       "      <th>QT_MAT_MED_PROP_4</th>\n",
       "      <th>QT_MAT_MED_PROP_NS</th>\n",
       "      <th>QT_MAT_MED_CT</th>\n",
       "      <th>QT_MAT_MED_CT_1</th>\n",
       "      <th>QT_MAT_MED_CT_2</th>\n",
       "      <th>QT_MAT_MED_CT_3</th>\n",
       "      <th>QT_MAT_MED_CT_4</th>\n",
       "      <th>QT_MAT_MED_CT_NS</th>\n",
       "      <th>QT_MAT_MED_NM</th>\n",
       "      <th>QT_MAT_MED_NM_1</th>\n",
       "      <th>QT_MAT_MED_NM_2</th>\n",
       "      <th>QT_MAT_MED_NM_3</th>\n",
       "      <th>QT_MAT_MED_NM_4</th>\n",
       "      <th>QT_MAT_PROF</th>\n",
       "      <th>QT_MAT_PROF_TEC</th>\n",
       "      <th>QT_MAT_PROF_TEC_CONC</th>\n",
       "      <th>QT_MAT_PROF_TEC_SUBS</th>\n",
       "      <th>QT_MAT_PROF_FIC_CONC</th>\n",
       "      <th>QT_MAT_EJA</th>\n",
       "      <th>QT_MAT_EJA_FUND</th>\n",
       "      <th>QT_MAT_EJA_FUND_AI</th>\n",
       "      <th>QT_MAT_EJA_FUND_AF</th>\n",
       "      <th>QT_MAT_EJA_FUND_FIC</th>\n",
       "      <th>QT_MAT_EJA_MED</th>\n",
       "      <th>QT_MAT_EJA_MED_NPROF</th>\n",
       "      <th>QT_MAT_EJA_MED_FIC</th>\n",
       "      <th>QT_MAT_EJA_MED_TEC</th>\n",
       "    </tr>\n",
       "  </thead>\n",
       "  <tbody>\n",
       "  </tbody>\n",
       "</table>\n",
       "</div>"
      ],
      "text/plain": [
       "Empty DataFrame\n",
       "Columns: [NO_ENTIDADE, TP_DEPENDENCIA, TP_CATEGORIA_ESCOLA_PRIVADA, TP_LOCALIZACAO, TP_LOCALIZACAO_DIFERENCIADA, TP_SITUACAO_FUNCIONAMENTO, IN_LOCAL_FUNC_PREDIO_ESCOLAR, TP_OCUPACAO_PREDIO_ESCOLAR, IN_LOCAL_FUNC_SOCIOEDUCATIVO, IN_LOCAL_FUNC_UNID_PRISIONAL, IN_LOCAL_FUNC_PRISIONAL_SOCIO, IN_LOCAL_FUNC_GALPAO, IN_LOCAL_FUNC_SALAS_OUTRA_ESC, IN_LOCAL_FUNC_OUTROS, IN_PREDIO_COMPARTILHADO, IN_AGUA_POTAVEL, IN_AGUA_REDE_PUBLICA, IN_AGUA_POCO_ARTESIANO, IN_AGUA_CACIMBA, IN_AGUA_FONTE_RIO, IN_AGUA_INEXISTENTE, IN_ENERGIA_REDE_PUBLICA, IN_ENERGIA_GERADOR_FOSSIL, IN_ENERGIA_RENOVAVEL, IN_ENERGIA_INEXISTENTE, IN_ESGOTO_REDE_PUBLICA, IN_ESGOTO_FOSSA_SEPTICA, IN_ESGOTO_FOSSA_COMUM, IN_ESGOTO_FOSSA, IN_ESGOTO_INEXISTENTE, IN_LIXO_SERVICO_COLETA, IN_LIXO_QUEIMA, IN_LIXO_ENTERRA, IN_LIXO_DESTINO_FINAL_PUBLICO, IN_LIXO_DESCARTA_OUTRA_AREA, IN_ALMOXARIFADO, IN_AREA_VERDE, IN_AUDITORIO, IN_BANHEIRO, IN_BANHEIRO_EI, IN_BANHEIRO_PNE, IN_BANHEIRO_FUNCIONARIOS, IN_BANHEIRO_CHUVEIRO, IN_BIBLIOTECA, IN_BIBLIOTECA_SALA_LEITURA, IN_COZINHA, IN_DESPENSA, IN_DORMITORIO_ALUNO, IN_DORMITORIO_PROFESSOR, IN_LABORATORIO_CIENCIAS, IN_LABORATORIO_INFORMATICA, IN_LABORATORIO_EDUC_PROF, IN_PATIO_COBERTO, IN_PATIO_DESCOBERTO, IN_PARQUE_INFANTIL, IN_PISCINA, IN_QUADRA_ESPORTES, IN_QUADRA_ESPORTES_COBERTA, IN_QUADRA_ESPORTES_DESCOBERTA, IN_REFEITORIO, IN_SALA_ATELIE_ARTES, IN_SALA_MUSICA_CORAL, IN_SALA_ESTUDIO_DANCA, IN_SALA_MULTIUSO, IN_SALA_ESTUDIO_GRAVACAO, IN_SALA_OFICINAS_EDUC_PROF, IN_SALA_DIRETORIA, IN_SALA_LEITURA, IN_SALA_PROFESSOR, IN_SALA_REPOUSO_ALUNO, IN_SECRETARIA, IN_SALA_ATENDIMENTO_ESPECIAL, IN_TERREIRAO, IN_VIVEIRO, IN_DEPENDENCIAS_OUTRAS, IN_ACESSIBILIDADE_CORRIMAO, IN_ACESSIBILIDADE_ELEVADOR, IN_ACESSIBILIDADE_PISOS_TATEIS, IN_ACESSIBILIDADE_VAO_LIVRE, IN_ACESSIBILIDADE_RAMPAS, IN_ACESSIBILIDADE_SINAL_SONORO, IN_ACESSIBILIDADE_SINAL_TATIL, IN_ACESSIBILIDADE_SINAL_VISUAL, IN_ACESSIBILIDADE_INEXISTENTE, QT_SALAS_UTILIZADAS_DENTRO, QT_SALAS_UTILIZADAS_FORA, QT_SALAS_UTILIZADAS, QT_SALAS_UTILIZA_CLIMATIZADAS, QT_SALAS_UTILIZADAS_ACESSIVEIS, IN_EQUIP_PARABOLICA, IN_COMPUTADOR, IN_EQUIP_COPIADORA, IN_EQUIP_IMPRESSORA, IN_EQUIP_IMPRESSORA_MULT, IN_EQUIP_SCANNER, QT_EQUIP_DVD, QT_EQUIP_SOM, QT_EQUIP_TV, QT_EQUIP_LOUSA_DIGITAL, QT_EQUIP_MULTIMIDIA, ...]\n",
       "Index: []"
      ]
     },
     "execution_count": 413,
     "metadata": {},
     "output_type": "execute_result"
    }
   ],
   "source": [
    "df[(df['TP_OCUPACAO_PREDIO_ESCOLAR'].isna()) & (df['IN_LOCAL_FUNC_PREDIO_ESCOLAR'] == 1)]"
   ]
  },
  {
   "cell_type": "code",
   "execution_count": 414,
   "metadata": {},
   "outputs": [
    {
     "data": {
      "text/plain": [
       "IN_LOCAL_FUNC_PREDIO_ESCOLAR  TP_OCUPACAO_PREDIO_ESCOLAR\n",
       "1.0                            1.0                          139366\n",
       "                               2.0                           21118\n",
       "                               3.0                           10877\n",
       "0.0                           -1.0                            3970\n",
       "Name: count, dtype: int64"
      ]
     },
     "execution_count": 414,
     "metadata": {},
     "output_type": "execute_result"
    }
   ],
   "source": [
    "df.loc[df['IN_LOCAL_FUNC_PREDIO_ESCOLAR'] == 0, 'TP_OCUPACAO_PREDIO_ESCOLAR'] = -1\n",
    "df[['IN_LOCAL_FUNC_PREDIO_ESCOLAR', 'TP_OCUPACAO_PREDIO_ESCOLAR']].value_counts(dropna = False)"
   ]
  },
  {
   "cell_type": "markdown",
   "metadata": {},
   "source": [
    "#### IN_LOCAL_FUNC_SOCIOEDUCATIVO"
   ]
  },
  {
   "cell_type": "markdown",
   "metadata": {},
   "source": [
    "- 1 - Sim\n",
    "- 0 - Não"
   ]
  },
  {
   "cell_type": "code",
   "execution_count": 415,
   "metadata": {},
   "outputs": [
    {
     "name": "stdout",
     "output_type": "stream",
     "text": [
      "\n",
      "Contagem de valores:\n"
     ]
    },
    {
     "data": {
      "text/plain": [
       "IN_LOCAL_FUNC_SOCIOEDUCATIVO\n",
       "0.0    175110\n",
       "1.0       221\n",
       "Name: count, dtype: int64"
      ]
     },
     "metadata": {},
     "output_type": "display_data"
    },
    {
     "name": "stdout",
     "output_type": "stream",
     "text": [
      "\n",
      "Quantidade de valores ausentes\n"
     ]
    },
    {
     "data": {
      "text/plain": [
       "IN_LOCAL_FUNC_SOCIOEDUCATIVO\n",
       "False    175331\n",
       "Name: count, dtype: int64"
      ]
     },
     "metadata": {},
     "output_type": "display_data"
    }
   ],
   "source": [
    "basic_exploration(df, 'IN_LOCAL_FUNC_SOCIOEDUCATIVO', 'binary')"
   ]
  },
  {
   "cell_type": "markdown",
   "metadata": {},
   "source": [
    "#### IN_LOCAL_FUNC_UNID_PRISIONAL"
   ]
  },
  {
   "cell_type": "markdown",
   "metadata": {},
   "source": [
    "- 1 - Sim\n",
    "- 0 - Não\n"
   ]
  },
  {
   "cell_type": "code",
   "execution_count": 416,
   "metadata": {},
   "outputs": [
    {
     "name": "stdout",
     "output_type": "stream",
     "text": [
      "\n",
      "Contagem de valores:\n"
     ]
    },
    {
     "data": {
      "text/plain": [
       "IN_LOCAL_FUNC_UNID_PRISIONAL\n",
       "0.0    174798\n",
       "1.0       533\n",
       "Name: count, dtype: int64"
      ]
     },
     "metadata": {},
     "output_type": "display_data"
    },
    {
     "name": "stdout",
     "output_type": "stream",
     "text": [
      "\n",
      "Quantidade de valores ausentes\n"
     ]
    },
    {
     "data": {
      "text/plain": [
       "IN_LOCAL_FUNC_UNID_PRISIONAL\n",
       "False    175331\n",
       "Name: count, dtype: int64"
      ]
     },
     "metadata": {},
     "output_type": "display_data"
    }
   ],
   "source": [
    "basic_exploration(df, 'IN_LOCAL_FUNC_UNID_PRISIONAL', 'binary')"
   ]
  },
  {
   "cell_type": "markdown",
   "metadata": {},
   "source": [
    "#### IN_LOCAL_FUNC_PRISIONAL_SOCIO"
   ]
  },
  {
   "cell_type": "markdown",
   "metadata": {},
   "source": [
    "- 1 - Sim\n",
    "- 0 - Não\n"
   ]
  },
  {
   "cell_type": "code",
   "execution_count": 417,
   "metadata": {},
   "outputs": [
    {
     "name": "stdout",
     "output_type": "stream",
     "text": [
      "\n",
      "Contagem de valores:\n"
     ]
    },
    {
     "data": {
      "text/plain": [
       "IN_LOCAL_FUNC_PRISIONAL_SOCIO\n",
       "0.0    174595\n",
       "1.0       736\n",
       "Name: count, dtype: int64"
      ]
     },
     "metadata": {},
     "output_type": "display_data"
    },
    {
     "name": "stdout",
     "output_type": "stream",
     "text": [
      "\n",
      "Quantidade de valores ausentes\n"
     ]
    },
    {
     "data": {
      "text/plain": [
       "IN_LOCAL_FUNC_PRISIONAL_SOCIO\n",
       "False    175331\n",
       "Name: count, dtype: int64"
      ]
     },
     "metadata": {},
     "output_type": "display_data"
    }
   ],
   "source": [
    "basic_exploration(df, 'IN_LOCAL_FUNC_PRISIONAL_SOCIO', 'binary')"
   ]
  },
  {
   "cell_type": "markdown",
   "metadata": {},
   "source": [
    "#### IN_LOCAL_FUNC_GALPAO"
   ]
  },
  {
   "cell_type": "markdown",
   "metadata": {},
   "source": [
    "- 1 - Sim\n",
    "- 0 - Não\n"
   ]
  },
  {
   "cell_type": "code",
   "execution_count": 418,
   "metadata": {},
   "outputs": [
    {
     "name": "stdout",
     "output_type": "stream",
     "text": [
      "\n",
      "Contagem de valores:\n"
     ]
    },
    {
     "data": {
      "text/plain": [
       "IN_LOCAL_FUNC_GALPAO\n",
       "0.0    172886\n",
       "1.0      2445\n",
       "Name: count, dtype: int64"
      ]
     },
     "metadata": {},
     "output_type": "display_data"
    },
    {
     "name": "stdout",
     "output_type": "stream",
     "text": [
      "\n",
      "Quantidade de valores ausentes\n"
     ]
    },
    {
     "data": {
      "text/plain": [
       "IN_LOCAL_FUNC_GALPAO\n",
       "False    175331\n",
       "Name: count, dtype: int64"
      ]
     },
     "metadata": {},
     "output_type": "display_data"
    }
   ],
   "source": [
    "basic_exploration(df, 'IN_LOCAL_FUNC_GALPAO', 'binary')"
   ]
  },
  {
   "cell_type": "markdown",
   "metadata": {},
   "source": [
    "#### IN_LOCAL_FUNC_SALAS_OUTRA_ESC"
   ]
  },
  {
   "cell_type": "markdown",
   "metadata": {},
   "source": [
    "- 1 - Sim\n",
    "- 0 - Não\n"
   ]
  },
  {
   "cell_type": "code",
   "execution_count": 419,
   "metadata": {},
   "outputs": [
    {
     "name": "stdout",
     "output_type": "stream",
     "text": [
      "\n",
      "Contagem de valores:\n"
     ]
    },
    {
     "data": {
      "text/plain": [
       "IN_LOCAL_FUNC_SALAS_OUTRA_ESC\n",
       "0.0    169790\n",
       "1.0      5541\n",
       "Name: count, dtype: int64"
      ]
     },
     "metadata": {},
     "output_type": "display_data"
    },
    {
     "name": "stdout",
     "output_type": "stream",
     "text": [
      "\n",
      "Quantidade de valores ausentes\n"
     ]
    },
    {
     "data": {
      "text/plain": [
       "IN_LOCAL_FUNC_SALAS_OUTRA_ESC\n",
       "False    175331\n",
       "Name: count, dtype: int64"
      ]
     },
     "metadata": {},
     "output_type": "display_data"
    }
   ],
   "source": [
    "basic_exploration(df, 'IN_LOCAL_FUNC_SALAS_OUTRA_ESC', 'binary')"
   ]
  },
  {
   "cell_type": "markdown",
   "metadata": {},
   "source": [
    "#### IN_LOCAL_FUNC_OUTROS"
   ]
  },
  {
   "cell_type": "markdown",
   "metadata": {},
   "source": [
    "- 1 - Sim\n",
    "- 0 - Não\n"
   ]
  },
  {
   "cell_type": "code",
   "execution_count": 420,
   "metadata": {},
   "outputs": [
    {
     "name": "stdout",
     "output_type": "stream",
     "text": [
      "\n",
      "Contagem de valores:\n"
     ]
    },
    {
     "data": {
      "text/plain": [
       "IN_LOCAL_FUNC_OUTROS\n",
       "0.0    164642\n",
       "1.0     10689\n",
       "Name: count, dtype: int64"
      ]
     },
     "metadata": {},
     "output_type": "display_data"
    },
    {
     "name": "stdout",
     "output_type": "stream",
     "text": [
      "\n",
      "Quantidade de valores ausentes\n"
     ]
    },
    {
     "data": {
      "text/plain": [
       "IN_LOCAL_FUNC_OUTROS\n",
       "False    175331\n",
       "Name: count, dtype: int64"
      ]
     },
     "metadata": {},
     "output_type": "display_data"
    }
   ],
   "source": [
    "basic_exploration(df, 'IN_LOCAL_FUNC_OUTROS', 'binary')"
   ]
  },
  {
   "cell_type": "markdown",
   "metadata": {},
   "source": [
    "#### IN_PREDIO_COMPARTILHADO"
   ]
  },
  {
   "cell_type": "markdown",
   "metadata": {},
   "source": [
    "- 0 - Não\n",
    "- 1 - Sim\n",
    "\n",
    "\\* Não aplicável para escolas que não ocupam prédio escolar"
   ]
  },
  {
   "cell_type": "code",
   "execution_count": 421,
   "metadata": {},
   "outputs": [
    {
     "name": "stdout",
     "output_type": "stream",
     "text": [
      "\n",
      "Contagem de valores:\n"
     ]
    },
    {
     "data": {
      "text/plain": [
       "IN_PREDIO_COMPARTILHADO\n",
       "0.0    163423\n",
       "1.0      7938\n",
       "NaN      3970\n",
       "Name: count, dtype: int64"
      ]
     },
     "metadata": {},
     "output_type": "display_data"
    },
    {
     "name": "stdout",
     "output_type": "stream",
     "text": [
      "\n",
      "Quantidade de valores ausentes\n"
     ]
    },
    {
     "data": {
      "text/plain": [
       "IN_PREDIO_COMPARTILHADO\n",
       "False    171361\n",
       "True       3970\n",
       "Name: count, dtype: int64"
      ]
     },
     "metadata": {},
     "output_type": "display_data"
    }
   ],
   "source": [
    "basic_exploration(df, 'IN_PREDIO_COMPARTILHADO', 'binary')"
   ]
  },
  {
   "cell_type": "code",
   "execution_count": 422,
   "metadata": {},
   "outputs": [
    {
     "data": {
      "text/plain": [
       "IN_LOCAL_FUNC_PREDIO_ESCOLAR  TP_OCUPACAO_PREDIO_ESCOLAR  IN_PREDIO_COMPARTILHADO\n",
       "1.0                            1.0                        0.0                        132966\n",
       "                               2.0                        0.0                         20725\n",
       "                               3.0                        0.0                          9732\n",
       "                               1.0                        1.0                          6400\n",
       "0.0                           -1.0                        NaN                          3970\n",
       "1.0                            3.0                        1.0                          1145\n",
       "                               2.0                        1.0                           393\n",
       "Name: count, dtype: int64"
      ]
     },
     "execution_count": 422,
     "metadata": {},
     "output_type": "execute_result"
    }
   ],
   "source": [
    "df[['IN_LOCAL_FUNC_PREDIO_ESCOLAR', 'TP_OCUPACAO_PREDIO_ESCOLAR', 'IN_PREDIO_COMPARTILHADO']].value_counts(dropna = False)"
   ]
  },
  {
   "cell_type": "code",
   "execution_count": 423,
   "metadata": {},
   "outputs": [
    {
     "data": {
      "text/plain": [
       "IN_LOCAL_FUNC_PREDIO_ESCOLAR  TP_OCUPACAO_PREDIO_ESCOLAR  IN_PREDIO_COMPARTILHADO\n",
       "1.0                            1.0                         0.0                       132966\n",
       "                               2.0                         0.0                        20725\n",
       "                               3.0                         0.0                         9732\n",
       "                               1.0                         1.0                         6400\n",
       "0.0                           -1.0                        -1.0                         3970\n",
       "1.0                            3.0                         1.0                         1145\n",
       "                               2.0                         1.0                          393\n",
       "Name: count, dtype: int64"
      ]
     },
     "execution_count": 423,
     "metadata": {},
     "output_type": "execute_result"
    }
   ],
   "source": [
    "df.loc[df['IN_LOCAL_FUNC_PREDIO_ESCOLAR'] == 0, 'IN_PREDIO_COMPARTILHADO'] = -1\n",
    "df[['IN_LOCAL_FUNC_PREDIO_ESCOLAR', 'TP_OCUPACAO_PREDIO_ESCOLAR', 'IN_PREDIO_COMPARTILHADO']].value_counts(dropna = False)"
   ]
  },
  {
   "cell_type": "markdown",
   "metadata": {},
   "source": [
    "### Abastecimento de Água"
   ]
  },
  {
   "cell_type": "markdown",
   "metadata": {},
   "source": [
    "#### IN_AGUA_POTAVEL"
   ]
  },
  {
   "cell_type": "markdown",
   "metadata": {},
   "source": [
    "- 1 - Sim\n",
    "- 0 - Não\n"
   ]
  },
  {
   "cell_type": "code",
   "execution_count": 424,
   "metadata": {},
   "outputs": [
    {
     "name": "stdout",
     "output_type": "stream",
     "text": [
      "\n",
      "Contagem de valores:\n"
     ]
    },
    {
     "data": {
      "text/plain": [
       "IN_AGUA_POTAVEL\n",
       "1.0    167493\n",
       "0.0      7838\n",
       "Name: count, dtype: int64"
      ]
     },
     "metadata": {},
     "output_type": "display_data"
    },
    {
     "name": "stdout",
     "output_type": "stream",
     "text": [
      "\n",
      "Quantidade de valores ausentes\n"
     ]
    },
    {
     "data": {
      "text/plain": [
       "IN_AGUA_POTAVEL\n",
       "False    175331\n",
       "Name: count, dtype: int64"
      ]
     },
     "metadata": {},
     "output_type": "display_data"
    }
   ],
   "source": [
    "basic_exploration(df, 'IN_AGUA_POTAVEL', 'binary')"
   ]
  },
  {
   "cell_type": "markdown",
   "metadata": {},
   "source": [
    "#### IN_AGUA_REDE_PUBLICA"
   ]
  },
  {
   "cell_type": "markdown",
   "metadata": {},
   "source": [
    "- 1 - Sim\n",
    "- 0 - Não\n"
   ]
  },
  {
   "cell_type": "code",
   "execution_count": 425,
   "metadata": {},
   "outputs": [
    {
     "name": "stdout",
     "output_type": "stream",
     "text": [
      "\n",
      "Contagem de valores:\n"
     ]
    },
    {
     "data": {
      "text/plain": [
       "IN_AGUA_REDE_PUBLICA\n",
       "1.0    134741\n",
       "0.0     40590\n",
       "Name: count, dtype: int64"
      ]
     },
     "metadata": {},
     "output_type": "display_data"
    },
    {
     "name": "stdout",
     "output_type": "stream",
     "text": [
      "\n",
      "Quantidade de valores ausentes\n"
     ]
    },
    {
     "data": {
      "text/plain": [
       "IN_AGUA_REDE_PUBLICA\n",
       "False    175331\n",
       "Name: count, dtype: int64"
      ]
     },
     "metadata": {},
     "output_type": "display_data"
    }
   ],
   "source": [
    "basic_exploration(df, 'IN_AGUA_REDE_PUBLICA', 'binary')"
   ]
  },
  {
   "cell_type": "markdown",
   "metadata": {},
   "source": [
    "#### IN_AGUA_POCO_ARTESIANO"
   ]
  },
  {
   "cell_type": "markdown",
   "metadata": {},
   "source": [
    "- 1 - Sim\n",
    "- 0 - Não\n"
   ]
  },
  {
   "cell_type": "code",
   "execution_count": 426,
   "metadata": {},
   "outputs": [
    {
     "name": "stdout",
     "output_type": "stream",
     "text": [
      "\n",
      "Contagem de valores:\n"
     ]
    },
    {
     "data": {
      "text/plain": [
       "IN_AGUA_POCO_ARTESIANO\n",
       "0.0    147174\n",
       "1.0     28157\n",
       "Name: count, dtype: int64"
      ]
     },
     "metadata": {},
     "output_type": "display_data"
    },
    {
     "name": "stdout",
     "output_type": "stream",
     "text": [
      "\n",
      "Quantidade de valores ausentes\n"
     ]
    },
    {
     "data": {
      "text/plain": [
       "IN_AGUA_POCO_ARTESIANO\n",
       "False    175331\n",
       "Name: count, dtype: int64"
      ]
     },
     "metadata": {},
     "output_type": "display_data"
    }
   ],
   "source": [
    "basic_exploration(df, 'IN_AGUA_POCO_ARTESIANO', 'binary')"
   ]
  },
  {
   "cell_type": "markdown",
   "metadata": {},
   "source": [
    "#### IN_AGUA_CACIMBA"
   ]
  },
  {
   "cell_type": "markdown",
   "metadata": {},
   "source": [
    "- 1 - Sim\n",
    "- 0 - Não\n"
   ]
  },
  {
   "cell_type": "code",
   "execution_count": 427,
   "metadata": {},
   "outputs": [
    {
     "name": "stdout",
     "output_type": "stream",
     "text": [
      "\n",
      "Contagem de valores:\n"
     ]
    },
    {
     "data": {
      "text/plain": [
       "IN_AGUA_CACIMBA\n",
       "0.0    160065\n",
       "1.0     15266\n",
       "Name: count, dtype: int64"
      ]
     },
     "metadata": {},
     "output_type": "display_data"
    },
    {
     "name": "stdout",
     "output_type": "stream",
     "text": [
      "\n",
      "Quantidade de valores ausentes\n"
     ]
    },
    {
     "data": {
      "text/plain": [
       "IN_AGUA_CACIMBA\n",
       "False    175331\n",
       "Name: count, dtype: int64"
      ]
     },
     "metadata": {},
     "output_type": "display_data"
    }
   ],
   "source": [
    "basic_exploration(df, 'IN_AGUA_CACIMBA', 'binary')"
   ]
  },
  {
   "cell_type": "markdown",
   "metadata": {},
   "source": [
    "#### IN_AGUA_FONTE_RIO"
   ]
  },
  {
   "cell_type": "markdown",
   "metadata": {},
   "source": [
    "- 1 - Sim\n",
    "- 0 - Não\n"
   ]
  },
  {
   "cell_type": "code",
   "execution_count": 428,
   "metadata": {},
   "outputs": [
    {
     "name": "stdout",
     "output_type": "stream",
     "text": [
      "\n",
      "Contagem de valores:\n"
     ]
    },
    {
     "data": {
      "text/plain": [
       "IN_AGUA_FONTE_RIO\n",
       "0.0    168415\n",
       "1.0      6916\n",
       "Name: count, dtype: int64"
      ]
     },
     "metadata": {},
     "output_type": "display_data"
    },
    {
     "name": "stdout",
     "output_type": "stream",
     "text": [
      "\n",
      "Quantidade de valores ausentes\n"
     ]
    },
    {
     "data": {
      "text/plain": [
       "IN_AGUA_FONTE_RIO\n",
       "False    175331\n",
       "Name: count, dtype: int64"
      ]
     },
     "metadata": {},
     "output_type": "display_data"
    }
   ],
   "source": [
    "basic_exploration(df, 'IN_AGUA_FONTE_RIO', 'binary')"
   ]
  },
  {
   "cell_type": "markdown",
   "metadata": {},
   "source": [
    "#### IN_AGUA_INEXISTENTE"
   ]
  },
  {
   "cell_type": "markdown",
   "metadata": {},
   "source": [
    "- 1 - Sim\n",
    "- 0 - Não\n"
   ]
  },
  {
   "cell_type": "code",
   "execution_count": 429,
   "metadata": {},
   "outputs": [
    {
     "name": "stdout",
     "output_type": "stream",
     "text": [
      "\n",
      "Contagem de valores:\n"
     ]
    },
    {
     "data": {
      "text/plain": [
       "IN_AGUA_INEXISTENTE\n",
       "0.0    172281\n",
       "1.0      3050\n",
       "Name: count, dtype: int64"
      ]
     },
     "metadata": {},
     "output_type": "display_data"
    },
    {
     "name": "stdout",
     "output_type": "stream",
     "text": [
      "\n",
      "Quantidade de valores ausentes\n"
     ]
    },
    {
     "data": {
      "text/plain": [
       "IN_AGUA_INEXISTENTE\n",
       "False    175331\n",
       "Name: count, dtype: int64"
      ]
     },
     "metadata": {},
     "output_type": "display_data"
    }
   ],
   "source": [
    "basic_exploration(df, 'IN_AGUA_INEXISTENTE', 'binary')"
   ]
  },
  {
   "cell_type": "markdown",
   "metadata": {},
   "source": [
    "#### Comparação"
   ]
  },
  {
   "cell_type": "code",
   "execution_count": 430,
   "metadata": {},
   "outputs": [
    {
     "data": {
      "text/plain": [
       "IN_AGUA_POTAVEL  IN_AGUA_REDE_PUBLICA  IN_AGUA_POCO_ARTESIANO  IN_AGUA_CACIMBA  IN_AGUA_FONTE_RIO  IN_AGUA_INEXISTENTE\n",
       "1.0              1.0                   0.0                     0.0              0.0                0.0                    121340\n",
       "                 0.0                   1.0                     0.0              0.0                0.0                     18786\n",
       "                                       0.0                     1.0              0.0                0.0                      9079\n",
       "                 1.0                   1.0                     0.0              0.0                0.0                      6394\n",
       "                 0.0                   0.0                     0.0              1.0                0.0                      4536\n",
       "                 1.0                   0.0                     1.0              0.0                0.0                      3756\n",
       "0.0              1.0                   0.0                     0.0              0.0                0.0                      2425\n",
       "1.0              0.0                   0.0                     0.0              0.0                1.0                      1721\n",
       "0.0              0.0                   0.0                     0.0              1.0                0.0                      1416\n",
       "                                       1.0                     0.0              0.0                0.0                      1354\n",
       "                                       0.0                     0.0              0.0                1.0                      1329\n",
       "                                                               1.0              0.0                0.0                       903\n",
       "1.0              0.0                   1.0                     1.0              0.0                0.0                       763\n",
       "                                                               0.0              1.0                0.0                       302\n",
       "                 1.0                   1.0                     1.0              0.0                0.0                       262\n",
       "                 0.0                   0.0                     1.0              1.0                0.0                       251\n",
       "                 1.0                   0.0                     0.0              1.0                0.0                       233\n",
       "0.0              1.0                   1.0                     0.0              0.0                0.0                       139\n",
       "                                       0.0                     1.0              0.0                0.0                       100\n",
       "                 0.0                   1.0                     1.0              0.0                0.0                        49\n",
       "                                       0.0                     1.0              1.0                0.0                        40\n",
       "                                       1.0                     0.0              1.0                0.0                        38\n",
       "                 1.0                   0.0                     0.0              1.0                0.0                        26\n",
       "1.0              1.0                   1.0                     0.0              1.0                0.0                        26\n",
       "                 0.0                   1.0                     1.0              1.0                0.0                        21\n",
       "                 1.0                   0.0                     1.0              1.0                0.0                        18\n",
       "0.0              1.0                   1.0                     1.0              0.0                0.0                        15\n",
       "1.0              1.0                   1.0                     1.0              1.0                0.0                         5\n",
       "0.0              0.0                   1.0                     1.0              1.0                0.0                         2\n",
       "                 1.0                   1.0                     1.0              1.0                0.0                         1\n",
       "                                       0.0                     1.0              1.0                0.0                         1\n",
       "Name: count, dtype: int64"
      ]
     },
     "execution_count": 430,
     "metadata": {},
     "output_type": "execute_result"
    }
   ],
   "source": [
    "cols_agua = ['IN_AGUA_POTAVEL', 'IN_AGUA_REDE_PUBLICA', 'IN_AGUA_POCO_ARTESIANO', 'IN_AGUA_CACIMBA', 'IN_AGUA_FONTE_RIO', 'IN_AGUA_INEXISTENTE']\n",
    "\n",
    "df[cols_agua].value_counts(dropna = False)"
   ]
  },
  {
   "cell_type": "markdown",
   "metadata": {},
   "source": [
    "### Abastecimento de Energia Elétrica"
   ]
  },
  {
   "cell_type": "markdown",
   "metadata": {},
   "source": [
    "#### IN_ENERGIA_REDE_PUBLICA"
   ]
  },
  {
   "cell_type": "markdown",
   "metadata": {},
   "source": [
    "- 1 - Sim\n",
    "- 0 - Não\n"
   ]
  },
  {
   "cell_type": "code",
   "execution_count": 431,
   "metadata": {},
   "outputs": [
    {
     "name": "stdout",
     "output_type": "stream",
     "text": [
      "\n",
      "Contagem de valores:\n"
     ]
    },
    {
     "data": {
      "text/plain": [
       "IN_ENERGIA_REDE_PUBLICA\n",
       "1.0    169707\n",
       "0.0      5624\n",
       "Name: count, dtype: int64"
      ]
     },
     "metadata": {},
     "output_type": "display_data"
    },
    {
     "name": "stdout",
     "output_type": "stream",
     "text": [
      "\n",
      "Quantidade de valores ausentes\n"
     ]
    },
    {
     "data": {
      "text/plain": [
       "IN_ENERGIA_REDE_PUBLICA\n",
       "False    175331\n",
       "Name: count, dtype: int64"
      ]
     },
     "metadata": {},
     "output_type": "display_data"
    }
   ],
   "source": [
    "basic_exploration(df, 'IN_ENERGIA_REDE_PUBLICA', 'binary')"
   ]
  },
  {
   "cell_type": "markdown",
   "metadata": {},
   "source": [
    "#### IN_ENERGIA_GERADOR_FOSSIL"
   ]
  },
  {
   "cell_type": "markdown",
   "metadata": {},
   "source": [
    "- 1 - Sim\n",
    "- 0 - Não\n"
   ]
  },
  {
   "cell_type": "code",
   "execution_count": 432,
   "metadata": {},
   "outputs": [
    {
     "name": "stdout",
     "output_type": "stream",
     "text": [
      "\n",
      "Contagem de valores:\n"
     ]
    },
    {
     "data": {
      "text/plain": [
       "IN_ENERGIA_GERADOR_FOSSIL\n",
       "0.0    173355\n",
       "1.0      1976\n",
       "Name: count, dtype: int64"
      ]
     },
     "metadata": {},
     "output_type": "display_data"
    },
    {
     "name": "stdout",
     "output_type": "stream",
     "text": [
      "\n",
      "Quantidade de valores ausentes\n"
     ]
    },
    {
     "data": {
      "text/plain": [
       "IN_ENERGIA_GERADOR_FOSSIL\n",
       "False    175331\n",
       "Name: count, dtype: int64"
      ]
     },
     "metadata": {},
     "output_type": "display_data"
    }
   ],
   "source": [
    "basic_exploration(df, 'IN_ENERGIA_GERADOR_FOSSIL', 'binary')"
   ]
  },
  {
   "cell_type": "markdown",
   "metadata": {},
   "source": [
    "#### IN_ENERGIA_RENOVAVEL"
   ]
  },
  {
   "cell_type": "markdown",
   "metadata": {},
   "source": [
    "- 1 - Sim\n",
    "- 0 - Não\n"
   ]
  },
  {
   "cell_type": "code",
   "execution_count": 433,
   "metadata": {},
   "outputs": [
    {
     "name": "stdout",
     "output_type": "stream",
     "text": [
      "\n",
      "Contagem de valores:\n"
     ]
    },
    {
     "data": {
      "text/plain": [
       "IN_ENERGIA_RENOVAVEL\n",
       "0.0    171317\n",
       "1.0      4014\n",
       "Name: count, dtype: int64"
      ]
     },
     "metadata": {},
     "output_type": "display_data"
    },
    {
     "name": "stdout",
     "output_type": "stream",
     "text": [
      "\n",
      "Quantidade de valores ausentes\n"
     ]
    },
    {
     "data": {
      "text/plain": [
       "IN_ENERGIA_RENOVAVEL\n",
       "False    175331\n",
       "Name: count, dtype: int64"
      ]
     },
     "metadata": {},
     "output_type": "display_data"
    }
   ],
   "source": [
    "basic_exploration(df, 'IN_ENERGIA_RENOVAVEL', 'binary')"
   ]
  },
  {
   "cell_type": "markdown",
   "metadata": {},
   "source": [
    "#### IN_ENERGIA_INEXISTENTE"
   ]
  },
  {
   "cell_type": "markdown",
   "metadata": {},
   "source": [
    "- 1 - Sim\n",
    "- 0 - Não\n"
   ]
  },
  {
   "cell_type": "code",
   "execution_count": 434,
   "metadata": {},
   "outputs": [
    {
     "name": "stdout",
     "output_type": "stream",
     "text": [
      "\n",
      "Contagem de valores:\n"
     ]
    },
    {
     "data": {
      "text/plain": [
       "IN_ENERGIA_INEXISTENTE\n",
       "0.0    172746\n",
       "1.0      2585\n",
       "Name: count, dtype: int64"
      ]
     },
     "metadata": {},
     "output_type": "display_data"
    },
    {
     "name": "stdout",
     "output_type": "stream",
     "text": [
      "\n",
      "Quantidade de valores ausentes\n"
     ]
    },
    {
     "data": {
      "text/plain": [
       "IN_ENERGIA_INEXISTENTE\n",
       "False    175331\n",
       "Name: count, dtype: int64"
      ]
     },
     "metadata": {},
     "output_type": "display_data"
    }
   ],
   "source": [
    "basic_exploration(df, 'IN_ENERGIA_INEXISTENTE', 'binary')"
   ]
  },
  {
   "cell_type": "markdown",
   "metadata": {},
   "source": [
    "#### Comparação"
   ]
  },
  {
   "cell_type": "code",
   "execution_count": 435,
   "metadata": {},
   "outputs": [
    {
     "data": {
      "text/plain": [
       "IN_ENERGIA_REDE_PUBLICA  IN_ENERGIA_GERADOR_FOSSIL  IN_ENERGIA_RENOVAVEL  IN_ENERGIA_INEXISTENTE\n",
       "1.0                      0.0                        0.0                   0.0                       166859\n",
       "0.0                      0.0                        0.0                   1.0                         2585\n",
       "1.0                      0.0                        1.0                   0.0                         2481\n",
       "0.0                      1.0                        0.0                   0.0                         1554\n",
       "                         0.0                        1.0                   0.0                         1430\n",
       "1.0                      1.0                        0.0                   0.0                          319\n",
       "0.0                      1.0                        1.0                   0.0                           55\n",
       "1.0                      1.0                        1.0                   0.0                           48\n",
       "Name: count, dtype: int64"
      ]
     },
     "execution_count": 435,
     "metadata": {},
     "output_type": "execute_result"
    }
   ],
   "source": [
    "cols_agua = ['IN_ENERGIA_REDE_PUBLICA', 'IN_ENERGIA_GERADOR_FOSSIL', 'IN_ENERGIA_RENOVAVEL', 'IN_ENERGIA_INEXISTENTE']\n",
    "\n",
    "df[cols_agua].value_counts(dropna = False)"
   ]
  },
  {
   "cell_type": "markdown",
   "metadata": {},
   "source": [
    "### Esgoto Sanitário"
   ]
  },
  {
   "cell_type": "markdown",
   "metadata": {},
   "source": [
    "#### IN_ESGOTO_REDE_PUBLICA"
   ]
  },
  {
   "cell_type": "markdown",
   "metadata": {},
   "source": [
    "- 1 - Sim\n",
    "- 0 - Não\n"
   ]
  },
  {
   "cell_type": "code",
   "execution_count": 436,
   "metadata": {},
   "outputs": [
    {
     "name": "stdout",
     "output_type": "stream",
     "text": [
      "\n",
      "Contagem de valores:\n"
     ]
    },
    {
     "data": {
      "text/plain": [
       "IN_ESGOTO_REDE_PUBLICA\n",
       "1.0    99281\n",
       "0.0    76050\n",
       "Name: count, dtype: int64"
      ]
     },
     "metadata": {},
     "output_type": "display_data"
    },
    {
     "name": "stdout",
     "output_type": "stream",
     "text": [
      "\n",
      "Quantidade de valores ausentes\n"
     ]
    },
    {
     "data": {
      "text/plain": [
       "IN_ESGOTO_REDE_PUBLICA\n",
       "False    175331\n",
       "Name: count, dtype: int64"
      ]
     },
     "metadata": {},
     "output_type": "display_data"
    }
   ],
   "source": [
    "basic_exploration(df, 'IN_ESGOTO_REDE_PUBLICA', 'binary')"
   ]
  },
  {
   "cell_type": "markdown",
   "metadata": {},
   "source": [
    "#### IN_ESGOTO_FOSSA_SEPTICA"
   ]
  },
  {
   "cell_type": "markdown",
   "metadata": {},
   "source": [
    "- 1 - Sim\n",
    "- 0 - Não\n"
   ]
  },
  {
   "cell_type": "code",
   "execution_count": 437,
   "metadata": {},
   "outputs": [
    {
     "name": "stdout",
     "output_type": "stream",
     "text": [
      "\n",
      "Contagem de valores:\n"
     ]
    },
    {
     "data": {
      "text/plain": [
       "IN_ESGOTO_FOSSA_SEPTICA\n",
       "0.0    134467\n",
       "1.0     40864\n",
       "Name: count, dtype: int64"
      ]
     },
     "metadata": {},
     "output_type": "display_data"
    },
    {
     "name": "stdout",
     "output_type": "stream",
     "text": [
      "\n",
      "Quantidade de valores ausentes\n"
     ]
    },
    {
     "data": {
      "text/plain": [
       "IN_ESGOTO_FOSSA_SEPTICA\n",
       "False    175331\n",
       "Name: count, dtype: int64"
      ]
     },
     "metadata": {},
     "output_type": "display_data"
    }
   ],
   "source": [
    "basic_exploration(df, 'IN_ESGOTO_FOSSA_SEPTICA', 'binary')"
   ]
  },
  {
   "cell_type": "markdown",
   "metadata": {},
   "source": [
    "#### IN_ESGOTO_FOSSA_COMUM"
   ]
  },
  {
   "cell_type": "markdown",
   "metadata": {},
   "source": [
    "- 1 - Sim\n",
    "- 0 - Não\n"
   ]
  },
  {
   "cell_type": "code",
   "execution_count": 438,
   "metadata": {},
   "outputs": [
    {
     "name": "stdout",
     "output_type": "stream",
     "text": [
      "\n",
      "Contagem de valores:\n"
     ]
    },
    {
     "data": {
      "text/plain": [
       "IN_ESGOTO_FOSSA_COMUM\n",
       "0.0    143010\n",
       "1.0     32321\n",
       "Name: count, dtype: int64"
      ]
     },
     "metadata": {},
     "output_type": "display_data"
    },
    {
     "name": "stdout",
     "output_type": "stream",
     "text": [
      "\n",
      "Quantidade de valores ausentes\n"
     ]
    },
    {
     "data": {
      "text/plain": [
       "IN_ESGOTO_FOSSA_COMUM\n",
       "False    175331\n",
       "Name: count, dtype: int64"
      ]
     },
     "metadata": {},
     "output_type": "display_data"
    }
   ],
   "source": [
    "basic_exploration(df, 'IN_ESGOTO_FOSSA_COMUM', 'binary')"
   ]
  },
  {
   "cell_type": "markdown",
   "metadata": {},
   "source": [
    "#### IN_ESGOTO_FOSSA"
   ]
  },
  {
   "cell_type": "markdown",
   "metadata": {},
   "source": [
    "- 1 - Sim\n",
    "- 0 - Não\n"
   ]
  },
  {
   "cell_type": "code",
   "execution_count": 439,
   "metadata": {},
   "outputs": [
    {
     "name": "stdout",
     "output_type": "stream",
     "text": [
      "\n",
      "Contagem de valores:\n"
     ]
    },
    {
     "data": {
      "text/plain": [
       "IN_ESGOTO_FOSSA\n",
       "0.0    102146\n",
       "1.0     73185\n",
       "Name: count, dtype: int64"
      ]
     },
     "metadata": {},
     "output_type": "display_data"
    },
    {
     "name": "stdout",
     "output_type": "stream",
     "text": [
      "\n",
      "Quantidade de valores ausentes\n"
     ]
    },
    {
     "data": {
      "text/plain": [
       "IN_ESGOTO_FOSSA\n",
       "False    175331\n",
       "Name: count, dtype: int64"
      ]
     },
     "metadata": {},
     "output_type": "display_data"
    }
   ],
   "source": [
    "basic_exploration(df, 'IN_ESGOTO_FOSSA', 'binary')"
   ]
  },
  {
   "cell_type": "code",
   "execution_count": 440,
   "metadata": {},
   "outputs": [
    {
     "data": {
      "text/plain": [
       "'IN_ESGOTO_FOSSA'"
      ]
     },
     "execution_count": 440,
     "metadata": {},
     "output_type": "execute_result"
    }
   ],
   "source": [
    "cols_remover += ['IN_ESGOTO_FOSSA']\n",
    "cols_remover[-1]"
   ]
  },
  {
   "cell_type": "markdown",
   "metadata": {},
   "source": [
    "#### IN_ESGOTO_INEXISTENTE"
   ]
  },
  {
   "cell_type": "markdown",
   "metadata": {},
   "source": [
    "- 1 - Sim\n",
    "- 0 - Não\n"
   ]
  },
  {
   "cell_type": "code",
   "execution_count": 441,
   "metadata": {},
   "outputs": [
    {
     "name": "stdout",
     "output_type": "stream",
     "text": [
      "\n",
      "Contagem de valores:\n"
     ]
    },
    {
     "data": {
      "text/plain": [
       "IN_ESGOTO_INEXISTENTE\n",
       "0.0    168986\n",
       "1.0      6345\n",
       "Name: count, dtype: int64"
      ]
     },
     "metadata": {},
     "output_type": "display_data"
    },
    {
     "name": "stdout",
     "output_type": "stream",
     "text": [
      "\n",
      "Quantidade de valores ausentes\n"
     ]
    },
    {
     "data": {
      "text/plain": [
       "IN_ESGOTO_INEXISTENTE\n",
       "False    175331\n",
       "Name: count, dtype: int64"
      ]
     },
     "metadata": {},
     "output_type": "display_data"
    }
   ],
   "source": [
    "basic_exploration(df, 'IN_ESGOTO_INEXISTENTE', 'binary')"
   ]
  },
  {
   "cell_type": "markdown",
   "metadata": {},
   "source": [
    "#### Comparação"
   ]
  },
  {
   "cell_type": "code",
   "execution_count": 442,
   "metadata": {},
   "outputs": [
    {
     "data": {
      "text/plain": [
       "IN_ESGOTO_REDE_PUBLICA  IN_ESGOTO_FOSSA_SEPTICA  IN_ESGOTO_FOSSA_COMUM  IN_ESGOTO_FOSSA  IN_ESGOTO_INEXISTENTE\n",
       "1.0                     0.0                      0.0                    0.0              0.0                      95801\n",
       "0.0                     1.0                      0.0                    1.0              0.0                      38363\n",
       "                        0.0                      1.0                    1.0              0.0                      31342\n",
       "                                                 0.0                    0.0              1.0                       6345\n",
       "1.0                     1.0                      0.0                    1.0              0.0                       2501\n",
       "                        0.0                      1.0                    1.0              0.0                        979\n",
       "Name: count, dtype: int64"
      ]
     },
     "execution_count": 442,
     "metadata": {},
     "output_type": "execute_result"
    }
   ],
   "source": [
    "cols_esgoto = ['IN_ESGOTO_REDE_PUBLICA', 'IN_ESGOTO_FOSSA_SEPTICA', 'IN_ESGOTO_FOSSA_COMUM', 'IN_ESGOTO_FOSSA', 'IN_ESGOTO_INEXISTENTE']\n",
    "\n",
    "df[cols_esgoto].value_counts(dropna = False)"
   ]
  },
  {
   "cell_type": "markdown",
   "metadata": {},
   "source": [
    "### Destinação do Lixo"
   ]
  },
  {
   "cell_type": "markdown",
   "metadata": {},
   "source": [
    "#### IN_LIXO_SERVICO_COLETA"
   ]
  },
  {
   "cell_type": "markdown",
   "metadata": {},
   "source": [
    "- 1 - Sim\n",
    "- 0 - Não\n"
   ]
  },
  {
   "cell_type": "code",
   "execution_count": 443,
   "metadata": {},
   "outputs": [
    {
     "name": "stdout",
     "output_type": "stream",
     "text": [
      "\n",
      "Contagem de valores:\n"
     ]
    },
    {
     "data": {
      "text/plain": [
       "IN_LIXO_SERVICO_COLETA\n",
       "1.0    144915\n",
       "0.0     30416\n",
       "Name: count, dtype: int64"
      ]
     },
     "metadata": {},
     "output_type": "display_data"
    },
    {
     "name": "stdout",
     "output_type": "stream",
     "text": [
      "\n",
      "Quantidade de valores ausentes\n"
     ]
    },
    {
     "data": {
      "text/plain": [
       "IN_LIXO_SERVICO_COLETA\n",
       "False    175331\n",
       "Name: count, dtype: int64"
      ]
     },
     "metadata": {},
     "output_type": "display_data"
    }
   ],
   "source": [
    "basic_exploration(df, 'IN_LIXO_SERVICO_COLETA', 'binary')"
   ]
  },
  {
   "cell_type": "markdown",
   "metadata": {},
   "source": [
    "#### IN_LIXO_QUEIMA"
   ]
  },
  {
   "cell_type": "markdown",
   "metadata": {},
   "source": [
    "- 1 - Sim\n",
    "- 0 - Não\n"
   ]
  },
  {
   "cell_type": "code",
   "execution_count": 444,
   "metadata": {},
   "outputs": [
    {
     "name": "stdout",
     "output_type": "stream",
     "text": [
      "\n",
      "Contagem de valores:\n"
     ]
    },
    {
     "data": {
      "text/plain": [
       "IN_LIXO_QUEIMA\n",
       "0.0    145664\n",
       "1.0     29667\n",
       "Name: count, dtype: int64"
      ]
     },
     "metadata": {},
     "output_type": "display_data"
    },
    {
     "name": "stdout",
     "output_type": "stream",
     "text": [
      "\n",
      "Quantidade de valores ausentes\n"
     ]
    },
    {
     "data": {
      "text/plain": [
       "IN_LIXO_QUEIMA\n",
       "False    175331\n",
       "Name: count, dtype: int64"
      ]
     },
     "metadata": {},
     "output_type": "display_data"
    }
   ],
   "source": [
    "basic_exploration(df, 'IN_LIXO_QUEIMA', 'binary')"
   ]
  },
  {
   "cell_type": "markdown",
   "metadata": {},
   "source": [
    "#### IN_LIXO_ENTERRA"
   ]
  },
  {
   "cell_type": "markdown",
   "metadata": {},
   "source": [
    "- 1 - Sim\n",
    "- 0 - Não\n"
   ]
  },
  {
   "cell_type": "code",
   "execution_count": 445,
   "metadata": {},
   "outputs": [
    {
     "name": "stdout",
     "output_type": "stream",
     "text": [
      "\n",
      "Contagem de valores:\n"
     ]
    },
    {
     "data": {
      "text/plain": [
       "IN_LIXO_ENTERRA\n",
       "0.0    171121\n",
       "1.0      4210\n",
       "Name: count, dtype: int64"
      ]
     },
     "metadata": {},
     "output_type": "display_data"
    },
    {
     "name": "stdout",
     "output_type": "stream",
     "text": [
      "\n",
      "Quantidade de valores ausentes\n"
     ]
    },
    {
     "data": {
      "text/plain": [
       "IN_LIXO_ENTERRA\n",
       "False    175331\n",
       "Name: count, dtype: int64"
      ]
     },
     "metadata": {},
     "output_type": "display_data"
    }
   ],
   "source": [
    "basic_exploration(df, 'IN_LIXO_ENTERRA', 'binary')"
   ]
  },
  {
   "cell_type": "markdown",
   "metadata": {},
   "source": [
    "#### IN_LIXO_DESTINO_FINAL_PUBLICO"
   ]
  },
  {
   "cell_type": "markdown",
   "metadata": {},
   "source": [
    "- 1 - Sim\n",
    "- 0 - Não\n"
   ]
  },
  {
   "cell_type": "code",
   "execution_count": 446,
   "metadata": {},
   "outputs": [
    {
     "name": "stdout",
     "output_type": "stream",
     "text": [
      "\n",
      "Contagem de valores:\n"
     ]
    },
    {
     "data": {
      "text/plain": [
       "IN_LIXO_DESTINO_FINAL_PUBLICO\n",
       "0.0    171244\n",
       "1.0      4087\n",
       "Name: count, dtype: int64"
      ]
     },
     "metadata": {},
     "output_type": "display_data"
    },
    {
     "name": "stdout",
     "output_type": "stream",
     "text": [
      "\n",
      "Quantidade de valores ausentes\n"
     ]
    },
    {
     "data": {
      "text/plain": [
       "IN_LIXO_DESTINO_FINAL_PUBLICO\n",
       "False    175331\n",
       "Name: count, dtype: int64"
      ]
     },
     "metadata": {},
     "output_type": "display_data"
    }
   ],
   "source": [
    "basic_exploration(df, 'IN_LIXO_DESTINO_FINAL_PUBLICO', 'binary')"
   ]
  },
  {
   "cell_type": "markdown",
   "metadata": {},
   "source": [
    "#### IN_LIXO_DESCARTA_OUTRA_AREA"
   ]
  },
  {
   "cell_type": "markdown",
   "metadata": {},
   "source": [
    "- 1 - Sim\n",
    "- 0 - Não\n"
   ]
  },
  {
   "cell_type": "code",
   "execution_count": 447,
   "metadata": {},
   "outputs": [
    {
     "name": "stdout",
     "output_type": "stream",
     "text": [
      "\n",
      "Contagem de valores:\n"
     ]
    },
    {
     "data": {
      "text/plain": [
       "IN_LIXO_DESCARTA_OUTRA_AREA\n",
       "0.0    168790\n",
       "1.0      6541\n",
       "Name: count, dtype: int64"
      ]
     },
     "metadata": {},
     "output_type": "display_data"
    },
    {
     "name": "stdout",
     "output_type": "stream",
     "text": [
      "\n",
      "Quantidade de valores ausentes\n"
     ]
    },
    {
     "data": {
      "text/plain": [
       "IN_LIXO_DESCARTA_OUTRA_AREA\n",
       "False    175331\n",
       "Name: count, dtype: int64"
      ]
     },
     "metadata": {},
     "output_type": "display_data"
    }
   ],
   "source": [
    "basic_exploration(df, 'IN_LIXO_DESCARTA_OUTRA_AREA', 'binary')"
   ]
  },
  {
   "cell_type": "markdown",
   "metadata": {},
   "source": [
    "#### Comparação"
   ]
  },
  {
   "cell_type": "code",
   "execution_count": 448,
   "metadata": {},
   "outputs": [
    {
     "data": {
      "text/plain": [
       "IN_LIXO_SERVICO_COLETA  IN_LIXO_QUEIMA  IN_LIXO_ENTERRA  IN_LIXO_DESTINO_FINAL_PUBLICO  IN_LIXO_DESCARTA_OUTRA_AREA\n",
       "1.0                     0.0             0.0              0.0                            0.0                            137667\n",
       "0.0                     1.0             0.0              0.0                            0.0                             21205\n",
       "                                                                                        1.0                              2813\n",
       "1.0                     0.0             0.0              1.0                            0.0                              2639\n",
       "0.0                     1.0             1.0              0.0                            0.0                              2454\n",
       "1.0                     1.0             0.0              0.0                            0.0                              2316\n",
       "0.0                     0.0             0.0              0.0                            1.0                              1653\n",
       "1.0                     0.0             0.0              0.0                            1.0                              1318\n",
       "0.0                     0.0             0.0              1.0                            0.0                              1033\n",
       "                                        1.0              0.0                            0.0                               709\n",
       "1.0                     0.0             1.0              0.0                            0.0                               351\n",
       "0.0                     1.0             1.0              0.0                            1.0                               321\n",
       "1.0                     1.0             0.0              0.0                            1.0                               186\n",
       "                                        1.0              0.0                            0.0                               160\n",
       "                        0.0             0.0              1.0                            1.0                                98\n",
       "                        1.0             0.0              1.0                            0.0                                78\n",
       "0.0                     0.0             1.0              0.0                            1.0                                76\n",
       "                        1.0             0.0              1.0                            0.0                                74\n",
       "1.0                     0.0             1.0              1.0                            0.0                                66\n",
       "0.0                     0.0             0.0              1.0                            1.0                                26\n",
       "                        1.0             1.0              1.0                            0.0                                17\n",
       "                        0.0             1.0              1.0                            0.0                                15\n",
       "                        1.0             1.0              1.0                            1.0                                11\n",
       "1.0                     1.0             1.0              0.0                            1.0                                 9\n",
       "0.0                     1.0             0.0              1.0                            1.0                                 9\n",
       "1.0                     0.0             1.0              1.0                            1.0                                 7\n",
       "                        1.0             1.0              1.0                            0.0                                 6\n",
       "                        0.0             1.0              0.0                            1.0                                 6\n",
       "                        1.0             0.0              1.0                            1.0                                 6\n",
       "                                        1.0              1.0                            1.0                                 2\n",
       "Name: count, dtype: int64"
      ]
     },
     "execution_count": 448,
     "metadata": {},
     "output_type": "execute_result"
    }
   ],
   "source": [
    "cols_lixo = ['IN_LIXO_SERVICO_COLETA', 'IN_LIXO_QUEIMA', 'IN_LIXO_ENTERRA', 'IN_LIXO_DESTINO_FINAL_PUBLICO', 'IN_LIXO_DESCARTA_OUTRA_AREA']\n",
    "\n",
    "df[cols_lixo].value_counts(dropna = False)"
   ]
  },
  {
   "cell_type": "markdown",
   "metadata": {},
   "source": [
    "### Dependências Físicas Existentes e Utilizadas na Escola"
   ]
  },
  {
   "cell_type": "markdown",
   "metadata": {},
   "source": [
    "#### IN_ALMOXARIFADO"
   ]
  },
  {
   "cell_type": "markdown",
   "metadata": {},
   "source": [
    "- 1 - Sim\n",
    "- 0 - Não\n"
   ]
  },
  {
   "cell_type": "code",
   "execution_count": 449,
   "metadata": {},
   "outputs": [
    {
     "name": "stdout",
     "output_type": "stream",
     "text": [
      "\n",
      "Contagem de valores:\n"
     ]
    },
    {
     "data": {
      "text/plain": [
       "IN_ALMOXARIFADO\n",
       "1.0    88259\n",
       "0.0    87072\n",
       "Name: count, dtype: int64"
      ]
     },
     "metadata": {},
     "output_type": "display_data"
    },
    {
     "name": "stdout",
     "output_type": "stream",
     "text": [
      "\n",
      "Quantidade de valores ausentes\n"
     ]
    },
    {
     "data": {
      "text/plain": [
       "IN_ALMOXARIFADO\n",
       "False    175331\n",
       "Name: count, dtype: int64"
      ]
     },
     "metadata": {},
     "output_type": "display_data"
    }
   ],
   "source": [
    "basic_exploration(df, 'IN_ALMOXARIFADO', 'binary')"
   ]
  },
  {
   "cell_type": "markdown",
   "metadata": {},
   "source": [
    "#### IN_AREA_VERDE"
   ]
  },
  {
   "cell_type": "markdown",
   "metadata": {},
   "source": [
    "- 1 - Sim\n",
    "- 0 - Não\n"
   ]
  },
  {
   "cell_type": "code",
   "execution_count": 450,
   "metadata": {},
   "outputs": [
    {
     "name": "stdout",
     "output_type": "stream",
     "text": [
      "\n",
      "Contagem de valores:\n"
     ]
    },
    {
     "data": {
      "text/plain": [
       "IN_AREA_VERDE\n",
       "0.0    113322\n",
       "1.0     62009\n",
       "Name: count, dtype: int64"
      ]
     },
     "metadata": {},
     "output_type": "display_data"
    },
    {
     "name": "stdout",
     "output_type": "stream",
     "text": [
      "\n",
      "Quantidade de valores ausentes\n"
     ]
    },
    {
     "data": {
      "text/plain": [
       "IN_AREA_VERDE\n",
       "False    175331\n",
       "Name: count, dtype: int64"
      ]
     },
     "metadata": {},
     "output_type": "display_data"
    }
   ],
   "source": [
    "basic_exploration(df, 'IN_AREA_VERDE', 'binary')"
   ]
  },
  {
   "cell_type": "markdown",
   "metadata": {},
   "source": [
    "#### IN_AUDITORIO"
   ]
  },
  {
   "cell_type": "markdown",
   "metadata": {},
   "source": [
    "- 1 - Sim\n",
    "- 0 - Não\n"
   ]
  },
  {
   "cell_type": "code",
   "execution_count": 451,
   "metadata": {},
   "outputs": [
    {
     "name": "stdout",
     "output_type": "stream",
     "text": [
      "\n",
      "Contagem de valores:\n"
     ]
    },
    {
     "data": {
      "text/plain": [
       "IN_AUDITORIO\n",
       "0.0    154149\n",
       "1.0     21182\n",
       "Name: count, dtype: int64"
      ]
     },
     "metadata": {},
     "output_type": "display_data"
    },
    {
     "name": "stdout",
     "output_type": "stream",
     "text": [
      "\n",
      "Quantidade de valores ausentes\n"
     ]
    },
    {
     "data": {
      "text/plain": [
       "IN_AUDITORIO\n",
       "False    175331\n",
       "Name: count, dtype: int64"
      ]
     },
     "metadata": {},
     "output_type": "display_data"
    }
   ],
   "source": [
    "basic_exploration(df, 'IN_AUDITORIO', 'binary')"
   ]
  },
  {
   "cell_type": "markdown",
   "metadata": {},
   "source": [
    "#### IN_BANHEIRO"
   ]
  },
  {
   "cell_type": "markdown",
   "metadata": {},
   "source": [
    "- 1 - Sim\n",
    "- 0 - Não\n"
   ]
  },
  {
   "cell_type": "code",
   "execution_count": 452,
   "metadata": {},
   "outputs": [
    {
     "name": "stdout",
     "output_type": "stream",
     "text": [
      "\n",
      "Contagem de valores:\n"
     ]
    },
    {
     "data": {
      "text/plain": [
       "IN_BANHEIRO\n",
       "1.0    170389\n",
       "0.0      4942\n",
       "Name: count, dtype: int64"
      ]
     },
     "metadata": {},
     "output_type": "display_data"
    },
    {
     "name": "stdout",
     "output_type": "stream",
     "text": [
      "\n",
      "Quantidade de valores ausentes\n"
     ]
    },
    {
     "data": {
      "text/plain": [
       "IN_BANHEIRO\n",
       "False    175331\n",
       "Name: count, dtype: int64"
      ]
     },
     "metadata": {},
     "output_type": "display_data"
    }
   ],
   "source": [
    "basic_exploration(df, 'IN_BANHEIRO', 'binary')"
   ]
  },
  {
   "cell_type": "code",
   "execution_count": null,
   "metadata": {},
   "outputs": [],
   "source": []
  },
  {
   "cell_type": "markdown",
   "metadata": {},
   "source": [
    "#### IN_BANHEIRO_EI"
   ]
  },
  {
   "cell_type": "markdown",
   "metadata": {},
   "source": [
    "- 1 - Sim\n",
    "- 0 - Não\n"
   ]
  },
  {
   "cell_type": "code",
   "execution_count": 453,
   "metadata": {},
   "outputs": [
    {
     "name": "stdout",
     "output_type": "stream",
     "text": [
      "\n",
      "Contagem de valores:\n"
     ]
    },
    {
     "data": {
      "text/plain": [
       "IN_BANHEIRO_EI\n",
       "0.0    104080\n",
       "1.0     71251\n",
       "Name: count, dtype: int64"
      ]
     },
     "metadata": {},
     "output_type": "display_data"
    },
    {
     "name": "stdout",
     "output_type": "stream",
     "text": [
      "\n",
      "Quantidade de valores ausentes\n"
     ]
    },
    {
     "data": {
      "text/plain": [
       "IN_BANHEIRO_EI\n",
       "False    175331\n",
       "Name: count, dtype: int64"
      ]
     },
     "metadata": {},
     "output_type": "display_data"
    }
   ],
   "source": [
    "basic_exploration(df, 'IN_BANHEIRO_EI', 'binary')"
   ]
  },
  {
   "cell_type": "markdown",
   "metadata": {},
   "source": [
    "#### IN_BANHEIRO_PNE"
   ]
  },
  {
   "cell_type": "markdown",
   "metadata": {},
   "source": [
    "- 1 - Sim\n",
    "- 0 - Não\n"
   ]
  },
  {
   "cell_type": "code",
   "execution_count": 454,
   "metadata": {},
   "outputs": [
    {
     "name": "stdout",
     "output_type": "stream",
     "text": [
      "\n",
      "Contagem de valores:\n"
     ]
    },
    {
     "data": {
      "text/plain": [
       "IN_BANHEIRO_PNE\n",
       "1.0    91942\n",
       "0.0    83389\n",
       "Name: count, dtype: int64"
      ]
     },
     "metadata": {},
     "output_type": "display_data"
    },
    {
     "name": "stdout",
     "output_type": "stream",
     "text": [
      "\n",
      "Quantidade de valores ausentes\n"
     ]
    },
    {
     "data": {
      "text/plain": [
       "IN_BANHEIRO_PNE\n",
       "False    175331\n",
       "Name: count, dtype: int64"
      ]
     },
     "metadata": {},
     "output_type": "display_data"
    }
   ],
   "source": [
    "basic_exploration(df, 'IN_BANHEIRO_PNE', 'binary')"
   ]
  },
  {
   "cell_type": "markdown",
   "metadata": {},
   "source": [
    "#### IN_BANHEIRO_FUNCIONARIOS"
   ]
  },
  {
   "cell_type": "markdown",
   "metadata": {},
   "source": [
    "- 1 - Sim\n",
    "- 0 - Não\n"
   ]
  },
  {
   "cell_type": "code",
   "execution_count": 455,
   "metadata": {},
   "outputs": [
    {
     "name": "stdout",
     "output_type": "stream",
     "text": [
      "\n",
      "Contagem de valores:\n"
     ]
    },
    {
     "data": {
      "text/plain": [
       "IN_BANHEIRO_FUNCIONARIOS\n",
       "1.0    105390\n",
       "0.0     69941\n",
       "Name: count, dtype: int64"
      ]
     },
     "metadata": {},
     "output_type": "display_data"
    },
    {
     "name": "stdout",
     "output_type": "stream",
     "text": [
      "\n",
      "Quantidade de valores ausentes\n"
     ]
    },
    {
     "data": {
      "text/plain": [
       "IN_BANHEIRO_FUNCIONARIOS\n",
       "False    175331\n",
       "Name: count, dtype: int64"
      ]
     },
     "metadata": {},
     "output_type": "display_data"
    }
   ],
   "source": [
    "basic_exploration(df, 'IN_BANHEIRO_FUNCIONARIOS', 'binary')"
   ]
  },
  {
   "cell_type": "markdown",
   "metadata": {},
   "source": [
    "#### IN_BANHEIRO_CHUVEIRO"
   ]
  },
  {
   "cell_type": "markdown",
   "metadata": {},
   "source": [
    "- 1 - Sim\n",
    "- 0 - Não\n"
   ]
  },
  {
   "cell_type": "code",
   "execution_count": 456,
   "metadata": {},
   "outputs": [
    {
     "name": "stdout",
     "output_type": "stream",
     "text": [
      "\n",
      "Contagem de valores:\n"
     ]
    },
    {
     "data": {
      "text/plain": [
       "IN_BANHEIRO_CHUVEIRO\n",
       "0.0    98085\n",
       "1.0    77246\n",
       "Name: count, dtype: int64"
      ]
     },
     "metadata": {},
     "output_type": "display_data"
    },
    {
     "name": "stdout",
     "output_type": "stream",
     "text": [
      "\n",
      "Quantidade de valores ausentes\n"
     ]
    },
    {
     "data": {
      "text/plain": [
       "IN_BANHEIRO_CHUVEIRO\n",
       "False    175331\n",
       "Name: count, dtype: int64"
      ]
     },
     "metadata": {},
     "output_type": "display_data"
    }
   ],
   "source": [
    "basic_exploration(df, 'IN_BANHEIRO_CHUVEIRO', 'binary')"
   ]
  },
  {
   "cell_type": "markdown",
   "metadata": {},
   "source": [
    "#### IN_BIBLIOTECA"
   ]
  },
  {
   "cell_type": "markdown",
   "metadata": {},
   "source": [
    "- 1 - Sim\n",
    "- 0 - Não\n"
   ]
  },
  {
   "cell_type": "code",
   "execution_count": 457,
   "metadata": {},
   "outputs": [
    {
     "name": "stdout",
     "output_type": "stream",
     "text": [
      "\n",
      "Contagem de valores:\n"
     ]
    },
    {
     "data": {
      "text/plain": [
       "IN_BIBLIOTECA\n",
       "0.0    111140\n",
       "1.0     64191\n",
       "Name: count, dtype: int64"
      ]
     },
     "metadata": {},
     "output_type": "display_data"
    },
    {
     "name": "stdout",
     "output_type": "stream",
     "text": [
      "\n",
      "Quantidade de valores ausentes\n"
     ]
    },
    {
     "data": {
      "text/plain": [
       "IN_BIBLIOTECA\n",
       "False    175331\n",
       "Name: count, dtype: int64"
      ]
     },
     "metadata": {},
     "output_type": "display_data"
    }
   ],
   "source": [
    "basic_exploration(df, 'IN_BIBLIOTECA', 'binary')"
   ]
  },
  {
   "cell_type": "markdown",
   "metadata": {},
   "source": [
    "#### IN_BIBLIOTECA_SALA_LEITURA -> Remover"
   ]
  },
  {
   "cell_type": "markdown",
   "metadata": {},
   "source": [
    "- 1 - Sim\n",
    "- 0 - Não\n"
   ]
  },
  {
   "cell_type": "code",
   "execution_count": 458,
   "metadata": {},
   "outputs": [
    {
     "name": "stdout",
     "output_type": "stream",
     "text": [
      "\n",
      "Contagem de valores:\n"
     ]
    },
    {
     "data": {
      "text/plain": [
       "IN_BIBLIOTECA_SALA_LEITURA\n",
       "1.0    91033\n",
       "0.0    84298\n",
       "Name: count, dtype: int64"
      ]
     },
     "metadata": {},
     "output_type": "display_data"
    },
    {
     "name": "stdout",
     "output_type": "stream",
     "text": [
      "\n",
      "Quantidade de valores ausentes\n"
     ]
    },
    {
     "data": {
      "text/plain": [
       "IN_BIBLIOTECA_SALA_LEITURA\n",
       "False    175331\n",
       "Name: count, dtype: int64"
      ]
     },
     "metadata": {},
     "output_type": "display_data"
    }
   ],
   "source": [
    "basic_exploration(df, 'IN_BIBLIOTECA_SALA_LEITURA', 'binary')"
   ]
  },
  {
   "cell_type": "markdown",
   "metadata": {},
   "source": [
    "#### IN_COZINHA"
   ]
  },
  {
   "cell_type": "markdown",
   "metadata": {},
   "source": [
    "- 1 - Sim\n",
    "- 0 - Não\n"
   ]
  },
  {
   "cell_type": "code",
   "execution_count": 459,
   "metadata": {},
   "outputs": [
    {
     "name": "stdout",
     "output_type": "stream",
     "text": [
      "\n",
      "Contagem de valores:\n"
     ]
    },
    {
     "data": {
      "text/plain": [
       "IN_COZINHA\n",
       "1.0    162456\n",
       "0.0     12875\n",
       "Name: count, dtype: int64"
      ]
     },
     "metadata": {},
     "output_type": "display_data"
    },
    {
     "name": "stdout",
     "output_type": "stream",
     "text": [
      "\n",
      "Quantidade de valores ausentes\n"
     ]
    },
    {
     "data": {
      "text/plain": [
       "IN_COZINHA\n",
       "False    175331\n",
       "Name: count, dtype: int64"
      ]
     },
     "metadata": {},
     "output_type": "display_data"
    }
   ],
   "source": [
    "basic_exploration(df, 'IN_COZINHA', 'binary')"
   ]
  },
  {
   "cell_type": "markdown",
   "metadata": {},
   "source": [
    "#### IN_DESPENSA"
   ]
  },
  {
   "cell_type": "markdown",
   "metadata": {},
   "source": [
    "- 1 - Sim\n",
    "- 0 - Não\n"
   ]
  },
  {
   "cell_type": "code",
   "execution_count": 460,
   "metadata": {},
   "outputs": [
    {
     "name": "stdout",
     "output_type": "stream",
     "text": [
      "\n",
      "Contagem de valores:\n"
     ]
    },
    {
     "data": {
      "text/plain": [
       "IN_DESPENSA\n",
       "1.0    117999\n",
       "0.0     57332\n",
       "Name: count, dtype: int64"
      ]
     },
     "metadata": {},
     "output_type": "display_data"
    },
    {
     "name": "stdout",
     "output_type": "stream",
     "text": [
      "\n",
      "Quantidade de valores ausentes\n"
     ]
    },
    {
     "data": {
      "text/plain": [
       "IN_DESPENSA\n",
       "False    175331\n",
       "Name: count, dtype: int64"
      ]
     },
     "metadata": {},
     "output_type": "display_data"
    }
   ],
   "source": [
    "basic_exploration(df, 'IN_DESPENSA', 'binary')"
   ]
  },
  {
   "cell_type": "markdown",
   "metadata": {},
   "source": [
    "#### IN_DORMITORIO_ALUNO"
   ]
  },
  {
   "cell_type": "markdown",
   "metadata": {},
   "source": [
    "- 1 - Sim\n",
    "- 0 - Não\n"
   ]
  },
  {
   "cell_type": "code",
   "execution_count": 461,
   "metadata": {},
   "outputs": [
    {
     "name": "stdout",
     "output_type": "stream",
     "text": [
      "\n",
      "Contagem de valores:\n"
     ]
    },
    {
     "data": {
      "text/plain": [
       "IN_DORMITORIO_ALUNO\n",
       "0.0    170177\n",
       "1.0      5154\n",
       "Name: count, dtype: int64"
      ]
     },
     "metadata": {},
     "output_type": "display_data"
    },
    {
     "name": "stdout",
     "output_type": "stream",
     "text": [
      "\n",
      "Quantidade de valores ausentes\n"
     ]
    },
    {
     "data": {
      "text/plain": [
       "IN_DORMITORIO_ALUNO\n",
       "False    175331\n",
       "Name: count, dtype: int64"
      ]
     },
     "metadata": {},
     "output_type": "display_data"
    }
   ],
   "source": [
    "basic_exploration(df, 'IN_DORMITORIO_ALUNO', 'binary')"
   ]
  },
  {
   "cell_type": "markdown",
   "metadata": {},
   "source": [
    "#### IN_DORMITORIO_PROFESSOR"
   ]
  },
  {
   "cell_type": "markdown",
   "metadata": {},
   "source": [
    "- 1 - Sim\n",
    "- 0 - Não\n"
   ]
  },
  {
   "cell_type": "code",
   "execution_count": 462,
   "metadata": {},
   "outputs": [
    {
     "name": "stdout",
     "output_type": "stream",
     "text": [
      "\n",
      "Contagem de valores:\n"
     ]
    },
    {
     "data": {
      "text/plain": [
       "IN_DORMITORIO_PROFESSOR\n",
       "0.0    173274\n",
       "1.0      2057\n",
       "Name: count, dtype: int64"
      ]
     },
     "metadata": {},
     "output_type": "display_data"
    },
    {
     "name": "stdout",
     "output_type": "stream",
     "text": [
      "\n",
      "Quantidade de valores ausentes\n"
     ]
    },
    {
     "data": {
      "text/plain": [
       "IN_DORMITORIO_PROFESSOR\n",
       "False    175331\n",
       "Name: count, dtype: int64"
      ]
     },
     "metadata": {},
     "output_type": "display_data"
    }
   ],
   "source": [
    "basic_exploration(df, 'IN_DORMITORIO_PROFESSOR', 'binary')"
   ]
  },
  {
   "cell_type": "markdown",
   "metadata": {},
   "source": [
    "#### IN_LABORATORIO_CIENCIAS"
   ]
  },
  {
   "cell_type": "markdown",
   "metadata": {},
   "source": [
    "- 1 - Sim\n",
    "- 0 - Não\n"
   ]
  },
  {
   "cell_type": "code",
   "execution_count": 463,
   "metadata": {},
   "outputs": [
    {
     "name": "stdout",
     "output_type": "stream",
     "text": [
      "\n",
      "Contagem de valores:\n"
     ]
    },
    {
     "data": {
      "text/plain": [
       "IN_LABORATORIO_CIENCIAS\n",
       "0.0    153621\n",
       "1.0     21710\n",
       "Name: count, dtype: int64"
      ]
     },
     "metadata": {},
     "output_type": "display_data"
    },
    {
     "name": "stdout",
     "output_type": "stream",
     "text": [
      "\n",
      "Quantidade de valores ausentes\n"
     ]
    },
    {
     "data": {
      "text/plain": [
       "IN_LABORATORIO_CIENCIAS\n",
       "False    175331\n",
       "Name: count, dtype: int64"
      ]
     },
     "metadata": {},
     "output_type": "display_data"
    }
   ],
   "source": [
    "basic_exploration(df, 'IN_LABORATORIO_CIENCIAS', 'binary')"
   ]
  },
  {
   "cell_type": "markdown",
   "metadata": {},
   "source": [
    "#### IN_LABORATORIO_INFORMATICA"
   ]
  },
  {
   "cell_type": "markdown",
   "metadata": {},
   "source": [
    "- 1 - Sim\n",
    "- 0 - Não\n"
   ]
  },
  {
   "cell_type": "code",
   "execution_count": 464,
   "metadata": {},
   "outputs": [
    {
     "name": "stdout",
     "output_type": "stream",
     "text": [
      "\n",
      "Contagem de valores:\n"
     ]
    },
    {
     "data": {
      "text/plain": [
       "IN_LABORATORIO_INFORMATICA\n",
       "0.0    124036\n",
       "1.0     51295\n",
       "Name: count, dtype: int64"
      ]
     },
     "metadata": {},
     "output_type": "display_data"
    },
    {
     "name": "stdout",
     "output_type": "stream",
     "text": [
      "\n",
      "Quantidade de valores ausentes\n"
     ]
    },
    {
     "data": {
      "text/plain": [
       "IN_LABORATORIO_INFORMATICA\n",
       "False    175331\n",
       "Name: count, dtype: int64"
      ]
     },
     "metadata": {},
     "output_type": "display_data"
    }
   ],
   "source": [
    "basic_exploration(df, 'IN_LABORATORIO_INFORMATICA', 'binary')"
   ]
  },
  {
   "cell_type": "markdown",
   "metadata": {},
   "source": [
    "#### IN_LABORATORIO_EDUC_PROF"
   ]
  },
  {
   "cell_type": "markdown",
   "metadata": {},
   "source": [
    "- 1 - Sim\n",
    "- 0 - Não\n"
   ]
  },
  {
   "cell_type": "code",
   "execution_count": 465,
   "metadata": {},
   "outputs": [
    {
     "name": "stdout",
     "output_type": "stream",
     "text": [
      "\n",
      "Contagem de valores:\n"
     ]
    },
    {
     "data": {
      "text/plain": [
       "IN_LABORATORIO_EDUC_PROF\n",
       "0.0    172709\n",
       "1.0      2622\n",
       "Name: count, dtype: int64"
      ]
     },
     "metadata": {},
     "output_type": "display_data"
    },
    {
     "name": "stdout",
     "output_type": "stream",
     "text": [
      "\n",
      "Quantidade de valores ausentes\n"
     ]
    },
    {
     "data": {
      "text/plain": [
       "IN_LABORATORIO_EDUC_PROF\n",
       "False    175331\n",
       "Name: count, dtype: int64"
      ]
     },
     "metadata": {},
     "output_type": "display_data"
    }
   ],
   "source": [
    "basic_exploration(df, 'IN_LABORATORIO_EDUC_PROF', 'binary')"
   ]
  },
  {
   "cell_type": "markdown",
   "metadata": {},
   "source": [
    "#### IN_PATIO_COBERTO"
   ]
  },
  {
   "cell_type": "markdown",
   "metadata": {},
   "source": [
    "- 1 - Sim\n",
    "- 0 - Não\n"
   ]
  },
  {
   "cell_type": "code",
   "execution_count": 466,
   "metadata": {},
   "outputs": [
    {
     "name": "stdout",
     "output_type": "stream",
     "text": [
      "\n",
      "Contagem de valores:\n"
     ]
    },
    {
     "data": {
      "text/plain": [
       "IN_PATIO_COBERTO\n",
       "1.0    99497\n",
       "0.0    75834\n",
       "Name: count, dtype: int64"
      ]
     },
     "metadata": {},
     "output_type": "display_data"
    },
    {
     "name": "stdout",
     "output_type": "stream",
     "text": [
      "\n",
      "Quantidade de valores ausentes\n"
     ]
    },
    {
     "data": {
      "text/plain": [
       "IN_PATIO_COBERTO\n",
       "False    175331\n",
       "Name: count, dtype: int64"
      ]
     },
     "metadata": {},
     "output_type": "display_data"
    }
   ],
   "source": [
    "basic_exploration(df, 'IN_PATIO_COBERTO', 'binary')"
   ]
  },
  {
   "cell_type": "markdown",
   "metadata": {},
   "source": [
    "#### IN_PATIO_DESCOBERTO"
   ]
  },
  {
   "cell_type": "markdown",
   "metadata": {},
   "source": [
    "- 1 - Sim\n",
    "- 0 - Não\n"
   ]
  },
  {
   "cell_type": "code",
   "execution_count": 467,
   "metadata": {},
   "outputs": [
    {
     "name": "stdout",
     "output_type": "stream",
     "text": [
      "\n",
      "Contagem de valores:\n"
     ]
    },
    {
     "data": {
      "text/plain": [
       "IN_PATIO_DESCOBERTO\n",
       "0.0    90240\n",
       "1.0    85091\n",
       "Name: count, dtype: int64"
      ]
     },
     "metadata": {},
     "output_type": "display_data"
    },
    {
     "name": "stdout",
     "output_type": "stream",
     "text": [
      "\n",
      "Quantidade de valores ausentes\n"
     ]
    },
    {
     "data": {
      "text/plain": [
       "IN_PATIO_DESCOBERTO\n",
       "False    175331\n",
       "Name: count, dtype: int64"
      ]
     },
     "metadata": {},
     "output_type": "display_data"
    }
   ],
   "source": [
    "basic_exploration(df, 'IN_PATIO_DESCOBERTO', 'binary')"
   ]
  },
  {
   "cell_type": "markdown",
   "metadata": {},
   "source": [
    "#### IN_PARQUE_INFANTIL"
   ]
  },
  {
   "cell_type": "markdown",
   "metadata": {},
   "source": [
    "- 1 - Sim\n",
    "- 0 - Não\n"
   ]
  },
  {
   "cell_type": "code",
   "execution_count": 468,
   "metadata": {},
   "outputs": [
    {
     "name": "stdout",
     "output_type": "stream",
     "text": [
      "\n",
      "Contagem de valores:\n"
     ]
    },
    {
     "data": {
      "text/plain": [
       "IN_PARQUE_INFANTIL\n",
       "0.0    109677\n",
       "1.0     65654\n",
       "Name: count, dtype: int64"
      ]
     },
     "metadata": {},
     "output_type": "display_data"
    },
    {
     "name": "stdout",
     "output_type": "stream",
     "text": [
      "\n",
      "Quantidade de valores ausentes\n"
     ]
    },
    {
     "data": {
      "text/plain": [
       "IN_PARQUE_INFANTIL\n",
       "False    175331\n",
       "Name: count, dtype: int64"
      ]
     },
     "metadata": {},
     "output_type": "display_data"
    }
   ],
   "source": [
    "basic_exploration(df, 'IN_PARQUE_INFANTIL', 'binary')"
   ]
  },
  {
   "cell_type": "markdown",
   "metadata": {},
   "source": [
    "#### IN_PISCINA"
   ]
  },
  {
   "cell_type": "markdown",
   "metadata": {},
   "source": [
    "- 1 - Sim\n",
    "- 0 - Não\n"
   ]
  },
  {
   "cell_type": "code",
   "execution_count": 469,
   "metadata": {},
   "outputs": [
    {
     "name": "stdout",
     "output_type": "stream",
     "text": [
      "\n",
      "Contagem de valores:\n"
     ]
    },
    {
     "data": {
      "text/plain": [
       "IN_PISCINA\n",
       "0.0    170614\n",
       "1.0      4717\n",
       "Name: count, dtype: int64"
      ]
     },
     "metadata": {},
     "output_type": "display_data"
    },
    {
     "name": "stdout",
     "output_type": "stream",
     "text": [
      "\n",
      "Quantidade de valores ausentes\n"
     ]
    },
    {
     "data": {
      "text/plain": [
       "IN_PISCINA\n",
       "False    175331\n",
       "Name: count, dtype: int64"
      ]
     },
     "metadata": {},
     "output_type": "display_data"
    }
   ],
   "source": [
    "basic_exploration(df, 'IN_PISCINA', 'binary')"
   ]
  },
  {
   "cell_type": "markdown",
   "metadata": {},
   "source": [
    "#### IN_QUADRA_ESPORTES"
   ]
  },
  {
   "cell_type": "markdown",
   "metadata": {},
   "source": [
    "- 1 - Sim\n",
    "- 0 - Não\n"
   ]
  },
  {
   "cell_type": "code",
   "execution_count": 470,
   "metadata": {},
   "outputs": [
    {
     "name": "stdout",
     "output_type": "stream",
     "text": [
      "\n",
      "Contagem de valores:\n"
     ]
    },
    {
     "data": {
      "text/plain": [
       "IN_QUADRA_ESPORTES\n",
       "0.0    109444\n",
       "1.0     65887\n",
       "Name: count, dtype: int64"
      ]
     },
     "metadata": {},
     "output_type": "display_data"
    },
    {
     "name": "stdout",
     "output_type": "stream",
     "text": [
      "\n",
      "Quantidade de valores ausentes\n"
     ]
    },
    {
     "data": {
      "text/plain": [
       "IN_QUADRA_ESPORTES\n",
       "False    175331\n",
       "Name: count, dtype: int64"
      ]
     },
     "metadata": {},
     "output_type": "display_data"
    }
   ],
   "source": [
    "basic_exploration(df, 'IN_QUADRA_ESPORTES', 'binary')"
   ]
  },
  {
   "cell_type": "code",
   "execution_count": 471,
   "metadata": {},
   "outputs": [
    {
     "data": {
      "text/plain": [
       "'IN_QUADRA_ESPORTES'"
      ]
     },
     "execution_count": 471,
     "metadata": {},
     "output_type": "execute_result"
    }
   ],
   "source": [
    "cols_remover += ['IN_QUADRA_ESPORTES']\n",
    "cols_remover[-1]"
   ]
  },
  {
   "cell_type": "markdown",
   "metadata": {},
   "source": [
    "#### IN_QUADRA_ESPORTES_COBERTA"
   ]
  },
  {
   "cell_type": "markdown",
   "metadata": {},
   "source": [
    "- 1 - Sim\n",
    "- 0 - Não\n"
   ]
  },
  {
   "cell_type": "code",
   "execution_count": 472,
   "metadata": {},
   "outputs": [
    {
     "name": "stdout",
     "output_type": "stream",
     "text": [
      "\n",
      "Contagem de valores:\n"
     ]
    },
    {
     "data": {
      "text/plain": [
       "IN_QUADRA_ESPORTES_COBERTA\n",
       "0.0    126498\n",
       "1.0     48833\n",
       "Name: count, dtype: int64"
      ]
     },
     "metadata": {},
     "output_type": "display_data"
    },
    {
     "name": "stdout",
     "output_type": "stream",
     "text": [
      "\n",
      "Quantidade de valores ausentes\n"
     ]
    },
    {
     "data": {
      "text/plain": [
       "IN_QUADRA_ESPORTES_COBERTA\n",
       "False    175331\n",
       "Name: count, dtype: int64"
      ]
     },
     "metadata": {},
     "output_type": "display_data"
    }
   ],
   "source": [
    "basic_exploration(df, 'IN_QUADRA_ESPORTES_COBERTA', 'binary')"
   ]
  },
  {
   "cell_type": "markdown",
   "metadata": {},
   "source": [
    "#### IN_QUADRA_ESPORTES_DESCOBERTA"
   ]
  },
  {
   "cell_type": "markdown",
   "metadata": {},
   "source": [
    "- 1 - Sim\n",
    "- 0 - Não\n"
   ]
  },
  {
   "cell_type": "code",
   "execution_count": 473,
   "metadata": {},
   "outputs": [
    {
     "name": "stdout",
     "output_type": "stream",
     "text": [
      "\n",
      "Contagem de valores:\n"
     ]
    },
    {
     "data": {
      "text/plain": [
       "IN_QUADRA_ESPORTES_DESCOBERTA\n",
       "0.0    150275\n",
       "1.0     25056\n",
       "Name: count, dtype: int64"
      ]
     },
     "metadata": {},
     "output_type": "display_data"
    },
    {
     "name": "stdout",
     "output_type": "stream",
     "text": [
      "\n",
      "Quantidade de valores ausentes\n"
     ]
    },
    {
     "data": {
      "text/plain": [
       "IN_QUADRA_ESPORTES_DESCOBERTA\n",
       "False    175331\n",
       "Name: count, dtype: int64"
      ]
     },
     "metadata": {},
     "output_type": "display_data"
    }
   ],
   "source": [
    "basic_exploration(df, 'IN_QUADRA_ESPORTES_DESCOBERTA', 'binary')"
   ]
  },
  {
   "cell_type": "markdown",
   "metadata": {},
   "source": [
    "#### IN_REFEITORIO"
   ]
  },
  {
   "cell_type": "markdown",
   "metadata": {},
   "source": [
    "- 1 - Sim\n",
    "- 0 - Não\n"
   ]
  },
  {
   "cell_type": "code",
   "execution_count": 474,
   "metadata": {},
   "outputs": [
    {
     "name": "stdout",
     "output_type": "stream",
     "text": [
      "\n",
      "Contagem de valores:\n"
     ]
    },
    {
     "data": {
      "text/plain": [
       "IN_REFEITORIO\n",
       "1.0    90794\n",
       "0.0    84537\n",
       "Name: count, dtype: int64"
      ]
     },
     "metadata": {},
     "output_type": "display_data"
    },
    {
     "name": "stdout",
     "output_type": "stream",
     "text": [
      "\n",
      "Quantidade de valores ausentes\n"
     ]
    },
    {
     "data": {
      "text/plain": [
       "IN_REFEITORIO\n",
       "False    175331\n",
       "Name: count, dtype: int64"
      ]
     },
     "metadata": {},
     "output_type": "display_data"
    }
   ],
   "source": [
    "basic_exploration(df, 'IN_REFEITORIO', 'binary')"
   ]
  },
  {
   "cell_type": "markdown",
   "metadata": {},
   "source": [
    "#### IN_SALA_ATELIE_ARTES"
   ]
  },
  {
   "cell_type": "markdown",
   "metadata": {},
   "source": [
    "- 1 - Sim\n",
    "- 0 - Não\n"
   ]
  },
  {
   "cell_type": "code",
   "execution_count": 475,
   "metadata": {},
   "outputs": [
    {
     "name": "stdout",
     "output_type": "stream",
     "text": [
      "\n",
      "Contagem de valores:\n"
     ]
    },
    {
     "data": {
      "text/plain": [
       "IN_SALA_ATELIE_ARTES\n",
       "0.0    166935\n",
       "1.0      8396\n",
       "Name: count, dtype: int64"
      ]
     },
     "metadata": {},
     "output_type": "display_data"
    },
    {
     "name": "stdout",
     "output_type": "stream",
     "text": [
      "\n",
      "Quantidade de valores ausentes\n"
     ]
    },
    {
     "data": {
      "text/plain": [
       "IN_SALA_ATELIE_ARTES\n",
       "False    175331\n",
       "Name: count, dtype: int64"
      ]
     },
     "metadata": {},
     "output_type": "display_data"
    }
   ],
   "source": [
    "basic_exploration(df, 'IN_SALA_ATELIE_ARTES', 'binary')"
   ]
  },
  {
   "cell_type": "markdown",
   "metadata": {},
   "source": [
    "#### IN_SALA_MUSICA_CORAL"
   ]
  },
  {
   "cell_type": "markdown",
   "metadata": {},
   "source": [
    "- 1 - Sim\n",
    "- 0 - Não\n"
   ]
  },
  {
   "cell_type": "code",
   "execution_count": 476,
   "metadata": {},
   "outputs": [
    {
     "name": "stdout",
     "output_type": "stream",
     "text": [
      "\n",
      "Contagem de valores:\n"
     ]
    },
    {
     "data": {
      "text/plain": [
       "IN_SALA_MUSICA_CORAL\n",
       "0.0    171209\n",
       "1.0      4122\n",
       "Name: count, dtype: int64"
      ]
     },
     "metadata": {},
     "output_type": "display_data"
    },
    {
     "name": "stdout",
     "output_type": "stream",
     "text": [
      "\n",
      "Quantidade de valores ausentes\n"
     ]
    },
    {
     "data": {
      "text/plain": [
       "IN_SALA_MUSICA_CORAL\n",
       "False    175331\n",
       "Name: count, dtype: int64"
      ]
     },
     "metadata": {},
     "output_type": "display_data"
    }
   ],
   "source": [
    "basic_exploration(df, 'IN_SALA_MUSICA_CORAL', 'binary')"
   ]
  },
  {
   "cell_type": "markdown",
   "metadata": {},
   "source": [
    "#### IN_SALA_ESTUDIO_DANCA"
   ]
  },
  {
   "cell_type": "markdown",
   "metadata": {},
   "source": [
    "- 1 - Sim\n",
    "- 0 - Não\n"
   ]
  },
  {
   "cell_type": "code",
   "execution_count": 477,
   "metadata": {},
   "outputs": [
    {
     "name": "stdout",
     "output_type": "stream",
     "text": [
      "\n",
      "Contagem de valores:\n"
     ]
    },
    {
     "data": {
      "text/plain": [
       "IN_SALA_ESTUDIO_DANCA\n",
       "0.0    172173\n",
       "1.0      3158\n",
       "Name: count, dtype: int64"
      ]
     },
     "metadata": {},
     "output_type": "display_data"
    },
    {
     "name": "stdout",
     "output_type": "stream",
     "text": [
      "\n",
      "Quantidade de valores ausentes\n"
     ]
    },
    {
     "data": {
      "text/plain": [
       "IN_SALA_ESTUDIO_DANCA\n",
       "False    175331\n",
       "Name: count, dtype: int64"
      ]
     },
     "metadata": {},
     "output_type": "display_data"
    }
   ],
   "source": [
    "basic_exploration(df, 'IN_SALA_ESTUDIO_DANCA', 'binary')"
   ]
  },
  {
   "cell_type": "markdown",
   "metadata": {},
   "source": [
    "#### IN_SALA_MULTIUSO"
   ]
  },
  {
   "cell_type": "markdown",
   "metadata": {},
   "source": [
    "- 1 - Sim\n",
    "- 0 - Não\n"
   ]
  },
  {
   "cell_type": "code",
   "execution_count": 478,
   "metadata": {},
   "outputs": [
    {
     "name": "stdout",
     "output_type": "stream",
     "text": [
      "\n",
      "Contagem de valores:\n"
     ]
    },
    {
     "data": {
      "text/plain": [
       "IN_SALA_MULTIUSO\n",
       "0.0    158303\n",
       "1.0     17028\n",
       "Name: count, dtype: int64"
      ]
     },
     "metadata": {},
     "output_type": "display_data"
    },
    {
     "name": "stdout",
     "output_type": "stream",
     "text": [
      "\n",
      "Quantidade de valores ausentes\n"
     ]
    },
    {
     "data": {
      "text/plain": [
       "IN_SALA_MULTIUSO\n",
       "False    175331\n",
       "Name: count, dtype: int64"
      ]
     },
     "metadata": {},
     "output_type": "display_data"
    }
   ],
   "source": [
    "basic_exploration(df, 'IN_SALA_MULTIUSO', 'binary')"
   ]
  },
  {
   "cell_type": "markdown",
   "metadata": {},
   "source": [
    "#### IN_SALA_ESTUDIO_GRAVACAO"
   ]
  },
  {
   "cell_type": "markdown",
   "metadata": {},
   "source": [
    "- 1 - Sim\n",
    "- 0 - Não\n"
   ]
  },
  {
   "cell_type": "code",
   "execution_count": 479,
   "metadata": {},
   "outputs": [
    {
     "name": "stdout",
     "output_type": "stream",
     "text": [
      "\n",
      "Contagem de valores:\n"
     ]
    },
    {
     "data": {
      "text/plain": [
       "IN_SALA_ESTUDIO_GRAVACAO\n",
       "0.0    174821\n",
       "1.0       510\n",
       "Name: count, dtype: int64"
      ]
     },
     "metadata": {},
     "output_type": "display_data"
    },
    {
     "name": "stdout",
     "output_type": "stream",
     "text": [
      "\n",
      "Quantidade de valores ausentes\n"
     ]
    },
    {
     "data": {
      "text/plain": [
       "IN_SALA_ESTUDIO_GRAVACAO\n",
       "False    175331\n",
       "Name: count, dtype: int64"
      ]
     },
     "metadata": {},
     "output_type": "display_data"
    }
   ],
   "source": [
    "basic_exploration(df, 'IN_SALA_ESTUDIO_GRAVACAO', 'binary')"
   ]
  },
  {
   "cell_type": "markdown",
   "metadata": {},
   "source": [
    "#### IN_SALA_OFICINAS_EDUC_PROF"
   ]
  },
  {
   "cell_type": "markdown",
   "metadata": {},
   "source": [
    "- 1 - Sim\n",
    "- 0 - Não\n"
   ]
  },
  {
   "cell_type": "code",
   "execution_count": 480,
   "metadata": {},
   "outputs": [
    {
     "name": "stdout",
     "output_type": "stream",
     "text": [
      "\n",
      "Contagem de valores:\n"
     ]
    },
    {
     "data": {
      "text/plain": [
       "IN_SALA_OFICINAS_EDUC_PROF\n",
       "0.0    174116\n",
       "1.0      1215\n",
       "Name: count, dtype: int64"
      ]
     },
     "metadata": {},
     "output_type": "display_data"
    },
    {
     "name": "stdout",
     "output_type": "stream",
     "text": [
      "\n",
      "Quantidade de valores ausentes\n"
     ]
    },
    {
     "data": {
      "text/plain": [
       "IN_SALA_OFICINAS_EDUC_PROF\n",
       "False    175331\n",
       "Name: count, dtype: int64"
      ]
     },
     "metadata": {},
     "output_type": "display_data"
    }
   ],
   "source": [
    "basic_exploration(df, 'IN_SALA_OFICINAS_EDUC_PROF', 'binary')"
   ]
  },
  {
   "cell_type": "markdown",
   "metadata": {},
   "source": [
    "#### IN_SALA_DIRETORIA"
   ]
  },
  {
   "cell_type": "markdown",
   "metadata": {},
   "source": [
    "- 1 - Sim\n",
    "- 0 - Não\n"
   ]
  },
  {
   "cell_type": "code",
   "execution_count": 481,
   "metadata": {},
   "outputs": [
    {
     "name": "stdout",
     "output_type": "stream",
     "text": [
      "\n",
      "Contagem de valores:\n"
     ]
    },
    {
     "data": {
      "text/plain": [
       "IN_SALA_DIRETORIA\n",
       "1.0    127663\n",
       "0.0     47668\n",
       "Name: count, dtype: int64"
      ]
     },
     "metadata": {},
     "output_type": "display_data"
    },
    {
     "name": "stdout",
     "output_type": "stream",
     "text": [
      "\n",
      "Quantidade de valores ausentes\n"
     ]
    },
    {
     "data": {
      "text/plain": [
       "IN_SALA_DIRETORIA\n",
       "False    175331\n",
       "Name: count, dtype: int64"
      ]
     },
     "metadata": {},
     "output_type": "display_data"
    }
   ],
   "source": [
    "basic_exploration(df, 'IN_SALA_DIRETORIA', 'binary')"
   ]
  },
  {
   "cell_type": "markdown",
   "metadata": {},
   "source": [
    "#### IN_SALA_LEITURA"
   ]
  },
  {
   "cell_type": "markdown",
   "metadata": {},
   "source": [
    "- 1 - Sim\n",
    "- 0 - Não\n"
   ]
  },
  {
   "cell_type": "code",
   "execution_count": 482,
   "metadata": {},
   "outputs": [
    {
     "name": "stdout",
     "output_type": "stream",
     "text": [
      "\n",
      "Contagem de valores:\n"
     ]
    },
    {
     "data": {
      "text/plain": [
       "IN_SALA_LEITURA\n",
       "0.0    128520\n",
       "1.0     46811\n",
       "Name: count, dtype: int64"
      ]
     },
     "metadata": {},
     "output_type": "display_data"
    },
    {
     "name": "stdout",
     "output_type": "stream",
     "text": [
      "\n",
      "Quantidade de valores ausentes\n"
     ]
    },
    {
     "data": {
      "text/plain": [
       "IN_SALA_LEITURA\n",
       "False    175331\n",
       "Name: count, dtype: int64"
      ]
     },
     "metadata": {},
     "output_type": "display_data"
    }
   ],
   "source": [
    "basic_exploration(df, 'IN_SALA_LEITURA', 'binary')"
   ]
  },
  {
   "cell_type": "markdown",
   "metadata": {},
   "source": [
    "#### IN_SALA_PROFESSOR"
   ]
  },
  {
   "cell_type": "markdown",
   "metadata": {},
   "source": [
    "- 1 - Sim\n",
    "- 0 - Não\n"
   ]
  },
  {
   "cell_type": "code",
   "execution_count": 483,
   "metadata": {},
   "outputs": [
    {
     "name": "stdout",
     "output_type": "stream",
     "text": [
      "\n",
      "Contagem de valores:\n"
     ]
    },
    {
     "data": {
      "text/plain": [
       "IN_SALA_PROFESSOR\n",
       "1.0    112216\n",
       "0.0     63115\n",
       "Name: count, dtype: int64"
      ]
     },
     "metadata": {},
     "output_type": "display_data"
    },
    {
     "name": "stdout",
     "output_type": "stream",
     "text": [
      "\n",
      "Quantidade de valores ausentes\n"
     ]
    },
    {
     "data": {
      "text/plain": [
       "IN_SALA_PROFESSOR\n",
       "False    175331\n",
       "Name: count, dtype: int64"
      ]
     },
     "metadata": {},
     "output_type": "display_data"
    }
   ],
   "source": [
    "basic_exploration(df, 'IN_SALA_PROFESSOR', 'binary')"
   ]
  },
  {
   "cell_type": "markdown",
   "metadata": {},
   "source": [
    "#### IN_SALA_REPOUSO_ALUNO"
   ]
  },
  {
   "cell_type": "markdown",
   "metadata": {},
   "source": [
    "- 1 - Sim\n",
    "- 0 - Não\n"
   ]
  },
  {
   "cell_type": "code",
   "execution_count": 484,
   "metadata": {},
   "outputs": [
    {
     "name": "stdout",
     "output_type": "stream",
     "text": [
      "\n",
      "Contagem de valores:\n"
     ]
    },
    {
     "data": {
      "text/plain": [
       "IN_SALA_REPOUSO_ALUNO\n",
       "0.0    166710\n",
       "1.0      8621\n",
       "Name: count, dtype: int64"
      ]
     },
     "metadata": {},
     "output_type": "display_data"
    },
    {
     "name": "stdout",
     "output_type": "stream",
     "text": [
      "\n",
      "Quantidade de valores ausentes\n"
     ]
    },
    {
     "data": {
      "text/plain": [
       "IN_SALA_REPOUSO_ALUNO\n",
       "False    175331\n",
       "Name: count, dtype: int64"
      ]
     },
     "metadata": {},
     "output_type": "display_data"
    }
   ],
   "source": [
    "basic_exploration(df, 'IN_SALA_REPOUSO_ALUNO', 'binary')"
   ]
  },
  {
   "cell_type": "markdown",
   "metadata": {},
   "source": [
    "#### IN_SECRETARIA"
   ]
  },
  {
   "cell_type": "markdown",
   "metadata": {},
   "source": [
    "- 1 - Sim\n",
    "- 0 - Não\n"
   ]
  },
  {
   "cell_type": "code",
   "execution_count": 485,
   "metadata": {},
   "outputs": [
    {
     "name": "stdout",
     "output_type": "stream",
     "text": [
      "\n",
      "Contagem de valores:\n"
     ]
    },
    {
     "data": {
      "text/plain": [
       "IN_SECRETARIA\n",
       "1.0    130206\n",
       "0.0     45125\n",
       "Name: count, dtype: int64"
      ]
     },
     "metadata": {},
     "output_type": "display_data"
    },
    {
     "name": "stdout",
     "output_type": "stream",
     "text": [
      "\n",
      "Quantidade de valores ausentes\n"
     ]
    },
    {
     "data": {
      "text/plain": [
       "IN_SECRETARIA\n",
       "False    175331\n",
       "Name: count, dtype: int64"
      ]
     },
     "metadata": {},
     "output_type": "display_data"
    }
   ],
   "source": [
    "basic_exploration(df, 'IN_SECRETARIA', 'binary')"
   ]
  },
  {
   "cell_type": "markdown",
   "metadata": {},
   "source": [
    "#### IN_SALA_ATENDIMENTO_ESPECIAL"
   ]
  },
  {
   "cell_type": "markdown",
   "metadata": {},
   "source": [
    "- 1 - Sim\n",
    "- 0 - Não\n"
   ]
  },
  {
   "cell_type": "code",
   "execution_count": 486,
   "metadata": {},
   "outputs": [
    {
     "name": "stdout",
     "output_type": "stream",
     "text": [
      "\n",
      "Contagem de valores:\n"
     ]
    },
    {
     "data": {
      "text/plain": [
       "IN_SALA_ATENDIMENTO_ESPECIAL\n",
       "0.0    135427\n",
       "1.0     39904\n",
       "Name: count, dtype: int64"
      ]
     },
     "metadata": {},
     "output_type": "display_data"
    },
    {
     "name": "stdout",
     "output_type": "stream",
     "text": [
      "\n",
      "Quantidade de valores ausentes\n"
     ]
    },
    {
     "data": {
      "text/plain": [
       "IN_SALA_ATENDIMENTO_ESPECIAL\n",
       "False    175331\n",
       "Name: count, dtype: int64"
      ]
     },
     "metadata": {},
     "output_type": "display_data"
    }
   ],
   "source": [
    "basic_exploration(df, 'IN_SALA_ATENDIMENTO_ESPECIAL', 'binary')"
   ]
  },
  {
   "cell_type": "markdown",
   "metadata": {},
   "source": [
    "#### IN_TERREIRAO"
   ]
  },
  {
   "cell_type": "markdown",
   "metadata": {},
   "source": [
    "- 1 - Sim\n",
    "- 0 - Não\n"
   ]
  },
  {
   "cell_type": "code",
   "execution_count": 487,
   "metadata": {},
   "outputs": [
    {
     "name": "stdout",
     "output_type": "stream",
     "text": [
      "\n",
      "Contagem de valores:\n"
     ]
    },
    {
     "data": {
      "text/plain": [
       "IN_TERREIRAO\n",
       "0.0    154003\n",
       "1.0     21328\n",
       "Name: count, dtype: int64"
      ]
     },
     "metadata": {},
     "output_type": "display_data"
    },
    {
     "name": "stdout",
     "output_type": "stream",
     "text": [
      "\n",
      "Quantidade de valores ausentes\n"
     ]
    },
    {
     "data": {
      "text/plain": [
       "IN_TERREIRAO\n",
       "False    175331\n",
       "Name: count, dtype: int64"
      ]
     },
     "metadata": {},
     "output_type": "display_data"
    }
   ],
   "source": [
    "basic_exploration(df, 'IN_TERREIRAO', 'binary')"
   ]
  },
  {
   "cell_type": "markdown",
   "metadata": {},
   "source": [
    "#### IN_VIVEIRO"
   ]
  },
  {
   "cell_type": "markdown",
   "metadata": {},
   "source": [
    "- 1 - Sim\n",
    "- 0 - Não\n"
   ]
  },
  {
   "cell_type": "code",
   "execution_count": 488,
   "metadata": {},
   "outputs": [
    {
     "name": "stdout",
     "output_type": "stream",
     "text": [
      "\n",
      "Contagem de valores:\n"
     ]
    },
    {
     "data": {
      "text/plain": [
       "IN_VIVEIRO\n",
       "0.0    173687\n",
       "1.0      1644\n",
       "Name: count, dtype: int64"
      ]
     },
     "metadata": {},
     "output_type": "display_data"
    },
    {
     "name": "stdout",
     "output_type": "stream",
     "text": [
      "\n",
      "Quantidade de valores ausentes\n"
     ]
    },
    {
     "data": {
      "text/plain": [
       "IN_VIVEIRO\n",
       "False    175331\n",
       "Name: count, dtype: int64"
      ]
     },
     "metadata": {},
     "output_type": "display_data"
    }
   ],
   "source": [
    "basic_exploration(df, 'IN_VIVEIRO', 'binary')"
   ]
  },
  {
   "cell_type": "markdown",
   "metadata": {},
   "source": [
    "#### IN_DEPENDENCIAS_OUTRAS"
   ]
  },
  {
   "cell_type": "markdown",
   "metadata": {},
   "source": [
    "- 1 - Sim\n",
    "- 0 - Não\n"
   ]
  },
  {
   "cell_type": "code",
   "execution_count": 489,
   "metadata": {},
   "outputs": [
    {
     "name": "stdout",
     "output_type": "stream",
     "text": [
      "\n",
      "Contagem de valores:\n"
     ]
    },
    {
     "data": {
      "text/plain": [
       "IN_DEPENDENCIAS_OUTRAS\n",
       "0.0    173551\n",
       "1.0      1780\n",
       "Name: count, dtype: int64"
      ]
     },
     "metadata": {},
     "output_type": "display_data"
    },
    {
     "name": "stdout",
     "output_type": "stream",
     "text": [
      "\n",
      "Quantidade de valores ausentes\n"
     ]
    },
    {
     "data": {
      "text/plain": [
       "IN_DEPENDENCIAS_OUTRAS\n",
       "False    175331\n",
       "Name: count, dtype: int64"
      ]
     },
     "metadata": {},
     "output_type": "display_data"
    }
   ],
   "source": [
    "basic_exploration(df, 'IN_DEPENDENCIAS_OUTRAS', 'binary')"
   ]
  },
  {
   "cell_type": "markdown",
   "metadata": {},
   "source": [
    "#### Comparação"
   ]
  },
  {
   "cell_type": "code",
   "execution_count": 490,
   "metadata": {},
   "outputs": [
    {
     "data": {
      "text/plain": [
       "IN_BANHEIRO  IN_BANHEIRO_EI  IN_BANHEIRO_PNE  IN_BANHEIRO_FUNCIONARIOS  IN_BANHEIRO_CHUVEIRO\n",
       "1.0          0.0             0.0              0.0                       0.0                     28995\n",
       "             1.0             1.0              1.0                       1.0                     24721\n",
       "             0.0             1.0              1.0                       1.0                     17882\n",
       "                                                                        0.0                     17312\n",
       "                             0.0              1.0                       0.0                     12273\n",
       "             1.0             0.0              1.0                       1.0                     10013\n",
       "                             1.0              1.0                       0.0                      9810\n",
       "             0.0             1.0              0.0                       0.0                      8349\n",
       "             1.0             0.0              1.0                       0.0                      8263\n",
       "                             1.0              0.0                       1.0                      5645\n",
       "             0.0             0.0              1.0                       1.0                      5116\n",
       "0.0          0.0             0.0              0.0                       0.0                      4942\n",
       "1.0          0.0             1.0              0.0                       1.0                      4688\n",
       "             1.0             0.0              0.0                       1.0                      4658\n",
       "                                                                        0.0                      4606\n",
       "             0.0             0.0              0.0                       1.0                      4523\n",
       "             1.0             1.0              0.0                       0.0                      3535\n",
       "Name: count, dtype: int64"
      ]
     },
     "execution_count": 490,
     "metadata": {},
     "output_type": "execute_result"
    }
   ],
   "source": [
    "cols_banheiros = ['IN_BANHEIRO', 'IN_BANHEIRO_EI', 'IN_BANHEIRO_PNE', 'IN_BANHEIRO_FUNCIONARIOS', 'IN_BANHEIRO_CHUVEIRO']\n",
    "\n",
    "df[cols_banheiros].value_counts(dropna = False)"
   ]
  },
  {
   "cell_type": "code",
   "execution_count": 491,
   "metadata": {},
   "outputs": [
    {
     "data": {
      "text/plain": [
       "IN_BIBLIOTECA  IN_BIBLIOTECA_SALA_LEITURA  IN_SALA_LEITURA\n",
       "0.0            0.0                         0.0                84298\n",
       "1.0            1.0                         0.0                44222\n",
       "0.0            1.0                         1.0                26842\n",
       "1.0            1.0                         1.0                19969\n",
       "Name: count, dtype: int64"
      ]
     },
     "execution_count": 491,
     "metadata": {},
     "output_type": "execute_result"
    }
   ],
   "source": [
    "cols_biblioteca = ['IN_BIBLIOTECA', 'IN_BIBLIOTECA_SALA_LEITURA', 'IN_SALA_LEITURA']\n",
    "\n",
    "df[cols_biblioteca].value_counts(dropna = False)"
   ]
  },
  {
   "cell_type": "code",
   "execution_count": 492,
   "metadata": {},
   "outputs": [
    {
     "data": {
      "text/plain": [
       "['IN_EAD',\n",
       " 'QT_MAT_INF',\n",
       " 'QT_MAT_INF_CRE',\n",
       " 'QT_MAT_INF_PRE',\n",
       " 'QT_MAT_FUND',\n",
       " 'QT_MAT_FUND_AI',\n",
       " 'QT_MAT_FUND_AI_1',\n",
       " 'QT_MAT_FUND_AI_2',\n",
       " 'QT_MAT_FUND_AI_3',\n",
       " 'QT_MAT_FUND_AI_4',\n",
       " 'QT_MAT_FUND_AI_5',\n",
       " 'QT_MAT_FUND_AF',\n",
       " 'QT_MAT_FUND_AF_6',\n",
       " 'QT_MAT_FUND_AF_7',\n",
       " 'QT_MAT_FUND_AF_8',\n",
       " 'QT_MAT_FUND_AF_9',\n",
       " 'QT_MAT_MED',\n",
       " 'QT_MAT_MED_PROP',\n",
       " 'QT_MAT_MED_PROP_1',\n",
       " 'QT_MAT_MED_PROP_2',\n",
       " 'QT_MAT_MED_PROP_3',\n",
       " 'QT_MAT_MED_PROP_4',\n",
       " 'QT_MAT_MED_PROP_NS',\n",
       " 'QT_MAT_MED_CT',\n",
       " 'QT_MAT_MED_CT_1',\n",
       " 'QT_MAT_MED_CT_2',\n",
       " 'QT_MAT_MED_CT_3',\n",
       " 'QT_MAT_MED_CT_4',\n",
       " 'QT_MAT_MED_CT_NS',\n",
       " 'QT_MAT_MED_NM',\n",
       " 'QT_MAT_MED_NM_1',\n",
       " 'QT_MAT_MED_NM_2',\n",
       " 'QT_MAT_MED_NM_3',\n",
       " 'QT_MAT_MED_NM_4',\n",
       " 'QT_MAT_PROF',\n",
       " 'QT_MAT_PROF_TEC',\n",
       " 'QT_MAT_PROF_TEC_CONC',\n",
       " 'QT_MAT_PROF_TEC_SUBS',\n",
       " 'QT_MAT_PROF_FIC_CONC',\n",
       " 'QT_MAT_EJA',\n",
       " 'QT_MAT_EJA_FUND',\n",
       " 'QT_MAT_EJA_FUND_AI',\n",
       " 'QT_MAT_EJA_FUND_AF',\n",
       " 'QT_MAT_EJA_FUND_FIC',\n",
       " 'QT_MAT_EJA_MED',\n",
       " 'QT_MAT_EJA_MED_NPROF',\n",
       " 'QT_MAT_EJA_MED_FIC',\n",
       " 'QT_MAT_EJA_MED_TEC',\n",
       " 'IN_ESGOTO_FOSSA',\n",
       " 'IN_QUADRA_ESPORTES',\n",
       " 'IN_BIBLIOTECA_SALA_LEITURA']"
      ]
     },
     "execution_count": 492,
     "metadata": {},
     "output_type": "execute_result"
    }
   ],
   "source": [
    "cols_remover += ['IN_BIBLIOTECA_SALA_LEITURA']\n",
    "cols_remover"
   ]
  },
  {
   "cell_type": "markdown",
   "metadata": {},
   "source": [
    "### Recursos de Acessibilidade para Pessoas com Deficiência ou Mobilidade Reduzida nas Vias de Circulação Interna da Escola"
   ]
  },
  {
   "cell_type": "markdown",
   "metadata": {},
   "source": [
    "#### IN_ACESSIBILIDADE_CORRIMAO"
   ]
  },
  {
   "cell_type": "markdown",
   "metadata": {},
   "source": [
    "- 1 - Sim\n",
    "- 0 - Não\n"
   ]
  },
  {
   "cell_type": "code",
   "execution_count": 493,
   "metadata": {},
   "outputs": [
    {
     "name": "stdout",
     "output_type": "stream",
     "text": [
      "\n",
      "Contagem de valores:\n"
     ]
    },
    {
     "data": {
      "text/plain": [
       "IN_ACESSIBILIDADE_CORRIMAO\n",
       "0.0    121138\n",
       "1.0     54193\n",
       "Name: count, dtype: int64"
      ]
     },
     "metadata": {},
     "output_type": "display_data"
    },
    {
     "name": "stdout",
     "output_type": "stream",
     "text": [
      "\n",
      "Quantidade de valores ausentes\n"
     ]
    },
    {
     "data": {
      "text/plain": [
       "IN_ACESSIBILIDADE_CORRIMAO\n",
       "False    175331\n",
       "Name: count, dtype: int64"
      ]
     },
     "metadata": {},
     "output_type": "display_data"
    }
   ],
   "source": [
    "basic_exploration(df, 'IN_ACESSIBILIDADE_CORRIMAO', 'binary')"
   ]
  },
  {
   "cell_type": "markdown",
   "metadata": {},
   "source": [
    "#### IN_ACESSIBILIDADE_ELEVADOR"
   ]
  },
  {
   "cell_type": "markdown",
   "metadata": {},
   "source": [
    "- 1 - Sim\n",
    "- 0 - Não\n"
   ]
  },
  {
   "cell_type": "code",
   "execution_count": 494,
   "metadata": {},
   "outputs": [
    {
     "name": "stdout",
     "output_type": "stream",
     "text": [
      "\n",
      "Contagem de valores:\n"
     ]
    },
    {
     "data": {
      "text/plain": [
       "IN_ACESSIBILIDADE_ELEVADOR\n",
       "0.0    168093\n",
       "1.0      7238\n",
       "Name: count, dtype: int64"
      ]
     },
     "metadata": {},
     "output_type": "display_data"
    },
    {
     "name": "stdout",
     "output_type": "stream",
     "text": [
      "\n",
      "Quantidade de valores ausentes\n"
     ]
    },
    {
     "data": {
      "text/plain": [
       "IN_ACESSIBILIDADE_ELEVADOR\n",
       "False    175331\n",
       "Name: count, dtype: int64"
      ]
     },
     "metadata": {},
     "output_type": "display_data"
    }
   ],
   "source": [
    "basic_exploration(df, 'IN_ACESSIBILIDADE_ELEVADOR', 'binary')"
   ]
  },
  {
   "cell_type": "markdown",
   "metadata": {},
   "source": [
    "#### IN_ACESSIBILIDADE_PISOS_TATEIS"
   ]
  },
  {
   "cell_type": "markdown",
   "metadata": {},
   "source": [
    "- 1 - Sim\n",
    "- 0 - Não\n"
   ]
  },
  {
   "cell_type": "code",
   "execution_count": 495,
   "metadata": {},
   "outputs": [
    {
     "name": "stdout",
     "output_type": "stream",
     "text": [
      "\n",
      "Contagem de valores:\n"
     ]
    },
    {
     "data": {
      "text/plain": [
       "IN_ACESSIBILIDADE_PISOS_TATEIS\n",
       "0.0    157250\n",
       "1.0     18081\n",
       "Name: count, dtype: int64"
      ]
     },
     "metadata": {},
     "output_type": "display_data"
    },
    {
     "name": "stdout",
     "output_type": "stream",
     "text": [
      "\n",
      "Quantidade de valores ausentes\n"
     ]
    },
    {
     "data": {
      "text/plain": [
       "IN_ACESSIBILIDADE_PISOS_TATEIS\n",
       "False    175331\n",
       "Name: count, dtype: int64"
      ]
     },
     "metadata": {},
     "output_type": "display_data"
    }
   ],
   "source": [
    "basic_exploration(df, 'IN_ACESSIBILIDADE_PISOS_TATEIS', 'binary')"
   ]
  },
  {
   "cell_type": "markdown",
   "metadata": {},
   "source": [
    "#### IN_ACESSIBILIDADE_VAO_LIVRE"
   ]
  },
  {
   "cell_type": "markdown",
   "metadata": {},
   "source": [
    "- 1 - Sim\n",
    "- 0 - Não\n"
   ]
  },
  {
   "cell_type": "code",
   "execution_count": 496,
   "metadata": {},
   "outputs": [
    {
     "name": "stdout",
     "output_type": "stream",
     "text": [
      "\n",
      "Contagem de valores:\n"
     ]
    },
    {
     "data": {
      "text/plain": [
       "IN_ACESSIBILIDADE_VAO_LIVRE\n",
       "0.0    106203\n",
       "1.0     69128\n",
       "Name: count, dtype: int64"
      ]
     },
     "metadata": {},
     "output_type": "display_data"
    },
    {
     "name": "stdout",
     "output_type": "stream",
     "text": [
      "\n",
      "Quantidade de valores ausentes\n"
     ]
    },
    {
     "data": {
      "text/plain": [
       "IN_ACESSIBILIDADE_VAO_LIVRE\n",
       "False    175331\n",
       "Name: count, dtype: int64"
      ]
     },
     "metadata": {},
     "output_type": "display_data"
    }
   ],
   "source": [
    "basic_exploration(df, 'IN_ACESSIBILIDADE_VAO_LIVRE', 'binary')"
   ]
  },
  {
   "cell_type": "markdown",
   "metadata": {},
   "source": [
    "#### IN_ACESSIBILIDADE_RAMPAS"
   ]
  },
  {
   "cell_type": "markdown",
   "metadata": {},
   "source": [
    "- 1 - Sim\n",
    "- 0 - Não\n"
   ]
  },
  {
   "cell_type": "code",
   "execution_count": 497,
   "metadata": {},
   "outputs": [
    {
     "name": "stdout",
     "output_type": "stream",
     "text": [
      "\n",
      "Contagem de valores:\n"
     ]
    },
    {
     "data": {
      "text/plain": [
       "IN_ACESSIBILIDADE_RAMPAS\n",
       "1.0    95895\n",
       "0.0    79436\n",
       "Name: count, dtype: int64"
      ]
     },
     "metadata": {},
     "output_type": "display_data"
    },
    {
     "name": "stdout",
     "output_type": "stream",
     "text": [
      "\n",
      "Quantidade de valores ausentes\n"
     ]
    },
    {
     "data": {
      "text/plain": [
       "IN_ACESSIBILIDADE_RAMPAS\n",
       "False    175331\n",
       "Name: count, dtype: int64"
      ]
     },
     "metadata": {},
     "output_type": "display_data"
    }
   ],
   "source": [
    "basic_exploration(df, 'IN_ACESSIBILIDADE_RAMPAS', 'binary')"
   ]
  },
  {
   "cell_type": "markdown",
   "metadata": {},
   "source": [
    "#### IN_ACESSIBILIDADE_SINAL_SONORO"
   ]
  },
  {
   "cell_type": "markdown",
   "metadata": {},
   "source": [
    "- 1 - Sim\n",
    "- 0 - Não\n"
   ]
  },
  {
   "cell_type": "code",
   "execution_count": 498,
   "metadata": {},
   "outputs": [
    {
     "name": "stdout",
     "output_type": "stream",
     "text": [
      "\n",
      "Contagem de valores:\n"
     ]
    },
    {
     "data": {
      "text/plain": [
       "IN_ACESSIBILIDADE_SINAL_SONORO\n",
       "0.0    171175\n",
       "1.0      4156\n",
       "Name: count, dtype: int64"
      ]
     },
     "metadata": {},
     "output_type": "display_data"
    },
    {
     "name": "stdout",
     "output_type": "stream",
     "text": [
      "\n",
      "Quantidade de valores ausentes\n"
     ]
    },
    {
     "data": {
      "text/plain": [
       "IN_ACESSIBILIDADE_SINAL_SONORO\n",
       "False    175331\n",
       "Name: count, dtype: int64"
      ]
     },
     "metadata": {},
     "output_type": "display_data"
    }
   ],
   "source": [
    "basic_exploration(df, 'IN_ACESSIBILIDADE_SINAL_SONORO', 'binary')"
   ]
  },
  {
   "cell_type": "markdown",
   "metadata": {},
   "source": [
    "#### IN_ACESSIBILIDADE_SINAL_TATIL"
   ]
  },
  {
   "cell_type": "markdown",
   "metadata": {},
   "source": [
    "- 1 - Sim\n",
    "- 0 - Não\n"
   ]
  },
  {
   "cell_type": "code",
   "execution_count": 499,
   "metadata": {},
   "outputs": [
    {
     "name": "stdout",
     "output_type": "stream",
     "text": [
      "\n",
      "Contagem de valores:\n"
     ]
    },
    {
     "data": {
      "text/plain": [
       "IN_ACESSIBILIDADE_SINAL_TATIL\n",
       "0.0    167853\n",
       "1.0      7478\n",
       "Name: count, dtype: int64"
      ]
     },
     "metadata": {},
     "output_type": "display_data"
    },
    {
     "name": "stdout",
     "output_type": "stream",
     "text": [
      "\n",
      "Quantidade de valores ausentes\n"
     ]
    },
    {
     "data": {
      "text/plain": [
       "IN_ACESSIBILIDADE_SINAL_TATIL\n",
       "False    175331\n",
       "Name: count, dtype: int64"
      ]
     },
     "metadata": {},
     "output_type": "display_data"
    }
   ],
   "source": [
    "basic_exploration(df, 'IN_ACESSIBILIDADE_SINAL_TATIL', 'binary')"
   ]
  },
  {
   "cell_type": "markdown",
   "metadata": {},
   "source": [
    "#### IN_ACESSIBILIDADE_SINAL_VISUAL"
   ]
  },
  {
   "cell_type": "markdown",
   "metadata": {},
   "source": [
    "- 1 - Sim\n",
    "- 0 - Não\n"
   ]
  },
  {
   "cell_type": "code",
   "execution_count": 500,
   "metadata": {},
   "outputs": [
    {
     "name": "stdout",
     "output_type": "stream",
     "text": [
      "\n",
      "Contagem de valores:\n"
     ]
    },
    {
     "data": {
      "text/plain": [
       "IN_ACESSIBILIDADE_SINAL_VISUAL\n",
       "0.0    159320\n",
       "1.0     16011\n",
       "Name: count, dtype: int64"
      ]
     },
     "metadata": {},
     "output_type": "display_data"
    },
    {
     "name": "stdout",
     "output_type": "stream",
     "text": [
      "\n",
      "Quantidade de valores ausentes\n"
     ]
    },
    {
     "data": {
      "text/plain": [
       "IN_ACESSIBILIDADE_SINAL_VISUAL\n",
       "False    175331\n",
       "Name: count, dtype: int64"
      ]
     },
     "metadata": {},
     "output_type": "display_data"
    }
   ],
   "source": [
    "basic_exploration(df, 'IN_ACESSIBILIDADE_SINAL_VISUAL', 'binary')"
   ]
  },
  {
   "cell_type": "markdown",
   "metadata": {},
   "source": [
    "#### IN_ACESSIBILIDADE_INEXISTENTE"
   ]
  },
  {
   "cell_type": "markdown",
   "metadata": {},
   "source": [
    "- 1 - Sim\n",
    "- 0 - Não\n"
   ]
  },
  {
   "cell_type": "code",
   "execution_count": 501,
   "metadata": {},
   "outputs": [
    {
     "name": "stdout",
     "output_type": "stream",
     "text": [
      "\n",
      "Contagem de valores:\n"
     ]
    },
    {
     "data": {
      "text/plain": [
       "IN_ACESSIBILIDADE_INEXISTENTE\n",
       "0.0    119876\n",
       "1.0     55455\n",
       "Name: count, dtype: int64"
      ]
     },
     "metadata": {},
     "output_type": "display_data"
    },
    {
     "name": "stdout",
     "output_type": "stream",
     "text": [
      "\n",
      "Quantidade de valores ausentes\n"
     ]
    },
    {
     "data": {
      "text/plain": [
       "IN_ACESSIBILIDADE_INEXISTENTE\n",
       "False    175331\n",
       "Name: count, dtype: int64"
      ]
     },
     "metadata": {},
     "output_type": "display_data"
    }
   ],
   "source": [
    "basic_exploration(df, 'IN_ACESSIBILIDADE_INEXISTENTE', 'binary')"
   ]
  },
  {
   "cell_type": "markdown",
   "metadata": {},
   "source": [
    "#### Comparação"
   ]
  },
  {
   "cell_type": "code",
   "execution_count": 502,
   "metadata": {},
   "outputs": [
    {
     "data": {
      "text/plain": [
       "IN_ACESSIBILIDADE_CORRIMAO  IN_ACESSIBILIDADE_ELEVADOR  IN_ACESSIBILIDADE_PISOS_TATEIS  IN_ACESSIBILIDADE_VAO_LIVRE  IN_ACESSIBILIDADE_RAMPAS  IN_ACESSIBILIDADE_SINAL_SONORO  IN_ACESSIBILIDADE_SINAL_TATIL  IN_ACESSIBILIDADE_SINAL_VISUAL  IN_ACESSIBILIDADE_INEXISTENTE\n",
       "0.0                         0.0                         0.0                             0.0                          0.0                       0.0                             0.0                            0.0                             1.0                              55455\n",
       "                                                                                                                     1.0                       0.0                             0.0                            0.0                             0.0                              25131\n",
       "                                                                                        1.0                          1.0                       0.0                             0.0                            0.0                             0.0                              18543\n",
       "1.0                         0.0                         0.0                             1.0                          1.0                       0.0                             0.0                            0.0                             0.0                              14935\n",
       "                                                                                        0.0                          1.0                       0.0                             0.0                            0.0                             0.0                              11101\n",
       "                                                                                                                                                                                                                                                                               ...  \n",
       "0.0                         1.0                         1.0                             1.0                          0.0                       1.0                             1.0                            0.0                             0.0                                  1\n",
       "                                                                                                                     1.0                       1.0                             0.0                            0.0                             0.0                                  1\n",
       "1.0                         0.0                         0.0                             0.0                          0.0                       1.0                             1.0                            0.0                             0.0                                  1\n",
       "                                                        1.0                             0.0                          0.0                       1.0                             1.0                            1.0                             0.0                                  1\n",
       "0.0                         0.0                         0.0                             1.0                          0.0                       1.0                             1.0                            1.0                             0.0                                  1\n",
       "Name: count, Length: 237, dtype: int64"
      ]
     },
     "execution_count": 502,
     "metadata": {},
     "output_type": "execute_result"
    }
   ],
   "source": [
    "cols_acessibilidade = ['IN_ACESSIBILIDADE_CORRIMAO', 'IN_ACESSIBILIDADE_ELEVADOR', 'IN_ACESSIBILIDADE_PISOS_TATEIS', 'IN_ACESSIBILIDADE_VAO_LIVRE', 'IN_ACESSIBILIDADE_RAMPAS', \n",
    "                  'IN_ACESSIBILIDADE_SINAL_SONORO', 'IN_ACESSIBILIDADE_SINAL_TATIL', 'IN_ACESSIBILIDADE_SINAL_VISUAL', 'IN_ACESSIBILIDADE_INEXISTENTE']\n",
    "\n",
    "df[cols_acessibilidade].value_counts(dropna = False)"
   ]
  },
  {
   "cell_type": "markdown",
   "metadata": {},
   "source": [
    "### Salas"
   ]
  },
  {
   "cell_type": "markdown",
   "metadata": {},
   "source": [
    "#### QT_SALAS_UTILIZADAS_DENTRO"
   ]
  },
  {
   "cell_type": "code",
   "execution_count": 503,
   "metadata": {},
   "outputs": [
    {
     "name": "stdout",
     "output_type": "stream",
     "text": [
      "\n",
      "Quantidade de valores ausentes\n"
     ]
    },
    {
     "data": {
      "text/plain": [
       "QT_SALAS_UTILIZADAS_DENTRO\n",
       "False    175331\n",
       "Name: count, dtype: int64"
      ]
     },
     "metadata": {},
     "output_type": "display_data"
    }
   ],
   "source": [
    "basic_exploration(df, 'QT_SALAS_UTILIZADAS_DENTRO', 'numeric')"
   ]
  },
  {
   "cell_type": "markdown",
   "metadata": {},
   "source": [
    "#### QT_SALAS_UTILIZADAS_FORA"
   ]
  },
  {
   "cell_type": "code",
   "execution_count": 504,
   "metadata": {},
   "outputs": [
    {
     "name": "stdout",
     "output_type": "stream",
     "text": [
      "\n",
      "Quantidade de valores ausentes\n"
     ]
    },
    {
     "data": {
      "text/plain": [
       "QT_SALAS_UTILIZADAS_FORA\n",
       "False    175331\n",
       "Name: count, dtype: int64"
      ]
     },
     "metadata": {},
     "output_type": "display_data"
    }
   ],
   "source": [
    "basic_exploration(df, 'QT_SALAS_UTILIZADAS_FORA', 'numeric')"
   ]
  },
  {
   "cell_type": "markdown",
   "metadata": {},
   "source": [
    "#### QT_SALAS_UTILIZADAS -> Remover"
   ]
  },
  {
   "cell_type": "code",
   "execution_count": 505,
   "metadata": {},
   "outputs": [
    {
     "name": "stdout",
     "output_type": "stream",
     "text": [
      "\n",
      "Quantidade de valores ausentes\n"
     ]
    },
    {
     "data": {
      "text/plain": [
       "QT_SALAS_UTILIZADAS\n",
       "False    175331\n",
       "Name: count, dtype: int64"
      ]
     },
     "metadata": {},
     "output_type": "display_data"
    }
   ],
   "source": [
    "basic_exploration(df, 'QT_SALAS_UTILIZADAS', 'numeric')"
   ]
  },
  {
   "cell_type": "code",
   "execution_count": 506,
   "metadata": {},
   "outputs": [
    {
     "data": {
      "text/plain": [
       "'QT_SALAS_UTILIZADAS'"
      ]
     },
     "execution_count": 506,
     "metadata": {},
     "output_type": "execute_result"
    }
   ],
   "source": [
    "cols_remover += ['QT_SALAS_UTILIZADAS']\n",
    "cols_remover[-1]"
   ]
  },
  {
   "cell_type": "markdown",
   "metadata": {},
   "source": [
    "#### QT_SALAS_UTILIZA_CLIMATIZADAS"
   ]
  },
  {
   "cell_type": "code",
   "execution_count": 507,
   "metadata": {},
   "outputs": [
    {
     "name": "stdout",
     "output_type": "stream",
     "text": [
      "\n",
      "Quantidade de valores ausentes\n"
     ]
    },
    {
     "data": {
      "text/plain": [
       "QT_SALAS_UTILIZA_CLIMATIZADAS\n",
       "False    175331\n",
       "Name: count, dtype: int64"
      ]
     },
     "metadata": {},
     "output_type": "display_data"
    }
   ],
   "source": [
    "basic_exploration(df, 'QT_SALAS_UTILIZA_CLIMATIZADAS', 'numeric')"
   ]
  },
  {
   "cell_type": "markdown",
   "metadata": {},
   "source": [
    "#### QT_SALAS_UTILIZADAS_ACESSIVEIS"
   ]
  },
  {
   "cell_type": "code",
   "execution_count": 508,
   "metadata": {},
   "outputs": [
    {
     "name": "stdout",
     "output_type": "stream",
     "text": [
      "\n",
      "Quantidade de valores ausentes\n"
     ]
    },
    {
     "data": {
      "text/plain": [
       "QT_SALAS_UTILIZADAS_ACESSIVEIS\n",
       "False    175331\n",
       "Name: count, dtype: int64"
      ]
     },
     "metadata": {},
     "output_type": "display_data"
    }
   ],
   "source": [
    "basic_exploration(df, 'QT_SALAS_UTILIZADAS_ACESSIVEIS', 'numeric')"
   ]
  },
  {
   "cell_type": "markdown",
   "metadata": {},
   "source": [
    "#### Comparação"
   ]
  },
  {
   "cell_type": "code",
   "execution_count": 509,
   "metadata": {},
   "outputs": [
    {
     "data": {
      "text/plain": [
       "(0, 177)"
      ]
     },
     "execution_count": 509,
     "metadata": {},
     "output_type": "execute_result"
    }
   ],
   "source": [
    "df[df['QT_SALAS_UTILIZADAS_DENTRO'] + df['QT_SALAS_UTILIZADAS_FORA'] != df['QT_SALAS_UTILIZADAS']].shape"
   ]
  },
  {
   "cell_type": "code",
   "execution_count": 510,
   "metadata": {},
   "outputs": [
    {
     "data": {
      "text/plain": [
       "['IN_EAD',\n",
       " 'QT_MAT_INF',\n",
       " 'QT_MAT_INF_CRE',\n",
       " 'QT_MAT_INF_PRE',\n",
       " 'QT_MAT_FUND',\n",
       " 'QT_MAT_FUND_AI',\n",
       " 'QT_MAT_FUND_AI_1',\n",
       " 'QT_MAT_FUND_AI_2',\n",
       " 'QT_MAT_FUND_AI_3',\n",
       " 'QT_MAT_FUND_AI_4',\n",
       " 'QT_MAT_FUND_AI_5',\n",
       " 'QT_MAT_FUND_AF',\n",
       " 'QT_MAT_FUND_AF_6',\n",
       " 'QT_MAT_FUND_AF_7',\n",
       " 'QT_MAT_FUND_AF_8',\n",
       " 'QT_MAT_FUND_AF_9',\n",
       " 'QT_MAT_MED',\n",
       " 'QT_MAT_MED_PROP',\n",
       " 'QT_MAT_MED_PROP_1',\n",
       " 'QT_MAT_MED_PROP_2',\n",
       " 'QT_MAT_MED_PROP_3',\n",
       " 'QT_MAT_MED_PROP_4',\n",
       " 'QT_MAT_MED_PROP_NS',\n",
       " 'QT_MAT_MED_CT',\n",
       " 'QT_MAT_MED_CT_1',\n",
       " 'QT_MAT_MED_CT_2',\n",
       " 'QT_MAT_MED_CT_3',\n",
       " 'QT_MAT_MED_CT_4',\n",
       " 'QT_MAT_MED_CT_NS',\n",
       " 'QT_MAT_MED_NM',\n",
       " 'QT_MAT_MED_NM_1',\n",
       " 'QT_MAT_MED_NM_2',\n",
       " 'QT_MAT_MED_NM_3',\n",
       " 'QT_MAT_MED_NM_4',\n",
       " 'QT_MAT_PROF',\n",
       " 'QT_MAT_PROF_TEC',\n",
       " 'QT_MAT_PROF_TEC_CONC',\n",
       " 'QT_MAT_PROF_TEC_SUBS',\n",
       " 'QT_MAT_PROF_FIC_CONC',\n",
       " 'QT_MAT_EJA',\n",
       " 'QT_MAT_EJA_FUND',\n",
       " 'QT_MAT_EJA_FUND_AI',\n",
       " 'QT_MAT_EJA_FUND_AF',\n",
       " 'QT_MAT_EJA_FUND_FIC',\n",
       " 'QT_MAT_EJA_MED',\n",
       " 'QT_MAT_EJA_MED_NPROF',\n",
       " 'QT_MAT_EJA_MED_FIC',\n",
       " 'QT_MAT_EJA_MED_TEC',\n",
       " 'IN_ESGOTO_FOSSA',\n",
       " 'IN_QUADRA_ESPORTES',\n",
       " 'IN_BIBLIOTECA_SALA_LEITURA',\n",
       " 'QT_SALAS_UTILIZADAS',\n",
       " 'QT_SALAS_UTILIZADAS_DENTRO']"
      ]
     },
     "execution_count": 510,
     "metadata": {},
     "output_type": "execute_result"
    }
   ],
   "source": [
    "cols_remover += ['QT_SALAS_UTILIZADAS_DENTRO']\n",
    "cols_remover"
   ]
  },
  {
   "cell_type": "markdown",
   "metadata": {},
   "source": [
    "### Equipamentos para uso técnico e administrativo"
   ]
  },
  {
   "cell_type": "markdown",
   "metadata": {},
   "source": [
    "#### IN_EQUIP_PARABOLICA"
   ]
  },
  {
   "cell_type": "markdown",
   "metadata": {},
   "source": [
    "- 1 - Sim\n",
    "- 0 - Não\n"
   ]
  },
  {
   "cell_type": "code",
   "execution_count": 511,
   "metadata": {},
   "outputs": [
    {
     "name": "stdout",
     "output_type": "stream",
     "text": [
      "\n",
      "Contagem de valores:\n"
     ]
    },
    {
     "data": {
      "text/plain": [
       "IN_EQUIP_PARABOLICA\n",
       "0.0    155426\n",
       "1.0     19905\n",
       "Name: count, dtype: int64"
      ]
     },
     "metadata": {},
     "output_type": "display_data"
    },
    {
     "name": "stdout",
     "output_type": "stream",
     "text": [
      "\n",
      "Quantidade de valores ausentes\n"
     ]
    },
    {
     "data": {
      "text/plain": [
       "IN_EQUIP_PARABOLICA\n",
       "False    175331\n",
       "Name: count, dtype: int64"
      ]
     },
     "metadata": {},
     "output_type": "display_data"
    }
   ],
   "source": [
    "basic_exploration(df, 'IN_EQUIP_PARABOLICA', 'binary')"
   ]
  },
  {
   "cell_type": "markdown",
   "metadata": {},
   "source": [
    "#### IN_COMPUTADOR"
   ]
  },
  {
   "cell_type": "markdown",
   "metadata": {},
   "source": [
    "- 1 - Sim\n",
    "- 0 - Não\n"
   ]
  },
  {
   "cell_type": "code",
   "execution_count": 512,
   "metadata": {},
   "outputs": [
    {
     "name": "stdout",
     "output_type": "stream",
     "text": [
      "\n",
      "Contagem de valores:\n"
     ]
    },
    {
     "data": {
      "text/plain": [
       "IN_COMPUTADOR\n",
       "1.0    147894\n",
       "0.0     27437\n",
       "Name: count, dtype: int64"
      ]
     },
     "metadata": {},
     "output_type": "display_data"
    },
    {
     "name": "stdout",
     "output_type": "stream",
     "text": [
      "\n",
      "Quantidade de valores ausentes\n"
     ]
    },
    {
     "data": {
      "text/plain": [
       "IN_COMPUTADOR\n",
       "False    175331\n",
       "Name: count, dtype: int64"
      ]
     },
     "metadata": {},
     "output_type": "display_data"
    }
   ],
   "source": [
    "basic_exploration(df, 'IN_COMPUTADOR', 'binary')"
   ]
  },
  {
   "cell_type": "markdown",
   "metadata": {},
   "source": [
    "#### IN_EQUIP_COPIADORA"
   ]
  },
  {
   "cell_type": "markdown",
   "metadata": {},
   "source": [
    "- 1 - Sim\n",
    "- 0 - Não\n"
   ]
  },
  {
   "cell_type": "code",
   "execution_count": 513,
   "metadata": {},
   "outputs": [
    {
     "name": "stdout",
     "output_type": "stream",
     "text": [
      "\n",
      "Contagem de valores:\n"
     ]
    },
    {
     "data": {
      "text/plain": [
       "IN_EQUIP_COPIADORA\n",
       "0.0    105033\n",
       "1.0     70298\n",
       "Name: count, dtype: int64"
      ]
     },
     "metadata": {},
     "output_type": "display_data"
    },
    {
     "name": "stdout",
     "output_type": "stream",
     "text": [
      "\n",
      "Quantidade de valores ausentes\n"
     ]
    },
    {
     "data": {
      "text/plain": [
       "IN_EQUIP_COPIADORA\n",
       "False    175331\n",
       "Name: count, dtype: int64"
      ]
     },
     "metadata": {},
     "output_type": "display_data"
    }
   ],
   "source": [
    "basic_exploration(df, 'IN_EQUIP_COPIADORA', 'binary')"
   ]
  },
  {
   "cell_type": "markdown",
   "metadata": {},
   "source": [
    "#### IN_EQUIP_IMPRESSORA"
   ]
  },
  {
   "cell_type": "markdown",
   "metadata": {},
   "source": [
    "- 1 - Sim\n",
    "- 0 - Não\n"
   ]
  },
  {
   "cell_type": "code",
   "execution_count": 514,
   "metadata": {},
   "outputs": [
    {
     "name": "stdout",
     "output_type": "stream",
     "text": [
      "\n",
      "Contagem de valores:\n"
     ]
    },
    {
     "data": {
      "text/plain": [
       "IN_EQUIP_IMPRESSORA\n",
       "1.0    114645\n",
       "0.0     60686\n",
       "Name: count, dtype: int64"
      ]
     },
     "metadata": {},
     "output_type": "display_data"
    },
    {
     "name": "stdout",
     "output_type": "stream",
     "text": [
      "\n",
      "Quantidade de valores ausentes\n"
     ]
    },
    {
     "data": {
      "text/plain": [
       "IN_EQUIP_IMPRESSORA\n",
       "False    175331\n",
       "Name: count, dtype: int64"
      ]
     },
     "metadata": {},
     "output_type": "display_data"
    }
   ],
   "source": [
    "basic_exploration(df, 'IN_EQUIP_IMPRESSORA', 'binary')"
   ]
  },
  {
   "cell_type": "markdown",
   "metadata": {},
   "source": [
    "#### IN_EQUIP_IMPRESSORA_MULT"
   ]
  },
  {
   "cell_type": "markdown",
   "metadata": {},
   "source": [
    "- 1 - Sim\n",
    "- 0 - Não\n"
   ]
  },
  {
   "cell_type": "code",
   "execution_count": 515,
   "metadata": {},
   "outputs": [
    {
     "name": "stdout",
     "output_type": "stream",
     "text": [
      "\n",
      "Contagem de valores:\n"
     ]
    },
    {
     "data": {
      "text/plain": [
       "IN_EQUIP_IMPRESSORA_MULT\n",
       "1.0    123631\n",
       "0.0     51700\n",
       "Name: count, dtype: int64"
      ]
     },
     "metadata": {},
     "output_type": "display_data"
    },
    {
     "name": "stdout",
     "output_type": "stream",
     "text": [
      "\n",
      "Quantidade de valores ausentes\n"
     ]
    },
    {
     "data": {
      "text/plain": [
       "IN_EQUIP_IMPRESSORA_MULT\n",
       "False    175331\n",
       "Name: count, dtype: int64"
      ]
     },
     "metadata": {},
     "output_type": "display_data"
    }
   ],
   "source": [
    "basic_exploration(df, 'IN_EQUIP_IMPRESSORA_MULT', 'binary')"
   ]
  },
  {
   "cell_type": "markdown",
   "metadata": {},
   "source": [
    "#### IN_EQUIP_SCANNER"
   ]
  },
  {
   "cell_type": "markdown",
   "metadata": {},
   "source": [
    "- 1 - Sim\n",
    "- 0 - Não\n"
   ]
  },
  {
   "cell_type": "code",
   "execution_count": 516,
   "metadata": {},
   "outputs": [
    {
     "name": "stdout",
     "output_type": "stream",
     "text": [
      "\n",
      "Contagem de valores:\n"
     ]
    },
    {
     "data": {
      "text/plain": [
       "IN_EQUIP_SCANNER\n",
       "0.0    128063\n",
       "1.0     47268\n",
       "Name: count, dtype: int64"
      ]
     },
     "metadata": {},
     "output_type": "display_data"
    },
    {
     "name": "stdout",
     "output_type": "stream",
     "text": [
      "\n",
      "Quantidade de valores ausentes\n"
     ]
    },
    {
     "data": {
      "text/plain": [
       "IN_EQUIP_SCANNER\n",
       "False    175331\n",
       "Name: count, dtype: int64"
      ]
     },
     "metadata": {},
     "output_type": "display_data"
    }
   ],
   "source": [
    "basic_exploration(df, 'IN_EQUIP_SCANNER', 'binary')"
   ]
  },
  {
   "cell_type": "markdown",
   "metadata": {},
   "source": [
    "#### Comparação"
   ]
  },
  {
   "cell_type": "code",
   "execution_count": 517,
   "metadata": {},
   "outputs": [
    {
     "data": {
      "text/plain": [
       "IN_EQUIP_COPIADORA  IN_EQUIP_IMPRESSORA  IN_EQUIP_IMPRESSORA_MULT  IN_EQUIP_SCANNER\n",
       "1.0                 1.0                  1.0                       1.0                 33058\n",
       "0.0                 0.0                  1.0                       0.0                 31314\n",
       "                    1.0                  1.0                       0.0                 24588\n",
       "                    0.0                  0.0                       0.0                 20058\n",
       "1.0                 1.0                  1.0                       0.0                 19822\n",
       "0.0                 1.0                  0.0                       0.0                 18655\n",
       "1.0                 1.0                  0.0                       0.0                  7637\n",
       "0.0                 1.0                  1.0                       1.0                  6927\n",
       "1.0                 0.0                  1.0                       0.0                  4744\n",
       "                    1.0                  0.0                       1.0                  2574\n",
       "0.0                 0.0                  1.0                       1.0                  2064\n",
       "                    1.0                  0.0                       1.0                  1384\n",
       "1.0                 0.0                  0.0                       0.0                  1245\n",
       "                                         1.0                       1.0                  1114\n",
       "                                         0.0                       1.0                   104\n",
       "0.0                 0.0                  0.0                       1.0                    43\n",
       "Name: count, dtype: int64"
      ]
     },
     "execution_count": 517,
     "metadata": {},
     "output_type": "execute_result"
    }
   ],
   "source": [
    "cols_equipamentos_tec = ['IN_EQUIP_COPIADORA', 'IN_EQUIP_IMPRESSORA', 'IN_EQUIP_IMPRESSORA_MULT', 'IN_EQUIP_SCANNER']\n",
    "\n",
    "df[cols_equipamentos_tec].value_counts(dropna = False)"
   ]
  },
  {
   "cell_type": "markdown",
   "metadata": {},
   "source": [
    "### Equipamentos para o processo de ensino e atividade"
   ]
  },
  {
   "cell_type": "markdown",
   "metadata": {},
   "source": [
    "#### QT_EQUIP_DVD"
   ]
  },
  {
   "cell_type": "markdown",
   "metadata": {},
   "source": [
    "88888 - registro com marcação de valor extremo (valor superior ao limite máximo de 4 equipamentos para cada 3 salas existentes - foram marcados apenas valores>3)"
   ]
  },
  {
   "cell_type": "code",
   "execution_count": 518,
   "metadata": {},
   "outputs": [
    {
     "name": "stdout",
     "output_type": "stream",
     "text": [
      "\n",
      "Quantidade de valores ausentes\n"
     ]
    },
    {
     "data": {
      "text/plain": [
       "QT_EQUIP_DVD\n",
       "False    175331\n",
       "Name: count, dtype: int64"
      ]
     },
     "metadata": {},
     "output_type": "display_data"
    }
   ],
   "source": [
    "basic_exploration(df, 'QT_EQUIP_DVD', 'numeric')"
   ]
  },
  {
   "cell_type": "code",
   "execution_count": 519,
   "metadata": {},
   "outputs": [
    {
     "data": {
      "text/plain": [
       "(97855, 177)"
      ]
     },
     "execution_count": 519,
     "metadata": {},
     "output_type": "execute_result"
    }
   ],
   "source": [
    "df[df['QT_EQUIP_DVD'] == 0].shape"
   ]
  },
  {
   "cell_type": "code",
   "execution_count": 520,
   "metadata": {},
   "outputs": [
    {
     "data": {
      "text/plain": [
       "(157, 177)"
      ]
     },
     "execution_count": 520,
     "metadata": {},
     "output_type": "execute_result"
    }
   ],
   "source": [
    "df[df['QT_EQUIP_DVD'] == 88888].shape"
   ]
  },
  {
   "cell_type": "code",
   "execution_count": 521,
   "metadata": {},
   "outputs": [
    {
     "data": {
      "text/plain": [
       "(77319, 177)"
      ]
     },
     "execution_count": 521,
     "metadata": {},
     "output_type": "execute_result"
    }
   ],
   "source": [
    "df[(df['QT_EQUIP_DVD'] > 0) & (df['QT_EQUIP_DVD'] < 88888)].shape"
   ]
  },
  {
   "cell_type": "code",
   "execution_count": 522,
   "metadata": {},
   "outputs": [
    {
     "data": {
      "text/plain": [
       "121260    74.0\n",
       "121895    70.0\n",
       "105433    61.0\n",
       "143880    52.0\n",
       "102876    50.0\n",
       "          ... \n",
       "86647      1.0\n",
       "86652      1.0\n",
       "86655      1.0\n",
       "86663      1.0\n",
       "175329     1.0\n",
       "Name: QT_EQUIP_DVD, Length: 77319, dtype: float64"
      ]
     },
     "execution_count": 522,
     "metadata": {},
     "output_type": "execute_result"
    }
   ],
   "source": [
    "df[(df['QT_EQUIP_DVD'] > 0) & (df['QT_EQUIP_DVD'] < 88888)]['QT_EQUIP_DVD'].sort_values(ascending = False)"
   ]
  },
  {
   "cell_type": "code",
   "execution_count": 523,
   "metadata": {},
   "outputs": [
    {
     "data": {
      "text/html": [
       "<div>\n",
       "<style scoped>\n",
       "    .dataframe tbody tr th:only-of-type {\n",
       "        vertical-align: middle;\n",
       "    }\n",
       "\n",
       "    .dataframe tbody tr th {\n",
       "        vertical-align: top;\n",
       "    }\n",
       "\n",
       "    .dataframe thead th {\n",
       "        text-align: right;\n",
       "    }\n",
       "</style>\n",
       "<table border=\"1\" class=\"dataframe\">\n",
       "  <thead>\n",
       "    <tr style=\"text-align: right;\">\n",
       "      <th></th>\n",
       "      <th>NO_ENTIDADE</th>\n",
       "      <th>QT_EQUIP_DVD</th>\n",
       "      <th>QT_SALAS_UTILIZADAS</th>\n",
       "    </tr>\n",
       "  </thead>\n",
       "  <tbody>\n",
       "  </tbody>\n",
       "</table>\n",
       "</div>"
      ],
      "text/plain": [
       "Empty DataFrame\n",
       "Columns: [NO_ENTIDADE, QT_EQUIP_DVD, QT_SALAS_UTILIZADAS]\n",
       "Index: []"
      ]
     },
     "execution_count": 523,
     "metadata": {},
     "output_type": "execute_result"
    }
   ],
   "source": [
    "df[\n",
    "    (df['QT_EQUIP_DVD'] > 3) & \n",
    "    (df['QT_EQUIP_DVD'] > df['QT_SALAS_UTILIZADAS'] / 3 * 4) & \n",
    "    (df['QT_EQUIP_DVD'] < 88888)\n",
    "][['NO_ENTIDADE', 'QT_EQUIP_DVD', 'QT_SALAS_UTILIZADAS']]"
   ]
  },
  {
   "cell_type": "markdown",
   "metadata": {},
   "source": [
    "#### QT_EQUIP_SOM"
   ]
  },
  {
   "cell_type": "markdown",
   "metadata": {},
   "source": [
    "88888 - registro com marcação de valor extremo (valor superior ao limite máximo de 4 equipamentos para cada 3 salas existentes - foram marcados apenas valores>3)"
   ]
  },
  {
   "cell_type": "code",
   "execution_count": 524,
   "metadata": {},
   "outputs": [
    {
     "name": "stdout",
     "output_type": "stream",
     "text": [
      "\n",
      "Quantidade de valores ausentes\n"
     ]
    },
    {
     "data": {
      "text/plain": [
       "QT_EQUIP_SOM\n",
       "False    175331\n",
       "Name: count, dtype: int64"
      ]
     },
     "metadata": {},
     "output_type": "display_data"
    }
   ],
   "source": [
    "basic_exploration(df, 'QT_EQUIP_SOM', 'numeric')"
   ]
  },
  {
   "cell_type": "code",
   "execution_count": 525,
   "metadata": {},
   "outputs": [
    {
     "data": {
      "text/plain": [
       "(47302, 177)"
      ]
     },
     "execution_count": 525,
     "metadata": {},
     "output_type": "execute_result"
    }
   ],
   "source": [
    "df[df['QT_EQUIP_SOM'] == 0].shape"
   ]
  },
  {
   "cell_type": "code",
   "execution_count": 526,
   "metadata": {},
   "outputs": [
    {
     "data": {
      "text/plain": [
       "(1172, 177)"
      ]
     },
     "execution_count": 526,
     "metadata": {},
     "output_type": "execute_result"
    }
   ],
   "source": [
    "df[df['QT_EQUIP_SOM'] == 88888].shape"
   ]
  },
  {
   "cell_type": "code",
   "execution_count": 527,
   "metadata": {},
   "outputs": [
    {
     "data": {
      "text/plain": [
       "(126857, 177)"
      ]
     },
     "execution_count": 527,
     "metadata": {},
     "output_type": "execute_result"
    }
   ],
   "source": [
    "df[(df['QT_EQUIP_SOM'] > 0) & (df['QT_EQUIP_SOM'] < 88888)].shape"
   ]
  },
  {
   "cell_type": "code",
   "execution_count": 528,
   "metadata": {},
   "outputs": [
    {
     "data": {
      "text/plain": [
       "121116    140.0\n",
       "106558    106.0\n",
       "121262    101.0\n",
       "144079     92.0\n",
       "57053      90.0\n",
       "          ...  \n",
       "81515       1.0\n",
       "81509       1.0\n",
       "81505       1.0\n",
       "81503       1.0\n",
       "175330      1.0\n",
       "Name: QT_EQUIP_SOM, Length: 126857, dtype: float64"
      ]
     },
     "execution_count": 528,
     "metadata": {},
     "output_type": "execute_result"
    }
   ],
   "source": [
    "df[(df['QT_EQUIP_SOM'] > 0) & (df['QT_EQUIP_SOM'] < 88888)]['QT_EQUIP_SOM'].sort_values(ascending = False)"
   ]
  },
  {
   "cell_type": "code",
   "execution_count": 529,
   "metadata": {},
   "outputs": [
    {
     "data": {
      "text/html": [
       "<div>\n",
       "<style scoped>\n",
       "    .dataframe tbody tr th:only-of-type {\n",
       "        vertical-align: middle;\n",
       "    }\n",
       "\n",
       "    .dataframe tbody tr th {\n",
       "        vertical-align: top;\n",
       "    }\n",
       "\n",
       "    .dataframe thead th {\n",
       "        text-align: right;\n",
       "    }\n",
       "</style>\n",
       "<table border=\"1\" class=\"dataframe\">\n",
       "  <thead>\n",
       "    <tr style=\"text-align: right;\">\n",
       "      <th></th>\n",
       "      <th>NO_ENTIDADE</th>\n",
       "      <th>QT_EQUIP_SOM</th>\n",
       "      <th>QT_SALAS_UTILIZADAS</th>\n",
       "    </tr>\n",
       "  </thead>\n",
       "  <tbody>\n",
       "  </tbody>\n",
       "</table>\n",
       "</div>"
      ],
      "text/plain": [
       "Empty DataFrame\n",
       "Columns: [NO_ENTIDADE, QT_EQUIP_SOM, QT_SALAS_UTILIZADAS]\n",
       "Index: []"
      ]
     },
     "execution_count": 529,
     "metadata": {},
     "output_type": "execute_result"
    }
   ],
   "source": [
    "df[\n",
    "    (df['QT_EQUIP_SOM'] > 3) & \n",
    "    (df['QT_EQUIP_SOM'] > df['QT_SALAS_UTILIZADAS'] / 3 * 4) & \n",
    "    (df['QT_EQUIP_SOM'] < 88888)\n",
    "][['NO_ENTIDADE', 'QT_EQUIP_SOM', 'QT_SALAS_UTILIZADAS']]"
   ]
  },
  {
   "cell_type": "markdown",
   "metadata": {},
   "source": [
    "#### QT_EQUIP_TV"
   ]
  },
  {
   "cell_type": "markdown",
   "metadata": {},
   "source": [
    "88888 - registro com marcação de valor extremo (valor superior ao limite máximo de 4 equipamentos para cada 3 salas existentes - foram marcados apenas valores>3)"
   ]
  },
  {
   "cell_type": "code",
   "execution_count": 530,
   "metadata": {},
   "outputs": [
    {
     "name": "stdout",
     "output_type": "stream",
     "text": [
      "\n",
      "Quantidade de valores ausentes\n"
     ]
    },
    {
     "data": {
      "text/plain": [
       "QT_EQUIP_TV\n",
       "False    175331\n",
       "Name: count, dtype: int64"
      ]
     },
     "metadata": {},
     "output_type": "display_data"
    }
   ],
   "source": [
    "basic_exploration(df, 'QT_EQUIP_TV', 'numeric')"
   ]
  },
  {
   "cell_type": "code",
   "execution_count": 531,
   "metadata": {},
   "outputs": [
    {
     "data": {
      "text/plain": [
       "(38876, 177)"
      ]
     },
     "execution_count": 531,
     "metadata": {},
     "output_type": "execute_result"
    }
   ],
   "source": [
    "df[df['QT_EQUIP_TV'] == 0].shape"
   ]
  },
  {
   "cell_type": "code",
   "execution_count": 532,
   "metadata": {},
   "outputs": [
    {
     "data": {
      "text/plain": [
       "(2182, 177)"
      ]
     },
     "execution_count": 532,
     "metadata": {},
     "output_type": "execute_result"
    }
   ],
   "source": [
    "df[df['QT_EQUIP_TV'] == 88888].shape"
   ]
  },
  {
   "cell_type": "code",
   "execution_count": 533,
   "metadata": {},
   "outputs": [
    {
     "data": {
      "text/plain": [
       "(134273, 177)"
      ]
     },
     "execution_count": 533,
     "metadata": {},
     "output_type": "execute_result"
    }
   ],
   "source": [
    "df[(df['QT_EQUIP_TV'] > 0) & (df['QT_EQUIP_TV'] < 88888)].shape"
   ]
  },
  {
   "cell_type": "code",
   "execution_count": 534,
   "metadata": {},
   "outputs": [
    {
     "data": {
      "text/plain": [
       "79313     131.0\n",
       "7917      112.0\n",
       "110853     90.0\n",
       "103000     76.0\n",
       "46584      70.0\n",
       "          ...  \n",
       "54457       1.0\n",
       "54456       1.0\n",
       "54451       1.0\n",
       "54450       1.0\n",
       "175330      1.0\n",
       "Name: QT_EQUIP_TV, Length: 134273, dtype: float64"
      ]
     },
     "execution_count": 534,
     "metadata": {},
     "output_type": "execute_result"
    }
   ],
   "source": [
    "df[(df['QT_EQUIP_TV'] > 0) & (df['QT_EQUIP_TV'] < 88888)]['QT_EQUIP_TV'].sort_values(ascending = False)"
   ]
  },
  {
   "cell_type": "code",
   "execution_count": 535,
   "metadata": {},
   "outputs": [
    {
     "data": {
      "text/html": [
       "<div>\n",
       "<style scoped>\n",
       "    .dataframe tbody tr th:only-of-type {\n",
       "        vertical-align: middle;\n",
       "    }\n",
       "\n",
       "    .dataframe tbody tr th {\n",
       "        vertical-align: top;\n",
       "    }\n",
       "\n",
       "    .dataframe thead th {\n",
       "        text-align: right;\n",
       "    }\n",
       "</style>\n",
       "<table border=\"1\" class=\"dataframe\">\n",
       "  <thead>\n",
       "    <tr style=\"text-align: right;\">\n",
       "      <th></th>\n",
       "      <th>NO_ENTIDADE</th>\n",
       "      <th>QT_EQUIP_TV</th>\n",
       "      <th>QT_SALAS_UTILIZADAS</th>\n",
       "    </tr>\n",
       "  </thead>\n",
       "  <tbody>\n",
       "  </tbody>\n",
       "</table>\n",
       "</div>"
      ],
      "text/plain": [
       "Empty DataFrame\n",
       "Columns: [NO_ENTIDADE, QT_EQUIP_TV, QT_SALAS_UTILIZADAS]\n",
       "Index: []"
      ]
     },
     "execution_count": 535,
     "metadata": {},
     "output_type": "execute_result"
    }
   ],
   "source": [
    "df[\n",
    "    (df['QT_EQUIP_TV'] > 3) & \n",
    "    (df['QT_EQUIP_TV'] > df['QT_SALAS_UTILIZADAS'] / 3 * 4) & \n",
    "    (df['QT_EQUIP_TV'] < 88888)\n",
    "][['NO_ENTIDADE', 'QT_EQUIP_TV', 'QT_SALAS_UTILIZADAS']]"
   ]
  },
  {
   "cell_type": "markdown",
   "metadata": {},
   "source": [
    "#### QT_EQUIP_LOUSA_DIGITAL"
   ]
  },
  {
   "cell_type": "markdown",
   "metadata": {},
   "source": [
    "88888 - registro com marcação de valor extremo (valor superior ao limite máximo de 4 equipamentos para cada 3 salas existentes - foram marcados apenas valores>3)"
   ]
  },
  {
   "cell_type": "code",
   "execution_count": 536,
   "metadata": {},
   "outputs": [
    {
     "name": "stdout",
     "output_type": "stream",
     "text": [
      "\n",
      "Quantidade de valores ausentes\n"
     ]
    },
    {
     "data": {
      "text/plain": [
       "QT_EQUIP_LOUSA_DIGITAL\n",
       "False    175331\n",
       "Name: count, dtype: int64"
      ]
     },
     "metadata": {},
     "output_type": "display_data"
    }
   ],
   "source": [
    "basic_exploration(df, 'QT_EQUIP_LOUSA_DIGITAL', 'numeric')"
   ]
  },
  {
   "cell_type": "code",
   "execution_count": 537,
   "metadata": {},
   "outputs": [
    {
     "data": {
      "text/plain": [
       "(151476, 177)"
      ]
     },
     "execution_count": 537,
     "metadata": {},
     "output_type": "execute_result"
    }
   ],
   "source": [
    "df[df['QT_EQUIP_LOUSA_DIGITAL'] == 0].shape"
   ]
  },
  {
   "cell_type": "code",
   "execution_count": 538,
   "metadata": {},
   "outputs": [
    {
     "data": {
      "text/plain": [
       "(65, 177)"
      ]
     },
     "execution_count": 538,
     "metadata": {},
     "output_type": "execute_result"
    }
   ],
   "source": [
    "df[df['QT_EQUIP_LOUSA_DIGITAL'] == 88888].shape"
   ]
  },
  {
   "cell_type": "code",
   "execution_count": 539,
   "metadata": {},
   "outputs": [
    {
     "data": {
      "text/plain": [
       "(23790, 177)"
      ]
     },
     "execution_count": 539,
     "metadata": {},
     "output_type": "execute_result"
    }
   ],
   "source": [
    "df[(df['QT_EQUIP_LOUSA_DIGITAL'] > 0) & (df['QT_EQUIP_LOUSA_DIGITAL'] < 88888)].shape"
   ]
  },
  {
   "cell_type": "code",
   "execution_count": 540,
   "metadata": {},
   "outputs": [
    {
     "data": {
      "text/plain": [
       "122574    128.0\n",
       "170438     98.0\n",
       "121895     75.0\n",
       "106030     72.0\n",
       "110853     68.0\n",
       "          ...  \n",
       "93717       1.0\n",
       "93700       1.0\n",
       "93654       1.0\n",
       "93653       1.0\n",
       "175329      1.0\n",
       "Name: QT_EQUIP_LOUSA_DIGITAL, Length: 23790, dtype: float64"
      ]
     },
     "execution_count": 540,
     "metadata": {},
     "output_type": "execute_result"
    }
   ],
   "source": [
    "df[(df['QT_EQUIP_LOUSA_DIGITAL'] > 0) & (df['QT_EQUIP_LOUSA_DIGITAL'] < 88888)]['QT_EQUIP_LOUSA_DIGITAL'].sort_values(ascending = False)"
   ]
  },
  {
   "cell_type": "code",
   "execution_count": 541,
   "metadata": {},
   "outputs": [
    {
     "data": {
      "text/html": [
       "<div>\n",
       "<style scoped>\n",
       "    .dataframe tbody tr th:only-of-type {\n",
       "        vertical-align: middle;\n",
       "    }\n",
       "\n",
       "    .dataframe tbody tr th {\n",
       "        vertical-align: top;\n",
       "    }\n",
       "\n",
       "    .dataframe thead th {\n",
       "        text-align: right;\n",
       "    }\n",
       "</style>\n",
       "<table border=\"1\" class=\"dataframe\">\n",
       "  <thead>\n",
       "    <tr style=\"text-align: right;\">\n",
       "      <th></th>\n",
       "      <th>NO_ENTIDADE</th>\n",
       "      <th>QT_EQUIP_LOUSA_DIGITAL</th>\n",
       "      <th>QT_SALAS_UTILIZADAS</th>\n",
       "    </tr>\n",
       "  </thead>\n",
       "  <tbody>\n",
       "  </tbody>\n",
       "</table>\n",
       "</div>"
      ],
      "text/plain": [
       "Empty DataFrame\n",
       "Columns: [NO_ENTIDADE, QT_EQUIP_LOUSA_DIGITAL, QT_SALAS_UTILIZADAS]\n",
       "Index: []"
      ]
     },
     "execution_count": 541,
     "metadata": {},
     "output_type": "execute_result"
    }
   ],
   "source": [
    "df[\n",
    "    (df['QT_EQUIP_LOUSA_DIGITAL'] > 3) & \n",
    "    (df['QT_EQUIP_LOUSA_DIGITAL'] > df['QT_SALAS_UTILIZADAS'] / 3 * 4) & \n",
    "    (df['QT_EQUIP_LOUSA_DIGITAL'] < 88888)\n",
    "][['NO_ENTIDADE', 'QT_EQUIP_LOUSA_DIGITAL', 'QT_SALAS_UTILIZADAS']]"
   ]
  },
  {
   "cell_type": "markdown",
   "metadata": {},
   "source": [
    "#### QT_EQUIP_MULTIMIDIA"
   ]
  },
  {
   "cell_type": "markdown",
   "metadata": {},
   "source": [
    "88888 - registro com marcação de valor extremo (valor superior ao limite máximo de 4 equipamentos para cada 3 salas existentes - foram marcados apenas valores>3)"
   ]
  },
  {
   "cell_type": "code",
   "execution_count": 542,
   "metadata": {},
   "outputs": [
    {
     "name": "stdout",
     "output_type": "stream",
     "text": [
      "\n",
      "Quantidade de valores ausentes\n"
     ]
    },
    {
     "data": {
      "text/plain": [
       "QT_EQUIP_MULTIMIDIA\n",
       "False    175331\n",
       "Name: count, dtype: int64"
      ]
     },
     "metadata": {},
     "output_type": "display_data"
    }
   ],
   "source": [
    "basic_exploration(df, 'QT_EQUIP_MULTIMIDIA', 'numeric')"
   ]
  },
  {
   "cell_type": "code",
   "execution_count": 543,
   "metadata": {},
   "outputs": [
    {
     "data": {
      "text/plain": [
       "(67545, 177)"
      ]
     },
     "execution_count": 543,
     "metadata": {},
     "output_type": "execute_result"
    }
   ],
   "source": [
    "df[df['QT_EQUIP_MULTIMIDIA'] == 0].shape"
   ]
  },
  {
   "cell_type": "code",
   "execution_count": 544,
   "metadata": {},
   "outputs": [
    {
     "data": {
      "text/plain": [
       "(874, 177)"
      ]
     },
     "execution_count": 544,
     "metadata": {},
     "output_type": "execute_result"
    }
   ],
   "source": [
    "df[df['QT_EQUIP_MULTIMIDIA'] == 88888].shape"
   ]
  },
  {
   "cell_type": "code",
   "execution_count": 545,
   "metadata": {},
   "outputs": [
    {
     "data": {
      "text/plain": [
       "(106912, 177)"
      ]
     },
     "execution_count": 545,
     "metadata": {},
     "output_type": "execute_result"
    }
   ],
   "source": [
    "df[(df['QT_EQUIP_MULTIMIDIA'] > 0) & (df['QT_EQUIP_MULTIMIDIA'] < 88888)].shape"
   ]
  },
  {
   "cell_type": "code",
   "execution_count": 546,
   "metadata": {},
   "outputs": [
    {
     "data": {
      "text/plain": [
       "168599    178.0\n",
       "144040    128.0\n",
       "143812    116.0\n",
       "110853    110.0\n",
       "106558    105.0\n",
       "          ...  \n",
       "37678       1.0\n",
       "99741       1.0\n",
       "37677       1.0\n",
       "99747       1.0\n",
       "92729       1.0\n",
       "Name: QT_EQUIP_MULTIMIDIA, Length: 106912, dtype: float64"
      ]
     },
     "execution_count": 546,
     "metadata": {},
     "output_type": "execute_result"
    }
   ],
   "source": [
    "df[(df['QT_EQUIP_MULTIMIDIA'] > 0) & (df['QT_EQUIP_MULTIMIDIA'] < 88888)]['QT_EQUIP_MULTIMIDIA'].sort_values(ascending = False)"
   ]
  },
  {
   "cell_type": "code",
   "execution_count": 547,
   "metadata": {},
   "outputs": [
    {
     "data": {
      "text/html": [
       "<div>\n",
       "<style scoped>\n",
       "    .dataframe tbody tr th:only-of-type {\n",
       "        vertical-align: middle;\n",
       "    }\n",
       "\n",
       "    .dataframe tbody tr th {\n",
       "        vertical-align: top;\n",
       "    }\n",
       "\n",
       "    .dataframe thead th {\n",
       "        text-align: right;\n",
       "    }\n",
       "</style>\n",
       "<table border=\"1\" class=\"dataframe\">\n",
       "  <thead>\n",
       "    <tr style=\"text-align: right;\">\n",
       "      <th></th>\n",
       "      <th>NO_ENTIDADE</th>\n",
       "      <th>QT_EQUIP_MULTIMIDIA</th>\n",
       "      <th>QT_SALAS_UTILIZADAS</th>\n",
       "    </tr>\n",
       "  </thead>\n",
       "  <tbody>\n",
       "  </tbody>\n",
       "</table>\n",
       "</div>"
      ],
      "text/plain": [
       "Empty DataFrame\n",
       "Columns: [NO_ENTIDADE, QT_EQUIP_MULTIMIDIA, QT_SALAS_UTILIZADAS]\n",
       "Index: []"
      ]
     },
     "execution_count": 547,
     "metadata": {},
     "output_type": "execute_result"
    }
   ],
   "source": [
    "df[\n",
    "    (df['QT_EQUIP_MULTIMIDIA'] > 3) & \n",
    "    (df['QT_EQUIP_MULTIMIDIA'] > df['QT_SALAS_UTILIZADAS'] / 3 * 4) & \n",
    "    (df['QT_EQUIP_MULTIMIDIA'] < 88888)\n",
    "][['NO_ENTIDADE', 'QT_EQUIP_MULTIMIDIA', 'QT_SALAS_UTILIZADAS']]"
   ]
  },
  {
   "cell_type": "markdown",
   "metadata": {},
   "source": [
    "#### QT_DESKTOP_ALUNO -> 24 Valores estranhos"
   ]
  },
  {
   "cell_type": "markdown",
   "metadata": {},
   "source": [
    "88888 - registro com marcação de valor extremo (valor superior ao limite máximo de 4 equipamentos para cada 3 matrículas - foram marcados apenas valores>3)"
   ]
  },
  {
   "cell_type": "code",
   "execution_count": 548,
   "metadata": {},
   "outputs": [
    {
     "name": "stdout",
     "output_type": "stream",
     "text": [
      "\n",
      "Quantidade de valores ausentes\n"
     ]
    },
    {
     "data": {
      "text/plain": [
       "QT_DESKTOP_ALUNO\n",
       "False    175331\n",
       "Name: count, dtype: int64"
      ]
     },
     "metadata": {},
     "output_type": "display_data"
    }
   ],
   "source": [
    "basic_exploration(df, 'QT_DESKTOP_ALUNO', 'numeric')"
   ]
  },
  {
   "cell_type": "code",
   "execution_count": 549,
   "metadata": {},
   "outputs": [
    {
     "data": {
      "text/plain": [
       "(93929, 177)"
      ]
     },
     "execution_count": 549,
     "metadata": {},
     "output_type": "execute_result"
    }
   ],
   "source": [
    "df[df['QT_DESKTOP_ALUNO'] == 0].shape"
   ]
  },
  {
   "cell_type": "code",
   "execution_count": 550,
   "metadata": {},
   "outputs": [
    {
     "data": {
      "text/plain": [
       "(155, 177)"
      ]
     },
     "execution_count": 550,
     "metadata": {},
     "output_type": "execute_result"
    }
   ],
   "source": [
    "df[df['QT_DESKTOP_ALUNO'] == 88888].shape"
   ]
  },
  {
   "cell_type": "code",
   "execution_count": 551,
   "metadata": {},
   "outputs": [
    {
     "data": {
      "text/plain": [
       "(81247, 177)"
      ]
     },
     "execution_count": 551,
     "metadata": {},
     "output_type": "execute_result"
    }
   ],
   "source": [
    "df[(df['QT_DESKTOP_ALUNO'] > 0) & (df['QT_DESKTOP_ALUNO'] < 88888)].shape"
   ]
  },
  {
   "cell_type": "code",
   "execution_count": 552,
   "metadata": {},
   "outputs": [
    {
     "data": {
      "text/plain": [
       "50961     1485.0\n",
       "149141    1400.0\n",
       "121299    1246.0\n",
       "62071     1155.0\n",
       "174688     900.0\n",
       "           ...  \n",
       "41006        1.0\n",
       "41007        1.0\n",
       "76663        1.0\n",
       "152102       1.0\n",
       "98504        1.0\n",
       "Name: QT_DESKTOP_ALUNO, Length: 81247, dtype: float64"
      ]
     },
     "execution_count": 552,
     "metadata": {},
     "output_type": "execute_result"
    }
   ],
   "source": [
    "df[(df['QT_DESKTOP_ALUNO'] > 0) & (df['QT_DESKTOP_ALUNO'] < 88888)]['QT_DESKTOP_ALUNO'].sort_values(ascending = False)"
   ]
  },
  {
   "cell_type": "code",
   "execution_count": 553,
   "metadata": {},
   "outputs": [
    {
     "data": {
      "text/html": [
       "<div>\n",
       "<style scoped>\n",
       "    .dataframe tbody tr th:only-of-type {\n",
       "        vertical-align: middle;\n",
       "    }\n",
       "\n",
       "    .dataframe tbody tr th {\n",
       "        vertical-align: top;\n",
       "    }\n",
       "\n",
       "    .dataframe thead th {\n",
       "        text-align: right;\n",
       "    }\n",
       "</style>\n",
       "<table border=\"1\" class=\"dataframe\">\n",
       "  <thead>\n",
       "    <tr style=\"text-align: right;\">\n",
       "      <th></th>\n",
       "      <th>NO_ENTIDADE</th>\n",
       "      <th>QT_DESKTOP_ALUNO</th>\n",
       "      <th>QT_DESKTOP_TESTE</th>\n",
       "      <th>QT_MAT_BAS</th>\n",
       "    </tr>\n",
       "  </thead>\n",
       "  <tbody>\n",
       "    <tr>\n",
       "      <th>123129</th>\n",
       "      <td>ESCOLA SENAI OSCAR LUCIO BALDAN</td>\n",
       "      <td>163.0</td>\n",
       "      <td>20.38</td>\n",
       "      <td>24.0</td>\n",
       "    </tr>\n",
       "    <tr>\n",
       "      <th>168453</th>\n",
       "      <td>SENAI CUIABA</td>\n",
       "      <td>600.0</td>\n",
       "      <td>15.38</td>\n",
       "      <td>117.0</td>\n",
       "    </tr>\n",
       "    <tr>\n",
       "      <th>65337</th>\n",
       "      <td>SENAI - CENTRO DE EDUC E TEC INTEG DA CONST CI...</td>\n",
       "      <td>90.0</td>\n",
       "      <td>11.74</td>\n",
       "      <td>23.0</td>\n",
       "    </tr>\n",
       "    <tr>\n",
       "      <th>123115</th>\n",
       "      <td>ANTONIO DEVISATE ESCOLA SENAI</td>\n",
       "      <td>194.0</td>\n",
       "      <td>10.58</td>\n",
       "      <td>55.0</td>\n",
       "    </tr>\n",
       "    <tr>\n",
       "      <th>20286</th>\n",
       "      <td>CENTRO CULTURAL FRANCO AMAPAENSE</td>\n",
       "      <td>10.0</td>\n",
       "      <td>10.00</td>\n",
       "      <td>3.0</td>\n",
       "    </tr>\n",
       "    <tr>\n",
       "      <th>123124</th>\n",
       "      <td>LUIS EULALIO DE BUENO VIDIGAL FILHO ESCOLA SENAI</td>\n",
       "      <td>222.0</td>\n",
       "      <td>7.57</td>\n",
       "      <td>88.0</td>\n",
       "    </tr>\n",
       "    <tr>\n",
       "      <th>169503</th>\n",
       "      <td>ASSOCIACAO DE PAIS E AMIGOS DOS EXCEPCIONAIS -...</td>\n",
       "      <td>5.0</td>\n",
       "      <td>7.50</td>\n",
       "      <td>2.0</td>\n",
       "    </tr>\n",
       "    <tr>\n",
       "      <th>123110</th>\n",
       "      <td>ESCOLA SENAI JAIRO CANDIDO</td>\n",
       "      <td>300.0</td>\n",
       "      <td>7.50</td>\n",
       "      <td>120.0</td>\n",
       "    </tr>\n",
       "    <tr>\n",
       "      <th>115281</th>\n",
       "      <td>ESCOLA SENAI DE REGISTRO</td>\n",
       "      <td>68.0</td>\n",
       "      <td>5.83</td>\n",
       "      <td>35.0</td>\n",
       "    </tr>\n",
       "    <tr>\n",
       "      <th>111839</th>\n",
       "      <td>ESCOLA SENAI EUCLIDES FACCHIN</td>\n",
       "      <td>164.0</td>\n",
       "      <td>5.23</td>\n",
       "      <td>94.0</td>\n",
       "    </tr>\n",
       "    <tr>\n",
       "      <th>140868</th>\n",
       "      <td>CHICO XAVIER E EF</td>\n",
       "      <td>19.0</td>\n",
       "      <td>5.18</td>\n",
       "      <td>11.0</td>\n",
       "    </tr>\n",
       "    <tr>\n",
       "      <th>123131</th>\n",
       "      <td>ESCOLA SENAI DE CRUZEIRO</td>\n",
       "      <td>148.0</td>\n",
       "      <td>4.93</td>\n",
       "      <td>90.0</td>\n",
       "    </tr>\n",
       "    <tr>\n",
       "      <th>123122</th>\n",
       "      <td>NAMI JAFET ESCOLA SENAI</td>\n",
       "      <td>250.0</td>\n",
       "      <td>4.93</td>\n",
       "      <td>152.0</td>\n",
       "    </tr>\n",
       "    <tr>\n",
       "      <th>131521</th>\n",
       "      <td>RACHEL RAMAZINI MARIOTONI CENTRO MUN DE APOIO ...</td>\n",
       "      <td>13.0</td>\n",
       "      <td>4.88</td>\n",
       "      <td>8.0</td>\n",
       "    </tr>\n",
       "    <tr>\n",
       "      <th>123114</th>\n",
       "      <td>JOAO MARTINS COUBE ESCOLA SENAI</td>\n",
       "      <td>174.0</td>\n",
       "      <td>4.70</td>\n",
       "      <td>111.0</td>\n",
       "    </tr>\n",
       "    <tr>\n",
       "      <th>135935</th>\n",
       "      <td>ADIBE SAYAR DAHER ESCOLA MUNICIPAL DE EDUCACAO...</td>\n",
       "      <td>6.0</td>\n",
       "      <td>4.50</td>\n",
       "      <td>4.0</td>\n",
       "    </tr>\n",
       "    <tr>\n",
       "      <th>123121</th>\n",
       "      <td>VICENTE AMATO PROFESSOR ESCOLA SENAI</td>\n",
       "      <td>278.0</td>\n",
       "      <td>4.21</td>\n",
       "      <td>198.0</td>\n",
       "    </tr>\n",
       "  </tbody>\n",
       "</table>\n",
       "</div>"
      ],
      "text/plain": [
       "                                              NO_ENTIDADE  QT_DESKTOP_ALUNO  \\\n",
       "123129                    ESCOLA SENAI OSCAR LUCIO BALDAN             163.0   \n",
       "168453                                       SENAI CUIABA             600.0   \n",
       "65337   SENAI - CENTRO DE EDUC E TEC INTEG DA CONST CI...              90.0   \n",
       "123115                      ANTONIO DEVISATE ESCOLA SENAI             194.0   \n",
       "20286                    CENTRO CULTURAL FRANCO AMAPAENSE              10.0   \n",
       "123124   LUIS EULALIO DE BUENO VIDIGAL FILHO ESCOLA SENAI             222.0   \n",
       "169503  ASSOCIACAO DE PAIS E AMIGOS DOS EXCEPCIONAIS -...               5.0   \n",
       "123110                         ESCOLA SENAI JAIRO CANDIDO             300.0   \n",
       "115281                           ESCOLA SENAI DE REGISTRO              68.0   \n",
       "111839                      ESCOLA SENAI EUCLIDES FACCHIN             164.0   \n",
       "140868                                  CHICO XAVIER E EF              19.0   \n",
       "123131                           ESCOLA SENAI DE CRUZEIRO             148.0   \n",
       "123122                            NAMI JAFET ESCOLA SENAI             250.0   \n",
       "131521  RACHEL RAMAZINI MARIOTONI CENTRO MUN DE APOIO ...              13.0   \n",
       "123114                    JOAO MARTINS COUBE ESCOLA SENAI             174.0   \n",
       "135935  ADIBE SAYAR DAHER ESCOLA MUNICIPAL DE EDUCACAO...               6.0   \n",
       "123121               VICENTE AMATO PROFESSOR ESCOLA SENAI             278.0   \n",
       "\n",
       "        QT_DESKTOP_TESTE  QT_MAT_BAS  \n",
       "123129             20.38        24.0  \n",
       "168453             15.38       117.0  \n",
       "65337              11.74        23.0  \n",
       "123115             10.58        55.0  \n",
       "20286              10.00         3.0  \n",
       "123124              7.57        88.0  \n",
       "169503              7.50         2.0  \n",
       "123110              7.50       120.0  \n",
       "115281              5.83        35.0  \n",
       "111839              5.23        94.0  \n",
       "140868              5.18        11.0  \n",
       "123131              4.93        90.0  \n",
       "123122              4.93       152.0  \n",
       "131521              4.88         8.0  \n",
       "123114              4.70       111.0  \n",
       "135935              4.50         4.0  \n",
       "123121              4.21       198.0  "
      ]
     },
     "execution_count": 553,
     "metadata": {},
     "output_type": "execute_result"
    }
   ],
   "source": [
    "df['QT_DESKTOP_TESTE'] = round(df['QT_DESKTOP_ALUNO'] / (df['QT_MAT_BAS'] / 3), 2)\n",
    "df[\n",
    "    (df['QT_DESKTOP_ALUNO'] > 3) & \n",
    "    (df['QT_DESKTOP_ALUNO'] > df['QT_MAT_BAS'] / 3 * 4) & \n",
    "    (df['QT_DESKTOP_ALUNO'] < 88888)\n",
    "][['NO_ENTIDADE', 'QT_DESKTOP_ALUNO', 'QT_DESKTOP_TESTE', 'QT_MAT_BAS']].sort_values('QT_DESKTOP_TESTE', ascending = False)"
   ]
  },
  {
   "cell_type": "code",
   "execution_count": 554,
   "metadata": {},
   "outputs": [],
   "source": [
    "# Substitui pelo código 88888\n",
    "df.loc[\n",
    "    (df['QT_DESKTOP_ALUNO'] > 3) & \n",
    "    (df['QT_DESKTOP_ALUNO'] > df['QT_MAT_BAS'] / 3 * 4) & \n",
    "    (df['QT_DESKTOP_ALUNO'] < 88888)\n",
    ", 'QT_DESKTOP_ALUNO'] = 88888"
   ]
  },
  {
   "cell_type": "code",
   "execution_count": 555,
   "metadata": {},
   "outputs": [
    {
     "data": {
      "text/html": [
       "<div>\n",
       "<style scoped>\n",
       "    .dataframe tbody tr th:only-of-type {\n",
       "        vertical-align: middle;\n",
       "    }\n",
       "\n",
       "    .dataframe tbody tr th {\n",
       "        vertical-align: top;\n",
       "    }\n",
       "\n",
       "    .dataframe thead th {\n",
       "        text-align: right;\n",
       "    }\n",
       "</style>\n",
       "<table border=\"1\" class=\"dataframe\">\n",
       "  <thead>\n",
       "    <tr style=\"text-align: right;\">\n",
       "      <th></th>\n",
       "      <th>NO_ENTIDADE</th>\n",
       "      <th>QT_DESKTOP_ALUNO</th>\n",
       "      <th>QT_DESKTOP_TESTE</th>\n",
       "      <th>QT_MAT_BAS</th>\n",
       "    </tr>\n",
       "  </thead>\n",
       "  <tbody>\n",
       "  </tbody>\n",
       "</table>\n",
       "</div>"
      ],
      "text/plain": [
       "Empty DataFrame\n",
       "Columns: [NO_ENTIDADE, QT_DESKTOP_ALUNO, QT_DESKTOP_TESTE, QT_MAT_BAS]\n",
       "Index: []"
      ]
     },
     "execution_count": 555,
     "metadata": {},
     "output_type": "execute_result"
    }
   ],
   "source": [
    "df['QT_DESKTOP_TESTE'] = round(df['QT_DESKTOP_ALUNO'] / (df['QT_MAT_BAS'] / 3), 2)\n",
    "df[\n",
    "    (df['QT_DESKTOP_ALUNO'] > 3) & \n",
    "    (df['QT_DESKTOP_ALUNO'] > df['QT_MAT_BAS'] / 3 * 4) & \n",
    "    (df['QT_DESKTOP_ALUNO'] < 88888)\n",
    "][['NO_ENTIDADE', 'QT_DESKTOP_ALUNO', 'QT_DESKTOP_TESTE', 'QT_MAT_BAS']].sort_values('QT_DESKTOP_TESTE', ascending = False)"
   ]
  },
  {
   "cell_type": "code",
   "execution_count": 556,
   "metadata": {},
   "outputs": [
    {
     "data": {
      "text/plain": [
       "'QT_DESKTOP_TESTE'"
      ]
     },
     "execution_count": 556,
     "metadata": {},
     "output_type": "execute_result"
    }
   ],
   "source": [
    "cols_remover += ['QT_DESKTOP_TESTE']\n",
    "cols_remover[-1]"
   ]
  },
  {
   "cell_type": "markdown",
   "metadata": {},
   "source": [
    "#### QT_COMP_PORTATIL_ALUNO -> 11 Valores estranhos"
   ]
  },
  {
   "cell_type": "markdown",
   "metadata": {},
   "source": [
    "88888 - registro com marcação de valor extremo (valor superior ao limite máximo de 4 equipamentos para cada 3 matrículas - foram marcados apenas valores>3)"
   ]
  },
  {
   "cell_type": "code",
   "execution_count": 557,
   "metadata": {},
   "outputs": [
    {
     "name": "stdout",
     "output_type": "stream",
     "text": [
      "\n",
      "Quantidade de valores ausentes\n"
     ]
    },
    {
     "data": {
      "text/plain": [
       "QT_COMP_PORTATIL_ALUNO\n",
       "False    175331\n",
       "Name: count, dtype: int64"
      ]
     },
     "metadata": {},
     "output_type": "display_data"
    }
   ],
   "source": [
    "basic_exploration(df, 'QT_COMP_PORTATIL_ALUNO', 'numeric')"
   ]
  },
  {
   "cell_type": "code",
   "execution_count": 558,
   "metadata": {},
   "outputs": [
    {
     "data": {
      "text/plain": [
       "(105890, 178)"
      ]
     },
     "execution_count": 558,
     "metadata": {},
     "output_type": "execute_result"
    }
   ],
   "source": [
    "df[df['QT_COMP_PORTATIL_ALUNO'] == 0].shape"
   ]
  },
  {
   "cell_type": "code",
   "execution_count": 559,
   "metadata": {},
   "outputs": [
    {
     "data": {
      "text/plain": [
       "(59, 178)"
      ]
     },
     "execution_count": 559,
     "metadata": {},
     "output_type": "execute_result"
    }
   ],
   "source": [
    "df[df['QT_COMP_PORTATIL_ALUNO'] == 88888].shape"
   ]
  },
  {
   "cell_type": "code",
   "execution_count": 560,
   "metadata": {},
   "outputs": [
    {
     "data": {
      "text/plain": [
       "(69382, 178)"
      ]
     },
     "execution_count": 560,
     "metadata": {},
     "output_type": "execute_result"
    }
   ],
   "source": [
    "df[(df['QT_COMP_PORTATIL_ALUNO'] > 0) & (df['QT_COMP_PORTATIL_ALUNO'] < 88888)].shape"
   ]
  },
  {
   "cell_type": "code",
   "execution_count": 561,
   "metadata": {},
   "outputs": [
    {
     "data": {
      "text/plain": [
       "121116    1500.0\n",
       "122767    1399.0\n",
       "112773    1200.0\n",
       "133772    1000.0\n",
       "95859      938.0\n",
       "           ...  \n",
       "84675        1.0\n",
       "84674        1.0\n",
       "84658        1.0\n",
       "84655        1.0\n",
       "175329       1.0\n",
       "Name: QT_COMP_PORTATIL_ALUNO, Length: 69382, dtype: float64"
      ]
     },
     "execution_count": 561,
     "metadata": {},
     "output_type": "execute_result"
    }
   ],
   "source": [
    "df[(df['QT_COMP_PORTATIL_ALUNO'] > 0) & (df['QT_COMP_PORTATIL_ALUNO'] < 88888)]['QT_COMP_PORTATIL_ALUNO'].sort_values(ascending = False)"
   ]
  },
  {
   "cell_type": "code",
   "execution_count": 562,
   "metadata": {},
   "outputs": [
    {
     "data": {
      "text/html": [
       "<div>\n",
       "<style scoped>\n",
       "    .dataframe tbody tr th:only-of-type {\n",
       "        vertical-align: middle;\n",
       "    }\n",
       "\n",
       "    .dataframe tbody tr th {\n",
       "        vertical-align: top;\n",
       "    }\n",
       "\n",
       "    .dataframe thead th {\n",
       "        text-align: right;\n",
       "    }\n",
       "</style>\n",
       "<table border=\"1\" class=\"dataframe\">\n",
       "  <thead>\n",
       "    <tr style=\"text-align: right;\">\n",
       "      <th></th>\n",
       "      <th>NO_ENTIDADE</th>\n",
       "      <th>QT_COMP_PORTATIL_ALUNO</th>\n",
       "      <th>QT_COMP_PORTATIL_TESTE</th>\n",
       "      <th>QT_MAT_BAS</th>\n",
       "    </tr>\n",
       "  </thead>\n",
       "  <tbody>\n",
       "    <tr>\n",
       "      <th>123115</th>\n",
       "      <td>ANTONIO DEVISATE ESCOLA SENAI</td>\n",
       "      <td>130.0</td>\n",
       "      <td>7.09</td>\n",
       "      <td>55.0</td>\n",
       "    </tr>\n",
       "    <tr>\n",
       "      <th>115281</th>\n",
       "      <td>ESCOLA SENAI DE REGISTRO</td>\n",
       "      <td>63.0</td>\n",
       "      <td>5.40</td>\n",
       "      <td>35.0</td>\n",
       "    </tr>\n",
       "    <tr>\n",
       "      <th>141262</th>\n",
       "      <td>MARIA APARECIDA P BATISTA E E C EF</td>\n",
       "      <td>23.0</td>\n",
       "      <td>5.31</td>\n",
       "      <td>13.0</td>\n",
       "    </tr>\n",
       "    <tr>\n",
       "      <th>37332</th>\n",
       "      <td>CENTRO EDUCACIONAL SESC LER PIRIPIRI</td>\n",
       "      <td>34.0</td>\n",
       "      <td>4.43</td>\n",
       "      <td>23.0</td>\n",
       "    </tr>\n",
       "    <tr>\n",
       "      <th>141147</th>\n",
       "      <td>ALBINO O DE PROENCA E E DO C EF</td>\n",
       "      <td>20.0</td>\n",
       "      <td>4.29</td>\n",
       "      <td>14.0</td>\n",
       "    </tr>\n",
       "    <tr>\n",
       "      <th>161495</th>\n",
       "      <td>ESC EST ENS FUN BAIRRO CARVALHO</td>\n",
       "      <td>165.0</td>\n",
       "      <td>4.27</td>\n",
       "      <td>116.0</td>\n",
       "    </tr>\n",
       "    <tr>\n",
       "      <th>163792</th>\n",
       "      <td>ESC MUN DE ENS FUND ESPECIAL ROBERTO LEOPOLDO ...</td>\n",
       "      <td>7.0</td>\n",
       "      <td>4.20</td>\n",
       "      <td>5.0</td>\n",
       "    </tr>\n",
       "    <tr>\n",
       "      <th>158258</th>\n",
       "      <td>ESC MUN ENS FUN OLAVO BILAC</td>\n",
       "      <td>36.0</td>\n",
       "      <td>4.15</td>\n",
       "      <td>26.0</td>\n",
       "    </tr>\n",
       "    <tr>\n",
       "      <th>119943</th>\n",
       "      <td>EMEFEI PADRE AVELINO CANAZZA</td>\n",
       "      <td>179.0</td>\n",
       "      <td>4.10</td>\n",
       "      <td>131.0</td>\n",
       "    </tr>\n",
       "  </tbody>\n",
       "</table>\n",
       "</div>"
      ],
      "text/plain": [
       "                                              NO_ENTIDADE  \\\n",
       "123115                      ANTONIO DEVISATE ESCOLA SENAI   \n",
       "115281                           ESCOLA SENAI DE REGISTRO   \n",
       "141262                 MARIA APARECIDA P BATISTA E E C EF   \n",
       "37332                CENTRO EDUCACIONAL SESC LER PIRIPIRI   \n",
       "141147                    ALBINO O DE PROENCA E E DO C EF   \n",
       "161495                    ESC EST ENS FUN BAIRRO CARVALHO   \n",
       "163792  ESC MUN DE ENS FUND ESPECIAL ROBERTO LEOPOLDO ...   \n",
       "158258                        ESC MUN ENS FUN OLAVO BILAC   \n",
       "119943                       EMEFEI PADRE AVELINO CANAZZA   \n",
       "\n",
       "        QT_COMP_PORTATIL_ALUNO  QT_COMP_PORTATIL_TESTE  QT_MAT_BAS  \n",
       "123115                   130.0                    7.09        55.0  \n",
       "115281                    63.0                    5.40        35.0  \n",
       "141262                    23.0                    5.31        13.0  \n",
       "37332                     34.0                    4.43        23.0  \n",
       "141147                    20.0                    4.29        14.0  \n",
       "161495                   165.0                    4.27       116.0  \n",
       "163792                     7.0                    4.20         5.0  \n",
       "158258                    36.0                    4.15        26.0  \n",
       "119943                   179.0                    4.10       131.0  "
      ]
     },
     "execution_count": 562,
     "metadata": {},
     "output_type": "execute_result"
    }
   ],
   "source": [
    "df['QT_COMP_PORTATIL_TESTE'] = round(df['QT_COMP_PORTATIL_ALUNO'] / (df['QT_MAT_BAS'] / 3), 2)\n",
    "df[\n",
    "    (df['QT_COMP_PORTATIL_ALUNO'] > 3) & \n",
    "    (df['QT_COMP_PORTATIL_ALUNO'] > df['QT_MAT_BAS'] / 3 * 4) & \n",
    "    (df['QT_COMP_PORTATIL_ALUNO'] < 88888)\n",
    "][['NO_ENTIDADE', 'QT_COMP_PORTATIL_ALUNO', 'QT_COMP_PORTATIL_TESTE', 'QT_MAT_BAS']].sort_values('QT_COMP_PORTATIL_TESTE', ascending = False)"
   ]
  },
  {
   "cell_type": "code",
   "execution_count": 563,
   "metadata": {},
   "outputs": [],
   "source": [
    "# Substitui pelo código 88888\n",
    "df.loc[\n",
    "    (df['QT_COMP_PORTATIL_ALUNO'] > 3) & \n",
    "    (df['QT_COMP_PORTATIL_ALUNO'] > df['QT_MAT_BAS'] / 3 * 4) & \n",
    "    (df['QT_COMP_PORTATIL_ALUNO'] < 88888)\n",
    ", 'QT_COMP_PORTATIL_ALUNO'] = 88888"
   ]
  },
  {
   "cell_type": "code",
   "execution_count": 564,
   "metadata": {},
   "outputs": [
    {
     "data": {
      "text/html": [
       "<div>\n",
       "<style scoped>\n",
       "    .dataframe tbody tr th:only-of-type {\n",
       "        vertical-align: middle;\n",
       "    }\n",
       "\n",
       "    .dataframe tbody tr th {\n",
       "        vertical-align: top;\n",
       "    }\n",
       "\n",
       "    .dataframe thead th {\n",
       "        text-align: right;\n",
       "    }\n",
       "</style>\n",
       "<table border=\"1\" class=\"dataframe\">\n",
       "  <thead>\n",
       "    <tr style=\"text-align: right;\">\n",
       "      <th></th>\n",
       "      <th>NO_ENTIDADE</th>\n",
       "      <th>QT_COMP_PORTATIL_ALUNO</th>\n",
       "      <th>QT_COMP_PORTATIL_TESTE</th>\n",
       "      <th>QT_MAT_BAS</th>\n",
       "    </tr>\n",
       "  </thead>\n",
       "  <tbody>\n",
       "  </tbody>\n",
       "</table>\n",
       "</div>"
      ],
      "text/plain": [
       "Empty DataFrame\n",
       "Columns: [NO_ENTIDADE, QT_COMP_PORTATIL_ALUNO, QT_COMP_PORTATIL_TESTE, QT_MAT_BAS]\n",
       "Index: []"
      ]
     },
     "execution_count": 564,
     "metadata": {},
     "output_type": "execute_result"
    }
   ],
   "source": [
    "df['QT_COMP_PORTATIL_TESTE'] = round(df['QT_COMP_PORTATIL_ALUNO'] / (df['QT_MAT_BAS'] / 3), 2)\n",
    "df[\n",
    "    (df['QT_COMP_PORTATIL_ALUNO'] > 3) & \n",
    "    (df['QT_COMP_PORTATIL_ALUNO'] > df['QT_MAT_BAS'] / 3 * 4) & \n",
    "    (df['QT_COMP_PORTATIL_ALUNO'] < 88888)\n",
    "][['NO_ENTIDADE', 'QT_COMP_PORTATIL_ALUNO', 'QT_COMP_PORTATIL_TESTE', 'QT_MAT_BAS']].sort_values('QT_COMP_PORTATIL_TESTE', ascending = False)"
   ]
  },
  {
   "cell_type": "code",
   "execution_count": 565,
   "metadata": {},
   "outputs": [
    {
     "data": {
      "text/plain": [
       "'QT_COMP_PORTATIL_TESTE'"
      ]
     },
     "execution_count": 565,
     "metadata": {},
     "output_type": "execute_result"
    }
   ],
   "source": [
    "cols_remover += ['QT_COMP_PORTATIL_TESTE']\n",
    "cols_remover[-1]"
   ]
  },
  {
   "cell_type": "markdown",
   "metadata": {},
   "source": [
    "#### QT_TABLET_ALUNO -> 9 Valores estranhos"
   ]
  },
  {
   "cell_type": "markdown",
   "metadata": {},
   "source": [
    "88888 - registro com marcação de valor extremo (valor superior ao limite máximo de 4 equipamentos para cada 3 matrículas - foram marcados apenas valores>3)"
   ]
  },
  {
   "cell_type": "code",
   "execution_count": 566,
   "metadata": {},
   "outputs": [
    {
     "name": "stdout",
     "output_type": "stream",
     "text": [
      "\n",
      "Quantidade de valores ausentes\n"
     ]
    },
    {
     "data": {
      "text/plain": [
       "QT_TABLET_ALUNO\n",
       "False    175331\n",
       "Name: count, dtype: int64"
      ]
     },
     "metadata": {},
     "output_type": "display_data"
    }
   ],
   "source": [
    "basic_exploration(df, 'QT_TABLET_ALUNO', 'numeric')"
   ]
  },
  {
   "cell_type": "code",
   "execution_count": 567,
   "metadata": {},
   "outputs": [
    {
     "data": {
      "text/plain": [
       "(145951, 179)"
      ]
     },
     "execution_count": 567,
     "metadata": {},
     "output_type": "execute_result"
    }
   ],
   "source": [
    "df[df['QT_TABLET_ALUNO'] == 0].shape"
   ]
  },
  {
   "cell_type": "code",
   "execution_count": 568,
   "metadata": {},
   "outputs": [
    {
     "data": {
      "text/plain": [
       "(66, 179)"
      ]
     },
     "execution_count": 568,
     "metadata": {},
     "output_type": "execute_result"
    }
   ],
   "source": [
    "df[df['QT_TABLET_ALUNO'] == 88888].shape"
   ]
  },
  {
   "cell_type": "code",
   "execution_count": 569,
   "metadata": {},
   "outputs": [
    {
     "data": {
      "text/plain": [
       "(29314, 179)"
      ]
     },
     "execution_count": 569,
     "metadata": {},
     "output_type": "execute_result"
    }
   ],
   "source": [
    "df[(df['QT_TABLET_ALUNO'] > 0) & (df['QT_TABLET_ALUNO'] < 88888)].shape"
   ]
  },
  {
   "cell_type": "code",
   "execution_count": 570,
   "metadata": {},
   "outputs": [
    {
     "data": {
      "text/plain": [
       "109563    2038.0\n",
       "8194      1815.0\n",
       "52265     1367.0\n",
       "89166     1345.0\n",
       "57736     1300.0\n",
       "           ...  \n",
       "106141       1.0\n",
       "106144       1.0\n",
       "106148       1.0\n",
       "106153       1.0\n",
       "175329       1.0\n",
       "Name: QT_TABLET_ALUNO, Length: 29314, dtype: float64"
      ]
     },
     "execution_count": 570,
     "metadata": {},
     "output_type": "execute_result"
    }
   ],
   "source": [
    "df[(df['QT_TABLET_ALUNO'] > 0) & (df['QT_TABLET_ALUNO'] < 88888)]['QT_TABLET_ALUNO'].sort_values(ascending = False)"
   ]
  },
  {
   "cell_type": "code",
   "execution_count": 571,
   "metadata": {},
   "outputs": [
    {
     "data": {
      "text/html": [
       "<div>\n",
       "<style scoped>\n",
       "    .dataframe tbody tr th:only-of-type {\n",
       "        vertical-align: middle;\n",
       "    }\n",
       "\n",
       "    .dataframe tbody tr th {\n",
       "        vertical-align: top;\n",
       "    }\n",
       "\n",
       "    .dataframe thead th {\n",
       "        text-align: right;\n",
       "    }\n",
       "</style>\n",
       "<table border=\"1\" class=\"dataframe\">\n",
       "  <thead>\n",
       "    <tr style=\"text-align: right;\">\n",
       "      <th></th>\n",
       "      <th>NO_ENTIDADE</th>\n",
       "      <th>QT_TABLET_ALUNO</th>\n",
       "      <th>QT_TABLET_TESTE</th>\n",
       "      <th>QT_MAT_BAS</th>\n",
       "    </tr>\n",
       "  </thead>\n",
       "  <tbody>\n",
       "    <tr>\n",
       "      <th>110201</th>\n",
       "      <td>IFF- CAMPUS ITABORAI</td>\n",
       "      <td>10.0</td>\n",
       "      <td>10.00</td>\n",
       "      <td>3.0</td>\n",
       "    </tr>\n",
       "    <tr>\n",
       "      <th>63856</th>\n",
       "      <td>ESCOLA MUNICIPAL PROFESSOR PEDRO ALCANTARA DE ...</td>\n",
       "      <td>39.0</td>\n",
       "      <td>5.57</td>\n",
       "      <td>21.0</td>\n",
       "    </tr>\n",
       "    <tr>\n",
       "      <th>106887</th>\n",
       "      <td>E M DE EDUCACAO DE SURDOS</td>\n",
       "      <td>36.0</td>\n",
       "      <td>5.40</td>\n",
       "      <td>20.0</td>\n",
       "    </tr>\n",
       "    <tr>\n",
       "      <th>112449</th>\n",
       "      <td>MARIO MANCHINI NUCLEO DE EDUCACAO INFANTIL</td>\n",
       "      <td>35.0</td>\n",
       "      <td>5.25</td>\n",
       "      <td>20.0</td>\n",
       "    </tr>\n",
       "    <tr>\n",
       "      <th>88030</th>\n",
       "      <td>ESCOLA MUNICIPAL OSCAR BOTELHO</td>\n",
       "      <td>280.0</td>\n",
       "      <td>5.15</td>\n",
       "      <td>163.0</td>\n",
       "    </tr>\n",
       "    <tr>\n",
       "      <th>119671</th>\n",
       "      <td>JOVITA FRANCO AROUCHE PROFA EMESP</td>\n",
       "      <td>40.0</td>\n",
       "      <td>4.80</td>\n",
       "      <td>25.0</td>\n",
       "    </tr>\n",
       "    <tr>\n",
       "      <th>84794</th>\n",
       "      <td>E M FRANCISCO ATHAYDE</td>\n",
       "      <td>68.0</td>\n",
       "      <td>4.74</td>\n",
       "      <td>43.0</td>\n",
       "    </tr>\n",
       "    <tr>\n",
       "      <th>173195</th>\n",
       "      <td>ESCOLA MUNICIPAL JOSE CANDIDO BRAGA</td>\n",
       "      <td>56.0</td>\n",
       "      <td>4.20</td>\n",
       "      <td>40.0</td>\n",
       "    </tr>\n",
       "    <tr>\n",
       "      <th>82215</th>\n",
       "      <td>ESCOLA MUNICIPAL TEREZINHA DA SILVA COSENZA</td>\n",
       "      <td>382.0</td>\n",
       "      <td>4.05</td>\n",
       "      <td>283.0</td>\n",
       "    </tr>\n",
       "  </tbody>\n",
       "</table>\n",
       "</div>"
      ],
      "text/plain": [
       "                                              NO_ENTIDADE  QT_TABLET_ALUNO  \\\n",
       "110201                               IFF- CAMPUS ITABORAI             10.0   \n",
       "63856   ESCOLA MUNICIPAL PROFESSOR PEDRO ALCANTARA DE ...             39.0   \n",
       "106887                          E M DE EDUCACAO DE SURDOS             36.0   \n",
       "112449         MARIO MANCHINI NUCLEO DE EDUCACAO INFANTIL             35.0   \n",
       "88030                      ESCOLA MUNICIPAL OSCAR BOTELHO            280.0   \n",
       "119671                  JOVITA FRANCO AROUCHE PROFA EMESP             40.0   \n",
       "84794                               E M FRANCISCO ATHAYDE             68.0   \n",
       "173195                ESCOLA MUNICIPAL JOSE CANDIDO BRAGA             56.0   \n",
       "82215         ESCOLA MUNICIPAL TEREZINHA DA SILVA COSENZA            382.0   \n",
       "\n",
       "        QT_TABLET_TESTE  QT_MAT_BAS  \n",
       "110201            10.00         3.0  \n",
       "63856              5.57        21.0  \n",
       "106887             5.40        20.0  \n",
       "112449             5.25        20.0  \n",
       "88030              5.15       163.0  \n",
       "119671             4.80        25.0  \n",
       "84794              4.74        43.0  \n",
       "173195             4.20        40.0  \n",
       "82215              4.05       283.0  "
      ]
     },
     "execution_count": 571,
     "metadata": {},
     "output_type": "execute_result"
    }
   ],
   "source": [
    "df['QT_TABLET_TESTE'] = round(df['QT_TABLET_ALUNO'] / (df['QT_MAT_BAS'] / 3), 2)\n",
    "df[\n",
    "    (df['QT_TABLET_ALUNO'] > 3) & \n",
    "    (df['QT_TABLET_ALUNO'] > df['QT_MAT_BAS'] / 3 * 4) & \n",
    "    (df['QT_TABLET_ALUNO'] < 88888)\n",
    "][['NO_ENTIDADE', 'QT_TABLET_ALUNO', 'QT_TABLET_TESTE', 'QT_MAT_BAS']].sort_values('QT_TABLET_TESTE', ascending = False)"
   ]
  },
  {
   "cell_type": "code",
   "execution_count": 572,
   "metadata": {},
   "outputs": [],
   "source": [
    "# Substitui pelo código 88888\n",
    "df.loc[\n",
    "    (df['QT_TABLET_ALUNO'] > 3) & \n",
    "    (df['QT_TABLET_ALUNO'] > df['QT_MAT_BAS'] / 3 * 4) & \n",
    "    (df['QT_TABLET_ALUNO'] < 88888)\n",
    ", 'QT_TABLET_ALUNO'] = 88888"
   ]
  },
  {
   "cell_type": "code",
   "execution_count": 573,
   "metadata": {},
   "outputs": [
    {
     "data": {
      "text/html": [
       "<div>\n",
       "<style scoped>\n",
       "    .dataframe tbody tr th:only-of-type {\n",
       "        vertical-align: middle;\n",
       "    }\n",
       "\n",
       "    .dataframe tbody tr th {\n",
       "        vertical-align: top;\n",
       "    }\n",
       "\n",
       "    .dataframe thead th {\n",
       "        text-align: right;\n",
       "    }\n",
       "</style>\n",
       "<table border=\"1\" class=\"dataframe\">\n",
       "  <thead>\n",
       "    <tr style=\"text-align: right;\">\n",
       "      <th></th>\n",
       "      <th>NO_ENTIDADE</th>\n",
       "      <th>QT_TABLET_ALUNO</th>\n",
       "      <th>QT_TABLET_TESTE</th>\n",
       "      <th>QT_MAT_BAS</th>\n",
       "    </tr>\n",
       "  </thead>\n",
       "  <tbody>\n",
       "  </tbody>\n",
       "</table>\n",
       "</div>"
      ],
      "text/plain": [
       "Empty DataFrame\n",
       "Columns: [NO_ENTIDADE, QT_TABLET_ALUNO, QT_TABLET_TESTE, QT_MAT_BAS]\n",
       "Index: []"
      ]
     },
     "execution_count": 573,
     "metadata": {},
     "output_type": "execute_result"
    }
   ],
   "source": [
    "df['QT_TABLET_TESTE'] = round(df['QT_TABLET_ALUNO'] / (df['QT_MAT_BAS'] / 3), 2)\n",
    "df[\n",
    "    (df['QT_TABLET_ALUNO'] > 3) & \n",
    "    (df['QT_TABLET_ALUNO'] > df['QT_MAT_BAS'] / 3 * 4) & \n",
    "    (df['QT_TABLET_ALUNO'] < 88888)\n",
    "][['NO_ENTIDADE', 'QT_TABLET_ALUNO', 'QT_TABLET_TESTE', 'QT_MAT_BAS']].sort_values('QT_TABLET_TESTE', ascending = False)"
   ]
  },
  {
   "cell_type": "code",
   "execution_count": 574,
   "metadata": {},
   "outputs": [
    {
     "data": {
      "text/plain": [
       "'QT_TABLET_TESTE'"
      ]
     },
     "execution_count": 574,
     "metadata": {},
     "output_type": "execute_result"
    }
   ],
   "source": [
    "cols_remover += ['QT_TABLET_TESTE']\n",
    "cols_remover[-1]"
   ]
  },
  {
   "cell_type": "markdown",
   "metadata": {},
   "source": [
    "### Internet"
   ]
  },
  {
   "cell_type": "markdown",
   "metadata": {},
   "source": [
    "#### IN_INTERNET"
   ]
  },
  {
   "cell_type": "markdown",
   "metadata": {},
   "source": [
    "- 1 - Sim\n",
    "- 0 - Não\n"
   ]
  },
  {
   "cell_type": "code",
   "execution_count": 575,
   "metadata": {},
   "outputs": [
    {
     "name": "stdout",
     "output_type": "stream",
     "text": [
      "\n",
      "Contagem de valores:\n"
     ]
    },
    {
     "data": {
      "text/plain": [
       "IN_INTERNET\n",
       "1.0    159061\n",
       "0.0     16270\n",
       "Name: count, dtype: int64"
      ]
     },
     "metadata": {},
     "output_type": "display_data"
    },
    {
     "name": "stdout",
     "output_type": "stream",
     "text": [
      "\n",
      "Quantidade de valores ausentes\n"
     ]
    },
    {
     "data": {
      "text/plain": [
       "IN_INTERNET\n",
       "False    175331\n",
       "Name: count, dtype: int64"
      ]
     },
     "metadata": {},
     "output_type": "display_data"
    }
   ],
   "source": [
    "basic_exploration(df, 'IN_INTERNET', 'binary')"
   ]
  },
  {
   "cell_type": "markdown",
   "metadata": {},
   "source": [
    "#### IN_INTERNET_ALUNOS"
   ]
  },
  {
   "cell_type": "markdown",
   "metadata": {},
   "source": [
    "- 1 - Sim\n",
    "- 0 - Não\n"
   ]
  },
  {
   "cell_type": "code",
   "execution_count": 576,
   "metadata": {},
   "outputs": [
    {
     "name": "stdout",
     "output_type": "stream",
     "text": [
      "\n",
      "Contagem de valores:\n"
     ]
    },
    {
     "data": {
      "text/plain": [
       "IN_INTERNET_ALUNOS\n",
       "0.0    105858\n",
       "1.0     69473\n",
       "Name: count, dtype: int64"
      ]
     },
     "metadata": {},
     "output_type": "display_data"
    },
    {
     "name": "stdout",
     "output_type": "stream",
     "text": [
      "\n",
      "Quantidade de valores ausentes\n"
     ]
    },
    {
     "data": {
      "text/plain": [
       "IN_INTERNET_ALUNOS\n",
       "False    175331\n",
       "Name: count, dtype: int64"
      ]
     },
     "metadata": {},
     "output_type": "display_data"
    }
   ],
   "source": [
    "basic_exploration(df, 'IN_INTERNET_ALUNOS', 'binary')"
   ]
  },
  {
   "cell_type": "markdown",
   "metadata": {},
   "source": [
    "#### IN_INTERNET_ADMINISTRATIVO"
   ]
  },
  {
   "cell_type": "markdown",
   "metadata": {},
   "source": [
    "- 1 - Sim\n",
    "- 0 - Não\n"
   ]
  },
  {
   "cell_type": "code",
   "execution_count": 577,
   "metadata": {},
   "outputs": [
    {
     "name": "stdout",
     "output_type": "stream",
     "text": [
      "\n",
      "Contagem de valores:\n"
     ]
    },
    {
     "data": {
      "text/plain": [
       "IN_INTERNET_ADMINISTRATIVO\n",
       "1.0    153633\n",
       "0.0     21698\n",
       "Name: count, dtype: int64"
      ]
     },
     "metadata": {},
     "output_type": "display_data"
    },
    {
     "name": "stdout",
     "output_type": "stream",
     "text": [
      "\n",
      "Quantidade de valores ausentes\n"
     ]
    },
    {
     "data": {
      "text/plain": [
       "IN_INTERNET_ADMINISTRATIVO\n",
       "False    175331\n",
       "Name: count, dtype: int64"
      ]
     },
     "metadata": {},
     "output_type": "display_data"
    }
   ],
   "source": [
    "basic_exploration(df, 'IN_INTERNET_ADMINISTRATIVO', 'binary')"
   ]
  },
  {
   "cell_type": "markdown",
   "metadata": {},
   "source": [
    "#### IN_INTERNET_APRENDIZAGEM"
   ]
  },
  {
   "cell_type": "markdown",
   "metadata": {},
   "source": [
    "- 1 - Sim\n",
    "- 0 - Não\n"
   ]
  },
  {
   "cell_type": "code",
   "execution_count": 578,
   "metadata": {},
   "outputs": [
    {
     "name": "stdout",
     "output_type": "stream",
     "text": [
      "\n",
      "Contagem de valores:\n"
     ]
    },
    {
     "data": {
      "text/plain": [
       "IN_INTERNET_APRENDIZAGEM\n",
       "1.0    110087\n",
       "0.0     65244\n",
       "Name: count, dtype: int64"
      ]
     },
     "metadata": {},
     "output_type": "display_data"
    },
    {
     "name": "stdout",
     "output_type": "stream",
     "text": [
      "\n",
      "Quantidade de valores ausentes\n"
     ]
    },
    {
     "data": {
      "text/plain": [
       "IN_INTERNET_APRENDIZAGEM\n",
       "False    175331\n",
       "Name: count, dtype: int64"
      ]
     },
     "metadata": {},
     "output_type": "display_data"
    }
   ],
   "source": [
    "basic_exploration(df, 'IN_INTERNET_APRENDIZAGEM', 'binary')"
   ]
  },
  {
   "cell_type": "markdown",
   "metadata": {},
   "source": [
    "#### IN_INTERNET_COMUNIDADE"
   ]
  },
  {
   "cell_type": "markdown",
   "metadata": {},
   "source": [
    "- 1 - Sim\n",
    "- 0 - Não\n"
   ]
  },
  {
   "cell_type": "code",
   "execution_count": 579,
   "metadata": {},
   "outputs": [
    {
     "name": "stdout",
     "output_type": "stream",
     "text": [
      "\n",
      "Contagem de valores:\n"
     ]
    },
    {
     "data": {
      "text/plain": [
       "IN_INTERNET_COMUNIDADE\n",
       "0.0    166012\n",
       "1.0      9319\n",
       "Name: count, dtype: int64"
      ]
     },
     "metadata": {},
     "output_type": "display_data"
    },
    {
     "name": "stdout",
     "output_type": "stream",
     "text": [
      "\n",
      "Quantidade de valores ausentes\n"
     ]
    },
    {
     "data": {
      "text/plain": [
       "IN_INTERNET_COMUNIDADE\n",
       "False    175331\n",
       "Name: count, dtype: int64"
      ]
     },
     "metadata": {},
     "output_type": "display_data"
    }
   ],
   "source": [
    "basic_exploration(df, 'IN_INTERNET_COMUNIDADE', 'binary')"
   ]
  },
  {
   "cell_type": "markdown",
   "metadata": {},
   "source": [
    "#### IN_ACESSO_INTERNET_COMPUTADOR"
   ]
  },
  {
   "cell_type": "markdown",
   "metadata": {},
   "source": [
    "- 0 - Não\n",
    "- 1 - Sim\n",
    "- 9 - Não informado"
   ]
  },
  {
   "cell_type": "code",
   "execution_count": 580,
   "metadata": {},
   "outputs": [
    {
     "name": "stdout",
     "output_type": "stream",
     "text": [
      "\n",
      "Contagem de valores:\n"
     ]
    },
    {
     "data": {
      "text/plain": [
       "IN_ACESSO_INTERNET_COMPUTADOR\n",
       "0.0    116949\n",
       "1.0     52378\n",
       "9.0      6004\n",
       "Name: count, dtype: int64"
      ]
     },
     "metadata": {},
     "output_type": "display_data"
    },
    {
     "name": "stdout",
     "output_type": "stream",
     "text": [
      "\n",
      "Quantidade de valores ausentes\n"
     ]
    },
    {
     "data": {
      "text/plain": [
       "IN_ACESSO_INTERNET_COMPUTADOR\n",
       "False    175331\n",
       "Name: count, dtype: int64"
      ]
     },
     "metadata": {},
     "output_type": "display_data"
    }
   ],
   "source": [
    "basic_exploration(df, 'IN_ACESSO_INTERNET_COMPUTADOR', 'binary')"
   ]
  },
  {
   "cell_type": "markdown",
   "metadata": {},
   "source": [
    "#### IN_ACES_INTERNET_DISP_PESSOAIS"
   ]
  },
  {
   "cell_type": "markdown",
   "metadata": {},
   "source": [
    "- 0 - Não\n",
    "- 1 - Sim\n",
    "- 9 - Não informado"
   ]
  },
  {
   "cell_type": "code",
   "execution_count": 581,
   "metadata": {},
   "outputs": [
    {
     "name": "stdout",
     "output_type": "stream",
     "text": [
      "\n",
      "Contagem de valores:\n"
     ]
    },
    {
     "data": {
      "text/plain": [
       "IN_ACES_INTERNET_DISP_PESSOAIS\n",
       "0.0    139656\n",
       "1.0     29671\n",
       "9.0      6004\n",
       "Name: count, dtype: int64"
      ]
     },
     "metadata": {},
     "output_type": "display_data"
    },
    {
     "name": "stdout",
     "output_type": "stream",
     "text": [
      "\n",
      "Quantidade de valores ausentes\n"
     ]
    },
    {
     "data": {
      "text/plain": [
       "IN_ACES_INTERNET_DISP_PESSOAIS\n",
       "False    175331\n",
       "Name: count, dtype: int64"
      ]
     },
     "metadata": {},
     "output_type": "display_data"
    }
   ],
   "source": [
    "basic_exploration(df, 'IN_ACES_INTERNET_DISP_PESSOAIS', 'binary')"
   ]
  },
  {
   "cell_type": "markdown",
   "metadata": {},
   "source": [
    "#### TP_REDE_LOCAL"
   ]
  },
  {
   "cell_type": "markdown",
   "metadata": {},
   "source": [
    "- 0 - Não há rede local interligando computadores\n",
    "- 1 - A cabo\n",
    "- 2 - Wireless\n",
    "- 3 - A cabo e Wireless\n",
    "- 9 - Não informado"
   ]
  },
  {
   "cell_type": "code",
   "execution_count": 582,
   "metadata": {},
   "outputs": [
    {
     "name": "stdout",
     "output_type": "stream",
     "text": [
      "\n",
      "Contagem de valores:\n"
     ]
    },
    {
     "data": {
      "text/plain": [
       "TP_REDE_LOCAL\n",
       "3.0    66048\n",
       "1.0    33112\n",
       "2.0    30960\n",
       "9.0    27622\n",
       "0.0    17589\n",
       "Name: count, dtype: int64"
      ]
     },
     "metadata": {},
     "output_type": "display_data"
    },
    {
     "name": "stdout",
     "output_type": "stream",
     "text": [
      "\n",
      "Quantidade de valores ausentes\n"
     ]
    },
    {
     "data": {
      "text/plain": [
       "TP_REDE_LOCAL\n",
       "False    175331\n",
       "Name: count, dtype: int64"
      ]
     },
     "metadata": {},
     "output_type": "display_data"
    }
   ],
   "source": [
    "basic_exploration(df, 'TP_REDE_LOCAL', 'binary')"
   ]
  },
  {
   "cell_type": "markdown",
   "metadata": {},
   "source": [
    "#### IN_BANDA_LARGA"
   ]
  },
  {
   "cell_type": "markdown",
   "metadata": {},
   "source": [
    "- 1 - Sim\n",
    "- 0 - Não\n",
    "\n",
    "* Não aplicável para escolas sem acesso à internet"
   ]
  },
  {
   "cell_type": "code",
   "execution_count": 583,
   "metadata": {},
   "outputs": [
    {
     "name": "stdout",
     "output_type": "stream",
     "text": [
      "\n",
      "Contagem de valores:\n"
     ]
    },
    {
     "data": {
      "text/plain": [
       "IN_BANDA_LARGA\n",
       "1.0    137529\n",
       "0.0     21532\n",
       "NaN     16270\n",
       "Name: count, dtype: int64"
      ]
     },
     "metadata": {},
     "output_type": "display_data"
    },
    {
     "name": "stdout",
     "output_type": "stream",
     "text": [
      "\n",
      "Quantidade de valores ausentes\n"
     ]
    },
    {
     "data": {
      "text/plain": [
       "IN_BANDA_LARGA\n",
       "False    159061\n",
       "True      16270\n",
       "Name: count, dtype: int64"
      ]
     },
     "metadata": {},
     "output_type": "display_data"
    }
   ],
   "source": [
    "basic_exploration(df, 'IN_BANDA_LARGA', 'binary')"
   ]
  },
  {
   "cell_type": "code",
   "execution_count": 584,
   "metadata": {},
   "outputs": [
    {
     "data": {
      "text/plain": [
       "IN_BANDA_LARGA\n",
       " 1.0    137529\n",
       " 0.0     21532\n",
       "-1.0     16270\n",
       "Name: count, dtype: int64"
      ]
     },
     "execution_count": 584,
     "metadata": {},
     "output_type": "execute_result"
    }
   ],
   "source": [
    "df.loc[df['IN_BANDA_LARGA'].isna(), 'IN_BANDA_LARGA'] = -1\n",
    "df['IN_BANDA_LARGA'].value_counts(dropna=False)"
   ]
  },
  {
   "cell_type": "markdown",
   "metadata": {},
   "source": [
    "#### Comparação"
   ]
  },
  {
   "cell_type": "code",
   "execution_count": 585,
   "metadata": {},
   "outputs": [
    {
     "data": {
      "text/plain": [
       "IN_INTERNET  IN_INTERNET_ALUNOS  IN_INTERNET_ADMINISTRATIVO  IN_INTERNET_APRENDIZAGEM  IN_INTERNET_COMUNIDADE  IN_ACESSO_INTERNET_COMPUTADOR  IN_ACES_INTERNET_DISP_PESSOAIS  TP_REDE_LOCAL  IN_BANDA_LARGA\n",
       "1.0          0.0                 1.0                         1.0                       0.0                     0.0                            0.0                             3.0             1.0              16815\n",
       "0.0          0.0                 0.0                         0.0                       0.0                     0.0                            0.0                             9.0            -1.0              13893\n",
       "1.0          1.0                 1.0                         1.0                       0.0                     1.0                            0.0                             3.0             1.0              13690\n",
       "                                                                                                                                              1.0                             3.0             1.0              10788\n",
       "             0.0                 1.0                         0.0                       0.0                     0.0                            0.0                             1.0             1.0              10170\n",
       "                                                                                                                                                                                                               ...  \n",
       "             1.0                 0.0                         0.0                       1.0                     1.0                            0.0                             1.0             0.0                  1\n",
       "                                 1.0                         0.0                       1.0                     1.0                            0.0                             9.0             1.0                  1\n",
       "                                 0.0                         0.0                       0.0                     9.0                            9.0                             3.0             1.0                  1\n",
       "                                 1.0                         0.0                       1.0                     9.0                            9.0                             3.0             0.0                  1\n",
       "                                 0.0                         1.0                       0.0                     9.0                            9.0                             3.0             0.0                  1\n",
       "Name: count, Length: 274, dtype: int64"
      ]
     },
     "execution_count": 585,
     "metadata": {},
     "output_type": "execute_result"
    }
   ],
   "source": [
    "cols_internet = ['IN_INTERNET', 'IN_INTERNET_ALUNOS', 'IN_INTERNET_ADMINISTRATIVO', 'IN_INTERNET_APRENDIZAGEM', 'IN_INTERNET_COMUNIDADE', 'IN_ACESSO_INTERNET_COMPUTADOR', \n",
    "                         'IN_ACES_INTERNET_DISP_PESSOAIS', 'TP_REDE_LOCAL', 'IN_BANDA_LARGA']\n",
    "\n",
    "df[cols_internet].value_counts(dropna = False)"
   ]
  },
  {
   "cell_type": "markdown",
   "metadata": {},
   "source": [
    "### Materiais pedagógicos"
   ]
  },
  {
   "cell_type": "markdown",
   "metadata": {},
   "source": [
    "#### IN_MATERIAL_PED_MULTIMIDIA"
   ]
  },
  {
   "cell_type": "markdown",
   "metadata": {},
   "source": [
    "- 1 - Sim\n",
    "- 0 - Não"
   ]
  },
  {
   "cell_type": "code",
   "execution_count": 586,
   "metadata": {},
   "outputs": [
    {
     "name": "stdout",
     "output_type": "stream",
     "text": [
      "\n",
      "Contagem de valores:\n"
     ]
    },
    {
     "data": {
      "text/plain": [
       "IN_MATERIAL_PED_MULTIMIDIA\n",
       "0.0    112813\n",
       "1.0     62518\n",
       "Name: count, dtype: int64"
      ]
     },
     "metadata": {},
     "output_type": "display_data"
    },
    {
     "name": "stdout",
     "output_type": "stream",
     "text": [
      "\n",
      "Quantidade de valores ausentes\n"
     ]
    },
    {
     "data": {
      "text/plain": [
       "IN_MATERIAL_PED_MULTIMIDIA\n",
       "False    175331\n",
       "Name: count, dtype: int64"
      ]
     },
     "metadata": {},
     "output_type": "display_data"
    }
   ],
   "source": [
    "basic_exploration(df, 'IN_MATERIAL_PED_MULTIMIDIA', 'binary')"
   ]
  },
  {
   "cell_type": "markdown",
   "metadata": {},
   "source": [
    "#### IN_MATERIAL_PED_INFANTIL"
   ]
  },
  {
   "cell_type": "markdown",
   "metadata": {},
   "source": [
    "- 1 - Sim\n",
    "- 0 - Não"
   ]
  },
  {
   "cell_type": "code",
   "execution_count": 587,
   "metadata": {},
   "outputs": [
    {
     "name": "stdout",
     "output_type": "stream",
     "text": [
      "\n",
      "Contagem de valores:\n"
     ]
    },
    {
     "data": {
      "text/plain": [
       "IN_MATERIAL_PED_INFANTIL\n",
       "1.0    91314\n",
       "0.0    84017\n",
       "Name: count, dtype: int64"
      ]
     },
     "metadata": {},
     "output_type": "display_data"
    },
    {
     "name": "stdout",
     "output_type": "stream",
     "text": [
      "\n",
      "Quantidade de valores ausentes\n"
     ]
    },
    {
     "data": {
      "text/plain": [
       "IN_MATERIAL_PED_INFANTIL\n",
       "False    175331\n",
       "Name: count, dtype: int64"
      ]
     },
     "metadata": {},
     "output_type": "display_data"
    }
   ],
   "source": [
    "basic_exploration(df, 'IN_MATERIAL_PED_INFANTIL', 'binary')"
   ]
  },
  {
   "cell_type": "markdown",
   "metadata": {},
   "source": [
    "#### IN_MATERIAL_PED_CIENTIFICO"
   ]
  },
  {
   "cell_type": "markdown",
   "metadata": {},
   "source": [
    "- 1 - Sim\n",
    "- 0 - Não"
   ]
  },
  {
   "cell_type": "code",
   "execution_count": 588,
   "metadata": {},
   "outputs": [
    {
     "name": "stdout",
     "output_type": "stream",
     "text": [
      "\n",
      "Contagem de valores:\n"
     ]
    },
    {
     "data": {
      "text/plain": [
       "IN_MATERIAL_PED_CIENTIFICO\n",
       "0.0    146008\n",
       "1.0     29323\n",
       "Name: count, dtype: int64"
      ]
     },
     "metadata": {},
     "output_type": "display_data"
    },
    {
     "name": "stdout",
     "output_type": "stream",
     "text": [
      "\n",
      "Quantidade de valores ausentes\n"
     ]
    },
    {
     "data": {
      "text/plain": [
       "IN_MATERIAL_PED_CIENTIFICO\n",
       "False    175331\n",
       "Name: count, dtype: int64"
      ]
     },
     "metadata": {},
     "output_type": "display_data"
    }
   ],
   "source": [
    "basic_exploration(df, 'IN_MATERIAL_PED_CIENTIFICO', 'binary')"
   ]
  },
  {
   "cell_type": "markdown",
   "metadata": {},
   "source": [
    "#### IN_MATERIAL_PED_DIFUSAO"
   ]
  },
  {
   "cell_type": "markdown",
   "metadata": {},
   "source": [
    "- 1 - Sim\n",
    "- 0 - Não"
   ]
  },
  {
   "cell_type": "code",
   "execution_count": 589,
   "metadata": {},
   "outputs": [
    {
     "name": "stdout",
     "output_type": "stream",
     "text": [
      "\n",
      "Contagem de valores:\n"
     ]
    },
    {
     "data": {
      "text/plain": [
       "IN_MATERIAL_PED_DIFUSAO\n",
       "1.0    89160\n",
       "0.0    86171\n",
       "Name: count, dtype: int64"
      ]
     },
     "metadata": {},
     "output_type": "display_data"
    },
    {
     "name": "stdout",
     "output_type": "stream",
     "text": [
      "\n",
      "Quantidade de valores ausentes\n"
     ]
    },
    {
     "data": {
      "text/plain": [
       "IN_MATERIAL_PED_DIFUSAO\n",
       "False    175331\n",
       "Name: count, dtype: int64"
      ]
     },
     "metadata": {},
     "output_type": "display_data"
    }
   ],
   "source": [
    "basic_exploration(df, 'IN_MATERIAL_PED_DIFUSAO', 'binary')"
   ]
  },
  {
   "cell_type": "markdown",
   "metadata": {},
   "source": [
    "#### IN_MATERIAL_PED_MUSICAL"
   ]
  },
  {
   "cell_type": "markdown",
   "metadata": {},
   "source": [
    "- 1 - Sim\n",
    "- 0 - Não"
   ]
  },
  {
   "cell_type": "code",
   "execution_count": 590,
   "metadata": {},
   "outputs": [
    {
     "name": "stdout",
     "output_type": "stream",
     "text": [
      "\n",
      "Contagem de valores:\n"
     ]
    },
    {
     "data": {
      "text/plain": [
       "IN_MATERIAL_PED_MUSICAL\n",
       "0.0    132417\n",
       "1.0     42914\n",
       "Name: count, dtype: int64"
      ]
     },
     "metadata": {},
     "output_type": "display_data"
    },
    {
     "name": "stdout",
     "output_type": "stream",
     "text": [
      "\n",
      "Quantidade de valores ausentes\n"
     ]
    },
    {
     "data": {
      "text/plain": [
       "IN_MATERIAL_PED_MUSICAL\n",
       "False    175331\n",
       "Name: count, dtype: int64"
      ]
     },
     "metadata": {},
     "output_type": "display_data"
    }
   ],
   "source": [
    "basic_exploration(df, 'IN_MATERIAL_PED_MUSICAL', 'binary')"
   ]
  },
  {
   "cell_type": "markdown",
   "metadata": {},
   "source": [
    "#### IN_MATERIAL_PED_JOGOS"
   ]
  },
  {
   "cell_type": "markdown",
   "metadata": {},
   "source": [
    "- 1 - Sim\n",
    "- 0 - Não"
   ]
  },
  {
   "cell_type": "code",
   "execution_count": 591,
   "metadata": {},
   "outputs": [
    {
     "name": "stdout",
     "output_type": "stream",
     "text": [
      "\n",
      "Contagem de valores:\n"
     ]
    },
    {
     "data": {
      "text/plain": [
       "IN_MATERIAL_PED_JOGOS\n",
       "1.0    138585\n",
       "0.0     36746\n",
       "Name: count, dtype: int64"
      ]
     },
     "metadata": {},
     "output_type": "display_data"
    },
    {
     "name": "stdout",
     "output_type": "stream",
     "text": [
      "\n",
      "Quantidade de valores ausentes\n"
     ]
    },
    {
     "data": {
      "text/plain": [
       "IN_MATERIAL_PED_JOGOS\n",
       "False    175331\n",
       "Name: count, dtype: int64"
      ]
     },
     "metadata": {},
     "output_type": "display_data"
    }
   ],
   "source": [
    "basic_exploration(df, 'IN_MATERIAL_PED_JOGOS', 'binary')"
   ]
  },
  {
   "cell_type": "markdown",
   "metadata": {},
   "source": [
    "#### IN_MATERIAL_PED_ARTISTICAS"
   ]
  },
  {
   "cell_type": "markdown",
   "metadata": {},
   "source": [
    "- 1 - Sim\n",
    "- 0 - Não"
   ]
  },
  {
   "cell_type": "code",
   "execution_count": 592,
   "metadata": {},
   "outputs": [
    {
     "name": "stdout",
     "output_type": "stream",
     "text": [
      "\n",
      "Contagem de valores:\n"
     ]
    },
    {
     "data": {
      "text/plain": [
       "IN_MATERIAL_PED_ARTISTICAS\n",
       "0.0    103033\n",
       "1.0     72298\n",
       "Name: count, dtype: int64"
      ]
     },
     "metadata": {},
     "output_type": "display_data"
    },
    {
     "name": "stdout",
     "output_type": "stream",
     "text": [
      "\n",
      "Quantidade de valores ausentes\n"
     ]
    },
    {
     "data": {
      "text/plain": [
       "IN_MATERIAL_PED_ARTISTICAS\n",
       "False    175331\n",
       "Name: count, dtype: int64"
      ]
     },
     "metadata": {},
     "output_type": "display_data"
    }
   ],
   "source": [
    "basic_exploration(df, 'IN_MATERIAL_PED_ARTISTICAS', 'binary')"
   ]
  },
  {
   "cell_type": "markdown",
   "metadata": {},
   "source": [
    "#### IN_MATERIAL_PED_PROFISSIONAL"
   ]
  },
  {
   "cell_type": "markdown",
   "metadata": {},
   "source": [
    "- 1 - Sim\n",
    "- 0 - Não"
   ]
  },
  {
   "cell_type": "code",
   "execution_count": 593,
   "metadata": {},
   "outputs": [
    {
     "name": "stdout",
     "output_type": "stream",
     "text": [
      "\n",
      "Contagem de valores:\n"
     ]
    },
    {
     "data": {
      "text/plain": [
       "IN_MATERIAL_PED_PROFISSIONAL\n",
       "0.0    167118\n",
       "1.0      8213\n",
       "Name: count, dtype: int64"
      ]
     },
     "metadata": {},
     "output_type": "display_data"
    },
    {
     "name": "stdout",
     "output_type": "stream",
     "text": [
      "\n",
      "Quantidade de valores ausentes\n"
     ]
    },
    {
     "data": {
      "text/plain": [
       "IN_MATERIAL_PED_PROFISSIONAL\n",
       "False    175331\n",
       "Name: count, dtype: int64"
      ]
     },
     "metadata": {},
     "output_type": "display_data"
    }
   ],
   "source": [
    "basic_exploration(df, 'IN_MATERIAL_PED_PROFISSIONAL', 'binary')"
   ]
  },
  {
   "cell_type": "markdown",
   "metadata": {},
   "source": [
    "#### IN_MATERIAL_PED_DESPORTIVA"
   ]
  },
  {
   "cell_type": "markdown",
   "metadata": {},
   "source": [
    "- 1 - Sim\n",
    "- 0 - Não"
   ]
  },
  {
   "cell_type": "code",
   "execution_count": 594,
   "metadata": {},
   "outputs": [
    {
     "name": "stdout",
     "output_type": "stream",
     "text": [
      "\n",
      "Contagem de valores:\n"
     ]
    },
    {
     "data": {
      "text/plain": [
       "IN_MATERIAL_PED_DESPORTIVA\n",
       "1.0    112146\n",
       "0.0     63185\n",
       "Name: count, dtype: int64"
      ]
     },
     "metadata": {},
     "output_type": "display_data"
    },
    {
     "name": "stdout",
     "output_type": "stream",
     "text": [
      "\n",
      "Quantidade de valores ausentes\n"
     ]
    },
    {
     "data": {
      "text/plain": [
       "IN_MATERIAL_PED_DESPORTIVA\n",
       "False    175331\n",
       "Name: count, dtype: int64"
      ]
     },
     "metadata": {},
     "output_type": "display_data"
    }
   ],
   "source": [
    "basic_exploration(df, 'IN_MATERIAL_PED_DESPORTIVA', 'binary')"
   ]
  },
  {
   "cell_type": "markdown",
   "metadata": {},
   "source": [
    "#### IN_MATERIAL_PED_INDIGENA"
   ]
  },
  {
   "cell_type": "markdown",
   "metadata": {},
   "source": [
    "- 1 - Sim\n",
    "- 0 - Não"
   ]
  },
  {
   "cell_type": "code",
   "execution_count": 595,
   "metadata": {},
   "outputs": [
    {
     "name": "stdout",
     "output_type": "stream",
     "text": [
      "\n",
      "Contagem de valores:\n"
     ]
    },
    {
     "data": {
      "text/plain": [
       "IN_MATERIAL_PED_INDIGENA\n",
       "0.0    168433\n",
       "1.0      6898\n",
       "Name: count, dtype: int64"
      ]
     },
     "metadata": {},
     "output_type": "display_data"
    },
    {
     "name": "stdout",
     "output_type": "stream",
     "text": [
      "\n",
      "Quantidade de valores ausentes\n"
     ]
    },
    {
     "data": {
      "text/plain": [
       "IN_MATERIAL_PED_INDIGENA\n",
       "False    175331\n",
       "Name: count, dtype: int64"
      ]
     },
     "metadata": {},
     "output_type": "display_data"
    }
   ],
   "source": [
    "basic_exploration(df, 'IN_MATERIAL_PED_INDIGENA', 'binary')"
   ]
  },
  {
   "cell_type": "markdown",
   "metadata": {},
   "source": [
    "#### IN_MATERIAL_PED_ETNICO"
   ]
  },
  {
   "cell_type": "markdown",
   "metadata": {},
   "source": [
    "- 1 - Sim\n",
    "- 0 - Não"
   ]
  },
  {
   "cell_type": "code",
   "execution_count": 596,
   "metadata": {},
   "outputs": [
    {
     "name": "stdout",
     "output_type": "stream",
     "text": [
      "\n",
      "Contagem de valores:\n"
     ]
    },
    {
     "data": {
      "text/plain": [
       "IN_MATERIAL_PED_ETNICO\n",
       "0.0    143848\n",
       "1.0     31483\n",
       "Name: count, dtype: int64"
      ]
     },
     "metadata": {},
     "output_type": "display_data"
    },
    {
     "name": "stdout",
     "output_type": "stream",
     "text": [
      "\n",
      "Quantidade de valores ausentes\n"
     ]
    },
    {
     "data": {
      "text/plain": [
       "IN_MATERIAL_PED_ETNICO\n",
       "False    175331\n",
       "Name: count, dtype: int64"
      ]
     },
     "metadata": {},
     "output_type": "display_data"
    }
   ],
   "source": [
    "basic_exploration(df, 'IN_MATERIAL_PED_ETNICO', 'binary')"
   ]
  },
  {
   "cell_type": "markdown",
   "metadata": {},
   "source": [
    "#### IN_MATERIAL_PED_CAMPO"
   ]
  },
  {
   "cell_type": "markdown",
   "metadata": {},
   "source": [
    "- 1 - Sim\n",
    "- 0 - Não"
   ]
  },
  {
   "cell_type": "code",
   "execution_count": 597,
   "metadata": {},
   "outputs": [
    {
     "name": "stdout",
     "output_type": "stream",
     "text": [
      "\n",
      "Contagem de valores:\n"
     ]
    },
    {
     "data": {
      "text/plain": [
       "IN_MATERIAL_PED_CAMPO\n",
       "0.0    158541\n",
       "1.0     16790\n",
       "Name: count, dtype: int64"
      ]
     },
     "metadata": {},
     "output_type": "display_data"
    },
    {
     "name": "stdout",
     "output_type": "stream",
     "text": [
      "\n",
      "Quantidade de valores ausentes\n"
     ]
    },
    {
     "data": {
      "text/plain": [
       "IN_MATERIAL_PED_CAMPO\n",
       "False    175331\n",
       "Name: count, dtype: int64"
      ]
     },
     "metadata": {},
     "output_type": "display_data"
    }
   ],
   "source": [
    "basic_exploration(df, 'IN_MATERIAL_PED_CAMPO', 'binary')"
   ]
  },
  {
   "cell_type": "markdown",
   "metadata": {},
   "source": [
    "#### IN_MATERIAL_PED_BIL_SURDOS"
   ]
  },
  {
   "cell_type": "markdown",
   "metadata": {},
   "source": [
    "- 1 - Sim\n",
    "- 0 - Não"
   ]
  },
  {
   "cell_type": "code",
   "execution_count": 598,
   "metadata": {},
   "outputs": [
    {
     "name": "stdout",
     "output_type": "stream",
     "text": [
      "\n",
      "Contagem de valores:\n"
     ]
    },
    {
     "data": {
      "text/plain": [
       "IN_MATERIAL_PED_BIL_SURDOS\n",
       "0.0    172334\n",
       "1.0      2997\n",
       "Name: count, dtype: int64"
      ]
     },
     "metadata": {},
     "output_type": "display_data"
    },
    {
     "name": "stdout",
     "output_type": "stream",
     "text": [
      "\n",
      "Quantidade de valores ausentes\n"
     ]
    },
    {
     "data": {
      "text/plain": [
       "IN_MATERIAL_PED_BIL_SURDOS\n",
       "False    175331\n",
       "Name: count, dtype: int64"
      ]
     },
     "metadata": {},
     "output_type": "display_data"
    }
   ],
   "source": [
    "basic_exploration(df, 'IN_MATERIAL_PED_BIL_SURDOS', 'binary')"
   ]
  },
  {
   "cell_type": "markdown",
   "metadata": {},
   "source": [
    "#### IN_MATERIAL_PED_NENHUM"
   ]
  },
  {
   "cell_type": "markdown",
   "metadata": {},
   "source": [
    "- 1 - Sim\n",
    "- 0 - Não"
   ]
  },
  {
   "cell_type": "code",
   "execution_count": 599,
   "metadata": {},
   "outputs": [
    {
     "name": "stdout",
     "output_type": "stream",
     "text": [
      "\n",
      "Contagem de valores:\n"
     ]
    },
    {
     "data": {
      "text/plain": [
       "IN_MATERIAL_PED_NENHUM\n",
       "0.0    158001\n",
       "1.0     17330\n",
       "Name: count, dtype: int64"
      ]
     },
     "metadata": {},
     "output_type": "display_data"
    },
    {
     "name": "stdout",
     "output_type": "stream",
     "text": [
      "\n",
      "Quantidade de valores ausentes\n"
     ]
    },
    {
     "data": {
      "text/plain": [
       "IN_MATERIAL_PED_NENHUM\n",
       "False    175331\n",
       "Name: count, dtype: int64"
      ]
     },
     "metadata": {},
     "output_type": "display_data"
    }
   ],
   "source": [
    "basic_exploration(df, 'IN_MATERIAL_PED_NENHUM', 'binary')"
   ]
  },
  {
   "cell_type": "markdown",
   "metadata": {},
   "source": [
    "#### Comparação"
   ]
  },
  {
   "cell_type": "code",
   "execution_count": 600,
   "metadata": {},
   "outputs": [
    {
     "data": {
      "text/plain": [
       "IN_MATERIAL_PED_MULTIMIDIA  IN_MATERIAL_PED_INFANTIL  IN_MATERIAL_PED_CIENTIFICO  IN_MATERIAL_PED_DIFUSAO  IN_MATERIAL_PED_MUSICAL  IN_MATERIAL_PED_JOGOS  IN_MATERIAL_PED_ARTISTICAS  IN_MATERIAL_PED_PROFISSIONAL  IN_MATERIAL_PED_DESPORTIVA  IN_MATERIAL_PED_INDIGENA  IN_MATERIAL_PED_ETNICO  IN_MATERIAL_PED_CAMPO  IN_MATERIAL_PED_BIL_SURDOS  IN_MATERIAL_PED_NENHUM\n",
       "0.0                         0.0                       0.0                         0.0                      0.0                      0.0                    0.0                         0.0                           0.0                         0.0                       0.0                     0.0                    0.0                         1.0                       17330\n",
       "Name: count, dtype: int64"
      ]
     },
     "execution_count": 600,
     "metadata": {},
     "output_type": "execute_result"
    }
   ],
   "source": [
    "cols_materiais = ['IN_MATERIAL_PED_MULTIMIDIA', 'IN_MATERIAL_PED_INFANTIL', 'IN_MATERIAL_PED_CIENTIFICO', 'IN_MATERIAL_PED_DIFUSAO', 'IN_MATERIAL_PED_MUSICAL', \n",
    "                         'IN_MATERIAL_PED_JOGOS', 'IN_MATERIAL_PED_ARTISTICAS', 'IN_MATERIAL_PED_PROFISSIONAL', 'IN_MATERIAL_PED_DESPORTIVA', 'IN_MATERIAL_PED_INDIGENA', \n",
    "                         'IN_MATERIAL_PED_ETNICO', 'IN_MATERIAL_PED_CAMPO', 'IN_MATERIAL_PED_BIL_SURDOS', ]\n",
    "\n",
    "df[df['IN_MATERIAL_PED_NENHUM'] == 1][cols_materiais + ['IN_MATERIAL_PED_NENHUM']].value_counts(dropna = False)"
   ]
  },
  {
   "cell_type": "markdown",
   "metadata": {},
   "source": [
    "## Criação da Base Final"
   ]
  },
  {
   "cell_type": "markdown",
   "metadata": {},
   "source": [
    "### Remoção das colunas desnecessárias"
   ]
  },
  {
   "cell_type": "code",
   "execution_count": 601,
   "metadata": {},
   "outputs": [
    {
     "data": {
      "text/plain": [
       "124"
      ]
     },
     "execution_count": 601,
     "metadata": {},
     "output_type": "execute_result"
    }
   ],
   "source": [
    "df.drop(cols_remover, axis = 1, inplace = True)\n",
    "len(df.columns)"
   ]
  },
  {
   "cell_type": "code",
   "execution_count": 602,
   "metadata": {},
   "outputs": [
    {
     "data": {
      "text/plain": [
       "(175331, 124)"
      ]
     },
     "execution_count": 602,
     "metadata": {},
     "output_type": "execute_result"
    }
   ],
   "source": [
    "df.shape"
   ]
  },
  {
   "cell_type": "markdown",
   "metadata": {},
   "source": [
    "### Criação das faixas de quantidade de matrículas"
   ]
  },
  {
   "cell_type": "markdown",
   "metadata": {},
   "source": [
    "#### Árvore de Decisão -> Documentar, porque não funciona\n",
    "\n",
    "Testes que foram feitos:\n",
    "1. Não tinha as variáveis de EAD, Região e UF -> A melhor combinação de hiperparâmetros resultou em 12 faixas, com a última tendo intervalo de +180\n",
    "2. Foram adicionadas as variáveis EAD, Região e UF, com testes individuais e combinados dessas variáveis. -> A árvore não apresentou melhora na distribuição das escolas nem na definição de intervalos menos abrangentes\n",
    "3. Foram removidas as escolas que fazem ensino EAD e ignorados as variáveis de Região e UF. -> A árvore não apresentou melhora na distribuição das escolas nem na definição de intervalos menos abrangentes [Atual]"
   ]
  },
  {
   "cell_type": "code",
   "execution_count": 603,
   "metadata": {},
   "outputs": [],
   "source": [
    "# import pandas as pd\n",
    "# import numpy as np\n",
    "\n",
    "# from sklearn.tree import DecisionTreeRegressor\n",
    "# from sklearn import tree"
   ]
  },
  {
   "cell_type": "code",
   "execution_count": 604,
   "metadata": {},
   "outputs": [],
   "source": [
    "# df.columns"
   ]
  },
  {
   "cell_type": "code",
   "execution_count": 605,
   "metadata": {},
   "outputs": [],
   "source": [
    "# X = df[df.columns[1:-3]]  # Variáveis independentes\n",
    "# y = df[['QT_MAT_BAS']]  # Variável alvo"
   ]
  },
  {
   "cell_type": "code",
   "execution_count": 606,
   "metadata": {},
   "outputs": [],
   "source": [
    "# dt = DecisionTreeRegressor(\n",
    "#     # ccp_alpha=0.05,\n",
    "#     max_depth=4,\n",
    "#     max_leaf_nodes=15,\n",
    "#     min_samples_leaf=150,\n",
    "#     random_state=42\n",
    "# )\n",
    "# dt.fit(X, y)"
   ]
  },
  {
   "cell_type": "code",
   "execution_count": 607,
   "metadata": {},
   "outputs": [],
   "source": [
    "# plt.figure(figsize = (20,8))\n",
    "# _ = tree.plot_tree(dt, feature_names=df.columns[1:-3], filled=True)"
   ]
  },
  {
   "cell_type": "code",
   "execution_count": 608,
   "metadata": {},
   "outputs": [],
   "source": [
    "# # Obter os pontos de corte da árvore\n",
    "# thresholds = np.sort(dt.tree_.threshold[dt.tree_.threshold != -2])  # -2 é um valor padrão quando não há corte\n",
    "\n",
    "# # Adicionar o valor mínimo e máximo para garantir que todos os valores de y estejam dentro das faixas\n",
    "# bins = np.concatenate(([-np.inf], thresholds, [np.inf]))\n",
    "# bins"
   ]
  },
  {
   "cell_type": "code",
   "execution_count": 609,
   "metadata": {},
   "outputs": [],
   "source": [
    "# # Criar a nova variável categórica\n",
    "# df['FAIXA_QNT_MAT_BAS'] = pd.cut(\n",
    "#     y.QT_MAT_BAS, \n",
    "#     bins=bins, \n",
    "#     duplicates='drop',\n",
    "#     labels=False\n",
    "# )\n",
    "# df[['FAIXA_QNT_MAT_BAS']].value_counts(dropna = False).sort_index()"
   ]
  },
  {
   "cell_type": "code",
   "execution_count": 610,
   "metadata": {},
   "outputs": [],
   "source": [
    "# for i in df['FAIXA_QNT_MAT_BAS'].sort_values().unique():\n",
    "#     print(f\"faixa: {i} | min: {df[df['FAIXA_QNT_MAT_BAS'] == i]['QT_MAT_BAS'].min()} | max: {df[df['FAIXA_QNT_MAT_BAS'] == i]['QT_MAT_BAS'].max()}\")"
   ]
  },
  {
   "cell_type": "code",
   "execution_count": 611,
   "metadata": {},
   "outputs": [],
   "source": [
    "# sns.histplot(df[['FAIXA_QNT_MAT_BAS']])"
   ]
  },
  {
   "cell_type": "code",
   "execution_count": 612,
   "metadata": {},
   "outputs": [],
   "source": [
    "# def generate_pct_heatmap(df: pd.DataFrame, columns: list):\n",
    "#     # Agrupa pela faixa e pela região para conseguir a quantidade de escolas em cada grupo\n",
    "#     temp = df.groupby(columns, as_index = False).size()\n",
    "\n",
    "#     pct = [temp[temp[columns[0]] == faixa].sum()['size'] for faixa in temp[columns[0]]]\n",
    "#     pct = temp['size'] / pct * 100\n",
    "\n",
    "#     temp['pct'] = pct\n",
    "#     temp = temp.set_index(columns[0]).pivot(columns = columns[1], values = 'pct')\n",
    "\n",
    "#     return sns.heatmap(temp, annot=True, fmt='.2f', linewidths=0.5, cmap='PuRd')"
   ]
  },
  {
   "cell_type": "code",
   "execution_count": 613,
   "metadata": {},
   "outputs": [],
   "source": [
    "# generate_pct_heatmap(df[['FAIXA_QNT_MAT_BAS', 'CO_REGIAO']], ['FAIXA_QNT_MAT_BAS', 'CO_REGIAO'])"
   ]
  },
  {
   "cell_type": "code",
   "execution_count": 614,
   "metadata": {},
   "outputs": [],
   "source": [
    "# plt.figure(figsize = (20,5))\n",
    "# generate_pct_heatmap(df[['FAIXA_QNT_MAT_BAS', 'CO_UF']], ['FAIXA_QNT_MAT_BAS', 'CO_UF'])"
   ]
  },
  {
   "cell_type": "markdown",
   "metadata": {},
   "source": [
    "#### Criação das faixas conforme o percentil"
   ]
  },
  {
   "cell_type": "code",
   "execution_count": 615,
   "metadata": {},
   "outputs": [
    {
     "data": {
      "text/plain": [
       "Index(['NO_ENTIDADE', 'TP_DEPENDENCIA', 'TP_CATEGORIA_ESCOLA_PRIVADA',\n",
       "       'TP_LOCALIZACAO', 'TP_LOCALIZACAO_DIFERENCIADA',\n",
       "       'TP_SITUACAO_FUNCIONAMENTO', 'IN_LOCAL_FUNC_PREDIO_ESCOLAR',\n",
       "       'TP_OCUPACAO_PREDIO_ESCOLAR', 'IN_LOCAL_FUNC_SOCIOEDUCATIVO',\n",
       "       'IN_LOCAL_FUNC_UNID_PRISIONAL',\n",
       "       ...\n",
       "       'IN_MATERIAL_PED_PROFISSIONAL', 'IN_MATERIAL_PED_DESPORTIVA',\n",
       "       'IN_MATERIAL_PED_INDIGENA', 'IN_MATERIAL_PED_ETNICO',\n",
       "       'IN_MATERIAL_PED_CAMPO', 'IN_MATERIAL_PED_BIL_SURDOS',\n",
       "       'IN_MATERIAL_PED_NENHUM', 'CO_REGIAO', 'CO_UF', 'QT_MAT_BAS'],\n",
       "      dtype='object', length=124)"
      ]
     },
     "execution_count": 615,
     "metadata": {},
     "output_type": "execute_result"
    }
   ],
   "source": [
    "df.columns"
   ]
  },
  {
   "cell_type": "code",
   "execution_count": 628,
   "metadata": {},
   "outputs": [
    {
     "data": {
      "text/html": [
       "<div>\n",
       "<style scoped>\n",
       "    .dataframe tbody tr th:only-of-type {\n",
       "        vertical-align: middle;\n",
       "    }\n",
       "\n",
       "    .dataframe tbody tr th {\n",
       "        vertical-align: top;\n",
       "    }\n",
       "\n",
       "    .dataframe thead th {\n",
       "        text-align: right;\n",
       "    }\n",
       "</style>\n",
       "<table border=\"1\" class=\"dataframe\">\n",
       "  <thead>\n",
       "    <tr style=\"text-align: right;\">\n",
       "      <th></th>\n",
       "      <th>QT_MAT_BAS</th>\n",
       "    </tr>\n",
       "  </thead>\n",
       "  <tbody>\n",
       "    <tr>\n",
       "      <th>0.0</th>\n",
       "      <td>1.0</td>\n",
       "    </tr>\n",
       "    <tr>\n",
       "      <th>0.1</th>\n",
       "      <td>27.0</td>\n",
       "    </tr>\n",
       "    <tr>\n",
       "      <th>0.2</th>\n",
       "      <td>53.0</td>\n",
       "    </tr>\n",
       "    <tr>\n",
       "      <th>0.3</th>\n",
       "      <td>84.0</td>\n",
       "    </tr>\n",
       "    <tr>\n",
       "      <th>0.4</th>\n",
       "      <td>119.0</td>\n",
       "    </tr>\n",
       "    <tr>\n",
       "      <th>0.5</th>\n",
       "      <td>160.0</td>\n",
       "    </tr>\n",
       "    <tr>\n",
       "      <th>0.6</th>\n",
       "      <td>216.0</td>\n",
       "    </tr>\n",
       "    <tr>\n",
       "      <th>0.7</th>\n",
       "      <td>292.0</td>\n",
       "    </tr>\n",
       "    <tr>\n",
       "      <th>0.8</th>\n",
       "      <td>405.0</td>\n",
       "    </tr>\n",
       "    <tr>\n",
       "      <th>0.9</th>\n",
       "      <td>604.0</td>\n",
       "    </tr>\n",
       "    <tr>\n",
       "      <th>1.0</th>\n",
       "      <td>4965.0</td>\n",
       "    </tr>\n",
       "  </tbody>\n",
       "</table>\n",
       "</div>"
      ],
      "text/plain": [
       "     QT_MAT_BAS\n",
       "0.0         1.0\n",
       "0.1        27.0\n",
       "0.2        53.0\n",
       "0.3        84.0\n",
       "0.4       119.0\n",
       "0.5       160.0\n",
       "0.6       216.0\n",
       "0.7       292.0\n",
       "0.8       405.0\n",
       "0.9       604.0\n",
       "1.0      4965.0"
      ]
     },
     "execution_count": 628,
     "metadata": {},
     "output_type": "execute_result"
    }
   ],
   "source": [
    "df[['QT_MAT_BAS']].quantile([0.1 * i for i in range(11)])"
   ]
  },
  {
   "cell_type": "code",
   "execution_count": 699,
   "metadata": {},
   "outputs": [
    {
     "data": {
      "text/html": [
       "<div>\n",
       "<style scoped>\n",
       "    .dataframe tbody tr th:only-of-type {\n",
       "        vertical-align: middle;\n",
       "    }\n",
       "\n",
       "    .dataframe tbody tr th {\n",
       "        vertical-align: top;\n",
       "    }\n",
       "\n",
       "    .dataframe thead th {\n",
       "        text-align: right;\n",
       "    }\n",
       "</style>\n",
       "<table border=\"1\" class=\"dataframe\">\n",
       "  <thead>\n",
       "    <tr style=\"text-align: right;\">\n",
       "      <th></th>\n",
       "      <th>MAX</th>\n",
       "      <th>MIN</th>\n",
       "    </tr>\n",
       "  </thead>\n",
       "  <tbody>\n",
       "    <tr>\n",
       "      <th>0.1</th>\n",
       "      <td>26.0</td>\n",
       "      <td>1.0</td>\n",
       "    </tr>\n",
       "    <tr>\n",
       "      <th>0.2</th>\n",
       "      <td>52.0</td>\n",
       "      <td>27.0</td>\n",
       "    </tr>\n",
       "    <tr>\n",
       "      <th>0.3</th>\n",
       "      <td>83.0</td>\n",
       "      <td>53.0</td>\n",
       "    </tr>\n",
       "    <tr>\n",
       "      <th>0.4</th>\n",
       "      <td>118.0</td>\n",
       "      <td>84.0</td>\n",
       "    </tr>\n",
       "    <tr>\n",
       "      <th>0.5</th>\n",
       "      <td>159.0</td>\n",
       "      <td>119.0</td>\n",
       "    </tr>\n",
       "    <tr>\n",
       "      <th>0.6</th>\n",
       "      <td>215.0</td>\n",
       "      <td>160.0</td>\n",
       "    </tr>\n",
       "    <tr>\n",
       "      <th>0.7</th>\n",
       "      <td>291.0</td>\n",
       "      <td>216.0</td>\n",
       "    </tr>\n",
       "    <tr>\n",
       "      <th>0.8</th>\n",
       "      <td>404.0</td>\n",
       "      <td>292.0</td>\n",
       "    </tr>\n",
       "    <tr>\n",
       "      <th>0.9</th>\n",
       "      <td>603.0</td>\n",
       "      <td>405.0</td>\n",
       "    </tr>\n",
       "    <tr>\n",
       "      <th>1.0</th>\n",
       "      <td>4964.0</td>\n",
       "      <td>604.0</td>\n",
       "    </tr>\n",
       "  </tbody>\n",
       "</table>\n",
       "</div>"
      ],
      "text/plain": [
       "        MAX    MIN\n",
       "0.1    26.0    1.0\n",
       "0.2    52.0   27.0\n",
       "0.3    83.0   53.0\n",
       "0.4   118.0   84.0\n",
       "0.5   159.0  119.0\n",
       "0.6   215.0  160.0\n",
       "0.7   291.0  216.0\n",
       "0.8   404.0  292.0\n",
       "0.9   603.0  405.0\n",
       "1.0  4964.0  604.0"
      ]
     },
     "execution_count": 699,
     "metadata": {},
     "output_type": "execute_result"
    }
   ],
   "source": [
    "percentiles = pd.DataFrame()\n",
    "percentiles['MAX'] = df['QT_MAT_BAS'].quantile([0.1 * i for i in range(1, 11)]) - 1\n",
    "percentiles['MIN'] = df['QT_MAT_BAS'].quantile([0.1 * i for i in range(0, 10)]).values\n",
    "percentiles"
   ]
  },
  {
   "cell_type": "code",
   "execution_count": 685,
   "metadata": {},
   "outputs": [],
   "source": [
    "df['FAIXA_QT_MAT_BAS'] = pd.qcut(df['QT_MAT_BAS'], q=10, labels=range(1, 11))"
   ]
  },
  {
   "cell_type": "code",
   "execution_count": 702,
   "metadata": {},
   "outputs": [
    {
     "data": {
      "text/html": [
       "<div>\n",
       "<style scoped>\n",
       "    .dataframe tbody tr th:only-of-type {\n",
       "        vertical-align: middle;\n",
       "    }\n",
       "\n",
       "    .dataframe tbody tr th {\n",
       "        vertical-align: top;\n",
       "    }\n",
       "\n",
       "    .dataframe thead th {\n",
       "        text-align: right;\n",
       "    }\n",
       "</style>\n",
       "<table border=\"1\" class=\"dataframe\">\n",
       "  <thead>\n",
       "    <tr style=\"text-align: right;\">\n",
       "      <th></th>\n",
       "      <th>QT_MAT_BAS</th>\n",
       "      <th>FAIXA_QT_MAT_BAS</th>\n",
       "    </tr>\n",
       "  </thead>\n",
       "  <tbody>\n",
       "    <tr>\n",
       "      <th>0</th>\n",
       "      <td>69.0</td>\n",
       "      <td>3</td>\n",
       "    </tr>\n",
       "    <tr>\n",
       "      <th>1</th>\n",
       "      <td>225.0</td>\n",
       "      <td>7</td>\n",
       "    </tr>\n",
       "    <tr>\n",
       "      <th>2</th>\n",
       "      <td>1229.0</td>\n",
       "      <td>10</td>\n",
       "    </tr>\n",
       "    <tr>\n",
       "      <th>3</th>\n",
       "      <td>44.0</td>\n",
       "      <td>2</td>\n",
       "    </tr>\n",
       "    <tr>\n",
       "      <th>4</th>\n",
       "      <td>640.0</td>\n",
       "      <td>10</td>\n",
       "    </tr>\n",
       "    <tr>\n",
       "      <th>...</th>\n",
       "      <td>...</td>\n",
       "      <td>...</td>\n",
       "    </tr>\n",
       "    <tr>\n",
       "      <th>175326</th>\n",
       "      <td>132.0</td>\n",
       "      <td>5</td>\n",
       "    </tr>\n",
       "    <tr>\n",
       "      <th>175327</th>\n",
       "      <td>362.0</td>\n",
       "      <td>8</td>\n",
       "    </tr>\n",
       "    <tr>\n",
       "      <th>175328</th>\n",
       "      <td>378.0</td>\n",
       "      <td>8</td>\n",
       "    </tr>\n",
       "    <tr>\n",
       "      <th>175329</th>\n",
       "      <td>459.0</td>\n",
       "      <td>9</td>\n",
       "    </tr>\n",
       "    <tr>\n",
       "      <th>175330</th>\n",
       "      <td>218.0</td>\n",
       "      <td>7</td>\n",
       "    </tr>\n",
       "  </tbody>\n",
       "</table>\n",
       "<p>175331 rows × 2 columns</p>\n",
       "</div>"
      ],
      "text/plain": [
       "        QT_MAT_BAS FAIXA_QT_MAT_BAS\n",
       "0             69.0                3\n",
       "1            225.0                7\n",
       "2           1229.0               10\n",
       "3             44.0                2\n",
       "4            640.0               10\n",
       "...            ...              ...\n",
       "175326       132.0                5\n",
       "175327       362.0                8\n",
       "175328       378.0                8\n",
       "175329       459.0                9\n",
       "175330       218.0                7\n",
       "\n",
       "[175331 rows x 2 columns]"
      ]
     },
     "execution_count": 702,
     "metadata": {},
     "output_type": "execute_result"
    }
   ],
   "source": [
    "df[['QT_MAT_BAS', 'FAIXA_QT_MAT_BAS']]"
   ]
  },
  {
   "cell_type": "code",
   "execution_count": 704,
   "metadata": {},
   "outputs": [
    {
     "data": {
      "text/plain": [
       "Index(['NO_ENTIDADE', 'TP_DEPENDENCIA', 'TP_CATEGORIA_ESCOLA_PRIVADA',\n",
       "       'TP_LOCALIZACAO', 'TP_LOCALIZACAO_DIFERENCIADA',\n",
       "       'TP_SITUACAO_FUNCIONAMENTO', 'IN_LOCAL_FUNC_PREDIO_ESCOLAR',\n",
       "       'TP_OCUPACAO_PREDIO_ESCOLAR', 'IN_LOCAL_FUNC_SOCIOEDUCATIVO',\n",
       "       'IN_LOCAL_FUNC_UNID_PRISIONAL',\n",
       "       ...\n",
       "       'IN_MATERIAL_PED_DESPORTIVA', 'IN_MATERIAL_PED_INDIGENA',\n",
       "       'IN_MATERIAL_PED_ETNICO', 'IN_MATERIAL_PED_CAMPO',\n",
       "       'IN_MATERIAL_PED_BIL_SURDOS', 'IN_MATERIAL_PED_NENHUM', 'CO_REGIAO',\n",
       "       'CO_UF', 'QT_MAT_BAS', 'FAIXA_QT_MAT_BAS'],\n",
       "      dtype='object', length=125)"
      ]
     },
     "execution_count": 704,
     "metadata": {},
     "output_type": "execute_result"
    }
   ],
   "source": [
    "df.columns"
   ]
  },
  {
   "cell_type": "code",
   "execution_count": 706,
   "metadata": {},
   "outputs": [
    {
     "data": {
      "text/plain": [
       "(175331, 125)"
      ]
     },
     "execution_count": 706,
     "metadata": {},
     "output_type": "execute_result"
    }
   ],
   "source": [
    "df.shape"
   ]
  },
  {
   "cell_type": "code",
   "execution_count": 707,
   "metadata": {},
   "outputs": [
    {
     "data": {
      "text/plain": [
       "<Axes: xlabel='FAIXA_QT_MAT_BAS', ylabel='Count'>"
      ]
     },
     "execution_count": 707,
     "metadata": {},
     "output_type": "execute_result"
    },
    {
     "data": {
      "image/png": "[encoded data removed]",
      "text/plain": [
       "<Figure size 640x480 with 1 Axes>"
      ]
     },
     "metadata": {},
     "output_type": "display_data"
    }
   ],
   "source": [
    "sns.histplot(df['FAIXA_QT_MAT_BAS'])"
   ]
  },
  {
   "cell_type": "markdown",
   "metadata": {},
   "source": [
    "### Geração do CSV"
   ]
  },
  {
   "cell_type": "code",
   "execution_count": 705,
   "metadata": {},
   "outputs": [],
   "source": [
    "df.to_csv('censo_escolar_2023_mod.csv')"
   ]
  }
 ],
 "metadata": {
  "kernelspec": {
   "display_name": "venv_ccnews",
   "language": "python",
   "name": "python3"
  },
  "language_info": {
   "codemirror_mode": {
    "name": "ipython",
    "version": 3
   },
   "file_extension": ".py",
   "mimetype": "text/x-python",
   "name": "python",
   "nbconvert_exporter": "python",
   "pygments_lexer": "ipython3",
   "version": "3.10.12"
  }
 },
 "nbformat": 4,
 "nbformat_minor": 2
}
