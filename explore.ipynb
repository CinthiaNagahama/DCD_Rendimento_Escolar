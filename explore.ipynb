{
 "cells": [
  {
   "cell_type": "markdown",
   "metadata": {},
   "source": [
    "# Censo Escolar 2023\n",
    "\n",
    "Análise dos dados de infraestrutura das escolas com o objetivo de entender o relacionamento entre a quantidade de matrículas na escola e sua infraestrutura"
   ]
  },
  {
   "cell_type": "markdown",
   "metadata": {},
   "source": [
    "Sugestão: Definir faixas de quantidade de alunos a partir de árvore de decisão e seguir com uma regressão logística multinomial para chegar na probabilidade da quantidade de alunos dentro de cada faixa"
   ]
  },
  {
   "cell_type": "markdown",
   "metadata": {},
   "source": [
    "## Setting Up"
   ]
  },
  {
   "cell_type": "code",
   "execution_count": 2,
   "metadata": {},
   "outputs": [],
   "source": [
    "import pandas as pd\n",
    "\n",
    "pd.set_option('display.max_columns', None)"
   ]
  },
  {
   "cell_type": "code",
   "execution_count": 3,
   "metadata": {},
   "outputs": [],
   "source": [
    "def basic_exploration(df: pd.DataFrame, col: str, type: str = 'binary'):\n",
    "    # BUG: prints e display não aparecem conforme estruturado na função\n",
    "    if(type in ['binary', 'category']):\n",
    "        print(\"\\nContagem de valores:\")\n",
    "        display(df[col].value_counts(dropna=False))\n",
    "\n",
    "    print(\"\\nQuantidade de valores ausentes\")\n",
    "    display(df[col].isna().value_counts(dropna=False))"
   ]
  },
  {
   "cell_type": "markdown",
   "metadata": {},
   "source": [
    "## Variáveis"
   ]
  },
  {
   "cell_type": "code",
   "execution_count": 4,
   "metadata": {},
   "outputs": [
    {
     "data": {
      "text/plain": [
       "127"
      ]
     },
     "execution_count": 4,
     "metadata": {},
     "output_type": "execute_result"
    }
   ],
   "source": [
    "cols = [\n",
    "'NO_ENTIDADE',\n",
    "'TP_DEPENDENCIA',\n",
    "'TP_CATEGORIA_ESCOLA_PRIVADA',\n",
    "'TP_LOCALIZACAO',\n",
    "'TP_LOCALIZACAO_DIFERENCIADA',\n",
    "'TP_SITUACAO_FUNCIONAMENTO',\n",
    "\n",
    "'IN_LOCAL_FUNC_PREDIO_ESCOLAR',\n",
    "'TP_OCUPACAO_PREDIO_ESCOLAR',\n",
    "'IN_LOCAL_FUNC_SOCIOEDUCATIVO',\n",
    "'IN_LOCAL_FUNC_UNID_PRISIONAL',\n",
    "'IN_LOCAL_FUNC_PRISIONAL_SOCIO',\n",
    "'IN_LOCAL_FUNC_GALPAO',\n",
    "'IN_LOCAL_FUNC_SALAS_OUTRA_ESC',\n",
    "'IN_LOCAL_FUNC_OUTROS',\n",
    "'IN_PREDIO_COMPARTILHADO',\n",
    "\n",
    "'IN_AGUA_POTAVEL',\n",
    "'IN_AGUA_REDE_PUBLICA',\n",
    "'IN_AGUA_POCO_ARTESIANO',\n",
    "'IN_AGUA_CACIMBA',\n",
    "'IN_AGUA_FONTE_RIO',\n",
    "'IN_AGUA_INEXISTENTE',\n",
    "\n",
    "'IN_ENERGIA_REDE_PUBLICA',\n",
    "'IN_ENERGIA_GERADOR_FOSSIL',\n",
    "'IN_ENERGIA_RENOVAVEL',\n",
    "'IN_ENERGIA_INEXISTENTE',\n",
    "\n",
    "'IN_ESGOTO_REDE_PUBLICA',\n",
    "'IN_ESGOTO_FOSSA_SEPTICA',\n",
    "'IN_ESGOTO_FOSSA_COMUM',\n",
    "'IN_ESGOTO_FOSSA',\n",
    "'IN_ESGOTO_INEXISTENTE',\n",
    "\n",
    "'IN_LIXO_SERVICO_COLETA',\n",
    "'IN_LIXO_QUEIMA',\n",
    "'IN_LIXO_ENTERRA',\n",
    "'IN_LIXO_DESTINO_FINAL_PUBLICO',\n",
    "'IN_LIXO_DESCARTA_OUTRA_AREA',\n",
    "\n",
    "'IN_ALMOXARIFADO',\n",
    "'IN_AREA_VERDE',\n",
    "'IN_AUDITORIO',\n",
    "'IN_BANHEIRO',\n",
    "'IN_BANHEIRO_EI',\n",
    "'IN_BANHEIRO_PNE',\n",
    "'IN_BANHEIRO_FUNCIONARIOS',\n",
    "'IN_BANHEIRO_CHUVEIRO',\n",
    "'IN_BIBLIOTECA',\n",
    "'IN_BIBLIOTECA_SALA_LEITURA',\n",
    "'IN_COZINHA',\n",
    "'IN_DESPENSA',\n",
    "'IN_DORMITORIO_ALUNO',\n",
    "'IN_DORMITORIO_PROFESSOR',\n",
    "'IN_LABORATORIO_CIENCIAS',\n",
    "'IN_LABORATORIO_INFORMATICA',\n",
    "'IN_LABORATORIO_EDUC_PROF',\n",
    "'IN_PATIO_COBERTO',\n",
    "'IN_PATIO_DESCOBERTO',\n",
    "'IN_PARQUE_INFANTIL',\n",
    "'IN_PISCINA',\n",
    "'IN_QUADRA_ESPORTES',\n",
    "'IN_QUADRA_ESPORTES_COBERTA',\n",
    "'IN_QUADRA_ESPORTES_DESCOBERTA',\n",
    "'IN_REFEITORIO',\n",
    "'IN_SALA_ATELIE_ARTES',\n",
    "'IN_SALA_MUSICA_CORAL',\n",
    "'IN_SALA_ESTUDIO_DANCA',\n",
    "'IN_SALA_MULTIUSO',\n",
    "'IN_SALA_ESTUDIO_GRAVACAO',\n",
    "'IN_SALA_OFICINAS_EDUC_PROF',\n",
    "'IN_SALA_DIRETORIA',\n",
    "'IN_SALA_LEITURA',\n",
    "'IN_SALA_PROFESSOR',\n",
    "'IN_SALA_REPOUSO_ALUNO',\n",
    "'IN_SECRETARIA',\n",
    "'IN_SALA_ATENDIMENTO_ESPECIAL',\n",
    "'IN_TERREIRAO',\n",
    "'IN_VIVEIRO',\n",
    "'IN_DEPENDENCIAS_OUTRAS',\n",
    "\n",
    "'IN_ACESSIBILIDADE_CORRIMAO',\n",
    "'IN_ACESSIBILIDADE_ELEVADOR',\n",
    "'IN_ACESSIBILIDADE_PISOS_TATEIS',\n",
    "'IN_ACESSIBILIDADE_VAO_LIVRE',\n",
    "'IN_ACESSIBILIDADE_RAMPAS',\n",
    "'IN_ACESSIBILIDADE_SINAL_SONORO',\n",
    "'IN_ACESSIBILIDADE_SINAL_TATIL',\n",
    "'IN_ACESSIBILIDADE_SINAL_VISUAL',\n",
    "'IN_ACESSIBILIDADE_INEXISTENTE',\n",
    "\n",
    "'QT_SALAS_UTILIZADAS_DENTRO',\n",
    "'QT_SALAS_UTILIZADAS_FORA',\n",
    "'QT_SALAS_UTILIZADAS',\n",
    "'QT_SALAS_UTILIZA_CLIMATIZADAS',\n",
    "'QT_SALAS_UTILIZADAS_ACESSIVEIS',\n",
    "\n",
    "'IN_EQUIP_PARABOLICA',\n",
    "'IN_COMPUTADOR',\n",
    "'IN_EQUIP_COPIADORA',\n",
    "'IN_EQUIP_IMPRESSORA',\n",
    "'IN_EQUIP_IMPRESSORA_MULT',\n",
    "'IN_EQUIP_SCANNER',\n",
    "\n",
    "'QT_EQUIP_DVD',\n",
    "'QT_EQUIP_SOM',\n",
    "'QT_EQUIP_TV',\n",
    "'QT_EQUIP_LOUSA_DIGITAL',\n",
    "'QT_EQUIP_MULTIMIDIA',\n",
    "'QT_DESKTOP_ALUNO',\n",
    "'QT_COMP_PORTATIL_ALUNO',\n",
    "'QT_TABLET_ALUNO',\n",
    "\n",
    "'IN_INTERNET',\n",
    "'IN_INTERNET_ALUNOS',\n",
    "'IN_INTERNET_ADMINISTRATIVO',\n",
    "'IN_INTERNET_APRENDIZAGEM',\n",
    "'IN_INTERNET_COMUNIDADE',\n",
    "'IN_ACESSO_INTERNET_COMPUTADOR',\n",
    "'IN_ACES_INTERNET_DISP_PESSOAIS',\n",
    "'TP_REDE_LOCAL',\n",
    "'IN_BANDA_LARGA',\n",
    "\n",
    "'IN_MATERIAL_PED_MULTIMIDIA',\n",
    "'IN_MATERIAL_PED_INFANTIL',\n",
    "'IN_MATERIAL_PED_CIENTIFICO',\n",
    "'IN_MATERIAL_PED_DIFUSAO',\n",
    "'IN_MATERIAL_PED_MUSICAL',\n",
    "'IN_MATERIAL_PED_JOGOS',\n",
    "'IN_MATERIAL_PED_ARTISTICAS',\n",
    "'IN_MATERIAL_PED_PROFISSIONAL',\n",
    "'IN_MATERIAL_PED_DESPORTIVA',\n",
    "'IN_MATERIAL_PED_INDIGENA',\n",
    "'IN_MATERIAL_PED_ETNICO',\n",
    "'IN_MATERIAL_PED_CAMPO',\n",
    "'IN_MATERIAL_PED_BIL_SURDOS',\n",
    "'IN_MATERIAL_PED_NENHUM',\n",
    "\n",
    "'QT_MAT_BAS'\n",
    "]\n",
    "\n",
    "len(cols)"
   ]
  },
  {
   "cell_type": "code",
   "execution_count": 5,
   "metadata": {},
   "outputs": [
    {
     "data": {
      "text/plain": [
       "47"
      ]
     },
     "execution_count": 5,
     "metadata": {},
     "output_type": "execute_result"
    }
   ],
   "source": [
    "cols_matriculas = [\n",
    "'QT_MAT_INF',\n",
    "'QT_MAT_INF_CRE',\n",
    "'QT_MAT_INF_PRE',\n",
    "'QT_MAT_FUND',\n",
    "'QT_MAT_FUND_AI',\n",
    "'QT_MAT_FUND_AI_1',\n",
    "'QT_MAT_FUND_AI_2',\n",
    "'QT_MAT_FUND_AI_3',\n",
    "'QT_MAT_FUND_AI_4',\n",
    "'QT_MAT_FUND_AI_5',\n",
    "'QT_MAT_FUND_AF',\n",
    "'QT_MAT_FUND_AF_6',\n",
    "'QT_MAT_FUND_AF_7',\n",
    "'QT_MAT_FUND_AF_8',\n",
    "'QT_MAT_FUND_AF_9',\n",
    "'QT_MAT_MED',\n",
    "'QT_MAT_MED_PROP',\n",
    "'QT_MAT_MED_PROP_1',\n",
    "'QT_MAT_MED_PROP_2',\n",
    "'QT_MAT_MED_PROP_3',\n",
    "'QT_MAT_MED_PROP_4',\n",
    "'QT_MAT_MED_PROP_NS',\n",
    "'QT_MAT_MED_CT',\n",
    "'QT_MAT_MED_CT_1',\n",
    "'QT_MAT_MED_CT_2',\n",
    "'QT_MAT_MED_CT_3',\n",
    "'QT_MAT_MED_CT_4',\n",
    "'QT_MAT_MED_CT_NS',\n",
    "'QT_MAT_MED_NM',\n",
    "'QT_MAT_MED_NM_1',\n",
    "'QT_MAT_MED_NM_2',\n",
    "'QT_MAT_MED_NM_3',\n",
    "'QT_MAT_MED_NM_4',\n",
    "'QT_MAT_PROF',\n",
    "'QT_MAT_PROF_TEC',\n",
    "'QT_MAT_PROF_TEC_CONC',\n",
    "'QT_MAT_PROF_TEC_SUBS',\n",
    "'QT_MAT_PROF_FIC_CONC',\n",
    "'QT_MAT_EJA',\n",
    "'QT_MAT_EJA_FUND',\n",
    "'QT_MAT_EJA_FUND_AI',\n",
    "'QT_MAT_EJA_FUND_AF',\n",
    "'QT_MAT_EJA_FUND_FIC',\n",
    "'QT_MAT_EJA_MED',\n",
    "'QT_MAT_EJA_MED_NPROF',\n",
    "'QT_MAT_EJA_MED_FIC',\n",
    "'QT_MAT_EJA_MED_TEC']\n",
    "\n",
    "len(cols_matriculas)"
   ]
  },
  {
   "cell_type": "markdown",
   "metadata": {},
   "source": [
    "## Tratamento dos Dados"
   ]
  },
  {
   "cell_type": "code",
   "execution_count": 6,
   "metadata": {},
   "outputs": [
    {
     "name": "stderr",
     "output_type": "stream",
     "text": [
      "C:\\Users\\cinthia.nagahama.VERT\\AppData\\Local\\Temp\\ipykernel_25968\\1212909949.py:1: DtypeWarning: Columns (31) have mixed types. Specify dtype option on import or set low_memory=False.\n",
      "  df = pd.read_csv('data\\\\dados\\\\microdados_ed_basica_2023.csv', sep=';', encoding='ANSI')\n"
     ]
    },
    {
     "data": {
      "text/plain": [
       "(217625, 174)"
      ]
     },
     "execution_count": 6,
     "metadata": {},
     "output_type": "execute_result"
    }
   ],
   "source": [
    "df = pd.read_csv('data\\\\dados\\\\microdados_ed_basica_2023.csv', sep=';', encoding='ANSI')\n",
    "df = df[cols + cols_matriculas]\n",
    "df.shape"
   ]
  },
  {
   "cell_type": "code",
   "execution_count": 7,
   "metadata": {},
   "outputs": [
    {
     "data": {
      "text/plain": [
       "(180230, 174)"
      ]
     },
     "execution_count": 7,
     "metadata": {},
     "output_type": "execute_result"
    }
   ],
   "source": [
    "# Mantendo apenas escolas em atividade\n",
    "df = df[df['TP_SITUACAO_FUNCIONAMENTO'] == 1]\n",
    "df.shape"
   ]
  },
  {
   "cell_type": "code",
   "execution_count": 8,
   "metadata": {},
   "outputs": [],
   "source": [
    "cols_remover = []"
   ]
  },
  {
   "cell_type": "markdown",
   "metadata": {},
   "source": [
    "### Quantidade de Matrículas"
   ]
  },
  {
   "cell_type": "markdown",
   "metadata": {},
   "source": [
    "#### Educação Infantil - OK"
   ]
  },
  {
   "cell_type": "code",
   "execution_count": 9,
   "metadata": {},
   "outputs": [],
   "source": [
    "temp = ['QT_MAT_INF', 'QT_MAT_INF_CRE', 'QT_MAT_INF_PRE']"
   ]
  },
  {
   "cell_type": "code",
   "execution_count": 10,
   "metadata": {},
   "outputs": [
    {
     "name": "stdout",
     "output_type": "stream",
     "text": [
      "\n",
      "Quantidade de valores ausentes\n"
     ]
    },
    {
     "data": {
      "text/plain": [
       "QT_MAT_INF\n",
       "False    178476\n",
       "True       1754\n",
       "Name: count, dtype: int64"
      ]
     },
     "metadata": {},
     "output_type": "display_data"
    }
   ],
   "source": [
    "basic_exploration(df, 'QT_MAT_INF', 'numeric')"
   ]
  },
  {
   "cell_type": "code",
   "execution_count": 11,
   "metadata": {},
   "outputs": [
    {
     "name": "stdout",
     "output_type": "stream",
     "text": [
      "\n",
      "Quantidade de valores ausentes\n"
     ]
    },
    {
     "data": {
      "text/plain": [
       "QT_MAT_INF_CRE\n",
       "False    178476\n",
       "True       1754\n",
       "Name: count, dtype: int64"
      ]
     },
     "metadata": {},
     "output_type": "display_data"
    }
   ],
   "source": [
    "basic_exploration(df, 'QT_MAT_INF_CRE', 'numeric')"
   ]
  },
  {
   "cell_type": "code",
   "execution_count": 12,
   "metadata": {},
   "outputs": [
    {
     "name": "stdout",
     "output_type": "stream",
     "text": [
      "\n",
      "Quantidade de valores ausentes\n"
     ]
    },
    {
     "data": {
      "text/plain": [
       "QT_MAT_INF_PRE\n",
       "False    178476\n",
       "True       1754\n",
       "Name: count, dtype: int64"
      ]
     },
     "metadata": {},
     "output_type": "display_data"
    }
   ],
   "source": [
    "basic_exploration(df, 'QT_MAT_INF_PRE', 'numeric')"
   ]
  },
  {
   "cell_type": "code",
   "execution_count": 13,
   "metadata": {},
   "outputs": [
    {
     "data": {
      "text/plain": [
       "QT_MAT_INF  QT_MAT_INF_CRE  QT_MAT_INF_PRE\n",
       "False       False           False             178476\n",
       "True        True            True                1754\n",
       "Name: count, dtype: int64"
      ]
     },
     "execution_count": 13,
     "metadata": {},
     "output_type": "execute_result"
    }
   ],
   "source": [
    "df[temp].isna().value_counts()"
   ]
  },
  {
   "cell_type": "code",
   "execution_count": 14,
   "metadata": {},
   "outputs": [
    {
     "data": {
      "text/html": [
       "<div>\n",
       "<style scoped>\n",
       "    .dataframe tbody tr th:only-of-type {\n",
       "        vertical-align: middle;\n",
       "    }\n",
       "\n",
       "    .dataframe tbody tr th {\n",
       "        vertical-align: top;\n",
       "    }\n",
       "\n",
       "    .dataframe thead th {\n",
       "        text-align: right;\n",
       "    }\n",
       "</style>\n",
       "<table border=\"1\" class=\"dataframe\">\n",
       "  <thead>\n",
       "    <tr style=\"text-align: right;\">\n",
       "      <th></th>\n",
       "      <th>NO_ENTIDADE</th>\n",
       "      <th>QT_MAT_INF</th>\n",
       "      <th>QT_MAT_INF_CRE</th>\n",
       "      <th>QT_MAT_INF_PRE</th>\n",
       "    </tr>\n",
       "  </thead>\n",
       "  <tbody>\n",
       "    <tr>\n",
       "      <th>246</th>\n",
       "      <td>ESCOLA DE EDUCACAO ESPECIAL NOVO MUNDO - ASSOC...</td>\n",
       "      <td>NaN</td>\n",
       "      <td>NaN</td>\n",
       "      <td>NaN</td>\n",
       "    </tr>\n",
       "    <tr>\n",
       "      <th>247</th>\n",
       "      <td>APAE DE ARIQUEMES</td>\n",
       "      <td>NaN</td>\n",
       "      <td>NaN</td>\n",
       "      <td>NaN</td>\n",
       "    </tr>\n",
       "    <tr>\n",
       "      <th>377</th>\n",
       "      <td>APAE DE JI PARANA - INSTITUTO DE EDUCACAO ESPE...</td>\n",
       "      <td>NaN</td>\n",
       "      <td>NaN</td>\n",
       "      <td>NaN</td>\n",
       "    </tr>\n",
       "    <tr>\n",
       "      <th>545</th>\n",
       "      <td>CENTRO EDUCACIONAL DE ROLIM DE MOURA</td>\n",
       "      <td>NaN</td>\n",
       "      <td>NaN</td>\n",
       "      <td>NaN</td>\n",
       "    </tr>\n",
       "    <tr>\n",
       "      <th>598</th>\n",
       "      <td>ESCOLA DE ENSINO ESPECIAL DENISE ACCORSI TOMIO...</td>\n",
       "      <td>NaN</td>\n",
       "      <td>NaN</td>\n",
       "      <td>NaN</td>\n",
       "    </tr>\n",
       "    <tr>\n",
       "      <th>...</th>\n",
       "      <td>...</td>\n",
       "      <td>...</td>\n",
       "      <td>...</td>\n",
       "      <td>...</td>\n",
       "    </tr>\n",
       "    <tr>\n",
       "      <th>217372</th>\n",
       "      <td>CIL DO RIACHO FUNDO I</td>\n",
       "      <td>NaN</td>\n",
       "      <td>NaN</td>\n",
       "      <td>NaN</td>\n",
       "    </tr>\n",
       "    <tr>\n",
       "      <th>217402</th>\n",
       "      <td>CIL DO RIACHO FUNDO II</td>\n",
       "      <td>NaN</td>\n",
       "      <td>NaN</td>\n",
       "      <td>NaN</td>\n",
       "    </tr>\n",
       "    <tr>\n",
       "      <th>217464</th>\n",
       "      <td>CENTRO DE ENSINO GRAU TECNICO - UNIDADE BRASILIA</td>\n",
       "      <td>NaN</td>\n",
       "      <td>NaN</td>\n",
       "      <td>NaN</td>\n",
       "    </tr>\n",
       "    <tr>\n",
       "      <th>217476</th>\n",
       "      <td>EP DA NATUREZA E ESPORTE</td>\n",
       "      <td>NaN</td>\n",
       "      <td>NaN</td>\n",
       "      <td>NaN</td>\n",
       "    </tr>\n",
       "    <tr>\n",
       "      <th>217520</th>\n",
       "      <td>CEP ESCOLA SABORES OSCAR</td>\n",
       "      <td>NaN</td>\n",
       "      <td>NaN</td>\n",
       "      <td>NaN</td>\n",
       "    </tr>\n",
       "  </tbody>\n",
       "</table>\n",
       "<p>1754 rows × 4 columns</p>\n",
       "</div>"
      ],
      "text/plain": [
       "                                              NO_ENTIDADE  QT_MAT_INF  \\\n",
       "246     ESCOLA DE EDUCACAO ESPECIAL NOVO MUNDO - ASSOC...         NaN   \n",
       "247                                     APAE DE ARIQUEMES         NaN   \n",
       "377     APAE DE JI PARANA - INSTITUTO DE EDUCACAO ESPE...         NaN   \n",
       "545                  CENTRO EDUCACIONAL DE ROLIM DE MOURA         NaN   \n",
       "598     ESCOLA DE ENSINO ESPECIAL DENISE ACCORSI TOMIO...         NaN   \n",
       "...                                                   ...         ...   \n",
       "217372                              CIL DO RIACHO FUNDO I         NaN   \n",
       "217402                             CIL DO RIACHO FUNDO II         NaN   \n",
       "217464   CENTRO DE ENSINO GRAU TECNICO - UNIDADE BRASILIA         NaN   \n",
       "217476                           EP DA NATUREZA E ESPORTE         NaN   \n",
       "217520                           CEP ESCOLA SABORES OSCAR         NaN   \n",
       "\n",
       "        QT_MAT_INF_CRE  QT_MAT_INF_PRE  \n",
       "246                NaN             NaN  \n",
       "247                NaN             NaN  \n",
       "377                NaN             NaN  \n",
       "545                NaN             NaN  \n",
       "598                NaN             NaN  \n",
       "...                ...             ...  \n",
       "217372             NaN             NaN  \n",
       "217402             NaN             NaN  \n",
       "217464             NaN             NaN  \n",
       "217476             NaN             NaN  \n",
       "217520             NaN             NaN  \n",
       "\n",
       "[1754 rows x 4 columns]"
      ]
     },
     "execution_count": 14,
     "metadata": {},
     "output_type": "execute_result"
    }
   ],
   "source": [
    "df[df['QT_MAT_INF'].isna()][['NO_ENTIDADE'] + temp]"
   ]
  },
  {
   "cell_type": "code",
   "execution_count": 15,
   "metadata": {},
   "outputs": [
    {
     "data": {
      "text/html": [
       "<div>\n",
       "<style scoped>\n",
       "    .dataframe tbody tr th:only-of-type {\n",
       "        vertical-align: middle;\n",
       "    }\n",
       "\n",
       "    .dataframe tbody tr th {\n",
       "        vertical-align: top;\n",
       "    }\n",
       "\n",
       "    .dataframe thead th {\n",
       "        text-align: right;\n",
       "    }\n",
       "</style>\n",
       "<table border=\"1\" class=\"dataframe\">\n",
       "  <thead>\n",
       "    <tr style=\"text-align: right;\">\n",
       "      <th></th>\n",
       "      <th>QT_MAT_INF</th>\n",
       "      <th>QT_MAT_INF_CRE</th>\n",
       "      <th>QT_MAT_INF_PRE</th>\n",
       "    </tr>\n",
       "  </thead>\n",
       "  <tbody>\n",
       "  </tbody>\n",
       "</table>\n",
       "</div>"
      ],
      "text/plain": [
       "Empty DataFrame\n",
       "Columns: [QT_MAT_INF, QT_MAT_INF_CRE, QT_MAT_INF_PRE]\n",
       "Index: []"
      ]
     },
     "execution_count": 15,
     "metadata": {},
     "output_type": "execute_result"
    }
   ],
   "source": [
    "df[(~df['QT_MAT_INF'].isna()) & (df['QT_MAT_INF'] != df[temp[1:]].sum(axis=1))][temp]"
   ]
  },
  {
   "cell_type": "markdown",
   "metadata": {},
   "source": [
    "#### Ensino Fundamental - OK"
   ]
  },
  {
   "cell_type": "code",
   "execution_count": 16,
   "metadata": {},
   "outputs": [],
   "source": [
    "temp = ['QT_MAT_FUND', \n",
    "        'QT_MAT_FUND_AI', 'QT_MAT_FUND_AI_1', 'QT_MAT_FUND_AI_2', 'QT_MAT_FUND_AI_3', 'QT_MAT_FUND_AI_4', 'QT_MAT_FUND_AI_5', \n",
    "        'QT_MAT_FUND_AF', 'QT_MAT_FUND_AF_6', 'QT_MAT_FUND_AF_7', 'QT_MAT_FUND_AF_8', 'QT_MAT_FUND_AF_9',]"
   ]
  },
  {
   "cell_type": "code",
   "execution_count": 17,
   "metadata": {},
   "outputs": [
    {
     "name": "stdout",
     "output_type": "stream",
     "text": [
      "\n",
      "Quantidade de valores ausentes\n"
     ]
    },
    {
     "data": {
      "text/plain": [
       "QT_MAT_FUND\n",
       "False    178476\n",
       "True       1754\n",
       "Name: count, dtype: int64"
      ]
     },
     "metadata": {},
     "output_type": "display_data"
    },
    {
     "name": "stdout",
     "output_type": "stream",
     "text": [
      "\n",
      "Quantidade de valores ausentes\n"
     ]
    },
    {
     "data": {
      "text/plain": [
       "QT_MAT_FUND_AI\n",
       "False    178476\n",
       "True       1754\n",
       "Name: count, dtype: int64"
      ]
     },
     "metadata": {},
     "output_type": "display_data"
    },
    {
     "name": "stdout",
     "output_type": "stream",
     "text": [
      "\n",
      "Quantidade de valores ausentes\n"
     ]
    },
    {
     "data": {
      "text/plain": [
       "QT_MAT_FUND_AI_1\n",
       "False    178476\n",
       "True       1754\n",
       "Name: count, dtype: int64"
      ]
     },
     "metadata": {},
     "output_type": "display_data"
    },
    {
     "name": "stdout",
     "output_type": "stream",
     "text": [
      "\n",
      "Quantidade de valores ausentes\n"
     ]
    },
    {
     "data": {
      "text/plain": [
       "QT_MAT_FUND_AI_2\n",
       "False    178476\n",
       "True       1754\n",
       "Name: count, dtype: int64"
      ]
     },
     "metadata": {},
     "output_type": "display_data"
    },
    {
     "name": "stdout",
     "output_type": "stream",
     "text": [
      "\n",
      "Quantidade de valores ausentes\n"
     ]
    },
    {
     "data": {
      "text/plain": [
       "QT_MAT_FUND_AI_3\n",
       "False    178476\n",
       "True       1754\n",
       "Name: count, dtype: int64"
      ]
     },
     "metadata": {},
     "output_type": "display_data"
    },
    {
     "name": "stdout",
     "output_type": "stream",
     "text": [
      "\n",
      "Quantidade de valores ausentes\n"
     ]
    },
    {
     "data": {
      "text/plain": [
       "QT_MAT_FUND_AI_4\n",
       "False    178476\n",
       "True       1754\n",
       "Name: count, dtype: int64"
      ]
     },
     "metadata": {},
     "output_type": "display_data"
    },
    {
     "name": "stdout",
     "output_type": "stream",
     "text": [
      "\n",
      "Quantidade de valores ausentes\n"
     ]
    },
    {
     "data": {
      "text/plain": [
       "QT_MAT_FUND_AI_5\n",
       "False    178476\n",
       "True       1754\n",
       "Name: count, dtype: int64"
      ]
     },
     "metadata": {},
     "output_type": "display_data"
    },
    {
     "name": "stdout",
     "output_type": "stream",
     "text": [
      "\n",
      "Quantidade de valores ausentes\n"
     ]
    },
    {
     "data": {
      "text/plain": [
       "QT_MAT_FUND_AF\n",
       "False    178476\n",
       "True       1754\n",
       "Name: count, dtype: int64"
      ]
     },
     "metadata": {},
     "output_type": "display_data"
    },
    {
     "name": "stdout",
     "output_type": "stream",
     "text": [
      "\n",
      "Quantidade de valores ausentes\n"
     ]
    },
    {
     "data": {
      "text/plain": [
       "QT_MAT_FUND_AF_6\n",
       "False    178476\n",
       "True       1754\n",
       "Name: count, dtype: int64"
      ]
     },
     "metadata": {},
     "output_type": "display_data"
    },
    {
     "name": "stdout",
     "output_type": "stream",
     "text": [
      "\n",
      "Quantidade de valores ausentes\n"
     ]
    },
    {
     "data": {
      "text/plain": [
       "QT_MAT_FUND_AF_7\n",
       "False    178476\n",
       "True       1754\n",
       "Name: count, dtype: int64"
      ]
     },
     "metadata": {},
     "output_type": "display_data"
    },
    {
     "name": "stdout",
     "output_type": "stream",
     "text": [
      "\n",
      "Quantidade de valores ausentes\n"
     ]
    },
    {
     "data": {
      "text/plain": [
       "QT_MAT_FUND_AF_8\n",
       "False    178476\n",
       "True       1754\n",
       "Name: count, dtype: int64"
      ]
     },
     "metadata": {},
     "output_type": "display_data"
    },
    {
     "name": "stdout",
     "output_type": "stream",
     "text": [
      "\n",
      "Quantidade de valores ausentes\n"
     ]
    },
    {
     "data": {
      "text/plain": [
       "QT_MAT_FUND_AF_9\n",
       "False    178476\n",
       "True       1754\n",
       "Name: count, dtype: int64"
      ]
     },
     "metadata": {},
     "output_type": "display_data"
    }
   ],
   "source": [
    "for t in temp:\n",
    "    basic_exploration(df, t, 'numeric')"
   ]
  },
  {
   "cell_type": "code",
   "execution_count": 18,
   "metadata": {},
   "outputs": [
    {
     "data": {
      "text/plain": [
       "QT_MAT_FUND  QT_MAT_FUND_AI  QT_MAT_FUND_AI_1  QT_MAT_FUND_AI_2  QT_MAT_FUND_AI_3  QT_MAT_FUND_AI_4  QT_MAT_FUND_AI_5  QT_MAT_FUND_AF  QT_MAT_FUND_AF_6  QT_MAT_FUND_AF_7  QT_MAT_FUND_AF_8  QT_MAT_FUND_AF_9\n",
       "False        False           False             False             False             False             False             False           False             False             False             False               178476\n",
       "True         True            True              True              True              True              True              True            True              True              True              True                  1754\n",
       "Name: count, dtype: int64"
      ]
     },
     "execution_count": 18,
     "metadata": {},
     "output_type": "execute_result"
    }
   ],
   "source": [
    "df[temp].isna().value_counts()"
   ]
  },
  {
   "cell_type": "code",
   "execution_count": 19,
   "metadata": {},
   "outputs": [
    {
     "data": {
      "text/html": [
       "<div>\n",
       "<style scoped>\n",
       "    .dataframe tbody tr th:only-of-type {\n",
       "        vertical-align: middle;\n",
       "    }\n",
       "\n",
       "    .dataframe tbody tr th {\n",
       "        vertical-align: top;\n",
       "    }\n",
       "\n",
       "    .dataframe thead th {\n",
       "        text-align: right;\n",
       "    }\n",
       "</style>\n",
       "<table border=\"1\" class=\"dataframe\">\n",
       "  <thead>\n",
       "    <tr style=\"text-align: right;\">\n",
       "      <th></th>\n",
       "      <th>QT_MAT_FUND_AI</th>\n",
       "      <th>QT_MAT_FUND_AI_1</th>\n",
       "      <th>QT_MAT_FUND_AI_2</th>\n",
       "      <th>QT_MAT_FUND_AI_3</th>\n",
       "      <th>QT_MAT_FUND_AI_4</th>\n",
       "      <th>QT_MAT_FUND_AI_5</th>\n",
       "    </tr>\n",
       "  </thead>\n",
       "  <tbody>\n",
       "  </tbody>\n",
       "</table>\n",
       "</div>"
      ],
      "text/plain": [
       "Empty DataFrame\n",
       "Columns: [QT_MAT_FUND_AI, QT_MAT_FUND_AI_1, QT_MAT_FUND_AI_2, QT_MAT_FUND_AI_3, QT_MAT_FUND_AI_4, QT_MAT_FUND_AI_5]\n",
       "Index: []"
      ]
     },
     "execution_count": 19,
     "metadata": {},
     "output_type": "execute_result"
    }
   ],
   "source": [
    "# Anos Iniciais\n",
    "df[(~df['QT_MAT_FUND_AI'].isna()) & (df['QT_MAT_FUND_AI'] != df[temp[2:7]].sum(axis=1))][temp[1:7]]"
   ]
  },
  {
   "cell_type": "code",
   "execution_count": 20,
   "metadata": {},
   "outputs": [
    {
     "data": {
      "text/html": [
       "<div>\n",
       "<style scoped>\n",
       "    .dataframe tbody tr th:only-of-type {\n",
       "        vertical-align: middle;\n",
       "    }\n",
       "\n",
       "    .dataframe tbody tr th {\n",
       "        vertical-align: top;\n",
       "    }\n",
       "\n",
       "    .dataframe thead th {\n",
       "        text-align: right;\n",
       "    }\n",
       "</style>\n",
       "<table border=\"1\" class=\"dataframe\">\n",
       "  <thead>\n",
       "    <tr style=\"text-align: right;\">\n",
       "      <th></th>\n",
       "      <th>QT_MAT_FUND_AF</th>\n",
       "      <th>QT_MAT_FUND_AF_6</th>\n",
       "      <th>QT_MAT_FUND_AF_7</th>\n",
       "      <th>QT_MAT_FUND_AF_8</th>\n",
       "      <th>QT_MAT_FUND_AF_9</th>\n",
       "    </tr>\n",
       "  </thead>\n",
       "  <tbody>\n",
       "  </tbody>\n",
       "</table>\n",
       "</div>"
      ],
      "text/plain": [
       "Empty DataFrame\n",
       "Columns: [QT_MAT_FUND_AF, QT_MAT_FUND_AF_6, QT_MAT_FUND_AF_7, QT_MAT_FUND_AF_8, QT_MAT_FUND_AF_9]\n",
       "Index: []"
      ]
     },
     "execution_count": 20,
     "metadata": {},
     "output_type": "execute_result"
    }
   ],
   "source": [
    "# Anos Finais\n",
    "df[(~df['QT_MAT_FUND_AF'].isna()) & (df['QT_MAT_FUND_AF'] != df[temp[8:]].sum(axis=1))][temp[7:]]"
   ]
  },
  {
   "cell_type": "code",
   "execution_count": 21,
   "metadata": {},
   "outputs": [
    {
     "data": {
      "text/html": [
       "<div>\n",
       "<style scoped>\n",
       "    .dataframe tbody tr th:only-of-type {\n",
       "        vertical-align: middle;\n",
       "    }\n",
       "\n",
       "    .dataframe tbody tr th {\n",
       "        vertical-align: top;\n",
       "    }\n",
       "\n",
       "    .dataframe thead th {\n",
       "        text-align: right;\n",
       "    }\n",
       "</style>\n",
       "<table border=\"1\" class=\"dataframe\">\n",
       "  <thead>\n",
       "    <tr style=\"text-align: right;\">\n",
       "      <th></th>\n",
       "      <th>QT_MAT_FUND</th>\n",
       "      <th>QT_MAT_FUND_AI</th>\n",
       "      <th>QT_MAT_FUND_AF</th>\n",
       "    </tr>\n",
       "  </thead>\n",
       "  <tbody>\n",
       "  </tbody>\n",
       "</table>\n",
       "</div>"
      ],
      "text/plain": [
       "Empty DataFrame\n",
       "Columns: [QT_MAT_FUND, QT_MAT_FUND_AI, QT_MAT_FUND_AF]\n",
       "Index: []"
      ]
     },
     "execution_count": 21,
     "metadata": {},
     "output_type": "execute_result"
    }
   ],
   "source": [
    "# Ensino Fundamental\n",
    "df[(~df['QT_MAT_FUND'].isna()) & (df['QT_MAT_FUND'] != df[['QT_MAT_FUND_AI', 'QT_MAT_FUND_AF']].sum(axis=1))][['QT_MAT_FUND', 'QT_MAT_FUND_AI', 'QT_MAT_FUND_AF']]"
   ]
  },
  {
   "cell_type": "markdown",
   "metadata": {},
   "source": [
    "#### Ensino Médio - OK"
   ]
  },
  {
   "cell_type": "code",
   "execution_count": 22,
   "metadata": {},
   "outputs": [],
   "source": [
    "temp = ['QT_MAT_MED', \n",
    "        'QT_MAT_MED_PROP', 'QT_MAT_MED_PROP_1', 'QT_MAT_MED_PROP_2', 'QT_MAT_MED_PROP_3', 'QT_MAT_MED_PROP_4', 'QT_MAT_MED_PROP_NS', \n",
    "        'QT_MAT_MED_CT', 'QT_MAT_MED_CT_1', 'QT_MAT_MED_CT_2', 'QT_MAT_MED_CT_3', 'QT_MAT_MED_CT_4', 'QT_MAT_MED_CT_NS', \n",
    "        'QT_MAT_MED_NM', 'QT_MAT_MED_NM_1', 'QT_MAT_MED_NM_2', 'QT_MAT_MED_NM_3', 'QT_MAT_MED_NM_4',]"
   ]
  },
  {
   "cell_type": "code",
   "execution_count": 23,
   "metadata": {},
   "outputs": [
    {
     "name": "stdout",
     "output_type": "stream",
     "text": [
      "\n",
      "Quantidade de valores ausentes\n"
     ]
    },
    {
     "data": {
      "text/plain": [
       "QT_MAT_MED\n",
       "False    178476\n",
       "True       1754\n",
       "Name: count, dtype: int64"
      ]
     },
     "metadata": {},
     "output_type": "display_data"
    },
    {
     "name": "stdout",
     "output_type": "stream",
     "text": [
      "\n",
      "Quantidade de valores ausentes\n"
     ]
    },
    {
     "data": {
      "text/plain": [
       "QT_MAT_MED_PROP\n",
       "False    178476\n",
       "True       1754\n",
       "Name: count, dtype: int64"
      ]
     },
     "metadata": {},
     "output_type": "display_data"
    },
    {
     "name": "stdout",
     "output_type": "stream",
     "text": [
      "\n",
      "Quantidade de valores ausentes\n"
     ]
    },
    {
     "data": {
      "text/plain": [
       "QT_MAT_MED_PROP_1\n",
       "False    178476\n",
       "True       1754\n",
       "Name: count, dtype: int64"
      ]
     },
     "metadata": {},
     "output_type": "display_data"
    },
    {
     "name": "stdout",
     "output_type": "stream",
     "text": [
      "\n",
      "Quantidade de valores ausentes\n"
     ]
    },
    {
     "data": {
      "text/plain": [
       "QT_MAT_MED_PROP_2\n",
       "False    178476\n",
       "True       1754\n",
       "Name: count, dtype: int64"
      ]
     },
     "metadata": {},
     "output_type": "display_data"
    },
    {
     "name": "stdout",
     "output_type": "stream",
     "text": [
      "\n",
      "Quantidade de valores ausentes\n"
     ]
    },
    {
     "data": {
      "text/plain": [
       "QT_MAT_MED_PROP_3\n",
       "False    178476\n",
       "True       1754\n",
       "Name: count, dtype: int64"
      ]
     },
     "metadata": {},
     "output_type": "display_data"
    },
    {
     "name": "stdout",
     "output_type": "stream",
     "text": [
      "\n",
      "Quantidade de valores ausentes\n"
     ]
    },
    {
     "data": {
      "text/plain": [
       "QT_MAT_MED_PROP_4\n",
       "False    178476\n",
       "True       1754\n",
       "Name: count, dtype: int64"
      ]
     },
     "metadata": {},
     "output_type": "display_data"
    },
    {
     "name": "stdout",
     "output_type": "stream",
     "text": [
      "\n",
      "Quantidade de valores ausentes\n"
     ]
    },
    {
     "data": {
      "text/plain": [
       "QT_MAT_MED_PROP_NS\n",
       "False    178476\n",
       "True       1754\n",
       "Name: count, dtype: int64"
      ]
     },
     "metadata": {},
     "output_type": "display_data"
    },
    {
     "name": "stdout",
     "output_type": "stream",
     "text": [
      "\n",
      "Quantidade de valores ausentes\n"
     ]
    },
    {
     "data": {
      "text/plain": [
       "QT_MAT_MED_CT\n",
       "False    178476\n",
       "True       1754\n",
       "Name: count, dtype: int64"
      ]
     },
     "metadata": {},
     "output_type": "display_data"
    },
    {
     "name": "stdout",
     "output_type": "stream",
     "text": [
      "\n",
      "Quantidade de valores ausentes\n"
     ]
    },
    {
     "data": {
      "text/plain": [
       "QT_MAT_MED_CT_1\n",
       "False    178476\n",
       "True       1754\n",
       "Name: count, dtype: int64"
      ]
     },
     "metadata": {},
     "output_type": "display_data"
    },
    {
     "name": "stdout",
     "output_type": "stream",
     "text": [
      "\n",
      "Quantidade de valores ausentes\n"
     ]
    },
    {
     "data": {
      "text/plain": [
       "QT_MAT_MED_CT_2\n",
       "False    178476\n",
       "True       1754\n",
       "Name: count, dtype: int64"
      ]
     },
     "metadata": {},
     "output_type": "display_data"
    },
    {
     "name": "stdout",
     "output_type": "stream",
     "text": [
      "\n",
      "Quantidade de valores ausentes\n"
     ]
    },
    {
     "data": {
      "text/plain": [
       "QT_MAT_MED_CT_3\n",
       "False    178476\n",
       "True       1754\n",
       "Name: count, dtype: int64"
      ]
     },
     "metadata": {},
     "output_type": "display_data"
    },
    {
     "name": "stdout",
     "output_type": "stream",
     "text": [
      "\n",
      "Quantidade de valores ausentes\n"
     ]
    },
    {
     "data": {
      "text/plain": [
       "QT_MAT_MED_CT_4\n",
       "False    178476\n",
       "True       1754\n",
       "Name: count, dtype: int64"
      ]
     },
     "metadata": {},
     "output_type": "display_data"
    },
    {
     "name": "stdout",
     "output_type": "stream",
     "text": [
      "\n",
      "Quantidade de valores ausentes\n"
     ]
    },
    {
     "data": {
      "text/plain": [
       "QT_MAT_MED_CT_NS\n",
       "False    178476\n",
       "True       1754\n",
       "Name: count, dtype: int64"
      ]
     },
     "metadata": {},
     "output_type": "display_data"
    },
    {
     "name": "stdout",
     "output_type": "stream",
     "text": [
      "\n",
      "Quantidade de valores ausentes\n"
     ]
    },
    {
     "data": {
      "text/plain": [
       "QT_MAT_MED_NM\n",
       "False    178476\n",
       "True       1754\n",
       "Name: count, dtype: int64"
      ]
     },
     "metadata": {},
     "output_type": "display_data"
    },
    {
     "name": "stdout",
     "output_type": "stream",
     "text": [
      "\n",
      "Quantidade de valores ausentes\n"
     ]
    },
    {
     "data": {
      "text/plain": [
       "QT_MAT_MED_NM_1\n",
       "False    178476\n",
       "True       1754\n",
       "Name: count, dtype: int64"
      ]
     },
     "metadata": {},
     "output_type": "display_data"
    },
    {
     "name": "stdout",
     "output_type": "stream",
     "text": [
      "\n",
      "Quantidade de valores ausentes\n"
     ]
    },
    {
     "data": {
      "text/plain": [
       "QT_MAT_MED_NM_2\n",
       "False    178476\n",
       "True       1754\n",
       "Name: count, dtype: int64"
      ]
     },
     "metadata": {},
     "output_type": "display_data"
    },
    {
     "name": "stdout",
     "output_type": "stream",
     "text": [
      "\n",
      "Quantidade de valores ausentes\n"
     ]
    },
    {
     "data": {
      "text/plain": [
       "QT_MAT_MED_NM_3\n",
       "False    178476\n",
       "True       1754\n",
       "Name: count, dtype: int64"
      ]
     },
     "metadata": {},
     "output_type": "display_data"
    },
    {
     "name": "stdout",
     "output_type": "stream",
     "text": [
      "\n",
      "Quantidade de valores ausentes\n"
     ]
    },
    {
     "data": {
      "text/plain": [
       "QT_MAT_MED_NM_4\n",
       "False    178476\n",
       "True       1754\n",
       "Name: count, dtype: int64"
      ]
     },
     "metadata": {},
     "output_type": "display_data"
    }
   ],
   "source": [
    "for t in temp:\n",
    "    basic_exploration(df, t, 'numeric')"
   ]
  },
  {
   "cell_type": "code",
   "execution_count": 24,
   "metadata": {},
   "outputs": [
    {
     "data": {
      "text/plain": [
       "QT_MAT_MED  QT_MAT_MED_PROP  QT_MAT_MED_PROP_1  QT_MAT_MED_PROP_2  QT_MAT_MED_PROP_3  QT_MAT_MED_PROP_4  QT_MAT_MED_PROP_NS  QT_MAT_MED_CT  QT_MAT_MED_CT_1  QT_MAT_MED_CT_2  QT_MAT_MED_CT_3  QT_MAT_MED_CT_4  QT_MAT_MED_CT_NS  QT_MAT_MED_NM  QT_MAT_MED_NM_1  QT_MAT_MED_NM_2  QT_MAT_MED_NM_3  QT_MAT_MED_NM_4\n",
       "False       False            False              False              False              False              False               False          False            False            False            False            False             False          False            False            False            False              178476\n",
       "True        True             True               True               True               True               True                True           True             True             True             True             True              True           True             True             True             True                 1754\n",
       "Name: count, dtype: int64"
      ]
     },
     "execution_count": 24,
     "metadata": {},
     "output_type": "execute_result"
    }
   ],
   "source": [
    "df[temp].isna().value_counts()"
   ]
  },
  {
   "cell_type": "code",
   "execution_count": 25,
   "metadata": {},
   "outputs": [
    {
     "data": {
      "text/html": [
       "<div>\n",
       "<style scoped>\n",
       "    .dataframe tbody tr th:only-of-type {\n",
       "        vertical-align: middle;\n",
       "    }\n",
       "\n",
       "    .dataframe tbody tr th {\n",
       "        vertical-align: top;\n",
       "    }\n",
       "\n",
       "    .dataframe thead th {\n",
       "        text-align: right;\n",
       "    }\n",
       "</style>\n",
       "<table border=\"1\" class=\"dataframe\">\n",
       "  <thead>\n",
       "    <tr style=\"text-align: right;\">\n",
       "      <th></th>\n",
       "      <th>QT_MAT_MED_PROP</th>\n",
       "      <th>QT_MAT_MED_PROP_1</th>\n",
       "      <th>QT_MAT_MED_PROP_2</th>\n",
       "      <th>QT_MAT_MED_PROP_3</th>\n",
       "      <th>QT_MAT_MED_PROP_4</th>\n",
       "      <th>QT_MAT_MED_PROP_NS</th>\n",
       "    </tr>\n",
       "  </thead>\n",
       "  <tbody>\n",
       "  </tbody>\n",
       "</table>\n",
       "</div>"
      ],
      "text/plain": [
       "Empty DataFrame\n",
       "Columns: [QT_MAT_MED_PROP, QT_MAT_MED_PROP_1, QT_MAT_MED_PROP_2, QT_MAT_MED_PROP_3, QT_MAT_MED_PROP_4, QT_MAT_MED_PROP_NS]\n",
       "Index: []"
      ]
     },
     "execution_count": 25,
     "metadata": {},
     "output_type": "execute_result"
    }
   ],
   "source": [
    "# Ensino Médio Propedêutico\n",
    "df[(~df['QT_MAT_MED_PROP'].isna()) & (df['QT_MAT_MED_PROP'] != df[temp[2:7]].sum(axis=1))][temp[1:7]]"
   ]
  },
  {
   "cell_type": "code",
   "execution_count": 26,
   "metadata": {},
   "outputs": [
    {
     "data": {
      "text/html": [
       "<div>\n",
       "<style scoped>\n",
       "    .dataframe tbody tr th:only-of-type {\n",
       "        vertical-align: middle;\n",
       "    }\n",
       "\n",
       "    .dataframe tbody tr th {\n",
       "        vertical-align: top;\n",
       "    }\n",
       "\n",
       "    .dataframe thead th {\n",
       "        text-align: right;\n",
       "    }\n",
       "</style>\n",
       "<table border=\"1\" class=\"dataframe\">\n",
       "  <thead>\n",
       "    <tr style=\"text-align: right;\">\n",
       "      <th></th>\n",
       "      <th>QT_MAT_MED_CT</th>\n",
       "      <th>QT_MAT_MED_CT_1</th>\n",
       "      <th>QT_MAT_MED_CT_2</th>\n",
       "      <th>QT_MAT_MED_CT_3</th>\n",
       "      <th>QT_MAT_MED_CT_4</th>\n",
       "      <th>QT_MAT_MED_CT_NS</th>\n",
       "    </tr>\n",
       "  </thead>\n",
       "  <tbody>\n",
       "  </tbody>\n",
       "</table>\n",
       "</div>"
      ],
      "text/plain": [
       "Empty DataFrame\n",
       "Columns: [QT_MAT_MED_CT, QT_MAT_MED_CT_1, QT_MAT_MED_CT_2, QT_MAT_MED_CT_3, QT_MAT_MED_CT_4, QT_MAT_MED_CT_NS]\n",
       "Index: []"
      ]
     },
     "execution_count": 26,
     "metadata": {},
     "output_type": "execute_result"
    }
   ],
   "source": [
    "# Ensino Médio Técnico Integrado\n",
    "df[(~df['QT_MAT_MED_CT'].isna()) & (df['QT_MAT_MED_CT'] != df[temp[8:13]].sum(axis=1))][temp[7:13]]"
   ]
  },
  {
   "cell_type": "code",
   "execution_count": 27,
   "metadata": {},
   "outputs": [
    {
     "data": {
      "text/html": [
       "<div>\n",
       "<style scoped>\n",
       "    .dataframe tbody tr th:only-of-type {\n",
       "        vertical-align: middle;\n",
       "    }\n",
       "\n",
       "    .dataframe tbody tr th {\n",
       "        vertical-align: top;\n",
       "    }\n",
       "\n",
       "    .dataframe thead th {\n",
       "        text-align: right;\n",
       "    }\n",
       "</style>\n",
       "<table border=\"1\" class=\"dataframe\">\n",
       "  <thead>\n",
       "    <tr style=\"text-align: right;\">\n",
       "      <th></th>\n",
       "      <th>QT_MAT_MED_NM</th>\n",
       "      <th>QT_MAT_MED_NM_1</th>\n",
       "      <th>QT_MAT_MED_NM_2</th>\n",
       "      <th>QT_MAT_MED_NM_3</th>\n",
       "      <th>QT_MAT_MED_NM_4</th>\n",
       "    </tr>\n",
       "  </thead>\n",
       "  <tbody>\n",
       "  </tbody>\n",
       "</table>\n",
       "</div>"
      ],
      "text/plain": [
       "Empty DataFrame\n",
       "Columns: [QT_MAT_MED_NM, QT_MAT_MED_NM_1, QT_MAT_MED_NM_2, QT_MAT_MED_NM_3, QT_MAT_MED_NM_4]\n",
       "Index: []"
      ]
     },
     "execution_count": 27,
     "metadata": {},
     "output_type": "execute_result"
    }
   ],
   "source": [
    "# Ensino Médio Normal\n",
    "df[(~df['QT_MAT_MED_NM'].isna()) & (df['QT_MAT_MED_NM'] != df[temp[14:]].sum(axis=1))][temp[13:]]"
   ]
  },
  {
   "cell_type": "code",
   "execution_count": 28,
   "metadata": {},
   "outputs": [
    {
     "data": {
      "text/html": [
       "<div>\n",
       "<style scoped>\n",
       "    .dataframe tbody tr th:only-of-type {\n",
       "        vertical-align: middle;\n",
       "    }\n",
       "\n",
       "    .dataframe tbody tr th {\n",
       "        vertical-align: top;\n",
       "    }\n",
       "\n",
       "    .dataframe thead th {\n",
       "        text-align: right;\n",
       "    }\n",
       "</style>\n",
       "<table border=\"1\" class=\"dataframe\">\n",
       "  <thead>\n",
       "    <tr style=\"text-align: right;\">\n",
       "      <th></th>\n",
       "      <th>QT_MAT_MED</th>\n",
       "      <th>QT_MAT_MED_PROP</th>\n",
       "      <th>QT_MAT_MED_CT</th>\n",
       "      <th>QT_MAT_MED_NM</th>\n",
       "    </tr>\n",
       "  </thead>\n",
       "  <tbody>\n",
       "  </tbody>\n",
       "</table>\n",
       "</div>"
      ],
      "text/plain": [
       "Empty DataFrame\n",
       "Columns: [QT_MAT_MED, QT_MAT_MED_PROP, QT_MAT_MED_CT, QT_MAT_MED_NM]\n",
       "Index: []"
      ]
     },
     "execution_count": 28,
     "metadata": {},
     "output_type": "execute_result"
    }
   ],
   "source": [
    "# Ensino Médio\n",
    "df[(\n",
    "    ~df['QT_MAT_MED'].isna()) & \n",
    "    (df['QT_MAT_MED'] != df[['QT_MAT_MED_PROP', 'QT_MAT_MED_CT', 'QT_MAT_MED_NM']].sum(axis=1))\n",
    "][['QT_MAT_MED', 'QT_MAT_MED_PROP', 'QT_MAT_MED_CT', 'QT_MAT_MED_NM']]"
   ]
  },
  {
   "cell_type": "markdown",
   "metadata": {},
   "source": [
    "#### Educação Profissional Técnica - NO\n",
    "\n",
    "O valor da possível coluna agregada não confere com os valores das colunas granulares"
   ]
  },
  {
   "cell_type": "code",
   "execution_count": 29,
   "metadata": {},
   "outputs": [],
   "source": [
    "temp = ['QT_MAT_PROF', \n",
    "        'QT_MAT_PROF_TEC', 'QT_MAT_PROF_TEC_CONC', 'QT_MAT_PROF_TEC_SUBS', 'QT_MAT_PROF_FIC_CONC',]"
   ]
  },
  {
   "cell_type": "code",
   "execution_count": 30,
   "metadata": {},
   "outputs": [
    {
     "name": "stdout",
     "output_type": "stream",
     "text": [
      "\n",
      "Quantidade de valores ausentes\n"
     ]
    },
    {
     "data": {
      "text/plain": [
       "QT_MAT_PROF\n",
       "False    178476\n",
       "True       1754\n",
       "Name: count, dtype: int64"
      ]
     },
     "metadata": {},
     "output_type": "display_data"
    },
    {
     "name": "stdout",
     "output_type": "stream",
     "text": [
      "\n",
      "Quantidade de valores ausentes\n"
     ]
    },
    {
     "data": {
      "text/plain": [
       "QT_MAT_PROF_TEC\n",
       "False    178476\n",
       "True       1754\n",
       "Name: count, dtype: int64"
      ]
     },
     "metadata": {},
     "output_type": "display_data"
    },
    {
     "name": "stdout",
     "output_type": "stream",
     "text": [
      "\n",
      "Quantidade de valores ausentes\n"
     ]
    },
    {
     "data": {
      "text/plain": [
       "QT_MAT_PROF_TEC_CONC\n",
       "False    178476\n",
       "True       1754\n",
       "Name: count, dtype: int64"
      ]
     },
     "metadata": {},
     "output_type": "display_data"
    },
    {
     "name": "stdout",
     "output_type": "stream",
     "text": [
      "\n",
      "Quantidade de valores ausentes\n"
     ]
    },
    {
     "data": {
      "text/plain": [
       "QT_MAT_PROF_TEC_SUBS\n",
       "False    178476\n",
       "True       1754\n",
       "Name: count, dtype: int64"
      ]
     },
     "metadata": {},
     "output_type": "display_data"
    },
    {
     "name": "stdout",
     "output_type": "stream",
     "text": [
      "\n",
      "Quantidade de valores ausentes\n"
     ]
    },
    {
     "data": {
      "text/plain": [
       "QT_MAT_PROF_FIC_CONC\n",
       "False    178476\n",
       "True       1754\n",
       "Name: count, dtype: int64"
      ]
     },
     "metadata": {},
     "output_type": "display_data"
    }
   ],
   "source": [
    "for t in temp:\n",
    "    basic_exploration(df, t, 'numeric')"
   ]
  },
  {
   "cell_type": "code",
   "execution_count": 31,
   "metadata": {},
   "outputs": [
    {
     "data": {
      "text/plain": [
       "QT_MAT_PROF  QT_MAT_PROF_TEC  QT_MAT_PROF_TEC_CONC  QT_MAT_PROF_TEC_SUBS  QT_MAT_PROF_FIC_CONC\n",
       "False        False            False                 False                 False                   178476\n",
       "True         True             True                  True                  True                      1754\n",
       "Name: count, dtype: int64"
      ]
     },
     "execution_count": 31,
     "metadata": {},
     "output_type": "execute_result"
    }
   ],
   "source": [
    "df[temp].isna().value_counts()"
   ]
  },
  {
   "cell_type": "code",
   "execution_count": 32,
   "metadata": {},
   "outputs": [
    {
     "data": {
      "text/html": [
       "<div>\n",
       "<style scoped>\n",
       "    .dataframe tbody tr th:only-of-type {\n",
       "        vertical-align: middle;\n",
       "    }\n",
       "\n",
       "    .dataframe tbody tr th {\n",
       "        vertical-align: top;\n",
       "    }\n",
       "\n",
       "    .dataframe thead th {\n",
       "        text-align: right;\n",
       "    }\n",
       "</style>\n",
       "<table border=\"1\" class=\"dataframe\">\n",
       "  <thead>\n",
       "    <tr style=\"text-align: right;\">\n",
       "      <th></th>\n",
       "      <th>QT_MAT_PROF_TEC</th>\n",
       "      <th>QT_MAT_PROF_TEC_CONC</th>\n",
       "      <th>QT_MAT_PROF_TEC_SUBS</th>\n",
       "      <th>QT_MAT_PROF_FIC_CONC</th>\n",
       "    </tr>\n",
       "  </thead>\n",
       "  <tbody>\n",
       "    <tr>\n",
       "      <th>38</th>\n",
       "      <td>72.0</td>\n",
       "      <td>0.0</td>\n",
       "      <td>0.0</td>\n",
       "      <td>0.0</td>\n",
       "    </tr>\n",
       "    <tr>\n",
       "      <th>375</th>\n",
       "      <td>197.0</td>\n",
       "      <td>0.0</td>\n",
       "      <td>0.0</td>\n",
       "      <td>0.0</td>\n",
       "    </tr>\n",
       "    <tr>\n",
       "      <th>565</th>\n",
       "      <td>220.0</td>\n",
       "      <td>0.0</td>\n",
       "      <td>0.0</td>\n",
       "      <td>0.0</td>\n",
       "    </tr>\n",
       "    <tr>\n",
       "      <th>666</th>\n",
       "      <td>579.0</td>\n",
       "      <td>0.0</td>\n",
       "      <td>0.0</td>\n",
       "      <td>0.0</td>\n",
       "    </tr>\n",
       "    <tr>\n",
       "      <th>1060</th>\n",
       "      <td>109.0</td>\n",
       "      <td>0.0</td>\n",
       "      <td>0.0</td>\n",
       "      <td>0.0</td>\n",
       "    </tr>\n",
       "    <tr>\n",
       "      <th>...</th>\n",
       "      <td>...</td>\n",
       "      <td>...</td>\n",
       "      <td>...</td>\n",
       "      <td>...</td>\n",
       "    </tr>\n",
       "    <tr>\n",
       "      <th>217462</th>\n",
       "      <td>548.0</td>\n",
       "      <td>173.0</td>\n",
       "      <td>375.0</td>\n",
       "      <td>33.0</td>\n",
       "    </tr>\n",
       "    <tr>\n",
       "      <th>217478</th>\n",
       "      <td>658.0</td>\n",
       "      <td>635.0</td>\n",
       "      <td>11.0</td>\n",
       "      <td>0.0</td>\n",
       "    </tr>\n",
       "    <tr>\n",
       "      <th>217499</th>\n",
       "      <td>5.0</td>\n",
       "      <td>0.0</td>\n",
       "      <td>0.0</td>\n",
       "      <td>0.0</td>\n",
       "    </tr>\n",
       "    <tr>\n",
       "      <th>217561</th>\n",
       "      <td>479.0</td>\n",
       "      <td>298.0</td>\n",
       "      <td>181.0</td>\n",
       "      <td>79.0</td>\n",
       "    </tr>\n",
       "    <tr>\n",
       "      <th>217570</th>\n",
       "      <td>561.0</td>\n",
       "      <td>511.0</td>\n",
       "      <td>39.0</td>\n",
       "      <td>101.0</td>\n",
       "    </tr>\n",
       "  </tbody>\n",
       "</table>\n",
       "<p>4937 rows × 4 columns</p>\n",
       "</div>"
      ],
      "text/plain": [
       "        QT_MAT_PROF_TEC  QT_MAT_PROF_TEC_CONC  QT_MAT_PROF_TEC_SUBS  \\\n",
       "38                 72.0                   0.0                   0.0   \n",
       "375               197.0                   0.0                   0.0   \n",
       "565               220.0                   0.0                   0.0   \n",
       "666               579.0                   0.0                   0.0   \n",
       "1060              109.0                   0.0                   0.0   \n",
       "...                 ...                   ...                   ...   \n",
       "217462            548.0                 173.0                 375.0   \n",
       "217478            658.0                 635.0                  11.0   \n",
       "217499              5.0                   0.0                   0.0   \n",
       "217561            479.0                 298.0                 181.0   \n",
       "217570            561.0                 511.0                  39.0   \n",
       "\n",
       "        QT_MAT_PROF_FIC_CONC  \n",
       "38                       0.0  \n",
       "375                      0.0  \n",
       "565                      0.0  \n",
       "666                      0.0  \n",
       "1060                     0.0  \n",
       "...                      ...  \n",
       "217462                  33.0  \n",
       "217478                   0.0  \n",
       "217499                   0.0  \n",
       "217561                  79.0  \n",
       "217570                 101.0  \n",
       "\n",
       "[4937 rows x 4 columns]"
      ]
     },
     "execution_count": 32,
     "metadata": {},
     "output_type": "execute_result"
    }
   ],
   "source": [
    "# Educação Profissional Técnica\n",
    "df[(~df['QT_MAT_PROF_TEC'].isna()) & (df['QT_MAT_PROF_TEC'] != df[temp[2:]].sum(axis=1))][temp[1:]]"
   ]
  },
  {
   "cell_type": "code",
   "execution_count": 33,
   "metadata": {},
   "outputs": [
    {
     "data": {
      "text/html": [
       "<div>\n",
       "<style scoped>\n",
       "    .dataframe tbody tr th:only-of-type {\n",
       "        vertical-align: middle;\n",
       "    }\n",
       "\n",
       "    .dataframe tbody tr th {\n",
       "        vertical-align: top;\n",
       "    }\n",
       "\n",
       "    .dataframe thead th {\n",
       "        text-align: right;\n",
       "    }\n",
       "</style>\n",
       "<table border=\"1\" class=\"dataframe\">\n",
       "  <thead>\n",
       "    <tr style=\"text-align: right;\">\n",
       "      <th></th>\n",
       "      <th>QT_MAT_PROF</th>\n",
       "      <th>QT_MAT_PROF_TEC</th>\n",
       "    </tr>\n",
       "  </thead>\n",
       "  <tbody>\n",
       "    <tr>\n",
       "      <th>140</th>\n",
       "      <td>112.0</td>\n",
       "      <td>0.0</td>\n",
       "    </tr>\n",
       "    <tr>\n",
       "      <th>1128</th>\n",
       "      <td>691.0</td>\n",
       "      <td>532.0</td>\n",
       "    </tr>\n",
       "    <tr>\n",
       "      <th>1229</th>\n",
       "      <td>1104.0</td>\n",
       "      <td>999.0</td>\n",
       "    </tr>\n",
       "    <tr>\n",
       "      <th>2853</th>\n",
       "      <td>156.0</td>\n",
       "      <td>131.0</td>\n",
       "    </tr>\n",
       "    <tr>\n",
       "      <th>3610</th>\n",
       "      <td>78.0</td>\n",
       "      <td>0.0</td>\n",
       "    </tr>\n",
       "    <tr>\n",
       "      <th>...</th>\n",
       "      <td>...</td>\n",
       "      <td>...</td>\n",
       "    </tr>\n",
       "    <tr>\n",
       "      <th>217427</th>\n",
       "      <td>223.0</td>\n",
       "      <td>47.0</td>\n",
       "    </tr>\n",
       "    <tr>\n",
       "      <th>217437</th>\n",
       "      <td>17.0</td>\n",
       "      <td>0.0</td>\n",
       "    </tr>\n",
       "    <tr>\n",
       "      <th>217462</th>\n",
       "      <td>581.0</td>\n",
       "      <td>548.0</td>\n",
       "    </tr>\n",
       "    <tr>\n",
       "      <th>217561</th>\n",
       "      <td>558.0</td>\n",
       "      <td>479.0</td>\n",
       "    </tr>\n",
       "    <tr>\n",
       "      <th>217570</th>\n",
       "      <td>662.0</td>\n",
       "      <td>561.0</td>\n",
       "    </tr>\n",
       "  </tbody>\n",
       "</table>\n",
       "<p>1720 rows × 2 columns</p>\n",
       "</div>"
      ],
      "text/plain": [
       "        QT_MAT_PROF  QT_MAT_PROF_TEC\n",
       "140           112.0              0.0\n",
       "1128          691.0            532.0\n",
       "1229         1104.0            999.0\n",
       "2853          156.0            131.0\n",
       "3610           78.0              0.0\n",
       "...             ...              ...\n",
       "217427        223.0             47.0\n",
       "217437         17.0              0.0\n",
       "217462        581.0            548.0\n",
       "217561        558.0            479.0\n",
       "217570        662.0            561.0\n",
       "\n",
       "[1720 rows x 2 columns]"
      ]
     },
     "execution_count": 33,
     "metadata": {},
     "output_type": "execute_result"
    }
   ],
   "source": [
    "# Ensino Profissional\n",
    "df[(~df['QT_MAT_PROF'].isna()) & (df['QT_MAT_PROF'] != df[['QT_MAT_PROF_TEC']].sum(axis=1))][['QT_MAT_PROF', 'QT_MAT_PROF_TEC']]"
   ]
  },
  {
   "cell_type": "markdown",
   "metadata": {},
   "source": [
    "#### Educação de Jovens e Adultos - EJA - OK"
   ]
  },
  {
   "cell_type": "code",
   "execution_count": 34,
   "metadata": {},
   "outputs": [],
   "source": [
    "temp = ['QT_MAT_EJA', \n",
    "        'QT_MAT_EJA_FUND', 'QT_MAT_EJA_FUND_AI', 'QT_MAT_EJA_FUND_AF', 'QT_MAT_EJA_FUND_FIC', \n",
    "        'QT_MAT_EJA_MED', 'QT_MAT_EJA_MED_NPROF', 'QT_MAT_EJA_MED_FIC', 'QT_MAT_EJA_MED_TEC',]"
   ]
  },
  {
   "cell_type": "code",
   "execution_count": 35,
   "metadata": {},
   "outputs": [
    {
     "name": "stdout",
     "output_type": "stream",
     "text": [
      "\n",
      "Quantidade de valores ausentes\n"
     ]
    },
    {
     "data": {
      "text/plain": [
       "QT_MAT_EJA\n",
       "False    178476\n",
       "True       1754\n",
       "Name: count, dtype: int64"
      ]
     },
     "metadata": {},
     "output_type": "display_data"
    },
    {
     "name": "stdout",
     "output_type": "stream",
     "text": [
      "\n",
      "Quantidade de valores ausentes\n"
     ]
    },
    {
     "data": {
      "text/plain": [
       "QT_MAT_EJA_FUND\n",
       "False    178476\n",
       "True       1754\n",
       "Name: count, dtype: int64"
      ]
     },
     "metadata": {},
     "output_type": "display_data"
    },
    {
     "name": "stdout",
     "output_type": "stream",
     "text": [
      "\n",
      "Quantidade de valores ausentes\n"
     ]
    },
    {
     "data": {
      "text/plain": [
       "QT_MAT_EJA_FUND_AI\n",
       "False    178476\n",
       "True       1754\n",
       "Name: count, dtype: int64"
      ]
     },
     "metadata": {},
     "output_type": "display_data"
    },
    {
     "name": "stdout",
     "output_type": "stream",
     "text": [
      "\n",
      "Quantidade de valores ausentes\n"
     ]
    },
    {
     "data": {
      "text/plain": [
       "QT_MAT_EJA_FUND_AF\n",
       "False    178476\n",
       "True       1754\n",
       "Name: count, dtype: int64"
      ]
     },
     "metadata": {},
     "output_type": "display_data"
    },
    {
     "name": "stdout",
     "output_type": "stream",
     "text": [
      "\n",
      "Quantidade de valores ausentes\n"
     ]
    },
    {
     "data": {
      "text/plain": [
       "QT_MAT_EJA_FUND_FIC\n",
       "False    178476\n",
       "True       1754\n",
       "Name: count, dtype: int64"
      ]
     },
     "metadata": {},
     "output_type": "display_data"
    },
    {
     "name": "stdout",
     "output_type": "stream",
     "text": [
      "\n",
      "Quantidade de valores ausentes\n"
     ]
    },
    {
     "data": {
      "text/plain": [
       "QT_MAT_EJA_MED\n",
       "False    178476\n",
       "True       1754\n",
       "Name: count, dtype: int64"
      ]
     },
     "metadata": {},
     "output_type": "display_data"
    },
    {
     "name": "stdout",
     "output_type": "stream",
     "text": [
      "\n",
      "Quantidade de valores ausentes\n"
     ]
    },
    {
     "data": {
      "text/plain": [
       "QT_MAT_EJA_MED_NPROF\n",
       "False    178476\n",
       "True       1754\n",
       "Name: count, dtype: int64"
      ]
     },
     "metadata": {},
     "output_type": "display_data"
    },
    {
     "name": "stdout",
     "output_type": "stream",
     "text": [
      "\n",
      "Quantidade de valores ausentes\n"
     ]
    },
    {
     "data": {
      "text/plain": [
       "QT_MAT_EJA_MED_FIC\n",
       "False    178476\n",
       "True       1754\n",
       "Name: count, dtype: int64"
      ]
     },
     "metadata": {},
     "output_type": "display_data"
    },
    {
     "name": "stdout",
     "output_type": "stream",
     "text": [
      "\n",
      "Quantidade de valores ausentes\n"
     ]
    },
    {
     "data": {
      "text/plain": [
       "QT_MAT_EJA_MED_TEC\n",
       "False    178476\n",
       "True       1754\n",
       "Name: count, dtype: int64"
      ]
     },
     "metadata": {},
     "output_type": "display_data"
    }
   ],
   "source": [
    "for t in temp:\n",
    "    basic_exploration(df, t, 'numeric')"
   ]
  },
  {
   "cell_type": "code",
   "execution_count": 36,
   "metadata": {},
   "outputs": [
    {
     "data": {
      "text/plain": [
       "QT_MAT_EJA  QT_MAT_EJA_FUND  QT_MAT_EJA_FUND_AI  QT_MAT_EJA_FUND_AF  QT_MAT_EJA_FUND_FIC  QT_MAT_EJA_MED  QT_MAT_EJA_MED_NPROF  QT_MAT_EJA_MED_FIC  QT_MAT_EJA_MED_TEC\n",
       "False       False            False               False               False                False           False                 False               False                 178476\n",
       "True        True             True                True                True                 True            True                  True                True                    1754\n",
       "Name: count, dtype: int64"
      ]
     },
     "execution_count": 36,
     "metadata": {},
     "output_type": "execute_result"
    }
   ],
   "source": [
    "df[temp].isna().value_counts()"
   ]
  },
  {
   "cell_type": "code",
   "execution_count": 37,
   "metadata": {},
   "outputs": [
    {
     "data": {
      "text/html": [
       "<div>\n",
       "<style scoped>\n",
       "    .dataframe tbody tr th:only-of-type {\n",
       "        vertical-align: middle;\n",
       "    }\n",
       "\n",
       "    .dataframe tbody tr th {\n",
       "        vertical-align: top;\n",
       "    }\n",
       "\n",
       "    .dataframe thead th {\n",
       "        text-align: right;\n",
       "    }\n",
       "</style>\n",
       "<table border=\"1\" class=\"dataframe\">\n",
       "  <thead>\n",
       "    <tr style=\"text-align: right;\">\n",
       "      <th></th>\n",
       "      <th>QT_MAT_EJA_FUND</th>\n",
       "      <th>QT_MAT_EJA_FUND_AI</th>\n",
       "      <th>QT_MAT_EJA_FUND_AF</th>\n",
       "      <th>QT_MAT_EJA_FUND_FIC</th>\n",
       "    </tr>\n",
       "  </thead>\n",
       "  <tbody>\n",
       "  </tbody>\n",
       "</table>\n",
       "</div>"
      ],
      "text/plain": [
       "Empty DataFrame\n",
       "Columns: [QT_MAT_EJA_FUND, QT_MAT_EJA_FUND_AI, QT_MAT_EJA_FUND_AF, QT_MAT_EJA_FUND_FIC]\n",
       "Index: []"
      ]
     },
     "execution_count": 37,
     "metadata": {},
     "output_type": "execute_result"
    }
   ],
   "source": [
    "# EJA - Ensino Fundamental\n",
    "df[(~df['QT_MAT_EJA_FUND'].isna()) & (df['QT_MAT_EJA_FUND'] != df[temp[2:5]].sum(axis=1))][temp[1:5]]"
   ]
  },
  {
   "cell_type": "code",
   "execution_count": 38,
   "metadata": {},
   "outputs": [
    {
     "data": {
      "text/html": [
       "<div>\n",
       "<style scoped>\n",
       "    .dataframe tbody tr th:only-of-type {\n",
       "        vertical-align: middle;\n",
       "    }\n",
       "\n",
       "    .dataframe tbody tr th {\n",
       "        vertical-align: top;\n",
       "    }\n",
       "\n",
       "    .dataframe thead th {\n",
       "        text-align: right;\n",
       "    }\n",
       "</style>\n",
       "<table border=\"1\" class=\"dataframe\">\n",
       "  <thead>\n",
       "    <tr style=\"text-align: right;\">\n",
       "      <th></th>\n",
       "      <th>QT_MAT_EJA_MED</th>\n",
       "      <th>QT_MAT_EJA_MED_NPROF</th>\n",
       "      <th>QT_MAT_EJA_MED_FIC</th>\n",
       "      <th>QT_MAT_EJA_MED_TEC</th>\n",
       "    </tr>\n",
       "  </thead>\n",
       "  <tbody>\n",
       "  </tbody>\n",
       "</table>\n",
       "</div>"
      ],
      "text/plain": [
       "Empty DataFrame\n",
       "Columns: [QT_MAT_EJA_MED, QT_MAT_EJA_MED_NPROF, QT_MAT_EJA_MED_FIC, QT_MAT_EJA_MED_TEC]\n",
       "Index: []"
      ]
     },
     "execution_count": 38,
     "metadata": {},
     "output_type": "execute_result"
    }
   ],
   "source": [
    "# EJA - Ensino Médio\n",
    "df[(~df['QT_MAT_EJA_MED'].isna()) & (df['QT_MAT_EJA_MED'] != df[temp[6:]].sum(axis=1))][temp[5:]]"
   ]
  },
  {
   "cell_type": "code",
   "execution_count": 39,
   "metadata": {},
   "outputs": [
    {
     "data": {
      "text/html": [
       "<div>\n",
       "<style scoped>\n",
       "    .dataframe tbody tr th:only-of-type {\n",
       "        vertical-align: middle;\n",
       "    }\n",
       "\n",
       "    .dataframe tbody tr th {\n",
       "        vertical-align: top;\n",
       "    }\n",
       "\n",
       "    .dataframe thead th {\n",
       "        text-align: right;\n",
       "    }\n",
       "</style>\n",
       "<table border=\"1\" class=\"dataframe\">\n",
       "  <thead>\n",
       "    <tr style=\"text-align: right;\">\n",
       "      <th></th>\n",
       "      <th>QT_MAT_EJA</th>\n",
       "      <th>QT_MAT_EJA_FUND</th>\n",
       "      <th>QT_MAT_EJA_MED</th>\n",
       "    </tr>\n",
       "  </thead>\n",
       "  <tbody>\n",
       "  </tbody>\n",
       "</table>\n",
       "</div>"
      ],
      "text/plain": [
       "Empty DataFrame\n",
       "Columns: [QT_MAT_EJA, QT_MAT_EJA_FUND, QT_MAT_EJA_MED]\n",
       "Index: []"
      ]
     },
     "execution_count": 39,
     "metadata": {},
     "output_type": "execute_result"
    }
   ],
   "source": [
    "# EJA\n",
    "df[(~df['QT_MAT_EJA'].isna()) & (df['QT_MAT_EJA'] != df[['QT_MAT_EJA_FUND', 'QT_MAT_EJA_MED']].sum(axis=1))][['QT_MAT_EJA', 'QT_MAT_EJA_FUND', 'QT_MAT_EJA_MED']]"
   ]
  },
  {
   "cell_type": "markdown",
   "metadata": {},
   "source": [
    "#### Geral"
   ]
  },
  {
   "cell_type": "code",
   "execution_count": 40,
   "metadata": {},
   "outputs": [
    {
     "name": "stdout",
     "output_type": "stream",
     "text": [
      "\n",
      "Quantidade de valores ausentes\n"
     ]
    },
    {
     "data": {
      "text/plain": [
       "QT_MAT_BAS\n",
       "False    178476\n",
       "True       1754\n",
       "Name: count, dtype: int64"
      ]
     },
     "metadata": {},
     "output_type": "display_data"
    }
   ],
   "source": [
    "basic_exploration(df, 'QT_MAT_BAS', 'numeric')"
   ]
  },
  {
   "cell_type": "code",
   "execution_count": 329,
   "metadata": {},
   "outputs": [
    {
     "data": {
      "text/html": [
       "<div>\n",
       "<style scoped>\n",
       "    .dataframe tbody tr th:only-of-type {\n",
       "        vertical-align: middle;\n",
       "    }\n",
       "\n",
       "    .dataframe tbody tr th {\n",
       "        vertical-align: top;\n",
       "    }\n",
       "\n",
       "    .dataframe thead th {\n",
       "        text-align: right;\n",
       "    }\n",
       "</style>\n",
       "<table border=\"1\" class=\"dataframe\">\n",
       "  <thead>\n",
       "    <tr style=\"text-align: right;\">\n",
       "      <th></th>\n",
       "      <th>QT_MAT_BAS</th>\n",
       "    </tr>\n",
       "  </thead>\n",
       "  <tbody>\n",
       "    <tr>\n",
       "      <th>count</th>\n",
       "      <td>178476.000000</td>\n",
       "    </tr>\n",
       "    <tr>\n",
       "      <th>mean</th>\n",
       "      <td>265.047581</td>\n",
       "    </tr>\n",
       "    <tr>\n",
       "      <th>std</th>\n",
       "      <td>353.108658</td>\n",
       "    </tr>\n",
       "    <tr>\n",
       "      <th>min</th>\n",
       "      <td>1.000000</td>\n",
       "    </tr>\n",
       "    <tr>\n",
       "      <th>25%</th>\n",
       "      <td>69.000000</td>\n",
       "    </tr>\n",
       "    <tr>\n",
       "      <th>50%</th>\n",
       "      <td>164.000000</td>\n",
       "    </tr>\n",
       "    <tr>\n",
       "      <th>75%</th>\n",
       "      <td>352.000000</td>\n",
       "    </tr>\n",
       "    <tr>\n",
       "      <th>max</th>\n",
       "      <td>51791.000000</td>\n",
       "    </tr>\n",
       "  </tbody>\n",
       "</table>\n",
       "</div>"
      ],
      "text/plain": [
       "          QT_MAT_BAS\n",
       "count  178476.000000\n",
       "mean      265.047581\n",
       "std       353.108658\n",
       "min         1.000000\n",
       "25%        69.000000\n",
       "50%       164.000000\n",
       "75%       352.000000\n",
       "max     51791.000000"
      ]
     },
     "execution_count": 329,
     "metadata": {},
     "output_type": "execute_result"
    }
   ],
   "source": [
    "df[['QT_MAT_BAS']].describe()"
   ]
  },
  {
   "cell_type": "code",
   "execution_count": 41,
   "metadata": {},
   "outputs": [
    {
     "data": {
      "text/plain": [
       "(0, 174)"
      ]
     },
     "execution_count": 41,
     "metadata": {},
     "output_type": "execute_result"
    }
   ],
   "source": [
    "df[df['QT_MAT_BAS'] == 0].shape"
   ]
  },
  {
   "cell_type": "code",
   "execution_count": 42,
   "metadata": {},
   "outputs": [
    {
     "data": {
      "text/plain": [
       "(173135, 6)"
      ]
     },
     "metadata": {},
     "output_type": "display_data"
    },
    {
     "data": {
      "text/plain": [
       "(5341, 6)"
      ]
     },
     "metadata": {},
     "output_type": "display_data"
    },
    {
     "data": {
      "text/plain": [
       "(0, 6)"
      ]
     },
     "metadata": {},
     "output_type": "display_data"
    }
   ],
   "source": [
    "temp = ['QT_MAT_INF', 'QT_MAT_FUND', 'QT_MAT_MED', 'QT_MAT_PROF', 'QT_MAT_EJA']\n",
    "\n",
    "# A grande maioria dos alunos se encontra em apenas uma categoria de ensino de cada vez\n",
    "display(df[(~df['QT_MAT_BAS'].isna()) & (df['QT_MAT_BAS'] == df[temp].sum(axis = 1))][['QT_MAT_BAS'] + temp].shape)\n",
    "\n",
    "# Porém, é possível assumir que um mesmo aluno possa estar em duas categorias de ensino ao mesmo tempo\n",
    "display(df[(~df['QT_MAT_BAS'].isna()) & (df['QT_MAT_BAS'] < df[temp].sum(axis = 1))][['QT_MAT_BAS'] + temp].shape)\n",
    "\n",
    "# O valor de QT_MAT_BAS não supera o valor do somatório das categorias de ensino, reforçando a teoria\n",
    "display(df[(~df['QT_MAT_BAS'].isna()) & (df['QT_MAT_BAS'] > df[temp].sum(axis = 1))][['QT_MAT_BAS'] + temp].shape)"
   ]
  },
  {
   "cell_type": "code",
   "execution_count": 43,
   "metadata": {},
   "outputs": [
    {
     "data": {
      "text/plain": [
       "(180230, 174)"
      ]
     },
     "execution_count": 43,
     "metadata": {},
     "output_type": "execute_result"
    }
   ],
   "source": [
    "df.shape"
   ]
  },
  {
   "cell_type": "code",
   "execution_count": 44,
   "metadata": {},
   "outputs": [
    {
     "data": {
      "text/plain": [
       "47"
      ]
     },
     "execution_count": 44,
     "metadata": {},
     "output_type": "execute_result"
    }
   ],
   "source": [
    "cols_remover += cols_matriculas\n",
    "len(cols_remover)"
   ]
  },
  {
   "cell_type": "code",
   "execution_count": 45,
   "metadata": {},
   "outputs": [
    {
     "data": {
      "text/plain": [
       "QT_MAT_BAS\n",
       "False    178476\n",
       "Name: count, dtype: int64"
      ]
     },
     "execution_count": 45,
     "metadata": {},
     "output_type": "execute_result"
    }
   ],
   "source": [
    "# Removendo escolas com valor ausente na quantidade de matrículas\n",
    "df = df.dropna(subset=['QT_MAT_BAS'], ignore_index=True)\n",
    "df['QT_MAT_BAS'].isna().value_counts()"
   ]
  },
  {
   "cell_type": "code",
   "execution_count": 46,
   "metadata": {},
   "outputs": [
    {
     "data": {
      "text/plain": [
       "(178476, 174)"
      ]
     },
     "execution_count": 46,
     "metadata": {},
     "output_type": "execute_result"
    }
   ],
   "source": [
    "df.shape"
   ]
  },
  {
   "cell_type": "code",
   "execution_count": 47,
   "metadata": {},
   "outputs": [
    {
     "data": {
      "text/html": [
       "<div>\n",
       "<style scoped>\n",
       "    .dataframe tbody tr th:only-of-type {\n",
       "        vertical-align: middle;\n",
       "    }\n",
       "\n",
       "    .dataframe tbody tr th {\n",
       "        vertical-align: top;\n",
       "    }\n",
       "\n",
       "    .dataframe thead th {\n",
       "        text-align: right;\n",
       "    }\n",
       "</style>\n",
       "<table border=\"1\" class=\"dataframe\">\n",
       "  <thead>\n",
       "    <tr style=\"text-align: right;\">\n",
       "      <th></th>\n",
       "      <th>NO_ENTIDADE</th>\n",
       "      <th>QT_MAT_BAS</th>\n",
       "    </tr>\n",
       "  </thead>\n",
       "  <tbody>\n",
       "    <tr>\n",
       "      <th>131427</th>\n",
       "      <td>INSTITUTO MONITOR LTDA</td>\n",
       "      <td>51791.0</td>\n",
       "    </tr>\n",
       "    <tr>\n",
       "      <th>160108</th>\n",
       "      <td>SENAC RIO GRANDE DO SUL</td>\n",
       "      <td>44906.0</td>\n",
       "    </tr>\n",
       "    <tr>\n",
       "      <th>60404</th>\n",
       "      <td>ESCOLA TECNICA ESTADUAL PROFESSOR ANTONIO CARL...</td>\n",
       "      <td>36811.0</td>\n",
       "    </tr>\n",
       "    <tr>\n",
       "      <th>136930</th>\n",
       "      <td>INSTITUTO BRASILEIRO DE EDUCACAO PROFISSIONAL ...</td>\n",
       "      <td>8412.0</td>\n",
       "    </tr>\n",
       "    <tr>\n",
       "      <th>48188</th>\n",
       "      <td>CENTRO DE PROFISSIONALIZACAO E EDUCACAO TECNICA</td>\n",
       "      <td>8247.0</td>\n",
       "    </tr>\n",
       "    <tr>\n",
       "      <th>156948</th>\n",
       "      <td>INSTITUTO BRASILEIRO DE ED PROFISSIONAL - IBREP</td>\n",
       "      <td>7868.0</td>\n",
       "    </tr>\n",
       "    <tr>\n",
       "      <th>161627</th>\n",
       "      <td>UNIDADE SESI DE ENSINO MEDIO FRANSCISCO XAVIER...</td>\n",
       "      <td>7856.0</td>\n",
       "    </tr>\n",
       "    <tr>\n",
       "      <th>78002</th>\n",
       "      <td>UNIDADE SESI RETIRO</td>\n",
       "      <td>7794.0</td>\n",
       "    </tr>\n",
       "    <tr>\n",
       "      <th>109764</th>\n",
       "      <td>INSTITUTO MONITOR LTDA</td>\n",
       "      <td>7182.0</td>\n",
       "    </tr>\n",
       "    <tr>\n",
       "      <th>148106</th>\n",
       "      <td>INSTITUTO EDUCACIONAL MONITOR LTDA</td>\n",
       "      <td>6745.0</td>\n",
       "    </tr>\n",
       "  </tbody>\n",
       "</table>\n",
       "</div>"
      ],
      "text/plain": [
       "                                              NO_ENTIDADE  QT_MAT_BAS\n",
       "131427                             INSTITUTO MONITOR LTDA     51791.0\n",
       "160108                            SENAC RIO GRANDE DO SUL     44906.0\n",
       "60404   ESCOLA TECNICA ESTADUAL PROFESSOR ANTONIO CARL...     36811.0\n",
       "136930  INSTITUTO BRASILEIRO DE EDUCACAO PROFISSIONAL ...      8412.0\n",
       "48188     CENTRO DE PROFISSIONALIZACAO E EDUCACAO TECNICA      8247.0\n",
       "156948    INSTITUTO BRASILEIRO DE ED PROFISSIONAL - IBREP      7868.0\n",
       "161627  UNIDADE SESI DE ENSINO MEDIO FRANSCISCO XAVIER...      7856.0\n",
       "78002                                 UNIDADE SESI RETIRO      7794.0\n",
       "109764                             INSTITUTO MONITOR LTDA      7182.0\n",
       "148106                 INSTITUTO EDUCACIONAL MONITOR LTDA      6745.0"
      ]
     },
     "execution_count": 47,
     "metadata": {},
     "output_type": "execute_result"
    }
   ],
   "source": [
    "df[['NO_ENTIDADE', 'QT_MAT_BAS']].sort_values(by='QT_MAT_BAS', ascending=False).head(10)"
   ]
  },
  {
   "cell_type": "code",
   "execution_count": 48,
   "metadata": {},
   "outputs": [
    {
     "data": {
      "text/plain": [
       "(56, 174)"
      ]
     },
     "execution_count": 48,
     "metadata": {},
     "output_type": "execute_result"
    }
   ],
   "source": [
    "df[df['QT_MAT_BAS'] == 1].shape"
   ]
  },
  {
   "cell_type": "markdown",
   "metadata": {},
   "source": [
    "### Tipo de Escola"
   ]
  },
  {
   "cell_type": "markdown",
   "metadata": {},
   "source": [
    "#### TP_DEPENDENCIA"
   ]
  },
  {
   "cell_type": "markdown",
   "metadata": {},
   "source": [
    "- 1 - Federal\n",
    "- 2 - Estadual\n",
    "- 3 - Municipal\n",
    "- 4 - Privada"
   ]
  },
  {
   "cell_type": "code",
   "execution_count": 49,
   "metadata": {},
   "outputs": [
    {
     "name": "stdout",
     "output_type": "stream",
     "text": [
      "\n",
      "Contagem de valores:\n"
     ]
    },
    {
     "data": {
      "text/plain": [
       "TP_DEPENDENCIA\n",
       "3    106707\n",
       "4     41555\n",
       "2     29508\n",
       "1       706\n",
       "Name: count, dtype: int64"
      ]
     },
     "metadata": {},
     "output_type": "display_data"
    },
    {
     "name": "stdout",
     "output_type": "stream",
     "text": [
      "\n",
      "Quantidade de valores ausentes\n"
     ]
    },
    {
     "data": {
      "text/plain": [
       "TP_DEPENDENCIA\n",
       "False    178476\n",
       "Name: count, dtype: int64"
      ]
     },
     "metadata": {},
     "output_type": "display_data"
    }
   ],
   "source": [
    "basic_exploration(df, 'TP_DEPENDENCIA', 'category')"
   ]
  },
  {
   "cell_type": "markdown",
   "metadata": {},
   "source": [
    "#### TP_CATEGORIA_ESCOLA_PRIVADA"
   ]
  },
  {
   "cell_type": "markdown",
   "metadata": {},
   "source": [
    "- 1 - Particular\n",
    "- 2 - Comunitária\n",
    "- 3 - Confessional\n",
    "- 4 - Filantrópica\n",
    "\n",
    "\\* Não aplicável para escolas públicas"
   ]
  },
  {
   "cell_type": "code",
   "execution_count": 50,
   "metadata": {},
   "outputs": [
    {
     "name": "stdout",
     "output_type": "stream",
     "text": [
      "\n",
      "Contagem de valores:\n"
     ]
    },
    {
     "data": {
      "text/plain": [
       "TP_CATEGORIA_ESCOLA_PRIVADA\n",
       "NaN    136921\n",
       "1.0     31275\n",
       "4.0      7675\n",
       "2.0      2198\n",
       "3.0       407\n",
       "Name: count, dtype: int64"
      ]
     },
     "metadata": {},
     "output_type": "display_data"
    },
    {
     "name": "stdout",
     "output_type": "stream",
     "text": [
      "\n",
      "Quantidade de valores ausentes\n"
     ]
    },
    {
     "data": {
      "text/plain": [
       "TP_CATEGORIA_ESCOLA_PRIVADA\n",
       "True     136921\n",
       "False     41555\n",
       "Name: count, dtype: int64"
      ]
     },
     "metadata": {},
     "output_type": "display_data"
    }
   ],
   "source": [
    "basic_exploration(df, 'TP_CATEGORIA_ESCOLA_PRIVADA', 'category')"
   ]
  },
  {
   "cell_type": "code",
   "execution_count": 51,
   "metadata": {},
   "outputs": [
    {
     "data": {
      "text/html": [
       "<div>\n",
       "<style scoped>\n",
       "    .dataframe tbody tr th:only-of-type {\n",
       "        vertical-align: middle;\n",
       "    }\n",
       "\n",
       "    .dataframe tbody tr th {\n",
       "        vertical-align: top;\n",
       "    }\n",
       "\n",
       "    .dataframe thead th {\n",
       "        text-align: right;\n",
       "    }\n",
       "</style>\n",
       "<table border=\"1\" class=\"dataframe\">\n",
       "  <thead>\n",
       "    <tr style=\"text-align: right;\">\n",
       "      <th></th>\n",
       "      <th>NO_ENTIDADE</th>\n",
       "      <th>TP_DEPENDENCIA</th>\n",
       "      <th>TP_CATEGORIA_ESCOLA_PRIVADA</th>\n",
       "      <th>TP_LOCALIZACAO</th>\n",
       "      <th>TP_LOCALIZACAO_DIFERENCIADA</th>\n",
       "      <th>TP_SITUACAO_FUNCIONAMENTO</th>\n",
       "      <th>IN_LOCAL_FUNC_PREDIO_ESCOLAR</th>\n",
       "      <th>TP_OCUPACAO_PREDIO_ESCOLAR</th>\n",
       "      <th>IN_LOCAL_FUNC_SOCIOEDUCATIVO</th>\n",
       "      <th>IN_LOCAL_FUNC_UNID_PRISIONAL</th>\n",
       "      <th>IN_LOCAL_FUNC_PRISIONAL_SOCIO</th>\n",
       "      <th>IN_LOCAL_FUNC_GALPAO</th>\n",
       "      <th>IN_LOCAL_FUNC_SALAS_OUTRA_ESC</th>\n",
       "      <th>IN_LOCAL_FUNC_OUTROS</th>\n",
       "      <th>IN_PREDIO_COMPARTILHADO</th>\n",
       "      <th>IN_AGUA_POTAVEL</th>\n",
       "      <th>IN_AGUA_REDE_PUBLICA</th>\n",
       "      <th>IN_AGUA_POCO_ARTESIANO</th>\n",
       "      <th>IN_AGUA_CACIMBA</th>\n",
       "      <th>IN_AGUA_FONTE_RIO</th>\n",
       "      <th>IN_AGUA_INEXISTENTE</th>\n",
       "      <th>IN_ENERGIA_REDE_PUBLICA</th>\n",
       "      <th>IN_ENERGIA_GERADOR_FOSSIL</th>\n",
       "      <th>IN_ENERGIA_RENOVAVEL</th>\n",
       "      <th>IN_ENERGIA_INEXISTENTE</th>\n",
       "      <th>IN_ESGOTO_REDE_PUBLICA</th>\n",
       "      <th>IN_ESGOTO_FOSSA_SEPTICA</th>\n",
       "      <th>IN_ESGOTO_FOSSA_COMUM</th>\n",
       "      <th>IN_ESGOTO_FOSSA</th>\n",
       "      <th>IN_ESGOTO_INEXISTENTE</th>\n",
       "      <th>IN_LIXO_SERVICO_COLETA</th>\n",
       "      <th>IN_LIXO_QUEIMA</th>\n",
       "      <th>IN_LIXO_ENTERRA</th>\n",
       "      <th>IN_LIXO_DESTINO_FINAL_PUBLICO</th>\n",
       "      <th>IN_LIXO_DESCARTA_OUTRA_AREA</th>\n",
       "      <th>IN_ALMOXARIFADO</th>\n",
       "      <th>IN_AREA_VERDE</th>\n",
       "      <th>IN_AUDITORIO</th>\n",
       "      <th>IN_BANHEIRO</th>\n",
       "      <th>IN_BANHEIRO_EI</th>\n",
       "      <th>IN_BANHEIRO_PNE</th>\n",
       "      <th>IN_BANHEIRO_FUNCIONARIOS</th>\n",
       "      <th>IN_BANHEIRO_CHUVEIRO</th>\n",
       "      <th>IN_BIBLIOTECA</th>\n",
       "      <th>IN_BIBLIOTECA_SALA_LEITURA</th>\n",
       "      <th>IN_COZINHA</th>\n",
       "      <th>IN_DESPENSA</th>\n",
       "      <th>IN_DORMITORIO_ALUNO</th>\n",
       "      <th>IN_DORMITORIO_PROFESSOR</th>\n",
       "      <th>IN_LABORATORIO_CIENCIAS</th>\n",
       "      <th>IN_LABORATORIO_INFORMATICA</th>\n",
       "      <th>IN_LABORATORIO_EDUC_PROF</th>\n",
       "      <th>IN_PATIO_COBERTO</th>\n",
       "      <th>IN_PATIO_DESCOBERTO</th>\n",
       "      <th>IN_PARQUE_INFANTIL</th>\n",
       "      <th>IN_PISCINA</th>\n",
       "      <th>IN_QUADRA_ESPORTES</th>\n",
       "      <th>IN_QUADRA_ESPORTES_COBERTA</th>\n",
       "      <th>IN_QUADRA_ESPORTES_DESCOBERTA</th>\n",
       "      <th>IN_REFEITORIO</th>\n",
       "      <th>IN_SALA_ATELIE_ARTES</th>\n",
       "      <th>IN_SALA_MUSICA_CORAL</th>\n",
       "      <th>IN_SALA_ESTUDIO_DANCA</th>\n",
       "      <th>IN_SALA_MULTIUSO</th>\n",
       "      <th>IN_SALA_ESTUDIO_GRAVACAO</th>\n",
       "      <th>IN_SALA_OFICINAS_EDUC_PROF</th>\n",
       "      <th>IN_SALA_DIRETORIA</th>\n",
       "      <th>IN_SALA_LEITURA</th>\n",
       "      <th>IN_SALA_PROFESSOR</th>\n",
       "      <th>IN_SALA_REPOUSO_ALUNO</th>\n",
       "      <th>IN_SECRETARIA</th>\n",
       "      <th>IN_SALA_ATENDIMENTO_ESPECIAL</th>\n",
       "      <th>IN_TERREIRAO</th>\n",
       "      <th>IN_VIVEIRO</th>\n",
       "      <th>IN_DEPENDENCIAS_OUTRAS</th>\n",
       "      <th>IN_ACESSIBILIDADE_CORRIMAO</th>\n",
       "      <th>IN_ACESSIBILIDADE_ELEVADOR</th>\n",
       "      <th>IN_ACESSIBILIDADE_PISOS_TATEIS</th>\n",
       "      <th>IN_ACESSIBILIDADE_VAO_LIVRE</th>\n",
       "      <th>IN_ACESSIBILIDADE_RAMPAS</th>\n",
       "      <th>IN_ACESSIBILIDADE_SINAL_SONORO</th>\n",
       "      <th>IN_ACESSIBILIDADE_SINAL_TATIL</th>\n",
       "      <th>IN_ACESSIBILIDADE_SINAL_VISUAL</th>\n",
       "      <th>IN_ACESSIBILIDADE_INEXISTENTE</th>\n",
       "      <th>QT_SALAS_UTILIZADAS_DENTRO</th>\n",
       "      <th>QT_SALAS_UTILIZADAS_FORA</th>\n",
       "      <th>QT_SALAS_UTILIZADAS</th>\n",
       "      <th>QT_SALAS_UTILIZA_CLIMATIZADAS</th>\n",
       "      <th>QT_SALAS_UTILIZADAS_ACESSIVEIS</th>\n",
       "      <th>IN_EQUIP_PARABOLICA</th>\n",
       "      <th>IN_COMPUTADOR</th>\n",
       "      <th>IN_EQUIP_COPIADORA</th>\n",
       "      <th>IN_EQUIP_IMPRESSORA</th>\n",
       "      <th>IN_EQUIP_IMPRESSORA_MULT</th>\n",
       "      <th>IN_EQUIP_SCANNER</th>\n",
       "      <th>QT_EQUIP_DVD</th>\n",
       "      <th>QT_EQUIP_SOM</th>\n",
       "      <th>QT_EQUIP_TV</th>\n",
       "      <th>QT_EQUIP_LOUSA_DIGITAL</th>\n",
       "      <th>QT_EQUIP_MULTIMIDIA</th>\n",
       "      <th>QT_DESKTOP_ALUNO</th>\n",
       "      <th>QT_COMP_PORTATIL_ALUNO</th>\n",
       "      <th>QT_TABLET_ALUNO</th>\n",
       "      <th>IN_INTERNET</th>\n",
       "      <th>IN_INTERNET_ALUNOS</th>\n",
       "      <th>IN_INTERNET_ADMINISTRATIVO</th>\n",
       "      <th>IN_INTERNET_APRENDIZAGEM</th>\n",
       "      <th>IN_INTERNET_COMUNIDADE</th>\n",
       "      <th>IN_ACESSO_INTERNET_COMPUTADOR</th>\n",
       "      <th>IN_ACES_INTERNET_DISP_PESSOAIS</th>\n",
       "      <th>TP_REDE_LOCAL</th>\n",
       "      <th>IN_BANDA_LARGA</th>\n",
       "      <th>IN_MATERIAL_PED_MULTIMIDIA</th>\n",
       "      <th>IN_MATERIAL_PED_INFANTIL</th>\n",
       "      <th>IN_MATERIAL_PED_CIENTIFICO</th>\n",
       "      <th>IN_MATERIAL_PED_DIFUSAO</th>\n",
       "      <th>IN_MATERIAL_PED_MUSICAL</th>\n",
       "      <th>IN_MATERIAL_PED_JOGOS</th>\n",
       "      <th>IN_MATERIAL_PED_ARTISTICAS</th>\n",
       "      <th>IN_MATERIAL_PED_PROFISSIONAL</th>\n",
       "      <th>IN_MATERIAL_PED_DESPORTIVA</th>\n",
       "      <th>IN_MATERIAL_PED_INDIGENA</th>\n",
       "      <th>IN_MATERIAL_PED_ETNICO</th>\n",
       "      <th>IN_MATERIAL_PED_CAMPO</th>\n",
       "      <th>IN_MATERIAL_PED_BIL_SURDOS</th>\n",
       "      <th>IN_MATERIAL_PED_NENHUM</th>\n",
       "      <th>QT_MAT_BAS</th>\n",
       "      <th>QT_MAT_INF</th>\n",
       "      <th>QT_MAT_INF_CRE</th>\n",
       "      <th>QT_MAT_INF_PRE</th>\n",
       "      <th>QT_MAT_FUND</th>\n",
       "      <th>QT_MAT_FUND_AI</th>\n",
       "      <th>QT_MAT_FUND_AI_1</th>\n",
       "      <th>QT_MAT_FUND_AI_2</th>\n",
       "      <th>QT_MAT_FUND_AI_3</th>\n",
       "      <th>QT_MAT_FUND_AI_4</th>\n",
       "      <th>QT_MAT_FUND_AI_5</th>\n",
       "      <th>QT_MAT_FUND_AF</th>\n",
       "      <th>QT_MAT_FUND_AF_6</th>\n",
       "      <th>QT_MAT_FUND_AF_7</th>\n",
       "      <th>QT_MAT_FUND_AF_8</th>\n",
       "      <th>QT_MAT_FUND_AF_9</th>\n",
       "      <th>QT_MAT_MED</th>\n",
       "      <th>QT_MAT_MED_PROP</th>\n",
       "      <th>QT_MAT_MED_PROP_1</th>\n",
       "      <th>QT_MAT_MED_PROP_2</th>\n",
       "      <th>QT_MAT_MED_PROP_3</th>\n",
       "      <th>QT_MAT_MED_PROP_4</th>\n",
       "      <th>QT_MAT_MED_PROP_NS</th>\n",
       "      <th>QT_MAT_MED_CT</th>\n",
       "      <th>QT_MAT_MED_CT_1</th>\n",
       "      <th>QT_MAT_MED_CT_2</th>\n",
       "      <th>QT_MAT_MED_CT_3</th>\n",
       "      <th>QT_MAT_MED_CT_4</th>\n",
       "      <th>QT_MAT_MED_CT_NS</th>\n",
       "      <th>QT_MAT_MED_NM</th>\n",
       "      <th>QT_MAT_MED_NM_1</th>\n",
       "      <th>QT_MAT_MED_NM_2</th>\n",
       "      <th>QT_MAT_MED_NM_3</th>\n",
       "      <th>QT_MAT_MED_NM_4</th>\n",
       "      <th>QT_MAT_PROF</th>\n",
       "      <th>QT_MAT_PROF_TEC</th>\n",
       "      <th>QT_MAT_PROF_TEC_CONC</th>\n",
       "      <th>QT_MAT_PROF_TEC_SUBS</th>\n",
       "      <th>QT_MAT_PROF_FIC_CONC</th>\n",
       "      <th>QT_MAT_EJA</th>\n",
       "      <th>QT_MAT_EJA_FUND</th>\n",
       "      <th>QT_MAT_EJA_FUND_AI</th>\n",
       "      <th>QT_MAT_EJA_FUND_AF</th>\n",
       "      <th>QT_MAT_EJA_FUND_FIC</th>\n",
       "      <th>QT_MAT_EJA_MED</th>\n",
       "      <th>QT_MAT_EJA_MED_NPROF</th>\n",
       "      <th>QT_MAT_EJA_MED_FIC</th>\n",
       "      <th>QT_MAT_EJA_MED_TEC</th>\n",
       "    </tr>\n",
       "  </thead>\n",
       "  <tbody>\n",
       "  </tbody>\n",
       "</table>\n",
       "</div>"
      ],
      "text/plain": [
       "Empty DataFrame\n",
       "Columns: [NO_ENTIDADE, TP_DEPENDENCIA, TP_CATEGORIA_ESCOLA_PRIVADA, TP_LOCALIZACAO, TP_LOCALIZACAO_DIFERENCIADA, TP_SITUACAO_FUNCIONAMENTO, IN_LOCAL_FUNC_PREDIO_ESCOLAR, TP_OCUPACAO_PREDIO_ESCOLAR, IN_LOCAL_FUNC_SOCIOEDUCATIVO, IN_LOCAL_FUNC_UNID_PRISIONAL, IN_LOCAL_FUNC_PRISIONAL_SOCIO, IN_LOCAL_FUNC_GALPAO, IN_LOCAL_FUNC_SALAS_OUTRA_ESC, IN_LOCAL_FUNC_OUTROS, IN_PREDIO_COMPARTILHADO, IN_AGUA_POTAVEL, IN_AGUA_REDE_PUBLICA, IN_AGUA_POCO_ARTESIANO, IN_AGUA_CACIMBA, IN_AGUA_FONTE_RIO, IN_AGUA_INEXISTENTE, IN_ENERGIA_REDE_PUBLICA, IN_ENERGIA_GERADOR_FOSSIL, IN_ENERGIA_RENOVAVEL, IN_ENERGIA_INEXISTENTE, IN_ESGOTO_REDE_PUBLICA, IN_ESGOTO_FOSSA_SEPTICA, IN_ESGOTO_FOSSA_COMUM, IN_ESGOTO_FOSSA, IN_ESGOTO_INEXISTENTE, IN_LIXO_SERVICO_COLETA, IN_LIXO_QUEIMA, IN_LIXO_ENTERRA, IN_LIXO_DESTINO_FINAL_PUBLICO, IN_LIXO_DESCARTA_OUTRA_AREA, IN_ALMOXARIFADO, IN_AREA_VERDE, IN_AUDITORIO, IN_BANHEIRO, IN_BANHEIRO_EI, IN_BANHEIRO_PNE, IN_BANHEIRO_FUNCIONARIOS, IN_BANHEIRO_CHUVEIRO, IN_BIBLIOTECA, IN_BIBLIOTECA_SALA_LEITURA, IN_COZINHA, IN_DESPENSA, IN_DORMITORIO_ALUNO, IN_DORMITORIO_PROFESSOR, IN_LABORATORIO_CIENCIAS, IN_LABORATORIO_INFORMATICA, IN_LABORATORIO_EDUC_PROF, IN_PATIO_COBERTO, IN_PATIO_DESCOBERTO, IN_PARQUE_INFANTIL, IN_PISCINA, IN_QUADRA_ESPORTES, IN_QUADRA_ESPORTES_COBERTA, IN_QUADRA_ESPORTES_DESCOBERTA, IN_REFEITORIO, IN_SALA_ATELIE_ARTES, IN_SALA_MUSICA_CORAL, IN_SALA_ESTUDIO_DANCA, IN_SALA_MULTIUSO, IN_SALA_ESTUDIO_GRAVACAO, IN_SALA_OFICINAS_EDUC_PROF, IN_SALA_DIRETORIA, IN_SALA_LEITURA, IN_SALA_PROFESSOR, IN_SALA_REPOUSO_ALUNO, IN_SECRETARIA, IN_SALA_ATENDIMENTO_ESPECIAL, IN_TERREIRAO, IN_VIVEIRO, IN_DEPENDENCIAS_OUTRAS, IN_ACESSIBILIDADE_CORRIMAO, IN_ACESSIBILIDADE_ELEVADOR, IN_ACESSIBILIDADE_PISOS_TATEIS, IN_ACESSIBILIDADE_VAO_LIVRE, IN_ACESSIBILIDADE_RAMPAS, IN_ACESSIBILIDADE_SINAL_SONORO, IN_ACESSIBILIDADE_SINAL_TATIL, IN_ACESSIBILIDADE_SINAL_VISUAL, IN_ACESSIBILIDADE_INEXISTENTE, QT_SALAS_UTILIZADAS_DENTRO, QT_SALAS_UTILIZADAS_FORA, QT_SALAS_UTILIZADAS, QT_SALAS_UTILIZA_CLIMATIZADAS, QT_SALAS_UTILIZADAS_ACESSIVEIS, IN_EQUIP_PARABOLICA, IN_COMPUTADOR, IN_EQUIP_COPIADORA, IN_EQUIP_IMPRESSORA, IN_EQUIP_IMPRESSORA_MULT, IN_EQUIP_SCANNER, QT_EQUIP_DVD, QT_EQUIP_SOM, QT_EQUIP_TV, QT_EQUIP_LOUSA_DIGITAL, QT_EQUIP_MULTIMIDIA, ...]\n",
       "Index: []"
      ]
     },
     "execution_count": 51,
     "metadata": {},
     "output_type": "execute_result"
    }
   ],
   "source": [
    "df[(df['TP_DEPENDENCIA'] == 4) & (df['TP_CATEGORIA_ESCOLA_PRIVADA'].isna())]"
   ]
  },
  {
   "cell_type": "code",
   "execution_count": 52,
   "metadata": {},
   "outputs": [
    {
     "data": {
      "text/plain": [
       "TP_CATEGORIA_ESCOLA_PRIVADA\n",
       "-1.0    136921\n",
       " 1.0     31275\n",
       " 4.0      7675\n",
       " 2.0      2198\n",
       " 3.0       407\n",
       "Name: count, dtype: int64"
      ]
     },
     "execution_count": 52,
     "metadata": {},
     "output_type": "execute_result"
    }
   ],
   "source": [
    "df.loc[(df['TP_DEPENDENCIA'] < 4) & (df['TP_CATEGORIA_ESCOLA_PRIVADA'].isna()), 'TP_CATEGORIA_ESCOLA_PRIVADA'] = -1\n",
    "df['TP_CATEGORIA_ESCOLA_PRIVADA'].value_counts(dropna=False)"
   ]
  },
  {
   "cell_type": "markdown",
   "metadata": {},
   "source": [
    "### Local da Escola"
   ]
  },
  {
   "cell_type": "markdown",
   "metadata": {},
   "source": [
    "#### TP_LOCALIZACAO"
   ]
  },
  {
   "cell_type": "markdown",
   "metadata": {},
   "source": [
    "- 1 - Urbana\n",
    "- 2 - Rural"
   ]
  },
  {
   "cell_type": "code",
   "execution_count": 53,
   "metadata": {},
   "outputs": [
    {
     "name": "stdout",
     "output_type": "stream",
     "text": [
      "\n",
      "Contagem de valores:\n"
     ]
    },
    {
     "data": {
      "text/plain": [
       "TP_LOCALIZACAO\n",
       "1    126620\n",
       "2     51856\n",
       "Name: count, dtype: int64"
      ]
     },
     "metadata": {},
     "output_type": "display_data"
    },
    {
     "name": "stdout",
     "output_type": "stream",
     "text": [
      "\n",
      "Quantidade de valores ausentes\n"
     ]
    },
    {
     "data": {
      "text/plain": [
       "TP_LOCALIZACAO\n",
       "False    178476\n",
       "Name: count, dtype: int64"
      ]
     },
     "metadata": {},
     "output_type": "display_data"
    }
   ],
   "source": [
    "basic_exploration(df, 'TP_LOCALIZACAO', 'category')"
   ]
  },
  {
   "cell_type": "markdown",
   "metadata": {},
   "source": [
    "#### TP_LOCALIZACAO_DIFERENCIADA"
   ]
  },
  {
   "cell_type": "markdown",
   "metadata": {},
   "source": [
    "- 0 - A escola não está em área de localização diferenciada\n",
    "- 1 - Área de assentamento\n",
    "- 2 - Terra indígena\n",
    "- 3 - Área onde se localiza comunidade remanescente de quilombos\n",
    "- 8 - Área onde se localizam povos e comunidades tradicionais"
   ]
  },
  {
   "cell_type": "code",
   "execution_count": 54,
   "metadata": {},
   "outputs": [
    {
     "name": "stdout",
     "output_type": "stream",
     "text": [
      "\n",
      "Contagem de valores:\n"
     ]
    },
    {
     "data": {
      "text/plain": [
       "TP_LOCALIZACAO_DIFERENCIADA\n",
       "0.0    166969\n",
       "1.0      4552\n",
       "2.0      3588\n",
       "3.0      2601\n",
       "8.0       766\n",
       "Name: count, dtype: int64"
      ]
     },
     "metadata": {},
     "output_type": "display_data"
    },
    {
     "name": "stdout",
     "output_type": "stream",
     "text": [
      "\n",
      "Quantidade de valores ausentes\n"
     ]
    },
    {
     "data": {
      "text/plain": [
       "TP_LOCALIZACAO_DIFERENCIADA\n",
       "False    178476\n",
       "Name: count, dtype: int64"
      ]
     },
     "metadata": {},
     "output_type": "display_data"
    }
   ],
   "source": [
    "basic_exploration(df, 'TP_LOCALIZACAO_DIFERENCIADA', 'category')"
   ]
  },
  {
   "cell_type": "markdown",
   "metadata": {},
   "source": [
    "#### IN_LOCAL_FUNC_PREDIO_ESCOLAR"
   ]
  },
  {
   "cell_type": "markdown",
   "metadata": {},
   "source": [
    "- 1 - Sim\n",
    "- 0 - Não\n"
   ]
  },
  {
   "cell_type": "code",
   "execution_count": 55,
   "metadata": {},
   "outputs": [
    {
     "name": "stdout",
     "output_type": "stream",
     "text": [
      "\n",
      "Contagem de valores:\n"
     ]
    },
    {
     "data": {
      "text/plain": [
       "IN_LOCAL_FUNC_PREDIO_ESCOLAR\n",
       "1.0    174442\n",
       "0.0      4034\n",
       "Name: count, dtype: int64"
      ]
     },
     "metadata": {},
     "output_type": "display_data"
    },
    {
     "name": "stdout",
     "output_type": "stream",
     "text": [
      "\n",
      "Quantidade de valores ausentes\n"
     ]
    },
    {
     "data": {
      "text/plain": [
       "IN_LOCAL_FUNC_PREDIO_ESCOLAR\n",
       "False    178476\n",
       "Name: count, dtype: int64"
      ]
     },
     "metadata": {},
     "output_type": "display_data"
    }
   ],
   "source": [
    "basic_exploration(df, 'IN_LOCAL_FUNC_PREDIO_ESCOLAR', 'binary')"
   ]
  },
  {
   "cell_type": "markdown",
   "metadata": {},
   "source": [
    "#### TP_OCUPACAO_PREDIO_ESCOLAR"
   ]
  },
  {
   "cell_type": "markdown",
   "metadata": {},
   "source": [
    "- 1 - Próprio\n",
    "- 2 - Alugado\n",
    "- 3 - Cedido\n",
    "\n",
    "\\* Não aplicável para escolas que não ocupam prédio escolar"
   ]
  },
  {
   "cell_type": "code",
   "execution_count": 56,
   "metadata": {},
   "outputs": [
    {
     "name": "stdout",
     "output_type": "stream",
     "text": [
      "\n",
      "Contagem de valores:\n"
     ]
    },
    {
     "data": {
      "text/plain": [
       "TP_OCUPACAO_PREDIO_ESCOLAR\n",
       "1.0    141886\n",
       "2.0     21400\n",
       "3.0     11156\n",
       "NaN      4034\n",
       "Name: count, dtype: int64"
      ]
     },
     "metadata": {},
     "output_type": "display_data"
    },
    {
     "name": "stdout",
     "output_type": "stream",
     "text": [
      "\n",
      "Quantidade de valores ausentes\n"
     ]
    },
    {
     "data": {
      "text/plain": [
       "TP_OCUPACAO_PREDIO_ESCOLAR\n",
       "False    174442\n",
       "True       4034\n",
       "Name: count, dtype: int64"
      ]
     },
     "metadata": {},
     "output_type": "display_data"
    }
   ],
   "source": [
    "basic_exploration(df, 'TP_OCUPACAO_PREDIO_ESCOLAR', 'category')"
   ]
  },
  {
   "cell_type": "code",
   "execution_count": 57,
   "metadata": {},
   "outputs": [
    {
     "data": {
      "text/html": [
       "<div>\n",
       "<style scoped>\n",
       "    .dataframe tbody tr th:only-of-type {\n",
       "        vertical-align: middle;\n",
       "    }\n",
       "\n",
       "    .dataframe tbody tr th {\n",
       "        vertical-align: top;\n",
       "    }\n",
       "\n",
       "    .dataframe thead th {\n",
       "        text-align: right;\n",
       "    }\n",
       "</style>\n",
       "<table border=\"1\" class=\"dataframe\">\n",
       "  <thead>\n",
       "    <tr style=\"text-align: right;\">\n",
       "      <th></th>\n",
       "      <th>NO_ENTIDADE</th>\n",
       "      <th>TP_DEPENDENCIA</th>\n",
       "      <th>TP_CATEGORIA_ESCOLA_PRIVADA</th>\n",
       "      <th>TP_LOCALIZACAO</th>\n",
       "      <th>TP_LOCALIZACAO_DIFERENCIADA</th>\n",
       "      <th>TP_SITUACAO_FUNCIONAMENTO</th>\n",
       "      <th>IN_LOCAL_FUNC_PREDIO_ESCOLAR</th>\n",
       "      <th>TP_OCUPACAO_PREDIO_ESCOLAR</th>\n",
       "      <th>IN_LOCAL_FUNC_SOCIOEDUCATIVO</th>\n",
       "      <th>IN_LOCAL_FUNC_UNID_PRISIONAL</th>\n",
       "      <th>IN_LOCAL_FUNC_PRISIONAL_SOCIO</th>\n",
       "      <th>IN_LOCAL_FUNC_GALPAO</th>\n",
       "      <th>IN_LOCAL_FUNC_SALAS_OUTRA_ESC</th>\n",
       "      <th>IN_LOCAL_FUNC_OUTROS</th>\n",
       "      <th>IN_PREDIO_COMPARTILHADO</th>\n",
       "      <th>IN_AGUA_POTAVEL</th>\n",
       "      <th>IN_AGUA_REDE_PUBLICA</th>\n",
       "      <th>IN_AGUA_POCO_ARTESIANO</th>\n",
       "      <th>IN_AGUA_CACIMBA</th>\n",
       "      <th>IN_AGUA_FONTE_RIO</th>\n",
       "      <th>IN_AGUA_INEXISTENTE</th>\n",
       "      <th>IN_ENERGIA_REDE_PUBLICA</th>\n",
       "      <th>IN_ENERGIA_GERADOR_FOSSIL</th>\n",
       "      <th>IN_ENERGIA_RENOVAVEL</th>\n",
       "      <th>IN_ENERGIA_INEXISTENTE</th>\n",
       "      <th>IN_ESGOTO_REDE_PUBLICA</th>\n",
       "      <th>IN_ESGOTO_FOSSA_SEPTICA</th>\n",
       "      <th>IN_ESGOTO_FOSSA_COMUM</th>\n",
       "      <th>IN_ESGOTO_FOSSA</th>\n",
       "      <th>IN_ESGOTO_INEXISTENTE</th>\n",
       "      <th>IN_LIXO_SERVICO_COLETA</th>\n",
       "      <th>IN_LIXO_QUEIMA</th>\n",
       "      <th>IN_LIXO_ENTERRA</th>\n",
       "      <th>IN_LIXO_DESTINO_FINAL_PUBLICO</th>\n",
       "      <th>IN_LIXO_DESCARTA_OUTRA_AREA</th>\n",
       "      <th>IN_ALMOXARIFADO</th>\n",
       "      <th>IN_AREA_VERDE</th>\n",
       "      <th>IN_AUDITORIO</th>\n",
       "      <th>IN_BANHEIRO</th>\n",
       "      <th>IN_BANHEIRO_EI</th>\n",
       "      <th>IN_BANHEIRO_PNE</th>\n",
       "      <th>IN_BANHEIRO_FUNCIONARIOS</th>\n",
       "      <th>IN_BANHEIRO_CHUVEIRO</th>\n",
       "      <th>IN_BIBLIOTECA</th>\n",
       "      <th>IN_BIBLIOTECA_SALA_LEITURA</th>\n",
       "      <th>IN_COZINHA</th>\n",
       "      <th>IN_DESPENSA</th>\n",
       "      <th>IN_DORMITORIO_ALUNO</th>\n",
       "      <th>IN_DORMITORIO_PROFESSOR</th>\n",
       "      <th>IN_LABORATORIO_CIENCIAS</th>\n",
       "      <th>IN_LABORATORIO_INFORMATICA</th>\n",
       "      <th>IN_LABORATORIO_EDUC_PROF</th>\n",
       "      <th>IN_PATIO_COBERTO</th>\n",
       "      <th>IN_PATIO_DESCOBERTO</th>\n",
       "      <th>IN_PARQUE_INFANTIL</th>\n",
       "      <th>IN_PISCINA</th>\n",
       "      <th>IN_QUADRA_ESPORTES</th>\n",
       "      <th>IN_QUADRA_ESPORTES_COBERTA</th>\n",
       "      <th>IN_QUADRA_ESPORTES_DESCOBERTA</th>\n",
       "      <th>IN_REFEITORIO</th>\n",
       "      <th>IN_SALA_ATELIE_ARTES</th>\n",
       "      <th>IN_SALA_MUSICA_CORAL</th>\n",
       "      <th>IN_SALA_ESTUDIO_DANCA</th>\n",
       "      <th>IN_SALA_MULTIUSO</th>\n",
       "      <th>IN_SALA_ESTUDIO_GRAVACAO</th>\n",
       "      <th>IN_SALA_OFICINAS_EDUC_PROF</th>\n",
       "      <th>IN_SALA_DIRETORIA</th>\n",
       "      <th>IN_SALA_LEITURA</th>\n",
       "      <th>IN_SALA_PROFESSOR</th>\n",
       "      <th>IN_SALA_REPOUSO_ALUNO</th>\n",
       "      <th>IN_SECRETARIA</th>\n",
       "      <th>IN_SALA_ATENDIMENTO_ESPECIAL</th>\n",
       "      <th>IN_TERREIRAO</th>\n",
       "      <th>IN_VIVEIRO</th>\n",
       "      <th>IN_DEPENDENCIAS_OUTRAS</th>\n",
       "      <th>IN_ACESSIBILIDADE_CORRIMAO</th>\n",
       "      <th>IN_ACESSIBILIDADE_ELEVADOR</th>\n",
       "      <th>IN_ACESSIBILIDADE_PISOS_TATEIS</th>\n",
       "      <th>IN_ACESSIBILIDADE_VAO_LIVRE</th>\n",
       "      <th>IN_ACESSIBILIDADE_RAMPAS</th>\n",
       "      <th>IN_ACESSIBILIDADE_SINAL_SONORO</th>\n",
       "      <th>IN_ACESSIBILIDADE_SINAL_TATIL</th>\n",
       "      <th>IN_ACESSIBILIDADE_SINAL_VISUAL</th>\n",
       "      <th>IN_ACESSIBILIDADE_INEXISTENTE</th>\n",
       "      <th>QT_SALAS_UTILIZADAS_DENTRO</th>\n",
       "      <th>QT_SALAS_UTILIZADAS_FORA</th>\n",
       "      <th>QT_SALAS_UTILIZADAS</th>\n",
       "      <th>QT_SALAS_UTILIZA_CLIMATIZADAS</th>\n",
       "      <th>QT_SALAS_UTILIZADAS_ACESSIVEIS</th>\n",
       "      <th>IN_EQUIP_PARABOLICA</th>\n",
       "      <th>IN_COMPUTADOR</th>\n",
       "      <th>IN_EQUIP_COPIADORA</th>\n",
       "      <th>IN_EQUIP_IMPRESSORA</th>\n",
       "      <th>IN_EQUIP_IMPRESSORA_MULT</th>\n",
       "      <th>IN_EQUIP_SCANNER</th>\n",
       "      <th>QT_EQUIP_DVD</th>\n",
       "      <th>QT_EQUIP_SOM</th>\n",
       "      <th>QT_EQUIP_TV</th>\n",
       "      <th>QT_EQUIP_LOUSA_DIGITAL</th>\n",
       "      <th>QT_EQUIP_MULTIMIDIA</th>\n",
       "      <th>QT_DESKTOP_ALUNO</th>\n",
       "      <th>QT_COMP_PORTATIL_ALUNO</th>\n",
       "      <th>QT_TABLET_ALUNO</th>\n",
       "      <th>IN_INTERNET</th>\n",
       "      <th>IN_INTERNET_ALUNOS</th>\n",
       "      <th>IN_INTERNET_ADMINISTRATIVO</th>\n",
       "      <th>IN_INTERNET_APRENDIZAGEM</th>\n",
       "      <th>IN_INTERNET_COMUNIDADE</th>\n",
       "      <th>IN_ACESSO_INTERNET_COMPUTADOR</th>\n",
       "      <th>IN_ACES_INTERNET_DISP_PESSOAIS</th>\n",
       "      <th>TP_REDE_LOCAL</th>\n",
       "      <th>IN_BANDA_LARGA</th>\n",
       "      <th>IN_MATERIAL_PED_MULTIMIDIA</th>\n",
       "      <th>IN_MATERIAL_PED_INFANTIL</th>\n",
       "      <th>IN_MATERIAL_PED_CIENTIFICO</th>\n",
       "      <th>IN_MATERIAL_PED_DIFUSAO</th>\n",
       "      <th>IN_MATERIAL_PED_MUSICAL</th>\n",
       "      <th>IN_MATERIAL_PED_JOGOS</th>\n",
       "      <th>IN_MATERIAL_PED_ARTISTICAS</th>\n",
       "      <th>IN_MATERIAL_PED_PROFISSIONAL</th>\n",
       "      <th>IN_MATERIAL_PED_DESPORTIVA</th>\n",
       "      <th>IN_MATERIAL_PED_INDIGENA</th>\n",
       "      <th>IN_MATERIAL_PED_ETNICO</th>\n",
       "      <th>IN_MATERIAL_PED_CAMPO</th>\n",
       "      <th>IN_MATERIAL_PED_BIL_SURDOS</th>\n",
       "      <th>IN_MATERIAL_PED_NENHUM</th>\n",
       "      <th>QT_MAT_BAS</th>\n",
       "      <th>QT_MAT_INF</th>\n",
       "      <th>QT_MAT_INF_CRE</th>\n",
       "      <th>QT_MAT_INF_PRE</th>\n",
       "      <th>QT_MAT_FUND</th>\n",
       "      <th>QT_MAT_FUND_AI</th>\n",
       "      <th>QT_MAT_FUND_AI_1</th>\n",
       "      <th>QT_MAT_FUND_AI_2</th>\n",
       "      <th>QT_MAT_FUND_AI_3</th>\n",
       "      <th>QT_MAT_FUND_AI_4</th>\n",
       "      <th>QT_MAT_FUND_AI_5</th>\n",
       "      <th>QT_MAT_FUND_AF</th>\n",
       "      <th>QT_MAT_FUND_AF_6</th>\n",
       "      <th>QT_MAT_FUND_AF_7</th>\n",
       "      <th>QT_MAT_FUND_AF_8</th>\n",
       "      <th>QT_MAT_FUND_AF_9</th>\n",
       "      <th>QT_MAT_MED</th>\n",
       "      <th>QT_MAT_MED_PROP</th>\n",
       "      <th>QT_MAT_MED_PROP_1</th>\n",
       "      <th>QT_MAT_MED_PROP_2</th>\n",
       "      <th>QT_MAT_MED_PROP_3</th>\n",
       "      <th>QT_MAT_MED_PROP_4</th>\n",
       "      <th>QT_MAT_MED_PROP_NS</th>\n",
       "      <th>QT_MAT_MED_CT</th>\n",
       "      <th>QT_MAT_MED_CT_1</th>\n",
       "      <th>QT_MAT_MED_CT_2</th>\n",
       "      <th>QT_MAT_MED_CT_3</th>\n",
       "      <th>QT_MAT_MED_CT_4</th>\n",
       "      <th>QT_MAT_MED_CT_NS</th>\n",
       "      <th>QT_MAT_MED_NM</th>\n",
       "      <th>QT_MAT_MED_NM_1</th>\n",
       "      <th>QT_MAT_MED_NM_2</th>\n",
       "      <th>QT_MAT_MED_NM_3</th>\n",
       "      <th>QT_MAT_MED_NM_4</th>\n",
       "      <th>QT_MAT_PROF</th>\n",
       "      <th>QT_MAT_PROF_TEC</th>\n",
       "      <th>QT_MAT_PROF_TEC_CONC</th>\n",
       "      <th>QT_MAT_PROF_TEC_SUBS</th>\n",
       "      <th>QT_MAT_PROF_FIC_CONC</th>\n",
       "      <th>QT_MAT_EJA</th>\n",
       "      <th>QT_MAT_EJA_FUND</th>\n",
       "      <th>QT_MAT_EJA_FUND_AI</th>\n",
       "      <th>QT_MAT_EJA_FUND_AF</th>\n",
       "      <th>QT_MAT_EJA_FUND_FIC</th>\n",
       "      <th>QT_MAT_EJA_MED</th>\n",
       "      <th>QT_MAT_EJA_MED_NPROF</th>\n",
       "      <th>QT_MAT_EJA_MED_FIC</th>\n",
       "      <th>QT_MAT_EJA_MED_TEC</th>\n",
       "    </tr>\n",
       "  </thead>\n",
       "  <tbody>\n",
       "  </tbody>\n",
       "</table>\n",
       "</div>"
      ],
      "text/plain": [
       "Empty DataFrame\n",
       "Columns: [NO_ENTIDADE, TP_DEPENDENCIA, TP_CATEGORIA_ESCOLA_PRIVADA, TP_LOCALIZACAO, TP_LOCALIZACAO_DIFERENCIADA, TP_SITUACAO_FUNCIONAMENTO, IN_LOCAL_FUNC_PREDIO_ESCOLAR, TP_OCUPACAO_PREDIO_ESCOLAR, IN_LOCAL_FUNC_SOCIOEDUCATIVO, IN_LOCAL_FUNC_UNID_PRISIONAL, IN_LOCAL_FUNC_PRISIONAL_SOCIO, IN_LOCAL_FUNC_GALPAO, IN_LOCAL_FUNC_SALAS_OUTRA_ESC, IN_LOCAL_FUNC_OUTROS, IN_PREDIO_COMPARTILHADO, IN_AGUA_POTAVEL, IN_AGUA_REDE_PUBLICA, IN_AGUA_POCO_ARTESIANO, IN_AGUA_CACIMBA, IN_AGUA_FONTE_RIO, IN_AGUA_INEXISTENTE, IN_ENERGIA_REDE_PUBLICA, IN_ENERGIA_GERADOR_FOSSIL, IN_ENERGIA_RENOVAVEL, IN_ENERGIA_INEXISTENTE, IN_ESGOTO_REDE_PUBLICA, IN_ESGOTO_FOSSA_SEPTICA, IN_ESGOTO_FOSSA_COMUM, IN_ESGOTO_FOSSA, IN_ESGOTO_INEXISTENTE, IN_LIXO_SERVICO_COLETA, IN_LIXO_QUEIMA, IN_LIXO_ENTERRA, IN_LIXO_DESTINO_FINAL_PUBLICO, IN_LIXO_DESCARTA_OUTRA_AREA, IN_ALMOXARIFADO, IN_AREA_VERDE, IN_AUDITORIO, IN_BANHEIRO, IN_BANHEIRO_EI, IN_BANHEIRO_PNE, IN_BANHEIRO_FUNCIONARIOS, IN_BANHEIRO_CHUVEIRO, IN_BIBLIOTECA, IN_BIBLIOTECA_SALA_LEITURA, IN_COZINHA, IN_DESPENSA, IN_DORMITORIO_ALUNO, IN_DORMITORIO_PROFESSOR, IN_LABORATORIO_CIENCIAS, IN_LABORATORIO_INFORMATICA, IN_LABORATORIO_EDUC_PROF, IN_PATIO_COBERTO, IN_PATIO_DESCOBERTO, IN_PARQUE_INFANTIL, IN_PISCINA, IN_QUADRA_ESPORTES, IN_QUADRA_ESPORTES_COBERTA, IN_QUADRA_ESPORTES_DESCOBERTA, IN_REFEITORIO, IN_SALA_ATELIE_ARTES, IN_SALA_MUSICA_CORAL, IN_SALA_ESTUDIO_DANCA, IN_SALA_MULTIUSO, IN_SALA_ESTUDIO_GRAVACAO, IN_SALA_OFICINAS_EDUC_PROF, IN_SALA_DIRETORIA, IN_SALA_LEITURA, IN_SALA_PROFESSOR, IN_SALA_REPOUSO_ALUNO, IN_SECRETARIA, IN_SALA_ATENDIMENTO_ESPECIAL, IN_TERREIRAO, IN_VIVEIRO, IN_DEPENDENCIAS_OUTRAS, IN_ACESSIBILIDADE_CORRIMAO, IN_ACESSIBILIDADE_ELEVADOR, IN_ACESSIBILIDADE_PISOS_TATEIS, IN_ACESSIBILIDADE_VAO_LIVRE, IN_ACESSIBILIDADE_RAMPAS, IN_ACESSIBILIDADE_SINAL_SONORO, IN_ACESSIBILIDADE_SINAL_TATIL, IN_ACESSIBILIDADE_SINAL_VISUAL, IN_ACESSIBILIDADE_INEXISTENTE, QT_SALAS_UTILIZADAS_DENTRO, QT_SALAS_UTILIZADAS_FORA, QT_SALAS_UTILIZADAS, QT_SALAS_UTILIZA_CLIMATIZADAS, QT_SALAS_UTILIZADAS_ACESSIVEIS, IN_EQUIP_PARABOLICA, IN_COMPUTADOR, IN_EQUIP_COPIADORA, IN_EQUIP_IMPRESSORA, IN_EQUIP_IMPRESSORA_MULT, IN_EQUIP_SCANNER, QT_EQUIP_DVD, QT_EQUIP_SOM, QT_EQUIP_TV, QT_EQUIP_LOUSA_DIGITAL, QT_EQUIP_MULTIMIDIA, ...]\n",
       "Index: []"
      ]
     },
     "execution_count": 57,
     "metadata": {},
     "output_type": "execute_result"
    }
   ],
   "source": [
    "df[(df['TP_OCUPACAO_PREDIO_ESCOLAR'].isna()) & (df['IN_LOCAL_FUNC_PREDIO_ESCOLAR'] == 1)]"
   ]
  },
  {
   "cell_type": "code",
   "execution_count": 58,
   "metadata": {},
   "outputs": [
    {
     "data": {
      "text/plain": [
       "IN_LOCAL_FUNC_PREDIO_ESCOLAR  TP_OCUPACAO_PREDIO_ESCOLAR\n",
       "1.0                            1.0                          141886\n",
       "                               2.0                           21400\n",
       "                               3.0                           11156\n",
       "0.0                           -1.0                            4034\n",
       "Name: count, dtype: int64"
      ]
     },
     "execution_count": 58,
     "metadata": {},
     "output_type": "execute_result"
    }
   ],
   "source": [
    "df.loc[df['IN_LOCAL_FUNC_PREDIO_ESCOLAR'] == 0, 'TP_OCUPACAO_PREDIO_ESCOLAR'] = -1\n",
    "df[['IN_LOCAL_FUNC_PREDIO_ESCOLAR', 'TP_OCUPACAO_PREDIO_ESCOLAR']].value_counts(dropna = False)"
   ]
  },
  {
   "cell_type": "markdown",
   "metadata": {},
   "source": [
    "#### IN_LOCAL_FUNC_SOCIOEDUCATIVO"
   ]
  },
  {
   "cell_type": "markdown",
   "metadata": {},
   "source": [
    "- 1 - Sim\n",
    "- 0 - Não"
   ]
  },
  {
   "cell_type": "code",
   "execution_count": 59,
   "metadata": {},
   "outputs": [
    {
     "name": "stdout",
     "output_type": "stream",
     "text": [
      "\n",
      "Contagem de valores:\n"
     ]
    },
    {
     "data": {
      "text/plain": [
       "IN_LOCAL_FUNC_SOCIOEDUCATIVO\n",
       "0.0    178245\n",
       "1.0       231\n",
       "Name: count, dtype: int64"
      ]
     },
     "metadata": {},
     "output_type": "display_data"
    },
    {
     "name": "stdout",
     "output_type": "stream",
     "text": [
      "\n",
      "Quantidade de valores ausentes\n"
     ]
    },
    {
     "data": {
      "text/plain": [
       "IN_LOCAL_FUNC_SOCIOEDUCATIVO\n",
       "False    178476\n",
       "Name: count, dtype: int64"
      ]
     },
     "metadata": {},
     "output_type": "display_data"
    }
   ],
   "source": [
    "basic_exploration(df, 'IN_LOCAL_FUNC_SOCIOEDUCATIVO', 'binary')"
   ]
  },
  {
   "cell_type": "markdown",
   "metadata": {},
   "source": [
    "#### IN_LOCAL_FUNC_UNID_PRISIONAL"
   ]
  },
  {
   "cell_type": "markdown",
   "metadata": {},
   "source": [
    "- 1 - Sim\n",
    "- 0 - Não\n"
   ]
  },
  {
   "cell_type": "code",
   "execution_count": 60,
   "metadata": {},
   "outputs": [
    {
     "name": "stdout",
     "output_type": "stream",
     "text": [
      "\n",
      "Contagem de valores:\n"
     ]
    },
    {
     "data": {
      "text/plain": [
       "IN_LOCAL_FUNC_UNID_PRISIONAL\n",
       "0.0    177856\n",
       "1.0       620\n",
       "Name: count, dtype: int64"
      ]
     },
     "metadata": {},
     "output_type": "display_data"
    },
    {
     "name": "stdout",
     "output_type": "stream",
     "text": [
      "\n",
      "Quantidade de valores ausentes\n"
     ]
    },
    {
     "data": {
      "text/plain": [
       "IN_LOCAL_FUNC_UNID_PRISIONAL\n",
       "False    178476\n",
       "Name: count, dtype: int64"
      ]
     },
     "metadata": {},
     "output_type": "display_data"
    }
   ],
   "source": [
    "basic_exploration(df, 'IN_LOCAL_FUNC_UNID_PRISIONAL', 'binary')"
   ]
  },
  {
   "cell_type": "markdown",
   "metadata": {},
   "source": [
    "#### IN_LOCAL_FUNC_PRISIONAL_SOCIO"
   ]
  },
  {
   "cell_type": "markdown",
   "metadata": {},
   "source": [
    "- 1 - Sim\n",
    "- 0 - Não\n"
   ]
  },
  {
   "cell_type": "code",
   "execution_count": 61,
   "metadata": {},
   "outputs": [
    {
     "name": "stdout",
     "output_type": "stream",
     "text": [
      "\n",
      "Contagem de valores:\n"
     ]
    },
    {
     "data": {
      "text/plain": [
       "IN_LOCAL_FUNC_PRISIONAL_SOCIO\n",
       "0.0    177653\n",
       "1.0       823\n",
       "Name: count, dtype: int64"
      ]
     },
     "metadata": {},
     "output_type": "display_data"
    },
    {
     "name": "stdout",
     "output_type": "stream",
     "text": [
      "\n",
      "Quantidade de valores ausentes\n"
     ]
    },
    {
     "data": {
      "text/plain": [
       "IN_LOCAL_FUNC_PRISIONAL_SOCIO\n",
       "False    178476\n",
       "Name: count, dtype: int64"
      ]
     },
     "metadata": {},
     "output_type": "display_data"
    }
   ],
   "source": [
    "basic_exploration(df, 'IN_LOCAL_FUNC_PRISIONAL_SOCIO', 'binary')"
   ]
  },
  {
   "cell_type": "markdown",
   "metadata": {},
   "source": [
    "#### IN_LOCAL_FUNC_GALPAO"
   ]
  },
  {
   "cell_type": "markdown",
   "metadata": {},
   "source": [
    "- 1 - Sim\n",
    "- 0 - Não\n"
   ]
  },
  {
   "cell_type": "code",
   "execution_count": 62,
   "metadata": {},
   "outputs": [
    {
     "name": "stdout",
     "output_type": "stream",
     "text": [
      "\n",
      "Contagem de valores:\n"
     ]
    },
    {
     "data": {
      "text/plain": [
       "IN_LOCAL_FUNC_GALPAO\n",
       "0.0    176016\n",
       "1.0      2460\n",
       "Name: count, dtype: int64"
      ]
     },
     "metadata": {},
     "output_type": "display_data"
    },
    {
     "name": "stdout",
     "output_type": "stream",
     "text": [
      "\n",
      "Quantidade de valores ausentes\n"
     ]
    },
    {
     "data": {
      "text/plain": [
       "IN_LOCAL_FUNC_GALPAO\n",
       "False    178476\n",
       "Name: count, dtype: int64"
      ]
     },
     "metadata": {},
     "output_type": "display_data"
    }
   ],
   "source": [
    "basic_exploration(df, 'IN_LOCAL_FUNC_GALPAO', 'binary')"
   ]
  },
  {
   "cell_type": "markdown",
   "metadata": {},
   "source": [
    "#### IN_LOCAL_FUNC_SALAS_OUTRA_ESC"
   ]
  },
  {
   "cell_type": "markdown",
   "metadata": {},
   "source": [
    "- 1 - Sim\n",
    "- 0 - Não\n"
   ]
  },
  {
   "cell_type": "code",
   "execution_count": 63,
   "metadata": {},
   "outputs": [
    {
     "name": "stdout",
     "output_type": "stream",
     "text": [
      "\n",
      "Contagem de valores:\n"
     ]
    },
    {
     "data": {
      "text/plain": [
       "IN_LOCAL_FUNC_SALAS_OUTRA_ESC\n",
       "0.0    172801\n",
       "1.0      5675\n",
       "Name: count, dtype: int64"
      ]
     },
     "metadata": {},
     "output_type": "display_data"
    },
    {
     "name": "stdout",
     "output_type": "stream",
     "text": [
      "\n",
      "Quantidade de valores ausentes\n"
     ]
    },
    {
     "data": {
      "text/plain": [
       "IN_LOCAL_FUNC_SALAS_OUTRA_ESC\n",
       "False    178476\n",
       "Name: count, dtype: int64"
      ]
     },
     "metadata": {},
     "output_type": "display_data"
    }
   ],
   "source": [
    "basic_exploration(df, 'IN_LOCAL_FUNC_SALAS_OUTRA_ESC', 'binary')"
   ]
  },
  {
   "cell_type": "markdown",
   "metadata": {},
   "source": [
    "#### IN_LOCAL_FUNC_OUTROS"
   ]
  },
  {
   "cell_type": "markdown",
   "metadata": {},
   "source": [
    "- 1 - Sim\n",
    "- 0 - Não\n"
   ]
  },
  {
   "cell_type": "code",
   "execution_count": 64,
   "metadata": {},
   "outputs": [
    {
     "name": "stdout",
     "output_type": "stream",
     "text": [
      "\n",
      "Contagem de valores:\n"
     ]
    },
    {
     "data": {
      "text/plain": [
       "IN_LOCAL_FUNC_OUTROS\n",
       "0.0    167631\n",
       "1.0     10845\n",
       "Name: count, dtype: int64"
      ]
     },
     "metadata": {},
     "output_type": "display_data"
    },
    {
     "name": "stdout",
     "output_type": "stream",
     "text": [
      "\n",
      "Quantidade de valores ausentes\n"
     ]
    },
    {
     "data": {
      "text/plain": [
       "IN_LOCAL_FUNC_OUTROS\n",
       "False    178476\n",
       "Name: count, dtype: int64"
      ]
     },
     "metadata": {},
     "output_type": "display_data"
    }
   ],
   "source": [
    "basic_exploration(df, 'IN_LOCAL_FUNC_OUTROS', 'binary')"
   ]
  },
  {
   "cell_type": "markdown",
   "metadata": {},
   "source": [
    "#### IN_PREDIO_COMPARTILHADO"
   ]
  },
  {
   "cell_type": "markdown",
   "metadata": {},
   "source": [
    "- 0 - Não\n",
    "- 1 - Sim\n",
    "\n",
    "\\* Não aplicável para escolas que não ocupam prédio escolar"
   ]
  },
  {
   "cell_type": "code",
   "execution_count": 65,
   "metadata": {},
   "outputs": [
    {
     "name": "stdout",
     "output_type": "stream",
     "text": [
      "\n",
      "Contagem de valores:\n"
     ]
    },
    {
     "data": {
      "text/plain": [
       "IN_PREDIO_COMPARTILHADO\n",
       "0.0    166279\n",
       "1.0      8163\n",
       "NaN      4034\n",
       "Name: count, dtype: int64"
      ]
     },
     "metadata": {},
     "output_type": "display_data"
    },
    {
     "name": "stdout",
     "output_type": "stream",
     "text": [
      "\n",
      "Quantidade de valores ausentes\n"
     ]
    },
    {
     "data": {
      "text/plain": [
       "IN_PREDIO_COMPARTILHADO\n",
       "False    174442\n",
       "True       4034\n",
       "Name: count, dtype: int64"
      ]
     },
     "metadata": {},
     "output_type": "display_data"
    }
   ],
   "source": [
    "basic_exploration(df, 'IN_PREDIO_COMPARTILHADO', 'binary')"
   ]
  },
  {
   "cell_type": "code",
   "execution_count": 66,
   "metadata": {},
   "outputs": [
    {
     "data": {
      "text/plain": [
       "IN_LOCAL_FUNC_PREDIO_ESCOLAR  TP_OCUPACAO_PREDIO_ESCOLAR  IN_PREDIO_COMPARTILHADO\n",
       "1.0                            1.0                        0.0                        135313\n",
       "                               2.0                        0.0                         20988\n",
       "                               3.0                        0.0                          9978\n",
       "                               1.0                        1.0                          6573\n",
       "0.0                           -1.0                        NaN                          4034\n",
       "1.0                            3.0                        1.0                          1178\n",
       "                               2.0                        1.0                           412\n",
       "Name: count, dtype: int64"
      ]
     },
     "execution_count": 66,
     "metadata": {},
     "output_type": "execute_result"
    }
   ],
   "source": [
    "df[['IN_LOCAL_FUNC_PREDIO_ESCOLAR', 'TP_OCUPACAO_PREDIO_ESCOLAR', 'IN_PREDIO_COMPARTILHADO']].value_counts(dropna = False)"
   ]
  },
  {
   "cell_type": "code",
   "execution_count": 67,
   "metadata": {},
   "outputs": [
    {
     "data": {
      "text/plain": [
       "IN_LOCAL_FUNC_PREDIO_ESCOLAR  TP_OCUPACAO_PREDIO_ESCOLAR  IN_PREDIO_COMPARTILHADO\n",
       "1.0                            1.0                         0.0                       135313\n",
       "                               2.0                         0.0                        20988\n",
       "                               3.0                         0.0                         9978\n",
       "                               1.0                         1.0                         6573\n",
       "0.0                           -1.0                        -1.0                         4034\n",
       "1.0                            3.0                         1.0                         1178\n",
       "                               2.0                         1.0                          412\n",
       "Name: count, dtype: int64"
      ]
     },
     "execution_count": 67,
     "metadata": {},
     "output_type": "execute_result"
    }
   ],
   "source": [
    "df.loc[df['IN_LOCAL_FUNC_PREDIO_ESCOLAR'] == 0, 'IN_PREDIO_COMPARTILHADO'] = -1\n",
    "df[['IN_LOCAL_FUNC_PREDIO_ESCOLAR', 'TP_OCUPACAO_PREDIO_ESCOLAR', 'IN_PREDIO_COMPARTILHADO']].value_counts(dropna = False)"
   ]
  },
  {
   "cell_type": "markdown",
   "metadata": {},
   "source": [
    "### Abastecimento de Água"
   ]
  },
  {
   "cell_type": "markdown",
   "metadata": {},
   "source": [
    "#### IN_AGUA_POTAVEL"
   ]
  },
  {
   "cell_type": "markdown",
   "metadata": {},
   "source": [
    "- 1 - Sim\n",
    "- 0 - Não\n"
   ]
  },
  {
   "cell_type": "code",
   "execution_count": 68,
   "metadata": {},
   "outputs": [
    {
     "name": "stdout",
     "output_type": "stream",
     "text": [
      "\n",
      "Contagem de valores:\n"
     ]
    },
    {
     "data": {
      "text/plain": [
       "IN_AGUA_POTAVEL\n",
       "1.0    170596\n",
       "0.0      7880\n",
       "Name: count, dtype: int64"
      ]
     },
     "metadata": {},
     "output_type": "display_data"
    },
    {
     "name": "stdout",
     "output_type": "stream",
     "text": [
      "\n",
      "Quantidade de valores ausentes\n"
     ]
    },
    {
     "data": {
      "text/plain": [
       "IN_AGUA_POTAVEL\n",
       "False    178476\n",
       "Name: count, dtype: int64"
      ]
     },
     "metadata": {},
     "output_type": "display_data"
    }
   ],
   "source": [
    "basic_exploration(df, 'IN_AGUA_POTAVEL', 'binary')"
   ]
  },
  {
   "cell_type": "markdown",
   "metadata": {},
   "source": [
    "#### IN_AGUA_REDE_PUBLICA"
   ]
  },
  {
   "cell_type": "markdown",
   "metadata": {},
   "source": [
    "- 1 - Sim\n",
    "- 0 - Não\n"
   ]
  },
  {
   "cell_type": "code",
   "execution_count": 69,
   "metadata": {},
   "outputs": [
    {
     "name": "stdout",
     "output_type": "stream",
     "text": [
      "\n",
      "Contagem de valores:\n"
     ]
    },
    {
     "data": {
      "text/plain": [
       "IN_AGUA_REDE_PUBLICA\n",
       "1.0    137701\n",
       "0.0     40775\n",
       "Name: count, dtype: int64"
      ]
     },
     "metadata": {},
     "output_type": "display_data"
    },
    {
     "name": "stdout",
     "output_type": "stream",
     "text": [
      "\n",
      "Quantidade de valores ausentes\n"
     ]
    },
    {
     "data": {
      "text/plain": [
       "IN_AGUA_REDE_PUBLICA\n",
       "False    178476\n",
       "Name: count, dtype: int64"
      ]
     },
     "metadata": {},
     "output_type": "display_data"
    }
   ],
   "source": [
    "basic_exploration(df, 'IN_AGUA_REDE_PUBLICA', 'binary')"
   ]
  },
  {
   "cell_type": "markdown",
   "metadata": {},
   "source": [
    "#### IN_AGUA_POCO_ARTESIANO"
   ]
  },
  {
   "cell_type": "markdown",
   "metadata": {},
   "source": [
    "- 1 - Sim\n",
    "- 0 - Não\n"
   ]
  },
  {
   "cell_type": "code",
   "execution_count": 70,
   "metadata": {},
   "outputs": [
    {
     "name": "stdout",
     "output_type": "stream",
     "text": [
      "\n",
      "Contagem de valores:\n"
     ]
    },
    {
     "data": {
      "text/plain": [
       "IN_AGUA_POCO_ARTESIANO\n",
       "0.0    150071\n",
       "1.0     28405\n",
       "Name: count, dtype: int64"
      ]
     },
     "metadata": {},
     "output_type": "display_data"
    },
    {
     "name": "stdout",
     "output_type": "stream",
     "text": [
      "\n",
      "Quantidade de valores ausentes\n"
     ]
    },
    {
     "data": {
      "text/plain": [
       "IN_AGUA_POCO_ARTESIANO\n",
       "False    178476\n",
       "Name: count, dtype: int64"
      ]
     },
     "metadata": {},
     "output_type": "display_data"
    }
   ],
   "source": [
    "basic_exploration(df, 'IN_AGUA_POCO_ARTESIANO', 'binary')"
   ]
  },
  {
   "cell_type": "markdown",
   "metadata": {},
   "source": [
    "#### IN_AGUA_CACIMBA"
   ]
  },
  {
   "cell_type": "markdown",
   "metadata": {},
   "source": [
    "- 1 - Sim\n",
    "- 0 - Não\n"
   ]
  },
  {
   "cell_type": "code",
   "execution_count": 71,
   "metadata": {},
   "outputs": [
    {
     "name": "stdout",
     "output_type": "stream",
     "text": [
      "\n",
      "Contagem de valores:\n"
     ]
    },
    {
     "data": {
      "text/plain": [
       "IN_AGUA_CACIMBA\n",
       "0.0    163111\n",
       "1.0     15365\n",
       "Name: count, dtype: int64"
      ]
     },
     "metadata": {},
     "output_type": "display_data"
    },
    {
     "name": "stdout",
     "output_type": "stream",
     "text": [
      "\n",
      "Quantidade de valores ausentes\n"
     ]
    },
    {
     "data": {
      "text/plain": [
       "IN_AGUA_CACIMBA\n",
       "False    178476\n",
       "Name: count, dtype: int64"
      ]
     },
     "metadata": {},
     "output_type": "display_data"
    }
   ],
   "source": [
    "basic_exploration(df, 'IN_AGUA_CACIMBA', 'binary')"
   ]
  },
  {
   "cell_type": "markdown",
   "metadata": {},
   "source": [
    "#### IN_AGUA_FONTE_RIO"
   ]
  },
  {
   "cell_type": "markdown",
   "metadata": {},
   "source": [
    "- 1 - Sim\n",
    "- 0 - Não\n"
   ]
  },
  {
   "cell_type": "code",
   "execution_count": 72,
   "metadata": {},
   "outputs": [
    {
     "name": "stdout",
     "output_type": "stream",
     "text": [
      "\n",
      "Contagem de valores:\n"
     ]
    },
    {
     "data": {
      "text/plain": [
       "IN_AGUA_FONTE_RIO\n",
       "0.0    171550\n",
       "1.0      6926\n",
       "Name: count, dtype: int64"
      ]
     },
     "metadata": {},
     "output_type": "display_data"
    },
    {
     "name": "stdout",
     "output_type": "stream",
     "text": [
      "\n",
      "Quantidade de valores ausentes\n"
     ]
    },
    {
     "data": {
      "text/plain": [
       "IN_AGUA_FONTE_RIO\n",
       "False    178476\n",
       "Name: count, dtype: int64"
      ]
     },
     "metadata": {},
     "output_type": "display_data"
    }
   ],
   "source": [
    "basic_exploration(df, 'IN_AGUA_FONTE_RIO', 'binary')"
   ]
  },
  {
   "cell_type": "markdown",
   "metadata": {},
   "source": [
    "#### IN_AGUA_INEXISTENTE"
   ]
  },
  {
   "cell_type": "markdown",
   "metadata": {},
   "source": [
    "- 1 - Sim\n",
    "- 0 - Não\n"
   ]
  },
  {
   "cell_type": "code",
   "execution_count": 73,
   "metadata": {},
   "outputs": [
    {
     "name": "stdout",
     "output_type": "stream",
     "text": [
      "\n",
      "Contagem de valores:\n"
     ]
    },
    {
     "data": {
      "text/plain": [
       "IN_AGUA_INEXISTENTE\n",
       "0.0    175418\n",
       "1.0      3058\n",
       "Name: count, dtype: int64"
      ]
     },
     "metadata": {},
     "output_type": "display_data"
    },
    {
     "name": "stdout",
     "output_type": "stream",
     "text": [
      "\n",
      "Quantidade de valores ausentes\n"
     ]
    },
    {
     "data": {
      "text/plain": [
       "IN_AGUA_INEXISTENTE\n",
       "False    178476\n",
       "Name: count, dtype: int64"
      ]
     },
     "metadata": {},
     "output_type": "display_data"
    }
   ],
   "source": [
    "basic_exploration(df, 'IN_AGUA_INEXISTENTE', 'binary')"
   ]
  },
  {
   "cell_type": "markdown",
   "metadata": {},
   "source": [
    "#### Comparação"
   ]
  },
  {
   "cell_type": "code",
   "execution_count": 74,
   "metadata": {},
   "outputs": [
    {
     "data": {
      "text/plain": [
       "IN_AGUA_POTAVEL  IN_AGUA_REDE_PUBLICA  IN_AGUA_POCO_ARTESIANO  IN_AGUA_CACIMBA  IN_AGUA_FONTE_RIO  IN_AGUA_INEXISTENTE\n",
       "1.0              1.0                   0.0                     0.0              0.0                0.0                    124096\n",
       "                 0.0                   1.0                     0.0              0.0                0.0                     18898\n",
       "                                       0.0                     1.0              0.0                0.0                      9129\n",
       "                 1.0                   1.0                     0.0              0.0                0.0                      6520\n",
       "                 0.0                   0.0                     0.0              1.0                0.0                      4539\n",
       "                 1.0                   0.0                     1.0              0.0                0.0                      3796\n",
       "0.0              1.0                   0.0                     0.0              0.0                0.0                      2457\n",
       "1.0              0.0                   0.0                     0.0              0.0                1.0                      1727\n",
       "0.0              0.0                   0.0                     0.0              1.0                0.0                      1418\n",
       "                                       1.0                     0.0              0.0                0.0                      1357\n",
       "                                       0.0                     0.0              0.0                1.0                      1331\n",
       "                                                               1.0              0.0                0.0                       904\n",
       "1.0              0.0                   1.0                     1.0              0.0                0.0                       768\n",
       "                                                               0.0              1.0                0.0                       302\n",
       "                 1.0                   1.0                     1.0              0.0                0.0                       263\n",
       "                 0.0                   0.0                     1.0              1.0                0.0                       251\n",
       "                 1.0                   0.0                     0.0              1.0                0.0                       236\n",
       "0.0              1.0                   1.0                     0.0              0.0                0.0                       139\n",
       "                                       0.0                     1.0              0.0                0.0                       101\n",
       "                 0.0                   1.0                     1.0              0.0                0.0                        49\n",
       "                                       0.0                     1.0              1.0                0.0                        40\n",
       "                                       1.0                     0.0              1.0                0.0                        39\n",
       "                 1.0                   0.0                     0.0              1.0                0.0                        26\n",
       "1.0              1.0                   1.0                     0.0              1.0                0.0                        26\n",
       "                 0.0                   1.0                     1.0              1.0                0.0                        21\n",
       "                 1.0                   0.0                     1.0              1.0                0.0                        19\n",
       "0.0              1.0                   1.0                     1.0              0.0                0.0                        15\n",
       "1.0              1.0                   1.0                     1.0              1.0                0.0                         5\n",
       "0.0              0.0                   1.0                     1.0              1.0                0.0                         2\n",
       "                 1.0                   1.0                     1.0              1.0                0.0                         1\n",
       "                                       0.0                     1.0              1.0                0.0                         1\n",
       "Name: count, dtype: int64"
      ]
     },
     "execution_count": 74,
     "metadata": {},
     "output_type": "execute_result"
    }
   ],
   "source": [
    "cols_agua = ['IN_AGUA_POTAVEL', 'IN_AGUA_REDE_PUBLICA', 'IN_AGUA_POCO_ARTESIANO', 'IN_AGUA_CACIMBA', 'IN_AGUA_FONTE_RIO', 'IN_AGUA_INEXISTENTE']\n",
    "\n",
    "df[cols_agua].value_counts(dropna = False)"
   ]
  },
  {
   "cell_type": "markdown",
   "metadata": {},
   "source": [
    "### Abastecimento de Energia Elétrica"
   ]
  },
  {
   "cell_type": "markdown",
   "metadata": {},
   "source": [
    "#### IN_ENERGIA_REDE_PUBLICA"
   ]
  },
  {
   "cell_type": "markdown",
   "metadata": {},
   "source": [
    "- 1 - Sim\n",
    "- 0 - Não\n"
   ]
  },
  {
   "cell_type": "code",
   "execution_count": 75,
   "metadata": {},
   "outputs": [
    {
     "name": "stdout",
     "output_type": "stream",
     "text": [
      "\n",
      "Contagem de valores:\n"
     ]
    },
    {
     "data": {
      "text/plain": [
       "IN_ENERGIA_REDE_PUBLICA\n",
       "1.0    172846\n",
       "0.0      5630\n",
       "Name: count, dtype: int64"
      ]
     },
     "metadata": {},
     "output_type": "display_data"
    },
    {
     "name": "stdout",
     "output_type": "stream",
     "text": [
      "\n",
      "Quantidade de valores ausentes\n"
     ]
    },
    {
     "data": {
      "text/plain": [
       "IN_ENERGIA_REDE_PUBLICA\n",
       "False    178476\n",
       "Name: count, dtype: int64"
      ]
     },
     "metadata": {},
     "output_type": "display_data"
    }
   ],
   "source": [
    "basic_exploration(df, 'IN_ENERGIA_REDE_PUBLICA', 'binary')"
   ]
  },
  {
   "cell_type": "markdown",
   "metadata": {},
   "source": [
    "#### IN_ENERGIA_GERADOR_FOSSIL"
   ]
  },
  {
   "cell_type": "markdown",
   "metadata": {},
   "source": [
    "- 1 - Sim\n",
    "- 0 - Não\n"
   ]
  },
  {
   "cell_type": "code",
   "execution_count": 76,
   "metadata": {},
   "outputs": [
    {
     "name": "stdout",
     "output_type": "stream",
     "text": [
      "\n",
      "Contagem de valores:\n"
     ]
    },
    {
     "data": {
      "text/plain": [
       "IN_ENERGIA_GERADOR_FOSSIL\n",
       "0.0    176483\n",
       "1.0      1993\n",
       "Name: count, dtype: int64"
      ]
     },
     "metadata": {},
     "output_type": "display_data"
    },
    {
     "name": "stdout",
     "output_type": "stream",
     "text": [
      "\n",
      "Quantidade de valores ausentes\n"
     ]
    },
    {
     "data": {
      "text/plain": [
       "IN_ENERGIA_GERADOR_FOSSIL\n",
       "False    178476\n",
       "Name: count, dtype: int64"
      ]
     },
     "metadata": {},
     "output_type": "display_data"
    }
   ],
   "source": [
    "basic_exploration(df, 'IN_ENERGIA_GERADOR_FOSSIL', 'binary')"
   ]
  },
  {
   "cell_type": "markdown",
   "metadata": {},
   "source": [
    "#### IN_ENERGIA_RENOVAVEL"
   ]
  },
  {
   "cell_type": "markdown",
   "metadata": {},
   "source": [
    "- 1 - Sim\n",
    "- 0 - Não\n"
   ]
  },
  {
   "cell_type": "code",
   "execution_count": 77,
   "metadata": {},
   "outputs": [
    {
     "name": "stdout",
     "output_type": "stream",
     "text": [
      "\n",
      "Contagem de valores:\n"
     ]
    },
    {
     "data": {
      "text/plain": [
       "IN_ENERGIA_RENOVAVEL\n",
       "0.0    174393\n",
       "1.0      4083\n",
       "Name: count, dtype: int64"
      ]
     },
     "metadata": {},
     "output_type": "display_data"
    },
    {
     "name": "stdout",
     "output_type": "stream",
     "text": [
      "\n",
      "Quantidade de valores ausentes\n"
     ]
    },
    {
     "data": {
      "text/plain": [
       "IN_ENERGIA_RENOVAVEL\n",
       "False    178476\n",
       "Name: count, dtype: int64"
      ]
     },
     "metadata": {},
     "output_type": "display_data"
    }
   ],
   "source": [
    "basic_exploration(df, 'IN_ENERGIA_RENOVAVEL', 'binary')"
   ]
  },
  {
   "cell_type": "markdown",
   "metadata": {},
   "source": [
    "#### IN_ENERGIA_INEXISTENTE"
   ]
  },
  {
   "cell_type": "markdown",
   "metadata": {},
   "source": [
    "- 1 - Sim\n",
    "- 0 - Não\n"
   ]
  },
  {
   "cell_type": "code",
   "execution_count": 78,
   "metadata": {},
   "outputs": [
    {
     "name": "stdout",
     "output_type": "stream",
     "text": [
      "\n",
      "Contagem de valores:\n"
     ]
    },
    {
     "data": {
      "text/plain": [
       "IN_ENERGIA_INEXISTENTE\n",
       "0.0    175891\n",
       "1.0      2585\n",
       "Name: count, dtype: int64"
      ]
     },
     "metadata": {},
     "output_type": "display_data"
    },
    {
     "name": "stdout",
     "output_type": "stream",
     "text": [
      "\n",
      "Quantidade de valores ausentes\n"
     ]
    },
    {
     "data": {
      "text/plain": [
       "IN_ENERGIA_INEXISTENTE\n",
       "False    178476\n",
       "Name: count, dtype: int64"
      ]
     },
     "metadata": {},
     "output_type": "display_data"
    }
   ],
   "source": [
    "basic_exploration(df, 'IN_ENERGIA_INEXISTENTE', 'binary')"
   ]
  },
  {
   "cell_type": "markdown",
   "metadata": {},
   "source": [
    "#### Comparação"
   ]
  },
  {
   "cell_type": "code",
   "execution_count": 79,
   "metadata": {},
   "outputs": [
    {
     "data": {
      "text/plain": [
       "IN_ENERGIA_REDE_PUBLICA  IN_ENERGIA_GERADOR_FOSSIL  IN_ENERGIA_RENOVAVEL  IN_ENERGIA_INEXISTENTE\n",
       "1.0                      0.0                        0.0                   0.0                       169923\n",
       "0.0                      0.0                        0.0                   1.0                         2585\n",
       "1.0                      0.0                        1.0                   0.0                         2539\n",
       "0.0                      1.0                        0.0                   0.0                         1554\n",
       "                         0.0                        1.0                   0.0                         1436\n",
       "1.0                      1.0                        0.0                   0.0                          331\n",
       "0.0                      1.0                        1.0                   0.0                           55\n",
       "1.0                      1.0                        1.0                   0.0                           53\n",
       "Name: count, dtype: int64"
      ]
     },
     "execution_count": 79,
     "metadata": {},
     "output_type": "execute_result"
    }
   ],
   "source": [
    "cols_agua = ['IN_ENERGIA_REDE_PUBLICA', 'IN_ENERGIA_GERADOR_FOSSIL', 'IN_ENERGIA_RENOVAVEL', 'IN_ENERGIA_INEXISTENTE']\n",
    "\n",
    "df[cols_agua].value_counts(dropna = False)"
   ]
  },
  {
   "cell_type": "markdown",
   "metadata": {},
   "source": [
    "### Esgoto Sanitário"
   ]
  },
  {
   "cell_type": "markdown",
   "metadata": {},
   "source": [
    "#### IN_ESGOTO_REDE_PUBLICA"
   ]
  },
  {
   "cell_type": "markdown",
   "metadata": {},
   "source": [
    "- 1 - Sim\n",
    "- 0 - Não\n"
   ]
  },
  {
   "cell_type": "code",
   "execution_count": 80,
   "metadata": {},
   "outputs": [
    {
     "name": "stdout",
     "output_type": "stream",
     "text": [
      "\n",
      "Contagem de valores:\n"
     ]
    },
    {
     "data": {
      "text/plain": [
       "IN_ESGOTO_REDE_PUBLICA\n",
       "1.0    101959\n",
       "0.0     76517\n",
       "Name: count, dtype: int64"
      ]
     },
     "metadata": {},
     "output_type": "display_data"
    },
    {
     "name": "stdout",
     "output_type": "stream",
     "text": [
      "\n",
      "Quantidade de valores ausentes\n"
     ]
    },
    {
     "data": {
      "text/plain": [
       "IN_ESGOTO_REDE_PUBLICA\n",
       "False    178476\n",
       "Name: count, dtype: int64"
      ]
     },
     "metadata": {},
     "output_type": "display_data"
    }
   ],
   "source": [
    "basic_exploration(df, 'IN_ESGOTO_REDE_PUBLICA', 'binary')"
   ]
  },
  {
   "cell_type": "markdown",
   "metadata": {},
   "source": [
    "#### IN_ESGOTO_FOSSA_SEPTICA"
   ]
  },
  {
   "cell_type": "markdown",
   "metadata": {},
   "source": [
    "- 1 - Sim\n",
    "- 0 - Não\n"
   ]
  },
  {
   "cell_type": "code",
   "execution_count": 81,
   "metadata": {},
   "outputs": [
    {
     "name": "stdout",
     "output_type": "stream",
     "text": [
      "\n",
      "Contagem de valores:\n"
     ]
    },
    {
     "data": {
      "text/plain": [
       "IN_ESGOTO_FOSSA_SEPTICA\n",
       "0.0    137245\n",
       "1.0     41231\n",
       "Name: count, dtype: int64"
      ]
     },
     "metadata": {},
     "output_type": "display_data"
    },
    {
     "name": "stdout",
     "output_type": "stream",
     "text": [
      "\n",
      "Quantidade de valores ausentes\n"
     ]
    },
    {
     "data": {
      "text/plain": [
       "IN_ESGOTO_FOSSA_SEPTICA\n",
       "False    178476\n",
       "Name: count, dtype: int64"
      ]
     },
     "metadata": {},
     "output_type": "display_data"
    }
   ],
   "source": [
    "basic_exploration(df, 'IN_ESGOTO_FOSSA_SEPTICA', 'binary')"
   ]
  },
  {
   "cell_type": "markdown",
   "metadata": {},
   "source": [
    "#### IN_ESGOTO_FOSSA_COMUM"
   ]
  },
  {
   "cell_type": "markdown",
   "metadata": {},
   "source": [
    "- 1 - Sim\n",
    "- 0 - Não\n"
   ]
  },
  {
   "cell_type": "code",
   "execution_count": 82,
   "metadata": {},
   "outputs": [
    {
     "name": "stdout",
     "output_type": "stream",
     "text": [
      "\n",
      "Contagem de valores:\n"
     ]
    },
    {
     "data": {
      "text/plain": [
       "IN_ESGOTO_FOSSA_COMUM\n",
       "0.0    146010\n",
       "1.0     32466\n",
       "Name: count, dtype: int64"
      ]
     },
     "metadata": {},
     "output_type": "display_data"
    },
    {
     "name": "stdout",
     "output_type": "stream",
     "text": [
      "\n",
      "Quantidade de valores ausentes\n"
     ]
    },
    {
     "data": {
      "text/plain": [
       "IN_ESGOTO_FOSSA_COMUM\n",
       "False    178476\n",
       "Name: count, dtype: int64"
      ]
     },
     "metadata": {},
     "output_type": "display_data"
    }
   ],
   "source": [
    "basic_exploration(df, 'IN_ESGOTO_FOSSA_COMUM', 'binary')"
   ]
  },
  {
   "cell_type": "markdown",
   "metadata": {},
   "source": [
    "#### IN_ESGOTO_FOSSA"
   ]
  },
  {
   "cell_type": "markdown",
   "metadata": {},
   "source": [
    "- 1 - Sim\n",
    "- 0 - Não\n"
   ]
  },
  {
   "cell_type": "code",
   "execution_count": 83,
   "metadata": {},
   "outputs": [
    {
     "name": "stdout",
     "output_type": "stream",
     "text": [
      "\n",
      "Contagem de valores:\n"
     ]
    },
    {
     "data": {
      "text/plain": [
       "IN_ESGOTO_FOSSA\n",
       "0.0    104779\n",
       "1.0     73697\n",
       "Name: count, dtype: int64"
      ]
     },
     "metadata": {},
     "output_type": "display_data"
    },
    {
     "name": "stdout",
     "output_type": "stream",
     "text": [
      "\n",
      "Quantidade de valores ausentes\n"
     ]
    },
    {
     "data": {
      "text/plain": [
       "IN_ESGOTO_FOSSA\n",
       "False    178476\n",
       "Name: count, dtype: int64"
      ]
     },
     "metadata": {},
     "output_type": "display_data"
    }
   ],
   "source": [
    "basic_exploration(df, 'IN_ESGOTO_FOSSA', 'binary')"
   ]
  },
  {
   "cell_type": "markdown",
   "metadata": {},
   "source": [
    "#### IN_ESGOTO_INEXISTENTE"
   ]
  },
  {
   "cell_type": "markdown",
   "metadata": {},
   "source": [
    "- 1 - Sim\n",
    "- 0 - Não\n"
   ]
  },
  {
   "cell_type": "code",
   "execution_count": 84,
   "metadata": {},
   "outputs": [
    {
     "name": "stdout",
     "output_type": "stream",
     "text": [
      "\n",
      "Contagem de valores:\n"
     ]
    },
    {
     "data": {
      "text/plain": [
       "IN_ESGOTO_INEXISTENTE\n",
       "0.0    172120\n",
       "1.0      6356\n",
       "Name: count, dtype: int64"
      ]
     },
     "metadata": {},
     "output_type": "display_data"
    },
    {
     "name": "stdout",
     "output_type": "stream",
     "text": [
      "\n",
      "Quantidade de valores ausentes\n"
     ]
    },
    {
     "data": {
      "text/plain": [
       "IN_ESGOTO_INEXISTENTE\n",
       "False    178476\n",
       "Name: count, dtype: int64"
      ]
     },
     "metadata": {},
     "output_type": "display_data"
    }
   ],
   "source": [
    "basic_exploration(df, 'IN_ESGOTO_INEXISTENTE', 'binary')"
   ]
  },
  {
   "cell_type": "markdown",
   "metadata": {},
   "source": [
    "#### Comparação"
   ]
  },
  {
   "cell_type": "code",
   "execution_count": 85,
   "metadata": {},
   "outputs": [
    {
     "data": {
      "text/plain": [
       "IN_ESGOTO_REDE_PUBLICA  IN_ESGOTO_FOSSA_SEPTICA  IN_ESGOTO_FOSSA_COMUM  IN_ESGOTO_FOSSA  IN_ESGOTO_INEXISTENTE\n",
       "1.0                     0.0                      0.0                    0.0              0.0                      98423\n",
       "0.0                     1.0                      0.0                    1.0              0.0                      38681\n",
       "                        0.0                      1.0                    1.0              0.0                      31480\n",
       "                                                 0.0                    0.0              1.0                       6356\n",
       "1.0                     1.0                      0.0                    1.0              0.0                       2550\n",
       "                        0.0                      1.0                    1.0              0.0                        986\n",
       "Name: count, dtype: int64"
      ]
     },
     "execution_count": 85,
     "metadata": {},
     "output_type": "execute_result"
    }
   ],
   "source": [
    "cols_esgoto = ['IN_ESGOTO_REDE_PUBLICA', 'IN_ESGOTO_FOSSA_SEPTICA', 'IN_ESGOTO_FOSSA_COMUM', 'IN_ESGOTO_FOSSA', 'IN_ESGOTO_INEXISTENTE']\n",
    "\n",
    "df[cols_esgoto].value_counts(dropna = False)"
   ]
  },
  {
   "cell_type": "markdown",
   "metadata": {},
   "source": [
    "### Destinação do Lixo"
   ]
  },
  {
   "cell_type": "markdown",
   "metadata": {},
   "source": [
    "#### IN_LIXO_SERVICO_COLETA"
   ]
  },
  {
   "cell_type": "markdown",
   "metadata": {},
   "source": [
    "- 1 - Sim\n",
    "- 0 - Não\n"
   ]
  },
  {
   "cell_type": "code",
   "execution_count": 86,
   "metadata": {},
   "outputs": [
    {
     "name": "stdout",
     "output_type": "stream",
     "text": [
      "\n",
      "Contagem de valores:\n"
     ]
    },
    {
     "data": {
      "text/plain": [
       "IN_LIXO_SERVICO_COLETA\n",
       "1.0    147971\n",
       "0.0     30505\n",
       "Name: count, dtype: int64"
      ]
     },
     "metadata": {},
     "output_type": "display_data"
    },
    {
     "name": "stdout",
     "output_type": "stream",
     "text": [
      "\n",
      "Quantidade de valores ausentes\n"
     ]
    },
    {
     "data": {
      "text/plain": [
       "IN_LIXO_SERVICO_COLETA\n",
       "False    178476\n",
       "Name: count, dtype: int64"
      ]
     },
     "metadata": {},
     "output_type": "display_data"
    }
   ],
   "source": [
    "basic_exploration(df, 'IN_LIXO_SERVICO_COLETA', 'binary')"
   ]
  },
  {
   "cell_type": "markdown",
   "metadata": {},
   "source": [
    "#### IN_LIXO_QUEIMA"
   ]
  },
  {
   "cell_type": "markdown",
   "metadata": {},
   "source": [
    "- 1 - Sim\n",
    "- 0 - Não\n"
   ]
  },
  {
   "cell_type": "code",
   "execution_count": 87,
   "metadata": {},
   "outputs": [
    {
     "name": "stdout",
     "output_type": "stream",
     "text": [
      "\n",
      "Contagem de valores:\n"
     ]
    },
    {
     "data": {
      "text/plain": [
       "IN_LIXO_QUEIMA\n",
       "0.0    148725\n",
       "1.0     29751\n",
       "Name: count, dtype: int64"
      ]
     },
     "metadata": {},
     "output_type": "display_data"
    },
    {
     "name": "stdout",
     "output_type": "stream",
     "text": [
      "\n",
      "Quantidade de valores ausentes\n"
     ]
    },
    {
     "data": {
      "text/plain": [
       "IN_LIXO_QUEIMA\n",
       "False    178476\n",
       "Name: count, dtype: int64"
      ]
     },
     "metadata": {},
     "output_type": "display_data"
    }
   ],
   "source": [
    "basic_exploration(df, 'IN_LIXO_QUEIMA', 'binary')"
   ]
  },
  {
   "cell_type": "markdown",
   "metadata": {},
   "source": [
    "#### IN_LIXO_ENTERRA"
   ]
  },
  {
   "cell_type": "markdown",
   "metadata": {},
   "source": [
    "- 1 - Sim\n",
    "- 0 - Não\n"
   ]
  },
  {
   "cell_type": "code",
   "execution_count": 88,
   "metadata": {},
   "outputs": [
    {
     "name": "stdout",
     "output_type": "stream",
     "text": [
      "\n",
      "Contagem de valores:\n"
     ]
    },
    {
     "data": {
      "text/plain": [
       "IN_LIXO_ENTERRA\n",
       "0.0    174252\n",
       "1.0      4224\n",
       "Name: count, dtype: int64"
      ]
     },
     "metadata": {},
     "output_type": "display_data"
    },
    {
     "name": "stdout",
     "output_type": "stream",
     "text": [
      "\n",
      "Quantidade de valores ausentes\n"
     ]
    },
    {
     "data": {
      "text/plain": [
       "IN_LIXO_ENTERRA\n",
       "False    178476\n",
       "Name: count, dtype: int64"
      ]
     },
     "metadata": {},
     "output_type": "display_data"
    }
   ],
   "source": [
    "basic_exploration(df, 'IN_LIXO_ENTERRA', 'binary')"
   ]
  },
  {
   "cell_type": "markdown",
   "metadata": {},
   "source": [
    "#### IN_LIXO_DESTINO_FINAL_PUBLICO"
   ]
  },
  {
   "cell_type": "markdown",
   "metadata": {},
   "source": [
    "- 1 - Sim\n",
    "- 0 - Não\n"
   ]
  },
  {
   "cell_type": "code",
   "execution_count": 89,
   "metadata": {},
   "outputs": [
    {
     "name": "stdout",
     "output_type": "stream",
     "text": [
      "\n",
      "Contagem de valores:\n"
     ]
    },
    {
     "data": {
      "text/plain": [
       "IN_LIXO_DESTINO_FINAL_PUBLICO\n",
       "0.0    174288\n",
       "1.0      4188\n",
       "Name: count, dtype: int64"
      ]
     },
     "metadata": {},
     "output_type": "display_data"
    },
    {
     "name": "stdout",
     "output_type": "stream",
     "text": [
      "\n",
      "Quantidade de valores ausentes\n"
     ]
    },
    {
     "data": {
      "text/plain": [
       "IN_LIXO_DESTINO_FINAL_PUBLICO\n",
       "False    178476\n",
       "Name: count, dtype: int64"
      ]
     },
     "metadata": {},
     "output_type": "display_data"
    }
   ],
   "source": [
    "basic_exploration(df, 'IN_LIXO_DESTINO_FINAL_PUBLICO', 'binary')"
   ]
  },
  {
   "cell_type": "markdown",
   "metadata": {},
   "source": [
    "#### IN_LIXO_DESCARTA_OUTRA_AREA"
   ]
  },
  {
   "cell_type": "markdown",
   "metadata": {},
   "source": [
    "- 1 - Sim\n",
    "- 0 - Não\n"
   ]
  },
  {
   "cell_type": "code",
   "execution_count": 90,
   "metadata": {},
   "outputs": [
    {
     "name": "stdout",
     "output_type": "stream",
     "text": [
      "\n",
      "Contagem de valores:\n"
     ]
    },
    {
     "data": {
      "text/plain": [
       "IN_LIXO_DESCARTA_OUTRA_AREA\n",
       "0.0    171900\n",
       "1.0      6576\n",
       "Name: count, dtype: int64"
      ]
     },
     "metadata": {},
     "output_type": "display_data"
    },
    {
     "name": "stdout",
     "output_type": "stream",
     "text": [
      "\n",
      "Quantidade de valores ausentes\n"
     ]
    },
    {
     "data": {
      "text/plain": [
       "IN_LIXO_DESCARTA_OUTRA_AREA\n",
       "False    178476\n",
       "Name: count, dtype: int64"
      ]
     },
     "metadata": {},
     "output_type": "display_data"
    }
   ],
   "source": [
    "basic_exploration(df, 'IN_LIXO_DESCARTA_OUTRA_AREA', 'binary')"
   ]
  },
  {
   "cell_type": "markdown",
   "metadata": {},
   "source": [
    "#### Comparação"
   ]
  },
  {
   "cell_type": "code",
   "execution_count": 91,
   "metadata": {},
   "outputs": [
    {
     "data": {
      "text/plain": [
       "IN_LIXO_SERVICO_COLETA  IN_LIXO_QUEIMA  IN_LIXO_ENTERRA  IN_LIXO_DESTINO_FINAL_PUBLICO  IN_LIXO_DESCARTA_OUTRA_AREA\n",
       "1.0                     0.0             0.0              0.0                            0.0                            140609\n",
       "0.0                     1.0             0.0              0.0                            0.0                             21258\n",
       "                                                                                        1.0                              2823\n",
       "1.0                     0.0             0.0              1.0                            0.0                              2721\n",
       "0.0                     1.0             1.0              0.0                            0.0                              2459\n",
       "1.0                     1.0             0.0              0.0                            0.0                              2325\n",
       "0.0                     0.0             0.0              0.0                            1.0                              1658\n",
       "1.0                     0.0             0.0              0.0                            1.0                              1331\n",
       "0.0                     0.0             0.0              1.0                            0.0                              1043\n",
       "                                        1.0              0.0                            0.0                               711\n",
       "1.0                     0.0             1.0              0.0                            0.0                               353\n",
       "0.0                     1.0             1.0              0.0                            1.0                               323\n",
       "1.0                     1.0             0.0              0.0                            1.0                               186\n",
       "                                        1.0              0.0                            0.0                               161\n",
       "                        0.0             0.0              1.0                            1.0                               102\n",
       "                        1.0             0.0              1.0                            0.0                                80\n",
       "0.0                     0.0             1.0              0.0                            1.0                                76\n",
       "                        1.0             0.0              1.0                            0.0                                75\n",
       "1.0                     0.0             1.0              1.0                            0.0                                67\n",
       "0.0                     0.0             0.0              1.0                            1.0                                26\n",
       "                        1.0             1.0              1.0                            0.0                                17\n",
       "                        0.0             1.0              1.0                            0.0                                15\n",
       "                        1.0             1.0              1.0                            1.0                                12\n",
       "1.0                     1.0             1.0              0.0                            1.0                                 9\n",
       "0.0                     1.0             0.0              1.0                            1.0                                 9\n",
       "1.0                     0.0             1.0              1.0                            1.0                                 7\n",
       "                        1.0             1.0              1.0                            0.0                                 6\n",
       "                        0.0             1.0              0.0                            1.0                                 6\n",
       "                        1.0             0.0              1.0                            1.0                                 6\n",
       "                                        1.0              1.0                            1.0                                 2\n",
       "Name: count, dtype: int64"
      ]
     },
     "execution_count": 91,
     "metadata": {},
     "output_type": "execute_result"
    }
   ],
   "source": [
    "cols_lixo = ['IN_LIXO_SERVICO_COLETA', 'IN_LIXO_QUEIMA', 'IN_LIXO_ENTERRA', 'IN_LIXO_DESTINO_FINAL_PUBLICO', 'IN_LIXO_DESCARTA_OUTRA_AREA']\n",
    "\n",
    "df[cols_lixo].value_counts(dropna = False)"
   ]
  },
  {
   "cell_type": "markdown",
   "metadata": {},
   "source": [
    "### Dependências Físicas Existentes e Utilizadas na Escola"
   ]
  },
  {
   "cell_type": "markdown",
   "metadata": {},
   "source": [
    "#### IN_ALMOXARIFADO"
   ]
  },
  {
   "cell_type": "markdown",
   "metadata": {},
   "source": [
    "- 1 - Sim\n",
    "- 0 - Não\n"
   ]
  },
  {
   "cell_type": "code",
   "execution_count": 92,
   "metadata": {},
   "outputs": [
    {
     "name": "stdout",
     "output_type": "stream",
     "text": [
      "\n",
      "Contagem de valores:\n"
     ]
    },
    {
     "data": {
      "text/plain": [
       "IN_ALMOXARIFADO\n",
       "1.0    90409\n",
       "0.0    88067\n",
       "Name: count, dtype: int64"
      ]
     },
     "metadata": {},
     "output_type": "display_data"
    },
    {
     "name": "stdout",
     "output_type": "stream",
     "text": [
      "\n",
      "Quantidade de valores ausentes\n"
     ]
    },
    {
     "data": {
      "text/plain": [
       "IN_ALMOXARIFADO\n",
       "False    178476\n",
       "Name: count, dtype: int64"
      ]
     },
     "metadata": {},
     "output_type": "display_data"
    }
   ],
   "source": [
    "basic_exploration(df, 'IN_ALMOXARIFADO', 'binary')"
   ]
  },
  {
   "cell_type": "markdown",
   "metadata": {},
   "source": [
    "#### IN_AREA_VERDE"
   ]
  },
  {
   "cell_type": "markdown",
   "metadata": {},
   "source": [
    "- 1 - Sim\n",
    "- 0 - Não\n"
   ]
  },
  {
   "cell_type": "code",
   "execution_count": 93,
   "metadata": {},
   "outputs": [
    {
     "name": "stdout",
     "output_type": "stream",
     "text": [
      "\n",
      "Contagem de valores:\n"
     ]
    },
    {
     "data": {
      "text/plain": [
       "IN_AREA_VERDE\n",
       "0.0    115667\n",
       "1.0     62809\n",
       "Name: count, dtype: int64"
      ]
     },
     "metadata": {},
     "output_type": "display_data"
    },
    {
     "name": "stdout",
     "output_type": "stream",
     "text": [
      "\n",
      "Quantidade de valores ausentes\n"
     ]
    },
    {
     "data": {
      "text/plain": [
       "IN_AREA_VERDE\n",
       "False    178476\n",
       "Name: count, dtype: int64"
      ]
     },
     "metadata": {},
     "output_type": "display_data"
    }
   ],
   "source": [
    "basic_exploration(df, 'IN_AREA_VERDE', 'binary')"
   ]
  },
  {
   "cell_type": "markdown",
   "metadata": {},
   "source": [
    "#### IN_AUDITORIO"
   ]
  },
  {
   "cell_type": "markdown",
   "metadata": {},
   "source": [
    "- 1 - Sim\n",
    "- 0 - Não\n"
   ]
  },
  {
   "cell_type": "code",
   "execution_count": 94,
   "metadata": {},
   "outputs": [
    {
     "name": "stdout",
     "output_type": "stream",
     "text": [
      "\n",
      "Contagem de valores:\n"
     ]
    },
    {
     "data": {
      "text/plain": [
       "IN_AUDITORIO\n",
       "0.0    156540\n",
       "1.0     21936\n",
       "Name: count, dtype: int64"
      ]
     },
     "metadata": {},
     "output_type": "display_data"
    },
    {
     "name": "stdout",
     "output_type": "stream",
     "text": [
      "\n",
      "Quantidade de valores ausentes\n"
     ]
    },
    {
     "data": {
      "text/plain": [
       "IN_AUDITORIO\n",
       "False    178476\n",
       "Name: count, dtype: int64"
      ]
     },
     "metadata": {},
     "output_type": "display_data"
    }
   ],
   "source": [
    "basic_exploration(df, 'IN_AUDITORIO', 'binary')"
   ]
  },
  {
   "cell_type": "markdown",
   "metadata": {},
   "source": [
    "#### IN_BANHEIRO"
   ]
  },
  {
   "cell_type": "markdown",
   "metadata": {},
   "source": [
    "- 1 - Sim\n",
    "- 0 - Não\n"
   ]
  },
  {
   "cell_type": "code",
   "execution_count": 95,
   "metadata": {},
   "outputs": [
    {
     "name": "stdout",
     "output_type": "stream",
     "text": [
      "\n",
      "Contagem de valores:\n"
     ]
    },
    {
     "data": {
      "text/plain": [
       "IN_BANHEIRO\n",
       "1.0    173525\n",
       "0.0      4951\n",
       "Name: count, dtype: int64"
      ]
     },
     "metadata": {},
     "output_type": "display_data"
    },
    {
     "name": "stdout",
     "output_type": "stream",
     "text": [
      "\n",
      "Quantidade de valores ausentes\n"
     ]
    },
    {
     "data": {
      "text/plain": [
       "IN_BANHEIRO\n",
       "False    178476\n",
       "Name: count, dtype: int64"
      ]
     },
     "metadata": {},
     "output_type": "display_data"
    }
   ],
   "source": [
    "basic_exploration(df, 'IN_BANHEIRO', 'binary')"
   ]
  },
  {
   "cell_type": "markdown",
   "metadata": {},
   "source": [
    "#### IN_BANHEIRO_EI"
   ]
  },
  {
   "cell_type": "markdown",
   "metadata": {},
   "source": [
    "- 1 - Sim\n",
    "- 0 - Não\n"
   ]
  },
  {
   "cell_type": "code",
   "execution_count": 96,
   "metadata": {},
   "outputs": [
    {
     "name": "stdout",
     "output_type": "stream",
     "text": [
      "\n",
      "Contagem de valores:\n"
     ]
    },
    {
     "data": {
      "text/plain": [
       "IN_BANHEIRO_EI\n",
       "0.0    107031\n",
       "1.0     71445\n",
       "Name: count, dtype: int64"
      ]
     },
     "metadata": {},
     "output_type": "display_data"
    },
    {
     "name": "stdout",
     "output_type": "stream",
     "text": [
      "\n",
      "Quantidade de valores ausentes\n"
     ]
    },
    {
     "data": {
      "text/plain": [
       "IN_BANHEIRO_EI\n",
       "False    178476\n",
       "Name: count, dtype: int64"
      ]
     },
     "metadata": {},
     "output_type": "display_data"
    }
   ],
   "source": [
    "basic_exploration(df, 'IN_BANHEIRO_EI', 'binary')"
   ]
  },
  {
   "cell_type": "markdown",
   "metadata": {},
   "source": [
    "#### IN_BANHEIRO_PNE"
   ]
  },
  {
   "cell_type": "markdown",
   "metadata": {},
   "source": [
    "- 1 - Sim\n",
    "- 0 - Não\n"
   ]
  },
  {
   "cell_type": "code",
   "execution_count": 97,
   "metadata": {},
   "outputs": [
    {
     "name": "stdout",
     "output_type": "stream",
     "text": [
      "\n",
      "Contagem de valores:\n"
     ]
    },
    {
     "data": {
      "text/plain": [
       "IN_BANHEIRO_PNE\n",
       "1.0    94288\n",
       "0.0    84188\n",
       "Name: count, dtype: int64"
      ]
     },
     "metadata": {},
     "output_type": "display_data"
    },
    {
     "name": "stdout",
     "output_type": "stream",
     "text": [
      "\n",
      "Quantidade de valores ausentes\n"
     ]
    },
    {
     "data": {
      "text/plain": [
       "IN_BANHEIRO_PNE\n",
       "False    178476\n",
       "Name: count, dtype: int64"
      ]
     },
     "metadata": {},
     "output_type": "display_data"
    }
   ],
   "source": [
    "basic_exploration(df, 'IN_BANHEIRO_PNE', 'binary')"
   ]
  },
  {
   "cell_type": "markdown",
   "metadata": {},
   "source": [
    "#### IN_BANHEIRO_FUNCIONARIOS"
   ]
  },
  {
   "cell_type": "markdown",
   "metadata": {},
   "source": [
    "- 1 - Sim\n",
    "- 0 - Não\n"
   ]
  },
  {
   "cell_type": "code",
   "execution_count": 98,
   "metadata": {},
   "outputs": [
    {
     "name": "stdout",
     "output_type": "stream",
     "text": [
      "\n",
      "Contagem de valores:\n"
     ]
    },
    {
     "data": {
      "text/plain": [
       "IN_BANHEIRO_FUNCIONARIOS\n",
       "1.0    107778\n",
       "0.0     70698\n",
       "Name: count, dtype: int64"
      ]
     },
     "metadata": {},
     "output_type": "display_data"
    },
    {
     "name": "stdout",
     "output_type": "stream",
     "text": [
      "\n",
      "Quantidade de valores ausentes\n"
     ]
    },
    {
     "data": {
      "text/plain": [
       "IN_BANHEIRO_FUNCIONARIOS\n",
       "False    178476\n",
       "Name: count, dtype: int64"
      ]
     },
     "metadata": {},
     "output_type": "display_data"
    }
   ],
   "source": [
    "basic_exploration(df, 'IN_BANHEIRO_FUNCIONARIOS', 'binary')"
   ]
  },
  {
   "cell_type": "markdown",
   "metadata": {},
   "source": [
    "#### IN_BANHEIRO_CHUVEIRO"
   ]
  },
  {
   "cell_type": "markdown",
   "metadata": {},
   "source": [
    "- 1 - Sim\n",
    "- 0 - Não\n"
   ]
  },
  {
   "cell_type": "code",
   "execution_count": 99,
   "metadata": {},
   "outputs": [
    {
     "name": "stdout",
     "output_type": "stream",
     "text": [
      "\n",
      "Contagem de valores:\n"
     ]
    },
    {
     "data": {
      "text/plain": [
       "IN_BANHEIRO_CHUVEIRO\n",
       "0.0    100189\n",
       "1.0     78287\n",
       "Name: count, dtype: int64"
      ]
     },
     "metadata": {},
     "output_type": "display_data"
    },
    {
     "name": "stdout",
     "output_type": "stream",
     "text": [
      "\n",
      "Quantidade de valores ausentes\n"
     ]
    },
    {
     "data": {
      "text/plain": [
       "IN_BANHEIRO_CHUVEIRO\n",
       "False    178476\n",
       "Name: count, dtype: int64"
      ]
     },
     "metadata": {},
     "output_type": "display_data"
    }
   ],
   "source": [
    "basic_exploration(df, 'IN_BANHEIRO_CHUVEIRO', 'binary')"
   ]
  },
  {
   "cell_type": "markdown",
   "metadata": {},
   "source": [
    "#### IN_BIBLIOTECA"
   ]
  },
  {
   "cell_type": "markdown",
   "metadata": {},
   "source": [
    "- 1 - Sim\n",
    "- 0 - Não\n"
   ]
  },
  {
   "cell_type": "code",
   "execution_count": 100,
   "metadata": {},
   "outputs": [
    {
     "name": "stdout",
     "output_type": "stream",
     "text": [
      "\n",
      "Contagem de valores:\n"
     ]
    },
    {
     "data": {
      "text/plain": [
       "IN_BIBLIOTECA\n",
       "0.0    112973\n",
       "1.0     65503\n",
       "Name: count, dtype: int64"
      ]
     },
     "metadata": {},
     "output_type": "display_data"
    },
    {
     "name": "stdout",
     "output_type": "stream",
     "text": [
      "\n",
      "Quantidade de valores ausentes\n"
     ]
    },
    {
     "data": {
      "text/plain": [
       "IN_BIBLIOTECA\n",
       "False    178476\n",
       "Name: count, dtype: int64"
      ]
     },
     "metadata": {},
     "output_type": "display_data"
    }
   ],
   "source": [
    "basic_exploration(df, 'IN_BIBLIOTECA', 'binary')"
   ]
  },
  {
   "cell_type": "markdown",
   "metadata": {},
   "source": [
    "#### IN_BIBLIOTECA_SALA_LEITURA -> Remover"
   ]
  },
  {
   "cell_type": "markdown",
   "metadata": {},
   "source": [
    "- 1 - Sim\n",
    "- 0 - Não\n"
   ]
  },
  {
   "cell_type": "code",
   "execution_count": 101,
   "metadata": {},
   "outputs": [
    {
     "name": "stdout",
     "output_type": "stream",
     "text": [
      "\n",
      "Contagem de valores:\n"
     ]
    },
    {
     "data": {
      "text/plain": [
       "IN_BIBLIOTECA_SALA_LEITURA\n",
       "1.0    93779\n",
       "0.0    84697\n",
       "Name: count, dtype: int64"
      ]
     },
     "metadata": {},
     "output_type": "display_data"
    },
    {
     "name": "stdout",
     "output_type": "stream",
     "text": [
      "\n",
      "Quantidade de valores ausentes\n"
     ]
    },
    {
     "data": {
      "text/plain": [
       "IN_BIBLIOTECA_SALA_LEITURA\n",
       "False    178476\n",
       "Name: count, dtype: int64"
      ]
     },
     "metadata": {},
     "output_type": "display_data"
    }
   ],
   "source": [
    "basic_exploration(df, 'IN_BIBLIOTECA_SALA_LEITURA', 'binary')"
   ]
  },
  {
   "cell_type": "markdown",
   "metadata": {},
   "source": [
    "#### IN_COZINHA"
   ]
  },
  {
   "cell_type": "markdown",
   "metadata": {},
   "source": [
    "- 1 - Sim\n",
    "- 0 - Não\n"
   ]
  },
  {
   "cell_type": "code",
   "execution_count": 102,
   "metadata": {},
   "outputs": [
    {
     "name": "stdout",
     "output_type": "stream",
     "text": [
      "\n",
      "Contagem de valores:\n"
     ]
    },
    {
     "data": {
      "text/plain": [
       "IN_COZINHA\n",
       "1.0    165259\n",
       "0.0     13217\n",
       "Name: count, dtype: int64"
      ]
     },
     "metadata": {},
     "output_type": "display_data"
    },
    {
     "name": "stdout",
     "output_type": "stream",
     "text": [
      "\n",
      "Quantidade de valores ausentes\n"
     ]
    },
    {
     "data": {
      "text/plain": [
       "IN_COZINHA\n",
       "False    178476\n",
       "Name: count, dtype: int64"
      ]
     },
     "metadata": {},
     "output_type": "display_data"
    }
   ],
   "source": [
    "basic_exploration(df, 'IN_COZINHA', 'binary')"
   ]
  },
  {
   "cell_type": "markdown",
   "metadata": {},
   "source": [
    "#### IN_DESPENSA"
   ]
  },
  {
   "cell_type": "markdown",
   "metadata": {},
   "source": [
    "- 1 - Sim\n",
    "- 0 - Não\n"
   ]
  },
  {
   "cell_type": "code",
   "execution_count": 103,
   "metadata": {},
   "outputs": [
    {
     "name": "stdout",
     "output_type": "stream",
     "text": [
      "\n",
      "Contagem de valores:\n"
     ]
    },
    {
     "data": {
      "text/plain": [
       "IN_DESPENSA\n",
       "1.0    120253\n",
       "0.0     58223\n",
       "Name: count, dtype: int64"
      ]
     },
     "metadata": {},
     "output_type": "display_data"
    },
    {
     "name": "stdout",
     "output_type": "stream",
     "text": [
      "\n",
      "Quantidade de valores ausentes\n"
     ]
    },
    {
     "data": {
      "text/plain": [
       "IN_DESPENSA\n",
       "False    178476\n",
       "Name: count, dtype: int64"
      ]
     },
     "metadata": {},
     "output_type": "display_data"
    }
   ],
   "source": [
    "basic_exploration(df, 'IN_DESPENSA', 'binary')"
   ]
  },
  {
   "cell_type": "markdown",
   "metadata": {},
   "source": [
    "#### IN_DORMITORIO_ALUNO"
   ]
  },
  {
   "cell_type": "markdown",
   "metadata": {},
   "source": [
    "- 1 - Sim\n",
    "- 0 - Não\n"
   ]
  },
  {
   "cell_type": "code",
   "execution_count": 104,
   "metadata": {},
   "outputs": [
    {
     "name": "stdout",
     "output_type": "stream",
     "text": [
      "\n",
      "Contagem de valores:\n"
     ]
    },
    {
     "data": {
      "text/plain": [
       "IN_DORMITORIO_ALUNO\n",
       "0.0    173289\n",
       "1.0      5187\n",
       "Name: count, dtype: int64"
      ]
     },
     "metadata": {},
     "output_type": "display_data"
    },
    {
     "name": "stdout",
     "output_type": "stream",
     "text": [
      "\n",
      "Quantidade de valores ausentes\n"
     ]
    },
    {
     "data": {
      "text/plain": [
       "IN_DORMITORIO_ALUNO\n",
       "False    178476\n",
       "Name: count, dtype: int64"
      ]
     },
     "metadata": {},
     "output_type": "display_data"
    }
   ],
   "source": [
    "basic_exploration(df, 'IN_DORMITORIO_ALUNO', 'binary')"
   ]
  },
  {
   "cell_type": "markdown",
   "metadata": {},
   "source": [
    "#### IN_DORMITORIO_PROFESSOR"
   ]
  },
  {
   "cell_type": "markdown",
   "metadata": {},
   "source": [
    "- 1 - Sim\n",
    "- 0 - Não\n"
   ]
  },
  {
   "cell_type": "code",
   "execution_count": 105,
   "metadata": {},
   "outputs": [
    {
     "name": "stdout",
     "output_type": "stream",
     "text": [
      "\n",
      "Contagem de valores:\n"
     ]
    },
    {
     "data": {
      "text/plain": [
       "IN_DORMITORIO_PROFESSOR\n",
       "0.0    176401\n",
       "1.0      2075\n",
       "Name: count, dtype: int64"
      ]
     },
     "metadata": {},
     "output_type": "display_data"
    },
    {
     "name": "stdout",
     "output_type": "stream",
     "text": [
      "\n",
      "Quantidade de valores ausentes\n"
     ]
    },
    {
     "data": {
      "text/plain": [
       "IN_DORMITORIO_PROFESSOR\n",
       "False    178476\n",
       "Name: count, dtype: int64"
      ]
     },
     "metadata": {},
     "output_type": "display_data"
    }
   ],
   "source": [
    "basic_exploration(df, 'IN_DORMITORIO_PROFESSOR', 'binary')"
   ]
  },
  {
   "cell_type": "markdown",
   "metadata": {},
   "source": [
    "#### IN_LABORATORIO_CIENCIAS"
   ]
  },
  {
   "cell_type": "markdown",
   "metadata": {},
   "source": [
    "- 1 - Sim\n",
    "- 0 - Não\n"
   ]
  },
  {
   "cell_type": "code",
   "execution_count": 106,
   "metadata": {},
   "outputs": [
    {
     "name": "stdout",
     "output_type": "stream",
     "text": [
      "\n",
      "Contagem de valores:\n"
     ]
    },
    {
     "data": {
      "text/plain": [
       "IN_LABORATORIO_CIENCIAS\n",
       "0.0    155899\n",
       "1.0     22577\n",
       "Name: count, dtype: int64"
      ]
     },
     "metadata": {},
     "output_type": "display_data"
    },
    {
     "name": "stdout",
     "output_type": "stream",
     "text": [
      "\n",
      "Quantidade de valores ausentes\n"
     ]
    },
    {
     "data": {
      "text/plain": [
       "IN_LABORATORIO_CIENCIAS\n",
       "False    178476\n",
       "Name: count, dtype: int64"
      ]
     },
     "metadata": {},
     "output_type": "display_data"
    }
   ],
   "source": [
    "basic_exploration(df, 'IN_LABORATORIO_CIENCIAS', 'binary')"
   ]
  },
  {
   "cell_type": "markdown",
   "metadata": {},
   "source": [
    "#### IN_LABORATORIO_INFORMATICA"
   ]
  },
  {
   "cell_type": "markdown",
   "metadata": {},
   "source": [
    "- 1 - Sim\n",
    "- 0 - Não\n"
   ]
  },
  {
   "cell_type": "code",
   "execution_count": 107,
   "metadata": {},
   "outputs": [
    {
     "name": "stdout",
     "output_type": "stream",
     "text": [
      "\n",
      "Contagem de valores:\n"
     ]
    },
    {
     "data": {
      "text/plain": [
       "IN_LABORATORIO_INFORMATICA\n",
       "0.0    124646\n",
       "1.0     53830\n",
       "Name: count, dtype: int64"
      ]
     },
     "metadata": {},
     "output_type": "display_data"
    },
    {
     "name": "stdout",
     "output_type": "stream",
     "text": [
      "\n",
      "Quantidade de valores ausentes\n"
     ]
    },
    {
     "data": {
      "text/plain": [
       "IN_LABORATORIO_INFORMATICA\n",
       "False    178476\n",
       "Name: count, dtype: int64"
      ]
     },
     "metadata": {},
     "output_type": "display_data"
    }
   ],
   "source": [
    "basic_exploration(df, 'IN_LABORATORIO_INFORMATICA', 'binary')"
   ]
  },
  {
   "cell_type": "markdown",
   "metadata": {},
   "source": [
    "#### IN_LABORATORIO_EDUC_PROF"
   ]
  },
  {
   "cell_type": "markdown",
   "metadata": {},
   "source": [
    "- 1 - Sim\n",
    "- 0 - Não\n"
   ]
  },
  {
   "cell_type": "code",
   "execution_count": 108,
   "metadata": {},
   "outputs": [
    {
     "name": "stdout",
     "output_type": "stream",
     "text": [
      "\n",
      "Contagem de valores:\n"
     ]
    },
    {
     "data": {
      "text/plain": [
       "IN_LABORATORIO_EDUC_PROF\n",
       "0.0    175438\n",
       "1.0      3038\n",
       "Name: count, dtype: int64"
      ]
     },
     "metadata": {},
     "output_type": "display_data"
    },
    {
     "name": "stdout",
     "output_type": "stream",
     "text": [
      "\n",
      "Quantidade de valores ausentes\n"
     ]
    },
    {
     "data": {
      "text/plain": [
       "IN_LABORATORIO_EDUC_PROF\n",
       "False    178476\n",
       "Name: count, dtype: int64"
      ]
     },
     "metadata": {},
     "output_type": "display_data"
    }
   ],
   "source": [
    "basic_exploration(df, 'IN_LABORATORIO_EDUC_PROF', 'binary')"
   ]
  },
  {
   "cell_type": "markdown",
   "metadata": {},
   "source": [
    "#### IN_PATIO_COBERTO"
   ]
  },
  {
   "cell_type": "markdown",
   "metadata": {},
   "source": [
    "- 1 - Sim\n",
    "- 0 - Não\n"
   ]
  },
  {
   "cell_type": "code",
   "execution_count": 109,
   "metadata": {},
   "outputs": [
    {
     "name": "stdout",
     "output_type": "stream",
     "text": [
      "\n",
      "Contagem de valores:\n"
     ]
    },
    {
     "data": {
      "text/plain": [
       "IN_PATIO_COBERTO\n",
       "1.0    101764\n",
       "0.0     76712\n",
       "Name: count, dtype: int64"
      ]
     },
     "metadata": {},
     "output_type": "display_data"
    },
    {
     "name": "stdout",
     "output_type": "stream",
     "text": [
      "\n",
      "Quantidade de valores ausentes\n"
     ]
    },
    {
     "data": {
      "text/plain": [
       "IN_PATIO_COBERTO\n",
       "False    178476\n",
       "Name: count, dtype: int64"
      ]
     },
     "metadata": {},
     "output_type": "display_data"
    }
   ],
   "source": [
    "basic_exploration(df, 'IN_PATIO_COBERTO', 'binary')"
   ]
  },
  {
   "cell_type": "markdown",
   "metadata": {},
   "source": [
    "#### IN_PATIO_DESCOBERTO"
   ]
  },
  {
   "cell_type": "markdown",
   "metadata": {},
   "source": [
    "- 1 - Sim\n",
    "- 0 - Não\n"
   ]
  },
  {
   "cell_type": "code",
   "execution_count": 110,
   "metadata": {},
   "outputs": [
    {
     "name": "stdout",
     "output_type": "stream",
     "text": [
      "\n",
      "Contagem de valores:\n"
     ]
    },
    {
     "data": {
      "text/plain": [
       "IN_PATIO_DESCOBERTO\n",
       "0.0    91815\n",
       "1.0    86661\n",
       "Name: count, dtype: int64"
      ]
     },
     "metadata": {},
     "output_type": "display_data"
    },
    {
     "name": "stdout",
     "output_type": "stream",
     "text": [
      "\n",
      "Quantidade de valores ausentes\n"
     ]
    },
    {
     "data": {
      "text/plain": [
       "IN_PATIO_DESCOBERTO\n",
       "False    178476\n",
       "Name: count, dtype: int64"
      ]
     },
     "metadata": {},
     "output_type": "display_data"
    }
   ],
   "source": [
    "basic_exploration(df, 'IN_PATIO_DESCOBERTO', 'binary')"
   ]
  },
  {
   "cell_type": "markdown",
   "metadata": {},
   "source": [
    "#### IN_PARQUE_INFANTIL"
   ]
  },
  {
   "cell_type": "markdown",
   "metadata": {},
   "source": [
    "- 1 - Sim\n",
    "- 0 - Não\n"
   ]
  },
  {
   "cell_type": "code",
   "execution_count": 111,
   "metadata": {},
   "outputs": [
    {
     "name": "stdout",
     "output_type": "stream",
     "text": [
      "\n",
      "Contagem de valores:\n"
     ]
    },
    {
     "data": {
      "text/plain": [
       "IN_PARQUE_INFANTIL\n",
       "0.0    112675\n",
       "1.0     65801\n",
       "Name: count, dtype: int64"
      ]
     },
     "metadata": {},
     "output_type": "display_data"
    },
    {
     "name": "stdout",
     "output_type": "stream",
     "text": [
      "\n",
      "Quantidade de valores ausentes\n"
     ]
    },
    {
     "data": {
      "text/plain": [
       "IN_PARQUE_INFANTIL\n",
       "False    178476\n",
       "Name: count, dtype: int64"
      ]
     },
     "metadata": {},
     "output_type": "display_data"
    }
   ],
   "source": [
    "basic_exploration(df, 'IN_PARQUE_INFANTIL', 'binary')"
   ]
  },
  {
   "cell_type": "markdown",
   "metadata": {},
   "source": [
    "#### IN_PISCINA"
   ]
  },
  {
   "cell_type": "markdown",
   "metadata": {},
   "source": [
    "- 1 - Sim\n",
    "- 0 - Não\n"
   ]
  },
  {
   "cell_type": "code",
   "execution_count": 112,
   "metadata": {},
   "outputs": [
    {
     "name": "stdout",
     "output_type": "stream",
     "text": [
      "\n",
      "Contagem de valores:\n"
     ]
    },
    {
     "data": {
      "text/plain": [
       "IN_PISCINA\n",
       "0.0    173712\n",
       "1.0      4764\n",
       "Name: count, dtype: int64"
      ]
     },
     "metadata": {},
     "output_type": "display_data"
    },
    {
     "name": "stdout",
     "output_type": "stream",
     "text": [
      "\n",
      "Quantidade de valores ausentes\n"
     ]
    },
    {
     "data": {
      "text/plain": [
       "IN_PISCINA\n",
       "False    178476\n",
       "Name: count, dtype: int64"
      ]
     },
     "metadata": {},
     "output_type": "display_data"
    }
   ],
   "source": [
    "basic_exploration(df, 'IN_PISCINA', 'binary')"
   ]
  },
  {
   "cell_type": "markdown",
   "metadata": {},
   "source": [
    "#### IN_QUADRA_ESPORTES"
   ]
  },
  {
   "cell_type": "markdown",
   "metadata": {},
   "source": [
    "- 1 - Sim\n",
    "- 0 - Não\n"
   ]
  },
  {
   "cell_type": "code",
   "execution_count": 113,
   "metadata": {},
   "outputs": [
    {
     "name": "stdout",
     "output_type": "stream",
     "text": [
      "\n",
      "Contagem de valores:\n"
     ]
    },
    {
     "data": {
      "text/plain": [
       "IN_QUADRA_ESPORTES\n",
       "0.0    110429\n",
       "1.0     68047\n",
       "Name: count, dtype: int64"
      ]
     },
     "metadata": {},
     "output_type": "display_data"
    },
    {
     "name": "stdout",
     "output_type": "stream",
     "text": [
      "\n",
      "Quantidade de valores ausentes\n"
     ]
    },
    {
     "data": {
      "text/plain": [
       "IN_QUADRA_ESPORTES\n",
       "False    178476\n",
       "Name: count, dtype: int64"
      ]
     },
     "metadata": {},
     "output_type": "display_data"
    }
   ],
   "source": [
    "basic_exploration(df, 'IN_QUADRA_ESPORTES', 'binary')"
   ]
  },
  {
   "cell_type": "markdown",
   "metadata": {},
   "source": [
    "#### IN_QUADRA_ESPORTES_COBERTA"
   ]
  },
  {
   "cell_type": "markdown",
   "metadata": {},
   "source": [
    "- 1 - Sim\n",
    "- 0 - Não\n"
   ]
  },
  {
   "cell_type": "code",
   "execution_count": 114,
   "metadata": {},
   "outputs": [
    {
     "name": "stdout",
     "output_type": "stream",
     "text": [
      "\n",
      "Contagem de valores:\n"
     ]
    },
    {
     "data": {
      "text/plain": [
       "IN_QUADRA_ESPORTES_COBERTA\n",
       "0.0    127785\n",
       "1.0     50691\n",
       "Name: count, dtype: int64"
      ]
     },
     "metadata": {},
     "output_type": "display_data"
    },
    {
     "name": "stdout",
     "output_type": "stream",
     "text": [
      "\n",
      "Quantidade de valores ausentes\n"
     ]
    },
    {
     "data": {
      "text/plain": [
       "IN_QUADRA_ESPORTES_COBERTA\n",
       "False    178476\n",
       "Name: count, dtype: int64"
      ]
     },
     "metadata": {},
     "output_type": "display_data"
    }
   ],
   "source": [
    "basic_exploration(df, 'IN_QUADRA_ESPORTES_COBERTA', 'binary')"
   ]
  },
  {
   "cell_type": "markdown",
   "metadata": {},
   "source": [
    "#### IN_QUADRA_ESPORTES_DESCOBERTA"
   ]
  },
  {
   "cell_type": "markdown",
   "metadata": {},
   "source": [
    "- 1 - Sim\n",
    "- 0 - Não\n"
   ]
  },
  {
   "cell_type": "code",
   "execution_count": 115,
   "metadata": {},
   "outputs": [
    {
     "name": "stdout",
     "output_type": "stream",
     "text": [
      "\n",
      "Contagem de valores:\n"
     ]
    },
    {
     "data": {
      "text/plain": [
       "IN_QUADRA_ESPORTES_DESCOBERTA\n",
       "0.0    152600\n",
       "1.0     25876\n",
       "Name: count, dtype: int64"
      ]
     },
     "metadata": {},
     "output_type": "display_data"
    },
    {
     "name": "stdout",
     "output_type": "stream",
     "text": [
      "\n",
      "Quantidade de valores ausentes\n"
     ]
    },
    {
     "data": {
      "text/plain": [
       "IN_QUADRA_ESPORTES_DESCOBERTA\n",
       "False    178476\n",
       "Name: count, dtype: int64"
      ]
     },
     "metadata": {},
     "output_type": "display_data"
    }
   ],
   "source": [
    "basic_exploration(df, 'IN_QUADRA_ESPORTES_DESCOBERTA', 'binary')"
   ]
  },
  {
   "cell_type": "markdown",
   "metadata": {},
   "source": [
    "#### IN_REFEITORIO"
   ]
  },
  {
   "cell_type": "markdown",
   "metadata": {},
   "source": [
    "- 1 - Sim\n",
    "- 0 - Não\n"
   ]
  },
  {
   "cell_type": "code",
   "execution_count": 116,
   "metadata": {},
   "outputs": [
    {
     "name": "stdout",
     "output_type": "stream",
     "text": [
      "\n",
      "Contagem de valores:\n"
     ]
    },
    {
     "data": {
      "text/plain": [
       "IN_REFEITORIO\n",
       "1.0    92283\n",
       "0.0    86193\n",
       "Name: count, dtype: int64"
      ]
     },
     "metadata": {},
     "output_type": "display_data"
    },
    {
     "name": "stdout",
     "output_type": "stream",
     "text": [
      "\n",
      "Quantidade de valores ausentes\n"
     ]
    },
    {
     "data": {
      "text/plain": [
       "IN_REFEITORIO\n",
       "False    178476\n",
       "Name: count, dtype: int64"
      ]
     },
     "metadata": {},
     "output_type": "display_data"
    }
   ],
   "source": [
    "basic_exploration(df, 'IN_REFEITORIO', 'binary')"
   ]
  },
  {
   "cell_type": "markdown",
   "metadata": {},
   "source": [
    "#### IN_SALA_ATELIE_ARTES"
   ]
  },
  {
   "cell_type": "markdown",
   "metadata": {},
   "source": [
    "- 1 - Sim\n",
    "- 0 - Não\n"
   ]
  },
  {
   "cell_type": "code",
   "execution_count": 117,
   "metadata": {},
   "outputs": [
    {
     "name": "stdout",
     "output_type": "stream",
     "text": [
      "\n",
      "Contagem de valores:\n"
     ]
    },
    {
     "data": {
      "text/plain": [
       "IN_SALA_ATELIE_ARTES\n",
       "0.0    169935\n",
       "1.0      8541\n",
       "Name: count, dtype: int64"
      ]
     },
     "metadata": {},
     "output_type": "display_data"
    },
    {
     "name": "stdout",
     "output_type": "stream",
     "text": [
      "\n",
      "Quantidade de valores ausentes\n"
     ]
    },
    {
     "data": {
      "text/plain": [
       "IN_SALA_ATELIE_ARTES\n",
       "False    178476\n",
       "Name: count, dtype: int64"
      ]
     },
     "metadata": {},
     "output_type": "display_data"
    }
   ],
   "source": [
    "basic_exploration(df, 'IN_SALA_ATELIE_ARTES', 'binary')"
   ]
  },
  {
   "cell_type": "markdown",
   "metadata": {},
   "source": [
    "#### IN_SALA_MUSICA_CORAL"
   ]
  },
  {
   "cell_type": "markdown",
   "metadata": {},
   "source": [
    "- 1 - Sim\n",
    "- 0 - Não\n"
   ]
  },
  {
   "cell_type": "code",
   "execution_count": 118,
   "metadata": {},
   "outputs": [
    {
     "name": "stdout",
     "output_type": "stream",
     "text": [
      "\n",
      "Contagem de valores:\n"
     ]
    },
    {
     "data": {
      "text/plain": [
       "IN_SALA_MUSICA_CORAL\n",
       "0.0    174273\n",
       "1.0      4203\n",
       "Name: count, dtype: int64"
      ]
     },
     "metadata": {},
     "output_type": "display_data"
    },
    {
     "name": "stdout",
     "output_type": "stream",
     "text": [
      "\n",
      "Quantidade de valores ausentes\n"
     ]
    },
    {
     "data": {
      "text/plain": [
       "IN_SALA_MUSICA_CORAL\n",
       "False    178476\n",
       "Name: count, dtype: int64"
      ]
     },
     "metadata": {},
     "output_type": "display_data"
    }
   ],
   "source": [
    "basic_exploration(df, 'IN_SALA_MUSICA_CORAL', 'binary')"
   ]
  },
  {
   "cell_type": "markdown",
   "metadata": {},
   "source": [
    "#### IN_SALA_ESTUDIO_DANCA"
   ]
  },
  {
   "cell_type": "markdown",
   "metadata": {},
   "source": [
    "- 1 - Sim\n",
    "- 0 - Não\n"
   ]
  },
  {
   "cell_type": "code",
   "execution_count": 119,
   "metadata": {},
   "outputs": [
    {
     "name": "stdout",
     "output_type": "stream",
     "text": [
      "\n",
      "Contagem de valores:\n"
     ]
    },
    {
     "data": {
      "text/plain": [
       "IN_SALA_ESTUDIO_DANCA\n",
       "0.0    175286\n",
       "1.0      3190\n",
       "Name: count, dtype: int64"
      ]
     },
     "metadata": {},
     "output_type": "display_data"
    },
    {
     "name": "stdout",
     "output_type": "stream",
     "text": [
      "\n",
      "Quantidade de valores ausentes\n"
     ]
    },
    {
     "data": {
      "text/plain": [
       "IN_SALA_ESTUDIO_DANCA\n",
       "False    178476\n",
       "Name: count, dtype: int64"
      ]
     },
     "metadata": {},
     "output_type": "display_data"
    }
   ],
   "source": [
    "basic_exploration(df, 'IN_SALA_ESTUDIO_DANCA', 'binary')"
   ]
  },
  {
   "cell_type": "markdown",
   "metadata": {},
   "source": [
    "#### IN_SALA_MULTIUSO"
   ]
  },
  {
   "cell_type": "markdown",
   "metadata": {},
   "source": [
    "- 1 - Sim\n",
    "- 0 - Não\n"
   ]
  },
  {
   "cell_type": "code",
   "execution_count": 120,
   "metadata": {},
   "outputs": [
    {
     "name": "stdout",
     "output_type": "stream",
     "text": [
      "\n",
      "Contagem de valores:\n"
     ]
    },
    {
     "data": {
      "text/plain": [
       "IN_SALA_MULTIUSO\n",
       "0.0    161018\n",
       "1.0     17458\n",
       "Name: count, dtype: int64"
      ]
     },
     "metadata": {},
     "output_type": "display_data"
    },
    {
     "name": "stdout",
     "output_type": "stream",
     "text": [
      "\n",
      "Quantidade de valores ausentes\n"
     ]
    },
    {
     "data": {
      "text/plain": [
       "IN_SALA_MULTIUSO\n",
       "False    178476\n",
       "Name: count, dtype: int64"
      ]
     },
     "metadata": {},
     "output_type": "display_data"
    }
   ],
   "source": [
    "basic_exploration(df, 'IN_SALA_MULTIUSO', 'binary')"
   ]
  },
  {
   "cell_type": "markdown",
   "metadata": {},
   "source": [
    "#### IN_SALA_ESTUDIO_GRAVACAO"
   ]
  },
  {
   "cell_type": "markdown",
   "metadata": {},
   "source": [
    "- 1 - Sim\n",
    "- 0 - Não\n"
   ]
  },
  {
   "cell_type": "code",
   "execution_count": 121,
   "metadata": {},
   "outputs": [
    {
     "name": "stdout",
     "output_type": "stream",
     "text": [
      "\n",
      "Contagem de valores:\n"
     ]
    },
    {
     "data": {
      "text/plain": [
       "IN_SALA_ESTUDIO_GRAVACAO\n",
       "0.0    177912\n",
       "1.0       564\n",
       "Name: count, dtype: int64"
      ]
     },
     "metadata": {},
     "output_type": "display_data"
    },
    {
     "name": "stdout",
     "output_type": "stream",
     "text": [
      "\n",
      "Quantidade de valores ausentes\n"
     ]
    },
    {
     "data": {
      "text/plain": [
       "IN_SALA_ESTUDIO_GRAVACAO\n",
       "False    178476\n",
       "Name: count, dtype: int64"
      ]
     },
     "metadata": {},
     "output_type": "display_data"
    }
   ],
   "source": [
    "basic_exploration(df, 'IN_SALA_ESTUDIO_GRAVACAO', 'binary')"
   ]
  },
  {
   "cell_type": "markdown",
   "metadata": {},
   "source": [
    "#### IN_SALA_OFICINAS_EDUC_PROF"
   ]
  },
  {
   "cell_type": "markdown",
   "metadata": {},
   "source": [
    "- 1 - Sim\n",
    "- 0 - Não\n"
   ]
  },
  {
   "cell_type": "code",
   "execution_count": 122,
   "metadata": {},
   "outputs": [
    {
     "name": "stdout",
     "output_type": "stream",
     "text": [
      "\n",
      "Contagem de valores:\n"
     ]
    },
    {
     "data": {
      "text/plain": [
       "IN_SALA_OFICINAS_EDUC_PROF\n",
       "0.0    176954\n",
       "1.0      1522\n",
       "Name: count, dtype: int64"
      ]
     },
     "metadata": {},
     "output_type": "display_data"
    },
    {
     "name": "stdout",
     "output_type": "stream",
     "text": [
      "\n",
      "Quantidade de valores ausentes\n"
     ]
    },
    {
     "data": {
      "text/plain": [
       "IN_SALA_OFICINAS_EDUC_PROF\n",
       "False    178476\n",
       "Name: count, dtype: int64"
      ]
     },
     "metadata": {},
     "output_type": "display_data"
    }
   ],
   "source": [
    "basic_exploration(df, 'IN_SALA_OFICINAS_EDUC_PROF', 'binary')"
   ]
  },
  {
   "cell_type": "markdown",
   "metadata": {},
   "source": [
    "#### IN_SALA_DIRETORIA"
   ]
  },
  {
   "cell_type": "markdown",
   "metadata": {},
   "source": [
    "- 1 - Sim\n",
    "- 0 - Não\n"
   ]
  },
  {
   "cell_type": "code",
   "execution_count": 123,
   "metadata": {},
   "outputs": [
    {
     "name": "stdout",
     "output_type": "stream",
     "text": [
      "\n",
      "Contagem de valores:\n"
     ]
    },
    {
     "data": {
      "text/plain": [
       "IN_SALA_DIRETORIA\n",
       "1.0    130584\n",
       "0.0     47892\n",
       "Name: count, dtype: int64"
      ]
     },
     "metadata": {},
     "output_type": "display_data"
    },
    {
     "name": "stdout",
     "output_type": "stream",
     "text": [
      "\n",
      "Quantidade de valores ausentes\n"
     ]
    },
    {
     "data": {
      "text/plain": [
       "IN_SALA_DIRETORIA\n",
       "False    178476\n",
       "Name: count, dtype: int64"
      ]
     },
     "metadata": {},
     "output_type": "display_data"
    }
   ],
   "source": [
    "basic_exploration(df, 'IN_SALA_DIRETORIA', 'binary')"
   ]
  },
  {
   "cell_type": "markdown",
   "metadata": {},
   "source": [
    "#### IN_SALA_LEITURA"
   ]
  },
  {
   "cell_type": "markdown",
   "metadata": {},
   "source": [
    "- 1 - Sim\n",
    "- 0 - Não\n"
   ]
  },
  {
   "cell_type": "code",
   "execution_count": 124,
   "metadata": {},
   "outputs": [
    {
     "name": "stdout",
     "output_type": "stream",
     "text": [
      "\n",
      "Contagem de valores:\n"
     ]
    },
    {
     "data": {
      "text/plain": [
       "IN_SALA_LEITURA\n",
       "0.0    129747\n",
       "1.0     48729\n",
       "Name: count, dtype: int64"
      ]
     },
     "metadata": {},
     "output_type": "display_data"
    },
    {
     "name": "stdout",
     "output_type": "stream",
     "text": [
      "\n",
      "Quantidade de valores ausentes\n"
     ]
    },
    {
     "data": {
      "text/plain": [
       "IN_SALA_LEITURA\n",
       "False    178476\n",
       "Name: count, dtype: int64"
      ]
     },
     "metadata": {},
     "output_type": "display_data"
    }
   ],
   "source": [
    "basic_exploration(df, 'IN_SALA_LEITURA', 'binary')"
   ]
  },
  {
   "cell_type": "markdown",
   "metadata": {},
   "source": [
    "#### IN_SALA_PROFESSOR"
   ]
  },
  {
   "cell_type": "markdown",
   "metadata": {},
   "source": [
    "- 1 - Sim\n",
    "- 0 - Não\n"
   ]
  },
  {
   "cell_type": "code",
   "execution_count": 125,
   "metadata": {},
   "outputs": [
    {
     "name": "stdout",
     "output_type": "stream",
     "text": [
      "\n",
      "Contagem de valores:\n"
     ]
    },
    {
     "data": {
      "text/plain": [
       "IN_SALA_PROFESSOR\n",
       "1.0    115078\n",
       "0.0     63398\n",
       "Name: count, dtype: int64"
      ]
     },
     "metadata": {},
     "output_type": "display_data"
    },
    {
     "name": "stdout",
     "output_type": "stream",
     "text": [
      "\n",
      "Quantidade de valores ausentes\n"
     ]
    },
    {
     "data": {
      "text/plain": [
       "IN_SALA_PROFESSOR\n",
       "False    178476\n",
       "Name: count, dtype: int64"
      ]
     },
     "metadata": {},
     "output_type": "display_data"
    }
   ],
   "source": [
    "basic_exploration(df, 'IN_SALA_PROFESSOR', 'binary')"
   ]
  },
  {
   "cell_type": "markdown",
   "metadata": {},
   "source": [
    "#### IN_SALA_REPOUSO_ALUNO"
   ]
  },
  {
   "cell_type": "markdown",
   "metadata": {},
   "source": [
    "- 1 - Sim\n",
    "- 0 - Não\n"
   ]
  },
  {
   "cell_type": "code",
   "execution_count": 126,
   "metadata": {},
   "outputs": [
    {
     "name": "stdout",
     "output_type": "stream",
     "text": [
      "\n",
      "Contagem de valores:\n"
     ]
    },
    {
     "data": {
      "text/plain": [
       "IN_SALA_REPOUSO_ALUNO\n",
       "0.0    169818\n",
       "1.0      8658\n",
       "Name: count, dtype: int64"
      ]
     },
     "metadata": {},
     "output_type": "display_data"
    },
    {
     "name": "stdout",
     "output_type": "stream",
     "text": [
      "\n",
      "Quantidade de valores ausentes\n"
     ]
    },
    {
     "data": {
      "text/plain": [
       "IN_SALA_REPOUSO_ALUNO\n",
       "False    178476\n",
       "Name: count, dtype: int64"
      ]
     },
     "metadata": {},
     "output_type": "display_data"
    }
   ],
   "source": [
    "basic_exploration(df, 'IN_SALA_REPOUSO_ALUNO', 'binary')"
   ]
  },
  {
   "cell_type": "markdown",
   "metadata": {},
   "source": [
    "#### IN_SECRETARIA"
   ]
  },
  {
   "cell_type": "markdown",
   "metadata": {},
   "source": [
    "- 1 - Sim\n",
    "- 0 - Não\n"
   ]
  },
  {
   "cell_type": "code",
   "execution_count": 127,
   "metadata": {},
   "outputs": [
    {
     "name": "stdout",
     "output_type": "stream",
     "text": [
      "\n",
      "Contagem de valores:\n"
     ]
    },
    {
     "data": {
      "text/plain": [
       "IN_SECRETARIA\n",
       "1.0    133224\n",
       "0.0     45252\n",
       "Name: count, dtype: int64"
      ]
     },
     "metadata": {},
     "output_type": "display_data"
    },
    {
     "name": "stdout",
     "output_type": "stream",
     "text": [
      "\n",
      "Quantidade de valores ausentes\n"
     ]
    },
    {
     "data": {
      "text/plain": [
       "IN_SECRETARIA\n",
       "False    178476\n",
       "Name: count, dtype: int64"
      ]
     },
     "metadata": {},
     "output_type": "display_data"
    }
   ],
   "source": [
    "basic_exploration(df, 'IN_SECRETARIA', 'binary')"
   ]
  },
  {
   "cell_type": "markdown",
   "metadata": {},
   "source": [
    "#### IN_SALA_ATENDIMENTO_ESPECIAL"
   ]
  },
  {
   "cell_type": "markdown",
   "metadata": {},
   "source": [
    "- 1 - Sim\n",
    "- 0 - Não\n"
   ]
  },
  {
   "cell_type": "code",
   "execution_count": 128,
   "metadata": {},
   "outputs": [
    {
     "name": "stdout",
     "output_type": "stream",
     "text": [
      "\n",
      "Contagem de valores:\n"
     ]
    },
    {
     "data": {
      "text/plain": [
       "IN_SALA_ATENDIMENTO_ESPECIAL\n",
       "0.0    137618\n",
       "1.0     40858\n",
       "Name: count, dtype: int64"
      ]
     },
     "metadata": {},
     "output_type": "display_data"
    },
    {
     "name": "stdout",
     "output_type": "stream",
     "text": [
      "\n",
      "Quantidade de valores ausentes\n"
     ]
    },
    {
     "data": {
      "text/plain": [
       "IN_SALA_ATENDIMENTO_ESPECIAL\n",
       "False    178476\n",
       "Name: count, dtype: int64"
      ]
     },
     "metadata": {},
     "output_type": "display_data"
    }
   ],
   "source": [
    "basic_exploration(df, 'IN_SALA_ATENDIMENTO_ESPECIAL', 'binary')"
   ]
  },
  {
   "cell_type": "markdown",
   "metadata": {},
   "source": [
    "#### IN_TERREIRAO"
   ]
  },
  {
   "cell_type": "markdown",
   "metadata": {},
   "source": [
    "- 1 - Sim\n",
    "- 0 - Não\n"
   ]
  },
  {
   "cell_type": "code",
   "execution_count": 129,
   "metadata": {},
   "outputs": [
    {
     "name": "stdout",
     "output_type": "stream",
     "text": [
      "\n",
      "Contagem de valores:\n"
     ]
    },
    {
     "data": {
      "text/plain": [
       "IN_TERREIRAO\n",
       "0.0    156972\n",
       "1.0     21504\n",
       "Name: count, dtype: int64"
      ]
     },
     "metadata": {},
     "output_type": "display_data"
    },
    {
     "name": "stdout",
     "output_type": "stream",
     "text": [
      "\n",
      "Quantidade de valores ausentes\n"
     ]
    },
    {
     "data": {
      "text/plain": [
       "IN_TERREIRAO\n",
       "False    178476\n",
       "Name: count, dtype: int64"
      ]
     },
     "metadata": {},
     "output_type": "display_data"
    }
   ],
   "source": [
    "basic_exploration(df, 'IN_TERREIRAO', 'binary')"
   ]
  },
  {
   "cell_type": "markdown",
   "metadata": {},
   "source": [
    "#### IN_VIVEIRO"
   ]
  },
  {
   "cell_type": "markdown",
   "metadata": {},
   "source": [
    "- 1 - Sim\n",
    "- 0 - Não\n"
   ]
  },
  {
   "cell_type": "code",
   "execution_count": 130,
   "metadata": {},
   "outputs": [
    {
     "name": "stdout",
     "output_type": "stream",
     "text": [
      "\n",
      "Contagem de valores:\n"
     ]
    },
    {
     "data": {
      "text/plain": [
       "IN_VIVEIRO\n",
       "0.0    176779\n",
       "1.0      1697\n",
       "Name: count, dtype: int64"
      ]
     },
     "metadata": {},
     "output_type": "display_data"
    },
    {
     "name": "stdout",
     "output_type": "stream",
     "text": [
      "\n",
      "Quantidade de valores ausentes\n"
     ]
    },
    {
     "data": {
      "text/plain": [
       "IN_VIVEIRO\n",
       "False    178476\n",
       "Name: count, dtype: int64"
      ]
     },
     "metadata": {},
     "output_type": "display_data"
    }
   ],
   "source": [
    "basic_exploration(df, 'IN_VIVEIRO', 'binary')"
   ]
  },
  {
   "cell_type": "markdown",
   "metadata": {},
   "source": [
    "#### IN_DEPENDENCIAS_OUTRAS"
   ]
  },
  {
   "cell_type": "markdown",
   "metadata": {},
   "source": [
    "- 1 - Sim\n",
    "- 0 - Não\n"
   ]
  },
  {
   "cell_type": "code",
   "execution_count": 131,
   "metadata": {},
   "outputs": [
    {
     "name": "stdout",
     "output_type": "stream",
     "text": [
      "\n",
      "Contagem de valores:\n"
     ]
    },
    {
     "data": {
      "text/plain": [
       "IN_DEPENDENCIAS_OUTRAS\n",
       "0.0    176695\n",
       "1.0      1781\n",
       "Name: count, dtype: int64"
      ]
     },
     "metadata": {},
     "output_type": "display_data"
    },
    {
     "name": "stdout",
     "output_type": "stream",
     "text": [
      "\n",
      "Quantidade de valores ausentes\n"
     ]
    },
    {
     "data": {
      "text/plain": [
       "IN_DEPENDENCIAS_OUTRAS\n",
       "False    178476\n",
       "Name: count, dtype: int64"
      ]
     },
     "metadata": {},
     "output_type": "display_data"
    }
   ],
   "source": [
    "basic_exploration(df, 'IN_DEPENDENCIAS_OUTRAS', 'binary')"
   ]
  },
  {
   "cell_type": "markdown",
   "metadata": {},
   "source": [
    "#### Comparação"
   ]
  },
  {
   "cell_type": "code",
   "execution_count": 132,
   "metadata": {},
   "outputs": [
    {
     "data": {
      "text/plain": [
       "IN_BANHEIRO  IN_BANHEIRO_EI  IN_BANHEIRO_PNE  IN_BANHEIRO_FUNCIONARIOS  IN_BANHEIRO_CHUVEIRO\n",
       "1.0          0.0             0.0              0.0                       0.0                     29160\n",
       "             1.0             1.0              1.0                       1.0                     24813\n",
       "             0.0             1.0              1.0                       1.0                     18483\n",
       "                                                                        0.0                     18394\n",
       "                             0.0              1.0                       0.0                     12696\n",
       "             1.0             0.0              1.0                       1.0                     10019\n",
       "                             1.0              1.0                       0.0                      9846\n",
       "             0.0             1.0              0.0                       0.0                      8697\n",
       "             1.0             0.0              1.0                       0.0                      8269\n",
       "                             1.0              0.0                       1.0                      5660\n",
       "             0.0             0.0              1.0                       1.0                      5258\n",
       "0.0          0.0             0.0              0.0                       0.0                      4951\n",
       "1.0          0.0             1.0              0.0                       1.0                      4832\n",
       "             1.0             0.0              0.0                       1.0                      4662\n",
       "                                                                        0.0                      4613\n",
       "             0.0             0.0              0.0                       1.0                      4560\n",
       "             1.0             1.0              0.0                       0.0                      3563\n",
       "Name: count, dtype: int64"
      ]
     },
     "execution_count": 132,
     "metadata": {},
     "output_type": "execute_result"
    }
   ],
   "source": [
    "cols_banheiros = ['IN_BANHEIRO', 'IN_BANHEIRO_EI', 'IN_BANHEIRO_PNE', 'IN_BANHEIRO_FUNCIONARIOS', 'IN_BANHEIRO_CHUVEIRO']\n",
    "\n",
    "df[cols_banheiros].value_counts(dropna = False)"
   ]
  },
  {
   "cell_type": "code",
   "execution_count": 133,
   "metadata": {},
   "outputs": [
    {
     "data": {
      "text/plain": [
       "IN_BIBLIOTECA  IN_BIBLIOTECA_SALA_LEITURA  IN_SALA_LEITURA\n",
       "0.0            0.0                         0.0                84697\n",
       "1.0            1.0                         0.0                45050\n",
       "0.0            1.0                         1.0                28276\n",
       "1.0            1.0                         1.0                20453\n",
       "Name: count, dtype: int64"
      ]
     },
     "execution_count": 133,
     "metadata": {},
     "output_type": "execute_result"
    }
   ],
   "source": [
    "cols_biblioteca = ['IN_BIBLIOTECA', 'IN_BIBLIOTECA_SALA_LEITURA', 'IN_SALA_LEITURA']\n",
    "\n",
    "df[cols_biblioteca].value_counts(dropna = False)"
   ]
  },
  {
   "cell_type": "code",
   "execution_count": 134,
   "metadata": {},
   "outputs": [
    {
     "data": {
      "text/plain": [
       "['QT_MAT_INF',\n",
       " 'QT_MAT_INF_CRE',\n",
       " 'QT_MAT_INF_PRE',\n",
       " 'QT_MAT_FUND',\n",
       " 'QT_MAT_FUND_AI',\n",
       " 'QT_MAT_FUND_AI_1',\n",
       " 'QT_MAT_FUND_AI_2',\n",
       " 'QT_MAT_FUND_AI_3',\n",
       " 'QT_MAT_FUND_AI_4',\n",
       " 'QT_MAT_FUND_AI_5',\n",
       " 'QT_MAT_FUND_AF',\n",
       " 'QT_MAT_FUND_AF_6',\n",
       " 'QT_MAT_FUND_AF_7',\n",
       " 'QT_MAT_FUND_AF_8',\n",
       " 'QT_MAT_FUND_AF_9',\n",
       " 'QT_MAT_MED',\n",
       " 'QT_MAT_MED_PROP',\n",
       " 'QT_MAT_MED_PROP_1',\n",
       " 'QT_MAT_MED_PROP_2',\n",
       " 'QT_MAT_MED_PROP_3',\n",
       " 'QT_MAT_MED_PROP_4',\n",
       " 'QT_MAT_MED_PROP_NS',\n",
       " 'QT_MAT_MED_CT',\n",
       " 'QT_MAT_MED_CT_1',\n",
       " 'QT_MAT_MED_CT_2',\n",
       " 'QT_MAT_MED_CT_3',\n",
       " 'QT_MAT_MED_CT_4',\n",
       " 'QT_MAT_MED_CT_NS',\n",
       " 'QT_MAT_MED_NM',\n",
       " 'QT_MAT_MED_NM_1',\n",
       " 'QT_MAT_MED_NM_2',\n",
       " 'QT_MAT_MED_NM_3',\n",
       " 'QT_MAT_MED_NM_4',\n",
       " 'QT_MAT_PROF',\n",
       " 'QT_MAT_PROF_TEC',\n",
       " 'QT_MAT_PROF_TEC_CONC',\n",
       " 'QT_MAT_PROF_TEC_SUBS',\n",
       " 'QT_MAT_PROF_FIC_CONC',\n",
       " 'QT_MAT_EJA',\n",
       " 'QT_MAT_EJA_FUND',\n",
       " 'QT_MAT_EJA_FUND_AI',\n",
       " 'QT_MAT_EJA_FUND_AF',\n",
       " 'QT_MAT_EJA_FUND_FIC',\n",
       " 'QT_MAT_EJA_MED',\n",
       " 'QT_MAT_EJA_MED_NPROF',\n",
       " 'QT_MAT_EJA_MED_FIC',\n",
       " 'QT_MAT_EJA_MED_TEC',\n",
       " 'IN_BIBLIOTECA_SALA_LEITURA']"
      ]
     },
     "execution_count": 134,
     "metadata": {},
     "output_type": "execute_result"
    }
   ],
   "source": [
    "cols_remover += ['IN_BIBLIOTECA_SALA_LEITURA']\n",
    "cols_remover"
   ]
  },
  {
   "cell_type": "markdown",
   "metadata": {},
   "source": [
    "### Recursos de Acessibilidade para Pessoas com Deficiência ou Mobilidade Reduzida nas Vias de Circulação Interna da Escola"
   ]
  },
  {
   "cell_type": "markdown",
   "metadata": {},
   "source": [
    "#### IN_ACESSIBILIDADE_CORRIMAO"
   ]
  },
  {
   "cell_type": "markdown",
   "metadata": {},
   "source": [
    "- 1 - Sim\n",
    "- 0 - Não\n"
   ]
  },
  {
   "cell_type": "code",
   "execution_count": 135,
   "metadata": {},
   "outputs": [
    {
     "name": "stdout",
     "output_type": "stream",
     "text": [
      "\n",
      "Contagem de valores:\n"
     ]
    },
    {
     "data": {
      "text/plain": [
       "IN_ACESSIBILIDADE_CORRIMAO\n",
       "0.0    122907\n",
       "1.0     55569\n",
       "Name: count, dtype: int64"
      ]
     },
     "metadata": {},
     "output_type": "display_data"
    },
    {
     "name": "stdout",
     "output_type": "stream",
     "text": [
      "\n",
      "Quantidade de valores ausentes\n"
     ]
    },
    {
     "data": {
      "text/plain": [
       "IN_ACESSIBILIDADE_CORRIMAO\n",
       "False    178476\n",
       "Name: count, dtype: int64"
      ]
     },
     "metadata": {},
     "output_type": "display_data"
    }
   ],
   "source": [
    "basic_exploration(df, 'IN_ACESSIBILIDADE_CORRIMAO', 'binary')"
   ]
  },
  {
   "cell_type": "markdown",
   "metadata": {},
   "source": [
    "#### IN_ACESSIBILIDADE_ELEVADOR"
   ]
  },
  {
   "cell_type": "markdown",
   "metadata": {},
   "source": [
    "- 1 - Sim\n",
    "- 0 - Não\n"
   ]
  },
  {
   "cell_type": "code",
   "execution_count": 136,
   "metadata": {},
   "outputs": [
    {
     "name": "stdout",
     "output_type": "stream",
     "text": [
      "\n",
      "Contagem de valores:\n"
     ]
    },
    {
     "data": {
      "text/plain": [
       "IN_ACESSIBILIDADE_ELEVADOR\n",
       "0.0    170582\n",
       "1.0      7894\n",
       "Name: count, dtype: int64"
      ]
     },
     "metadata": {},
     "output_type": "display_data"
    },
    {
     "name": "stdout",
     "output_type": "stream",
     "text": [
      "\n",
      "Quantidade de valores ausentes\n"
     ]
    },
    {
     "data": {
      "text/plain": [
       "IN_ACESSIBILIDADE_ELEVADOR\n",
       "False    178476\n",
       "Name: count, dtype: int64"
      ]
     },
     "metadata": {},
     "output_type": "display_data"
    }
   ],
   "source": [
    "basic_exploration(df, 'IN_ACESSIBILIDADE_ELEVADOR', 'binary')"
   ]
  },
  {
   "cell_type": "markdown",
   "metadata": {},
   "source": [
    "#### IN_ACESSIBILIDADE_PISOS_TATEIS"
   ]
  },
  {
   "cell_type": "markdown",
   "metadata": {},
   "source": [
    "- 1 - Sim\n",
    "- 0 - Não\n"
   ]
  },
  {
   "cell_type": "code",
   "execution_count": 137,
   "metadata": {},
   "outputs": [
    {
     "name": "stdout",
     "output_type": "stream",
     "text": [
      "\n",
      "Contagem de valores:\n"
     ]
    },
    {
     "data": {
      "text/plain": [
       "IN_ACESSIBILIDADE_PISOS_TATEIS\n",
       "0.0    159691\n",
       "1.0     18785\n",
       "Name: count, dtype: int64"
      ]
     },
     "metadata": {},
     "output_type": "display_data"
    },
    {
     "name": "stdout",
     "output_type": "stream",
     "text": [
      "\n",
      "Quantidade de valores ausentes\n"
     ]
    },
    {
     "data": {
      "text/plain": [
       "IN_ACESSIBILIDADE_PISOS_TATEIS\n",
       "False    178476\n",
       "Name: count, dtype: int64"
      ]
     },
     "metadata": {},
     "output_type": "display_data"
    }
   ],
   "source": [
    "basic_exploration(df, 'IN_ACESSIBILIDADE_PISOS_TATEIS', 'binary')"
   ]
  },
  {
   "cell_type": "markdown",
   "metadata": {},
   "source": [
    "#### IN_ACESSIBILIDADE_VAO_LIVRE"
   ]
  },
  {
   "cell_type": "markdown",
   "metadata": {},
   "source": [
    "- 1 - Sim\n",
    "- 0 - Não\n"
   ]
  },
  {
   "cell_type": "code",
   "execution_count": 138,
   "metadata": {},
   "outputs": [
    {
     "name": "stdout",
     "output_type": "stream",
     "text": [
      "\n",
      "Contagem de valores:\n"
     ]
    },
    {
     "data": {
      "text/plain": [
       "IN_ACESSIBILIDADE_VAO_LIVRE\n",
       "0.0    108065\n",
       "1.0     70411\n",
       "Name: count, dtype: int64"
      ]
     },
     "metadata": {},
     "output_type": "display_data"
    },
    {
     "name": "stdout",
     "output_type": "stream",
     "text": [
      "\n",
      "Quantidade de valores ausentes\n"
     ]
    },
    {
     "data": {
      "text/plain": [
       "IN_ACESSIBILIDADE_VAO_LIVRE\n",
       "False    178476\n",
       "Name: count, dtype: int64"
      ]
     },
     "metadata": {},
     "output_type": "display_data"
    }
   ],
   "source": [
    "basic_exploration(df, 'IN_ACESSIBILIDADE_VAO_LIVRE', 'binary')"
   ]
  },
  {
   "cell_type": "markdown",
   "metadata": {},
   "source": [
    "#### IN_ACESSIBILIDADE_RAMPAS"
   ]
  },
  {
   "cell_type": "markdown",
   "metadata": {},
   "source": [
    "- 1 - Sim\n",
    "- 0 - Não\n"
   ]
  },
  {
   "cell_type": "code",
   "execution_count": 139,
   "metadata": {},
   "outputs": [
    {
     "name": "stdout",
     "output_type": "stream",
     "text": [
      "\n",
      "Contagem de valores:\n"
     ]
    },
    {
     "data": {
      "text/plain": [
       "IN_ACESSIBILIDADE_RAMPAS\n",
       "1.0    97688\n",
       "0.0    80788\n",
       "Name: count, dtype: int64"
      ]
     },
     "metadata": {},
     "output_type": "display_data"
    },
    {
     "name": "stdout",
     "output_type": "stream",
     "text": [
      "\n",
      "Quantidade de valores ausentes\n"
     ]
    },
    {
     "data": {
      "text/plain": [
       "IN_ACESSIBILIDADE_RAMPAS\n",
       "False    178476\n",
       "Name: count, dtype: int64"
      ]
     },
     "metadata": {},
     "output_type": "display_data"
    }
   ],
   "source": [
    "basic_exploration(df, 'IN_ACESSIBILIDADE_RAMPAS', 'binary')"
   ]
  },
  {
   "cell_type": "markdown",
   "metadata": {},
   "source": [
    "#### IN_ACESSIBILIDADE_SINAL_SONORO"
   ]
  },
  {
   "cell_type": "markdown",
   "metadata": {},
   "source": [
    "- 1 - Sim\n",
    "- 0 - Não\n"
   ]
  },
  {
   "cell_type": "code",
   "execution_count": 140,
   "metadata": {},
   "outputs": [
    {
     "name": "stdout",
     "output_type": "stream",
     "text": [
      "\n",
      "Contagem de valores:\n"
     ]
    },
    {
     "data": {
      "text/plain": [
       "IN_ACESSIBILIDADE_SINAL_SONORO\n",
       "0.0    174178\n",
       "1.0      4298\n",
       "Name: count, dtype: int64"
      ]
     },
     "metadata": {},
     "output_type": "display_data"
    },
    {
     "name": "stdout",
     "output_type": "stream",
     "text": [
      "\n",
      "Quantidade de valores ausentes\n"
     ]
    },
    {
     "data": {
      "text/plain": [
       "IN_ACESSIBILIDADE_SINAL_SONORO\n",
       "False    178476\n",
       "Name: count, dtype: int64"
      ]
     },
     "metadata": {},
     "output_type": "display_data"
    }
   ],
   "source": [
    "basic_exploration(df, 'IN_ACESSIBILIDADE_SINAL_SONORO', 'binary')"
   ]
  },
  {
   "cell_type": "markdown",
   "metadata": {},
   "source": [
    "#### IN_ACESSIBILIDADE_SINAL_TATIL"
   ]
  },
  {
   "cell_type": "markdown",
   "metadata": {},
   "source": [
    "- 1 - Sim\n",
    "- 0 - Não\n"
   ]
  },
  {
   "cell_type": "code",
   "execution_count": 141,
   "metadata": {},
   "outputs": [
    {
     "name": "stdout",
     "output_type": "stream",
     "text": [
      "\n",
      "Contagem de valores:\n"
     ]
    },
    {
     "data": {
      "text/plain": [
       "IN_ACESSIBILIDADE_SINAL_TATIL\n",
       "0.0    170637\n",
       "1.0      7839\n",
       "Name: count, dtype: int64"
      ]
     },
     "metadata": {},
     "output_type": "display_data"
    },
    {
     "name": "stdout",
     "output_type": "stream",
     "text": [
      "\n",
      "Quantidade de valores ausentes\n"
     ]
    },
    {
     "data": {
      "text/plain": [
       "IN_ACESSIBILIDADE_SINAL_TATIL\n",
       "False    178476\n",
       "Name: count, dtype: int64"
      ]
     },
     "metadata": {},
     "output_type": "display_data"
    }
   ],
   "source": [
    "basic_exploration(df, 'IN_ACESSIBILIDADE_SINAL_TATIL', 'binary')"
   ]
  },
  {
   "cell_type": "markdown",
   "metadata": {},
   "source": [
    "#### IN_ACESSIBILIDADE_SINAL_VISUAL"
   ]
  },
  {
   "cell_type": "markdown",
   "metadata": {},
   "source": [
    "- 1 - Sim\n",
    "- 0 - Não\n"
   ]
  },
  {
   "cell_type": "code",
   "execution_count": 142,
   "metadata": {},
   "outputs": [
    {
     "name": "stdout",
     "output_type": "stream",
     "text": [
      "\n",
      "Contagem de valores:\n"
     ]
    },
    {
     "data": {
      "text/plain": [
       "IN_ACESSIBILIDADE_SINAL_VISUAL\n",
       "0.0    161963\n",
       "1.0     16513\n",
       "Name: count, dtype: int64"
      ]
     },
     "metadata": {},
     "output_type": "display_data"
    },
    {
     "name": "stdout",
     "output_type": "stream",
     "text": [
      "\n",
      "Quantidade de valores ausentes\n"
     ]
    },
    {
     "data": {
      "text/plain": [
       "IN_ACESSIBILIDADE_SINAL_VISUAL\n",
       "False    178476\n",
       "Name: count, dtype: int64"
      ]
     },
     "metadata": {},
     "output_type": "display_data"
    }
   ],
   "source": [
    "basic_exploration(df, 'IN_ACESSIBILIDADE_SINAL_VISUAL', 'binary')"
   ]
  },
  {
   "cell_type": "markdown",
   "metadata": {},
   "source": [
    "#### IN_ACESSIBILIDADE_INEXISTENTE"
   ]
  },
  {
   "cell_type": "markdown",
   "metadata": {},
   "source": [
    "- 1 - Sim\n",
    "- 0 - Não\n"
   ]
  },
  {
   "cell_type": "code",
   "execution_count": 143,
   "metadata": {},
   "outputs": [
    {
     "name": "stdout",
     "output_type": "stream",
     "text": [
      "\n",
      "Contagem de valores:\n"
     ]
    },
    {
     "data": {
      "text/plain": [
       "IN_ACESSIBILIDADE_INEXISTENTE\n",
       "0.0    122027\n",
       "1.0     56449\n",
       "Name: count, dtype: int64"
      ]
     },
     "metadata": {},
     "output_type": "display_data"
    },
    {
     "name": "stdout",
     "output_type": "stream",
     "text": [
      "\n",
      "Quantidade de valores ausentes\n"
     ]
    },
    {
     "data": {
      "text/plain": [
       "IN_ACESSIBILIDADE_INEXISTENTE\n",
       "False    178476\n",
       "Name: count, dtype: int64"
      ]
     },
     "metadata": {},
     "output_type": "display_data"
    }
   ],
   "source": [
    "basic_exploration(df, 'IN_ACESSIBILIDADE_INEXISTENTE', 'binary')"
   ]
  },
  {
   "cell_type": "markdown",
   "metadata": {},
   "source": [
    "#### Comparação"
   ]
  },
  {
   "cell_type": "code",
   "execution_count": 144,
   "metadata": {},
   "outputs": [
    {
     "data": {
      "text/plain": [
       "IN_ACESSIBILIDADE_CORRIMAO  IN_ACESSIBILIDADE_ELEVADOR  IN_ACESSIBILIDADE_PISOS_TATEIS  IN_ACESSIBILIDADE_VAO_LIVRE  IN_ACESSIBILIDADE_RAMPAS  IN_ACESSIBILIDADE_SINAL_SONORO  IN_ACESSIBILIDADE_SINAL_TATIL  IN_ACESSIBILIDADE_SINAL_VISUAL  IN_ACESSIBILIDADE_INEXISTENTE\n",
       "0.0                         0.0                         0.0                             0.0                          0.0                       0.0                             0.0                            0.0                             1.0                              56449\n",
       "                                                                                                                     1.0                       0.0                             0.0                            0.0                             0.0                              25384\n",
       "                                                                                        1.0                          1.0                       0.0                             0.0                            0.0                             0.0                              18706\n",
       "1.0                         0.0                         0.0                             1.0                          1.0                       0.0                             0.0                            0.0                             0.0                              15143\n",
       "                                                                                        0.0                          1.0                       0.0                             0.0                            0.0                             0.0                              11258\n",
       "                                                                                                                                                                                                                                                                               ...  \n",
       "0.0                         0.0                         0.0                             0.0                          1.0                       1.0                             1.0                            1.0                             0.0                                  1\n",
       "                            1.0                         1.0                             0.0                          1.0                       1.0                             1.0                            1.0                             0.0                                  1\n",
       "                                                                                                                                                                               0.0                            0.0                             0.0                                  1\n",
       "                                                                                                                     0.0                       1.0                             0.0                            0.0                             0.0                                  1\n",
       "                                                        0.0                             1.0                          0.0                       1.0                             1.0                            0.0                             0.0                                  1\n",
       "Name: count, Length: 240, dtype: int64"
      ]
     },
     "execution_count": 144,
     "metadata": {},
     "output_type": "execute_result"
    }
   ],
   "source": [
    "cols_acessibilidade = ['IN_ACESSIBILIDADE_CORRIMAO', 'IN_ACESSIBILIDADE_ELEVADOR', 'IN_ACESSIBILIDADE_PISOS_TATEIS', 'IN_ACESSIBILIDADE_VAO_LIVRE', 'IN_ACESSIBILIDADE_RAMPAS', \n",
    "                  'IN_ACESSIBILIDADE_SINAL_SONORO', 'IN_ACESSIBILIDADE_SINAL_TATIL', 'IN_ACESSIBILIDADE_SINAL_VISUAL', 'IN_ACESSIBILIDADE_INEXISTENTE']\n",
    "\n",
    "df[cols_acessibilidade].value_counts(dropna = False)"
   ]
  },
  {
   "cell_type": "markdown",
   "metadata": {},
   "source": [
    "### Salas"
   ]
  },
  {
   "cell_type": "markdown",
   "metadata": {},
   "source": [
    "#### QT_SALAS_UTILIZADAS_DENTRO"
   ]
  },
  {
   "cell_type": "code",
   "execution_count": 145,
   "metadata": {},
   "outputs": [
    {
     "name": "stdout",
     "output_type": "stream",
     "text": [
      "\n",
      "Quantidade de valores ausentes\n"
     ]
    },
    {
     "data": {
      "text/plain": [
       "QT_SALAS_UTILIZADAS_DENTRO\n",
       "False    178476\n",
       "Name: count, dtype: int64"
      ]
     },
     "metadata": {},
     "output_type": "display_data"
    }
   ],
   "source": [
    "basic_exploration(df, 'QT_SALAS_UTILIZADAS_DENTRO', 'numeric')"
   ]
  },
  {
   "cell_type": "markdown",
   "metadata": {},
   "source": [
    "#### QT_SALAS_UTILIZADAS_FORA"
   ]
  },
  {
   "cell_type": "code",
   "execution_count": 146,
   "metadata": {},
   "outputs": [
    {
     "name": "stdout",
     "output_type": "stream",
     "text": [
      "\n",
      "Quantidade de valores ausentes\n"
     ]
    },
    {
     "data": {
      "text/plain": [
       "QT_SALAS_UTILIZADAS_FORA\n",
       "False    178476\n",
       "Name: count, dtype: int64"
      ]
     },
     "metadata": {},
     "output_type": "display_data"
    }
   ],
   "source": [
    "basic_exploration(df, 'QT_SALAS_UTILIZADAS_FORA', 'numeric')"
   ]
  },
  {
   "cell_type": "markdown",
   "metadata": {},
   "source": [
    "#### QT_SALAS_UTILIZADAS -> Remover"
   ]
  },
  {
   "cell_type": "code",
   "execution_count": 147,
   "metadata": {},
   "outputs": [
    {
     "name": "stdout",
     "output_type": "stream",
     "text": [
      "\n",
      "Quantidade de valores ausentes\n"
     ]
    },
    {
     "data": {
      "text/plain": [
       "QT_SALAS_UTILIZADAS\n",
       "False    178476\n",
       "Name: count, dtype: int64"
      ]
     },
     "metadata": {},
     "output_type": "display_data"
    }
   ],
   "source": [
    "basic_exploration(df, 'QT_SALAS_UTILIZADAS', 'numeric')"
   ]
  },
  {
   "cell_type": "markdown",
   "metadata": {},
   "source": [
    "#### QT_SALAS_UTILIZA_CLIMATIZADAS"
   ]
  },
  {
   "cell_type": "code",
   "execution_count": 148,
   "metadata": {},
   "outputs": [
    {
     "name": "stdout",
     "output_type": "stream",
     "text": [
      "\n",
      "Quantidade de valores ausentes\n"
     ]
    },
    {
     "data": {
      "text/plain": [
       "QT_SALAS_UTILIZA_CLIMATIZADAS\n",
       "False    178476\n",
       "Name: count, dtype: int64"
      ]
     },
     "metadata": {},
     "output_type": "display_data"
    }
   ],
   "source": [
    "basic_exploration(df, 'QT_SALAS_UTILIZA_CLIMATIZADAS', 'numeric')"
   ]
  },
  {
   "cell_type": "markdown",
   "metadata": {},
   "source": [
    "#### QT_SALAS_UTILIZADAS_ACESSIVEIS"
   ]
  },
  {
   "cell_type": "code",
   "execution_count": 149,
   "metadata": {},
   "outputs": [
    {
     "name": "stdout",
     "output_type": "stream",
     "text": [
      "\n",
      "Quantidade de valores ausentes\n"
     ]
    },
    {
     "data": {
      "text/plain": [
       "QT_SALAS_UTILIZADAS_ACESSIVEIS\n",
       "False    178476\n",
       "Name: count, dtype: int64"
      ]
     },
     "metadata": {},
     "output_type": "display_data"
    }
   ],
   "source": [
    "basic_exploration(df, 'QT_SALAS_UTILIZADAS_ACESSIVEIS', 'numeric')"
   ]
  },
  {
   "cell_type": "markdown",
   "metadata": {},
   "source": [
    "#### Comparação"
   ]
  },
  {
   "cell_type": "code",
   "execution_count": 150,
   "metadata": {},
   "outputs": [
    {
     "data": {
      "text/plain": [
       "(0, 174)"
      ]
     },
     "execution_count": 150,
     "metadata": {},
     "output_type": "execute_result"
    }
   ],
   "source": [
    "df[df['QT_SALAS_UTILIZADAS_DENTRO'] + df['QT_SALAS_UTILIZADAS_FORA'] != df['QT_SALAS_UTILIZADAS']].shape"
   ]
  },
  {
   "cell_type": "code",
   "execution_count": 151,
   "metadata": {},
   "outputs": [
    {
     "data": {
      "text/plain": [
       "['QT_MAT_INF',\n",
       " 'QT_MAT_INF_CRE',\n",
       " 'QT_MAT_INF_PRE',\n",
       " 'QT_MAT_FUND',\n",
       " 'QT_MAT_FUND_AI',\n",
       " 'QT_MAT_FUND_AI_1',\n",
       " 'QT_MAT_FUND_AI_2',\n",
       " 'QT_MAT_FUND_AI_3',\n",
       " 'QT_MAT_FUND_AI_4',\n",
       " 'QT_MAT_FUND_AI_5',\n",
       " 'QT_MAT_FUND_AF',\n",
       " 'QT_MAT_FUND_AF_6',\n",
       " 'QT_MAT_FUND_AF_7',\n",
       " 'QT_MAT_FUND_AF_8',\n",
       " 'QT_MAT_FUND_AF_9',\n",
       " 'QT_MAT_MED',\n",
       " 'QT_MAT_MED_PROP',\n",
       " 'QT_MAT_MED_PROP_1',\n",
       " 'QT_MAT_MED_PROP_2',\n",
       " 'QT_MAT_MED_PROP_3',\n",
       " 'QT_MAT_MED_PROP_4',\n",
       " 'QT_MAT_MED_PROP_NS',\n",
       " 'QT_MAT_MED_CT',\n",
       " 'QT_MAT_MED_CT_1',\n",
       " 'QT_MAT_MED_CT_2',\n",
       " 'QT_MAT_MED_CT_3',\n",
       " 'QT_MAT_MED_CT_4',\n",
       " 'QT_MAT_MED_CT_NS',\n",
       " 'QT_MAT_MED_NM',\n",
       " 'QT_MAT_MED_NM_1',\n",
       " 'QT_MAT_MED_NM_2',\n",
       " 'QT_MAT_MED_NM_3',\n",
       " 'QT_MAT_MED_NM_4',\n",
       " 'QT_MAT_PROF',\n",
       " 'QT_MAT_PROF_TEC',\n",
       " 'QT_MAT_PROF_TEC_CONC',\n",
       " 'QT_MAT_PROF_TEC_SUBS',\n",
       " 'QT_MAT_PROF_FIC_CONC',\n",
       " 'QT_MAT_EJA',\n",
       " 'QT_MAT_EJA_FUND',\n",
       " 'QT_MAT_EJA_FUND_AI',\n",
       " 'QT_MAT_EJA_FUND_AF',\n",
       " 'QT_MAT_EJA_FUND_FIC',\n",
       " 'QT_MAT_EJA_MED',\n",
       " 'QT_MAT_EJA_MED_NPROF',\n",
       " 'QT_MAT_EJA_MED_FIC',\n",
       " 'QT_MAT_EJA_MED_TEC',\n",
       " 'IN_BIBLIOTECA_SALA_LEITURA',\n",
       " 'QT_SALAS_UTILIZADAS_DENTRO']"
      ]
     },
     "execution_count": 151,
     "metadata": {},
     "output_type": "execute_result"
    }
   ],
   "source": [
    "cols_remover += ['QT_SALAS_UTILIZADAS_DENTRO']\n",
    "cols_remover"
   ]
  },
  {
   "cell_type": "markdown",
   "metadata": {},
   "source": [
    "### Equipamentos para uso técnico e administrativo"
   ]
  },
  {
   "cell_type": "markdown",
   "metadata": {},
   "source": [
    "#### IN_EQUIP_PARABOLICA"
   ]
  },
  {
   "cell_type": "markdown",
   "metadata": {},
   "source": [
    "- 1 - Sim\n",
    "- 0 - Não\n"
   ]
  },
  {
   "cell_type": "code",
   "execution_count": 152,
   "metadata": {},
   "outputs": [
    {
     "name": "stdout",
     "output_type": "stream",
     "text": [
      "\n",
      "Contagem de valores:\n"
     ]
    },
    {
     "data": {
      "text/plain": [
       "IN_EQUIP_PARABOLICA\n",
       "0.0    157998\n",
       "1.0     20478\n",
       "Name: count, dtype: int64"
      ]
     },
     "metadata": {},
     "output_type": "display_data"
    },
    {
     "name": "stdout",
     "output_type": "stream",
     "text": [
      "\n",
      "Quantidade de valores ausentes\n"
     ]
    },
    {
     "data": {
      "text/plain": [
       "IN_EQUIP_PARABOLICA\n",
       "False    178476\n",
       "Name: count, dtype: int64"
      ]
     },
     "metadata": {},
     "output_type": "display_data"
    }
   ],
   "source": [
    "basic_exploration(df, 'IN_EQUIP_PARABOLICA', 'binary')"
   ]
  },
  {
   "cell_type": "markdown",
   "metadata": {},
   "source": [
    "#### IN_COMPUTADOR"
   ]
  },
  {
   "cell_type": "markdown",
   "metadata": {},
   "source": [
    "- 1 - Sim\n",
    "- 0 - Não\n"
   ]
  },
  {
   "cell_type": "code",
   "execution_count": 153,
   "metadata": {},
   "outputs": [
    {
     "name": "stdout",
     "output_type": "stream",
     "text": [
      "\n",
      "Contagem de valores:\n"
     ]
    },
    {
     "data": {
      "text/plain": [
       "IN_COMPUTADOR\n",
       "1.0    150985\n",
       "0.0     27491\n",
       "Name: count, dtype: int64"
      ]
     },
     "metadata": {},
     "output_type": "display_data"
    },
    {
     "name": "stdout",
     "output_type": "stream",
     "text": [
      "\n",
      "Quantidade de valores ausentes\n"
     ]
    },
    {
     "data": {
      "text/plain": [
       "IN_COMPUTADOR\n",
       "False    178476\n",
       "Name: count, dtype: int64"
      ]
     },
     "metadata": {},
     "output_type": "display_data"
    }
   ],
   "source": [
    "basic_exploration(df, 'IN_COMPUTADOR', 'binary')"
   ]
  },
  {
   "cell_type": "markdown",
   "metadata": {},
   "source": [
    "#### IN_EQUIP_COPIADORA"
   ]
  },
  {
   "cell_type": "markdown",
   "metadata": {},
   "source": [
    "- 1 - Sim\n",
    "- 0 - Não\n"
   ]
  },
  {
   "cell_type": "code",
   "execution_count": 154,
   "metadata": {},
   "outputs": [
    {
     "name": "stdout",
     "output_type": "stream",
     "text": [
      "\n",
      "Contagem de valores:\n"
     ]
    },
    {
     "data": {
      "text/plain": [
       "IN_EQUIP_COPIADORA\n",
       "0.0    106825\n",
       "1.0     71651\n",
       "Name: count, dtype: int64"
      ]
     },
     "metadata": {},
     "output_type": "display_data"
    },
    {
     "name": "stdout",
     "output_type": "stream",
     "text": [
      "\n",
      "Quantidade de valores ausentes\n"
     ]
    },
    {
     "data": {
      "text/plain": [
       "IN_EQUIP_COPIADORA\n",
       "False    178476\n",
       "Name: count, dtype: int64"
      ]
     },
     "metadata": {},
     "output_type": "display_data"
    }
   ],
   "source": [
    "basic_exploration(df, 'IN_EQUIP_COPIADORA', 'binary')"
   ]
  },
  {
   "cell_type": "markdown",
   "metadata": {},
   "source": [
    "#### IN_EQUIP_IMPRESSORA"
   ]
  },
  {
   "cell_type": "markdown",
   "metadata": {},
   "source": [
    "- 1 - Sim\n",
    "- 0 - Não\n"
   ]
  },
  {
   "cell_type": "code",
   "execution_count": 155,
   "metadata": {},
   "outputs": [
    {
     "name": "stdout",
     "output_type": "stream",
     "text": [
      "\n",
      "Contagem de valores:\n"
     ]
    },
    {
     "data": {
      "text/plain": [
       "IN_EQUIP_IMPRESSORA\n",
       "1.0    117024\n",
       "0.0     61452\n",
       "Name: count, dtype: int64"
      ]
     },
     "metadata": {},
     "output_type": "display_data"
    },
    {
     "name": "stdout",
     "output_type": "stream",
     "text": [
      "\n",
      "Quantidade de valores ausentes\n"
     ]
    },
    {
     "data": {
      "text/plain": [
       "IN_EQUIP_IMPRESSORA\n",
       "False    178476\n",
       "Name: count, dtype: int64"
      ]
     },
     "metadata": {},
     "output_type": "display_data"
    }
   ],
   "source": [
    "basic_exploration(df, 'IN_EQUIP_IMPRESSORA', 'binary')"
   ]
  },
  {
   "cell_type": "markdown",
   "metadata": {},
   "source": [
    "#### IN_EQUIP_IMPRESSORA_MULT"
   ]
  },
  {
   "cell_type": "markdown",
   "metadata": {},
   "source": [
    "- 1 - Sim\n",
    "- 0 - Não\n"
   ]
  },
  {
   "cell_type": "code",
   "execution_count": 156,
   "metadata": {},
   "outputs": [
    {
     "name": "stdout",
     "output_type": "stream",
     "text": [
      "\n",
      "Contagem de valores:\n"
     ]
    },
    {
     "data": {
      "text/plain": [
       "IN_EQUIP_IMPRESSORA_MULT\n",
       "1.0    126486\n",
       "0.0     51990\n",
       "Name: count, dtype: int64"
      ]
     },
     "metadata": {},
     "output_type": "display_data"
    },
    {
     "name": "stdout",
     "output_type": "stream",
     "text": [
      "\n",
      "Quantidade de valores ausentes\n"
     ]
    },
    {
     "data": {
      "text/plain": [
       "IN_EQUIP_IMPRESSORA_MULT\n",
       "False    178476\n",
       "Name: count, dtype: int64"
      ]
     },
     "metadata": {},
     "output_type": "display_data"
    }
   ],
   "source": [
    "basic_exploration(df, 'IN_EQUIP_IMPRESSORA_MULT', 'binary')"
   ]
  },
  {
   "cell_type": "markdown",
   "metadata": {},
   "source": [
    "#### IN_EQUIP_SCANNER"
   ]
  },
  {
   "cell_type": "markdown",
   "metadata": {},
   "source": [
    "- 1 - Sim\n",
    "- 0 - Não\n"
   ]
  },
  {
   "cell_type": "code",
   "execution_count": 157,
   "metadata": {},
   "outputs": [
    {
     "name": "stdout",
     "output_type": "stream",
     "text": [
      "\n",
      "Contagem de valores:\n"
     ]
    },
    {
     "data": {
      "text/plain": [
       "IN_EQUIP_SCANNER\n",
       "0.0    129856\n",
       "1.0     48620\n",
       "Name: count, dtype: int64"
      ]
     },
     "metadata": {},
     "output_type": "display_data"
    },
    {
     "name": "stdout",
     "output_type": "stream",
     "text": [
      "\n",
      "Quantidade de valores ausentes\n"
     ]
    },
    {
     "data": {
      "text/plain": [
       "IN_EQUIP_SCANNER\n",
       "False    178476\n",
       "Name: count, dtype: int64"
      ]
     },
     "metadata": {},
     "output_type": "display_data"
    }
   ],
   "source": [
    "basic_exploration(df, 'IN_EQUIP_SCANNER', 'binary')"
   ]
  },
  {
   "cell_type": "markdown",
   "metadata": {},
   "source": [
    "#### Comparação"
   ]
  },
  {
   "cell_type": "code",
   "execution_count": 158,
   "metadata": {},
   "outputs": [
    {
     "data": {
      "text/plain": [
       "IN_EQUIP_COPIADORA  IN_EQUIP_IMPRESSORA  IN_EQUIP_IMPRESSORA_MULT  IN_EQUIP_SCANNER\n",
       "1.0                 1.0                  1.0                       1.0                 33865\n",
       "0.0                 0.0                  1.0                       0.0                 31853\n",
       "                    1.0                  1.0                       0.0                 25302\n",
       "1.0                 1.0                  1.0                       0.0                 20133\n",
       "0.0                 0.0                  0.0                       0.0                 20096\n",
       "                    1.0                  0.0                       0.0                 18733\n",
       "1.0                 1.0                  0.0                       0.0                  7687\n",
       "0.0                 1.0                  1.0                       1.0                  7226\n",
       "1.0                 0.0                  1.0                       0.0                  4803\n",
       "                    1.0                  0.0                       1.0                  2668\n",
       "0.0                 0.0                  1.0                       1.0                  2162\n",
       "                    1.0                  0.0                       1.0                  1410\n",
       "1.0                 0.0                  0.0                       0.0                  1249\n",
       "                                         1.0                       1.0                  1142\n",
       "                                         0.0                       1.0                   104\n",
       "0.0                 0.0                  0.0                       1.0                    43\n",
       "Name: count, dtype: int64"
      ]
     },
     "execution_count": 158,
     "metadata": {},
     "output_type": "execute_result"
    }
   ],
   "source": [
    "cols_equipamentos_tec = ['IN_EQUIP_COPIADORA', 'IN_EQUIP_IMPRESSORA', 'IN_EQUIP_IMPRESSORA_MULT', 'IN_EQUIP_SCANNER']\n",
    "\n",
    "df[cols_equipamentos_tec].value_counts(dropna = False)"
   ]
  },
  {
   "cell_type": "markdown",
   "metadata": {},
   "source": [
    "### Equipamentos para o processo de ensino e atividade"
   ]
  },
  {
   "cell_type": "markdown",
   "metadata": {},
   "source": [
    "#### QT_EQUIP_DVD"
   ]
  },
  {
   "cell_type": "markdown",
   "metadata": {},
   "source": [
    "88888 - registro com marcação de valor extremo (valor superior ao limite máximo de 4 equipamentos para cada 3 salas existentes - foram marcados apenas valores>3)"
   ]
  },
  {
   "cell_type": "code",
   "execution_count": 159,
   "metadata": {},
   "outputs": [
    {
     "name": "stdout",
     "output_type": "stream",
     "text": [
      "\n",
      "Quantidade de valores ausentes\n"
     ]
    },
    {
     "data": {
      "text/plain": [
       "QT_EQUIP_DVD\n",
       "False    178476\n",
       "Name: count, dtype: int64"
      ]
     },
     "metadata": {},
     "output_type": "display_data"
    }
   ],
   "source": [
    "basic_exploration(df, 'QT_EQUIP_DVD', 'numeric')"
   ]
  },
  {
   "cell_type": "code",
   "execution_count": 160,
   "metadata": {},
   "outputs": [
    {
     "data": {
      "text/plain": [
       "(99603, 174)"
      ]
     },
     "execution_count": 160,
     "metadata": {},
     "output_type": "execute_result"
    }
   ],
   "source": [
    "df[df['QT_EQUIP_DVD'] == 0].shape"
   ]
  },
  {
   "cell_type": "code",
   "execution_count": 161,
   "metadata": {},
   "outputs": [
    {
     "data": {
      "text/plain": [
       "(162, 174)"
      ]
     },
     "execution_count": 161,
     "metadata": {},
     "output_type": "execute_result"
    }
   ],
   "source": [
    "df[df['QT_EQUIP_DVD'] == 88888].shape"
   ]
  },
  {
   "cell_type": "code",
   "execution_count": 162,
   "metadata": {},
   "outputs": [
    {
     "data": {
      "text/plain": [
       "(78711, 174)"
      ]
     },
     "execution_count": 162,
     "metadata": {},
     "output_type": "execute_result"
    }
   ],
   "source": [
    "df[(df['QT_EQUIP_DVD'] > 0) & (df['QT_EQUIP_DVD'] < 88888)].shape"
   ]
  },
  {
   "cell_type": "code",
   "execution_count": 163,
   "metadata": {},
   "outputs": [
    {
     "data": {
      "text/plain": [
       "123195    74.0\n",
       "123833    70.0\n",
       "106229    61.0\n",
       "146427    52.0\n",
       "103653    50.0\n",
       "          ... \n",
       "87826      1.0\n",
       "87827      1.0\n",
       "87828      1.0\n",
       "87829      1.0\n",
       "178474     1.0\n",
       "Name: QT_EQUIP_DVD, Length: 78711, dtype: float64"
      ]
     },
     "execution_count": 163,
     "metadata": {},
     "output_type": "execute_result"
    }
   ],
   "source": [
    "df[(df['QT_EQUIP_DVD'] > 0) & (df['QT_EQUIP_DVD'] < 88888)]['QT_EQUIP_DVD'].sort_values(ascending = False)"
   ]
  },
  {
   "cell_type": "code",
   "execution_count": 164,
   "metadata": {},
   "outputs": [
    {
     "data": {
      "text/html": [
       "<div>\n",
       "<style scoped>\n",
       "    .dataframe tbody tr th:only-of-type {\n",
       "        vertical-align: middle;\n",
       "    }\n",
       "\n",
       "    .dataframe tbody tr th {\n",
       "        vertical-align: top;\n",
       "    }\n",
       "\n",
       "    .dataframe thead th {\n",
       "        text-align: right;\n",
       "    }\n",
       "</style>\n",
       "<table border=\"1\" class=\"dataframe\">\n",
       "  <thead>\n",
       "    <tr style=\"text-align: right;\">\n",
       "      <th></th>\n",
       "      <th>NO_ENTIDADE</th>\n",
       "      <th>QT_EQUIP_DVD</th>\n",
       "      <th>QT_SALAS_UTILIZADAS</th>\n",
       "    </tr>\n",
       "  </thead>\n",
       "  <tbody>\n",
       "  </tbody>\n",
       "</table>\n",
       "</div>"
      ],
      "text/plain": [
       "Empty DataFrame\n",
       "Columns: [NO_ENTIDADE, QT_EQUIP_DVD, QT_SALAS_UTILIZADAS]\n",
       "Index: []"
      ]
     },
     "execution_count": 164,
     "metadata": {},
     "output_type": "execute_result"
    }
   ],
   "source": [
    "df[\n",
    "    (df['QT_EQUIP_DVD'] > 3) & \n",
    "    (df['QT_EQUIP_DVD'] > df['QT_SALAS_UTILIZADAS'] / 3 * 4) & \n",
    "    (df['QT_EQUIP_DVD'] < 88888)\n",
    "][['NO_ENTIDADE', 'QT_EQUIP_DVD', 'QT_SALAS_UTILIZADAS']]"
   ]
  },
  {
   "cell_type": "markdown",
   "metadata": {},
   "source": [
    "#### QT_EQUIP_SOM"
   ]
  },
  {
   "cell_type": "markdown",
   "metadata": {},
   "source": [
    "88888 - registro com marcação de valor extremo (valor superior ao limite máximo de 4 equipamentos para cada 3 salas existentes - foram marcados apenas valores>3)"
   ]
  },
  {
   "cell_type": "code",
   "execution_count": 165,
   "metadata": {},
   "outputs": [
    {
     "name": "stdout",
     "output_type": "stream",
     "text": [
      "\n",
      "Quantidade de valores ausentes\n"
     ]
    },
    {
     "data": {
      "text/plain": [
       "QT_EQUIP_SOM\n",
       "False    178476\n",
       "Name: count, dtype: int64"
      ]
     },
     "metadata": {},
     "output_type": "display_data"
    }
   ],
   "source": [
    "basic_exploration(df, 'QT_EQUIP_SOM', 'numeric')"
   ]
  },
  {
   "cell_type": "code",
   "execution_count": 166,
   "metadata": {},
   "outputs": [
    {
     "data": {
      "text/plain": [
       "(48020, 174)"
      ]
     },
     "execution_count": 166,
     "metadata": {},
     "output_type": "execute_result"
    }
   ],
   "source": [
    "df[df['QT_EQUIP_SOM'] == 0].shape"
   ]
  },
  {
   "cell_type": "code",
   "execution_count": 167,
   "metadata": {},
   "outputs": [
    {
     "data": {
      "text/plain": [
       "(1207, 174)"
      ]
     },
     "execution_count": 167,
     "metadata": {},
     "output_type": "execute_result"
    }
   ],
   "source": [
    "df[df['QT_EQUIP_SOM'] == 88888].shape"
   ]
  },
  {
   "cell_type": "code",
   "execution_count": 168,
   "metadata": {},
   "outputs": [
    {
     "data": {
      "text/plain": [
       "(129249, 174)"
      ]
     },
     "execution_count": 168,
     "metadata": {},
     "output_type": "execute_result"
    }
   ],
   "source": [
    "df[(df['QT_EQUIP_SOM'] > 0) & (df['QT_EQUIP_SOM'] < 88888)].shape"
   ]
  },
  {
   "cell_type": "code",
   "execution_count": 169,
   "metadata": {},
   "outputs": [
    {
     "data": {
      "text/plain": [
       "138522    192.0\n",
       "123049    140.0\n",
       "107360    106.0\n",
       "123197    101.0\n",
       "146626     92.0\n",
       "          ...  \n",
       "64682       1.0\n",
       "124825      1.0\n",
       "64680       1.0\n",
       "124827      1.0\n",
       "178475      1.0\n",
       "Name: QT_EQUIP_SOM, Length: 129249, dtype: float64"
      ]
     },
     "execution_count": 169,
     "metadata": {},
     "output_type": "execute_result"
    }
   ],
   "source": [
    "df[(df['QT_EQUIP_SOM'] > 0) & (df['QT_EQUIP_SOM'] < 88888)]['QT_EQUIP_SOM'].sort_values(ascending = False)"
   ]
  },
  {
   "cell_type": "code",
   "execution_count": 170,
   "metadata": {},
   "outputs": [
    {
     "data": {
      "text/html": [
       "<div>\n",
       "<style scoped>\n",
       "    .dataframe tbody tr th:only-of-type {\n",
       "        vertical-align: middle;\n",
       "    }\n",
       "\n",
       "    .dataframe tbody tr th {\n",
       "        vertical-align: top;\n",
       "    }\n",
       "\n",
       "    .dataframe thead th {\n",
       "        text-align: right;\n",
       "    }\n",
       "</style>\n",
       "<table border=\"1\" class=\"dataframe\">\n",
       "  <thead>\n",
       "    <tr style=\"text-align: right;\">\n",
       "      <th></th>\n",
       "      <th>NO_ENTIDADE</th>\n",
       "      <th>QT_EQUIP_SOM</th>\n",
       "      <th>QT_SALAS_UTILIZADAS</th>\n",
       "    </tr>\n",
       "  </thead>\n",
       "  <tbody>\n",
       "  </tbody>\n",
       "</table>\n",
       "</div>"
      ],
      "text/plain": [
       "Empty DataFrame\n",
       "Columns: [NO_ENTIDADE, QT_EQUIP_SOM, QT_SALAS_UTILIZADAS]\n",
       "Index: []"
      ]
     },
     "execution_count": 170,
     "metadata": {},
     "output_type": "execute_result"
    }
   ],
   "source": [
    "df[\n",
    "    (df['QT_EQUIP_SOM'] > 3) & \n",
    "    (df['QT_EQUIP_SOM'] > df['QT_SALAS_UTILIZADAS'] / 3 * 4) & \n",
    "    (df['QT_EQUIP_SOM'] < 88888)\n",
    "][['NO_ENTIDADE', 'QT_EQUIP_SOM', 'QT_SALAS_UTILIZADAS']]"
   ]
  },
  {
   "cell_type": "markdown",
   "metadata": {},
   "source": [
    "#### QT_EQUIP_TV"
   ]
  },
  {
   "cell_type": "markdown",
   "metadata": {},
   "source": [
    "88888 - registro com marcação de valor extremo (valor superior ao limite máximo de 4 equipamentos para cada 3 salas existentes - foram marcados apenas valores>3)"
   ]
  },
  {
   "cell_type": "code",
   "execution_count": 171,
   "metadata": {},
   "outputs": [
    {
     "name": "stdout",
     "output_type": "stream",
     "text": [
      "\n",
      "Quantidade de valores ausentes\n"
     ]
    },
    {
     "data": {
      "text/plain": [
       "QT_EQUIP_TV\n",
       "False    178476\n",
       "Name: count, dtype: int64"
      ]
     },
     "metadata": {},
     "output_type": "display_data"
    }
   ],
   "source": [
    "basic_exploration(df, 'QT_EQUIP_TV', 'numeric')"
   ]
  },
  {
   "cell_type": "code",
   "execution_count": 172,
   "metadata": {},
   "outputs": [
    {
     "data": {
      "text/plain": [
       "(39195, 174)"
      ]
     },
     "execution_count": 172,
     "metadata": {},
     "output_type": "execute_result"
    }
   ],
   "source": [
    "df[df['QT_EQUIP_TV'] == 0].shape"
   ]
  },
  {
   "cell_type": "code",
   "execution_count": 173,
   "metadata": {},
   "outputs": [
    {
     "data": {
      "text/plain": [
       "(2359, 174)"
      ]
     },
     "execution_count": 173,
     "metadata": {},
     "output_type": "execute_result"
    }
   ],
   "source": [
    "df[df['QT_EQUIP_TV'] == 88888].shape"
   ]
  },
  {
   "cell_type": "code",
   "execution_count": 174,
   "metadata": {},
   "outputs": [
    {
     "data": {
      "text/plain": [
       "(136922, 174)"
      ]
     },
     "execution_count": 174,
     "metadata": {},
     "output_type": "execute_result"
    }
   ],
   "source": [
    "df[(df['QT_EQUIP_TV'] > 0) & (df['QT_EQUIP_TV'] < 88888)].shape"
   ]
  },
  {
   "cell_type": "code",
   "execution_count": 175,
   "metadata": {},
   "outputs": [
    {
     "data": {
      "text/plain": [
       "79786     131.0\n",
       "7947      112.0\n",
       "111712     90.0\n",
       "54150      81.0\n",
       "103781     76.0\n",
       "          ...  \n",
       "54888       1.0\n",
       "54886       1.0\n",
       "54885       1.0\n",
       "54884       1.0\n",
       "178475      1.0\n",
       "Name: QT_EQUIP_TV, Length: 136922, dtype: float64"
      ]
     },
     "execution_count": 175,
     "metadata": {},
     "output_type": "execute_result"
    }
   ],
   "source": [
    "df[(df['QT_EQUIP_TV'] > 0) & (df['QT_EQUIP_TV'] < 88888)]['QT_EQUIP_TV'].sort_values(ascending = False)"
   ]
  },
  {
   "cell_type": "code",
   "execution_count": 176,
   "metadata": {},
   "outputs": [
    {
     "data": {
      "text/html": [
       "<div>\n",
       "<style scoped>\n",
       "    .dataframe tbody tr th:only-of-type {\n",
       "        vertical-align: middle;\n",
       "    }\n",
       "\n",
       "    .dataframe tbody tr th {\n",
       "        vertical-align: top;\n",
       "    }\n",
       "\n",
       "    .dataframe thead th {\n",
       "        text-align: right;\n",
       "    }\n",
       "</style>\n",
       "<table border=\"1\" class=\"dataframe\">\n",
       "  <thead>\n",
       "    <tr style=\"text-align: right;\">\n",
       "      <th></th>\n",
       "      <th>NO_ENTIDADE</th>\n",
       "      <th>QT_EQUIP_TV</th>\n",
       "      <th>QT_SALAS_UTILIZADAS</th>\n",
       "    </tr>\n",
       "  </thead>\n",
       "  <tbody>\n",
       "  </tbody>\n",
       "</table>\n",
       "</div>"
      ],
      "text/plain": [
       "Empty DataFrame\n",
       "Columns: [NO_ENTIDADE, QT_EQUIP_TV, QT_SALAS_UTILIZADAS]\n",
       "Index: []"
      ]
     },
     "execution_count": 176,
     "metadata": {},
     "output_type": "execute_result"
    }
   ],
   "source": [
    "df[\n",
    "    (df['QT_EQUIP_TV'] > 3) & \n",
    "    (df['QT_EQUIP_TV'] > df['QT_SALAS_UTILIZADAS'] / 3 * 4) & \n",
    "    (df['QT_EQUIP_TV'] < 88888)\n",
    "][['NO_ENTIDADE', 'QT_EQUIP_TV', 'QT_SALAS_UTILIZADAS']]"
   ]
  },
  {
   "cell_type": "markdown",
   "metadata": {},
   "source": [
    "#### QT_EQUIP_LOUSA_DIGITAL"
   ]
  },
  {
   "cell_type": "markdown",
   "metadata": {},
   "source": [
    "88888 - registro com marcação de valor extremo (valor superior ao limite máximo de 4 equipamentos para cada 3 salas existentes - foram marcados apenas valores>3)"
   ]
  },
  {
   "cell_type": "code",
   "execution_count": 177,
   "metadata": {},
   "outputs": [
    {
     "name": "stdout",
     "output_type": "stream",
     "text": [
      "\n",
      "Quantidade de valores ausentes\n"
     ]
    },
    {
     "data": {
      "text/plain": [
       "QT_EQUIP_LOUSA_DIGITAL\n",
       "False    178476\n",
       "Name: count, dtype: int64"
      ]
     },
     "metadata": {},
     "output_type": "display_data"
    }
   ],
   "source": [
    "basic_exploration(df, 'QT_EQUIP_LOUSA_DIGITAL', 'numeric')"
   ]
  },
  {
   "cell_type": "code",
   "execution_count": 178,
   "metadata": {},
   "outputs": [
    {
     "data": {
      "text/plain": [
       "(153717, 174)"
      ]
     },
     "execution_count": 178,
     "metadata": {},
     "output_type": "execute_result"
    }
   ],
   "source": [
    "df[df['QT_EQUIP_LOUSA_DIGITAL'] == 0].shape"
   ]
  },
  {
   "cell_type": "code",
   "execution_count": 179,
   "metadata": {},
   "outputs": [
    {
     "data": {
      "text/plain": [
       "(67, 174)"
      ]
     },
     "execution_count": 179,
     "metadata": {},
     "output_type": "execute_result"
    }
   ],
   "source": [
    "df[df['QT_EQUIP_LOUSA_DIGITAL'] == 88888].shape"
   ]
  },
  {
   "cell_type": "code",
   "execution_count": 180,
   "metadata": {},
   "outputs": [
    {
     "data": {
      "text/plain": [
       "(24692, 174)"
      ]
     },
     "execution_count": 180,
     "metadata": {},
     "output_type": "execute_result"
    }
   ],
   "source": [
    "df[(df['QT_EQUIP_LOUSA_DIGITAL'] > 0) & (df['QT_EQUIP_LOUSA_DIGITAL'] < 88888)].shape"
   ]
  },
  {
   "cell_type": "code",
   "execution_count": 181,
   "metadata": {},
   "outputs": [
    {
     "data": {
      "text/plain": [
       "124520    128.0\n",
       "173437     98.0\n",
       "123833     75.0\n",
       "106830     72.0\n",
       "111712     68.0\n",
       "          ...  \n",
       "96002       1.0\n",
       "96001       1.0\n",
       "95997       1.0\n",
       "95995       1.0\n",
       "178474      1.0\n",
       "Name: QT_EQUIP_LOUSA_DIGITAL, Length: 24692, dtype: float64"
      ]
     },
     "execution_count": 181,
     "metadata": {},
     "output_type": "execute_result"
    }
   ],
   "source": [
    "df[(df['QT_EQUIP_LOUSA_DIGITAL'] > 0) & (df['QT_EQUIP_LOUSA_DIGITAL'] < 88888)]['QT_EQUIP_LOUSA_DIGITAL'].sort_values(ascending = False)"
   ]
  },
  {
   "cell_type": "code",
   "execution_count": 182,
   "metadata": {},
   "outputs": [
    {
     "data": {
      "text/html": [
       "<div>\n",
       "<style scoped>\n",
       "    .dataframe tbody tr th:only-of-type {\n",
       "        vertical-align: middle;\n",
       "    }\n",
       "\n",
       "    .dataframe tbody tr th {\n",
       "        vertical-align: top;\n",
       "    }\n",
       "\n",
       "    .dataframe thead th {\n",
       "        text-align: right;\n",
       "    }\n",
       "</style>\n",
       "<table border=\"1\" class=\"dataframe\">\n",
       "  <thead>\n",
       "    <tr style=\"text-align: right;\">\n",
       "      <th></th>\n",
       "      <th>NO_ENTIDADE</th>\n",
       "      <th>QT_EQUIP_LOUSA_DIGITAL</th>\n",
       "      <th>QT_SALAS_UTILIZADAS</th>\n",
       "    </tr>\n",
       "  </thead>\n",
       "  <tbody>\n",
       "  </tbody>\n",
       "</table>\n",
       "</div>"
      ],
      "text/plain": [
       "Empty DataFrame\n",
       "Columns: [NO_ENTIDADE, QT_EQUIP_LOUSA_DIGITAL, QT_SALAS_UTILIZADAS]\n",
       "Index: []"
      ]
     },
     "execution_count": 182,
     "metadata": {},
     "output_type": "execute_result"
    }
   ],
   "source": [
    "df[\n",
    "    (df['QT_EQUIP_LOUSA_DIGITAL'] > 3) & \n",
    "    (df['QT_EQUIP_LOUSA_DIGITAL'] > df['QT_SALAS_UTILIZADAS'] / 3 * 4) & \n",
    "    (df['QT_EQUIP_LOUSA_DIGITAL'] < 88888)\n",
    "][['NO_ENTIDADE', 'QT_EQUIP_LOUSA_DIGITAL', 'QT_SALAS_UTILIZADAS']]"
   ]
  },
  {
   "cell_type": "markdown",
   "metadata": {},
   "source": [
    "#### QT_EQUIP_MULTIMIDIA"
   ]
  },
  {
   "cell_type": "markdown",
   "metadata": {},
   "source": [
    "88888 - registro com marcação de valor extremo (valor superior ao limite máximo de 4 equipamentos para cada 3 salas existentes - foram marcados apenas valores>3)"
   ]
  },
  {
   "cell_type": "code",
   "execution_count": 183,
   "metadata": {},
   "outputs": [
    {
     "name": "stdout",
     "output_type": "stream",
     "text": [
      "\n",
      "Quantidade de valores ausentes\n"
     ]
    },
    {
     "data": {
      "text/plain": [
       "QT_EQUIP_MULTIMIDIA\n",
       "False    178476\n",
       "Name: count, dtype: int64"
      ]
     },
     "metadata": {},
     "output_type": "display_data"
    }
   ],
   "source": [
    "basic_exploration(df, 'QT_EQUIP_MULTIMIDIA', 'numeric')"
   ]
  },
  {
   "cell_type": "code",
   "execution_count": 184,
   "metadata": {},
   "outputs": [
    {
     "data": {
      "text/plain": [
       "(68594, 174)"
      ]
     },
     "execution_count": 184,
     "metadata": {},
     "output_type": "execute_result"
    }
   ],
   "source": [
    "df[df['QT_EQUIP_MULTIMIDIA'] == 0].shape"
   ]
  },
  {
   "cell_type": "code",
   "execution_count": 185,
   "metadata": {},
   "outputs": [
    {
     "data": {
      "text/plain": [
       "(980, 174)"
      ]
     },
     "execution_count": 185,
     "metadata": {},
     "output_type": "execute_result"
    }
   ],
   "source": [
    "df[df['QT_EQUIP_MULTIMIDIA'] == 88888].shape"
   ]
  },
  {
   "cell_type": "code",
   "execution_count": 186,
   "metadata": {},
   "outputs": [
    {
     "data": {
      "text/plain": [
       "(108902, 174)"
      ]
     },
     "execution_count": 186,
     "metadata": {},
     "output_type": "execute_result"
    }
   ],
   "source": [
    "df[(df['QT_EQUIP_MULTIMIDIA'] > 0) & (df['QT_EQUIP_MULTIMIDIA'] < 88888)].shape"
   ]
  },
  {
   "cell_type": "code",
   "execution_count": 187,
   "metadata": {},
   "outputs": [
    {
     "data": {
      "text/plain": [
       "171532    178.0\n",
       "138524    160.0\n",
       "146587    128.0\n",
       "146359    116.0\n",
       "111712    110.0\n",
       "          ...  \n",
       "110788      1.0\n",
       "23559       1.0\n",
       "110792      1.0\n",
       "23555       1.0\n",
       "41909       1.0\n",
       "Name: QT_EQUIP_MULTIMIDIA, Length: 108902, dtype: float64"
      ]
     },
     "execution_count": 187,
     "metadata": {},
     "output_type": "execute_result"
    }
   ],
   "source": [
    "df[(df['QT_EQUIP_MULTIMIDIA'] > 0) & (df['QT_EQUIP_MULTIMIDIA'] < 88888)]['QT_EQUIP_MULTIMIDIA'].sort_values(ascending = False)"
   ]
  },
  {
   "cell_type": "code",
   "execution_count": 188,
   "metadata": {},
   "outputs": [
    {
     "data": {
      "text/html": [
       "<div>\n",
       "<style scoped>\n",
       "    .dataframe tbody tr th:only-of-type {\n",
       "        vertical-align: middle;\n",
       "    }\n",
       "\n",
       "    .dataframe tbody tr th {\n",
       "        vertical-align: top;\n",
       "    }\n",
       "\n",
       "    .dataframe thead th {\n",
       "        text-align: right;\n",
       "    }\n",
       "</style>\n",
       "<table border=\"1\" class=\"dataframe\">\n",
       "  <thead>\n",
       "    <tr style=\"text-align: right;\">\n",
       "      <th></th>\n",
       "      <th>NO_ENTIDADE</th>\n",
       "      <th>QT_EQUIP_MULTIMIDIA</th>\n",
       "      <th>QT_SALAS_UTILIZADAS</th>\n",
       "    </tr>\n",
       "  </thead>\n",
       "  <tbody>\n",
       "  </tbody>\n",
       "</table>\n",
       "</div>"
      ],
      "text/plain": [
       "Empty DataFrame\n",
       "Columns: [NO_ENTIDADE, QT_EQUIP_MULTIMIDIA, QT_SALAS_UTILIZADAS]\n",
       "Index: []"
      ]
     },
     "execution_count": 188,
     "metadata": {},
     "output_type": "execute_result"
    }
   ],
   "source": [
    "df[\n",
    "    (df['QT_EQUIP_MULTIMIDIA'] > 3) & \n",
    "    (df['QT_EQUIP_MULTIMIDIA'] > df['QT_SALAS_UTILIZADAS'] / 3 * 4) & \n",
    "    (df['QT_EQUIP_MULTIMIDIA'] < 88888)\n",
    "][['NO_ENTIDADE', 'QT_EQUIP_MULTIMIDIA', 'QT_SALAS_UTILIZADAS']]"
   ]
  },
  {
   "cell_type": "markdown",
   "metadata": {},
   "source": [
    "#### QT_DESKTOP_ALUNO -> 24 Valores estranhos"
   ]
  },
  {
   "cell_type": "markdown",
   "metadata": {},
   "source": [
    "88888 - registro com marcação de valor extremo (valor superior ao limite máximo de 4 equipamentos para cada 3 matrículas - foram marcados apenas valores>3)"
   ]
  },
  {
   "cell_type": "code",
   "execution_count": 189,
   "metadata": {},
   "outputs": [
    {
     "name": "stdout",
     "output_type": "stream",
     "text": [
      "\n",
      "Quantidade de valores ausentes\n"
     ]
    },
    {
     "data": {
      "text/plain": [
       "QT_DESKTOP_ALUNO\n",
       "False    178476\n",
       "Name: count, dtype: int64"
      ]
     },
     "metadata": {},
     "output_type": "display_data"
    }
   ],
   "source": [
    "basic_exploration(df, 'QT_DESKTOP_ALUNO', 'numeric')"
   ]
  },
  {
   "cell_type": "code",
   "execution_count": 190,
   "metadata": {},
   "outputs": [
    {
     "data": {
      "text/plain": [
       "(94396, 174)"
      ]
     },
     "execution_count": 190,
     "metadata": {},
     "output_type": "execute_result"
    }
   ],
   "source": [
    "df[df['QT_DESKTOP_ALUNO'] == 0].shape"
   ]
  },
  {
   "cell_type": "code",
   "execution_count": 191,
   "metadata": {},
   "outputs": [
    {
     "data": {
      "text/plain": [
       "(174, 174)"
      ]
     },
     "execution_count": 191,
     "metadata": {},
     "output_type": "execute_result"
    }
   ],
   "source": [
    "df[df['QT_DESKTOP_ALUNO'] == 88888].shape"
   ]
  },
  {
   "cell_type": "code",
   "execution_count": 192,
   "metadata": {},
   "outputs": [
    {
     "data": {
      "text/plain": [
       "(83906, 174)"
      ]
     },
     "execution_count": 192,
     "metadata": {},
     "output_type": "execute_result"
    }
   ],
   "source": [
    "df[(df['QT_DESKTOP_ALUNO'] > 0) & (df['QT_DESKTOP_ALUNO'] < 88888)].shape"
   ]
  },
  {
   "cell_type": "code",
   "execution_count": 193,
   "metadata": {},
   "outputs": [
    {
     "data": {
      "text/plain": [
       "51333     1485.0\n",
       "151778    1400.0\n",
       "123234    1246.0\n",
       "62491     1155.0\n",
       "177807     900.0\n",
       "           ...  \n",
       "149393       1.0\n",
       "105321       1.0\n",
       "105326       1.0\n",
       "23562        1.0\n",
       "70966        1.0\n",
       "Name: QT_DESKTOP_ALUNO, Length: 83906, dtype: float64"
      ]
     },
     "execution_count": 193,
     "metadata": {},
     "output_type": "execute_result"
    }
   ],
   "source": [
    "df[(df['QT_DESKTOP_ALUNO'] > 0) & (df['QT_DESKTOP_ALUNO'] < 88888)]['QT_DESKTOP_ALUNO'].sort_values(ascending = False)"
   ]
  },
  {
   "cell_type": "code",
   "execution_count": 194,
   "metadata": {},
   "outputs": [
    {
     "data": {
      "text/html": [
       "<div>\n",
       "<style scoped>\n",
       "    .dataframe tbody tr th:only-of-type {\n",
       "        vertical-align: middle;\n",
       "    }\n",
       "\n",
       "    .dataframe tbody tr th {\n",
       "        vertical-align: top;\n",
       "    }\n",
       "\n",
       "    .dataframe thead th {\n",
       "        text-align: right;\n",
       "    }\n",
       "</style>\n",
       "<table border=\"1\" class=\"dataframe\">\n",
       "  <thead>\n",
       "    <tr style=\"text-align: right;\">\n",
       "      <th></th>\n",
       "      <th>NO_ENTIDADE</th>\n",
       "      <th>QT_DESKTOP_ALUNO</th>\n",
       "      <th>QT_DESKTOP_TESTE</th>\n",
       "      <th>QT_MAT_BAS</th>\n",
       "    </tr>\n",
       "  </thead>\n",
       "  <tbody>\n",
       "    <tr>\n",
       "      <th>125106</th>\n",
       "      <td>ESCOLA SENAI OSCAR LUCIO BALDAN</td>\n",
       "      <td>163.0</td>\n",
       "      <td>20.38</td>\n",
       "      <td>24.0</td>\n",
       "    </tr>\n",
       "    <tr>\n",
       "      <th>171381</th>\n",
       "      <td>SENAI CUIABA</td>\n",
       "      <td>600.0</td>\n",
       "      <td>15.38</td>\n",
       "      <td>117.0</td>\n",
       "    </tr>\n",
       "    <tr>\n",
       "      <th>125107</th>\n",
       "      <td>EDWARD SAVIO CENTRO DE TREINAMENTO SENAI</td>\n",
       "      <td>233.0</td>\n",
       "      <td>14.56</td>\n",
       "      <td>48.0</td>\n",
       "    </tr>\n",
       "    <tr>\n",
       "      <th>65769</th>\n",
       "      <td>SENAI - CENTRO DE EDUC E TEC INTEG DA CONST CI...</td>\n",
       "      <td>90.0</td>\n",
       "      <td>11.74</td>\n",
       "      <td>23.0</td>\n",
       "    </tr>\n",
       "    <tr>\n",
       "      <th>125071</th>\n",
       "      <td>ANTONIO DEVISATE ESCOLA SENAI</td>\n",
       "      <td>194.0</td>\n",
       "      <td>10.58</td>\n",
       "      <td>55.0</td>\n",
       "    </tr>\n",
       "    <tr>\n",
       "      <th>20388</th>\n",
       "      <td>CENTRO CULTURAL FRANCO AMAPAENSE</td>\n",
       "      <td>10.0</td>\n",
       "      <td>10.00</td>\n",
       "      <td>3.0</td>\n",
       "    </tr>\n",
       "    <tr>\n",
       "      <th>125095</th>\n",
       "      <td>LUIS EULALIO DE BUENO VIDIGAL FILHO ESCOLA SENAI</td>\n",
       "      <td>222.0</td>\n",
       "      <td>7.57</td>\n",
       "      <td>88.0</td>\n",
       "    </tr>\n",
       "    <tr>\n",
       "      <th>172453</th>\n",
       "      <td>ASSOCIACAO DE PAIS E AMIGOS DOS EXCEPCIONAIS -...</td>\n",
       "      <td>5.0</td>\n",
       "      <td>7.50</td>\n",
       "      <td>2.0</td>\n",
       "    </tr>\n",
       "    <tr>\n",
       "      <th>125058</th>\n",
       "      <td>ESCOLA SENAI JAIRO CANDIDO</td>\n",
       "      <td>300.0</td>\n",
       "      <td>7.50</td>\n",
       "      <td>120.0</td>\n",
       "    </tr>\n",
       "    <tr>\n",
       "      <th>125110</th>\n",
       "      <td>ESCOLA SENAI ETTORE ZANINI</td>\n",
       "      <td>291.0</td>\n",
       "      <td>6.61</td>\n",
       "      <td>132.0</td>\n",
       "    </tr>\n",
       "    <tr>\n",
       "      <th>116336</th>\n",
       "      <td>ESCOLA SENAI DE REGISTRO</td>\n",
       "      <td>68.0</td>\n",
       "      <td>5.83</td>\n",
       "      <td>35.0</td>\n",
       "    </tr>\n",
       "    <tr>\n",
       "      <th>112772</th>\n",
       "      <td>ESCOLA SENAI EUCLIDES FACCHIN</td>\n",
       "      <td>164.0</td>\n",
       "      <td>5.23</td>\n",
       "      <td>94.0</td>\n",
       "    </tr>\n",
       "    <tr>\n",
       "      <th>143412</th>\n",
       "      <td>CHICO XAVIER E EF</td>\n",
       "      <td>19.0</td>\n",
       "      <td>5.18</td>\n",
       "      <td>11.0</td>\n",
       "    </tr>\n",
       "    <tr>\n",
       "      <th>125090</th>\n",
       "      <td>NAMI JAFET ESCOLA SENAI</td>\n",
       "      <td>250.0</td>\n",
       "      <td>4.93</td>\n",
       "      <td>152.0</td>\n",
       "    </tr>\n",
       "    <tr>\n",
       "      <th>125118</th>\n",
       "      <td>ESCOLA SENAI DE CRUZEIRO</td>\n",
       "      <td>148.0</td>\n",
       "      <td>4.93</td>\n",
       "      <td>90.0</td>\n",
       "    </tr>\n",
       "    <tr>\n",
       "      <th>133537</th>\n",
       "      <td>RACHEL RAMAZINI MARIOTONI CENTRO MUN DE APOIO ...</td>\n",
       "      <td>13.0</td>\n",
       "      <td>4.88</td>\n",
       "      <td>8.0</td>\n",
       "    </tr>\n",
       "    <tr>\n",
       "      <th>125078</th>\n",
       "      <td>JOAO BAPTISTA SALLES DA SILVA PROF ESCOLA SENAI</td>\n",
       "      <td>198.0</td>\n",
       "      <td>4.79</td>\n",
       "      <td>124.0</td>\n",
       "    </tr>\n",
       "    <tr>\n",
       "      <th>125070</th>\n",
       "      <td>JOAO MARTINS COUBE ESCOLA SENAI</td>\n",
       "      <td>174.0</td>\n",
       "      <td>4.70</td>\n",
       "      <td>111.0</td>\n",
       "    </tr>\n",
       "    <tr>\n",
       "      <th>125060</th>\n",
       "      <td>ESCOLA SENAI DE BRAGANCA PAULISTA</td>\n",
       "      <td>193.0</td>\n",
       "      <td>4.60</td>\n",
       "      <td>126.0</td>\n",
       "    </tr>\n",
       "    <tr>\n",
       "      <th>125064</th>\n",
       "      <td>ESCOLA SENAI ALFRIED KRUPP</td>\n",
       "      <td>203.0</td>\n",
       "      <td>4.58</td>\n",
       "      <td>133.0</td>\n",
       "    </tr>\n",
       "    <tr>\n",
       "      <th>138007</th>\n",
       "      <td>ADIBE SAYAR DAHER ESCOLA MUNICIPAL DE EDUCACAO...</td>\n",
       "      <td>6.0</td>\n",
       "      <td>4.50</td>\n",
       "      <td>4.0</td>\n",
       "    </tr>\n",
       "    <tr>\n",
       "      <th>125061</th>\n",
       "      <td>ESCOLA SENAI IVAN FABIO ZURITA</td>\n",
       "      <td>197.0</td>\n",
       "      <td>4.22</td>\n",
       "      <td>140.0</td>\n",
       "    </tr>\n",
       "    <tr>\n",
       "      <th>125089</th>\n",
       "      <td>VICENTE AMATO PROFESSOR ESCOLA SENAI</td>\n",
       "      <td>278.0</td>\n",
       "      <td>4.21</td>\n",
       "      <td>198.0</td>\n",
       "    </tr>\n",
       "    <tr>\n",
       "      <th>125068</th>\n",
       "      <td>OCTAVIO MARCONDES FERRAZ ENGENHEIRO ESCOLA SENAI</td>\n",
       "      <td>255.0</td>\n",
       "      <td>4.07</td>\n",
       "      <td>188.0</td>\n",
       "    </tr>\n",
       "  </tbody>\n",
       "</table>\n",
       "</div>"
      ],
      "text/plain": [
       "                                              NO_ENTIDADE  QT_DESKTOP_ALUNO  \\\n",
       "125106                    ESCOLA SENAI OSCAR LUCIO BALDAN             163.0   \n",
       "171381                                       SENAI CUIABA             600.0   \n",
       "125107           EDWARD SAVIO CENTRO DE TREINAMENTO SENAI             233.0   \n",
       "65769   SENAI - CENTRO DE EDUC E TEC INTEG DA CONST CI...              90.0   \n",
       "125071                      ANTONIO DEVISATE ESCOLA SENAI             194.0   \n",
       "20388                    CENTRO CULTURAL FRANCO AMAPAENSE              10.0   \n",
       "125095   LUIS EULALIO DE BUENO VIDIGAL FILHO ESCOLA SENAI             222.0   \n",
       "172453  ASSOCIACAO DE PAIS E AMIGOS DOS EXCEPCIONAIS -...               5.0   \n",
       "125058                         ESCOLA SENAI JAIRO CANDIDO             300.0   \n",
       "125110                         ESCOLA SENAI ETTORE ZANINI             291.0   \n",
       "116336                           ESCOLA SENAI DE REGISTRO              68.0   \n",
       "112772                      ESCOLA SENAI EUCLIDES FACCHIN             164.0   \n",
       "143412                                  CHICO XAVIER E EF              19.0   \n",
       "125090                            NAMI JAFET ESCOLA SENAI             250.0   \n",
       "125118                           ESCOLA SENAI DE CRUZEIRO             148.0   \n",
       "133537  RACHEL RAMAZINI MARIOTONI CENTRO MUN DE APOIO ...              13.0   \n",
       "125078    JOAO BAPTISTA SALLES DA SILVA PROF ESCOLA SENAI             198.0   \n",
       "125070                    JOAO MARTINS COUBE ESCOLA SENAI             174.0   \n",
       "125060                  ESCOLA SENAI DE BRAGANCA PAULISTA             193.0   \n",
       "125064                         ESCOLA SENAI ALFRIED KRUPP             203.0   \n",
       "138007  ADIBE SAYAR DAHER ESCOLA MUNICIPAL DE EDUCACAO...               6.0   \n",
       "125061                     ESCOLA SENAI IVAN FABIO ZURITA             197.0   \n",
       "125089               VICENTE AMATO PROFESSOR ESCOLA SENAI             278.0   \n",
       "125068   OCTAVIO MARCONDES FERRAZ ENGENHEIRO ESCOLA SENAI             255.0   \n",
       "\n",
       "        QT_DESKTOP_TESTE  QT_MAT_BAS  \n",
       "125106             20.38        24.0  \n",
       "171381             15.38       117.0  \n",
       "125107             14.56        48.0  \n",
       "65769              11.74        23.0  \n",
       "125071             10.58        55.0  \n",
       "20388              10.00         3.0  \n",
       "125095              7.57        88.0  \n",
       "172453              7.50         2.0  \n",
       "125058              7.50       120.0  \n",
       "125110              6.61       132.0  \n",
       "116336              5.83        35.0  \n",
       "112772              5.23        94.0  \n",
       "143412              5.18        11.0  \n",
       "125090              4.93       152.0  \n",
       "125118              4.93        90.0  \n",
       "133537              4.88         8.0  \n",
       "125078              4.79       124.0  \n",
       "125070              4.70       111.0  \n",
       "125060              4.60       126.0  \n",
       "125064              4.58       133.0  \n",
       "138007              4.50         4.0  \n",
       "125061              4.22       140.0  \n",
       "125089              4.21       198.0  \n",
       "125068              4.07       188.0  "
      ]
     },
     "execution_count": 194,
     "metadata": {},
     "output_type": "execute_result"
    }
   ],
   "source": [
    "df['QT_DESKTOP_TESTE'] = round(df['QT_DESKTOP_ALUNO'] / (df['QT_MAT_BAS'] / 3), 2)\n",
    "df[\n",
    "    (df['QT_DESKTOP_ALUNO'] > 3) & \n",
    "    (df['QT_DESKTOP_ALUNO'] > df['QT_MAT_BAS'] / 3 * 4) & \n",
    "    (df['QT_DESKTOP_ALUNO'] < 88888)\n",
    "][['NO_ENTIDADE', 'QT_DESKTOP_ALUNO', 'QT_DESKTOP_TESTE', 'QT_MAT_BAS']].sort_values('QT_DESKTOP_TESTE', ascending = False)"
   ]
  },
  {
   "cell_type": "code",
   "execution_count": 195,
   "metadata": {},
   "outputs": [
    {
     "data": {
      "text/plain": [
       "['QT_MAT_INF',\n",
       " 'QT_MAT_INF_CRE',\n",
       " 'QT_MAT_INF_PRE',\n",
       " 'QT_MAT_FUND',\n",
       " 'QT_MAT_FUND_AI',\n",
       " 'QT_MAT_FUND_AI_1',\n",
       " 'QT_MAT_FUND_AI_2',\n",
       " 'QT_MAT_FUND_AI_3',\n",
       " 'QT_MAT_FUND_AI_4',\n",
       " 'QT_MAT_FUND_AI_5',\n",
       " 'QT_MAT_FUND_AF',\n",
       " 'QT_MAT_FUND_AF_6',\n",
       " 'QT_MAT_FUND_AF_7',\n",
       " 'QT_MAT_FUND_AF_8',\n",
       " 'QT_MAT_FUND_AF_9',\n",
       " 'QT_MAT_MED',\n",
       " 'QT_MAT_MED_PROP',\n",
       " 'QT_MAT_MED_PROP_1',\n",
       " 'QT_MAT_MED_PROP_2',\n",
       " 'QT_MAT_MED_PROP_3',\n",
       " 'QT_MAT_MED_PROP_4',\n",
       " 'QT_MAT_MED_PROP_NS',\n",
       " 'QT_MAT_MED_CT',\n",
       " 'QT_MAT_MED_CT_1',\n",
       " 'QT_MAT_MED_CT_2',\n",
       " 'QT_MAT_MED_CT_3',\n",
       " 'QT_MAT_MED_CT_4',\n",
       " 'QT_MAT_MED_CT_NS',\n",
       " 'QT_MAT_MED_NM',\n",
       " 'QT_MAT_MED_NM_1',\n",
       " 'QT_MAT_MED_NM_2',\n",
       " 'QT_MAT_MED_NM_3',\n",
       " 'QT_MAT_MED_NM_4',\n",
       " 'QT_MAT_PROF',\n",
       " 'QT_MAT_PROF_TEC',\n",
       " 'QT_MAT_PROF_TEC_CONC',\n",
       " 'QT_MAT_PROF_TEC_SUBS',\n",
       " 'QT_MAT_PROF_FIC_CONC',\n",
       " 'QT_MAT_EJA',\n",
       " 'QT_MAT_EJA_FUND',\n",
       " 'QT_MAT_EJA_FUND_AI',\n",
       " 'QT_MAT_EJA_FUND_AF',\n",
       " 'QT_MAT_EJA_FUND_FIC',\n",
       " 'QT_MAT_EJA_MED',\n",
       " 'QT_MAT_EJA_MED_NPROF',\n",
       " 'QT_MAT_EJA_MED_FIC',\n",
       " 'QT_MAT_EJA_MED_TEC',\n",
       " 'IN_BIBLIOTECA_SALA_LEITURA',\n",
       " 'QT_SALAS_UTILIZADAS_DENTRO',\n",
       " 'QT_DESKTOP_TESTE']"
      ]
     },
     "execution_count": 195,
     "metadata": {},
     "output_type": "execute_result"
    }
   ],
   "source": [
    "cols_remover += ['QT_DESKTOP_TESTE']\n",
    "cols_remover"
   ]
  },
  {
   "cell_type": "markdown",
   "metadata": {},
   "source": [
    "#### QT_COMP_PORTATIL_ALUNO -> 11 Valores estranhos"
   ]
  },
  {
   "cell_type": "markdown",
   "metadata": {},
   "source": [
    "88888 - registro com marcação de valor extremo (valor superior ao limite máximo de 4 equipamentos para cada 3 matrículas - foram marcados apenas valores>3)"
   ]
  },
  {
   "cell_type": "code",
   "execution_count": 196,
   "metadata": {},
   "outputs": [
    {
     "name": "stdout",
     "output_type": "stream",
     "text": [
      "\n",
      "Quantidade de valores ausentes\n"
     ]
    },
    {
     "data": {
      "text/plain": [
       "QT_COMP_PORTATIL_ALUNO\n",
       "False    178476\n",
       "Name: count, dtype: int64"
      ]
     },
     "metadata": {},
     "output_type": "display_data"
    }
   ],
   "source": [
    "basic_exploration(df, 'QT_COMP_PORTATIL_ALUNO', 'numeric')"
   ]
  },
  {
   "cell_type": "code",
   "execution_count": 197,
   "metadata": {},
   "outputs": [
    {
     "data": {
      "text/plain": [
       "(106796, 175)"
      ]
     },
     "execution_count": 197,
     "metadata": {},
     "output_type": "execute_result"
    }
   ],
   "source": [
    "df[df['QT_COMP_PORTATIL_ALUNO'] == 0].shape"
   ]
  },
  {
   "cell_type": "code",
   "execution_count": 198,
   "metadata": {},
   "outputs": [
    {
     "data": {
      "text/plain": [
       "(64, 175)"
      ]
     },
     "execution_count": 198,
     "metadata": {},
     "output_type": "execute_result"
    }
   ],
   "source": [
    "df[df['QT_COMP_PORTATIL_ALUNO'] == 88888].shape"
   ]
  },
  {
   "cell_type": "code",
   "execution_count": 199,
   "metadata": {},
   "outputs": [
    {
     "data": {
      "text/plain": [
       "(71616, 175)"
      ]
     },
     "execution_count": 199,
     "metadata": {},
     "output_type": "execute_result"
    }
   ],
   "source": [
    "df[(df['QT_COMP_PORTATIL_ALUNO'] > 0) & (df['QT_COMP_PORTATIL_ALUNO'] < 88888)].shape"
   ]
  },
  {
   "cell_type": "code",
   "execution_count": 200,
   "metadata": {},
   "outputs": [
    {
     "data": {
      "text/plain": [
       "123049    1500.0\n",
       "124713    1399.0\n",
       "113745    1200.0\n",
       "135824    1000.0\n",
       "96564      938.0\n",
       "           ...  \n",
       "52076        1.0\n",
       "124813       1.0\n",
       "124806       1.0\n",
       "124804       1.0\n",
       "178474       1.0\n",
       "Name: QT_COMP_PORTATIL_ALUNO, Length: 71616, dtype: float64"
      ]
     },
     "execution_count": 200,
     "metadata": {},
     "output_type": "execute_result"
    }
   ],
   "source": [
    "df[(df['QT_COMP_PORTATIL_ALUNO'] > 0) & (df['QT_COMP_PORTATIL_ALUNO'] < 88888)]['QT_COMP_PORTATIL_ALUNO'].sort_values(ascending = False)"
   ]
  },
  {
   "cell_type": "code",
   "execution_count": 201,
   "metadata": {},
   "outputs": [
    {
     "data": {
      "text/html": [
       "<div>\n",
       "<style scoped>\n",
       "    .dataframe tbody tr th:only-of-type {\n",
       "        vertical-align: middle;\n",
       "    }\n",
       "\n",
       "    .dataframe tbody tr th {\n",
       "        vertical-align: top;\n",
       "    }\n",
       "\n",
       "    .dataframe thead th {\n",
       "        text-align: right;\n",
       "    }\n",
       "</style>\n",
       "<table border=\"1\" class=\"dataframe\">\n",
       "  <thead>\n",
       "    <tr style=\"text-align: right;\">\n",
       "      <th></th>\n",
       "      <th>NO_ENTIDADE</th>\n",
       "      <th>QT_COMP_PORTATIL_ALUNO</th>\n",
       "      <th>QT_COMP_PORTATIL_TESTE</th>\n",
       "      <th>QT_MAT_BAS</th>\n",
       "    </tr>\n",
       "  </thead>\n",
       "  <tbody>\n",
       "    <tr>\n",
       "      <th>125071</th>\n",
       "      <td>ANTONIO DEVISATE ESCOLA SENAI</td>\n",
       "      <td>130.0</td>\n",
       "      <td>7.09</td>\n",
       "      <td>55.0</td>\n",
       "    </tr>\n",
       "    <tr>\n",
       "      <th>136228</th>\n",
       "      <td>ESCOLA SENAI DE OURINHOS</td>\n",
       "      <td>80.0</td>\n",
       "      <td>5.45</td>\n",
       "      <td>44.0</td>\n",
       "    </tr>\n",
       "    <tr>\n",
       "      <th>116336</th>\n",
       "      <td>ESCOLA SENAI DE REGISTRO</td>\n",
       "      <td>63.0</td>\n",
       "      <td>5.40</td>\n",
       "      <td>35.0</td>\n",
       "    </tr>\n",
       "    <tr>\n",
       "      <th>143807</th>\n",
       "      <td>MARIA APARECIDA P BATISTA E E C EF</td>\n",
       "      <td>23.0</td>\n",
       "      <td>5.31</td>\n",
       "      <td>13.0</td>\n",
       "    </tr>\n",
       "    <tr>\n",
       "      <th>37514</th>\n",
       "      <td>CENTRO EDUCACIONAL SESC LER PIRIPIRI</td>\n",
       "      <td>34.0</td>\n",
       "      <td>4.43</td>\n",
       "      <td>23.0</td>\n",
       "    </tr>\n",
       "    <tr>\n",
       "      <th>143692</th>\n",
       "      <td>ALBINO O DE PROENCA E E DO C EF</td>\n",
       "      <td>20.0</td>\n",
       "      <td>4.29</td>\n",
       "      <td>14.0</td>\n",
       "    </tr>\n",
       "    <tr>\n",
       "      <th>164285</th>\n",
       "      <td>ESC EST ENS FUN BAIRRO CARVALHO</td>\n",
       "      <td>165.0</td>\n",
       "      <td>4.27</td>\n",
       "      <td>116.0</td>\n",
       "    </tr>\n",
       "    <tr>\n",
       "      <th>166613</th>\n",
       "      <td>ESC MUN DE ENS FUND ESPECIAL ROBERTO LEOPOLDO ...</td>\n",
       "      <td>7.0</td>\n",
       "      <td>4.20</td>\n",
       "      <td>5.0</td>\n",
       "    </tr>\n",
       "    <tr>\n",
       "      <th>161034</th>\n",
       "      <td>ESC MUN ENS FUN OLAVO BILAC</td>\n",
       "      <td>36.0</td>\n",
       "      <td>4.15</td>\n",
       "      <td>26.0</td>\n",
       "    </tr>\n",
       "    <tr>\n",
       "      <th>121874</th>\n",
       "      <td>EMEFEI PADRE AVELINO CANAZZA</td>\n",
       "      <td>179.0</td>\n",
       "      <td>4.10</td>\n",
       "      <td>131.0</td>\n",
       "    </tr>\n",
       "  </tbody>\n",
       "</table>\n",
       "</div>"
      ],
      "text/plain": [
       "                                              NO_ENTIDADE  \\\n",
       "125071                      ANTONIO DEVISATE ESCOLA SENAI   \n",
       "136228                           ESCOLA SENAI DE OURINHOS   \n",
       "116336                           ESCOLA SENAI DE REGISTRO   \n",
       "143807                 MARIA APARECIDA P BATISTA E E C EF   \n",
       "37514                CENTRO EDUCACIONAL SESC LER PIRIPIRI   \n",
       "143692                    ALBINO O DE PROENCA E E DO C EF   \n",
       "164285                    ESC EST ENS FUN BAIRRO CARVALHO   \n",
       "166613  ESC MUN DE ENS FUND ESPECIAL ROBERTO LEOPOLDO ...   \n",
       "161034                        ESC MUN ENS FUN OLAVO BILAC   \n",
       "121874                       EMEFEI PADRE AVELINO CANAZZA   \n",
       "\n",
       "        QT_COMP_PORTATIL_ALUNO  QT_COMP_PORTATIL_TESTE  QT_MAT_BAS  \n",
       "125071                   130.0                    7.09        55.0  \n",
       "136228                    80.0                    5.45        44.0  \n",
       "116336                    63.0                    5.40        35.0  \n",
       "143807                    23.0                    5.31        13.0  \n",
       "37514                     34.0                    4.43        23.0  \n",
       "143692                    20.0                    4.29        14.0  \n",
       "164285                   165.0                    4.27       116.0  \n",
       "166613                     7.0                    4.20         5.0  \n",
       "161034                    36.0                    4.15        26.0  \n",
       "121874                   179.0                    4.10       131.0  "
      ]
     },
     "execution_count": 201,
     "metadata": {},
     "output_type": "execute_result"
    }
   ],
   "source": [
    "df['QT_COMP_PORTATIL_TESTE'] = round(df['QT_COMP_PORTATIL_ALUNO'] / (df['QT_MAT_BAS'] / 3), 2)\n",
    "df[\n",
    "    (df['QT_COMP_PORTATIL_ALUNO'] > 3) & \n",
    "    (df['QT_COMP_PORTATIL_ALUNO'] > df['QT_MAT_BAS'] / 3 * 4) & \n",
    "    (df['QT_COMP_PORTATIL_ALUNO'] < 88888)\n",
    "][['NO_ENTIDADE', 'QT_COMP_PORTATIL_ALUNO', 'QT_COMP_PORTATIL_TESTE', 'QT_MAT_BAS']].sort_values('QT_COMP_PORTATIL_TESTE', ascending = False)"
   ]
  },
  {
   "cell_type": "code",
   "execution_count": 202,
   "metadata": {},
   "outputs": [
    {
     "data": {
      "text/plain": [
       "['QT_MAT_INF',\n",
       " 'QT_MAT_INF_CRE',\n",
       " 'QT_MAT_INF_PRE',\n",
       " 'QT_MAT_FUND',\n",
       " 'QT_MAT_FUND_AI',\n",
       " 'QT_MAT_FUND_AI_1',\n",
       " 'QT_MAT_FUND_AI_2',\n",
       " 'QT_MAT_FUND_AI_3',\n",
       " 'QT_MAT_FUND_AI_4',\n",
       " 'QT_MAT_FUND_AI_5',\n",
       " 'QT_MAT_FUND_AF',\n",
       " 'QT_MAT_FUND_AF_6',\n",
       " 'QT_MAT_FUND_AF_7',\n",
       " 'QT_MAT_FUND_AF_8',\n",
       " 'QT_MAT_FUND_AF_9',\n",
       " 'QT_MAT_MED',\n",
       " 'QT_MAT_MED_PROP',\n",
       " 'QT_MAT_MED_PROP_1',\n",
       " 'QT_MAT_MED_PROP_2',\n",
       " 'QT_MAT_MED_PROP_3',\n",
       " 'QT_MAT_MED_PROP_4',\n",
       " 'QT_MAT_MED_PROP_NS',\n",
       " 'QT_MAT_MED_CT',\n",
       " 'QT_MAT_MED_CT_1',\n",
       " 'QT_MAT_MED_CT_2',\n",
       " 'QT_MAT_MED_CT_3',\n",
       " 'QT_MAT_MED_CT_4',\n",
       " 'QT_MAT_MED_CT_NS',\n",
       " 'QT_MAT_MED_NM',\n",
       " 'QT_MAT_MED_NM_1',\n",
       " 'QT_MAT_MED_NM_2',\n",
       " 'QT_MAT_MED_NM_3',\n",
       " 'QT_MAT_MED_NM_4',\n",
       " 'QT_MAT_PROF',\n",
       " 'QT_MAT_PROF_TEC',\n",
       " 'QT_MAT_PROF_TEC_CONC',\n",
       " 'QT_MAT_PROF_TEC_SUBS',\n",
       " 'QT_MAT_PROF_FIC_CONC',\n",
       " 'QT_MAT_EJA',\n",
       " 'QT_MAT_EJA_FUND',\n",
       " 'QT_MAT_EJA_FUND_AI',\n",
       " 'QT_MAT_EJA_FUND_AF',\n",
       " 'QT_MAT_EJA_FUND_FIC',\n",
       " 'QT_MAT_EJA_MED',\n",
       " 'QT_MAT_EJA_MED_NPROF',\n",
       " 'QT_MAT_EJA_MED_FIC',\n",
       " 'QT_MAT_EJA_MED_TEC',\n",
       " 'IN_BIBLIOTECA_SALA_LEITURA',\n",
       " 'QT_SALAS_UTILIZADAS_DENTRO',\n",
       " 'QT_DESKTOP_TESTE',\n",
       " 'QT_COMP_PORTATIL_TESTE']"
      ]
     },
     "execution_count": 202,
     "metadata": {},
     "output_type": "execute_result"
    }
   ],
   "source": [
    "cols_remover += ['QT_COMP_PORTATIL_TESTE']\n",
    "cols_remover"
   ]
  },
  {
   "cell_type": "markdown",
   "metadata": {},
   "source": [
    "#### QT_TABLET_ALUNO -> 9 Valores estranhos"
   ]
  },
  {
   "cell_type": "markdown",
   "metadata": {},
   "source": [
    "88888 - registro com marcação de valor extremo (valor superior ao limite máximo de 4 equipamentos para cada 3 matrículas - foram marcados apenas valores>3)"
   ]
  },
  {
   "cell_type": "code",
   "execution_count": 203,
   "metadata": {},
   "outputs": [
    {
     "name": "stdout",
     "output_type": "stream",
     "text": [
      "\n",
      "Quantidade de valores ausentes\n"
     ]
    },
    {
     "data": {
      "text/plain": [
       "QT_TABLET_ALUNO\n",
       "False    178476\n",
       "Name: count, dtype: int64"
      ]
     },
     "metadata": {},
     "output_type": "display_data"
    }
   ],
   "source": [
    "basic_exploration(df, 'QT_TABLET_ALUNO', 'numeric')"
   ]
  },
  {
   "cell_type": "code",
   "execution_count": 204,
   "metadata": {},
   "outputs": [
    {
     "data": {
      "text/plain": [
       "(147790, 176)"
      ]
     },
     "execution_count": 204,
     "metadata": {},
     "output_type": "execute_result"
    }
   ],
   "source": [
    "df[df['QT_TABLET_ALUNO'] == 0].shape"
   ]
  },
  {
   "cell_type": "code",
   "execution_count": 205,
   "metadata": {},
   "outputs": [
    {
     "data": {
      "text/plain": [
       "(68, 176)"
      ]
     },
     "execution_count": 205,
     "metadata": {},
     "output_type": "execute_result"
    }
   ],
   "source": [
    "df[df['QT_TABLET_ALUNO'] == 88888].shape"
   ]
  },
  {
   "cell_type": "code",
   "execution_count": 206,
   "metadata": {},
   "outputs": [
    {
     "data": {
      "text/plain": [
       "(30618, 176)"
      ]
     },
     "execution_count": 206,
     "metadata": {},
     "output_type": "execute_result"
    }
   ],
   "source": [
    "df[(df['QT_TABLET_ALUNO'] > 0) & (df['QT_TABLET_ALUNO'] < 88888)].shape"
   ]
  },
  {
   "cell_type": "code",
   "execution_count": 207,
   "metadata": {},
   "outputs": [
    {
     "data": {
      "text/plain": [
       "110415    2038.0\n",
       "8225      1815.0\n",
       "52638     1367.0\n",
       "89766     1345.0\n",
       "58121     1300.0\n",
       "           ...  \n",
       "107072       1.0\n",
       "107079       1.0\n",
       "107085       1.0\n",
       "107086       1.0\n",
       "178474       1.0\n",
       "Name: QT_TABLET_ALUNO, Length: 30618, dtype: float64"
      ]
     },
     "execution_count": 207,
     "metadata": {},
     "output_type": "execute_result"
    }
   ],
   "source": [
    "df[(df['QT_TABLET_ALUNO'] > 0) & (df['QT_TABLET_ALUNO'] < 88888)]['QT_TABLET_ALUNO'].sort_values(ascending = False)"
   ]
  },
  {
   "cell_type": "code",
   "execution_count": 208,
   "metadata": {},
   "outputs": [
    {
     "data": {
      "text/html": [
       "<div>\n",
       "<style scoped>\n",
       "    .dataframe tbody tr th:only-of-type {\n",
       "        vertical-align: middle;\n",
       "    }\n",
       "\n",
       "    .dataframe tbody tr th {\n",
       "        vertical-align: top;\n",
       "    }\n",
       "\n",
       "    .dataframe thead th {\n",
       "        text-align: right;\n",
       "    }\n",
       "</style>\n",
       "<table border=\"1\" class=\"dataframe\">\n",
       "  <thead>\n",
       "    <tr style=\"text-align: right;\">\n",
       "      <th></th>\n",
       "      <th>NO_ENTIDADE</th>\n",
       "      <th>QT_TABLET_ALUNO</th>\n",
       "      <th>QT_TABLET_TESTE</th>\n",
       "      <th>QT_MAT_BAS</th>\n",
       "    </tr>\n",
       "  </thead>\n",
       "  <tbody>\n",
       "    <tr>\n",
       "      <th>111055</th>\n",
       "      <td>IFF- CAMPUS ITABORAI</td>\n",
       "      <td>10.0</td>\n",
       "      <td>10.00</td>\n",
       "      <td>3.0</td>\n",
       "    </tr>\n",
       "    <tr>\n",
       "      <th>64283</th>\n",
       "      <td>ESCOLA MUNICIPAL PROFESSOR PEDRO ALCANTARA DE ...</td>\n",
       "      <td>39.0</td>\n",
       "      <td>5.57</td>\n",
       "      <td>21.0</td>\n",
       "    </tr>\n",
       "    <tr>\n",
       "      <th>107705</th>\n",
       "      <td>E M DE EDUCACAO DE SURDOS</td>\n",
       "      <td>36.0</td>\n",
       "      <td>5.40</td>\n",
       "      <td>20.0</td>\n",
       "    </tr>\n",
       "    <tr>\n",
       "      <th>113404</th>\n",
       "      <td>MARIO MANCHINI NUCLEO DE EDUCACAO INFANTIL</td>\n",
       "      <td>35.0</td>\n",
       "      <td>5.25</td>\n",
       "      <td>20.0</td>\n",
       "    </tr>\n",
       "    <tr>\n",
       "      <th>88623</th>\n",
       "      <td>ESCOLA MUNICIPAL OSCAR BOTELHO</td>\n",
       "      <td>280.0</td>\n",
       "      <td>5.15</td>\n",
       "      <td>163.0</td>\n",
       "    </tr>\n",
       "    <tr>\n",
       "      <th>121602</th>\n",
       "      <td>JOVITA FRANCO AROUCHE PROFA EMESP</td>\n",
       "      <td>40.0</td>\n",
       "      <td>4.80</td>\n",
       "      <td>25.0</td>\n",
       "    </tr>\n",
       "    <tr>\n",
       "      <th>85347</th>\n",
       "      <td>E M FRANCISCO ATHAYDE</td>\n",
       "      <td>68.0</td>\n",
       "      <td>4.74</td>\n",
       "      <td>43.0</td>\n",
       "    </tr>\n",
       "    <tr>\n",
       "      <th>176284</th>\n",
       "      <td>ESCOLA MUNICIPAL JOSE CANDIDO BRAGA</td>\n",
       "      <td>56.0</td>\n",
       "      <td>4.20</td>\n",
       "      <td>40.0</td>\n",
       "    </tr>\n",
       "    <tr>\n",
       "      <th>82723</th>\n",
       "      <td>ESCOLA MUNICIPAL TEREZINHA DA SILVA COSENZA</td>\n",
       "      <td>382.0</td>\n",
       "      <td>4.05</td>\n",
       "      <td>283.0</td>\n",
       "    </tr>\n",
       "  </tbody>\n",
       "</table>\n",
       "</div>"
      ],
      "text/plain": [
       "                                              NO_ENTIDADE  QT_TABLET_ALUNO  \\\n",
       "111055                               IFF- CAMPUS ITABORAI             10.0   \n",
       "64283   ESCOLA MUNICIPAL PROFESSOR PEDRO ALCANTARA DE ...             39.0   \n",
       "107705                          E M DE EDUCACAO DE SURDOS             36.0   \n",
       "113404         MARIO MANCHINI NUCLEO DE EDUCACAO INFANTIL             35.0   \n",
       "88623                      ESCOLA MUNICIPAL OSCAR BOTELHO            280.0   \n",
       "121602                  JOVITA FRANCO AROUCHE PROFA EMESP             40.0   \n",
       "85347                               E M FRANCISCO ATHAYDE             68.0   \n",
       "176284                ESCOLA MUNICIPAL JOSE CANDIDO BRAGA             56.0   \n",
       "82723         ESCOLA MUNICIPAL TEREZINHA DA SILVA COSENZA            382.0   \n",
       "\n",
       "        QT_TABLET_TESTE  QT_MAT_BAS  \n",
       "111055            10.00         3.0  \n",
       "64283              5.57        21.0  \n",
       "107705             5.40        20.0  \n",
       "113404             5.25        20.0  \n",
       "88623              5.15       163.0  \n",
       "121602             4.80        25.0  \n",
       "85347              4.74        43.0  \n",
       "176284             4.20        40.0  \n",
       "82723              4.05       283.0  "
      ]
     },
     "execution_count": 208,
     "metadata": {},
     "output_type": "execute_result"
    }
   ],
   "source": [
    "df['QT_TABLET_TESTE'] = round(df['QT_TABLET_ALUNO'] / (df['QT_MAT_BAS'] / 3), 2)\n",
    "df[\n",
    "    (df['QT_TABLET_ALUNO'] > 3) & \n",
    "    (df['QT_TABLET_ALUNO'] > df['QT_MAT_BAS'] / 3 * 4) & \n",
    "    (df['QT_TABLET_ALUNO'] < 88888)\n",
    "][['NO_ENTIDADE', 'QT_TABLET_ALUNO', 'QT_TABLET_TESTE', 'QT_MAT_BAS']].sort_values('QT_TABLET_TESTE', ascending = False)"
   ]
  },
  {
   "cell_type": "code",
   "execution_count": 209,
   "metadata": {},
   "outputs": [
    {
     "data": {
      "text/plain": [
       "['QT_MAT_INF',\n",
       " 'QT_MAT_INF_CRE',\n",
       " 'QT_MAT_INF_PRE',\n",
       " 'QT_MAT_FUND',\n",
       " 'QT_MAT_FUND_AI',\n",
       " 'QT_MAT_FUND_AI_1',\n",
       " 'QT_MAT_FUND_AI_2',\n",
       " 'QT_MAT_FUND_AI_3',\n",
       " 'QT_MAT_FUND_AI_4',\n",
       " 'QT_MAT_FUND_AI_5',\n",
       " 'QT_MAT_FUND_AF',\n",
       " 'QT_MAT_FUND_AF_6',\n",
       " 'QT_MAT_FUND_AF_7',\n",
       " 'QT_MAT_FUND_AF_8',\n",
       " 'QT_MAT_FUND_AF_9',\n",
       " 'QT_MAT_MED',\n",
       " 'QT_MAT_MED_PROP',\n",
       " 'QT_MAT_MED_PROP_1',\n",
       " 'QT_MAT_MED_PROP_2',\n",
       " 'QT_MAT_MED_PROP_3',\n",
       " 'QT_MAT_MED_PROP_4',\n",
       " 'QT_MAT_MED_PROP_NS',\n",
       " 'QT_MAT_MED_CT',\n",
       " 'QT_MAT_MED_CT_1',\n",
       " 'QT_MAT_MED_CT_2',\n",
       " 'QT_MAT_MED_CT_3',\n",
       " 'QT_MAT_MED_CT_4',\n",
       " 'QT_MAT_MED_CT_NS',\n",
       " 'QT_MAT_MED_NM',\n",
       " 'QT_MAT_MED_NM_1',\n",
       " 'QT_MAT_MED_NM_2',\n",
       " 'QT_MAT_MED_NM_3',\n",
       " 'QT_MAT_MED_NM_4',\n",
       " 'QT_MAT_PROF',\n",
       " 'QT_MAT_PROF_TEC',\n",
       " 'QT_MAT_PROF_TEC_CONC',\n",
       " 'QT_MAT_PROF_TEC_SUBS',\n",
       " 'QT_MAT_PROF_FIC_CONC',\n",
       " 'QT_MAT_EJA',\n",
       " 'QT_MAT_EJA_FUND',\n",
       " 'QT_MAT_EJA_FUND_AI',\n",
       " 'QT_MAT_EJA_FUND_AF',\n",
       " 'QT_MAT_EJA_FUND_FIC',\n",
       " 'QT_MAT_EJA_MED',\n",
       " 'QT_MAT_EJA_MED_NPROF',\n",
       " 'QT_MAT_EJA_MED_FIC',\n",
       " 'QT_MAT_EJA_MED_TEC',\n",
       " 'IN_BIBLIOTECA_SALA_LEITURA',\n",
       " 'QT_SALAS_UTILIZADAS_DENTRO',\n",
       " 'QT_DESKTOP_TESTE',\n",
       " 'QT_COMP_PORTATIL_TESTE',\n",
       " 'QT_TABLET_TESTE']"
      ]
     },
     "execution_count": 209,
     "metadata": {},
     "output_type": "execute_result"
    }
   ],
   "source": [
    "cols_remover += ['QT_TABLET_TESTE']\n",
    "cols_remover"
   ]
  },
  {
   "cell_type": "markdown",
   "metadata": {},
   "source": [
    "### Internet"
   ]
  },
  {
   "cell_type": "markdown",
   "metadata": {},
   "source": [
    "#### IN_INTERNET"
   ]
  },
  {
   "cell_type": "markdown",
   "metadata": {},
   "source": [
    "- 1 - Sim\n",
    "- 0 - Não\n"
   ]
  },
  {
   "cell_type": "code",
   "execution_count": 210,
   "metadata": {},
   "outputs": [
    {
     "name": "stdout",
     "output_type": "stream",
     "text": [
      "\n",
      "Contagem de valores:\n"
     ]
    },
    {
     "data": {
      "text/plain": [
       "IN_INTERNET\n",
       "1.0    162189\n",
       "0.0     16287\n",
       "Name: count, dtype: int64"
      ]
     },
     "metadata": {},
     "output_type": "display_data"
    },
    {
     "name": "stdout",
     "output_type": "stream",
     "text": [
      "\n",
      "Quantidade de valores ausentes\n"
     ]
    },
    {
     "data": {
      "text/plain": [
       "IN_INTERNET\n",
       "False    178476\n",
       "Name: count, dtype: int64"
      ]
     },
     "metadata": {},
     "output_type": "display_data"
    }
   ],
   "source": [
    "basic_exploration(df, 'IN_INTERNET', 'binary')"
   ]
  },
  {
   "cell_type": "markdown",
   "metadata": {},
   "source": [
    "#### IN_INTERNET_ALUNOS"
   ]
  },
  {
   "cell_type": "markdown",
   "metadata": {},
   "source": [
    "- 1 - Sim\n",
    "- 0 - Não\n"
   ]
  },
  {
   "cell_type": "code",
   "execution_count": 211,
   "metadata": {},
   "outputs": [
    {
     "name": "stdout",
     "output_type": "stream",
     "text": [
      "\n",
      "Contagem de valores:\n"
     ]
    },
    {
     "data": {
      "text/plain": [
       "IN_INTERNET_ALUNOS\n",
       "0.0    106307\n",
       "1.0     72169\n",
       "Name: count, dtype: int64"
      ]
     },
     "metadata": {},
     "output_type": "display_data"
    },
    {
     "name": "stdout",
     "output_type": "stream",
     "text": [
      "\n",
      "Quantidade de valores ausentes\n"
     ]
    },
    {
     "data": {
      "text/plain": [
       "IN_INTERNET_ALUNOS\n",
       "False    178476\n",
       "Name: count, dtype: int64"
      ]
     },
     "metadata": {},
     "output_type": "display_data"
    }
   ],
   "source": [
    "basic_exploration(df, 'IN_INTERNET_ALUNOS', 'binary')"
   ]
  },
  {
   "cell_type": "markdown",
   "metadata": {},
   "source": [
    "#### IN_INTERNET_ADMINISTRATIVO"
   ]
  },
  {
   "cell_type": "markdown",
   "metadata": {},
   "source": [
    "- 1 - Sim\n",
    "- 0 - Não\n"
   ]
  },
  {
   "cell_type": "code",
   "execution_count": 212,
   "metadata": {},
   "outputs": [
    {
     "name": "stdout",
     "output_type": "stream",
     "text": [
      "\n",
      "Contagem de valores:\n"
     ]
    },
    {
     "data": {
      "text/plain": [
       "IN_INTERNET_ADMINISTRATIVO\n",
       "1.0    156730\n",
       "0.0     21746\n",
       "Name: count, dtype: int64"
      ]
     },
     "metadata": {},
     "output_type": "display_data"
    },
    {
     "name": "stdout",
     "output_type": "stream",
     "text": [
      "\n",
      "Quantidade de valores ausentes\n"
     ]
    },
    {
     "data": {
      "text/plain": [
       "IN_INTERNET_ADMINISTRATIVO\n",
       "False    178476\n",
       "Name: count, dtype: int64"
      ]
     },
     "metadata": {},
     "output_type": "display_data"
    }
   ],
   "source": [
    "basic_exploration(df, 'IN_INTERNET_ADMINISTRATIVO', 'binary')"
   ]
  },
  {
   "cell_type": "markdown",
   "metadata": {},
   "source": [
    "#### IN_INTERNET_APRENDIZAGEM"
   ]
  },
  {
   "cell_type": "markdown",
   "metadata": {},
   "source": [
    "- 1 - Sim\n",
    "- 0 - Não\n"
   ]
  },
  {
   "cell_type": "code",
   "execution_count": 213,
   "metadata": {},
   "outputs": [
    {
     "name": "stdout",
     "output_type": "stream",
     "text": [
      "\n",
      "Contagem de valores:\n"
     ]
    },
    {
     "data": {
      "text/plain": [
       "IN_INTERNET_APRENDIZAGEM\n",
       "1.0    112935\n",
       "0.0     65541\n",
       "Name: count, dtype: int64"
      ]
     },
     "metadata": {},
     "output_type": "display_data"
    },
    {
     "name": "stdout",
     "output_type": "stream",
     "text": [
      "\n",
      "Quantidade de valores ausentes\n"
     ]
    },
    {
     "data": {
      "text/plain": [
       "IN_INTERNET_APRENDIZAGEM\n",
       "False    178476\n",
       "Name: count, dtype: int64"
      ]
     },
     "metadata": {},
     "output_type": "display_data"
    }
   ],
   "source": [
    "basic_exploration(df, 'IN_INTERNET_APRENDIZAGEM', 'binary')"
   ]
  },
  {
   "cell_type": "markdown",
   "metadata": {},
   "source": [
    "#### IN_INTERNET_COMUNIDADE"
   ]
  },
  {
   "cell_type": "markdown",
   "metadata": {},
   "source": [
    "- 1 - Sim\n",
    "- 0 - Não\n"
   ]
  },
  {
   "cell_type": "code",
   "execution_count": 214,
   "metadata": {},
   "outputs": [
    {
     "name": "stdout",
     "output_type": "stream",
     "text": [
      "\n",
      "Contagem de valores:\n"
     ]
    },
    {
     "data": {
      "text/plain": [
       "IN_INTERNET_COMUNIDADE\n",
       "0.0    168749\n",
       "1.0      9727\n",
       "Name: count, dtype: int64"
      ]
     },
     "metadata": {},
     "output_type": "display_data"
    },
    {
     "name": "stdout",
     "output_type": "stream",
     "text": [
      "\n",
      "Quantidade de valores ausentes\n"
     ]
    },
    {
     "data": {
      "text/plain": [
       "IN_INTERNET_COMUNIDADE\n",
       "False    178476\n",
       "Name: count, dtype: int64"
      ]
     },
     "metadata": {},
     "output_type": "display_data"
    }
   ],
   "source": [
    "basic_exploration(df, 'IN_INTERNET_COMUNIDADE', 'binary')"
   ]
  },
  {
   "cell_type": "markdown",
   "metadata": {},
   "source": [
    "#### IN_ACESSO_INTERNET_COMPUTADOR"
   ]
  },
  {
   "cell_type": "markdown",
   "metadata": {},
   "source": [
    "- 0 - Não\n",
    "- 1 - Sim\n",
    "- 9 - Não informado"
   ]
  },
  {
   "cell_type": "code",
   "execution_count": 215,
   "metadata": {},
   "outputs": [
    {
     "name": "stdout",
     "output_type": "stream",
     "text": [
      "\n",
      "Contagem de valores:\n"
     ]
    },
    {
     "data": {
      "text/plain": [
       "IN_ACESSO_INTERNET_COMPUTADOR\n",
       "0.0    117495\n",
       "1.0     54736\n",
       "9.0      6245\n",
       "Name: count, dtype: int64"
      ]
     },
     "metadata": {},
     "output_type": "display_data"
    },
    {
     "name": "stdout",
     "output_type": "stream",
     "text": [
      "\n",
      "Quantidade de valores ausentes\n"
     ]
    },
    {
     "data": {
      "text/plain": [
       "IN_ACESSO_INTERNET_COMPUTADOR\n",
       "False    178476\n",
       "Name: count, dtype: int64"
      ]
     },
     "metadata": {},
     "output_type": "display_data"
    }
   ],
   "source": [
    "basic_exploration(df, 'IN_ACESSO_INTERNET_COMPUTADOR', 'binary')"
   ]
  },
  {
   "cell_type": "markdown",
   "metadata": {},
   "source": [
    "#### IN_ACES_INTERNET_DISP_PESSOAIS"
   ]
  },
  {
   "cell_type": "markdown",
   "metadata": {},
   "source": [
    "- 0 - Não\n",
    "- 1 - Sim\n",
    "- 9 - Não informado"
   ]
  },
  {
   "cell_type": "code",
   "execution_count": 216,
   "metadata": {},
   "outputs": [
    {
     "name": "stdout",
     "output_type": "stream",
     "text": [
      "\n",
      "Contagem de valores:\n"
     ]
    },
    {
     "data": {
      "text/plain": [
       "IN_ACES_INTERNET_DISP_PESSOAIS\n",
       "0.0    141427\n",
       "1.0     30804\n",
       "9.0      6245\n",
       "Name: count, dtype: int64"
      ]
     },
     "metadata": {},
     "output_type": "display_data"
    },
    {
     "name": "stdout",
     "output_type": "stream",
     "text": [
      "\n",
      "Quantidade de valores ausentes\n"
     ]
    },
    {
     "data": {
      "text/plain": [
       "IN_ACES_INTERNET_DISP_PESSOAIS\n",
       "False    178476\n",
       "Name: count, dtype: int64"
      ]
     },
     "metadata": {},
     "output_type": "display_data"
    }
   ],
   "source": [
    "basic_exploration(df, 'IN_ACES_INTERNET_DISP_PESSOAIS', 'binary')"
   ]
  },
  {
   "cell_type": "markdown",
   "metadata": {},
   "source": [
    "#### TP_REDE_LOCAL"
   ]
  },
  {
   "cell_type": "markdown",
   "metadata": {},
   "source": [
    "- 0 - Não há rede local interligando computadores\n",
    "- 1 - A cabo\n",
    "- 2 - Wireless\n",
    "- 3 - A cabo e Wireless\n",
    "- 9 - Não informado"
   ]
  },
  {
   "cell_type": "code",
   "execution_count": 217,
   "metadata": {},
   "outputs": [
    {
     "name": "stdout",
     "output_type": "stream",
     "text": [
      "\n",
      "Contagem de valores:\n"
     ]
    },
    {
     "data": {
      "text/plain": [
       "TP_REDE_LOCAL\n",
       "3.0    67897\n",
       "1.0    33668\n",
       "2.0    31292\n",
       "9.0    27667\n",
       "0.0    17952\n",
       "Name: count, dtype: int64"
      ]
     },
     "metadata": {},
     "output_type": "display_data"
    },
    {
     "name": "stdout",
     "output_type": "stream",
     "text": [
      "\n",
      "Quantidade de valores ausentes\n"
     ]
    },
    {
     "data": {
      "text/plain": [
       "TP_REDE_LOCAL\n",
       "False    178476\n",
       "Name: count, dtype: int64"
      ]
     },
     "metadata": {},
     "output_type": "display_data"
    }
   ],
   "source": [
    "basic_exploration(df, 'TP_REDE_LOCAL', 'binary')"
   ]
  },
  {
   "cell_type": "markdown",
   "metadata": {},
   "source": [
    "#### IN_BANDA_LARGA"
   ]
  },
  {
   "cell_type": "markdown",
   "metadata": {},
   "source": [
    "- 1 - Sim\n",
    "- 0 - Não\n",
    "\n",
    "* Não aplicável para escolas sem acesso à internet"
   ]
  },
  {
   "cell_type": "code",
   "execution_count": 218,
   "metadata": {},
   "outputs": [
    {
     "name": "stdout",
     "output_type": "stream",
     "text": [
      "\n",
      "Contagem de valores:\n"
     ]
    },
    {
     "data": {
      "text/plain": [
       "IN_BANDA_LARGA\n",
       "1.0    140486\n",
       "0.0     21703\n",
       "NaN     16287\n",
       "Name: count, dtype: int64"
      ]
     },
     "metadata": {},
     "output_type": "display_data"
    },
    {
     "name": "stdout",
     "output_type": "stream",
     "text": [
      "\n",
      "Quantidade de valores ausentes\n"
     ]
    },
    {
     "data": {
      "text/plain": [
       "IN_BANDA_LARGA\n",
       "False    162189\n",
       "True      16287\n",
       "Name: count, dtype: int64"
      ]
     },
     "metadata": {},
     "output_type": "display_data"
    }
   ],
   "source": [
    "basic_exploration(df, 'IN_BANDA_LARGA', 'binary')"
   ]
  },
  {
   "cell_type": "code",
   "execution_count": 219,
   "metadata": {},
   "outputs": [
    {
     "data": {
      "text/plain": [
       "IN_BANDA_LARGA\n",
       " 1.0    140486\n",
       " 0.0     21703\n",
       "-1.0     16287\n",
       "Name: count, dtype: int64"
      ]
     },
     "execution_count": 219,
     "metadata": {},
     "output_type": "execute_result"
    }
   ],
   "source": [
    "df.loc[df['IN_BANDA_LARGA'].isna(), 'IN_BANDA_LARGA'] = -1\n",
    "df['IN_BANDA_LARGA'].value_counts(dropna=False)"
   ]
  },
  {
   "cell_type": "markdown",
   "metadata": {},
   "source": [
    "#### Comparação"
   ]
  },
  {
   "cell_type": "code",
   "execution_count": 220,
   "metadata": {},
   "outputs": [
    {
     "data": {
      "text/plain": [
       "IN_INTERNET  IN_INTERNET_ALUNOS  IN_INTERNET_ADMINISTRATIVO  IN_INTERNET_APRENDIZAGEM  IN_INTERNET_COMUNIDADE  IN_ACESSO_INTERNET_COMPUTADOR  IN_ACES_INTERNET_DISP_PESSOAIS  TP_REDE_LOCAL  IN_BANDA_LARGA\n",
       "1.0          0.0                 1.0                         1.0                       0.0                     0.0                            0.0                             3.0             1.0              16897\n",
       "             1.0                 1.0                         1.0                       0.0                     1.0                            0.0                             3.0             1.0              14224\n",
       "0.0          0.0                 0.0                         0.0                       0.0                     0.0                            0.0                             9.0            -1.0              13905\n",
       "1.0          1.0                 1.0                         1.0                       0.0                     1.0                            1.0                             3.0             1.0              11421\n",
       "             0.0                 1.0                         0.0                       0.0                     0.0                            0.0                             1.0             1.0              10198\n",
       "                                                                                                                                                                                                               ...  \n",
       "             1.0                 0.0                         0.0                       1.0                     1.0                            0.0                             1.0             0.0                  1\n",
       "                                 1.0                         0.0                       1.0                     1.0                            0.0                             9.0             1.0                  1\n",
       "                                 0.0                         0.0                       0.0                     9.0                            9.0                             3.0             1.0                  1\n",
       "                                 1.0                         0.0                       1.0                     9.0                            9.0                             3.0             0.0                  1\n",
       "                                 0.0                         1.0                       0.0                     9.0                            9.0                             3.0             0.0                  1\n",
       "Name: count, Length: 274, dtype: int64"
      ]
     },
     "execution_count": 220,
     "metadata": {},
     "output_type": "execute_result"
    }
   ],
   "source": [
    "cols_internet = ['IN_INTERNET', 'IN_INTERNET_ALUNOS', 'IN_INTERNET_ADMINISTRATIVO', 'IN_INTERNET_APRENDIZAGEM', 'IN_INTERNET_COMUNIDADE', 'IN_ACESSO_INTERNET_COMPUTADOR', \n",
    "                         'IN_ACES_INTERNET_DISP_PESSOAIS', 'TP_REDE_LOCAL', 'IN_BANDA_LARGA']\n",
    "\n",
    "df[cols_internet].value_counts(dropna = False)"
   ]
  },
  {
   "cell_type": "markdown",
   "metadata": {},
   "source": [
    "### Materiais pedagógicos"
   ]
  },
  {
   "cell_type": "markdown",
   "metadata": {},
   "source": [
    "#### IN_MATERIAL_PED_MULTIMIDIA"
   ]
  },
  {
   "cell_type": "markdown",
   "metadata": {},
   "source": [
    "- 1 - Sim\n",
    "- 0 - Não"
   ]
  },
  {
   "cell_type": "code",
   "execution_count": 221,
   "metadata": {},
   "outputs": [
    {
     "name": "stdout",
     "output_type": "stream",
     "text": [
      "\n",
      "Contagem de valores:\n"
     ]
    },
    {
     "data": {
      "text/plain": [
       "IN_MATERIAL_PED_MULTIMIDIA\n",
       "0.0    113752\n",
       "1.0     64724\n",
       "Name: count, dtype: int64"
      ]
     },
     "metadata": {},
     "output_type": "display_data"
    },
    {
     "name": "stdout",
     "output_type": "stream",
     "text": [
      "\n",
      "Quantidade de valores ausentes\n"
     ]
    },
    {
     "data": {
      "text/plain": [
       "IN_MATERIAL_PED_MULTIMIDIA\n",
       "False    178476\n",
       "Name: count, dtype: int64"
      ]
     },
     "metadata": {},
     "output_type": "display_data"
    }
   ],
   "source": [
    "basic_exploration(df, 'IN_MATERIAL_PED_MULTIMIDIA', 'binary')"
   ]
  },
  {
   "cell_type": "markdown",
   "metadata": {},
   "source": [
    "#### IN_MATERIAL_PED_INFANTIL"
   ]
  },
  {
   "cell_type": "markdown",
   "metadata": {},
   "source": [
    "- 1 - Sim\n",
    "- 0 - Não"
   ]
  },
  {
   "cell_type": "code",
   "execution_count": 222,
   "metadata": {},
   "outputs": [
    {
     "name": "stdout",
     "output_type": "stream",
     "text": [
      "\n",
      "Contagem de valores:\n"
     ]
    },
    {
     "data": {
      "text/plain": [
       "IN_MATERIAL_PED_INFANTIL\n",
       "1.0    91554\n",
       "0.0    86922\n",
       "Name: count, dtype: int64"
      ]
     },
     "metadata": {},
     "output_type": "display_data"
    },
    {
     "name": "stdout",
     "output_type": "stream",
     "text": [
      "\n",
      "Quantidade de valores ausentes\n"
     ]
    },
    {
     "data": {
      "text/plain": [
       "IN_MATERIAL_PED_INFANTIL\n",
       "False    178476\n",
       "Name: count, dtype: int64"
      ]
     },
     "metadata": {},
     "output_type": "display_data"
    }
   ],
   "source": [
    "basic_exploration(df, 'IN_MATERIAL_PED_INFANTIL', 'binary')"
   ]
  },
  {
   "cell_type": "markdown",
   "metadata": {},
   "source": [
    "#### IN_MATERIAL_PED_CIENTIFICO"
   ]
  },
  {
   "cell_type": "markdown",
   "metadata": {},
   "source": [
    "- 1 - Sim\n",
    "- 0 - Não"
   ]
  },
  {
   "cell_type": "code",
   "execution_count": 223,
   "metadata": {},
   "outputs": [
    {
     "name": "stdout",
     "output_type": "stream",
     "text": [
      "\n",
      "Contagem de valores:\n"
     ]
    },
    {
     "data": {
      "text/plain": [
       "IN_MATERIAL_PED_CIENTIFICO\n",
       "0.0    147624\n",
       "1.0     30852\n",
       "Name: count, dtype: int64"
      ]
     },
     "metadata": {},
     "output_type": "display_data"
    },
    {
     "name": "stdout",
     "output_type": "stream",
     "text": [
      "\n",
      "Quantidade de valores ausentes\n"
     ]
    },
    {
     "data": {
      "text/plain": [
       "IN_MATERIAL_PED_CIENTIFICO\n",
       "False    178476\n",
       "Name: count, dtype: int64"
      ]
     },
     "metadata": {},
     "output_type": "display_data"
    }
   ],
   "source": [
    "basic_exploration(df, 'IN_MATERIAL_PED_CIENTIFICO', 'binary')"
   ]
  },
  {
   "cell_type": "markdown",
   "metadata": {},
   "source": [
    "#### IN_MATERIAL_PED_DIFUSAO"
   ]
  },
  {
   "cell_type": "markdown",
   "metadata": {},
   "source": [
    "- 1 - Sim\n",
    "- 0 - Não"
   ]
  },
  {
   "cell_type": "code",
   "execution_count": 224,
   "metadata": {},
   "outputs": [
    {
     "name": "stdout",
     "output_type": "stream",
     "text": [
      "\n",
      "Contagem de valores:\n"
     ]
    },
    {
     "data": {
      "text/plain": [
       "IN_MATERIAL_PED_DIFUSAO\n",
       "1.0    91477\n",
       "0.0    86999\n",
       "Name: count, dtype: int64"
      ]
     },
     "metadata": {},
     "output_type": "display_data"
    },
    {
     "name": "stdout",
     "output_type": "stream",
     "text": [
      "\n",
      "Quantidade de valores ausentes\n"
     ]
    },
    {
     "data": {
      "text/plain": [
       "IN_MATERIAL_PED_DIFUSAO\n",
       "False    178476\n",
       "Name: count, dtype: int64"
      ]
     },
     "metadata": {},
     "output_type": "display_data"
    }
   ],
   "source": [
    "basic_exploration(df, 'IN_MATERIAL_PED_DIFUSAO', 'binary')"
   ]
  },
  {
   "cell_type": "markdown",
   "metadata": {},
   "source": [
    "#### IN_MATERIAL_PED_MUSICAL"
   ]
  },
  {
   "cell_type": "markdown",
   "metadata": {},
   "source": [
    "- 1 - Sim\n",
    "- 0 - Não"
   ]
  },
  {
   "cell_type": "code",
   "execution_count": 225,
   "metadata": {},
   "outputs": [
    {
     "name": "stdout",
     "output_type": "stream",
     "text": [
      "\n",
      "Contagem de valores:\n"
     ]
    },
    {
     "data": {
      "text/plain": [
       "IN_MATERIAL_PED_MUSICAL\n",
       "0.0    134656\n",
       "1.0     43820\n",
       "Name: count, dtype: int64"
      ]
     },
     "metadata": {},
     "output_type": "display_data"
    },
    {
     "name": "stdout",
     "output_type": "stream",
     "text": [
      "\n",
      "Quantidade de valores ausentes\n"
     ]
    },
    {
     "data": {
      "text/plain": [
       "IN_MATERIAL_PED_MUSICAL\n",
       "False    178476\n",
       "Name: count, dtype: int64"
      ]
     },
     "metadata": {},
     "output_type": "display_data"
    }
   ],
   "source": [
    "basic_exploration(df, 'IN_MATERIAL_PED_MUSICAL', 'binary')"
   ]
  },
  {
   "cell_type": "markdown",
   "metadata": {},
   "source": [
    "#### IN_MATERIAL_PED_JOGOS"
   ]
  },
  {
   "cell_type": "markdown",
   "metadata": {},
   "source": [
    "- 1 - Sim\n",
    "- 0 - Não"
   ]
  },
  {
   "cell_type": "code",
   "execution_count": 226,
   "metadata": {},
   "outputs": [
    {
     "name": "stdout",
     "output_type": "stream",
     "text": [
      "\n",
      "Contagem de valores:\n"
     ]
    },
    {
     "data": {
      "text/plain": [
       "IN_MATERIAL_PED_JOGOS\n",
       "1.0    140698\n",
       "0.0     37778\n",
       "Name: count, dtype: int64"
      ]
     },
     "metadata": {},
     "output_type": "display_data"
    },
    {
     "name": "stdout",
     "output_type": "stream",
     "text": [
      "\n",
      "Quantidade de valores ausentes\n"
     ]
    },
    {
     "data": {
      "text/plain": [
       "IN_MATERIAL_PED_JOGOS\n",
       "False    178476\n",
       "Name: count, dtype: int64"
      ]
     },
     "metadata": {},
     "output_type": "display_data"
    }
   ],
   "source": [
    "basic_exploration(df, 'IN_MATERIAL_PED_JOGOS', 'binary')"
   ]
  },
  {
   "cell_type": "markdown",
   "metadata": {},
   "source": [
    "#### IN_MATERIAL_PED_ARTISTICAS"
   ]
  },
  {
   "cell_type": "markdown",
   "metadata": {},
   "source": [
    "- 1 - Sim\n",
    "- 0 - Não"
   ]
  },
  {
   "cell_type": "code",
   "execution_count": 227,
   "metadata": {},
   "outputs": [
    {
     "name": "stdout",
     "output_type": "stream",
     "text": [
      "\n",
      "Contagem de valores:\n"
     ]
    },
    {
     "data": {
      "text/plain": [
       "IN_MATERIAL_PED_ARTISTICAS\n",
       "0.0    104589\n",
       "1.0     73887\n",
       "Name: count, dtype: int64"
      ]
     },
     "metadata": {},
     "output_type": "display_data"
    },
    {
     "name": "stdout",
     "output_type": "stream",
     "text": [
      "\n",
      "Quantidade de valores ausentes\n"
     ]
    },
    {
     "data": {
      "text/plain": [
       "IN_MATERIAL_PED_ARTISTICAS\n",
       "False    178476\n",
       "Name: count, dtype: int64"
      ]
     },
     "metadata": {},
     "output_type": "display_data"
    }
   ],
   "source": [
    "basic_exploration(df, 'IN_MATERIAL_PED_ARTISTICAS', 'binary')"
   ]
  },
  {
   "cell_type": "markdown",
   "metadata": {},
   "source": [
    "#### IN_MATERIAL_PED_PROFISSIONAL"
   ]
  },
  {
   "cell_type": "markdown",
   "metadata": {},
   "source": [
    "- 1 - Sim\n",
    "- 0 - Não"
   ]
  },
  {
   "cell_type": "code",
   "execution_count": 228,
   "metadata": {},
   "outputs": [
    {
     "name": "stdout",
     "output_type": "stream",
     "text": [
      "\n",
      "Contagem de valores:\n"
     ]
    },
    {
     "data": {
      "text/plain": [
       "IN_MATERIAL_PED_PROFISSIONAL\n",
       "0.0    169653\n",
       "1.0      8823\n",
       "Name: count, dtype: int64"
      ]
     },
     "metadata": {},
     "output_type": "display_data"
    },
    {
     "name": "stdout",
     "output_type": "stream",
     "text": [
      "\n",
      "Quantidade de valores ausentes\n"
     ]
    },
    {
     "data": {
      "text/plain": [
       "IN_MATERIAL_PED_PROFISSIONAL\n",
       "False    178476\n",
       "Name: count, dtype: int64"
      ]
     },
     "metadata": {},
     "output_type": "display_data"
    }
   ],
   "source": [
    "basic_exploration(df, 'IN_MATERIAL_PED_PROFISSIONAL', 'binary')"
   ]
  },
  {
   "cell_type": "markdown",
   "metadata": {},
   "source": [
    "#### IN_MATERIAL_PED_DESPORTIVA"
   ]
  },
  {
   "cell_type": "markdown",
   "metadata": {},
   "source": [
    "- 1 - Sim\n",
    "- 0 - Não"
   ]
  },
  {
   "cell_type": "code",
   "execution_count": 229,
   "metadata": {},
   "outputs": [
    {
     "name": "stdout",
     "output_type": "stream",
     "text": [
      "\n",
      "Contagem de valores:\n"
     ]
    },
    {
     "data": {
      "text/plain": [
       "IN_MATERIAL_PED_DESPORTIVA\n",
       "1.0    114281\n",
       "0.0     64195\n",
       "Name: count, dtype: int64"
      ]
     },
     "metadata": {},
     "output_type": "display_data"
    },
    {
     "name": "stdout",
     "output_type": "stream",
     "text": [
      "\n",
      "Quantidade de valores ausentes\n"
     ]
    },
    {
     "data": {
      "text/plain": [
       "IN_MATERIAL_PED_DESPORTIVA\n",
       "False    178476\n",
       "Name: count, dtype: int64"
      ]
     },
     "metadata": {},
     "output_type": "display_data"
    }
   ],
   "source": [
    "basic_exploration(df, 'IN_MATERIAL_PED_DESPORTIVA', 'binary')"
   ]
  },
  {
   "cell_type": "markdown",
   "metadata": {},
   "source": [
    "#### IN_MATERIAL_PED_INDIGENA"
   ]
  },
  {
   "cell_type": "markdown",
   "metadata": {},
   "source": [
    "- 1 - Sim\n",
    "- 0 - Não"
   ]
  },
  {
   "cell_type": "code",
   "execution_count": 230,
   "metadata": {},
   "outputs": [
    {
     "name": "stdout",
     "output_type": "stream",
     "text": [
      "\n",
      "Contagem de valores:\n"
     ]
    },
    {
     "data": {
      "text/plain": [
       "IN_MATERIAL_PED_INDIGENA\n",
       "0.0    171516\n",
       "1.0      6960\n",
       "Name: count, dtype: int64"
      ]
     },
     "metadata": {},
     "output_type": "display_data"
    },
    {
     "name": "stdout",
     "output_type": "stream",
     "text": [
      "\n",
      "Quantidade de valores ausentes\n"
     ]
    },
    {
     "data": {
      "text/plain": [
       "IN_MATERIAL_PED_INDIGENA\n",
       "False    178476\n",
       "Name: count, dtype: int64"
      ]
     },
     "metadata": {},
     "output_type": "display_data"
    }
   ],
   "source": [
    "basic_exploration(df, 'IN_MATERIAL_PED_INDIGENA', 'binary')"
   ]
  },
  {
   "cell_type": "markdown",
   "metadata": {},
   "source": [
    "#### IN_MATERIAL_PED_ETNICO"
   ]
  },
  {
   "cell_type": "markdown",
   "metadata": {},
   "source": [
    "- 1 - Sim\n",
    "- 0 - Não"
   ]
  },
  {
   "cell_type": "code",
   "execution_count": 231,
   "metadata": {},
   "outputs": [
    {
     "name": "stdout",
     "output_type": "stream",
     "text": [
      "\n",
      "Contagem de valores:\n"
     ]
    },
    {
     "data": {
      "text/plain": [
       "IN_MATERIAL_PED_ETNICO\n",
       "0.0    146380\n",
       "1.0     32096\n",
       "Name: count, dtype: int64"
      ]
     },
     "metadata": {},
     "output_type": "display_data"
    },
    {
     "name": "stdout",
     "output_type": "stream",
     "text": [
      "\n",
      "Quantidade de valores ausentes\n"
     ]
    },
    {
     "data": {
      "text/plain": [
       "IN_MATERIAL_PED_ETNICO\n",
       "False    178476\n",
       "Name: count, dtype: int64"
      ]
     },
     "metadata": {},
     "output_type": "display_data"
    }
   ],
   "source": [
    "basic_exploration(df, 'IN_MATERIAL_PED_ETNICO', 'binary')"
   ]
  },
  {
   "cell_type": "markdown",
   "metadata": {},
   "source": [
    "#### IN_MATERIAL_PED_CAMPO"
   ]
  },
  {
   "cell_type": "markdown",
   "metadata": {},
   "source": [
    "- 1 - Sim\n",
    "- 0 - Não"
   ]
  },
  {
   "cell_type": "code",
   "execution_count": 232,
   "metadata": {},
   "outputs": [
    {
     "name": "stdout",
     "output_type": "stream",
     "text": [
      "\n",
      "Contagem de valores:\n"
     ]
    },
    {
     "data": {
      "text/plain": [
       "IN_MATERIAL_PED_CAMPO\n",
       "0.0    161391\n",
       "1.0     17085\n",
       "Name: count, dtype: int64"
      ]
     },
     "metadata": {},
     "output_type": "display_data"
    },
    {
     "name": "stdout",
     "output_type": "stream",
     "text": [
      "\n",
      "Quantidade de valores ausentes\n"
     ]
    },
    {
     "data": {
      "text/plain": [
       "IN_MATERIAL_PED_CAMPO\n",
       "False    178476\n",
       "Name: count, dtype: int64"
      ]
     },
     "metadata": {},
     "output_type": "display_data"
    }
   ],
   "source": [
    "basic_exploration(df, 'IN_MATERIAL_PED_CAMPO', 'binary')"
   ]
  },
  {
   "cell_type": "markdown",
   "metadata": {},
   "source": [
    "#### IN_MATERIAL_PED_BIL_SURDOS"
   ]
  },
  {
   "cell_type": "markdown",
   "metadata": {},
   "source": [
    "- 1 - Sim\n",
    "- 0 - Não"
   ]
  },
  {
   "cell_type": "code",
   "execution_count": 233,
   "metadata": {},
   "outputs": [
    {
     "name": "stdout",
     "output_type": "stream",
     "text": [
      "\n",
      "Contagem de valores:\n"
     ]
    },
    {
     "data": {
      "text/plain": [
       "IN_MATERIAL_PED_BIL_SURDOS\n",
       "0.0    175374\n",
       "1.0      3102\n",
       "Name: count, dtype: int64"
      ]
     },
     "metadata": {},
     "output_type": "display_data"
    },
    {
     "name": "stdout",
     "output_type": "stream",
     "text": [
      "\n",
      "Quantidade de valores ausentes\n"
     ]
    },
    {
     "data": {
      "text/plain": [
       "IN_MATERIAL_PED_BIL_SURDOS\n",
       "False    178476\n",
       "Name: count, dtype: int64"
      ]
     },
     "metadata": {},
     "output_type": "display_data"
    }
   ],
   "source": [
    "basic_exploration(df, 'IN_MATERIAL_PED_BIL_SURDOS', 'binary')"
   ]
  },
  {
   "cell_type": "markdown",
   "metadata": {},
   "source": [
    "#### IN_MATERIAL_PED_NENHUM"
   ]
  },
  {
   "cell_type": "markdown",
   "metadata": {},
   "source": [
    "- 1 - Sim\n",
    "- 0 - Não"
   ]
  },
  {
   "cell_type": "code",
   "execution_count": 234,
   "metadata": {},
   "outputs": [
    {
     "name": "stdout",
     "output_type": "stream",
     "text": [
      "\n",
      "Contagem de valores:\n"
     ]
    },
    {
     "data": {
      "text/plain": [
       "IN_MATERIAL_PED_NENHUM\n",
       "0.0    161006\n",
       "1.0     17470\n",
       "Name: count, dtype: int64"
      ]
     },
     "metadata": {},
     "output_type": "display_data"
    },
    {
     "name": "stdout",
     "output_type": "stream",
     "text": [
      "\n",
      "Quantidade de valores ausentes\n"
     ]
    },
    {
     "data": {
      "text/plain": [
       "IN_MATERIAL_PED_NENHUM\n",
       "False    178476\n",
       "Name: count, dtype: int64"
      ]
     },
     "metadata": {},
     "output_type": "display_data"
    }
   ],
   "source": [
    "basic_exploration(df, 'IN_MATERIAL_PED_NENHUM', 'binary')"
   ]
  },
  {
   "cell_type": "markdown",
   "metadata": {},
   "source": [
    "#### Comparação"
   ]
  },
  {
   "cell_type": "code",
   "execution_count": 235,
   "metadata": {},
   "outputs": [
    {
     "data": {
      "text/plain": [
       "IN_MATERIAL_PED_MULTIMIDIA  IN_MATERIAL_PED_INFANTIL  IN_MATERIAL_PED_CIENTIFICO  IN_MATERIAL_PED_DIFUSAO  IN_MATERIAL_PED_MUSICAL  IN_MATERIAL_PED_JOGOS  IN_MATERIAL_PED_ARTISTICAS  IN_MATERIAL_PED_PROFISSIONAL  IN_MATERIAL_PED_DESPORTIVA  IN_MATERIAL_PED_INDIGENA  IN_MATERIAL_PED_ETNICO  IN_MATERIAL_PED_CAMPO  IN_MATERIAL_PED_BIL_SURDOS  IN_MATERIAL_PED_NENHUM\n",
       "0.0                         0.0                       0.0                         0.0                      0.0                      0.0                    0.0                         0.0                           0.0                         0.0                       0.0                     0.0                    0.0                         1.0                       17470\n",
       "Name: count, dtype: int64"
      ]
     },
     "execution_count": 235,
     "metadata": {},
     "output_type": "execute_result"
    }
   ],
   "source": [
    "cols_materiais = ['IN_MATERIAL_PED_MULTIMIDIA', 'IN_MATERIAL_PED_INFANTIL', 'IN_MATERIAL_PED_CIENTIFICO', 'IN_MATERIAL_PED_DIFUSAO', 'IN_MATERIAL_PED_MUSICAL', \n",
    "                         'IN_MATERIAL_PED_JOGOS', 'IN_MATERIAL_PED_ARTISTICAS', 'IN_MATERIAL_PED_PROFISSIONAL', 'IN_MATERIAL_PED_DESPORTIVA', 'IN_MATERIAL_PED_INDIGENA', \n",
    "                         'IN_MATERIAL_PED_ETNICO', 'IN_MATERIAL_PED_CAMPO', 'IN_MATERIAL_PED_BIL_SURDOS', ]\n",
    "\n",
    "df[df['IN_MATERIAL_PED_NENHUM'] == 1][cols_materiais + ['IN_MATERIAL_PED_NENHUM']].value_counts(dropna = False)"
   ]
  },
  {
   "cell_type": "markdown",
   "metadata": {},
   "source": [
    "## Criação da Base Final"
   ]
  },
  {
   "cell_type": "markdown",
   "metadata": {},
   "source": [
    "### Remoção das colunas desnecessárias"
   ]
  },
  {
   "cell_type": "code",
   "execution_count": 236,
   "metadata": {},
   "outputs": [
    {
     "data": {
      "text/plain": [
       "125"
      ]
     },
     "execution_count": 236,
     "metadata": {},
     "output_type": "execute_result"
    }
   ],
   "source": [
    "df.drop(cols_remover, axis = 1, inplace = True)\n",
    "len(df.columns)"
   ]
  },
  {
   "cell_type": "code",
   "execution_count": 237,
   "metadata": {},
   "outputs": [
    {
     "data": {
      "text/plain": [
       "(178476, 125)"
      ]
     },
     "execution_count": 237,
     "metadata": {},
     "output_type": "execute_result"
    }
   ],
   "source": [
    "df.shape"
   ]
  },
  {
   "cell_type": "markdown",
   "metadata": {},
   "source": [
    "### Criação das faixas de quantidade de matrículas"
   ]
  },
  {
   "cell_type": "markdown",
   "metadata": {},
   "source": [
    "#### Árvore de Decisão"
   ]
  },
  {
   "cell_type": "code",
   "execution_count": 1,
   "metadata": {},
   "outputs": [],
   "source": [
    "import pandas as pd\n",
    "from sklearn.tree import DecisionTreeRegressor\n",
    "import numpy as np"
   ]
  },
  {
   "cell_type": "code",
   "execution_count": 238,
   "metadata": {},
   "outputs": [
    {
     "data": {
      "text/plain": [
       "Index(['NO_ENTIDADE', 'TP_DEPENDENCIA', 'TP_CATEGORIA_ESCOLA_PRIVADA',\n",
       "       'TP_LOCALIZACAO', 'TP_LOCALIZACAO_DIFERENCIADA',\n",
       "       'TP_SITUACAO_FUNCIONAMENTO', 'IN_LOCAL_FUNC_PREDIO_ESCOLAR',\n",
       "       'TP_OCUPACAO_PREDIO_ESCOLAR', 'IN_LOCAL_FUNC_SOCIOEDUCATIVO',\n",
       "       'IN_LOCAL_FUNC_UNID_PRISIONAL',\n",
       "       ...\n",
       "       'IN_MATERIAL_PED_JOGOS', 'IN_MATERIAL_PED_ARTISTICAS',\n",
       "       'IN_MATERIAL_PED_PROFISSIONAL', 'IN_MATERIAL_PED_DESPORTIVA',\n",
       "       'IN_MATERIAL_PED_INDIGENA', 'IN_MATERIAL_PED_ETNICO',\n",
       "       'IN_MATERIAL_PED_CAMPO', 'IN_MATERIAL_PED_BIL_SURDOS',\n",
       "       'IN_MATERIAL_PED_NENHUM', 'QT_MAT_BAS'],\n",
       "      dtype='object', length=125)"
      ]
     },
     "execution_count": 238,
     "metadata": {},
     "output_type": "execute_result"
    }
   ],
   "source": [
    "df.columns"
   ]
  },
  {
   "cell_type": "code",
   "execution_count": 249,
   "metadata": {},
   "outputs": [],
   "source": [
    "X = df[df.columns[1:-1]]  # Variáveis independentes\n",
    "y = df[['QT_MAT_BAS']]  # Variável alvo"
   ]
  },
  {
   "cell_type": "code",
   "execution_count": 380,
   "metadata": {},
   "outputs": [
    {
     "data": {
      "text/html": [
       "<style>#sk-container-id-10 {\n",
       "  /* Definition of color scheme common for light and dark mode */\n",
       "  --sklearn-color-text: black;\n",
       "  --sklearn-color-line: gray;\n",
       "  /* Definition of color scheme for unfitted estimators */\n",
       "  --sklearn-color-unfitted-level-0: #fff5e6;\n",
       "  --sklearn-color-unfitted-level-1: #f6e4d2;\n",
       "  --sklearn-color-unfitted-level-2: #ffe0b3;\n",
       "  --sklearn-color-unfitted-level-3: chocolate;\n",
       "  /* Definition of color scheme for fitted estimators */\n",
       "  --sklearn-color-fitted-level-0: #f0f8ff;\n",
       "  --sklearn-color-fitted-level-1: #d4ebff;\n",
       "  --sklearn-color-fitted-level-2: #b3dbfd;\n",
       "  --sklearn-color-fitted-level-3: cornflowerblue;\n",
       "\n",
       "  /* Specific color for light theme */\n",
       "  --sklearn-color-text-on-default-background: var(--sg-text-color, var(--theme-code-foreground, var(--jp-content-font-color1, black)));\n",
       "  --sklearn-color-background: var(--sg-background-color, var(--theme-background, var(--jp-layout-color0, white)));\n",
       "  --sklearn-color-border-box: var(--sg-text-color, var(--theme-code-foreground, var(--jp-content-font-color1, black)));\n",
       "  --sklearn-color-icon: #696969;\n",
       "\n",
       "  @media (prefers-color-scheme: dark) {\n",
       "    /* Redefinition of color scheme for dark theme */\n",
       "    --sklearn-color-text-on-default-background: var(--sg-text-color, var(--theme-code-foreground, var(--jp-content-font-color1, white)));\n",
       "    --sklearn-color-background: var(--sg-background-color, var(--theme-background, var(--jp-layout-color0, #111)));\n",
       "    --sklearn-color-border-box: var(--sg-text-color, var(--theme-code-foreground, var(--jp-content-font-color1, white)));\n",
       "    --sklearn-color-icon: #878787;\n",
       "  }\n",
       "}\n",
       "\n",
       "#sk-container-id-10 {\n",
       "  color: var(--sklearn-color-text);\n",
       "}\n",
       "\n",
       "#sk-container-id-10 pre {\n",
       "  padding: 0;\n",
       "}\n",
       "\n",
       "#sk-container-id-10 input.sk-hidden--visually {\n",
       "  border: 0;\n",
       "  clip: rect(1px 1px 1px 1px);\n",
       "  clip: rect(1px, 1px, 1px, 1px);\n",
       "  height: 1px;\n",
       "  margin: -1px;\n",
       "  overflow: hidden;\n",
       "  padding: 0;\n",
       "  position: absolute;\n",
       "  width: 1px;\n",
       "}\n",
       "\n",
       "#sk-container-id-10 div.sk-dashed-wrapped {\n",
       "  border: 1px dashed var(--sklearn-color-line);\n",
       "  margin: 0 0.4em 0.5em 0.4em;\n",
       "  box-sizing: border-box;\n",
       "  padding-bottom: 0.4em;\n",
       "  background-color: var(--sklearn-color-background);\n",
       "}\n",
       "\n",
       "#sk-container-id-10 div.sk-container {\n",
       "  /* jupyter's `normalize.less` sets `[hidden] { display: none; }`\n",
       "     but bootstrap.min.css set `[hidden] { display: none !important; }`\n",
       "     so we also need the `!important` here to be able to override the\n",
       "     default hidden behavior on the sphinx rendered scikit-learn.org.\n",
       "     See: https://github.com/scikit-learn/scikit-learn/issues/21755 */\n",
       "  display: inline-block !important;\n",
       "  position: relative;\n",
       "}\n",
       "\n",
       "#sk-container-id-10 div.sk-text-repr-fallback {\n",
       "  display: none;\n",
       "}\n",
       "\n",
       "div.sk-parallel-item,\n",
       "div.sk-serial,\n",
       "div.sk-item {\n",
       "  /* draw centered vertical line to link estimators */\n",
       "  background-image: linear-gradient(var(--sklearn-color-text-on-default-background), var(--sklearn-color-text-on-default-background));\n",
       "  background-size: 2px 100%;\n",
       "  background-repeat: no-repeat;\n",
       "  background-position: center center;\n",
       "}\n",
       "\n",
       "/* Parallel-specific style estimator block */\n",
       "\n",
       "#sk-container-id-10 div.sk-parallel-item::after {\n",
       "  content: \"\";\n",
       "  width: 100%;\n",
       "  border-bottom: 2px solid var(--sklearn-color-text-on-default-background);\n",
       "  flex-grow: 1;\n",
       "}\n",
       "\n",
       "#sk-container-id-10 div.sk-parallel {\n",
       "  display: flex;\n",
       "  align-items: stretch;\n",
       "  justify-content: center;\n",
       "  background-color: var(--sklearn-color-background);\n",
       "  position: relative;\n",
       "}\n",
       "\n",
       "#sk-container-id-10 div.sk-parallel-item {\n",
       "  display: flex;\n",
       "  flex-direction: column;\n",
       "}\n",
       "\n",
       "#sk-container-id-10 div.sk-parallel-item:first-child::after {\n",
       "  align-self: flex-end;\n",
       "  width: 50%;\n",
       "}\n",
       "\n",
       "#sk-container-id-10 div.sk-parallel-item:last-child::after {\n",
       "  align-self: flex-start;\n",
       "  width: 50%;\n",
       "}\n",
       "\n",
       "#sk-container-id-10 div.sk-parallel-item:only-child::after {\n",
       "  width: 0;\n",
       "}\n",
       "\n",
       "/* Serial-specific style estimator block */\n",
       "\n",
       "#sk-container-id-10 div.sk-serial {\n",
       "  display: flex;\n",
       "  flex-direction: column;\n",
       "  align-items: center;\n",
       "  background-color: var(--sklearn-color-background);\n",
       "  padding-right: 1em;\n",
       "  padding-left: 1em;\n",
       "}\n",
       "\n",
       "\n",
       "/* Toggleable style: style used for estimator/Pipeline/ColumnTransformer box that is\n",
       "clickable and can be expanded/collapsed.\n",
       "- Pipeline and ColumnTransformer use this feature and define the default style\n",
       "- Estimators will overwrite some part of the style using the `sk-estimator` class\n",
       "*/\n",
       "\n",
       "/* Pipeline and ColumnTransformer style (default) */\n",
       "\n",
       "#sk-container-id-10 div.sk-toggleable {\n",
       "  /* Default theme specific background. It is overwritten whether we have a\n",
       "  specific estimator or a Pipeline/ColumnTransformer */\n",
       "  background-color: var(--sklearn-color-background);\n",
       "}\n",
       "\n",
       "/* Toggleable label */\n",
       "#sk-container-id-10 label.sk-toggleable__label {\n",
       "  cursor: pointer;\n",
       "  display: block;\n",
       "  width: 100%;\n",
       "  margin-bottom: 0;\n",
       "  padding: 0.5em;\n",
       "  box-sizing: border-box;\n",
       "  text-align: center;\n",
       "}\n",
       "\n",
       "#sk-container-id-10 label.sk-toggleable__label-arrow:before {\n",
       "  /* Arrow on the left of the label */\n",
       "  content: \"▸\";\n",
       "  float: left;\n",
       "  margin-right: 0.25em;\n",
       "  color: var(--sklearn-color-icon);\n",
       "}\n",
       "\n",
       "#sk-container-id-10 label.sk-toggleable__label-arrow:hover:before {\n",
       "  color: var(--sklearn-color-text);\n",
       "}\n",
       "\n",
       "/* Toggleable content - dropdown */\n",
       "\n",
       "#sk-container-id-10 div.sk-toggleable__content {\n",
       "  max-height: 0;\n",
       "  max-width: 0;\n",
       "  overflow: hidden;\n",
       "  text-align: left;\n",
       "  /* unfitted */\n",
       "  background-color: var(--sklearn-color-unfitted-level-0);\n",
       "}\n",
       "\n",
       "#sk-container-id-10 div.sk-toggleable__content.fitted {\n",
       "  /* fitted */\n",
       "  background-color: var(--sklearn-color-fitted-level-0);\n",
       "}\n",
       "\n",
       "#sk-container-id-10 div.sk-toggleable__content pre {\n",
       "  margin: 0.2em;\n",
       "  border-radius: 0.25em;\n",
       "  color: var(--sklearn-color-text);\n",
       "  /* unfitted */\n",
       "  background-color: var(--sklearn-color-unfitted-level-0);\n",
       "}\n",
       "\n",
       "#sk-container-id-10 div.sk-toggleable__content.fitted pre {\n",
       "  /* unfitted */\n",
       "  background-color: var(--sklearn-color-fitted-level-0);\n",
       "}\n",
       "\n",
       "#sk-container-id-10 input.sk-toggleable__control:checked~div.sk-toggleable__content {\n",
       "  /* Expand drop-down */\n",
       "  max-height: 200px;\n",
       "  max-width: 100%;\n",
       "  overflow: auto;\n",
       "}\n",
       "\n",
       "#sk-container-id-10 input.sk-toggleable__control:checked~label.sk-toggleable__label-arrow:before {\n",
       "  content: \"▾\";\n",
       "}\n",
       "\n",
       "/* Pipeline/ColumnTransformer-specific style */\n",
       "\n",
       "#sk-container-id-10 div.sk-label input.sk-toggleable__control:checked~label.sk-toggleable__label {\n",
       "  color: var(--sklearn-color-text);\n",
       "  background-color: var(--sklearn-color-unfitted-level-2);\n",
       "}\n",
       "\n",
       "#sk-container-id-10 div.sk-label.fitted input.sk-toggleable__control:checked~label.sk-toggleable__label {\n",
       "  background-color: var(--sklearn-color-fitted-level-2);\n",
       "}\n",
       "\n",
       "/* Estimator-specific style */\n",
       "\n",
       "/* Colorize estimator box */\n",
       "#sk-container-id-10 div.sk-estimator input.sk-toggleable__control:checked~label.sk-toggleable__label {\n",
       "  /* unfitted */\n",
       "  background-color: var(--sklearn-color-unfitted-level-2);\n",
       "}\n",
       "\n",
       "#sk-container-id-10 div.sk-estimator.fitted input.sk-toggleable__control:checked~label.sk-toggleable__label {\n",
       "  /* fitted */\n",
       "  background-color: var(--sklearn-color-fitted-level-2);\n",
       "}\n",
       "\n",
       "#sk-container-id-10 div.sk-label label.sk-toggleable__label,\n",
       "#sk-container-id-10 div.sk-label label {\n",
       "  /* The background is the default theme color */\n",
       "  color: var(--sklearn-color-text-on-default-background);\n",
       "}\n",
       "\n",
       "/* On hover, darken the color of the background */\n",
       "#sk-container-id-10 div.sk-label:hover label.sk-toggleable__label {\n",
       "  color: var(--sklearn-color-text);\n",
       "  background-color: var(--sklearn-color-unfitted-level-2);\n",
       "}\n",
       "\n",
       "/* Label box, darken color on hover, fitted */\n",
       "#sk-container-id-10 div.sk-label.fitted:hover label.sk-toggleable__label.fitted {\n",
       "  color: var(--sklearn-color-text);\n",
       "  background-color: var(--sklearn-color-fitted-level-2);\n",
       "}\n",
       "\n",
       "/* Estimator label */\n",
       "\n",
       "#sk-container-id-10 div.sk-label label {\n",
       "  font-family: monospace;\n",
       "  font-weight: bold;\n",
       "  display: inline-block;\n",
       "  line-height: 1.2em;\n",
       "}\n",
       "\n",
       "#sk-container-id-10 div.sk-label-container {\n",
       "  text-align: center;\n",
       "}\n",
       "\n",
       "/* Estimator-specific */\n",
       "#sk-container-id-10 div.sk-estimator {\n",
       "  font-family: monospace;\n",
       "  border: 1px dotted var(--sklearn-color-border-box);\n",
       "  border-radius: 0.25em;\n",
       "  box-sizing: border-box;\n",
       "  margin-bottom: 0.5em;\n",
       "  /* unfitted */\n",
       "  background-color: var(--sklearn-color-unfitted-level-0);\n",
       "}\n",
       "\n",
       "#sk-container-id-10 div.sk-estimator.fitted {\n",
       "  /* fitted */\n",
       "  background-color: var(--sklearn-color-fitted-level-0);\n",
       "}\n",
       "\n",
       "/* on hover */\n",
       "#sk-container-id-10 div.sk-estimator:hover {\n",
       "  /* unfitted */\n",
       "  background-color: var(--sklearn-color-unfitted-level-2);\n",
       "}\n",
       "\n",
       "#sk-container-id-10 div.sk-estimator.fitted:hover {\n",
       "  /* fitted */\n",
       "  background-color: var(--sklearn-color-fitted-level-2);\n",
       "}\n",
       "\n",
       "/* Specification for estimator info (e.g. \"i\" and \"?\") */\n",
       "\n",
       "/* Common style for \"i\" and \"?\" */\n",
       "\n",
       ".sk-estimator-doc-link,\n",
       "a:link.sk-estimator-doc-link,\n",
       "a:visited.sk-estimator-doc-link {\n",
       "  float: right;\n",
       "  font-size: smaller;\n",
       "  line-height: 1em;\n",
       "  font-family: monospace;\n",
       "  background-color: var(--sklearn-color-background);\n",
       "  border-radius: 1em;\n",
       "  height: 1em;\n",
       "  width: 1em;\n",
       "  text-decoration: none !important;\n",
       "  margin-left: 1ex;\n",
       "  /* unfitted */\n",
       "  border: var(--sklearn-color-unfitted-level-1) 1pt solid;\n",
       "  color: var(--sklearn-color-unfitted-level-1);\n",
       "}\n",
       "\n",
       ".sk-estimator-doc-link.fitted,\n",
       "a:link.sk-estimator-doc-link.fitted,\n",
       "a:visited.sk-estimator-doc-link.fitted {\n",
       "  /* fitted */\n",
       "  border: var(--sklearn-color-fitted-level-1) 1pt solid;\n",
       "  color: var(--sklearn-color-fitted-level-1);\n",
       "}\n",
       "\n",
       "/* On hover */\n",
       "div.sk-estimator:hover .sk-estimator-doc-link:hover,\n",
       ".sk-estimator-doc-link:hover,\n",
       "div.sk-label-container:hover .sk-estimator-doc-link:hover,\n",
       ".sk-estimator-doc-link:hover {\n",
       "  /* unfitted */\n",
       "  background-color: var(--sklearn-color-unfitted-level-3);\n",
       "  color: var(--sklearn-color-background);\n",
       "  text-decoration: none;\n",
       "}\n",
       "\n",
       "div.sk-estimator.fitted:hover .sk-estimator-doc-link.fitted:hover,\n",
       ".sk-estimator-doc-link.fitted:hover,\n",
       "div.sk-label-container:hover .sk-estimator-doc-link.fitted:hover,\n",
       ".sk-estimator-doc-link.fitted:hover {\n",
       "  /* fitted */\n",
       "  background-color: var(--sklearn-color-fitted-level-3);\n",
       "  color: var(--sklearn-color-background);\n",
       "  text-decoration: none;\n",
       "}\n",
       "\n",
       "/* Span, style for the box shown on hovering the info icon */\n",
       ".sk-estimator-doc-link span {\n",
       "  display: none;\n",
       "  z-index: 9999;\n",
       "  position: relative;\n",
       "  font-weight: normal;\n",
       "  right: .2ex;\n",
       "  padding: .5ex;\n",
       "  margin: .5ex;\n",
       "  width: min-content;\n",
       "  min-width: 20ex;\n",
       "  max-width: 50ex;\n",
       "  color: var(--sklearn-color-text);\n",
       "  box-shadow: 2pt 2pt 4pt #999;\n",
       "  /* unfitted */\n",
       "  background: var(--sklearn-color-unfitted-level-0);\n",
       "  border: .5pt solid var(--sklearn-color-unfitted-level-3);\n",
       "}\n",
       "\n",
       ".sk-estimator-doc-link.fitted span {\n",
       "  /* fitted */\n",
       "  background: var(--sklearn-color-fitted-level-0);\n",
       "  border: var(--sklearn-color-fitted-level-3);\n",
       "}\n",
       "\n",
       ".sk-estimator-doc-link:hover span {\n",
       "  display: block;\n",
       "}\n",
       "\n",
       "/* \"?\"-specific style due to the `<a>` HTML tag */\n",
       "\n",
       "#sk-container-id-10 a.estimator_doc_link {\n",
       "  float: right;\n",
       "  font-size: 1rem;\n",
       "  line-height: 1em;\n",
       "  font-family: monospace;\n",
       "  background-color: var(--sklearn-color-background);\n",
       "  border-radius: 1rem;\n",
       "  height: 1rem;\n",
       "  width: 1rem;\n",
       "  text-decoration: none;\n",
       "  /* unfitted */\n",
       "  color: var(--sklearn-color-unfitted-level-1);\n",
       "  border: var(--sklearn-color-unfitted-level-1) 1pt solid;\n",
       "}\n",
       "\n",
       "#sk-container-id-10 a.estimator_doc_link.fitted {\n",
       "  /* fitted */\n",
       "  border: var(--sklearn-color-fitted-level-1) 1pt solid;\n",
       "  color: var(--sklearn-color-fitted-level-1);\n",
       "}\n",
       "\n",
       "/* On hover */\n",
       "#sk-container-id-10 a.estimator_doc_link:hover {\n",
       "  /* unfitted */\n",
       "  background-color: var(--sklearn-color-unfitted-level-3);\n",
       "  color: var(--sklearn-color-background);\n",
       "  text-decoration: none;\n",
       "}\n",
       "\n",
       "#sk-container-id-10 a.estimator_doc_link.fitted:hover {\n",
       "  /* fitted */\n",
       "  background-color: var(--sklearn-color-fitted-level-3);\n",
       "}\n",
       "</style><div id=\"sk-container-id-10\" class=\"sk-top-container\"><div class=\"sk-text-repr-fallback\"><pre>DecisionTreeRegressor(max_leaf_nodes=15, min_samples_leaf=5, random_state=42)</pre><b>In a Jupyter environment, please rerun this cell to show the HTML representation or trust the notebook. <br />On GitHub, the HTML representation is unable to render, please try loading this page with nbviewer.org.</b></div><div class=\"sk-container\" hidden><div class=\"sk-item\"><div class=\"sk-estimator fitted sk-toggleable\"><input class=\"sk-toggleable__control sk-hidden--visually\" id=\"sk-estimator-id-10\" type=\"checkbox\" checked><label for=\"sk-estimator-id-10\" class=\"sk-toggleable__label fitted sk-toggleable__label-arrow fitted\">&nbsp;&nbsp;DecisionTreeRegressor<a class=\"sk-estimator-doc-link fitted\" rel=\"noreferrer\" target=\"_blank\" href=\"https://scikit-learn.org/1.5/modules/generated/sklearn.tree.DecisionTreeRegressor.html\">?<span>Documentation for DecisionTreeRegressor</span></a><span class=\"sk-estimator-doc-link fitted\">i<span>Fitted</span></span></label><div class=\"sk-toggleable__content fitted\"><pre>DecisionTreeRegressor(max_leaf_nodes=15, min_samples_leaf=5, random_state=42)</pre></div> </div></div></div></div>"
      ],
      "text/plain": [
       "DecisionTreeRegressor(max_leaf_nodes=15, min_samples_leaf=5, random_state=42)"
      ]
     },
     "execution_count": 380,
     "metadata": {},
     "output_type": "execute_result"
    }
   ],
   "source": [
    "tree = DecisionTreeRegressor(\n",
    "    max_leaf_nodes=15,\n",
    "    min_samples_leaf=5, \n",
    "    random_state=42\n",
    ")\n",
    "tree.fit(X, y)"
   ]
  },
  {
   "cell_type": "code",
   "execution_count": 381,
   "metadata": {},
   "outputs": [],
   "source": [
    "# Obter os pontos de corte da árvore\n",
    "thresholds = np.sort(tree.tree_.threshold[tree.tree_.threshold != -2])  # -2 é um valor padrão quando não há corte"
   ]
  },
  {
   "cell_type": "code",
   "execution_count": 382,
   "metadata": {},
   "outputs": [
    {
     "name": "stdout",
     "output_type": "stream",
     "text": [
      "14\n"
     ]
    },
    {
     "data": {
      "text/plain": [
       "array([  0. ,   0. ,   0.5,   0.5,   0.5,   3.5,   3.5,   6.5,   8.5,\n",
       "        11.5,  16.5,  35.5,  64.5, 180.5])"
      ]
     },
     "execution_count": 382,
     "metadata": {},
     "output_type": "execute_result"
    }
   ],
   "source": [
    "print(len(thresholds))\n",
    "thresholds"
   ]
  },
  {
   "cell_type": "code",
   "execution_count": 383,
   "metadata": {},
   "outputs": [
    {
     "data": {
      "text/plain": [
       "array([ -inf,   0. ,   0. ,   0.5,   0.5,   0.5,   3.5,   3.5,   6.5,\n",
       "         8.5,  11.5,  16.5,  35.5,  64.5, 180.5,   inf])"
      ]
     },
     "execution_count": 383,
     "metadata": {},
     "output_type": "execute_result"
    }
   ],
   "source": [
    "# Adicionar o valor mínimo e máximo para garantir que todos os valores de y estejam dentro das faixas\n",
    "bins = np.concatenate(([-np.inf], thresholds, [np.inf]))\n",
    "bins"
   ]
  },
  {
   "cell_type": "code",
   "execution_count": 384,
   "metadata": {},
   "outputs": [
    {
     "data": {
      "text/plain": [
       "FAIXA_QNT_MAT_BAS\n",
       "10                   83398\n",
       "9                    53131\n",
       "8                    18461\n",
       "7                    14540\n",
       "6                     4213\n",
       "5                     2302\n",
       "4                     1170\n",
       "3                      967\n",
       "2                      294\n",
       "Name: count, dtype: int64"
      ]
     },
     "execution_count": 384,
     "metadata": {},
     "output_type": "execute_result"
    }
   ],
   "source": [
    "# Criar a nova variável categórica\n",
    "df['FAIXA_QNT_MAT_BAS'] = pd.cut(\n",
    "    y.QT_MAT_BAS, \n",
    "    bins=bins, \n",
    "    duplicates='drop',\n",
    "    labels=False\n",
    ")\n",
    "df[['FAIXA_QNT_MAT_BAS']].value_counts(dropna = False)"
   ]
  },
  {
   "cell_type": "code",
   "execution_count": 385,
   "metadata": {},
   "outputs": [
    {
     "data": {
      "text/plain": [
       "array([ 9, 10,  8,  7,  5,  2,  6,  3,  4], dtype=int64)"
      ]
     },
     "execution_count": 385,
     "metadata": {},
     "output_type": "execute_result"
    }
   ],
   "source": [
    "df['FAIXA_QNT_MAT_BAS'].unique()"
   ]
  },
  {
   "cell_type": "code",
   "execution_count": 386,
   "metadata": {},
   "outputs": [
    {
     "name": "stdout",
     "output_type": "stream",
     "text": [
      "bin: 2 | min: 1.0 | max: 3.0\n",
      "bin: 3 | min: 4.0 | max: 6.0\n",
      "bin: 4 | min: 7.0 | max: 8.0\n",
      "bin: 5 | min: 9.0 | max: 11.0\n",
      "bin: 6 | min: 12.0 | max: 16.0\n",
      "bin: 7 | min: 17.0 | max: 35.0\n",
      "bin: 8 | min: 36.0 | max: 64.0\n",
      "bin: 9 | min: 65.0 | max: 180.0\n",
      "bin: 10 | min: 181.0 | max: 51791.0\n"
     ]
    }
   ],
   "source": [
    "for i in df['FAIXA_QNT_MAT_BAS'].sort_values().unique():\n",
    "    print(f\"bin: {i} | min: {df[df['FAIXA_QNT_MAT_BAS'] == i]['QT_MAT_BAS'].min()} | max: {df[df['FAIXA_QNT_MAT_BAS'] == i]['QT_MAT_BAS'].max()}\")"
   ]
  },
  {
   "cell_type": "markdown",
   "metadata": {},
   "source": [
    "### Geração do CSV"
   ]
  },
  {
   "cell_type": "code",
   "execution_count": null,
   "metadata": {},
   "outputs": [],
   "source": [
    "df.to_csv('censo_escolar_2023_mod.csv')"
   ]
  }
 ],
 "metadata": {
  "kernelspec": {
   "display_name": "venv_ccnews",
   "language": "python",
   "name": "python3"
  },
  "language_info": {
   "codemirror_mode": {
    "name": "ipython",
    "version": 3
   },
   "file_extension": ".py",
   "mimetype": "text/x-python",
   "name": "python",
   "nbconvert_exporter": "python",
   "pygments_lexer": "ipython3",
   "version": "3.10.12"
  }
 },
 "nbformat": 4,
 "nbformat_minor": 2
}
