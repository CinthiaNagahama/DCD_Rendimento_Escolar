{
 "cells": [
  {
   "cell_type": "markdown",
   "metadata": {},
   "source": [
    "# Censo Escolar 2023\n",
    "\n",
    "Análise dos dados de infraestrutura das escolas com o objetivo de entender o relacionamento entre a quantidade de matrículas na escola e sua infraestrutura"
   ]
  },
  {
   "cell_type": "markdown",
   "metadata": {},
   "source": [
    "Sugestão: Definir faixas de quantidade de alunos a partir de árvore de decisão e seguir com uma regressão logística multinomial para chegar na probabilidade da quantidade de alunos dentro de cada faixa"
   ]
  },
  {
   "cell_type": "markdown",
   "metadata": {},
   "source": [
    "## Setting Up"
   ]
  },
  {
   "cell_type": "code",
   "execution_count": 349,
   "metadata": {},
   "outputs": [],
   "source": [
    "import pandas as pd\n",
    "import numpy as np\n",
    "import seaborn as sns\n",
    "import matplotlib.pyplot as plt\n",
    "\n",
    "pd.set_option('display.max_columns', None)"
   ]
  },
  {
   "cell_type": "code",
   "execution_count": 350,
   "metadata": {},
   "outputs": [],
   "source": [
    "def basic_exploration(df: pd.DataFrame, col: str, type: str = 'binary'):\n",
    "    # BUG: prints e display não aparecem conforme estruturado na função\n",
    "    if(type in ['binary', 'category']):\n",
    "        print(\"\\nContagem de valores:\")\n",
    "        display(df[col].value_counts(dropna=False))\n",
    "\n",
    "    print(\"\\nQuantidade de valores ausentes\")\n",
    "    display(df[col].isna().value_counts(dropna=False))"
   ]
  },
  {
   "cell_type": "markdown",
   "metadata": {},
   "source": [
    "## Variáveis"
   ]
  },
  {
   "cell_type": "code",
   "execution_count": null,
   "metadata": {},
   "outputs": [],
   "source": [
    "cols = [\n",
    "'NO_ENTIDADE',\n",
    "'TP_DEPENDENCIA',\n",
    "'TP_CATEGORIA_ESCOLA_PRIVADA',\n",
    "'TP_LOCALIZACAO',\n",
    "'TP_LOCALIZACAO_DIFERENCIADA',\n",
    "'TP_SITUACAO_FUNCIONAMENTO',\n",
    "\n",
    "'IN_LOCAL_FUNC_PREDIO_ESCOLAR',\n",
    "'TP_OCUPACAO_PREDIO_ESCOLAR',\n",
    "'IN_LOCAL_FUNC_SOCIOEDUCATIVO',\n",
    "'IN_LOCAL_FUNC_UNID_PRISIONAL',\n",
    "'IN_LOCAL_FUNC_PRISIONAL_SOCIO',\n",
    "'IN_LOCAL_FUNC_GALPAO',\n",
    "'IN_LOCAL_FUNC_SALAS_OUTRA_ESC',\n",
    "'IN_LOCAL_FUNC_OUTROS',\n",
    "'IN_PREDIO_COMPARTILHADO',\n",
    "\n",
    "'IN_AGUA_POTAVEL',\n",
    "'IN_AGUA_REDE_PUBLICA',\n",
    "'IN_AGUA_POCO_ARTESIANO',\n",
    "'IN_AGUA_CACIMBA',\n",
    "'IN_AGUA_FONTE_RIO',\n",
    "'IN_AGUA_INEXISTENTE',\n",
    "\n",
    "'IN_ENERGIA_REDE_PUBLICA',\n",
    "'IN_ENERGIA_GERADOR_FOSSIL',\n",
    "'IN_ENERGIA_RENOVAVEL',\n",
    "'IN_ENERGIA_INEXISTENTE',\n",
    "\n",
    "'IN_ESGOTO_REDE_PUBLICA',\n",
    "'IN_ESGOTO_FOSSA_SEPTICA',\n",
    "'IN_ESGOTO_FOSSA_COMUM',\n",
    "'IN_ESGOTO_FOSSA',\n",
    "'IN_ESGOTO_INEXISTENTE',\n",
    "\n",
    "'IN_LIXO_SERVICO_COLETA',\n",
    "'IN_LIXO_QUEIMA',\n",
    "'IN_LIXO_ENTERRA',\n",
    "'IN_LIXO_DESTINO_FINAL_PUBLICO',\n",
    "'IN_LIXO_DESCARTA_OUTRA_AREA',\n",
    "\n",
    "'IN_ALMOXARIFADO',\n",
    "'IN_AREA_VERDE',\n",
    "'IN_AUDITORIO',\n",
    "'IN_BANHEIRO',\n",
    "'IN_BANHEIRO_EI',\n",
    "'IN_BANHEIRO_PNE',\n",
    "'IN_BANHEIRO_FUNCIONARIOS',\n",
    "'IN_BANHEIRO_CHUVEIRO',\n",
    "'IN_BIBLIOTECA',\n",
    "'IN_BIBLIOTECA_SALA_LEITURA',\n",
    "'IN_COZINHA',\n",
    "'IN_DESPENSA',\n",
    "'IN_DORMITORIO_ALUNO',\n",
    "'IN_DORMITORIO_PROFESSOR',\n",
    "'IN_LABORATORIO_CIENCIAS',\n",
    "'IN_LABORATORIO_INFORMATICA',\n",
    "'IN_LABORATORIO_EDUC_PROF',\n",
    "'IN_PATIO_COBERTO',\n",
    "'IN_PATIO_DESCOBERTO',\n",
    "'IN_PARQUE_INFANTIL',\n",
    "'IN_PISCINA',\n",
    "'IN_QUADRA_ESPORTES',\n",
    "'IN_QUADRA_ESPORTES_COBERTA',\n",
    "'IN_QUADRA_ESPORTES_DESCOBERTA',\n",
    "'IN_REFEITORIO',\n",
    "'IN_SALA_ATELIE_ARTES',\n",
    "'IN_SALA_MUSICA_CORAL',\n",
    "'IN_SALA_ESTUDIO_DANCA',\n",
    "'IN_SALA_MULTIUSO',\n",
    "'IN_SALA_ESTUDIO_GRAVACAO',\n",
    "'IN_SALA_OFICINAS_EDUC_PROF',\n",
    "'IN_SALA_DIRETORIA',\n",
    "'IN_SALA_LEITURA',\n",
    "'IN_SALA_PROFESSOR',\n",
    "'IN_SALA_REPOUSO_ALUNO',\n",
    "'IN_SECRETARIA',\n",
    "'IN_SALA_ATENDIMENTO_ESPECIAL',\n",
    "'IN_TERREIRAO',\n",
    "'IN_VIVEIRO',\n",
    "'IN_DEPENDENCIAS_OUTRAS',\n",
    "\n",
    "'IN_ACESSIBILIDADE_CORRIMAO',\n",
    "'IN_ACESSIBILIDADE_ELEVADOR',\n",
    "'IN_ACESSIBILIDADE_PISOS_TATEIS',\n",
    "'IN_ACESSIBILIDADE_VAO_LIVRE',\n",
    "'IN_ACESSIBILIDADE_RAMPAS',\n",
    "'IN_ACESSIBILIDADE_SINAL_SONORO',\n",
    "'IN_ACESSIBILIDADE_SINAL_TATIL',\n",
    "'IN_ACESSIBILIDADE_SINAL_VISUAL',\n",
    "'IN_ACESSIBILIDADE_INEXISTENTE',\n",
    "\n",
    "'QT_SALAS_UTILIZADAS_DENTRO',\n",
    "'QT_SALAS_UTILIZADAS_FORA',\n",
    "'QT_SALAS_UTILIZADAS',\n",
    "'QT_SALAS_UTILIZA_CLIMATIZADAS',\n",
    "'QT_SALAS_UTILIZADAS_ACESSIVEIS',\n",
    "\n",
    "'IN_EQUIP_PARABOLICA',\n",
    "'IN_COMPUTADOR',\n",
    "'IN_EQUIP_COPIADORA',\n",
    "'IN_EQUIP_IMPRESSORA',\n",
    "'IN_EQUIP_IMPRESSORA_MULT',\n",
    "'IN_EQUIP_SCANNER',\n",
    "\n",
    "'QT_EQUIP_DVD',\n",
    "'QT_EQUIP_SOM',\n",
    "'QT_EQUIP_TV',\n",
    "'QT_EQUIP_LOUSA_DIGITAL',\n",
    "'QT_EQUIP_MULTIMIDIA',\n",
    "'QT_DESKTOP_ALUNO',\n",
    "'QT_COMP_PORTATIL_ALUNO',\n",
    "'QT_TABLET_ALUNO',\n",
    "\n",
    "'IN_INTERNET',\n",
    "'IN_INTERNET_ALUNOS',\n",
    "'IN_INTERNET_ADMINISTRATIVO',\n",
    "'IN_INTERNET_APRENDIZAGEM',\n",
    "'IN_INTERNET_COMUNIDADE',\n",
    "'IN_ACESSO_INTERNET_COMPUTADOR',\n",
    "'IN_ACES_INTERNET_DISP_PESSOAIS',\n",
    "'TP_REDE_LOCAL',\n",
    "'IN_BANDA_LARGA',\n",
    "\n",
    "'CO_REGIAO',\n",
    "'CO_UF',\n",
    "\n",
    "'IN_EAD', # Utilizar no modelo final\n",
    "'QT_MAT_BAS'\n",
    "]\n",
    "\n",
    "len(cols)"
   ]
  },
  {
   "cell_type": "code",
   "execution_count": null,
   "metadata": {},
   "outputs": [],
   "source": [
    "cols_matriculas = [\n",
    "'QT_MAT_INF',\n",
    "'QT_MAT_INF_CRE',\n",
    "'QT_MAT_INF_PRE',\n",
    "'QT_MAT_FUND',\n",
    "'QT_MAT_FUND_AI',\n",
    "'QT_MAT_FUND_AI_1',\n",
    "'QT_MAT_FUND_AI_2',\n",
    "'QT_MAT_FUND_AI_3',\n",
    "'QT_MAT_FUND_AI_4',\n",
    "'QT_MAT_FUND_AI_5',\n",
    "'QT_MAT_FUND_AF',\n",
    "'QT_MAT_FUND_AF_6',\n",
    "'QT_MAT_FUND_AF_7',\n",
    "'QT_MAT_FUND_AF_8',\n",
    "'QT_MAT_FUND_AF_9',\n",
    "'QT_MAT_MED',\n",
    "'QT_MAT_MED_PROP',\n",
    "'QT_MAT_MED_PROP_1',\n",
    "'QT_MAT_MED_PROP_2',\n",
    "'QT_MAT_MED_PROP_3',\n",
    "'QT_MAT_MED_PROP_4',\n",
    "'QT_MAT_MED_PROP_NS',\n",
    "'QT_MAT_MED_CT',\n",
    "'QT_MAT_MED_CT_1',\n",
    "'QT_MAT_MED_CT_2',\n",
    "'QT_MAT_MED_CT_3',\n",
    "'QT_MAT_MED_CT_4',\n",
    "'QT_MAT_MED_CT_NS',\n",
    "'QT_MAT_MED_NM',\n",
    "'QT_MAT_MED_NM_1',\n",
    "'QT_MAT_MED_NM_2',\n",
    "'QT_MAT_MED_NM_3',\n",
    "'QT_MAT_MED_NM_4',\n",
    "'QT_MAT_PROF',\n",
    "'QT_MAT_PROF_TEC',\n",
    "'QT_MAT_PROF_TEC_CONC',\n",
    "'QT_MAT_PROF_TEC_SUBS',\n",
    "'QT_MAT_PROF_FIC_CONC',\n",
    "'QT_MAT_EJA',\n",
    "'QT_MAT_EJA_FUND',\n",
    "'QT_MAT_EJA_FUND_AI',\n",
    "'QT_MAT_EJA_FUND_AF',\n",
    "'QT_MAT_EJA_FUND_FIC',\n",
    "'QT_MAT_EJA_MED',\n",
    "'QT_MAT_EJA_MED_NPROF',\n",
    "'QT_MAT_EJA_MED_FIC',\n",
    "'QT_MAT_EJA_MED_TEC']\n",
    "\n",
    "len(cols_matriculas)"
   ]
  },
  {
   "cell_type": "markdown",
   "metadata": {},
   "source": [
    "## Região e UF"
   ]
  },
  {
   "cell_type": "code",
   "execution_count": null,
   "metadata": {},
   "outputs": [],
   "source": [
    "df_localizacao = pd.read_csv('data\\\\dados\\\\microdados_ed_basica_2023.csv', sep=';', encoding='ANSI')\n",
    "df_localizacao = df_localizacao[['CO_UF', 'SG_UF', 'CO_REGIAO', 'NO_REGIAO']].groupby('CO_UF', as_index = False).max()\n",
    "df_localizacao"
   ]
  },
  {
   "cell_type": "markdown",
   "metadata": {},
   "source": [
    "## Tratamento dos Dados"
   ]
  },
  {
   "cell_type": "code",
   "execution_count": null,
   "metadata": {},
   "outputs": [],
   "source": [
    "df = pd.read_csv('data\\\\dados\\\\microdados_ed_basica_2023.csv', sep=';', encoding='ANSI')\n",
    "df = df[cols + cols_matriculas]\n",
    "df.shape"
   ]
  },
  {
   "cell_type": "code",
   "execution_count": null,
   "metadata": {},
   "outputs": [],
   "source": [
    "# Mantendo apenas escolas em atividade\n",
    "df = df[df['TP_SITUACAO_FUNCIONAMENTO'] == 1]\n",
    "df.shape"
   ]
  },
  {
   "cell_type": "code",
   "execution_count": 356,
   "metadata": {},
   "outputs": [],
   "source": [
    "cols_remover = []"
   ]
  },
  {
   "cell_type": "markdown",
   "metadata": {},
   "source": [
    "### Localização da Escola"
   ]
  },
  {
   "cell_type": "markdown",
   "metadata": {},
   "source": [
    "#### Região"
   ]
  },
  {
   "cell_type": "code",
   "execution_count": null,
   "metadata": {},
   "outputs": [],
   "source": [
    "basic_exploration(df, 'CO_REGIAO', 'category')"
   ]
  },
  {
   "cell_type": "markdown",
   "metadata": {},
   "source": [
    "#### Estado"
   ]
  },
  {
   "cell_type": "code",
   "execution_count": null,
   "metadata": {},
   "outputs": [],
   "source": [
    "basic_exploration(df, 'CO_UF', 'category')"
   ]
  },
  {
   "cell_type": "markdown",
   "metadata": {},
   "source": [
    "### EAD"
   ]
  },
  {
   "cell_type": "code",
   "execution_count": null,
   "metadata": {},
   "outputs": [],
   "source": [
    "basic_exploration(df, 'IN_EAD')"
   ]
  },
  {
   "cell_type": "code",
   "execution_count": null,
   "metadata": {},
   "outputs": [],
   "source": [
    "df = df[df['IN_EAD'] == 0]\n",
    "df.shape"
   ]
  },
  {
   "cell_type": "code",
   "execution_count": null,
   "metadata": {},
   "outputs": [],
   "source": [
    "cols_remover += ['IN_EAD']\n",
    "cols_remover[-1]"
   ]
  },
  {
   "cell_type": "markdown",
   "metadata": {},
   "source": [
    "### Quantidade de Matrículas"
   ]
  },
  {
   "cell_type": "markdown",
   "metadata": {},
   "source": [
    "#### Educação Infantil - OK"
   ]
  },
  {
   "cell_type": "code",
   "execution_count": 362,
   "metadata": {},
   "outputs": [],
   "source": [
    "temp = ['QT_MAT_INF', 'QT_MAT_INF_CRE', 'QT_MAT_INF_PRE']"
   ]
  },
  {
   "cell_type": "code",
   "execution_count": null,
   "metadata": {},
   "outputs": [],
   "source": [
    "basic_exploration(df, 'QT_MAT_INF', 'numeric')"
   ]
  },
  {
   "cell_type": "code",
   "execution_count": null,
   "metadata": {},
   "outputs": [],
   "source": [
    "basic_exploration(df, 'QT_MAT_INF_CRE', 'numeric')"
   ]
  },
  {
   "cell_type": "code",
   "execution_count": null,
   "metadata": {},
   "outputs": [],
   "source": [
    "basic_exploration(df, 'QT_MAT_INF_PRE', 'numeric')"
   ]
  },
  {
   "cell_type": "code",
   "execution_count": null,
   "metadata": {},
   "outputs": [],
   "source": [
    "df[temp].isna().value_counts()"
   ]
  },
  {
   "cell_type": "code",
   "execution_count": null,
   "metadata": {},
   "outputs": [],
   "source": [
    "df[df['QT_MAT_INF'].isna()][['NO_ENTIDADE'] + temp]"
   ]
  },
  {
   "cell_type": "code",
   "execution_count": null,
   "metadata": {},
   "outputs": [],
   "source": [
    "df[(~df['QT_MAT_INF'].isna()) & (df['QT_MAT_INF'] != df[temp[1:]].sum(axis=1))][temp]"
   ]
  },
  {
   "cell_type": "markdown",
   "metadata": {},
   "source": [
    "#### Ensino Fundamental - OK"
   ]
  },
  {
   "cell_type": "code",
   "execution_count": 369,
   "metadata": {},
   "outputs": [],
   "source": [
    "temp = ['QT_MAT_FUND', \n",
    "        'QT_MAT_FUND_AI', 'QT_MAT_FUND_AI_1', 'QT_MAT_FUND_AI_2', 'QT_MAT_FUND_AI_3', 'QT_MAT_FUND_AI_4', 'QT_MAT_FUND_AI_5', \n",
    "        'QT_MAT_FUND_AF', 'QT_MAT_FUND_AF_6', 'QT_MAT_FUND_AF_7', 'QT_MAT_FUND_AF_8', 'QT_MAT_FUND_AF_9',]"
   ]
  },
  {
   "cell_type": "code",
   "execution_count": null,
   "metadata": {},
   "outputs": [],
   "source": [
    "for t in temp:\n",
    "    basic_exploration(df, t, 'numeric')"
   ]
  },
  {
   "cell_type": "code",
   "execution_count": null,
   "metadata": {},
   "outputs": [],
   "source": [
    "df[temp].isna().value_counts()"
   ]
  },
  {
   "cell_type": "code",
   "execution_count": null,
   "metadata": {},
   "outputs": [],
   "source": [
    "# Anos Iniciais\n",
    "df[(~df['QT_MAT_FUND_AI'].isna()) & (df['QT_MAT_FUND_AI'] != df[temp[2:7]].sum(axis=1))][temp[1:7]]"
   ]
  },
  {
   "cell_type": "code",
   "execution_count": null,
   "metadata": {},
   "outputs": [],
   "source": [
    "# Anos Finais\n",
    "df[(~df['QT_MAT_FUND_AF'].isna()) & (df['QT_MAT_FUND_AF'] != df[temp[8:]].sum(axis=1))][temp[7:]]"
   ]
  },
  {
   "cell_type": "code",
   "execution_count": null,
   "metadata": {},
   "outputs": [],
   "source": [
    "# Ensino Fundamental\n",
    "df[(~df['QT_MAT_FUND'].isna()) & (df['QT_MAT_FUND'] != df[['QT_MAT_FUND_AI', 'QT_MAT_FUND_AF']].sum(axis=1))][['QT_MAT_FUND', 'QT_MAT_FUND_AI', 'QT_MAT_FUND_AF']]"
   ]
  },
  {
   "cell_type": "markdown",
   "metadata": {},
   "source": [
    "#### Ensino Médio - OK"
   ]
  },
  {
   "cell_type": "code",
   "execution_count": 375,
   "metadata": {},
   "outputs": [],
   "source": [
    "temp = ['QT_MAT_MED', \n",
    "        'QT_MAT_MED_PROP', 'QT_MAT_MED_PROP_1', 'QT_MAT_MED_PROP_2', 'QT_MAT_MED_PROP_3', 'QT_MAT_MED_PROP_4', 'QT_MAT_MED_PROP_NS', \n",
    "        'QT_MAT_MED_CT', 'QT_MAT_MED_CT_1', 'QT_MAT_MED_CT_2', 'QT_MAT_MED_CT_3', 'QT_MAT_MED_CT_4', 'QT_MAT_MED_CT_NS', \n",
    "        'QT_MAT_MED_NM', 'QT_MAT_MED_NM_1', 'QT_MAT_MED_NM_2', 'QT_MAT_MED_NM_3', 'QT_MAT_MED_NM_4',]"
   ]
  },
  {
   "cell_type": "code",
   "execution_count": null,
   "metadata": {},
   "outputs": [],
   "source": [
    "for t in temp:\n",
    "    basic_exploration(df, t, 'numeric')"
   ]
  },
  {
   "cell_type": "code",
   "execution_count": null,
   "metadata": {},
   "outputs": [],
   "source": [
    "df[temp].isna().value_counts()"
   ]
  },
  {
   "cell_type": "code",
   "execution_count": null,
   "metadata": {},
   "outputs": [],
   "source": [
    "# Ensino Médio Propedêutico\n",
    "df[(~df['QT_MAT_MED_PROP'].isna()) & (df['QT_MAT_MED_PROP'] != df[temp[2:7]].sum(axis=1))][temp[1:7]]"
   ]
  },
  {
   "cell_type": "code",
   "execution_count": null,
   "metadata": {},
   "outputs": [],
   "source": [
    "# Ensino Médio Técnico Integrado\n",
    "df[(~df['QT_MAT_MED_CT'].isna()) & (df['QT_MAT_MED_CT'] != df[temp[8:13]].sum(axis=1))][temp[7:13]]"
   ]
  },
  {
   "cell_type": "code",
   "execution_count": null,
   "metadata": {},
   "outputs": [],
   "source": [
    "# Ensino Médio Normal\n",
    "df[(~df['QT_MAT_MED_NM'].isna()) & (df['QT_MAT_MED_NM'] != df[temp[14:]].sum(axis=1))][temp[13:]]"
   ]
  },
  {
   "cell_type": "code",
   "execution_count": null,
   "metadata": {},
   "outputs": [],
   "source": [
    "# Ensino Médio\n",
    "df[(\n",
    "    ~df['QT_MAT_MED'].isna()) & \n",
    "    (df['QT_MAT_MED'] != df[['QT_MAT_MED_PROP', 'QT_MAT_MED_CT', 'QT_MAT_MED_NM']].sum(axis=1))\n",
    "][['QT_MAT_MED', 'QT_MAT_MED_PROP', 'QT_MAT_MED_CT', 'QT_MAT_MED_NM']]"
   ]
  },
  {
   "cell_type": "markdown",
   "metadata": {},
   "source": [
    "#### Educação Profissional Técnica - NO\n",
    "\n",
    "O valor da possível coluna agregada não confere com os valores das colunas granulares"
   ]
  },
  {
   "cell_type": "code",
   "execution_count": 382,
   "metadata": {},
   "outputs": [],
   "source": [
    "temp = ['QT_MAT_PROF', \n",
    "        'QT_MAT_PROF_TEC', 'QT_MAT_PROF_TEC_CONC', 'QT_MAT_PROF_TEC_SUBS', 'QT_MAT_PROF_FIC_CONC',]"
   ]
  },
  {
   "cell_type": "code",
   "execution_count": null,
   "metadata": {},
   "outputs": [],
   "source": [
    "for t in temp:\n",
    "    basic_exploration(df, t, 'numeric')"
   ]
  },
  {
   "cell_type": "code",
   "execution_count": null,
   "metadata": {},
   "outputs": [],
   "source": [
    "df[temp].isna().value_counts()"
   ]
  },
  {
   "cell_type": "code",
   "execution_count": null,
   "metadata": {},
   "outputs": [],
   "source": [
    "# Educação Profissional Técnica\n",
    "df[(~df['QT_MAT_PROF_TEC'].isna()) & (df['QT_MAT_PROF_TEC'] != df[temp[2:]].sum(axis=1))][temp[1:]]"
   ]
  },
  {
   "cell_type": "code",
   "execution_count": null,
   "metadata": {},
   "outputs": [],
   "source": [
    "# Ensino Profissional\n",
    "df[(~df['QT_MAT_PROF'].isna()) & (df['QT_MAT_PROF'] != df[['QT_MAT_PROF_TEC']].sum(axis=1))][['QT_MAT_PROF', 'QT_MAT_PROF_TEC']]"
   ]
  },
  {
   "cell_type": "markdown",
   "metadata": {},
   "source": [
    "#### Educação de Jovens e Adultos - EJA - OK"
   ]
  },
  {
   "cell_type": "code",
   "execution_count": 387,
   "metadata": {},
   "outputs": [],
   "source": [
    "temp = ['QT_MAT_EJA', \n",
    "        'QT_MAT_EJA_FUND', 'QT_MAT_EJA_FUND_AI', 'QT_MAT_EJA_FUND_AF', 'QT_MAT_EJA_FUND_FIC', \n",
    "        'QT_MAT_EJA_MED', 'QT_MAT_EJA_MED_NPROF', 'QT_MAT_EJA_MED_FIC', 'QT_MAT_EJA_MED_TEC',]"
   ]
  },
  {
   "cell_type": "code",
   "execution_count": null,
   "metadata": {},
   "outputs": [],
   "source": [
    "for t in temp:\n",
    "    basic_exploration(df, t, 'numeric')"
   ]
  },
  {
   "cell_type": "code",
   "execution_count": null,
   "metadata": {},
   "outputs": [],
   "source": [
    "df[temp].isna().value_counts()"
   ]
  },
  {
   "cell_type": "code",
   "execution_count": null,
   "metadata": {},
   "outputs": [],
   "source": [
    "# EJA - Ensino Fundamental\n",
    "df[(~df['QT_MAT_EJA_FUND'].isna()) & (df['QT_MAT_EJA_FUND'] != df[temp[2:5]].sum(axis=1))][temp[1:5]]"
   ]
  },
  {
   "cell_type": "code",
   "execution_count": null,
   "metadata": {},
   "outputs": [],
   "source": [
    "# EJA - Ensino Médio\n",
    "df[(~df['QT_MAT_EJA_MED'].isna()) & (df['QT_MAT_EJA_MED'] != df[temp[6:]].sum(axis=1))][temp[5:]]"
   ]
  },
  {
   "cell_type": "code",
   "execution_count": null,
   "metadata": {},
   "outputs": [],
   "source": [
    "# EJA\n",
    "df[(~df['QT_MAT_EJA'].isna()) & (df['QT_MAT_EJA'] != df[['QT_MAT_EJA_FUND', 'QT_MAT_EJA_MED']].sum(axis=1))][['QT_MAT_EJA', 'QT_MAT_EJA_FUND', 'QT_MAT_EJA_MED']]"
   ]
  },
  {
   "cell_type": "markdown",
   "metadata": {},
   "source": [
    "#### Geral"
   ]
  },
  {
   "cell_type": "code",
   "execution_count": null,
   "metadata": {},
   "outputs": [],
   "source": [
    "basic_exploration(df, 'QT_MAT_BAS', 'numeric')"
   ]
  },
  {
   "cell_type": "code",
   "execution_count": null,
   "metadata": {},
   "outputs": [],
   "source": [
    "df[['QT_MAT_BAS']].describe()"
   ]
  },
  {
   "cell_type": "code",
   "execution_count": null,
   "metadata": {},
   "outputs": [],
   "source": [
    "df[['QT_MAT_BAS']].quantile([0.1 * i for i in range(11)])"
   ]
  },
  {
   "cell_type": "code",
   "execution_count": null,
   "metadata": {},
   "outputs": [],
   "source": [
    "sns.histplot(df[['QT_MAT_BAS']])"
   ]
  },
  {
   "cell_type": "code",
   "execution_count": null,
   "metadata": {},
   "outputs": [],
   "source": [
    "df[df['QT_MAT_BAS'] == 0].shape"
   ]
  },
  {
   "cell_type": "code",
   "execution_count": null,
   "metadata": {},
   "outputs": [],
   "source": [
    "temp = ['QT_MAT_INF', 'QT_MAT_FUND', 'QT_MAT_MED', 'QT_MAT_PROF', 'QT_MAT_EJA']\n",
    "\n",
    "# A grande maioria dos alunos se encontra em apenas uma categoria de ensino de cada vez\n",
    "display(df[(~df['QT_MAT_BAS'].isna()) & (df['QT_MAT_BAS'] == df[temp].sum(axis = 1))][['QT_MAT_BAS'] + temp].shape)\n",
    "\n",
    "# Porém, é possível assumir que um mesmo aluno possa estar em duas categorias de ensino ao mesmo tempo\n",
    "df_teste = df[(~df['QT_MAT_BAS'].isna()) & (df['QT_MAT_BAS'] < df[temp].sum(axis = 1))][['QT_MAT_BAS'] + temp]\n",
    "display(df_teste.shape)\n",
    "\n",
    "# O valor de QT_MAT_BAS não supera o valor do somatório das categorias de ensino, reforçando a teoria\n",
    "display(df[(~df['QT_MAT_BAS'].isna()) & (df['QT_MAT_BAS'] > df[temp].sum(axis = 1))][['QT_MAT_BAS'] + temp].shape)"
   ]
  },
  {
   "cell_type": "code",
   "execution_count": null,
   "metadata": {},
   "outputs": [],
   "source": [
    "df_teste"
   ]
  },
  {
   "cell_type": "code",
   "execution_count": null,
   "metadata": {},
   "outputs": [],
   "source": [
    "df.shape"
   ]
  },
  {
   "cell_type": "code",
   "execution_count": null,
   "metadata": {},
   "outputs": [],
   "source": [
    "cols_remover += cols_matriculas\n",
    "len(cols_remover)"
   ]
  },
  {
   "cell_type": "code",
   "execution_count": null,
   "metadata": {},
   "outputs": [],
   "source": [
    "# Removendo escolas com valor ausente na quantidade de matrículas\n",
    "df = df.dropna(subset=['QT_MAT_BAS'], ignore_index=True)\n",
    "df['QT_MAT_BAS'].isna().value_counts()"
   ]
  },
  {
   "cell_type": "code",
   "execution_count": null,
   "metadata": {},
   "outputs": [],
   "source": [
    "df[['NO_ENTIDADE', 'CO_UF', 'QT_MAT_BAS']].sort_values(by='QT_MAT_BAS', ascending=False).head(10)"
   ]
  },
  {
   "cell_type": "code",
   "execution_count": null,
   "metadata": {},
   "outputs": [],
   "source": [
    "df[df['QT_MAT_BAS'] == 1].shape"
   ]
  },
  {
   "cell_type": "markdown",
   "metadata": {},
   "source": [
    "### Tipo de Escola"
   ]
  },
  {
   "cell_type": "markdown",
   "metadata": {},
   "source": [
    "#### TP_DEPENDENCIA"
   ]
  },
  {
   "cell_type": "markdown",
   "metadata": {},
   "source": [
    "- 1 - Federal\n",
    "- 2 - Estadual\n",
    "- 3 - Municipal\n",
    "- 4 - Privada"
   ]
  },
  {
   "cell_type": "code",
   "execution_count": null,
   "metadata": {},
   "outputs": [],
   "source": [
    "basic_exploration(df, 'TP_DEPENDENCIA', 'category')"
   ]
  },
  {
   "cell_type": "markdown",
   "metadata": {},
   "source": [
    "#### TP_CATEGORIA_ESCOLA_PRIVADA"
   ]
  },
  {
   "cell_type": "markdown",
   "metadata": {},
   "source": [
    "- 1 - Particular\n",
    "- 2 - Comunitária\n",
    "- 3 - Confessional\n",
    "- 4 - Filantrópica\n",
    "\n",
    "\\* Não aplicável para escolas públicas"
   ]
  },
  {
   "cell_type": "code",
   "execution_count": null,
   "metadata": {},
   "outputs": [],
   "source": [
    "basic_exploration(df, 'TP_CATEGORIA_ESCOLA_PRIVADA', 'category')"
   ]
  },
  {
   "cell_type": "code",
   "execution_count": null,
   "metadata": {},
   "outputs": [],
   "source": [
    "df[(df['TP_DEPENDENCIA'] == 4) & (df['TP_CATEGORIA_ESCOLA_PRIVADA'].isna())]"
   ]
  },
  {
   "cell_type": "code",
   "execution_count": null,
   "metadata": {},
   "outputs": [],
   "source": [
    "df.loc[(df['TP_DEPENDENCIA'] < 4) & (df['TP_CATEGORIA_ESCOLA_PRIVADA'].isna()), 'TP_CATEGORIA_ESCOLA_PRIVADA'] = -1\n",
    "df['TP_CATEGORIA_ESCOLA_PRIVADA'].value_counts(dropna=False)"
   ]
  },
  {
   "cell_type": "markdown",
   "metadata": {},
   "source": [
    "### Local da Escola"
   ]
  },
  {
   "cell_type": "markdown",
   "metadata": {},
   "source": [
    "#### TP_LOCALIZACAO"
   ]
  },
  {
   "cell_type": "markdown",
   "metadata": {},
   "source": [
    "- 1 - Urbana\n",
    "- 2 - Rural"
   ]
  },
  {
   "cell_type": "code",
   "execution_count": null,
   "metadata": {},
   "outputs": [],
   "source": [
    "basic_exploration(df, 'TP_LOCALIZACAO', 'category')"
   ]
  },
  {
   "cell_type": "markdown",
   "metadata": {},
   "source": [
    "#### TP_LOCALIZACAO_DIFERENCIADA"
   ]
  },
  {
   "cell_type": "markdown",
   "metadata": {},
   "source": [
    "- 0 - A escola não está em área de localização diferenciada\n",
    "- 1 - Área de assentamento\n",
    "- 2 - Terra indígena\n",
    "- 3 - Área onde se localiza comunidade remanescente de quilombos\n",
    "- 8 - Área onde se localizam povos e comunidades tradicionais"
   ]
  },
  {
   "cell_type": "code",
   "execution_count": null,
   "metadata": {},
   "outputs": [],
   "source": [
    "basic_exploration(df, 'TP_LOCALIZACAO_DIFERENCIADA', 'category')"
   ]
  },
  {
   "cell_type": "markdown",
   "metadata": {},
   "source": [
    "#### IN_LOCAL_FUNC_PREDIO_ESCOLAR"
   ]
  },
  {
   "cell_type": "markdown",
   "metadata": {},
   "source": [
    "- 1 - Sim\n",
    "- 0 - Não\n"
   ]
  },
  {
   "cell_type": "code",
   "execution_count": null,
   "metadata": {},
   "outputs": [],
   "source": [
    "basic_exploration(df, 'IN_LOCAL_FUNC_PREDIO_ESCOLAR', 'binary')"
   ]
  },
  {
   "cell_type": "markdown",
   "metadata": {},
   "source": [
    "#### TP_OCUPACAO_PREDIO_ESCOLAR"
   ]
  },
  {
   "cell_type": "markdown",
   "metadata": {},
   "source": [
    "- 1 - Próprio\n",
    "- 2 - Alugado\n",
    "- 3 - Cedido\n",
    "\n",
    "\\* Não aplicável para escolas que não ocupam prédio escolar"
   ]
  },
  {
   "cell_type": "code",
   "execution_count": null,
   "metadata": {},
   "outputs": [],
   "source": [
    "basic_exploration(df, 'TP_OCUPACAO_PREDIO_ESCOLAR', 'category')"
   ]
  },
  {
   "cell_type": "code",
   "execution_count": null,
   "metadata": {},
   "outputs": [],
   "source": [
    "df[(df['TP_OCUPACAO_PREDIO_ESCOLAR'].isna()) & (df['IN_LOCAL_FUNC_PREDIO_ESCOLAR'] == 1)]"
   ]
  },
  {
   "cell_type": "code",
   "execution_count": null,
   "metadata": {},
   "outputs": [],
   "source": [
    "df.loc[df['IN_LOCAL_FUNC_PREDIO_ESCOLAR'] == 0, 'TP_OCUPACAO_PREDIO_ESCOLAR'] = -1\n",
    "df[['IN_LOCAL_FUNC_PREDIO_ESCOLAR', 'TP_OCUPACAO_PREDIO_ESCOLAR']].value_counts(dropna = False)"
   ]
  },
  {
   "cell_type": "markdown",
   "metadata": {},
   "source": [
    "#### IN_LOCAL_FUNC_SOCIOEDUCATIVO"
   ]
  },
  {
   "cell_type": "markdown",
   "metadata": {},
   "source": [
    "- 1 - Sim\n",
    "- 0 - Não"
   ]
  },
  {
   "cell_type": "code",
   "execution_count": null,
   "metadata": {},
   "outputs": [],
   "source": [
    "basic_exploration(df, 'IN_LOCAL_FUNC_SOCIOEDUCATIVO', 'binary')"
   ]
  },
  {
   "cell_type": "markdown",
   "metadata": {},
   "source": [
    "#### IN_LOCAL_FUNC_UNID_PRISIONAL"
   ]
  },
  {
   "cell_type": "markdown",
   "metadata": {},
   "source": [
    "- 1 - Sim\n",
    "- 0 - Não\n"
   ]
  },
  {
   "cell_type": "code",
   "execution_count": null,
   "metadata": {},
   "outputs": [],
   "source": [
    "basic_exploration(df, 'IN_LOCAL_FUNC_UNID_PRISIONAL', 'binary')"
   ]
  },
  {
   "cell_type": "markdown",
   "metadata": {},
   "source": [
    "#### IN_LOCAL_FUNC_PRISIONAL_SOCIO"
   ]
  },
  {
   "cell_type": "markdown",
   "metadata": {},
   "source": [
    "- 1 - Sim\n",
    "- 0 - Não\n"
   ]
  },
  {
   "cell_type": "code",
   "execution_count": null,
   "metadata": {},
   "outputs": [],
   "source": [
    "basic_exploration(df, 'IN_LOCAL_FUNC_PRISIONAL_SOCIO', 'binary')"
   ]
  },
  {
   "cell_type": "markdown",
   "metadata": {},
   "source": [
    "#### IN_LOCAL_FUNC_GALPAO"
   ]
  },
  {
   "cell_type": "markdown",
   "metadata": {},
   "source": [
    "- 1 - Sim\n",
    "- 0 - Não\n"
   ]
  },
  {
   "cell_type": "code",
   "execution_count": null,
   "metadata": {},
   "outputs": [],
   "source": [
    "basic_exploration(df, 'IN_LOCAL_FUNC_GALPAO', 'binary')"
   ]
  },
  {
   "cell_type": "markdown",
   "metadata": {},
   "source": [
    "#### IN_LOCAL_FUNC_SALAS_OUTRA_ESC"
   ]
  },
  {
   "cell_type": "markdown",
   "metadata": {},
   "source": [
    "- 1 - Sim\n",
    "- 0 - Não\n"
   ]
  },
  {
   "cell_type": "code",
   "execution_count": null,
   "metadata": {},
   "outputs": [],
   "source": [
    "basic_exploration(df, 'IN_LOCAL_FUNC_SALAS_OUTRA_ESC', 'binary')"
   ]
  },
  {
   "cell_type": "markdown",
   "metadata": {},
   "source": [
    "#### IN_LOCAL_FUNC_OUTROS"
   ]
  },
  {
   "cell_type": "markdown",
   "metadata": {},
   "source": [
    "- 1 - Sim\n",
    "- 0 - Não\n"
   ]
  },
  {
   "cell_type": "code",
   "execution_count": null,
   "metadata": {},
   "outputs": [],
   "source": [
    "basic_exploration(df, 'IN_LOCAL_FUNC_OUTROS', 'binary')"
   ]
  },
  {
   "cell_type": "markdown",
   "metadata": {},
   "source": [
    "#### IN_PREDIO_COMPARTILHADO"
   ]
  },
  {
   "cell_type": "markdown",
   "metadata": {},
   "source": [
    "- 0 - Não\n",
    "- 1 - Sim\n",
    "\n",
    "\\* Não aplicável para escolas que não ocupam prédio escolar"
   ]
  },
  {
   "cell_type": "code",
   "execution_count": null,
   "metadata": {},
   "outputs": [],
   "source": [
    "basic_exploration(df, 'IN_PREDIO_COMPARTILHADO', 'binary')"
   ]
  },
  {
   "cell_type": "code",
   "execution_count": null,
   "metadata": {},
   "outputs": [],
   "source": [
    "df[['IN_LOCAL_FUNC_PREDIO_ESCOLAR', 'TP_OCUPACAO_PREDIO_ESCOLAR', 'IN_PREDIO_COMPARTILHADO']].value_counts(dropna = False)"
   ]
  },
  {
   "cell_type": "code",
   "execution_count": null,
   "metadata": {},
   "outputs": [],
   "source": [
    "df.loc[df['IN_LOCAL_FUNC_PREDIO_ESCOLAR'] == 0, 'IN_PREDIO_COMPARTILHADO'] = -1\n",
    "df[['IN_LOCAL_FUNC_PREDIO_ESCOLAR', 'TP_OCUPACAO_PREDIO_ESCOLAR', 'IN_PREDIO_COMPARTILHADO']].value_counts(dropna = False)"
   ]
  },
  {
   "cell_type": "markdown",
   "metadata": {},
   "source": [
    "### Abastecimento de Água"
   ]
  },
  {
   "cell_type": "markdown",
   "metadata": {},
   "source": [
    "#### IN_AGUA_POTAVEL"
   ]
  },
  {
   "cell_type": "markdown",
   "metadata": {},
   "source": [
    "- 1 - Sim\n",
    "- 0 - Não\n"
   ]
  },
  {
   "cell_type": "code",
   "execution_count": null,
   "metadata": {},
   "outputs": [],
   "source": [
    "basic_exploration(df, 'IN_AGUA_POTAVEL', 'binary')"
   ]
  },
  {
   "cell_type": "markdown",
   "metadata": {},
   "source": [
    "#### IN_AGUA_REDE_PUBLICA"
   ]
  },
  {
   "cell_type": "markdown",
   "metadata": {},
   "source": [
    "- 1 - Sim\n",
    "- 0 - Não\n"
   ]
  },
  {
   "cell_type": "code",
   "execution_count": null,
   "metadata": {},
   "outputs": [],
   "source": [
    "basic_exploration(df, 'IN_AGUA_REDE_PUBLICA', 'binary')"
   ]
  },
  {
   "cell_type": "markdown",
   "metadata": {},
   "source": [
    "#### IN_AGUA_POCO_ARTESIANO"
   ]
  },
  {
   "cell_type": "markdown",
   "metadata": {},
   "source": [
    "- 1 - Sim\n",
    "- 0 - Não\n"
   ]
  },
  {
   "cell_type": "code",
   "execution_count": null,
   "metadata": {},
   "outputs": [],
   "source": [
    "basic_exploration(df, 'IN_AGUA_POCO_ARTESIANO', 'binary')"
   ]
  },
  {
   "cell_type": "markdown",
   "metadata": {},
   "source": [
    "#### IN_AGUA_CACIMBA"
   ]
  },
  {
   "cell_type": "markdown",
   "metadata": {},
   "source": [
    "- 1 - Sim\n",
    "- 0 - Não\n"
   ]
  },
  {
   "cell_type": "code",
   "execution_count": null,
   "metadata": {},
   "outputs": [],
   "source": [
    "basic_exploration(df, 'IN_AGUA_CACIMBA', 'binary')"
   ]
  },
  {
   "cell_type": "markdown",
   "metadata": {},
   "source": [
    "#### IN_AGUA_FONTE_RIO"
   ]
  },
  {
   "cell_type": "markdown",
   "metadata": {},
   "source": [
    "- 1 - Sim\n",
    "- 0 - Não\n"
   ]
  },
  {
   "cell_type": "code",
   "execution_count": null,
   "metadata": {},
   "outputs": [],
   "source": [
    "basic_exploration(df, 'IN_AGUA_FONTE_RIO', 'binary')"
   ]
  },
  {
   "cell_type": "markdown",
   "metadata": {},
   "source": [
    "#### IN_AGUA_INEXISTENTE"
   ]
  },
  {
   "cell_type": "markdown",
   "metadata": {},
   "source": [
    "- 1 - Sim\n",
    "- 0 - Não\n"
   ]
  },
  {
   "cell_type": "code",
   "execution_count": null,
   "metadata": {},
   "outputs": [],
   "source": [
    "basic_exploration(df, 'IN_AGUA_INEXISTENTE', 'binary')"
   ]
  },
  {
   "cell_type": "markdown",
   "metadata": {},
   "source": [
    "#### Comparação"
   ]
  },
  {
   "cell_type": "code",
   "execution_count": null,
   "metadata": {},
   "outputs": [],
   "source": [
    "cols_agua = ['IN_AGUA_POTAVEL', 'IN_AGUA_REDE_PUBLICA', 'IN_AGUA_POCO_ARTESIANO', 'IN_AGUA_CACIMBA', 'IN_AGUA_FONTE_RIO', 'IN_AGUA_INEXISTENTE']\n",
    "\n",
    "df[cols_agua].value_counts(dropna = False)"
   ]
  },
  {
   "cell_type": "markdown",
   "metadata": {},
   "source": [
    "### Abastecimento de Energia Elétrica"
   ]
  },
  {
   "cell_type": "markdown",
   "metadata": {},
   "source": [
    "#### IN_ENERGIA_REDE_PUBLICA"
   ]
  },
  {
   "cell_type": "markdown",
   "metadata": {},
   "source": [
    "- 1 - Sim\n",
    "- 0 - Não\n"
   ]
  },
  {
   "cell_type": "code",
   "execution_count": null,
   "metadata": {},
   "outputs": [],
   "source": [
    "basic_exploration(df, 'IN_ENERGIA_REDE_PUBLICA', 'binary')"
   ]
  },
  {
   "cell_type": "markdown",
   "metadata": {},
   "source": [
    "#### IN_ENERGIA_GERADOR_FOSSIL"
   ]
  },
  {
   "cell_type": "markdown",
   "metadata": {},
   "source": [
    "- 1 - Sim\n",
    "- 0 - Não\n"
   ]
  },
  {
   "cell_type": "code",
   "execution_count": null,
   "metadata": {},
   "outputs": [],
   "source": [
    "basic_exploration(df, 'IN_ENERGIA_GERADOR_FOSSIL', 'binary')"
   ]
  },
  {
   "cell_type": "markdown",
   "metadata": {},
   "source": [
    "#### IN_ENERGIA_RENOVAVEL"
   ]
  },
  {
   "cell_type": "markdown",
   "metadata": {},
   "source": [
    "- 1 - Sim\n",
    "- 0 - Não\n"
   ]
  },
  {
   "cell_type": "code",
   "execution_count": null,
   "metadata": {},
   "outputs": [],
   "source": [
    "basic_exploration(df, 'IN_ENERGIA_RENOVAVEL', 'binary')"
   ]
  },
  {
   "cell_type": "markdown",
   "metadata": {},
   "source": [
    "#### IN_ENERGIA_INEXISTENTE"
   ]
  },
  {
   "cell_type": "markdown",
   "metadata": {},
   "source": [
    "- 1 - Sim\n",
    "- 0 - Não\n"
   ]
  },
  {
   "cell_type": "code",
   "execution_count": null,
   "metadata": {},
   "outputs": [],
   "source": [
    "basic_exploration(df, 'IN_ENERGIA_INEXISTENTE', 'binary')"
   ]
  },
  {
   "cell_type": "markdown",
   "metadata": {},
   "source": [
    "#### Comparação"
   ]
  },
  {
   "cell_type": "code",
   "execution_count": null,
   "metadata": {},
   "outputs": [],
   "source": [
    "cols_agua = ['IN_ENERGIA_REDE_PUBLICA', 'IN_ENERGIA_GERADOR_FOSSIL', 'IN_ENERGIA_RENOVAVEL', 'IN_ENERGIA_INEXISTENTE']\n",
    "\n",
    "df[cols_agua].value_counts(dropna = False)"
   ]
  },
  {
   "cell_type": "markdown",
   "metadata": {},
   "source": [
    "### Esgoto Sanitário"
   ]
  },
  {
   "cell_type": "markdown",
   "metadata": {},
   "source": [
    "#### IN_ESGOTO_REDE_PUBLICA"
   ]
  },
  {
   "cell_type": "markdown",
   "metadata": {},
   "source": [
    "- 1 - Sim\n",
    "- 0 - Não\n"
   ]
  },
  {
   "cell_type": "code",
   "execution_count": null,
   "metadata": {},
   "outputs": [],
   "source": [
    "basic_exploration(df, 'IN_ESGOTO_REDE_PUBLICA', 'binary')"
   ]
  },
  {
   "cell_type": "markdown",
   "metadata": {},
   "source": [
    "#### IN_ESGOTO_FOSSA_SEPTICA"
   ]
  },
  {
   "cell_type": "markdown",
   "metadata": {},
   "source": [
    "- 1 - Sim\n",
    "- 0 - Não\n"
   ]
  },
  {
   "cell_type": "code",
   "execution_count": null,
   "metadata": {},
   "outputs": [],
   "source": [
    "basic_exploration(df, 'IN_ESGOTO_FOSSA_SEPTICA', 'binary')"
   ]
  },
  {
   "cell_type": "markdown",
   "metadata": {},
   "source": [
    "#### IN_ESGOTO_FOSSA_COMUM"
   ]
  },
  {
   "cell_type": "markdown",
   "metadata": {},
   "source": [
    "- 1 - Sim\n",
    "- 0 - Não\n"
   ]
  },
  {
   "cell_type": "code",
   "execution_count": null,
   "metadata": {},
   "outputs": [],
   "source": [
    "basic_exploration(df, 'IN_ESGOTO_FOSSA_COMUM', 'binary')"
   ]
  },
  {
   "cell_type": "markdown",
   "metadata": {},
   "source": [
    "#### IN_ESGOTO_FOSSA"
   ]
  },
  {
   "cell_type": "markdown",
   "metadata": {},
   "source": [
    "- 1 - Sim\n",
    "- 0 - Não\n"
   ]
  },
  {
   "cell_type": "code",
   "execution_count": null,
   "metadata": {},
   "outputs": [],
   "source": [
    "basic_exploration(df, 'IN_ESGOTO_FOSSA', 'binary')"
   ]
  },
  {
   "cell_type": "code",
   "execution_count": null,
   "metadata": {},
   "outputs": [],
   "source": [
    "cols_remover += ['IN_ESGOTO_FOSSA']\n",
    "cols_remover[-1]"
   ]
  },
  {
   "cell_type": "markdown",
   "metadata": {},
   "source": [
    "#### IN_ESGOTO_INEXISTENTE"
   ]
  },
  {
   "cell_type": "markdown",
   "metadata": {},
   "source": [
    "- 1 - Sim\n",
    "- 0 - Não\n"
   ]
  },
  {
   "cell_type": "code",
   "execution_count": null,
   "metadata": {},
   "outputs": [],
   "source": [
    "basic_exploration(df, 'IN_ESGOTO_INEXISTENTE', 'binary')"
   ]
  },
  {
   "cell_type": "markdown",
   "metadata": {},
   "source": [
    "#### Comparação"
   ]
  },
  {
   "cell_type": "code",
   "execution_count": null,
   "metadata": {},
   "outputs": [],
   "source": [
    "cols_esgoto = ['IN_ESGOTO_REDE_PUBLICA', 'IN_ESGOTO_FOSSA_SEPTICA', 'IN_ESGOTO_FOSSA_COMUM', 'IN_ESGOTO_FOSSA', 'IN_ESGOTO_INEXISTENTE']\n",
    "\n",
    "df[cols_esgoto].value_counts(dropna = False)"
   ]
  },
  {
   "cell_type": "markdown",
   "metadata": {},
   "source": [
    "### Destinação do Lixo"
   ]
  },
  {
   "cell_type": "markdown",
   "metadata": {},
   "source": [
    "#### IN_LIXO_SERVICO_COLETA"
   ]
  },
  {
   "cell_type": "markdown",
   "metadata": {},
   "source": [
    "- 1 - Sim\n",
    "- 0 - Não\n"
   ]
  },
  {
   "cell_type": "code",
   "execution_count": null,
   "metadata": {},
   "outputs": [],
   "source": [
    "basic_exploration(df, 'IN_LIXO_SERVICO_COLETA', 'binary')"
   ]
  },
  {
   "cell_type": "markdown",
   "metadata": {},
   "source": [
    "#### IN_LIXO_QUEIMA"
   ]
  },
  {
   "cell_type": "markdown",
   "metadata": {},
   "source": [
    "- 1 - Sim\n",
    "- 0 - Não\n"
   ]
  },
  {
   "cell_type": "code",
   "execution_count": null,
   "metadata": {},
   "outputs": [],
   "source": [
    "basic_exploration(df, 'IN_LIXO_QUEIMA', 'binary')"
   ]
  },
  {
   "cell_type": "markdown",
   "metadata": {},
   "source": [
    "#### IN_LIXO_ENTERRA"
   ]
  },
  {
   "cell_type": "markdown",
   "metadata": {},
   "source": [
    "- 1 - Sim\n",
    "- 0 - Não\n"
   ]
  },
  {
   "cell_type": "code",
   "execution_count": null,
   "metadata": {},
   "outputs": [],
   "source": [
    "basic_exploration(df, 'IN_LIXO_ENTERRA', 'binary')"
   ]
  },
  {
   "cell_type": "markdown",
   "metadata": {},
   "source": [
    "#### IN_LIXO_DESTINO_FINAL_PUBLICO"
   ]
  },
  {
   "cell_type": "markdown",
   "metadata": {},
   "source": [
    "- 1 - Sim\n",
    "- 0 - Não\n"
   ]
  },
  {
   "cell_type": "code",
   "execution_count": null,
   "metadata": {},
   "outputs": [],
   "source": [
    "basic_exploration(df, 'IN_LIXO_DESTINO_FINAL_PUBLICO', 'binary')"
   ]
  },
  {
   "cell_type": "markdown",
   "metadata": {},
   "source": [
    "#### IN_LIXO_DESCARTA_OUTRA_AREA"
   ]
  },
  {
   "cell_type": "markdown",
   "metadata": {},
   "source": [
    "- 1 - Sim\n",
    "- 0 - Não\n"
   ]
  },
  {
   "cell_type": "code",
   "execution_count": null,
   "metadata": {},
   "outputs": [],
   "source": [
    "basic_exploration(df, 'IN_LIXO_DESCARTA_OUTRA_AREA', 'binary')"
   ]
  },
  {
   "cell_type": "markdown",
   "metadata": {},
   "source": [
    "#### Comparação"
   ]
  },
  {
   "cell_type": "code",
   "execution_count": null,
   "metadata": {},
   "outputs": [],
   "source": [
    "cols_lixo = ['IN_LIXO_SERVICO_COLETA', 'IN_LIXO_QUEIMA', 'IN_LIXO_ENTERRA', 'IN_LIXO_DESTINO_FINAL_PUBLICO', 'IN_LIXO_DESCARTA_OUTRA_AREA']\n",
    "\n",
    "df[cols_lixo].value_counts(dropna = False)"
   ]
  },
  {
   "cell_type": "markdown",
   "metadata": {},
   "source": [
    "### Dependências Físicas Existentes e Utilizadas na Escola"
   ]
  },
  {
   "cell_type": "markdown",
   "metadata": {},
   "source": [
    "#### IN_ALMOXARIFADO"
   ]
  },
  {
   "cell_type": "markdown",
   "metadata": {},
   "source": [
    "- 1 - Sim\n",
    "- 0 - Não\n"
   ]
  },
  {
   "cell_type": "code",
   "execution_count": null,
   "metadata": {},
   "outputs": [],
   "source": [
    "basic_exploration(df, 'IN_ALMOXARIFADO', 'binary')"
   ]
  },
  {
   "cell_type": "markdown",
   "metadata": {},
   "source": [
    "#### IN_AREA_VERDE"
   ]
  },
  {
   "cell_type": "markdown",
   "metadata": {},
   "source": [
    "- 1 - Sim\n",
    "- 0 - Não\n"
   ]
  },
  {
   "cell_type": "code",
   "execution_count": null,
   "metadata": {},
   "outputs": [],
   "source": [
    "basic_exploration(df, 'IN_AREA_VERDE', 'binary')"
   ]
  },
  {
   "cell_type": "markdown",
   "metadata": {},
   "source": [
    "#### IN_AUDITORIO"
   ]
  },
  {
   "cell_type": "markdown",
   "metadata": {},
   "source": [
    "- 1 - Sim\n",
    "- 0 - Não\n"
   ]
  },
  {
   "cell_type": "code",
   "execution_count": null,
   "metadata": {},
   "outputs": [],
   "source": [
    "basic_exploration(df, 'IN_AUDITORIO', 'binary')"
   ]
  },
  {
   "cell_type": "markdown",
   "metadata": {},
   "source": [
    "#### IN_BANHEIRO"
   ]
  },
  {
   "cell_type": "markdown",
   "metadata": {},
   "source": [
    "- 1 - Sim\n",
    "- 0 - Não\n"
   ]
  },
  {
   "cell_type": "code",
   "execution_count": null,
   "metadata": {},
   "outputs": [],
   "source": [
    "basic_exploration(df, 'IN_BANHEIRO', 'binary')"
   ]
  },
  {
   "cell_type": "code",
   "execution_count": null,
   "metadata": {},
   "outputs": [],
   "source": []
  },
  {
   "cell_type": "markdown",
   "metadata": {},
   "source": [
    "#### IN_BANHEIRO_EI"
   ]
  },
  {
   "cell_type": "markdown",
   "metadata": {},
   "source": [
    "- 1 - Sim\n",
    "- 0 - Não\n"
   ]
  },
  {
   "cell_type": "code",
   "execution_count": null,
   "metadata": {},
   "outputs": [],
   "source": [
    "basic_exploration(df, 'IN_BANHEIRO_EI', 'binary')"
   ]
  },
  {
   "cell_type": "markdown",
   "metadata": {},
   "source": [
    "#### IN_BANHEIRO_PNE"
   ]
  },
  {
   "cell_type": "markdown",
   "metadata": {},
   "source": [
    "- 1 - Sim\n",
    "- 0 - Não\n"
   ]
  },
  {
   "cell_type": "code",
   "execution_count": null,
   "metadata": {},
   "outputs": [],
   "source": [
    "basic_exploration(df, 'IN_BANHEIRO_PNE', 'binary')"
   ]
  },
  {
   "cell_type": "markdown",
   "metadata": {},
   "source": [
    "#### IN_BANHEIRO_FUNCIONARIOS"
   ]
  },
  {
   "cell_type": "markdown",
   "metadata": {},
   "source": [
    "- 1 - Sim\n",
    "- 0 - Não\n"
   ]
  },
  {
   "cell_type": "code",
   "execution_count": null,
   "metadata": {},
   "outputs": [],
   "source": [
    "basic_exploration(df, 'IN_BANHEIRO_FUNCIONARIOS', 'binary')"
   ]
  },
  {
   "cell_type": "markdown",
   "metadata": {},
   "source": [
    "#### IN_BANHEIRO_CHUVEIRO"
   ]
  },
  {
   "cell_type": "markdown",
   "metadata": {},
   "source": [
    "- 1 - Sim\n",
    "- 0 - Não\n"
   ]
  },
  {
   "cell_type": "code",
   "execution_count": null,
   "metadata": {},
   "outputs": [],
   "source": [
    "basic_exploration(df, 'IN_BANHEIRO_CHUVEIRO', 'binary')"
   ]
  },
  {
   "cell_type": "markdown",
   "metadata": {},
   "source": [
    "#### IN_BIBLIOTECA"
   ]
  },
  {
   "cell_type": "markdown",
   "metadata": {},
   "source": [
    "- 1 - Sim\n",
    "- 0 - Não\n"
   ]
  },
  {
   "cell_type": "code",
   "execution_count": null,
   "metadata": {},
   "outputs": [],
   "source": [
    "basic_exploration(df, 'IN_BIBLIOTECA', 'binary')"
   ]
  },
  {
   "cell_type": "markdown",
   "metadata": {},
   "source": [
    "#### IN_BIBLIOTECA_SALA_LEITURA -> Remover"
   ]
  },
  {
   "cell_type": "markdown",
   "metadata": {},
   "source": [
    "- 1 - Sim\n",
    "- 0 - Não\n"
   ]
  },
  {
   "cell_type": "code",
   "execution_count": null,
   "metadata": {},
   "outputs": [],
   "source": [
    "basic_exploration(df, 'IN_BIBLIOTECA_SALA_LEITURA', 'binary')"
   ]
  },
  {
   "cell_type": "markdown",
   "metadata": {},
   "source": [
    "#### IN_COZINHA"
   ]
  },
  {
   "cell_type": "markdown",
   "metadata": {},
   "source": [
    "- 1 - Sim\n",
    "- 0 - Não\n"
   ]
  },
  {
   "cell_type": "code",
   "execution_count": null,
   "metadata": {},
   "outputs": [],
   "source": [
    "basic_exploration(df, 'IN_COZINHA', 'binary')"
   ]
  },
  {
   "cell_type": "markdown",
   "metadata": {},
   "source": [
    "#### IN_DESPENSA"
   ]
  },
  {
   "cell_type": "markdown",
   "metadata": {},
   "source": [
    "- 1 - Sim\n",
    "- 0 - Não\n"
   ]
  },
  {
   "cell_type": "code",
   "execution_count": null,
   "metadata": {},
   "outputs": [],
   "source": [
    "basic_exploration(df, 'IN_DESPENSA', 'binary')"
   ]
  },
  {
   "cell_type": "markdown",
   "metadata": {},
   "source": [
    "#### IN_DORMITORIO_ALUNO"
   ]
  },
  {
   "cell_type": "markdown",
   "metadata": {},
   "source": [
    "- 1 - Sim\n",
    "- 0 - Não\n"
   ]
  },
  {
   "cell_type": "code",
   "execution_count": null,
   "metadata": {},
   "outputs": [],
   "source": [
    "basic_exploration(df, 'IN_DORMITORIO_ALUNO', 'binary')"
   ]
  },
  {
   "cell_type": "markdown",
   "metadata": {},
   "source": [
    "#### IN_DORMITORIO_PROFESSOR"
   ]
  },
  {
   "cell_type": "markdown",
   "metadata": {},
   "source": [
    "- 1 - Sim\n",
    "- 0 - Não\n"
   ]
  },
  {
   "cell_type": "code",
   "execution_count": null,
   "metadata": {},
   "outputs": [],
   "source": [
    "basic_exploration(df, 'IN_DORMITORIO_PROFESSOR', 'binary')"
   ]
  },
  {
   "cell_type": "markdown",
   "metadata": {},
   "source": [
    "#### IN_LABORATORIO_CIENCIAS"
   ]
  },
  {
   "cell_type": "markdown",
   "metadata": {},
   "source": [
    "- 1 - Sim\n",
    "- 0 - Não\n"
   ]
  },
  {
   "cell_type": "code",
   "execution_count": null,
   "metadata": {},
   "outputs": [],
   "source": [
    "basic_exploration(df, 'IN_LABORATORIO_CIENCIAS', 'binary')"
   ]
  },
  {
   "cell_type": "markdown",
   "metadata": {},
   "source": [
    "#### IN_LABORATORIO_INFORMATICA"
   ]
  },
  {
   "cell_type": "markdown",
   "metadata": {},
   "source": [
    "- 1 - Sim\n",
    "- 0 - Não\n"
   ]
  },
  {
   "cell_type": "code",
   "execution_count": null,
   "metadata": {},
   "outputs": [],
   "source": [
    "basic_exploration(df, 'IN_LABORATORIO_INFORMATICA', 'binary')"
   ]
  },
  {
   "cell_type": "markdown",
   "metadata": {},
   "source": [
    "#### IN_LABORATORIO_EDUC_PROF"
   ]
  },
  {
   "cell_type": "markdown",
   "metadata": {},
   "source": [
    "- 1 - Sim\n",
    "- 0 - Não\n"
   ]
  },
  {
   "cell_type": "code",
   "execution_count": null,
   "metadata": {},
   "outputs": [],
   "source": [
    "basic_exploration(df, 'IN_LABORATORIO_EDUC_PROF', 'binary')"
   ]
  },
  {
   "cell_type": "markdown",
   "metadata": {},
   "source": [
    "#### IN_PATIO_COBERTO"
   ]
  },
  {
   "cell_type": "markdown",
   "metadata": {},
   "source": [
    "- 1 - Sim\n",
    "- 0 - Não\n"
   ]
  },
  {
   "cell_type": "code",
   "execution_count": null,
   "metadata": {},
   "outputs": [],
   "source": [
    "basic_exploration(df, 'IN_PATIO_COBERTO', 'binary')"
   ]
  },
  {
   "cell_type": "markdown",
   "metadata": {},
   "source": [
    "#### IN_PATIO_DESCOBERTO"
   ]
  },
  {
   "cell_type": "markdown",
   "metadata": {},
   "source": [
    "- 1 - Sim\n",
    "- 0 - Não\n"
   ]
  },
  {
   "cell_type": "code",
   "execution_count": null,
   "metadata": {},
   "outputs": [],
   "source": [
    "basic_exploration(df, 'IN_PATIO_DESCOBERTO', 'binary')"
   ]
  },
  {
   "cell_type": "markdown",
   "metadata": {},
   "source": [
    "#### IN_PARQUE_INFANTIL"
   ]
  },
  {
   "cell_type": "markdown",
   "metadata": {},
   "source": [
    "- 1 - Sim\n",
    "- 0 - Não\n"
   ]
  },
  {
   "cell_type": "code",
   "execution_count": null,
   "metadata": {},
   "outputs": [],
   "source": [
    "basic_exploration(df, 'IN_PARQUE_INFANTIL', 'binary')"
   ]
  },
  {
   "cell_type": "markdown",
   "metadata": {},
   "source": [
    "#### IN_PISCINA"
   ]
  },
  {
   "cell_type": "markdown",
   "metadata": {},
   "source": [
    "- 1 - Sim\n",
    "- 0 - Não\n"
   ]
  },
  {
   "cell_type": "code",
   "execution_count": null,
   "metadata": {},
   "outputs": [],
   "source": [
    "basic_exploration(df, 'IN_PISCINA', 'binary')"
   ]
  },
  {
   "cell_type": "markdown",
   "metadata": {},
   "source": [
    "#### IN_QUADRA_ESPORTES"
   ]
  },
  {
   "cell_type": "markdown",
   "metadata": {},
   "source": [
    "- 1 - Sim\n",
    "- 0 - Não\n"
   ]
  },
  {
   "cell_type": "code",
   "execution_count": null,
   "metadata": {},
   "outputs": [],
   "source": [
    "basic_exploration(df, 'IN_QUADRA_ESPORTES', 'binary')"
   ]
  },
  {
   "cell_type": "code",
   "execution_count": null,
   "metadata": {},
   "outputs": [],
   "source": [
    "cols_remover += ['IN_QUADRA_ESPORTES']\n",
    "cols_remover[-1]"
   ]
  },
  {
   "cell_type": "markdown",
   "metadata": {},
   "source": [
    "#### IN_QUADRA_ESPORTES_COBERTA"
   ]
  },
  {
   "cell_type": "markdown",
   "metadata": {},
   "source": [
    "- 1 - Sim\n",
    "- 0 - Não\n"
   ]
  },
  {
   "cell_type": "code",
   "execution_count": null,
   "metadata": {},
   "outputs": [],
   "source": [
    "basic_exploration(df, 'IN_QUADRA_ESPORTES_COBERTA', 'binary')"
   ]
  },
  {
   "cell_type": "markdown",
   "metadata": {},
   "source": [
    "#### IN_QUADRA_ESPORTES_DESCOBERTA"
   ]
  },
  {
   "cell_type": "markdown",
   "metadata": {},
   "source": [
    "- 1 - Sim\n",
    "- 0 - Não\n"
   ]
  },
  {
   "cell_type": "code",
   "execution_count": null,
   "metadata": {},
   "outputs": [],
   "source": [
    "basic_exploration(df, 'IN_QUADRA_ESPORTES_DESCOBERTA', 'binary')"
   ]
  },
  {
   "cell_type": "markdown",
   "metadata": {},
   "source": [
    "#### IN_REFEITORIO"
   ]
  },
  {
   "cell_type": "markdown",
   "metadata": {},
   "source": [
    "- 1 - Sim\n",
    "- 0 - Não\n"
   ]
  },
  {
   "cell_type": "code",
   "execution_count": null,
   "metadata": {},
   "outputs": [],
   "source": [
    "basic_exploration(df, 'IN_REFEITORIO', 'binary')"
   ]
  },
  {
   "cell_type": "markdown",
   "metadata": {},
   "source": [
    "#### IN_SALA_ATELIE_ARTES"
   ]
  },
  {
   "cell_type": "markdown",
   "metadata": {},
   "source": [
    "- 1 - Sim\n",
    "- 0 - Não\n"
   ]
  },
  {
   "cell_type": "code",
   "execution_count": null,
   "metadata": {},
   "outputs": [],
   "source": [
    "basic_exploration(df, 'IN_SALA_ATELIE_ARTES', 'binary')"
   ]
  },
  {
   "cell_type": "markdown",
   "metadata": {},
   "source": [
    "#### IN_SALA_MUSICA_CORAL"
   ]
  },
  {
   "cell_type": "markdown",
   "metadata": {},
   "source": [
    "- 1 - Sim\n",
    "- 0 - Não\n"
   ]
  },
  {
   "cell_type": "code",
   "execution_count": null,
   "metadata": {},
   "outputs": [],
   "source": [
    "basic_exploration(df, 'IN_SALA_MUSICA_CORAL', 'binary')"
   ]
  },
  {
   "cell_type": "markdown",
   "metadata": {},
   "source": [
    "#### IN_SALA_ESTUDIO_DANCA"
   ]
  },
  {
   "cell_type": "markdown",
   "metadata": {},
   "source": [
    "- 1 - Sim\n",
    "- 0 - Não\n"
   ]
  },
  {
   "cell_type": "code",
   "execution_count": null,
   "metadata": {},
   "outputs": [],
   "source": [
    "basic_exploration(df, 'IN_SALA_ESTUDIO_DANCA', 'binary')"
   ]
  },
  {
   "cell_type": "markdown",
   "metadata": {},
   "source": [
    "#### IN_SALA_MULTIUSO"
   ]
  },
  {
   "cell_type": "markdown",
   "metadata": {},
   "source": [
    "- 1 - Sim\n",
    "- 0 - Não\n"
   ]
  },
  {
   "cell_type": "code",
   "execution_count": null,
   "metadata": {},
   "outputs": [],
   "source": [
    "basic_exploration(df, 'IN_SALA_MULTIUSO', 'binary')"
   ]
  },
  {
   "cell_type": "markdown",
   "metadata": {},
   "source": [
    "#### IN_SALA_ESTUDIO_GRAVACAO"
   ]
  },
  {
   "cell_type": "markdown",
   "metadata": {},
   "source": [
    "- 1 - Sim\n",
    "- 0 - Não\n"
   ]
  },
  {
   "cell_type": "code",
   "execution_count": null,
   "metadata": {},
   "outputs": [],
   "source": [
    "basic_exploration(df, 'IN_SALA_ESTUDIO_GRAVACAO', 'binary')"
   ]
  },
  {
   "cell_type": "markdown",
   "metadata": {},
   "source": [
    "#### IN_SALA_OFICINAS_EDUC_PROF"
   ]
  },
  {
   "cell_type": "markdown",
   "metadata": {},
   "source": [
    "- 1 - Sim\n",
    "- 0 - Não\n"
   ]
  },
  {
   "cell_type": "code",
   "execution_count": null,
   "metadata": {},
   "outputs": [],
   "source": [
    "basic_exploration(df, 'IN_SALA_OFICINAS_EDUC_PROF', 'binary')"
   ]
  },
  {
   "cell_type": "markdown",
   "metadata": {},
   "source": [
    "#### IN_SALA_DIRETORIA"
   ]
  },
  {
   "cell_type": "markdown",
   "metadata": {},
   "source": [
    "- 1 - Sim\n",
    "- 0 - Não\n"
   ]
  },
  {
   "cell_type": "code",
   "execution_count": null,
   "metadata": {},
   "outputs": [],
   "source": [
    "basic_exploration(df, 'IN_SALA_DIRETORIA', 'binary')"
   ]
  },
  {
   "cell_type": "markdown",
   "metadata": {},
   "source": [
    "#### IN_SALA_LEITURA"
   ]
  },
  {
   "cell_type": "markdown",
   "metadata": {},
   "source": [
    "- 1 - Sim\n",
    "- 0 - Não\n"
   ]
  },
  {
   "cell_type": "code",
   "execution_count": null,
   "metadata": {},
   "outputs": [],
   "source": [
    "basic_exploration(df, 'IN_SALA_LEITURA', 'binary')"
   ]
  },
  {
   "cell_type": "markdown",
   "metadata": {},
   "source": [
    "#### IN_SALA_PROFESSOR"
   ]
  },
  {
   "cell_type": "markdown",
   "metadata": {},
   "source": [
    "- 1 - Sim\n",
    "- 0 - Não\n"
   ]
  },
  {
   "cell_type": "code",
   "execution_count": null,
   "metadata": {},
   "outputs": [],
   "source": [
    "basic_exploration(df, 'IN_SALA_PROFESSOR', 'binary')"
   ]
  },
  {
   "cell_type": "markdown",
   "metadata": {},
   "source": [
    "#### IN_SALA_REPOUSO_ALUNO"
   ]
  },
  {
   "cell_type": "markdown",
   "metadata": {},
   "source": [
    "- 1 - Sim\n",
    "- 0 - Não\n"
   ]
  },
  {
   "cell_type": "code",
   "execution_count": null,
   "metadata": {},
   "outputs": [],
   "source": [
    "basic_exploration(df, 'IN_SALA_REPOUSO_ALUNO', 'binary')"
   ]
  },
  {
   "cell_type": "markdown",
   "metadata": {},
   "source": [
    "#### IN_SECRETARIA"
   ]
  },
  {
   "cell_type": "markdown",
   "metadata": {},
   "source": [
    "- 1 - Sim\n",
    "- 0 - Não\n"
   ]
  },
  {
   "cell_type": "code",
   "execution_count": null,
   "metadata": {},
   "outputs": [],
   "source": [
    "basic_exploration(df, 'IN_SECRETARIA', 'binary')"
   ]
  },
  {
   "cell_type": "markdown",
   "metadata": {},
   "source": [
    "#### IN_SALA_ATENDIMENTO_ESPECIAL"
   ]
  },
  {
   "cell_type": "markdown",
   "metadata": {},
   "source": [
    "- 1 - Sim\n",
    "- 0 - Não\n"
   ]
  },
  {
   "cell_type": "code",
   "execution_count": null,
   "metadata": {},
   "outputs": [],
   "source": [
    "basic_exploration(df, 'IN_SALA_ATENDIMENTO_ESPECIAL', 'binary')"
   ]
  },
  {
   "cell_type": "markdown",
   "metadata": {},
   "source": [
    "#### IN_TERREIRAO"
   ]
  },
  {
   "cell_type": "markdown",
   "metadata": {},
   "source": [
    "- 1 - Sim\n",
    "- 0 - Não\n"
   ]
  },
  {
   "cell_type": "code",
   "execution_count": null,
   "metadata": {},
   "outputs": [],
   "source": [
    "basic_exploration(df, 'IN_TERREIRAO', 'binary')"
   ]
  },
  {
   "cell_type": "markdown",
   "metadata": {},
   "source": [
    "#### IN_VIVEIRO"
   ]
  },
  {
   "cell_type": "markdown",
   "metadata": {},
   "source": [
    "- 1 - Sim\n",
    "- 0 - Não\n"
   ]
  },
  {
   "cell_type": "code",
   "execution_count": null,
   "metadata": {},
   "outputs": [],
   "source": [
    "basic_exploration(df, 'IN_VIVEIRO', 'binary')"
   ]
  },
  {
   "cell_type": "markdown",
   "metadata": {},
   "source": [
    "#### IN_DEPENDENCIAS_OUTRAS"
   ]
  },
  {
   "cell_type": "markdown",
   "metadata": {},
   "source": [
    "- 1 - Sim\n",
    "- 0 - Não\n"
   ]
  },
  {
   "cell_type": "code",
   "execution_count": null,
   "metadata": {},
   "outputs": [],
   "source": [
    "basic_exploration(df, 'IN_DEPENDENCIAS_OUTRAS', 'binary')"
   ]
  },
  {
   "cell_type": "markdown",
   "metadata": {},
   "source": [
    "#### Comparação"
   ]
  },
  {
   "cell_type": "code",
   "execution_count": null,
   "metadata": {},
   "outputs": [],
   "source": [
    "cols_banheiros = ['IN_BANHEIRO', 'IN_BANHEIRO_EI', 'IN_BANHEIRO_PNE', 'IN_BANHEIRO_FUNCIONARIOS', 'IN_BANHEIRO_CHUVEIRO']\n",
    "\n",
    "df[cols_banheiros].value_counts(dropna = False)"
   ]
  },
  {
   "cell_type": "code",
   "execution_count": null,
   "metadata": {},
   "outputs": [],
   "source": [
    "cols_biblioteca = ['IN_BIBLIOTECA', 'IN_BIBLIOTECA_SALA_LEITURA', 'IN_SALA_LEITURA']\n",
    "\n",
    "df[cols_biblioteca].value_counts(dropna = False)"
   ]
  },
  {
   "cell_type": "code",
   "execution_count": null,
   "metadata": {},
   "outputs": [],
   "source": [
    "cols_remover += ['IN_BIBLIOTECA_SALA_LEITURA']\n",
    "cols_remover"
   ]
  },
  {
   "cell_type": "markdown",
   "metadata": {},
   "source": [
    "### Recursos de Acessibilidade para Pessoas com Deficiência ou Mobilidade Reduzida nas Vias de Circulação Interna da Escola"
   ]
  },
  {
   "cell_type": "markdown",
   "metadata": {},
   "source": [
    "#### IN_ACESSIBILIDADE_CORRIMAO"
   ]
  },
  {
   "cell_type": "markdown",
   "metadata": {},
   "source": [
    "- 1 - Sim\n",
    "- 0 - Não\n"
   ]
  },
  {
   "cell_type": "code",
   "execution_count": null,
   "metadata": {},
   "outputs": [],
   "source": [
    "basic_exploration(df, 'IN_ACESSIBILIDADE_CORRIMAO', 'binary')"
   ]
  },
  {
   "cell_type": "markdown",
   "metadata": {},
   "source": [
    "#### IN_ACESSIBILIDADE_ELEVADOR"
   ]
  },
  {
   "cell_type": "markdown",
   "metadata": {},
   "source": [
    "- 1 - Sim\n",
    "- 0 - Não\n"
   ]
  },
  {
   "cell_type": "code",
   "execution_count": null,
   "metadata": {},
   "outputs": [],
   "source": [
    "basic_exploration(df, 'IN_ACESSIBILIDADE_ELEVADOR', 'binary')"
   ]
  },
  {
   "cell_type": "markdown",
   "metadata": {},
   "source": [
    "#### IN_ACESSIBILIDADE_PISOS_TATEIS"
   ]
  },
  {
   "cell_type": "markdown",
   "metadata": {},
   "source": [
    "- 1 - Sim\n",
    "- 0 - Não\n"
   ]
  },
  {
   "cell_type": "code",
   "execution_count": null,
   "metadata": {},
   "outputs": [],
   "source": [
    "basic_exploration(df, 'IN_ACESSIBILIDADE_PISOS_TATEIS', 'binary')"
   ]
  },
  {
   "cell_type": "markdown",
   "metadata": {},
   "source": [
    "#### IN_ACESSIBILIDADE_VAO_LIVRE"
   ]
  },
  {
   "cell_type": "markdown",
   "metadata": {},
   "source": [
    "- 1 - Sim\n",
    "- 0 - Não\n"
   ]
  },
  {
   "cell_type": "code",
   "execution_count": null,
   "metadata": {},
   "outputs": [],
   "source": [
    "basic_exploration(df, 'IN_ACESSIBILIDADE_VAO_LIVRE', 'binary')"
   ]
  },
  {
   "cell_type": "markdown",
   "metadata": {},
   "source": [
    "#### IN_ACESSIBILIDADE_RAMPAS"
   ]
  },
  {
   "cell_type": "markdown",
   "metadata": {},
   "source": [
    "- 1 - Sim\n",
    "- 0 - Não\n"
   ]
  },
  {
   "cell_type": "code",
   "execution_count": null,
   "metadata": {},
   "outputs": [],
   "source": [
    "basic_exploration(df, 'IN_ACESSIBILIDADE_RAMPAS', 'binary')"
   ]
  },
  {
   "cell_type": "markdown",
   "metadata": {},
   "source": [
    "#### IN_ACESSIBILIDADE_SINAL_SONORO"
   ]
  },
  {
   "cell_type": "markdown",
   "metadata": {},
   "source": [
    "- 1 - Sim\n",
    "- 0 - Não\n"
   ]
  },
  {
   "cell_type": "code",
   "execution_count": null,
   "metadata": {},
   "outputs": [],
   "source": [
    "basic_exploration(df, 'IN_ACESSIBILIDADE_SINAL_SONORO', 'binary')"
   ]
  },
  {
   "cell_type": "markdown",
   "metadata": {},
   "source": [
    "#### IN_ACESSIBILIDADE_SINAL_TATIL"
   ]
  },
  {
   "cell_type": "markdown",
   "metadata": {},
   "source": [
    "- 1 - Sim\n",
    "- 0 - Não\n"
   ]
  },
  {
   "cell_type": "code",
   "execution_count": null,
   "metadata": {},
   "outputs": [],
   "source": [
    "basic_exploration(df, 'IN_ACESSIBILIDADE_SINAL_TATIL', 'binary')"
   ]
  },
  {
   "cell_type": "markdown",
   "metadata": {},
   "source": [
    "#### IN_ACESSIBILIDADE_SINAL_VISUAL"
   ]
  },
  {
   "cell_type": "markdown",
   "metadata": {},
   "source": [
    "- 1 - Sim\n",
    "- 0 - Não\n"
   ]
  },
  {
   "cell_type": "code",
   "execution_count": null,
   "metadata": {},
   "outputs": [],
   "source": [
    "basic_exploration(df, 'IN_ACESSIBILIDADE_SINAL_VISUAL', 'binary')"
   ]
  },
  {
   "cell_type": "markdown",
   "metadata": {},
   "source": [
    "#### IN_ACESSIBILIDADE_INEXISTENTE"
   ]
  },
  {
   "cell_type": "markdown",
   "metadata": {},
   "source": [
    "- 1 - Sim\n",
    "- 0 - Não\n"
   ]
  },
  {
   "cell_type": "code",
   "execution_count": null,
   "metadata": {},
   "outputs": [],
   "source": [
    "basic_exploration(df, 'IN_ACESSIBILIDADE_INEXISTENTE', 'binary')"
   ]
  },
  {
   "cell_type": "markdown",
   "metadata": {},
   "source": [
    "#### Comparação"
   ]
  },
  {
   "cell_type": "code",
   "execution_count": null,
   "metadata": {},
   "outputs": [],
   "source": [
    "cols_acessibilidade = ['IN_ACESSIBILIDADE_CORRIMAO', 'IN_ACESSIBILIDADE_ELEVADOR', 'IN_ACESSIBILIDADE_PISOS_TATEIS', 'IN_ACESSIBILIDADE_VAO_LIVRE', 'IN_ACESSIBILIDADE_RAMPAS', \n",
    "                  'IN_ACESSIBILIDADE_SINAL_SONORO', 'IN_ACESSIBILIDADE_SINAL_TATIL', 'IN_ACESSIBILIDADE_SINAL_VISUAL', 'IN_ACESSIBILIDADE_INEXISTENTE']\n",
    "\n",
    "df[cols_acessibilidade].value_counts(dropna = False)"
   ]
  },
  {
   "cell_type": "markdown",
   "metadata": {},
   "source": [
    "### Salas"
   ]
  },
  {
   "cell_type": "markdown",
   "metadata": {},
   "source": [
    "#### QT_SALAS_UTILIZADAS_DENTRO"
   ]
  },
  {
   "cell_type": "code",
   "execution_count": null,
   "metadata": {},
   "outputs": [],
   "source": [
    "basic_exploration(df, 'QT_SALAS_UTILIZADAS_DENTRO', 'numeric')"
   ]
  },
  {
   "cell_type": "markdown",
   "metadata": {},
   "source": [
    "#### QT_SALAS_UTILIZADAS_FORA"
   ]
  },
  {
   "cell_type": "code",
   "execution_count": null,
   "metadata": {},
   "outputs": [],
   "source": [
    "basic_exploration(df, 'QT_SALAS_UTILIZADAS_FORA', 'numeric')"
   ]
  },
  {
   "cell_type": "markdown",
   "metadata": {},
   "source": [
    "#### QT_SALAS_UTILIZADAS -> Remover"
   ]
  },
  {
   "cell_type": "code",
   "execution_count": null,
   "metadata": {},
   "outputs": [],
   "source": [
    "basic_exploration(df, 'QT_SALAS_UTILIZADAS', 'numeric')"
   ]
  },
  {
   "cell_type": "code",
   "execution_count": null,
   "metadata": {},
   "outputs": [],
   "source": [
    "cols_remover += ['QT_SALAS_UTILIZADAS']\n",
    "cols_remover[-1]"
   ]
  },
  {
   "cell_type": "markdown",
   "metadata": {},
   "source": [
    "#### QT_SALAS_UTILIZA_CLIMATIZADAS"
   ]
  },
  {
   "cell_type": "code",
   "execution_count": null,
   "metadata": {},
   "outputs": [],
   "source": [
    "basic_exploration(df, 'QT_SALAS_UTILIZA_CLIMATIZADAS', 'numeric')"
   ]
  },
  {
   "cell_type": "markdown",
   "metadata": {},
   "source": [
    "#### QT_SALAS_UTILIZADAS_ACESSIVEIS"
   ]
  },
  {
   "cell_type": "code",
   "execution_count": null,
   "metadata": {},
   "outputs": [],
   "source": [
    "basic_exploration(df, 'QT_SALAS_UTILIZADAS_ACESSIVEIS', 'numeric')"
   ]
  },
  {
   "cell_type": "markdown",
   "metadata": {},
   "source": [
    "#### Comparação"
   ]
  },
  {
   "cell_type": "code",
   "execution_count": null,
   "metadata": {},
   "outputs": [],
   "source": [
    "df[df['QT_SALAS_UTILIZADAS_DENTRO'] + df['QT_SALAS_UTILIZADAS_FORA'] != df['QT_SALAS_UTILIZADAS']].shape"
   ]
  },
  {
   "cell_type": "code",
   "execution_count": null,
   "metadata": {},
   "outputs": [],
   "source": [
    "cols_remover += ['QT_SALAS_UTILIZADAS_DENTRO']\n",
    "cols_remover"
   ]
  },
  {
   "cell_type": "markdown",
   "metadata": {},
   "source": [
    "### Equipamentos para uso técnico e administrativo"
   ]
  },
  {
   "cell_type": "markdown",
   "metadata": {},
   "source": [
    "#### IN_EQUIP_PARABOLICA"
   ]
  },
  {
   "cell_type": "markdown",
   "metadata": {},
   "source": [
    "- 1 - Sim\n",
    "- 0 - Não\n"
   ]
  },
  {
   "cell_type": "code",
   "execution_count": null,
   "metadata": {},
   "outputs": [],
   "source": [
    "basic_exploration(df, 'IN_EQUIP_PARABOLICA', 'binary')"
   ]
  },
  {
   "cell_type": "markdown",
   "metadata": {},
   "source": [
    "#### IN_COMPUTADOR"
   ]
  },
  {
   "cell_type": "markdown",
   "metadata": {},
   "source": [
    "- 1 - Sim\n",
    "- 0 - Não\n"
   ]
  },
  {
   "cell_type": "code",
   "execution_count": null,
   "metadata": {},
   "outputs": [],
   "source": [
    "basic_exploration(df, 'IN_COMPUTADOR', 'binary')"
   ]
  },
  {
   "cell_type": "markdown",
   "metadata": {},
   "source": [
    "#### IN_EQUIP_COPIADORA"
   ]
  },
  {
   "cell_type": "markdown",
   "metadata": {},
   "source": [
    "- 1 - Sim\n",
    "- 0 - Não\n"
   ]
  },
  {
   "cell_type": "code",
   "execution_count": null,
   "metadata": {},
   "outputs": [],
   "source": [
    "basic_exploration(df, 'IN_EQUIP_COPIADORA', 'binary')"
   ]
  },
  {
   "cell_type": "markdown",
   "metadata": {},
   "source": [
    "#### IN_EQUIP_IMPRESSORA"
   ]
  },
  {
   "cell_type": "markdown",
   "metadata": {},
   "source": [
    "- 1 - Sim\n",
    "- 0 - Não\n"
   ]
  },
  {
   "cell_type": "code",
   "execution_count": null,
   "metadata": {},
   "outputs": [],
   "source": [
    "basic_exploration(df, 'IN_EQUIP_IMPRESSORA', 'binary')"
   ]
  },
  {
   "cell_type": "markdown",
   "metadata": {},
   "source": [
    "#### IN_EQUIP_IMPRESSORA_MULT"
   ]
  },
  {
   "cell_type": "markdown",
   "metadata": {},
   "source": [
    "- 1 - Sim\n",
    "- 0 - Não\n"
   ]
  },
  {
   "cell_type": "code",
   "execution_count": null,
   "metadata": {},
   "outputs": [],
   "source": [
    "basic_exploration(df, 'IN_EQUIP_IMPRESSORA_MULT', 'binary')"
   ]
  },
  {
   "cell_type": "markdown",
   "metadata": {},
   "source": [
    "#### IN_EQUIP_SCANNER"
   ]
  },
  {
   "cell_type": "markdown",
   "metadata": {},
   "source": [
    "- 1 - Sim\n",
    "- 0 - Não\n"
   ]
  },
  {
   "cell_type": "code",
   "execution_count": null,
   "metadata": {},
   "outputs": [],
   "source": [
    "basic_exploration(df, 'IN_EQUIP_SCANNER', 'binary')"
   ]
  },
  {
   "cell_type": "markdown",
   "metadata": {},
   "source": [
    "#### Comparação"
   ]
  },
  {
   "cell_type": "code",
   "execution_count": null,
   "metadata": {},
   "outputs": [],
   "source": [
    "cols_equipamentos_tec = ['IN_EQUIP_COPIADORA', 'IN_EQUIP_IMPRESSORA', 'IN_EQUIP_IMPRESSORA_MULT', 'IN_EQUIP_SCANNER']\n",
    "\n",
    "df[cols_equipamentos_tec].value_counts(dropna = False)"
   ]
  },
  {
   "cell_type": "markdown",
   "metadata": {},
   "source": [
    "### Equipamentos para o processo de ensino e atividade"
   ]
  },
  {
   "cell_type": "markdown",
   "metadata": {},
   "source": [
    "#### QT_EQUIP_DVD"
   ]
  },
  {
   "cell_type": "markdown",
   "metadata": {},
   "source": [
    "88888 - registro com marcação de valor extremo (valor superior ao limite máximo de 4 equipamentos para cada 3 salas existentes - foram marcados apenas valores>3)"
   ]
  },
  {
   "cell_type": "code",
   "execution_count": null,
   "metadata": {},
   "outputs": [],
   "source": [
    "basic_exploration(df, 'QT_EQUIP_DVD', 'numeric')"
   ]
  },
  {
   "cell_type": "code",
   "execution_count": null,
   "metadata": {},
   "outputs": [],
   "source": [
    "df[df['QT_EQUIP_DVD'] == 0].shape"
   ]
  },
  {
   "cell_type": "code",
   "execution_count": null,
   "metadata": {},
   "outputs": [],
   "source": [
    "df[df['QT_EQUIP_DVD'] == 88888].shape"
   ]
  },
  {
   "cell_type": "code",
   "execution_count": null,
   "metadata": {},
   "outputs": [],
   "source": [
    "df[(df['QT_EQUIP_DVD'] > 0) & (df['QT_EQUIP_DVD'] < 88888)].shape"
   ]
  },
  {
   "cell_type": "code",
   "execution_count": null,
   "metadata": {},
   "outputs": [],
   "source": [
    "df[(df['QT_EQUIP_DVD'] > 0) & (df['QT_EQUIP_DVD'] < 88888)]['QT_EQUIP_DVD'].sort_values(ascending = False)"
   ]
  },
  {
   "cell_type": "code",
   "execution_count": null,
   "metadata": {},
   "outputs": [],
   "source": [
    "df[\n",
    "    (df['QT_EQUIP_DVD'] > 3) & \n",
    "    (df['QT_EQUIP_DVD'] > df['QT_SALAS_UTILIZADAS'] / 3 * 4) & \n",
    "    (df['QT_EQUIP_DVD'] < 88888)\n",
    "][['NO_ENTIDADE', 'QT_EQUIP_DVD', 'QT_SALAS_UTILIZADAS']]"
   ]
  },
  {
   "cell_type": "markdown",
   "metadata": {},
   "source": [
    "#### QT_EQUIP_SOM"
   ]
  },
  {
   "cell_type": "markdown",
   "metadata": {},
   "source": [
    "88888 - registro com marcação de valor extremo (valor superior ao limite máximo de 4 equipamentos para cada 3 salas existentes - foram marcados apenas valores>3)"
   ]
  },
  {
   "cell_type": "code",
   "execution_count": null,
   "metadata": {},
   "outputs": [],
   "source": [
    "basic_exploration(df, 'QT_EQUIP_SOM', 'numeric')"
   ]
  },
  {
   "cell_type": "code",
   "execution_count": null,
   "metadata": {},
   "outputs": [],
   "source": [
    "df[df['QT_EQUIP_SOM'] == 0].shape"
   ]
  },
  {
   "cell_type": "code",
   "execution_count": null,
   "metadata": {},
   "outputs": [],
   "source": [
    "df[df['QT_EQUIP_SOM'] == 88888].shape"
   ]
  },
  {
   "cell_type": "code",
   "execution_count": null,
   "metadata": {},
   "outputs": [],
   "source": [
    "df[(df['QT_EQUIP_SOM'] > 0) & (df['QT_EQUIP_SOM'] < 88888)].shape"
   ]
  },
  {
   "cell_type": "code",
   "execution_count": null,
   "metadata": {},
   "outputs": [],
   "source": [
    "df[(df['QT_EQUIP_SOM'] > 0) & (df['QT_EQUIP_SOM'] < 88888)]['QT_EQUIP_SOM'].sort_values(ascending = False)"
   ]
  },
  {
   "cell_type": "code",
   "execution_count": null,
   "metadata": {},
   "outputs": [],
   "source": [
    "df[\n",
    "    (df['QT_EQUIP_SOM'] > 3) & \n",
    "    (df['QT_EQUIP_SOM'] > df['QT_SALAS_UTILIZADAS'] / 3 * 4) & \n",
    "    (df['QT_EQUIP_SOM'] < 88888)\n",
    "][['NO_ENTIDADE', 'QT_EQUIP_SOM', 'QT_SALAS_UTILIZADAS']]"
   ]
  },
  {
   "cell_type": "markdown",
   "metadata": {},
   "source": [
    "#### QT_EQUIP_TV"
   ]
  },
  {
   "cell_type": "markdown",
   "metadata": {},
   "source": [
    "88888 - registro com marcação de valor extremo (valor superior ao limite máximo de 4 equipamentos para cada 3 salas existentes - foram marcados apenas valores>3)"
   ]
  },
  {
   "cell_type": "code",
   "execution_count": null,
   "metadata": {},
   "outputs": [],
   "source": [
    "basic_exploration(df, 'QT_EQUIP_TV', 'numeric')"
   ]
  },
  {
   "cell_type": "code",
   "execution_count": null,
   "metadata": {},
   "outputs": [],
   "source": [
    "df[df['QT_EQUIP_TV'] == 0].shape"
   ]
  },
  {
   "cell_type": "code",
   "execution_count": null,
   "metadata": {},
   "outputs": [],
   "source": [
    "df[df['QT_EQUIP_TV'] == 88888].shape"
   ]
  },
  {
   "cell_type": "code",
   "execution_count": null,
   "metadata": {},
   "outputs": [],
   "source": [
    "df[(df['QT_EQUIP_TV'] > 0) & (df['QT_EQUIP_TV'] < 88888)].shape"
   ]
  },
  {
   "cell_type": "code",
   "execution_count": null,
   "metadata": {},
   "outputs": [],
   "source": [
    "df[(df['QT_EQUIP_TV'] > 0) & (df['QT_EQUIP_TV'] < 88888)]['QT_EQUIP_TV'].sort_values(ascending = False)"
   ]
  },
  {
   "cell_type": "code",
   "execution_count": null,
   "metadata": {},
   "outputs": [],
   "source": [
    "df[\n",
    "    (df['QT_EQUIP_TV'] > 3) & \n",
    "    (df['QT_EQUIP_TV'] > df['QT_SALAS_UTILIZADAS'] / 3 * 4) & \n",
    "    (df['QT_EQUIP_TV'] < 88888)\n",
    "][['NO_ENTIDADE', 'QT_EQUIP_TV', 'QT_SALAS_UTILIZADAS']]"
   ]
  },
  {
   "cell_type": "markdown",
   "metadata": {},
   "source": [
    "#### QT_EQUIP_LOUSA_DIGITAL"
   ]
  },
  {
   "cell_type": "markdown",
   "metadata": {},
   "source": [
    "88888 - registro com marcação de valor extremo (valor superior ao limite máximo de 4 equipamentos para cada 3 salas existentes - foram marcados apenas valores>3)"
   ]
  },
  {
   "cell_type": "code",
   "execution_count": null,
   "metadata": {},
   "outputs": [],
   "source": [
    "basic_exploration(df, 'QT_EQUIP_LOUSA_DIGITAL', 'numeric')"
   ]
  },
  {
   "cell_type": "code",
   "execution_count": null,
   "metadata": {},
   "outputs": [],
   "source": [
    "df[df['QT_EQUIP_LOUSA_DIGITAL'] == 0].shape"
   ]
  },
  {
   "cell_type": "code",
   "execution_count": null,
   "metadata": {},
   "outputs": [],
   "source": [
    "df[df['QT_EQUIP_LOUSA_DIGITAL'] == 88888].shape"
   ]
  },
  {
   "cell_type": "code",
   "execution_count": null,
   "metadata": {},
   "outputs": [],
   "source": [
    "df[(df['QT_EQUIP_LOUSA_DIGITAL'] > 0) & (df['QT_EQUIP_LOUSA_DIGITAL'] < 88888)].shape"
   ]
  },
  {
   "cell_type": "code",
   "execution_count": null,
   "metadata": {},
   "outputs": [],
   "source": [
    "df[(df['QT_EQUIP_LOUSA_DIGITAL'] > 0) & (df['QT_EQUIP_LOUSA_DIGITAL'] < 88888)]['QT_EQUIP_LOUSA_DIGITAL'].sort_values(ascending = False)"
   ]
  },
  {
   "cell_type": "code",
   "execution_count": null,
   "metadata": {},
   "outputs": [],
   "source": [
    "df[\n",
    "    (df['QT_EQUIP_LOUSA_DIGITAL'] > 3) & \n",
    "    (df['QT_EQUIP_LOUSA_DIGITAL'] > df['QT_SALAS_UTILIZADAS'] / 3 * 4) & \n",
    "    (df['QT_EQUIP_LOUSA_DIGITAL'] < 88888)\n",
    "][['NO_ENTIDADE', 'QT_EQUIP_LOUSA_DIGITAL', 'QT_SALAS_UTILIZADAS']]"
   ]
  },
  {
   "cell_type": "markdown",
   "metadata": {},
   "source": [
    "#### QT_EQUIP_MULTIMIDIA"
   ]
  },
  {
   "cell_type": "markdown",
   "metadata": {},
   "source": [
    "88888 - registro com marcação de valor extremo (valor superior ao limite máximo de 4 equipamentos para cada 3 salas existentes - foram marcados apenas valores>3)"
   ]
  },
  {
   "cell_type": "code",
   "execution_count": null,
   "metadata": {},
   "outputs": [],
   "source": [
    "basic_exploration(df, 'QT_EQUIP_MULTIMIDIA', 'numeric')"
   ]
  },
  {
   "cell_type": "code",
   "execution_count": null,
   "metadata": {},
   "outputs": [],
   "source": [
    "df[df['QT_EQUIP_MULTIMIDIA'] == 0].shape"
   ]
  },
  {
   "cell_type": "code",
   "execution_count": null,
   "metadata": {},
   "outputs": [],
   "source": [
    "df[df['QT_EQUIP_MULTIMIDIA'] == 88888].shape"
   ]
  },
  {
   "cell_type": "code",
   "execution_count": null,
   "metadata": {},
   "outputs": [],
   "source": [
    "df[(df['QT_EQUIP_MULTIMIDIA'] > 0) & (df['QT_EQUIP_MULTIMIDIA'] < 88888)].shape"
   ]
  },
  {
   "cell_type": "code",
   "execution_count": null,
   "metadata": {},
   "outputs": [],
   "source": [
    "df[(df['QT_EQUIP_MULTIMIDIA'] > 0) & (df['QT_EQUIP_MULTIMIDIA'] < 88888)]['QT_EQUIP_MULTIMIDIA'].sort_values(ascending = False)"
   ]
  },
  {
   "cell_type": "code",
   "execution_count": null,
   "metadata": {},
   "outputs": [],
   "source": [
    "df[\n",
    "    (df['QT_EQUIP_MULTIMIDIA'] > 3) & \n",
    "    (df['QT_EQUIP_MULTIMIDIA'] > df['QT_SALAS_UTILIZADAS'] / 3 * 4) & \n",
    "    (df['QT_EQUIP_MULTIMIDIA'] < 88888)\n",
    "][['NO_ENTIDADE', 'QT_EQUIP_MULTIMIDIA', 'QT_SALAS_UTILIZADAS']]"
   ]
  },
  {
   "cell_type": "markdown",
   "metadata": {},
   "source": [
    "#### QT_DESKTOP_ALUNO -> 24 Valores estranhos"
   ]
  },
  {
   "cell_type": "markdown",
   "metadata": {},
   "source": [
    "88888 - registro com marcação de valor extremo (valor superior ao limite máximo de 4 equipamentos para cada 3 matrículas - foram marcados apenas valores>3)"
   ]
  },
  {
   "cell_type": "code",
   "execution_count": null,
   "metadata": {},
   "outputs": [],
   "source": [
    "basic_exploration(df, 'QT_DESKTOP_ALUNO', 'numeric')"
   ]
  },
  {
   "cell_type": "code",
   "execution_count": null,
   "metadata": {},
   "outputs": [],
   "source": [
    "df[df['QT_DESKTOP_ALUNO'] == 0].shape"
   ]
  },
  {
   "cell_type": "code",
   "execution_count": null,
   "metadata": {},
   "outputs": [],
   "source": [
    "df[df['QT_DESKTOP_ALUNO'] == 88888].shape"
   ]
  },
  {
   "cell_type": "code",
   "execution_count": null,
   "metadata": {},
   "outputs": [],
   "source": [
    "df[(df['QT_DESKTOP_ALUNO'] > 0) & (df['QT_DESKTOP_ALUNO'] < 88888)].shape"
   ]
  },
  {
   "cell_type": "code",
   "execution_count": null,
   "metadata": {},
   "outputs": [],
   "source": [
    "df[(df['QT_DESKTOP_ALUNO'] > 0) & (df['QT_DESKTOP_ALUNO'] < 88888)]['QT_DESKTOP_ALUNO'].sort_values(ascending = False)"
   ]
  },
  {
   "cell_type": "code",
   "execution_count": null,
   "metadata": {},
   "outputs": [],
   "source": [
    "df['QT_DESKTOP_TESTE'] = round(df['QT_DESKTOP_ALUNO'] / (df['QT_MAT_BAS'] / 3), 2)\n",
    "df[\n",
    "    (df['QT_DESKTOP_ALUNO'] > 3) & \n",
    "    (df['QT_DESKTOP_ALUNO'] > df['QT_MAT_BAS'] / 3 * 4) & \n",
    "    (df['QT_DESKTOP_ALUNO'] < 88888)\n",
    "][['NO_ENTIDADE', 'QT_DESKTOP_ALUNO', 'QT_DESKTOP_TESTE', 'QT_MAT_BAS']].sort_values('QT_DESKTOP_TESTE', ascending = False)"
   ]
  },
  {
   "cell_type": "code",
   "execution_count": 554,
   "metadata": {},
   "outputs": [],
   "source": [
    "# Substitui pelo código 88888\n",
    "df.loc[\n",
    "    (df['QT_DESKTOP_ALUNO'] > 3) & \n",
    "    (df['QT_DESKTOP_ALUNO'] > df['QT_MAT_BAS'] / 3 * 4) & \n",
    "    (df['QT_DESKTOP_ALUNO'] < 88888)\n",
    ", 'QT_DESKTOP_ALUNO'] = 88888"
   ]
  },
  {
   "cell_type": "code",
   "execution_count": null,
   "metadata": {},
   "outputs": [],
   "source": [
    "df['QT_DESKTOP_TESTE'] = round(df['QT_DESKTOP_ALUNO'] / (df['QT_MAT_BAS'] / 3), 2)\n",
    "df[\n",
    "    (df['QT_DESKTOP_ALUNO'] > 3) & \n",
    "    (df['QT_DESKTOP_ALUNO'] > df['QT_MAT_BAS'] / 3 * 4) & \n",
    "    (df['QT_DESKTOP_ALUNO'] < 88888)\n",
    "][['NO_ENTIDADE', 'QT_DESKTOP_ALUNO', 'QT_DESKTOP_TESTE', 'QT_MAT_BAS']].sort_values('QT_DESKTOP_TESTE', ascending = False)"
   ]
  },
  {
   "cell_type": "code",
   "execution_count": null,
   "metadata": {},
   "outputs": [],
   "source": [
    "cols_remover += ['QT_DESKTOP_TESTE']\n",
    "cols_remover[-1]"
   ]
  },
  {
   "cell_type": "markdown",
   "metadata": {},
   "source": [
    "#### QT_COMP_PORTATIL_ALUNO -> 11 Valores estranhos"
   ]
  },
  {
   "cell_type": "markdown",
   "metadata": {},
   "source": [
    "88888 - registro com marcação de valor extremo (valor superior ao limite máximo de 4 equipamentos para cada 3 matrículas - foram marcados apenas valores>3)"
   ]
  },
  {
   "cell_type": "code",
   "execution_count": null,
   "metadata": {},
   "outputs": [],
   "source": [
    "basic_exploration(df, 'QT_COMP_PORTATIL_ALUNO', 'numeric')"
   ]
  },
  {
   "cell_type": "code",
   "execution_count": null,
   "metadata": {},
   "outputs": [],
   "source": [
    "df[df['QT_COMP_PORTATIL_ALUNO'] == 0].shape"
   ]
  },
  {
   "cell_type": "code",
   "execution_count": null,
   "metadata": {},
   "outputs": [],
   "source": [
    "df[df['QT_COMP_PORTATIL_ALUNO'] == 88888].shape"
   ]
  },
  {
   "cell_type": "code",
   "execution_count": null,
   "metadata": {},
   "outputs": [],
   "source": [
    "df[(df['QT_COMP_PORTATIL_ALUNO'] > 0) & (df['QT_COMP_PORTATIL_ALUNO'] < 88888)].shape"
   ]
  },
  {
   "cell_type": "code",
   "execution_count": null,
   "metadata": {},
   "outputs": [],
   "source": [
    "df[(df['QT_COMP_PORTATIL_ALUNO'] > 0) & (df['QT_COMP_PORTATIL_ALUNO'] < 88888)]['QT_COMP_PORTATIL_ALUNO'].sort_values(ascending = False)"
   ]
  },
  {
   "cell_type": "code",
   "execution_count": null,
   "metadata": {},
   "outputs": [],
   "source": [
    "df['QT_COMP_PORTATIL_TESTE'] = round(df['QT_COMP_PORTATIL_ALUNO'] / (df['QT_MAT_BAS'] / 3), 2)\n",
    "df[\n",
    "    (df['QT_COMP_PORTATIL_ALUNO'] > 3) & \n",
    "    (df['QT_COMP_PORTATIL_ALUNO'] > df['QT_MAT_BAS'] / 3 * 4) & \n",
    "    (df['QT_COMP_PORTATIL_ALUNO'] < 88888)\n",
    "][['NO_ENTIDADE', 'QT_COMP_PORTATIL_ALUNO', 'QT_COMP_PORTATIL_TESTE', 'QT_MAT_BAS']].sort_values('QT_COMP_PORTATIL_TESTE', ascending = False)"
   ]
  },
  {
   "cell_type": "code",
   "execution_count": 563,
   "metadata": {},
   "outputs": [],
   "source": [
    "# Substitui pelo código 88888\n",
    "df.loc[\n",
    "    (df['QT_COMP_PORTATIL_ALUNO'] > 3) & \n",
    "    (df['QT_COMP_PORTATIL_ALUNO'] > df['QT_MAT_BAS'] / 3 * 4) & \n",
    "    (df['QT_COMP_PORTATIL_ALUNO'] < 88888)\n",
    ", 'QT_COMP_PORTATIL_ALUNO'] = 88888"
   ]
  },
  {
   "cell_type": "code",
   "execution_count": null,
   "metadata": {},
   "outputs": [],
   "source": [
    "df['QT_COMP_PORTATIL_TESTE'] = round(df['QT_COMP_PORTATIL_ALUNO'] / (df['QT_MAT_BAS'] / 3), 2)\n",
    "df[\n",
    "    (df['QT_COMP_PORTATIL_ALUNO'] > 3) & \n",
    "    (df['QT_COMP_PORTATIL_ALUNO'] > df['QT_MAT_BAS'] / 3 * 4) & \n",
    "    (df['QT_COMP_PORTATIL_ALUNO'] < 88888)\n",
    "][['NO_ENTIDADE', 'QT_COMP_PORTATIL_ALUNO', 'QT_COMP_PORTATIL_TESTE', 'QT_MAT_BAS']].sort_values('QT_COMP_PORTATIL_TESTE', ascending = False)"
   ]
  },
  {
   "cell_type": "code",
   "execution_count": null,
   "metadata": {},
   "outputs": [],
   "source": [
    "cols_remover += ['QT_COMP_PORTATIL_TESTE']\n",
    "cols_remover[-1]"
   ]
  },
  {
   "cell_type": "markdown",
   "metadata": {},
   "source": [
    "#### QT_TABLET_ALUNO -> 9 Valores estranhos"
   ]
  },
  {
   "cell_type": "markdown",
   "metadata": {},
   "source": [
    "88888 - registro com marcação de valor extremo (valor superior ao limite máximo de 4 equipamentos para cada 3 matrículas - foram marcados apenas valores>3)"
   ]
  },
  {
   "cell_type": "code",
   "execution_count": null,
   "metadata": {},
   "outputs": [],
   "source": [
    "basic_exploration(df, 'QT_TABLET_ALUNO', 'numeric')"
   ]
  },
  {
   "cell_type": "code",
   "execution_count": null,
   "metadata": {},
   "outputs": [],
   "source": [
    "df[df['QT_TABLET_ALUNO'] == 0].shape"
   ]
  },
  {
   "cell_type": "code",
   "execution_count": null,
   "metadata": {},
   "outputs": [],
   "source": [
    "df[df['QT_TABLET_ALUNO'] == 88888].shape"
   ]
  },
  {
   "cell_type": "code",
   "execution_count": null,
   "metadata": {},
   "outputs": [],
   "source": [
    "df[(df['QT_TABLET_ALUNO'] > 0) & (df['QT_TABLET_ALUNO'] < 88888)].shape"
   ]
  },
  {
   "cell_type": "code",
   "execution_count": null,
   "metadata": {},
   "outputs": [],
   "source": [
    "df[(df['QT_TABLET_ALUNO'] > 0) & (df['QT_TABLET_ALUNO'] < 88888)]['QT_TABLET_ALUNO'].sort_values(ascending = False)"
   ]
  },
  {
   "cell_type": "code",
   "execution_count": null,
   "metadata": {},
   "outputs": [],
   "source": [
    "df['QT_TABLET_TESTE'] = round(df['QT_TABLET_ALUNO'] / (df['QT_MAT_BAS'] / 3), 2)\n",
    "df[\n",
    "    (df['QT_TABLET_ALUNO'] > 3) & \n",
    "    (df['QT_TABLET_ALUNO'] > df['QT_MAT_BAS'] / 3 * 4) & \n",
    "    (df['QT_TABLET_ALUNO'] < 88888)\n",
    "][['NO_ENTIDADE', 'QT_TABLET_ALUNO', 'QT_TABLET_TESTE', 'QT_MAT_BAS']].sort_values('QT_TABLET_TESTE', ascending = False)"
   ]
  },
  {
   "cell_type": "code",
   "execution_count": 572,
   "metadata": {},
   "outputs": [],
   "source": [
    "# Substitui pelo código 88888\n",
    "df.loc[\n",
    "    (df['QT_TABLET_ALUNO'] > 3) & \n",
    "    (df['QT_TABLET_ALUNO'] > df['QT_MAT_BAS'] / 3 * 4) & \n",
    "    (df['QT_TABLET_ALUNO'] < 88888)\n",
    ", 'QT_TABLET_ALUNO'] = 88888"
   ]
  },
  {
   "cell_type": "code",
   "execution_count": null,
   "metadata": {},
   "outputs": [],
   "source": [
    "df['QT_TABLET_TESTE'] = round(df['QT_TABLET_ALUNO'] / (df['QT_MAT_BAS'] / 3), 2)\n",
    "df[\n",
    "    (df['QT_TABLET_ALUNO'] > 3) & \n",
    "    (df['QT_TABLET_ALUNO'] > df['QT_MAT_BAS'] / 3 * 4) & \n",
    "    (df['QT_TABLET_ALUNO'] < 88888)\n",
    "][['NO_ENTIDADE', 'QT_TABLET_ALUNO', 'QT_TABLET_TESTE', 'QT_MAT_BAS']].sort_values('QT_TABLET_TESTE', ascending = False)"
   ]
  },
  {
   "cell_type": "code",
   "execution_count": null,
   "metadata": {},
   "outputs": [],
   "source": [
    "cols_remover += ['QT_TABLET_TESTE']\n",
    "cols_remover[-1]"
   ]
  },
  {
   "cell_type": "markdown",
   "metadata": {},
   "source": [
    "### Internet"
   ]
  },
  {
   "cell_type": "markdown",
   "metadata": {},
   "source": [
    "#### IN_INTERNET"
   ]
  },
  {
   "cell_type": "markdown",
   "metadata": {},
   "source": [
    "- 1 - Sim\n",
    "- 0 - Não\n"
   ]
  },
  {
   "cell_type": "code",
   "execution_count": null,
   "metadata": {},
   "outputs": [],
   "source": [
    "basic_exploration(df, 'IN_INTERNET', 'binary')"
   ]
  },
  {
   "cell_type": "markdown",
   "metadata": {},
   "source": [
    "#### IN_INTERNET_ALUNOS"
   ]
  },
  {
   "cell_type": "markdown",
   "metadata": {},
   "source": [
    "- 1 - Sim\n",
    "- 0 - Não\n"
   ]
  },
  {
   "cell_type": "code",
   "execution_count": null,
   "metadata": {},
   "outputs": [],
   "source": [
    "basic_exploration(df, 'IN_INTERNET_ALUNOS', 'binary')"
   ]
  },
  {
   "cell_type": "markdown",
   "metadata": {},
   "source": [
    "#### IN_INTERNET_ADMINISTRATIVO"
   ]
  },
  {
   "cell_type": "markdown",
   "metadata": {},
   "source": [
    "- 1 - Sim\n",
    "- 0 - Não\n"
   ]
  },
  {
   "cell_type": "code",
   "execution_count": null,
   "metadata": {},
   "outputs": [],
   "source": [
    "basic_exploration(df, 'IN_INTERNET_ADMINISTRATIVO', 'binary')"
   ]
  },
  {
   "cell_type": "markdown",
   "metadata": {},
   "source": [
    "#### IN_INTERNET_APRENDIZAGEM"
   ]
  },
  {
   "cell_type": "markdown",
   "metadata": {},
   "source": [
    "- 1 - Sim\n",
    "- 0 - Não\n"
   ]
  },
  {
   "cell_type": "code",
   "execution_count": null,
   "metadata": {},
   "outputs": [],
   "source": [
    "basic_exploration(df, 'IN_INTERNET_APRENDIZAGEM', 'binary')"
   ]
  },
  {
   "cell_type": "markdown",
   "metadata": {},
   "source": [
    "#### IN_INTERNET_COMUNIDADE"
   ]
  },
  {
   "cell_type": "markdown",
   "metadata": {},
   "source": [
    "- 1 - Sim\n",
    "- 0 - Não\n"
   ]
  },
  {
   "cell_type": "code",
   "execution_count": null,
   "metadata": {},
   "outputs": [],
   "source": [
    "basic_exploration(df, 'IN_INTERNET_COMUNIDADE', 'binary')"
   ]
  },
  {
   "cell_type": "markdown",
   "metadata": {},
   "source": [
    "#### IN_ACESSO_INTERNET_COMPUTADOR"
   ]
  },
  {
   "cell_type": "markdown",
   "metadata": {},
   "source": [
    "- 0 - Não\n",
    "- 1 - Sim\n",
    "- 9 - Não informado"
   ]
  },
  {
   "cell_type": "code",
   "execution_count": null,
   "metadata": {},
   "outputs": [],
   "source": [
    "basic_exploration(df, 'IN_ACESSO_INTERNET_COMPUTADOR', 'binary')"
   ]
  },
  {
   "cell_type": "markdown",
   "metadata": {},
   "source": [
    "#### IN_ACES_INTERNET_DISP_PESSOAIS"
   ]
  },
  {
   "cell_type": "markdown",
   "metadata": {},
   "source": [
    "- 0 - Não\n",
    "- 1 - Sim\n",
    "- 9 - Não informado"
   ]
  },
  {
   "cell_type": "code",
   "execution_count": null,
   "metadata": {},
   "outputs": [],
   "source": [
    "basic_exploration(df, 'IN_ACES_INTERNET_DISP_PESSOAIS', 'binary')"
   ]
  },
  {
   "cell_type": "markdown",
   "metadata": {},
   "source": [
    "#### TP_REDE_LOCAL"
   ]
  },
  {
   "cell_type": "markdown",
   "metadata": {},
   "source": [
    "- 0 - Não há rede local interligando computadores\n",
    "- 1 - A cabo\n",
    "- 2 - Wireless\n",
    "- 3 - A cabo e Wireless\n",
    "- 9 - Não informado"
   ]
  },
  {
   "cell_type": "code",
   "execution_count": null,
   "metadata": {},
   "outputs": [],
   "source": [
    "basic_exploration(df, 'TP_REDE_LOCAL', 'binary')"
   ]
  },
  {
   "cell_type": "markdown",
   "metadata": {},
   "source": [
    "#### IN_BANDA_LARGA"
   ]
  },
  {
   "cell_type": "markdown",
   "metadata": {},
   "source": [
    "- 1 - Sim\n",
    "- 0 - Não\n",
    "\n",
    "* Não aplicável para escolas sem acesso à internet"
   ]
  },
  {
   "cell_type": "code",
   "execution_count": null,
   "metadata": {},
   "outputs": [],
   "source": [
    "basic_exploration(df, 'IN_BANDA_LARGA', 'binary')"
   ]
  },
  {
   "cell_type": "code",
   "execution_count": null,
   "metadata": {},
   "outputs": [],
   "source": [
    "df.loc[df['IN_BANDA_LARGA'].isna(), 'IN_BANDA_LARGA'] = -1\n",
    "df['IN_BANDA_LARGA'].value_counts(dropna=False)"
   ]
  },
  {
   "cell_type": "markdown",
   "metadata": {},
   "source": [
    "#### Comparação"
   ]
  },
  {
   "cell_type": "code",
   "execution_count": null,
   "metadata": {},
   "outputs": [],
   "source": [
    "cols_internet = ['IN_INTERNET', 'IN_INTERNET_ALUNOS', 'IN_INTERNET_ADMINISTRATIVO', 'IN_INTERNET_APRENDIZAGEM', 'IN_INTERNET_COMUNIDADE', 'IN_ACESSO_INTERNET_COMPUTADOR', \n",
    "                         'IN_ACES_INTERNET_DISP_PESSOAIS', 'TP_REDE_LOCAL', 'IN_BANDA_LARGA']\n",
    "\n",
    "df[cols_internet].value_counts(dropna = False)"
   ]
  },
  {
   "cell_type": "markdown",
   "metadata": {},
   "source": [
    "## Criação da Base Final"
   ]
  },
  {
   "cell_type": "markdown",
   "metadata": {},
   "source": [
    "### Remoção das colunas desnecessárias"
   ]
  },
  {
   "cell_type": "code",
   "execution_count": null,
   "metadata": {},
   "outputs": [],
   "source": [
    "df.drop(cols_remover, axis = 1, inplace = True)\n",
    "len(df.columns)"
   ]
  },
  {
   "cell_type": "code",
   "execution_count": null,
   "metadata": {},
   "outputs": [],
   "source": [
    "df.shape"
   ]
  },
  {
   "cell_type": "markdown",
   "metadata": {},
   "source": [
    "### Criação das faixas de quantidade de matrículas"
   ]
  },
  {
   "cell_type": "markdown",
   "metadata": {},
   "source": [
    "#### Árvore de Decisão -> Documentar, porque não funciona\n",
    "\n",
    "Testes que foram feitos:\n",
    "1. Não tinha as variáveis de EAD, Região e UF -> A melhor combinação de hiperparâmetros resultou em 12 faixas, com a última tendo intervalo de +180\n",
    "2. Foram adicionadas as variáveis EAD, Região e UF, com testes individuais e combinados dessas variáveis. -> A árvore não apresentou melhora na distribuição das escolas nem na definição de intervalos menos abrangentes\n",
    "3. Foram removidas as escolas que fazem ensino EAD e ignorados as variáveis de Região e UF. -> A árvore não apresentou melhora na distribuição das escolas nem na definição de intervalos menos abrangentes [Atual]"
   ]
  },
  {
   "cell_type": "code",
   "execution_count": 603,
   "metadata": {},
   "outputs": [],
   "source": [
    "# import pandas as pd\n",
    "# import numpy as np\n",
    "\n",
    "# from sklearn.tree import DecisionTreeRegressor\n",
    "# from sklearn import tree"
   ]
  },
  {
   "cell_type": "code",
   "execution_count": 604,
   "metadata": {},
   "outputs": [],
   "source": [
    "# df.columns"
   ]
  },
  {
   "cell_type": "code",
   "execution_count": 605,
   "metadata": {},
   "outputs": [],
   "source": [
    "# X = df[df.columns[1:-3]]  # Variáveis independentes\n",
    "# y = df[['QT_MAT_BAS']]  # Variável alvo"
   ]
  },
  {
   "cell_type": "code",
   "execution_count": 606,
   "metadata": {},
   "outputs": [],
   "source": [
    "# dt = DecisionTreeRegressor(\n",
    "#     # ccp_alpha=0.05,\n",
    "#     max_depth=4,\n",
    "#     max_leaf_nodes=15,\n",
    "#     min_samples_leaf=150,\n",
    "#     random_state=42\n",
    "# )\n",
    "# dt.fit(X, y)"
   ]
  },
  {
   "cell_type": "code",
   "execution_count": 607,
   "metadata": {},
   "outputs": [],
   "source": [
    "# plt.figure(figsize = (20,8))\n",
    "# _ = tree.plot_tree(dt, feature_names=df.columns[1:-3], filled=True)"
   ]
  },
  {
   "cell_type": "code",
   "execution_count": 608,
   "metadata": {},
   "outputs": [],
   "source": [
    "# # Obter os pontos de corte da árvore\n",
    "# thresholds = np.sort(dt.tree_.threshold[dt.tree_.threshold != -2])  # -2 é um valor padrão quando não há corte\n",
    "\n",
    "# # Adicionar o valor mínimo e máximo para garantir que todos os valores de y estejam dentro das faixas\n",
    "# bins = np.concatenate(([-np.inf], thresholds, [np.inf]))\n",
    "# bins"
   ]
  },
  {
   "cell_type": "code",
   "execution_count": 609,
   "metadata": {},
   "outputs": [],
   "source": [
    "# # Criar a nova variável categórica\n",
    "# df['FAIXA_QNT_MAT_BAS'] = pd.cut(\n",
    "#     y.QT_MAT_BAS, \n",
    "#     bins=bins, \n",
    "#     duplicates='drop',\n",
    "#     labels=False\n",
    "# )\n",
    "# df[['FAIXA_QNT_MAT_BAS']].value_counts(dropna = False).sort_index()"
   ]
  },
  {
   "cell_type": "code",
   "execution_count": 610,
   "metadata": {},
   "outputs": [],
   "source": [
    "# for i in df['FAIXA_QNT_MAT_BAS'].sort_values().unique():\n",
    "#     print(f\"faixa: {i} | min: {df[df['FAIXA_QNT_MAT_BAS'] == i]['QT_MAT_BAS'].min()} | max: {df[df['FAIXA_QNT_MAT_BAS'] == i]['QT_MAT_BAS'].max()}\")"
   ]
  },
  {
   "cell_type": "code",
   "execution_count": 611,
   "metadata": {},
   "outputs": [],
   "source": [
    "# sns.histplot(df[['FAIXA_QNT_MAT_BAS']])"
   ]
  },
  {
   "cell_type": "code",
   "execution_count": 612,
   "metadata": {},
   "outputs": [],
   "source": [
    "# def generate_pct_heatmap(df: pd.DataFrame, columns: list):\n",
    "#     # Agrupa pela faixa e pela região para conseguir a quantidade de escolas em cada grupo\n",
    "#     temp = df.groupby(columns, as_index = False).size()\n",
    "\n",
    "#     pct = [temp[temp[columns[0]] == faixa].sum()['size'] for faixa in temp[columns[0]]]\n",
    "#     pct = temp['size'] / pct * 100\n",
    "\n",
    "#     temp['pct'] = pct\n",
    "#     temp = temp.set_index(columns[0]).pivot(columns = columns[1], values = 'pct')\n",
    "\n",
    "#     return sns.heatmap(temp, annot=True, fmt='.2f', linewidths=0.5, cmap='PuRd')"
   ]
  },
  {
   "cell_type": "code",
   "execution_count": 613,
   "metadata": {},
   "outputs": [],
   "source": [
    "# generate_pct_heatmap(df[['FAIXA_QNT_MAT_BAS', 'CO_REGIAO']], ['FAIXA_QNT_MAT_BAS', 'CO_REGIAO'])"
   ]
  },
  {
   "cell_type": "code",
   "execution_count": 614,
   "metadata": {},
   "outputs": [],
   "source": [
    "# plt.figure(figsize = (20,5))\n",
    "# generate_pct_heatmap(df[['FAIXA_QNT_MAT_BAS', 'CO_UF']], ['FAIXA_QNT_MAT_BAS', 'CO_UF'])"
   ]
  },
  {
   "cell_type": "markdown",
   "metadata": {},
   "source": [
    "#### Criação das faixas conforme o percentil"
   ]
  },
  {
   "cell_type": "code",
   "execution_count": null,
   "metadata": {},
   "outputs": [],
   "source": [
    "df.columns"
   ]
  },
  {
   "cell_type": "code",
   "execution_count": null,
   "metadata": {},
   "outputs": [],
   "source": [
    "df[['QT_MAT_BAS']].quantile([0.1 * i for i in range(11)])"
   ]
  },
  {
   "cell_type": "code",
   "execution_count": null,
   "metadata": {},
   "outputs": [],
   "source": [
    "percentiles = pd.DataFrame()\n",
    "percentiles['MAX'] = df['QT_MAT_BAS'].quantile([0.1 * i for i in range(1, 11)]) - 1\n",
    "percentiles['MIN'] = df['QT_MAT_BAS'].quantile([0.1 * i for i in range(0, 10)]).values\n",
    "percentiles"
   ]
  },
  {
   "cell_type": "code",
   "execution_count": 685,
   "metadata": {},
   "outputs": [],
   "source": [
    "df['FAIXA_QT_MAT_BAS'] = pd.qcut(df['QT_MAT_BAS'], q=10, labels=range(1, 11))"
   ]
  },
  {
   "cell_type": "code",
   "execution_count": null,
   "metadata": {},
   "outputs": [],
   "source": [
    "df[['QT_MAT_BAS', 'FAIXA_QT_MAT_BAS']]"
   ]
  },
  {
   "cell_type": "code",
   "execution_count": null,
   "metadata": {},
   "outputs": [],
   "source": [
    "df.columns"
   ]
  },
  {
   "cell_type": "code",
   "execution_count": null,
   "metadata": {},
   "outputs": [],
   "source": [
    "df.shape"
   ]
  },
  {
   "cell_type": "code",
   "execution_count": null,
   "metadata": {},
   "outputs": [],
   "source": [
    "sns.histplot(df['FAIXA_QT_MAT_BAS'])"
   ]
  },
  {
   "cell_type": "markdown",
   "metadata": {},
   "source": [
    "### Geração do CSV"
   ]
  },
  {
   "cell_type": "code",
   "execution_count": 705,
   "metadata": {},
   "outputs": [],
   "source": [
    "df.to_csv('censo_escolar_2023_mod.csv')"
   ]
  },
  {
   "cell_type": "code",
   "execution_count": null,
   "metadata": {},
   "outputs": [],
   "source": []
  }
 ],
 "metadata": {
  "kernelspec": {
   "display_name": "venv_ccnews",
   "language": "python",
   "name": "python3"
  },
  "language_info": {
   "codemirror_mode": {
    "name": "ipython",
    "version": 3
   },
   "file_extension": ".py",
   "mimetype": "text/x-python",
   "name": "python",
   "nbconvert_exporter": "python",
   "pygments_lexer": "ipython3",
   "version": "3.10.12"
  }
 },
 "nbformat": 4,
 "nbformat_minor": 2
}
